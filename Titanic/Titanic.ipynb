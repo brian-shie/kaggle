{
 "cells": [
  {
   "cell_type": "markdown",
   "metadata": {},
   "source": [
    "# Introduction\n",
    "\n",
    "### Competition: [Titanic Kaggle](https://www.kaggle.com/c/titanic/overview)\n",
    "\n",
    "This is notebook contains a simple data science project framework, for learning and portfolio construction purposes."
   ]
  },
  {
   "cell_type": "markdown",
   "metadata": {},
   "source": [
    "# Libs"
   ]
  },
  {
   "cell_type": "code",
   "execution_count": 1,
   "metadata": {},
   "outputs": [],
   "source": [
    "import numpy as np # linear algebra\n",
    "import pandas as pd # data processing, CSV file I/O (e.g. pd.read_csv)\n",
    "import os\n",
    "from sklearn.pipeline import Pipeline\n",
    "\n",
    "import tensorflow as tf\n",
    "\n",
    "from tensorflow.keras import layers\n",
    "from tensorflow.keras.layers import Input, Dense, BatchNormalization, Dropout, Embedding,  Flatten\n",
    "from tensorflow.keras.models import Model, Sequential\n",
    "from tensorflow.keras.callbacks import ReduceLROnPlateau, EarlyStopping\n",
    "from tensorflow.keras.optimizers import RMSprop\n",
    "\n",
    "from tensorflow.data import Dataset\n",
    "from sklearn.model_selection import train_test_split, KFold\n",
    "from sklearn.preprocessing import QuantileTransformer,  KBinsDiscretizer, StandardScaler\n",
    "from tensorflow import keras\n",
    "from sklearn import metrics\n",
    "from sklearn.impute import SimpleImputer\n",
    "\n",
    "from sklearn.model_selection import GridSearchCV, cross_val_score\n",
    "\n",
    "import matplotlib.pyplot as plt\n",
    "\n",
    "import optuna"
   ]
  },
  {
   "cell_type": "markdown",
   "metadata": {},
   "source": [
    "# Load Dataset\n",
    "\n",
    "This step we simply get our data to our working environment. Because we are not dealing with live data, a simple pandas usage is enough."
   ]
  },
  {
   "cell_type": "code",
   "execution_count": 2,
   "metadata": {},
   "outputs": [
    {
     "name": "stdout",
     "output_type": "stream",
     "text": [
      "Wall time: 13 ms\n"
     ]
    }
   ],
   "source": [
    "%%time\n",
    "\n",
    "train = pd.read_csv(\"data/train.csv\")\n",
    "test = pd.read_csv(\"data/test.csv\")"
   ]
  },
  {
   "cell_type": "markdown",
   "metadata": {},
   "source": [
    "# Preprocessing"
   ]
  },
  {
   "cell_type": "code",
   "execution_count": 3,
   "metadata": {},
   "outputs": [
    {
     "name": "stdout",
     "output_type": "stream",
     "text": [
      "Wall time: 5.99 ms\n"
     ]
    }
   ],
   "source": [
    "%%time\n",
    "\n",
    "train['Survived'] = train['Survived'].astype(str)\n",
    "\n",
    "train['n_missing'] = train.isna().sum(axis=1)\n",
    "test['n_missing'] = test.isna().sum(axis=1)\n",
    "\n",
    "test['Pclass']= test['Pclass'].astype(str)\n",
    "test['Pclass']= test['Pclass'].astype(str)\n",
    "\n",
    "features = [col for col in train.columns if col not in ['Survived', 'PassengerId']]"
   ]
  },
  {
   "cell_type": "markdown",
   "metadata": {},
   "source": [
    "### *Name* Column "
   ]
  },
  {
   "cell_type": "code",
   "execution_count": 4,
   "metadata": {},
   "outputs": [
    {
     "name": "stdout",
     "output_type": "stream",
     "text": [
      "891\n",
      "['Braund, Mr. Owen Harris'\n",
      " 'Cumings, Mrs. John Bradley (Florence Briggs Thayer)'\n",
      " 'Heikkinen, Miss. Laina' 'Futrelle, Mrs. Jacques Heath (Lily May Peel)'\n",
      " 'Allen, Mr. William Henry']\n"
     ]
    }
   ],
   "source": [
    "print(len(train['Name'].unique()))\n",
    "print(train['Name'].unique()[0:5])"
   ]
  },
  {
   "cell_type": "markdown",
   "metadata": {},
   "source": [
    "**With the *Name* column the way it is, we can't use it in our models.** The reason is because as every person has a unique name, then the name has no information about our variable of interest (*Survived*).\n",
    "\n",
    "One thing we can see in this column is the presence of titles. **We can probably assume different survival rates when considering different titles.**"
   ]
  },
  {
   "cell_type": "code",
   "execution_count": 5,
   "metadata": {},
   "outputs": [
    {
     "name": "stdout",
     "output_type": "stream",
     "text": [
      "891\n"
     ]
    }
   ],
   "source": [
    "name_and_title = [name.split(\", \")[1] for name in train['Name']]\n",
    "title = [name.split(\".\")[0] for name in name_and_title]\n",
    "print(len(title))"
   ]
  },
  {
   "cell_type": "code",
   "execution_count": 6,
   "metadata": {
    "scrolled": true
   },
   "outputs": [
    {
     "name": "stdout",
     "output_type": "stream",
     "text": [
      "17\n"
     ]
    },
    {
     "data": {
      "text/plain": [
       "array(['Capt', 'Col', 'Don', 'Dr', 'Jonkheer', 'Lady', 'Major', 'Master',\n",
       "       'Miss', 'Mlle', 'Mme', 'Mr', 'Mrs', 'Ms', 'Rev', 'Sir',\n",
       "       'the Countess'], dtype='<U12')"
      ]
     },
     "execution_count": 6,
     "metadata": {},
     "output_type": "execute_result"
    }
   ],
   "source": [
    "print(len(np.unique(title)))\n",
    "np.unique(title)"
   ]
  },
  {
   "cell_type": "code",
   "execution_count": 7,
   "metadata": {},
   "outputs": [],
   "source": [
    "train['Name'] = title\n",
    "test['Name'] = [name.split(\".\")[0] for name in [name.split(\", \")[1] for name in test['Name']]] "
   ]
  },
  {
   "cell_type": "code",
   "execution_count": 8,
   "metadata": {},
   "outputs": [],
   "source": [
    "train = pd.concat([train, pd.get_dummies(train['Name']).filter(['Miss', 'Mr', 'Mrs', 'Ms'])], axis = 1)\n",
    "train.drop('Name', axis = 1, inplace = True)\n",
    "\n",
    "test = pd.concat([test, pd.get_dummies(test['Name']).filter(['Miss', 'Mr', 'Mrs', 'Ms'])], axis = 1)\n",
    "test.drop('Name', axis = 1, inplace = True)"
   ]
  },
  {
   "cell_type": "markdown",
   "metadata": {},
   "source": [
    "### Dealing with the Ticket feature"
   ]
  },
  {
   "cell_type": "code",
   "execution_count": 9,
   "metadata": {},
   "outputs": [
    {
     "data": {
      "text/plain": [
       "0           A/5 21171\n",
       "1            PC 17599\n",
       "2    STON/O2. 3101282\n",
       "3              113803\n",
       "4              373450\n",
       "Name: Ticket, dtype: object"
      ]
     },
     "execution_count": 9,
     "metadata": {},
     "output_type": "execute_result"
    }
   ],
   "source": [
    "train['Ticket'][0:5]"
   ]
  },
  {
   "cell_type": "markdown",
   "metadata": {},
   "source": [
    "**One hypothesis we can make** is that the numbers don't contain any relevant information and the prefix may contain relevant information."
   ]
  },
  {
   "cell_type": "code",
   "execution_count": 10,
   "metadata": {},
   "outputs": [
    {
     "data": {
      "text/plain": [
       "['A/5', 'PC', 'STON/O2.', '113803', '373450']"
      ]
     },
     "execution_count": 10,
     "metadata": {},
     "output_type": "execute_result"
    }
   ],
   "source": [
    "ticket_prefixes = [ticket.split()[0] for ticket in train['Ticket']]\n",
    "ticket_prefixes[0:5]"
   ]
  },
  {
   "cell_type": "code",
   "execution_count": 11,
   "metadata": {},
   "outputs": [],
   "source": [
    "for i in range(len(ticket_prefixes)):\n",
    "    try: \n",
    "        int(ticket_prefixes[i])\n",
    "        ticket_prefixes[i] = \"number_only\"\n",
    "    \n",
    "    except Exception:\n",
    "        pass"
   ]
  },
  {
   "cell_type": "code",
   "execution_count": 12,
   "metadata": {},
   "outputs": [
    {
     "data": {
      "text/plain": [
       "['A/5', 'PC', 'STON/O2.', 'number_only', 'number_only']"
      ]
     },
     "execution_count": 12,
     "metadata": {},
     "output_type": "execute_result"
    }
   ],
   "source": [
    "ticket_prefixes[0:5]"
   ]
  },
  {
   "cell_type": "code",
   "execution_count": 13,
   "metadata": {
    "scrolled": true
   },
   "outputs": [
    {
     "name": "stdout",
     "output_type": "stream",
     "text": [
      "44\n"
     ]
    },
    {
     "data": {
      "text/plain": [
       "array(['A./5.', 'A.5.', 'A/4', 'A/4.', 'A/5', 'A/5.', 'A/S', 'A4.', 'C',\n",
       "       'C.A.', 'C.A./SOTON', 'CA', 'CA.', 'F.C.', 'F.C.C.', 'Fa', 'LINE',\n",
       "       'P/PP', 'PC', 'PP', 'S.C./A.4.', 'S.C./PARIS', 'S.O./P.P.',\n",
       "       'S.O.C.', 'S.O.P.', 'S.P.', 'S.W./PP', 'SC', 'SC/AH', 'SC/PARIS',\n",
       "       'SC/Paris', 'SCO/W', 'SO/C', 'SOTON/O.Q.', 'SOTON/O2', 'SOTON/OQ',\n",
       "       'STON/O', 'STON/O2.', 'SW/PP', 'W./C.', 'W.E.P.', 'W/C', 'WE/P',\n",
       "       'number_only'], dtype='<U11')"
      ]
     },
     "execution_count": 13,
     "metadata": {},
     "output_type": "execute_result"
    }
   ],
   "source": [
    "print(len(np.unique(ticket_prefixes)))\n",
    "np.unique(ticket_prefixes)"
   ]
  },
  {
   "cell_type": "code",
   "execution_count": 14,
   "metadata": {},
   "outputs": [],
   "source": [
    "ticket_prefixes = [s.replace(\".\", \"\") for s in ticket_prefixes]\n",
    "ticket_prefixes = [s.replace(\",\", \"\") for s in ticket_prefixes]\n",
    "ticket_prefixes = [s.upper() for s in ticket_prefixes]"
   ]
  },
  {
   "cell_type": "code",
   "execution_count": 15,
   "metadata": {
    "scrolled": false
   },
   "outputs": [
    {
     "name": "stdout",
     "output_type": "stream",
     "text": [
      "34\n"
     ]
    },
    {
     "data": {
      "text/plain": [
       "array(['A/4', 'A/5', 'A/S', 'A4', 'A5', 'C', 'CA', 'CA/SOTON', 'FA', 'FC',\n",
       "       'FCC', 'LINE', 'NUMBER_ONLY', 'P/PP', 'PC', 'PP', 'SC', 'SC/A4',\n",
       "       'SC/AH', 'SC/PARIS', 'SCO/W', 'SO/C', 'SO/PP', 'SOC', 'SOP',\n",
       "       'SOTON/O2', 'SOTON/OQ', 'SP', 'STON/O', 'STON/O2', 'SW/PP', 'W/C',\n",
       "       'WE/P', 'WEP'], dtype='<U11')"
      ]
     },
     "execution_count": 15,
     "metadata": {},
     "output_type": "execute_result"
    }
   ],
   "source": [
    "print(len(np.unique(ticket_prefixes)))\n",
    "np.unique(ticket_prefixes)"
   ]
  },
  {
   "cell_type": "code",
   "execution_count": 16,
   "metadata": {},
   "outputs": [],
   "source": [
    "test_ticket_prefixes = [ticket.split()[0] for ticket in test['Ticket']]\n",
    "for i in range(len(test_ticket_prefixes)):\n",
    "    try: \n",
    "        int(test_ticket_prefixes[i])\n",
    "        test_ticket_prefixes[i] = \"number_only\"\n",
    "    \n",
    "    except Exception:\n",
    "        pass\n",
    "\n",
    "test_ticket_prefixes = [s.replace(\".\", \"\") for s in test_ticket_prefixes]\n",
    "test_ticket_prefixes = [s.replace(\",\", \"\") for s in test_ticket_prefixes]\n",
    "test_ticket_prefixes = [s.upper() for s in test_ticket_prefixes]"
   ]
  },
  {
   "cell_type": "code",
   "execution_count": 17,
   "metadata": {},
   "outputs": [],
   "source": [
    "train['Ticket'] = ticket_prefixes\n",
    "test['Ticket'] = test_ticket_prefixes"
   ]
  },
  {
   "cell_type": "code",
   "execution_count": 18,
   "metadata": {},
   "outputs": [],
   "source": [
    "train = pd.concat([train, pd.get_dummies(train['Ticket']).filter(['PC', 'CA', 'NUMBER_ONLY'])], axis = 1)\n",
    "train.drop('Ticket', axis = 1, inplace = True)\n",
    "\n",
    "test = pd.concat([test, pd.get_dummies(test['Ticket']).filter(['PC', 'CA', 'NUMBER_ONLY'])], axis = 1)\n",
    "test.drop('Ticket', axis = 1, inplace = True)"
   ]
  },
  {
   "cell_type": "markdown",
   "metadata": {},
   "source": [
    "### Dealing with the Cabin feature"
   ]
  },
  {
   "cell_type": "markdown",
   "metadata": {},
   "source": [
    "Same as the *Ticket* feature. I will assume that the number doesn't have relevant information."
   ]
  },
  {
   "cell_type": "code",
   "execution_count": 19,
   "metadata": {},
   "outputs": [
    {
     "data": {
      "text/plain": [
       "array([nan, 'C85', 'C123', 'E46', 'G6', 'C103', 'D56', 'A6',\n",
       "       'C23 C25 C27', 'B78', 'D33', 'B30', 'C52', 'B28', 'C83', 'F33',\n",
       "       'F G73', 'E31', 'A5', 'D10 D12', 'D26', 'C110', 'B58 B60', 'E101',\n",
       "       'F E69', 'D47', 'B86', 'F2', 'C2', 'E33', 'B19', 'A7', 'C49', 'F4',\n",
       "       'A32', 'B4', 'B80', 'A31', 'D36', 'D15', 'C93', 'C78', 'D35',\n",
       "       'C87', 'B77', 'E67', 'B94', 'C125', 'C99', 'C118', 'D7', 'A19',\n",
       "       'B49', 'D', 'C22 C26', 'C106', 'C65', 'E36', 'C54',\n",
       "       'B57 B59 B63 B66', 'C7', 'E34', 'C32', 'B18', 'C124', 'C91', 'E40',\n",
       "       'T', 'C128', 'D37', 'B35', 'E50', 'C82', 'B96 B98', 'E10', 'E44',\n",
       "       'A34', 'C104', 'C111', 'C92', 'E38', 'D21', 'E12', 'E63', 'A14',\n",
       "       'B37', 'C30', 'D20', 'B79', 'E25', 'D46', 'B73', 'C95', 'B38',\n",
       "       'B39', 'B22', 'C86', 'C70', 'A16', 'C101', 'C68', 'A10', 'E68',\n",
       "       'B41', 'A20', 'D19', 'D50', 'D9', 'A23', 'B50', 'A26', 'D48',\n",
       "       'E58', 'C126', 'B71', 'B51 B53 B55', 'D49', 'B5', 'B20', 'F G63',\n",
       "       'C62 C64', 'E24', 'C90', 'C45', 'E8', 'B101', 'D45', 'C46', 'D30',\n",
       "       'E121', 'D11', 'E77', 'F38', 'B3', 'D6', 'B82 B84', 'D17', 'A36',\n",
       "       'B102', 'B69', 'E49', 'C47', 'D28', 'E17', 'A24', 'C50', 'B42',\n",
       "       'C148'], dtype=object)"
      ]
     },
     "execution_count": 19,
     "metadata": {},
     "output_type": "execute_result"
    }
   ],
   "source": [
    "train['Cabin'].unique()"
   ]
  },
  {
   "cell_type": "code",
   "execution_count": 20,
   "metadata": {},
   "outputs": [],
   "source": [
    "cabin_prefix = []\n",
    "for i in range(len(train['Cabin'])):\n",
    "    try:\n",
    "        cabin_prefix.append(train['Cabin'][i][0: 1: 1])\n",
    "    \n",
    "    except:\n",
    "        cabin_prefix.append(train['Cabin'][i])        "
   ]
  },
  {
   "cell_type": "code",
   "execution_count": 21,
   "metadata": {},
   "outputs": [
    {
     "data": {
      "text/plain": [
       "array(['A', 'B', 'C', 'D', 'E', 'F', 'G', 'T', 'nan'], dtype='<U32')"
      ]
     },
     "execution_count": 21,
     "metadata": {},
     "output_type": "execute_result"
    }
   ],
   "source": [
    "np.unique(cabin_prefix)"
   ]
  },
  {
   "cell_type": "code",
   "execution_count": 22,
   "metadata": {},
   "outputs": [],
   "source": [
    "cabin_test_prefix = []\n",
    "for i in range(len(test['Cabin'])):\n",
    "    try:\n",
    "        cabin_test_prefix.append(test['Cabin'][i][0: 1: 1])\n",
    "    \n",
    "    except:\n",
    "        cabin_test_prefix.append(test['Cabin'][i])"
   ]
  },
  {
   "cell_type": "code",
   "execution_count": 23,
   "metadata": {},
   "outputs": [],
   "source": [
    "train['Cabin'] = cabin_prefix\n",
    "test['Cabin'] = cabin_test_prefix"
   ]
  },
  {
   "cell_type": "code",
   "execution_count": 24,
   "metadata": {},
   "outputs": [],
   "source": [
    "train = pd.concat([train, pd.get_dummies(train['Cabin']).filter(['NaN', 'B', 'C'])], axis = 1)\n",
    "train.drop('Cabin', axis = 1, inplace = True)\n",
    "\n",
    "test = pd.concat([test, pd.get_dummies(test['Cabin']).filter(['NaN', 'B', 'C'])], axis = 1)\n",
    "test.drop('Cabin', axis = 1, inplace = True)"
   ]
  },
  {
   "cell_type": "markdown",
   "metadata": {},
   "source": [
    "## Pclass, Sex and Embarked variables"
   ]
  },
  {
   "cell_type": "code",
   "execution_count": 25,
   "metadata": {},
   "outputs": [],
   "source": [
    "train = pd.get_dummies(train, columns = ['Pclass', 'Sex', 'Embarked'])\n",
    "test = pd.get_dummies(test, columns = ['Pclass', 'Sex', 'Embarked'])"
   ]
  },
  {
   "cell_type": "markdown",
   "metadata": {},
   "source": [
    "## Imputer and Scaler"
   ]
  },
  {
   "cell_type": "code",
   "execution_count": 26,
   "metadata": {},
   "outputs": [
    {
     "name": "stdout",
     "output_type": "stream",
     "text": [
      "Wall time: 12 ms\n"
     ]
    }
   ],
   "source": [
    "%%time\n",
    "\n",
    "features = [col for col in train.columns if col not in ['Survived', 'PassengerId']]\n",
    "numerical_features = [col for col in features if col in ['Age', 'SibSp', 'Parch', 'Fare', 'n_missing']]\n",
    "\n",
    "pipe = Pipeline([\n",
    "        ('imputer', SimpleImputer(strategy='mean',missing_values=np.nan)),\n",
    "        (\"scaler\", StandardScaler())\n",
    "        ])\n",
    "\n",
    "train[numerical_features] = pipe.fit_transform(train[numerical_features])\n",
    "test[numerical_features] = pipe.transform(test[numerical_features])\n",
    "\n",
    "train['Survived'] = train['Survived'].astype(int)"
   ]
  },
  {
   "cell_type": "markdown",
   "metadata": {},
   "source": [
    "# Clustering variable"
   ]
  },
  {
   "cell_type": "code",
   "execution_count": 28,
   "metadata": {
    "scrolled": true
   },
   "outputs": [
    {
     "name": "stdout",
     "output_type": "stream",
     "text": [
      "k:  2  Inertia:  5466.229288766526\n",
      "k:  3  Inertia:  4521.282674654894\n",
      "k:  4  Inertia:  4076.124018557896\n",
      "k:  5  Inertia:  3711.1016161599805\n",
      "k:  6  Inertia:  3373.365556425289\n",
      "k:  7  Inertia:  3126.372478806292\n",
      "k:  8  Inertia:  2928.3450623741946\n",
      "k:  9  Inertia:  2758.049769098987\n",
      "k:  10  Inertia:  2637.054074317592\n",
      "k:  11  Inertia:  2514.2071347717088\n",
      "k:  12  Inertia:  2401.2740571488903\n",
      "k:  13  Inertia:  2306.8478962346035\n",
      "k:  14  Inertia:  2195.715024063293\n",
      "k:  15  Inertia:  2115.784425542569\n",
      "k:  16  Inertia:  2042.9573650967284\n",
      "k:  17  Inertia:  1982.4949209182926\n",
      "k:  18  Inertia:  1921.5089443552351\n",
      "k:  19  Inertia:  1872.4848585401296\n"
     ]
    }
   ],
   "source": [
    "from sklearn.cluster import KMeans, DBSCAN\n",
    "\n",
    "best_k = float('inf')\n",
    "\n",
    "inertia_values = []\n",
    "for k in range(2, 20):\n",
    "    kmeans = KMeans(n_clusters = k, n_init = 100, max_iter = 500, copy_x = False)\n",
    "    kmeans.fit(train[features])\n",
    "    \n",
    "    if k < best_k:\n",
    "        best_k = k\n",
    "    \n",
    "    inertia_values.append(kmeans.inertia_)\n",
    "    print(\"k: \", k , \" Inertia: \", kmeans.inertia_)"
   ]
  },
  {
   "cell_type": "code",
   "execution_count": 30,
   "metadata": {},
   "outputs": [
    {
     "data": {
      "image/png": "[encoded data removed]",
      "text/plain": [
       "<Figure size 432x288 with 1 Axes>"
      ]
     },
     "metadata": {
      "needs_background": "light"
     },
     "output_type": "display_data"
    }
   ],
   "source": [
    "plt.plot(range(2, 20), inertia_values); # K = 3"
   ]
  },
  {
   "cell_type": "code",
   "execution_count": 31,
   "metadata": {},
   "outputs": [
    {
     "data": {
      "text/plain": [
       "array([[3.25188637, 1.45776238, 2.88542032],\n",
       "       [2.03421164, 3.75795147, 4.20923063],\n",
       "       [3.18355936, 1.89172458, 3.16197695],\n",
       "       ...,\n",
       "       [4.46843718, 3.34706176, 2.42696312],\n",
       "       [2.24994573, 2.87117162, 4.07855735],\n",
       "       [3.14494331, 1.41225138, 3.59888404]])"
      ]
     },
     "execution_count": 31,
     "metadata": {},
     "output_type": "execute_result"
    }
   ],
   "source": [
    "kmeans = KMeans(n_clusters = 3, n_init = 100, max_iter = 500, copy_x = False)\n",
    "kmeans.fit_transform(train[features])"
   ]
  },
  {
   "cell_type": "code",
   "execution_count": 42,
   "metadata": {},
   "outputs": [],
   "source": [
    "kmeans = KMeans(n_clusters = 3, n_init = 100, max_iter = 500, copy_x = False)\n",
    "kmeans.fit_transform(train[features])\n",
    "train[['cluster_0', 'cluster_1', 'cluster_2']] =  pd.get_dummies(kmeans.labels_)\n",
    "\n",
    "kmeans.transform(test[features])\n",
    "test[['cluster_0', 'cluster_1', 'cluster_2']] =  pd.get_dummies(kmeans.predict(test[features]))\n",
    "\n",
    "features = [col for col in train.columns if col not in ['Survived', 'PassengerId']]"
   ]
  },
  {
   "cell_type": "markdown",
   "metadata": {},
   "source": [
    "# Base Models"
   ]
  },
  {
   "cell_type": "markdown",
   "metadata": {},
   "source": [
    "## Light GBM"
   ]
  },
  {
   "cell_type": "code",
   "execution_count": 44,
   "metadata": {},
   "outputs": [],
   "source": [
    "import lightgbm as lgb\n",
    "\n",
    "def objective(trial):\n",
    "    \n",
    "    param = {\n",
    "        'objective': 'binary',\n",
    "        'metric': 'binary_logloss',\n",
    "        'verbosity': -1,\n",
    "        'boosting_type': 'gbdt',\n",
    "        'lambda_l1': trial.suggest_float('lambda_l1', 1e-8, 10.0, log=True),\n",
    "        'lambda_l2': trial.suggest_float('lambda_l2', 1e-8, 10.0, log=True),\n",
    "        'num_leaves': trial.suggest_int('num_leaves', 2, 32),\n",
    "        'feature_fraction': trial.suggest_float('feature_fraction', 0.4, 1.0),\n",
    "        'bagging_fraction': trial.suggest_float('bagging_fraction', 0.4, 1.0),\n",
    "        'bagging_freq': trial.suggest_int('bagging_freq', 1, 7),\n",
    "        'min_child_samples': trial.suggest_int('min_child_samples', 5, 100),\n",
    "    }\n",
    "    \n",
    "    kf = KFold(5, shuffle = True, random_state = 0)\n",
    "    kf.split(train)\n",
    "    \n",
    "    accuracy_scores = []\n",
    "    \n",
    "    for train_ix, test_ix in kf.split(train):\n",
    "        dtrain = lgb.Dataset(train[features].iloc[train_ix,:], label = train['Survived'].iloc[train_ix])\n",
    "        \n",
    "        gbm = lgb.train(param, dtrain)\n",
    "        preds = np.rint(gbm.predict(train[features].iloc[test_ix]))\n",
    "        \n",
    "        accuracy_scores.append(metrics.accuracy_score(train['Survived'].iloc[test_ix], preds))\n",
    "        \n",
    "    return np.mean(accuracy_scores)\n",
    "    \n",
    "\n",
    "# # 3. Create a study object and optimize the objective function.\n",
    "# study = optuna.create_study(direction='maximize')\n",
    "# study.optimize(objective, n_trials=250)"
   ]
  },
  {
   "cell_type": "code",
   "execution_count": null,
   "metadata": {},
   "outputs": [],
   "source": [
    "'''\n",
    "{'lambda_l1': 5.5693205859882666e-08,\n",
    " 'lambda_l2': 0.0029379573632802307,\n",
    " 'num_leaves': 218,\n",
    " 'feature_fraction': 0.4449630393801182,\n",
    " 'bagging_fraction': 0.6190711470746258,\n",
    " 'bagging_freq': 1,\n",
    " 'min_child_samples': 24}\n",
    "'''"
   ]
  },
  {
   "cell_type": "code",
   "execution_count": 49,
   "metadata": {
    "collapsed": true
   },
   "outputs": [
    {
     "name": "stdout",
     "output_type": "stream",
     "text": [
      "[LightGBM] [Warning] Auto-choosing row-wise multi-threading, the overhead of testing was 0.000969 seconds.\n",
      "You can set `force_row_wise=true` to remove the overhead.\n",
      "And if memory is not enough, you can set `force_col_wise=true`.\n",
      "[LightGBM] [Info] Total Bins 225\n",
      "[LightGBM] [Info] Number of data points in the train set: 668, number of used features: 21\n",
      "[LightGBM] [Info] Start training from score 0.386228\n",
      "[LightGBM] [Warning] No further splits with positive gain, best gain: -inf\n",
      "[LightGBM] [Warning] No further splits with positive gain, best gain: -inf\n",
      "[LightGBM] [Warning] No further splits with positive gain, best gain: -inf\n",
      "[LightGBM] [Warning] No further splits with positive gain, best gain: -inf\n",
      "[LightGBM] [Warning] No further splits with positive gain, best gain: -inf\n",
      "[LightGBM] [Warning] No further splits with positive gain, best gain: -inf\n",
      "[LightGBM] [Warning] No further splits with positive gain, best gain: -inf\n",
      "[LightGBM] [Warning] No further splits with positive gain, best gain: -inf\n",
      "[LightGBM] [Warning] No further splits with positive gain, best gain: -inf\n",
      "[LightGBM] [Warning] No further splits with positive gain, best gain: -inf\n",
      "[LightGBM] [Warning] No further splits with positive gain, best gain: -inf\n",
      "[LightGBM] [Warning] No further splits with positive gain, best gain: -inf\n",
      "[LightGBM] [Warning] No further splits with positive gain, best gain: -inf\n",
      "[LightGBM] [Warning] No further splits with positive gain, best gain: -inf\n",
      "[LightGBM] [Warning] No further splits with positive gain, best gain: -inf\n",
      "[LightGBM] [Warning] No further splits with positive gain, best gain: -inf\n",
      "[LightGBM] [Warning] No further splits with positive gain, best gain: -inf\n",
      "[LightGBM] [Warning] No further splits with positive gain, best gain: -inf\n",
      "[LightGBM] [Warning] No further splits with positive gain, best gain: -inf\n",
      "[LightGBM] [Warning] No further splits with positive gain, best gain: -inf\n",
      "[LightGBM] [Warning] No further splits with positive gain, best gain: -inf\n",
      "[LightGBM] [Warning] No further splits with positive gain, best gain: -inf\n",
      "[LightGBM] [Warning] No further splits with positive gain, best gain: -inf\n",
      "[LightGBM] [Warning] No further splits with positive gain, best gain: -inf\n",
      "[LightGBM] [Warning] No further splits with positive gain, best gain: -inf\n",
      "[LightGBM] [Warning] No further splits with positive gain, best gain: -inf\n",
      "[LightGBM] [Warning] No further splits with positive gain, best gain: -inf\n",
      "[LightGBM] [Warning] No further splits with positive gain, best gain: -inf\n",
      "[LightGBM] [Warning] No further splits with positive gain, best gain: -inf\n",
      "[LightGBM] [Warning] No further splits with positive gain, best gain: -inf\n",
      "[LightGBM] [Warning] No further splits with positive gain, best gain: -inf\n",
      "[LightGBM] [Warning] No further splits with positive gain, best gain: -inf\n",
      "[LightGBM] [Warning] No further splits with positive gain, best gain: -inf\n",
      "[LightGBM] [Warning] No further splits with positive gain, best gain: -inf\n",
      "[LightGBM] [Warning] No further splits with positive gain, best gain: -inf\n",
      "[LightGBM] [Warning] No further splits with positive gain, best gain: -inf\n",
      "[LightGBM] [Warning] No further splits with positive gain, best gain: -inf\n",
      "[LightGBM] [Warning] No further splits with positive gain, best gain: -inf\n",
      "[LightGBM] [Warning] No further splits with positive gain, best gain: -inf\n",
      "[LightGBM] [Warning] No further splits with positive gain, best gain: -inf\n",
      "[LightGBM] [Warning] No further splits with positive gain, best gain: -inf\n",
      "[LightGBM] [Warning] No further splits with positive gain, best gain: -inf\n",
      "[LightGBM] [Warning] No further splits with positive gain, best gain: -inf\n",
      "[LightGBM] [Warning] No further splits with positive gain, best gain: -inf\n",
      "[LightGBM] [Warning] No further splits with positive gain, best gain: -inf\n",
      "[LightGBM] [Warning] No further splits with positive gain, best gain: -inf\n",
      "[LightGBM] [Warning] No further splits with positive gain, best gain: -inf\n",
      "[LightGBM] [Warning] No further splits with positive gain, best gain: -inf\n",
      "[LightGBM] [Warning] No further splits with positive gain, best gain: -inf\n",
      "[LightGBM] [Warning] No further splits with positive gain, best gain: -inf\n",
      "[LightGBM] [Warning] No further splits with positive gain, best gain: -inf\n",
      "[LightGBM] [Warning] No further splits with positive gain, best gain: -inf\n",
      "[LightGBM] [Warning] No further splits with positive gain, best gain: -inf\n",
      "[LightGBM] [Warning] No further splits with positive gain, best gain: -inf\n",
      "[LightGBM] [Warning] No further splits with positive gain, best gain: -inf\n",
      "[LightGBM] [Warning] No further splits with positive gain, best gain: -inf\n",
      "[LightGBM] [Warning] No further splits with positive gain, best gain: -inf\n",
      "[LightGBM] [Warning] No further splits with positive gain, best gain: -inf\n",
      "[LightGBM] [Warning] No further splits with positive gain, best gain: -inf\n",
      "[LightGBM] [Warning] No further splits with positive gain, best gain: -inf\n",
      "[LightGBM] [Warning] No further splits with positive gain, best gain: -inf\n",
      "[LightGBM] [Warning] No further splits with positive gain, best gain: -inf\n",
      "[LightGBM] [Warning] No further splits with positive gain, best gain: -inf\n",
      "[LightGBM] [Warning] No further splits with positive gain, best gain: -inf\n",
      "[LightGBM] [Warning] No further splits with positive gain, best gain: -inf\n",
      "[LightGBM] [Warning] No further splits with positive gain, best gain: -inf\n",
      "[LightGBM] [Warning] No further splits with positive gain, best gain: -inf\n",
      "[LightGBM] [Warning] No further splits with positive gain, best gain: -inf\n",
      "[LightGBM] [Warning] No further splits with positive gain, best gain: -inf\n",
      "[LightGBM] [Warning] No further splits with positive gain, best gain: -inf\n",
      "[LightGBM] [Warning] No further splits with positive gain, best gain: -inf\n",
      "[LightGBM] [Warning] No further splits with positive gain, best gain: -inf\n",
      "[LightGBM] [Warning] No further splits with positive gain, best gain: -inf\n",
      "[LightGBM] [Warning] No further splits with positive gain, best gain: -inf\n",
      "[LightGBM] [Warning] No further splits with positive gain, best gain: -inf\n",
      "[LightGBM] [Warning] No further splits with positive gain, best gain: -inf\n",
      "[LightGBM] [Warning] No further splits with positive gain, best gain: -inf\n",
      "[LightGBM] [Warning] No further splits with positive gain, best gain: -inf\n",
      "[LightGBM] [Warning] No further splits with positive gain, best gain: -inf\n",
      "[LightGBM] [Warning] No further splits with positive gain, best gain: -inf\n",
      "[LightGBM] [Warning] No further splits with positive gain, best gain: -inf\n",
      "[LightGBM] [Warning] No further splits with positive gain, best gain: -inf\n",
      "[LightGBM] [Warning] No further splits with positive gain, best gain: -inf\n",
      "[LightGBM] [Warning] No further splits with positive gain, best gain: -inf\n",
      "[LightGBM] [Warning] No further splits with positive gain, best gain: -inf\n",
      "[LightGBM] [Warning] No further splits with positive gain, best gain: -inf\n",
      "[LightGBM] [Warning] No further splits with positive gain, best gain: -inf\n",
      "[LightGBM] [Warning] No further splits with positive gain, best gain: -inf\n",
      "[LightGBM] [Warning] No further splits with positive gain, best gain: -inf\n",
      "[LightGBM] [Warning] No further splits with positive gain, best gain: -inf\n",
      "[LightGBM] [Warning] No further splits with positive gain, best gain: -inf\n",
      "[LightGBM] [Warning] No further splits with positive gain, best gain: -inf\n",
      "[LightGBM] [Warning] No further splits with positive gain, best gain: -inf\n",
      "[LightGBM] [Warning] No further splits with positive gain, best gain: -inf\n",
      "[LightGBM] [Warning] No further splits with positive gain, best gain: -inf\n",
      "[LightGBM] [Warning] No further splits with positive gain, best gain: -inf\n",
      "[LightGBM] [Warning] No further splits with positive gain, best gain: -inf\n",
      "[LightGBM] [Warning] No further splits with positive gain, best gain: -inf\n",
      "[LightGBM] [Warning] No further splits with positive gain, best gain: -inf\n",
      "[LightGBM] [Warning] No further splits with positive gain, best gain: -inf\n",
      "[LightGBM] [Warning] Auto-choosing row-wise multi-threading, the overhead of testing was 0.000166 seconds.\n",
      "You can set `force_row_wise=true` to remove the overhead.\n",
      "And if memory is not enough, you can set `force_col_wise=true`.\n",
      "[LightGBM] [Info] Total Bins 225\n",
      "[LightGBM] [Info] Number of data points in the train set: 668, number of used features: 21\n",
      "[LightGBM] [Info] Start training from score 0.393713\n",
      "[LightGBM] [Warning] No further splits with positive gain, best gain: -inf\n",
      "[LightGBM] [Warning] No further splits with positive gain, best gain: -inf\n",
      "[LightGBM] [Warning] No further splits with positive gain, best gain: -inf\n",
      "[LightGBM] [Warning] No further splits with positive gain, best gain: -inf\n",
      "[LightGBM] [Warning] No further splits with positive gain, best gain: -inf\n",
      "[LightGBM] [Warning] No further splits with positive gain, best gain: -inf\n",
      "[LightGBM] [Warning] No further splits with positive gain, best gain: -inf\n",
      "[LightGBM] [Warning] No further splits with positive gain, best gain: -inf\n",
      "[LightGBM] [Warning] No further splits with positive gain, best gain: -inf\n",
      "[LightGBM] [Warning] No further splits with positive gain, best gain: -inf\n",
      "[LightGBM] [Warning] No further splits with positive gain, best gain: -inf\n",
      "[LightGBM] [Warning] No further splits with positive gain, best gain: -inf\n",
      "[LightGBM] [Warning] No further splits with positive gain, best gain: -inf\n",
      "[LightGBM] [Warning] No further splits with positive gain, best gain: -inf\n",
      "[LightGBM] [Warning] No further splits with positive gain, best gain: -inf\n",
      "[LightGBM] [Warning] No further splits with positive gain, best gain: -inf\n",
      "[LightGBM] [Warning] No further splits with positive gain, best gain: -inf\n",
      "[LightGBM] [Warning] No further splits with positive gain, best gain: -inf\n",
      "[LightGBM] [Warning] No further splits with positive gain, best gain: -inf\n",
      "[LightGBM] [Warning] No further splits with positive gain, best gain: -inf\n",
      "[LightGBM] [Warning] No further splits with positive gain, best gain: -inf\n",
      "[LightGBM] [Warning] No further splits with positive gain, best gain: -inf\n",
      "[LightGBM] [Warning] No further splits with positive gain, best gain: -inf\n",
      "[LightGBM] [Warning] No further splits with positive gain, best gain: -inf\n",
      "[LightGBM] [Warning] No further splits with positive gain, best gain: -inf\n",
      "[LightGBM] [Warning] No further splits with positive gain, best gain: -inf\n",
      "[LightGBM] [Warning] No further splits with positive gain, best gain: -inf\n",
      "[LightGBM] [Warning] No further splits with positive gain, best gain: -inf\n",
      "[LightGBM] [Warning] No further splits with positive gain, best gain: -inf\n",
      "[LightGBM] [Warning] No further splits with positive gain, best gain: -inf\n",
      "[LightGBM] [Warning] No further splits with positive gain, best gain: -inf\n",
      "[LightGBM] [Warning] No further splits with positive gain, best gain: -inf\n",
      "[LightGBM] [Warning] No further splits with positive gain, best gain: -inf\n",
      "[LightGBM] [Warning] No further splits with positive gain, best gain: -inf\n",
      "[LightGBM] [Warning] No further splits with positive gain, best gain: -inf\n",
      "[LightGBM] [Warning] No further splits with positive gain, best gain: -inf\n",
      "[LightGBM] [Warning] No further splits with positive gain, best gain: -inf\n",
      "[LightGBM] [Warning] No further splits with positive gain, best gain: -inf\n",
      "[LightGBM] [Warning] No further splits with positive gain, best gain: -inf\n",
      "[LightGBM] [Warning] No further splits with positive gain, best gain: -inf\n",
      "[LightGBM] [Warning] No further splits with positive gain, best gain: -inf\n",
      "[LightGBM] [Warning] No further splits with positive gain, best gain: -inf\n",
      "[LightGBM] [Warning] No further splits with positive gain, best gain: -inf\n",
      "[LightGBM] [Warning] No further splits with positive gain, best gain: -inf\n",
      "[LightGBM] [Warning] No further splits with positive gain, best gain: -inf\n",
      "[LightGBM] [Warning] No further splits with positive gain, best gain: -inf\n",
      "[LightGBM] [Warning] No further splits with positive gain, best gain: -inf\n",
      "[LightGBM] [Warning] No further splits with positive gain, best gain: -inf\n",
      "[LightGBM] [Warning] No further splits with positive gain, best gain: -inf\n",
      "[LightGBM] [Warning] No further splits with positive gain, best gain: -inf\n",
      "[LightGBM] [Warning] No further splits with positive gain, best gain: -inf\n",
      "[LightGBM] [Warning] No further splits with positive gain, best gain: -inf\n",
      "[LightGBM] [Warning] No further splits with positive gain, best gain: -inf\n",
      "[LightGBM] [Warning] No further splits with positive gain, best gain: -inf\n",
      "[LightGBM] [Warning] No further splits with positive gain, best gain: -inf\n",
      "[LightGBM] [Warning] No further splits with positive gain, best gain: -inf\n",
      "[LightGBM] [Warning] No further splits with positive gain, best gain: -inf\n",
      "[LightGBM] [Warning] No further splits with positive gain, best gain: -inf\n",
      "[LightGBM] [Warning] No further splits with positive gain, best gain: -inf\n",
      "[LightGBM] [Warning] No further splits with positive gain, best gain: -inf\n",
      "[LightGBM] [Warning] No further splits with positive gain, best gain: -inf\n",
      "[LightGBM] [Warning] No further splits with positive gain, best gain: -inf\n",
      "[LightGBM] [Warning] No further splits with positive gain, best gain: -inf\n",
      "[LightGBM] [Warning] No further splits with positive gain, best gain: -inf\n",
      "[LightGBM] [Warning] No further splits with positive gain, best gain: -inf\n",
      "[LightGBM] [Warning] No further splits with positive gain, best gain: -inf\n",
      "[LightGBM] [Warning] No further splits with positive gain, best gain: -inf\n",
      "[LightGBM] [Warning] No further splits with positive gain, best gain: -inf\n",
      "[LightGBM] [Warning] No further splits with positive gain, best gain: -inf\n",
      "[LightGBM] [Warning] No further splits with positive gain, best gain: -inf\n",
      "[LightGBM] [Warning] No further splits with positive gain, best gain: -inf\n",
      "[LightGBM] [Warning] No further splits with positive gain, best gain: -inf\n",
      "[LightGBM] [Warning] No further splits with positive gain, best gain: -inf\n",
      "[LightGBM] [Warning] No further splits with positive gain, best gain: -inf\n",
      "[LightGBM] [Warning] No further splits with positive gain, best gain: -inf\n",
      "[LightGBM] [Warning] No further splits with positive gain, best gain: -inf\n",
      "[LightGBM] [Warning] No further splits with positive gain, best gain: -inf\n",
      "[LightGBM] [Warning] No further splits with positive gain, best gain: -inf\n",
      "[LightGBM] [Warning] No further splits with positive gain, best gain: -inf\n",
      "[LightGBM] [Warning] No further splits with positive gain, best gain: -inf\n",
      "[LightGBM] [Warning] No further splits with positive gain, best gain: -inf\n",
      "[LightGBM] [Warning] No further splits with positive gain, best gain: -inf\n",
      "[LightGBM] [Warning] No further splits with positive gain, best gain: -inf\n",
      "[LightGBM] [Warning] No further splits with positive gain, best gain: -inf\n",
      "[LightGBM] [Warning] No further splits with positive gain, best gain: -inf\n",
      "[LightGBM] [Warning] No further splits with positive gain, best gain: -inf\n",
      "[LightGBM] [Warning] No further splits with positive gain, best gain: -inf\n",
      "[LightGBM] [Warning] No further splits with positive gain, best gain: -inf\n",
      "[LightGBM] [Warning] No further splits with positive gain, best gain: -inf\n",
      "[LightGBM] [Warning] No further splits with positive gain, best gain: -inf\n",
      "[LightGBM] [Warning] No further splits with positive gain, best gain: -inf\n",
      "[LightGBM] [Warning] No further splits with positive gain, best gain: -inf\n",
      "[LightGBM] [Warning] No further splits with positive gain, best gain: -inf\n",
      "[LightGBM] [Warning] No further splits with positive gain, best gain: -inf\n",
      "[LightGBM] [Warning] No further splits with positive gain, best gain: -inf\n",
      "[LightGBM] [Warning] No further splits with positive gain, best gain: -inf\n",
      "[LightGBM] [Warning] No further splits with positive gain, best gain: -inf\n",
      "[LightGBM] [Warning] No further splits with positive gain, best gain: -inf\n",
      "[LightGBM] [Warning] No further splits with positive gain, best gain: -inf\n",
      "[LightGBM] [Warning] No further splits with positive gain, best gain: -inf\n",
      "[LightGBM] [Warning] Auto-choosing row-wise multi-threading, the overhead of testing was 0.000164 seconds.\n",
      "You can set `force_row_wise=true` to remove the overhead.\n",
      "And if memory is not enough, you can set `force_col_wise=true`.\n",
      "[LightGBM] [Info] Total Bins 225\n",
      "[LightGBM] [Info] Number of data points in the train set: 668, number of used features: 21\n",
      "[LightGBM] [Info] Start training from score 0.383234\n",
      "[LightGBM] [Warning] No further splits with positive gain, best gain: -inf\n",
      "[LightGBM] [Warning] No further splits with positive gain, best gain: -inf\n",
      "[LightGBM] [Warning] No further splits with positive gain, best gain: -inf\n",
      "[LightGBM] [Warning] No further splits with positive gain, best gain: -inf\n",
      "[LightGBM] [Warning] No further splits with positive gain, best gain: -inf\n",
      "[LightGBM] [Warning] No further splits with positive gain, best gain: -inf\n",
      "[LightGBM] [Warning] No further splits with positive gain, best gain: -inf\n",
      "[LightGBM] [Warning] No further splits with positive gain, best gain: -inf\n",
      "[LightGBM] [Warning] No further splits with positive gain, best gain: -inf\n"
     ]
    },
    {
     "name": "stdout",
     "output_type": "stream",
     "text": [
      "[LightGBM] [Warning] No further splits with positive gain, best gain: -inf\n",
      "[LightGBM] [Warning] No further splits with positive gain, best gain: -inf\n",
      "[LightGBM] [Warning] No further splits with positive gain, best gain: -inf\n",
      "[LightGBM] [Warning] No further splits with positive gain, best gain: -inf\n",
      "[LightGBM] [Warning] No further splits with positive gain, best gain: -inf\n",
      "[LightGBM] [Warning] No further splits with positive gain, best gain: -inf\n",
      "[LightGBM] [Warning] No further splits with positive gain, best gain: -inf\n",
      "[LightGBM] [Warning] No further splits with positive gain, best gain: -inf\n",
      "[LightGBM] [Warning] No further splits with positive gain, best gain: -inf\n",
      "[LightGBM] [Warning] No further splits with positive gain, best gain: -inf\n",
      "[LightGBM] [Warning] No further splits with positive gain, best gain: -inf\n",
      "[LightGBM] [Warning] No further splits with positive gain, best gain: -inf\n",
      "[LightGBM] [Warning] No further splits with positive gain, best gain: -inf\n",
      "[LightGBM] [Warning] No further splits with positive gain, best gain: -inf\n",
      "[LightGBM] [Warning] No further splits with positive gain, best gain: -inf\n",
      "[LightGBM] [Warning] No further splits with positive gain, best gain: -inf\n",
      "[LightGBM] [Warning] No further splits with positive gain, best gain: -inf\n",
      "[LightGBM] [Warning] No further splits with positive gain, best gain: -inf\n",
      "[LightGBM] [Warning] No further splits with positive gain, best gain: -inf\n",
      "[LightGBM] [Warning] No further splits with positive gain, best gain: -inf\n",
      "[LightGBM] [Warning] No further splits with positive gain, best gain: -inf\n",
      "[LightGBM] [Warning] No further splits with positive gain, best gain: -inf\n",
      "[LightGBM] [Warning] No further splits with positive gain, best gain: -inf\n",
      "[LightGBM] [Warning] No further splits with positive gain, best gain: -inf\n",
      "[LightGBM] [Warning] No further splits with positive gain, best gain: -inf\n",
      "[LightGBM] [Warning] No further splits with positive gain, best gain: -inf\n",
      "[LightGBM] [Warning] No further splits with positive gain, best gain: -inf\n",
      "[LightGBM] [Warning] No further splits with positive gain, best gain: -inf\n",
      "[LightGBM] [Warning] No further splits with positive gain, best gain: -inf\n",
      "[LightGBM] [Warning] No further splits with positive gain, best gain: -inf\n",
      "[LightGBM] [Warning] No further splits with positive gain, best gain: -inf\n",
      "[LightGBM] [Warning] No further splits with positive gain, best gain: -inf\n",
      "[LightGBM] [Warning] No further splits with positive gain, best gain: -inf\n",
      "[LightGBM] [Warning] No further splits with positive gain, best gain: -inf\n",
      "[LightGBM] [Warning] No further splits with positive gain, best gain: -inf\n",
      "[LightGBM] [Warning] No further splits with positive gain, best gain: -inf\n",
      "[LightGBM] [Warning] No further splits with positive gain, best gain: -inf\n",
      "[LightGBM] [Warning] No further splits with positive gain, best gain: -inf\n",
      "[LightGBM] [Warning] No further splits with positive gain, best gain: -inf\n",
      "[LightGBM] [Warning] No further splits with positive gain, best gain: -inf\n",
      "[LightGBM] [Warning] No further splits with positive gain, best gain: -inf\n",
      "[LightGBM] [Warning] No further splits with positive gain, best gain: -inf\n",
      "[LightGBM] [Warning] No further splits with positive gain, best gain: -inf\n",
      "[LightGBM] [Warning] No further splits with positive gain, best gain: -inf\n",
      "[LightGBM] [Warning] No further splits with positive gain, best gain: -inf\n",
      "[LightGBM] [Warning] No further splits with positive gain, best gain: -inf\n",
      "[LightGBM] [Warning] No further splits with positive gain, best gain: -inf\n",
      "[LightGBM] [Warning] No further splits with positive gain, best gain: -inf\n",
      "[LightGBM] [Warning] No further splits with positive gain, best gain: -inf\n",
      "[LightGBM] [Warning] No further splits with positive gain, best gain: -inf\n",
      "[LightGBM] [Warning] No further splits with positive gain, best gain: -inf\n",
      "[LightGBM] [Warning] No further splits with positive gain, best gain: -inf\n",
      "[LightGBM] [Warning] No further splits with positive gain, best gain: -inf\n",
      "[LightGBM] [Warning] No further splits with positive gain, best gain: -inf\n",
      "[LightGBM] [Warning] No further splits with positive gain, best gain: -inf\n",
      "[LightGBM] [Warning] No further splits with positive gain, best gain: -inf\n",
      "[LightGBM] [Warning] No further splits with positive gain, best gain: -inf\n",
      "[LightGBM] [Warning] No further splits with positive gain, best gain: -inf\n",
      "[LightGBM] [Warning] No further splits with positive gain, best gain: -inf\n",
      "[LightGBM] [Warning] No further splits with positive gain, best gain: -inf\n",
      "[LightGBM] [Warning] No further splits with positive gain, best gain: -inf\n",
      "[LightGBM] [Warning] No further splits with positive gain, best gain: -inf\n",
      "[LightGBM] [Warning] No further splits with positive gain, best gain: -inf\n",
      "[LightGBM] [Warning] No further splits with positive gain, best gain: -inf\n",
      "[LightGBM] [Warning] No further splits with positive gain, best gain: -inf\n",
      "[LightGBM] [Warning] No further splits with positive gain, best gain: -inf\n",
      "[LightGBM] [Warning] No further splits with positive gain, best gain: -inf\n",
      "[LightGBM] [Warning] No further splits with positive gain, best gain: -inf\n",
      "[LightGBM] [Warning] No further splits with positive gain, best gain: -inf\n",
      "[LightGBM] [Warning] No further splits with positive gain, best gain: -inf\n",
      "[LightGBM] [Warning] No further splits with positive gain, best gain: -inf\n",
      "[LightGBM] [Warning] No further splits with positive gain, best gain: -inf\n",
      "[LightGBM] [Warning] No further splits with positive gain, best gain: -inf\n",
      "[LightGBM] [Warning] No further splits with positive gain, best gain: -inf\n",
      "[LightGBM] [Warning] No further splits with positive gain, best gain: -inf\n",
      "[LightGBM] [Warning] No further splits with positive gain, best gain: -inf\n",
      "[LightGBM] [Warning] No further splits with positive gain, best gain: -inf\n",
      "[LightGBM] [Warning] No further splits with positive gain, best gain: -inf\n",
      "[LightGBM] [Warning] No further splits with positive gain, best gain: -inf\n",
      "[LightGBM] [Warning] No further splits with positive gain, best gain: -inf\n",
      "[LightGBM] [Warning] No further splits with positive gain, best gain: -inf\n",
      "[LightGBM] [Warning] No further splits with positive gain, best gain: -inf\n",
      "[LightGBM] [Warning] No further splits with positive gain, best gain: -inf\n",
      "[LightGBM] [Warning] No further splits with positive gain, best gain: -inf\n",
      "[LightGBM] [Warning] No further splits with positive gain, best gain: -inf\n",
      "[LightGBM] [Warning] No further splits with positive gain, best gain: -inf\n",
      "[LightGBM] [Warning] No further splits with positive gain, best gain: -inf\n",
      "[LightGBM] [Warning] No further splits with positive gain, best gain: -inf\n",
      "[LightGBM] [Warning] No further splits with positive gain, best gain: -inf\n",
      "[LightGBM] [Warning] No further splits with positive gain, best gain: -inf\n",
      "[LightGBM] [Warning] No further splits with positive gain, best gain: -inf\n",
      "[LightGBM] [Warning] Auto-choosing row-wise multi-threading, the overhead of testing was 0.000175 seconds.\n",
      "You can set `force_row_wise=true` to remove the overhead.\n",
      "And if memory is not enough, you can set `force_col_wise=true`.\n",
      "[LightGBM] [Info] Total Bins 224\n",
      "[LightGBM] [Info] Number of data points in the train set: 669, number of used features: 21\n",
      "[LightGBM] [Info] Start training from score 0.372197\n",
      "[LightGBM] [Warning] No further splits with positive gain, best gain: -inf\n",
      "[LightGBM] [Warning] No further splits with positive gain, best gain: -inf\n",
      "[LightGBM] [Warning] No further splits with positive gain, best gain: -inf\n",
      "[LightGBM] [Warning] No further splits with positive gain, best gain: -inf\n",
      "[LightGBM] [Warning] No further splits with positive gain, best gain: -inf\n",
      "[LightGBM] [Warning] No further splits with positive gain, best gain: -inf\n",
      "[LightGBM] [Warning] No further splits with positive gain, best gain: -inf\n",
      "[LightGBM] [Warning] No further splits with positive gain, best gain: -inf\n",
      "[LightGBM] [Warning] No further splits with positive gain, best gain: -inf\n",
      "[LightGBM] [Warning] No further splits with positive gain, best gain: -inf\n",
      "[LightGBM] [Warning] No further splits with positive gain, best gain: -inf\n",
      "[LightGBM] [Warning] No further splits with positive gain, best gain: -inf\n",
      "[LightGBM] [Warning] No further splits with positive gain, best gain: -inf\n",
      "[LightGBM] [Warning] No further splits with positive gain, best gain: -inf\n",
      "[LightGBM] [Warning] No further splits with positive gain, best gain: -inf\n",
      "[LightGBM] [Warning] No further splits with positive gain, best gain: -inf\n",
      "[LightGBM] [Warning] No further splits with positive gain, best gain: -inf\n",
      "[LightGBM] [Warning] No further splits with positive gain, best gain: -inf\n",
      "[LightGBM] [Warning] No further splits with positive gain, best gain: -inf\n",
      "[LightGBM] [Warning] No further splits with positive gain, best gain: -inf\n",
      "[LightGBM] [Warning] No further splits with positive gain, best gain: -inf\n",
      "[LightGBM] [Warning] No further splits with positive gain, best gain: -inf\n",
      "[LightGBM] [Warning] No further splits with positive gain, best gain: -inf\n",
      "[LightGBM] [Warning] No further splits with positive gain, best gain: -inf\n",
      "[LightGBM] [Warning] No further splits with positive gain, best gain: -inf\n",
      "[LightGBM] [Warning] No further splits with positive gain, best gain: -inf\n",
      "[LightGBM] [Warning] No further splits with positive gain, best gain: -inf\n",
      "[LightGBM] [Warning] No further splits with positive gain, best gain: -inf\n",
      "[LightGBM] [Warning] No further splits with positive gain, best gain: -inf\n",
      "[LightGBM] [Warning] No further splits with positive gain, best gain: -inf\n",
      "[LightGBM] [Warning] No further splits with positive gain, best gain: -inf\n",
      "[LightGBM] [Warning] No further splits with positive gain, best gain: -inf\n",
      "[LightGBM] [Warning] No further splits with positive gain, best gain: -inf\n",
      "[LightGBM] [Warning] No further splits with positive gain, best gain: -inf\n",
      "[LightGBM] [Warning] No further splits with positive gain, best gain: -inf\n",
      "[LightGBM] [Warning] No further splits with positive gain, best gain: -inf\n",
      "[LightGBM] [Warning] No further splits with positive gain, best gain: -inf\n",
      "[LightGBM] [Warning] No further splits with positive gain, best gain: -inf\n",
      "[LightGBM] [Warning] No further splits with positive gain, best gain: -inf\n",
      "[LightGBM] [Warning] No further splits with positive gain, best gain: -inf\n",
      "[LightGBM] [Warning] No further splits with positive gain, best gain: -inf\n",
      "[LightGBM] [Warning] No further splits with positive gain, best gain: -inf\n",
      "[LightGBM] [Warning] No further splits with positive gain, best gain: -inf\n",
      "[LightGBM] [Warning] No further splits with positive gain, best gain: -inf\n",
      "[LightGBM] [Warning] No further splits with positive gain, best gain: -inf\n",
      "[LightGBM] [Warning] No further splits with positive gain, best gain: -inf\n",
      "[LightGBM] [Warning] No further splits with positive gain, best gain: -inf\n",
      "[LightGBM] [Warning] No further splits with positive gain, best gain: -inf\n",
      "[LightGBM] [Warning] No further splits with positive gain, best gain: -inf\n",
      "[LightGBM] [Warning] No further splits with positive gain, best gain: -inf\n",
      "[LightGBM] [Warning] No further splits with positive gain, best gain: -inf\n",
      "[LightGBM] [Warning] No further splits with positive gain, best gain: -inf\n",
      "[LightGBM] [Warning] No further splits with positive gain, best gain: -inf\n",
      "[LightGBM] [Warning] No further splits with positive gain, best gain: -inf\n",
      "[LightGBM] [Warning] No further splits with positive gain, best gain: -inf\n",
      "[LightGBM] [Warning] No further splits with positive gain, best gain: -inf\n",
      "[LightGBM] [Warning] No further splits with positive gain, best gain: -inf\n",
      "[LightGBM] [Warning] No further splits with positive gain, best gain: -inf\n",
      "[LightGBM] [Warning] No further splits with positive gain, best gain: -inf\n",
      "[LightGBM] [Warning] No further splits with positive gain, best gain: -inf\n",
      "[LightGBM] [Warning] No further splits with positive gain, best gain: -inf\n",
      "[LightGBM] [Warning] No further splits with positive gain, best gain: -inf\n",
      "[LightGBM] [Warning] No further splits with positive gain, best gain: -inf\n",
      "[LightGBM] [Warning] No further splits with positive gain, best gain: -inf\n",
      "[LightGBM] [Warning] No further splits with positive gain, best gain: -inf\n",
      "[LightGBM] [Warning] No further splits with positive gain, best gain: -inf\n",
      "[LightGBM] [Warning] No further splits with positive gain, best gain: -inf\n",
      "[LightGBM] [Warning] No further splits with positive gain, best gain: -inf\n",
      "[LightGBM] [Warning] No further splits with positive gain, best gain: -inf\n",
      "[LightGBM] [Warning] No further splits with positive gain, best gain: -inf\n",
      "[LightGBM] [Warning] No further splits with positive gain, best gain: -inf\n",
      "[LightGBM] [Warning] No further splits with positive gain, best gain: -inf\n",
      "[LightGBM] [Warning] No further splits with positive gain, best gain: -inf\n",
      "[LightGBM] [Warning] No further splits with positive gain, best gain: -inf\n",
      "[LightGBM] [Warning] No further splits with positive gain, best gain: -inf\n",
      "[LightGBM] [Warning] No further splits with positive gain, best gain: -inf\n",
      "[LightGBM] [Warning] No further splits with positive gain, best gain: -inf\n",
      "[LightGBM] [Warning] No further splits with positive gain, best gain: -inf\n",
      "[LightGBM] [Warning] No further splits with positive gain, best gain: -inf\n",
      "[LightGBM] [Warning] No further splits with positive gain, best gain: -inf\n",
      "[LightGBM] [Warning] No further splits with positive gain, best gain: -inf\n",
      "[LightGBM] [Warning] No further splits with positive gain, best gain: -inf\n",
      "[LightGBM] [Warning] No further splits with positive gain, best gain: -inf\n",
      "[LightGBM] [Warning] No further splits with positive gain, best gain: -inf\n",
      "[LightGBM] [Warning] No further splits with positive gain, best gain: -inf\n",
      "[LightGBM] [Warning] No further splits with positive gain, best gain: -inf\n",
      "[LightGBM] [Warning] No further splits with positive gain, best gain: -inf\n",
      "[LightGBM] [Warning] No further splits with positive gain, best gain: -inf\n",
      "[LightGBM] [Warning] No further splits with positive gain, best gain: -inf\n",
      "[LightGBM] [Warning] No further splits with positive gain, best gain: -inf\n",
      "[LightGBM] [Warning] No further splits with positive gain, best gain: -inf\n",
      "[LightGBM] [Warning] No further splits with positive gain, best gain: -inf\n",
      "[LightGBM] [Warning] No further splits with positive gain, best gain: -inf\n",
      "[LightGBM] [Warning] No further splits with positive gain, best gain: -inf\n",
      "[LightGBM] [Warning] No further splits with positive gain, best gain: -inf\n",
      "[LightGBM] [Warning] No further splits with positive gain, best gain: -inf\n",
      "[LightGBM] [Warning] No further splits with positive gain, best gain: -inf\n",
      "[LightGBM] [Warning] No further splits with positive gain, best gain: -inf\n",
      "[LightGBM] [Warning] No further splits with positive gain, best gain: -inf\n",
      "[LightGBM] [Warning] No further splits with positive gain, best gain: -inf\n"
     ]
    }
   ],
   "source": [
    "kf_stacking = KFold(4, shuffle = True, random_state = 0)\n",
    "kf_stacking.split(train)\n",
    "\n",
    "for train_ix, test_ix in kf_stacking.split(train):\n",
    "    lgbm = lgb.train(\n",
    "        {'lambda_l1': 5.5693205859882666e-08,\n",
    "         'lambda_l2': 0.0029379573632802307,\n",
    "         'num_leaves': 218,\n",
    "         'feature_fraction': 0.4449630393801182,\n",
    "         'bagging_fraction': 0.6190711470746258,\n",
    "         'bagging_freq': 1,\n",
    "         'min_child_samples': 24}, \n",
    "        lgb.Dataset(train[features].iloc[train_ix,:], label = train['Survived'].iloc[train_ix]))\n",
    "    \n",
    "    train['lv1_lgbm_preds'].iloc[test_ix] = lgbm.predict(train[features].iloc[test_ix])\n",
    "    \n",
    "lgbm.fit(train[features], train['Survived'])\n",
    "test['lv1_lgbm_preds'] = lgbm.predict(test[features])"
   ]
  },
  {
   "cell_type": "markdown",
   "metadata": {},
   "source": [
    "## Grandient Boosting Machine"
   ]
  },
  {
   "cell_type": "code",
   "execution_count": 51,
   "metadata": {},
   "outputs": [],
   "source": [
    "from sklearn.ensemble import GradientBoostingClassifier \n",
    "\n",
    "def objective(trial):\n",
    "    \n",
    "    learning_rate = trial.suggest_float('learning_rate', 1e-6, 1e-2)\n",
    "    n_estimators = trial.suggest_int('n_estimators', 20, 200)\n",
    "    subsample = trial.suggest_float('subsample', 0.75, 1)\n",
    "    min_samples_split = trial.suggest_int('min_samples_split', 2, 20)\n",
    "    min_samples_leaf = trial.suggest_int('min_samples_leaf', 2, 20)\n",
    "    max_depth = trial.suggest_int('max_depth', 3, 7)\n",
    "    min_impurity_decrease = trial.suggest_float('min_impurity_decrease', 0.75, 1)\n",
    "    max_features = trial.suggest_int('max_features', 3, 20)\n",
    "    \n",
    "    gbm = GradientBoostingClassifier(learning_rate = learning_rate,\n",
    "                                     n_estimators = n_estimators,\n",
    "                                     subsample = subsample,\n",
    "                                     min_samples_split = min_samples_split,\n",
    "                                     min_samples_leaf = min_samples_leaf,\n",
    "                                     max_depth = max_depth,\n",
    "                                     min_impurity_decrease = min_impurity_decrease,\n",
    "                                     random_state = 42,\n",
    "                                     max_features = max_features)\n",
    "    \n",
    "    kf = KFold(5, shuffle = True, random_state = 0)\n",
    "    kf.split(train)\n",
    "    \n",
    "    accuracy_scores = []\n",
    "    \n",
    "    for train_ix, test_ix in kf.split(train):\n",
    "        gbm.fit(train[features].iloc[train_ix,:], train['Survived'].iloc[train_ix])\n",
    "        preds = np.rint(gbm.predict(train[features].iloc[test_ix]))\n",
    "        \n",
    "        accuracy_scores.append(metrics.accuracy_score(train['Survived'].iloc[test_ix], preds))\n",
    "        \n",
    "    return np.mean(accuracy_scores)\n",
    "    \n",
    "\n",
    "# 3. Create a study object and optimize the objective function.\n",
    "# study = optuna.create_study(direction='maximize')\n",
    "# study.optimize(objective, n_trials=1000)"
   ]
  },
  {
   "cell_type": "code",
   "execution_count": null,
   "metadata": {},
   "outputs": [],
   "source": [
    "'''\n",
    "learning_rate = 0.009620110160365543,\n",
    "n_estimators = 135,\n",
    "subsample = 0.9699332268604093,\n",
    "min_samples_split = 12,\n",
    "min_samples_leaf = 2,\n",
    "max_depth = 7,\n",
    "min_impurity_decrease = 0.7763728807219239,\n",
    "max_features = 20\n",
    "'''"
   ]
  },
  {
   "cell_type": "code",
   "execution_count": 52,
   "metadata": {},
   "outputs": [],
   "source": [
    "kf_stacking = KFold(4, shuffle = True, random_state = 0)\n",
    "kf_stacking.split(train)\n",
    "\n",
    "for train_ix, test_ix in kf_stacking.split(train):\n",
    "    gbm = GradientBoostingClassifier(\n",
    "        learning_rate = 0.009620110160365543,\n",
    "        n_estimators = 135,\n",
    "        subsample = 0.9699332268604093,\n",
    "        min_samples_split = 12,\n",
    "        min_samples_leaf = 2,\n",
    "        max_depth = 7,\n",
    "        min_impurity_decrease = 0.7763728807219239,\n",
    "        max_features = 20,\n",
    "        random_state = 42)\n",
    "    \n",
    "    gbm.fit(train[features].iloc[train_ix], train['Survived'].iloc[train_ix])\n",
    "    train['lv1_gbm_preds'].iloc[test_ix] = gbm.predict(train[features].iloc[test_ix])    \n",
    "    \n",
    "gbm.fit(train[features], train['Survived'])\n",
    "test['lv1_gbm_preds'] = gbm.predict(test[features])"
   ]
  },
  {
   "cell_type": "markdown",
   "metadata": {},
   "source": [
    "## SVM"
   ]
  },
  {
   "cell_type": "code",
   "execution_count": 44,
   "metadata": {
    "collapsed": true
   },
   "outputs": [
    {
     "name": "stderr",
     "output_type": "stream",
     "text": [
      "\u001b[32m[I 2021-12-22 17:32:25,401]\u001b[0m A new study created in memory with name: no-name-1b4e1f78-78ca-475b-aee3-0355ad45723f\u001b[0m\n",
      "\u001b[32m[I 2021-12-22 17:32:25,554]\u001b[0m Trial 0 finished with value: 0.8137028435126483 and parameters: {'C': 2.7032851136834055}. Best is trial 0 with value: 0.8137028435126483.\u001b[0m\n",
      "\u001b[32m[I 2021-12-22 17:32:25,709]\u001b[0m Trial 1 finished with value: 0.8024606113866047 and parameters: {'C': 9.842259051972448}. Best is trial 0 with value: 0.8137028435126483.\u001b[0m\n",
      "\u001b[32m[I 2021-12-22 17:32:25,851]\u001b[0m Trial 2 finished with value: 0.8114493754315486 and parameters: {'C': 2.0593502553051386}. Best is trial 0 with value: 0.8137028435126483.\u001b[0m\n",
      "\u001b[32m[I 2021-12-22 17:32:25,999]\u001b[0m Trial 3 finished with value: 0.812560416797439 and parameters: {'C': 4.747764754496287}. Best is trial 0 with value: 0.8137028435126483.\u001b[0m\n",
      "\u001b[32m[I 2021-12-22 17:32:26,156]\u001b[0m Trial 4 finished with value: 0.8002196974452327 and parameters: {'C': 9.984978618163364}. Best is trial 0 with value: 0.8137028435126483.\u001b[0m\n",
      "\u001b[32m[I 2021-12-22 17:32:26,302]\u001b[0m Trial 5 finished with value: 0.8137028435126483 and parameters: {'C': 2.647111568531288}. Best is trial 0 with value: 0.8137028435126483.\u001b[0m\n",
      "\u001b[32m[I 2021-12-22 17:32:26,458]\u001b[0m Trial 6 finished with value: 0.8046952482581131 and parameters: {'C': 7.742432107978726}. Best is trial 0 with value: 0.8137028435126483.\u001b[0m\n",
      "\u001b[32m[I 2021-12-22 17:32:26,604]\u001b[0m Trial 7 finished with value: 0.8238026489234824 and parameters: {'C': 0.6972742364623802}. Best is trial 7 with value: 0.8238026489234824.\u001b[0m\n",
      "\u001b[32m[I 2021-12-22 17:32:26,762]\u001b[0m Trial 8 finished with value: 0.8024606113866047 and parameters: {'C': 9.754796146646369}. Best is trial 7 with value: 0.8238026489234824.\u001b[0m\n",
      "\u001b[32m[I 2021-12-22 17:32:26,917]\u001b[0m Trial 9 finished with value: 0.803577929822359 and parameters: {'C': 9.604488850362392}. Best is trial 7 with value: 0.8238026489234824.\u001b[0m\n",
      "\u001b[32m[I 2021-12-22 17:32:27,398]\u001b[0m Trial 10 finished with value: 0.7957127612830333 and parameters: {'C': 0.039918720481160186}. Best is trial 7 with value: 0.8238026489234824.\u001b[0m\n",
      "\u001b[32m[I 2021-12-22 17:32:27,553]\u001b[0m Trial 11 finished with value: 0.8237963718536188 and parameters: {'C': 0.2651697696778025}. Best is trial 7 with value: 0.8238026489234824.\u001b[0m\n",
      "\u001b[32m[I 2021-12-22 17:32:27,727]\u001b[0m Trial 12 finished with value: 0.817048521750047 and parameters: {'C': 0.07780106575921494}. Best is trial 7 with value: 0.8238026489234824.\u001b[0m\n",
      "\u001b[32m[I 2021-12-22 17:32:27,874]\u001b[0m Trial 13 finished with value: 0.8103383340656581 and parameters: {'C': 1.4616762877422707}. Best is trial 7 with value: 0.8238026489234824.\u001b[0m\n",
      "\u001b[32m[I 2021-12-22 17:32:28,024]\u001b[0m Trial 14 finished with value: 0.812560416797439 and parameters: {'C': 4.548620245185009}. Best is trial 7 with value: 0.8238026489234824.\u001b[0m\n",
      "\u001b[32m[I 2021-12-22 17:32:28,178]\u001b[0m Trial 15 finished with value: 0.8058251208335948 and parameters: {'C': 6.278458254165908}. Best is trial 7 with value: 0.8238026489234824.\u001b[0m\n",
      "\u001b[32m[I 2021-12-22 17:32:28,324]\u001b[0m Trial 16 finished with value: 0.8136902893729208 and parameters: {'C': 1.2426952777263267}. Best is trial 7 with value: 0.8238026489234824.\u001b[0m\n",
      "\u001b[32m[I 2021-12-22 17:32:28,477]\u001b[0m Trial 17 finished with value: 0.8114556525014123 and parameters: {'C': 3.551011250131146}. Best is trial 7 with value: 0.8238026489234824.\u001b[0m\n",
      "\u001b[32m[I 2021-12-22 17:32:28,622]\u001b[0m Trial 18 finished with value: 0.8159374803841567 and parameters: {'C': 1.1191388622317122}. Best is trial 7 with value: 0.8238026489234824.\u001b[0m\n",
      "\u001b[32m[I 2021-12-22 17:32:28,773]\u001b[0m Trial 19 finished with value: 0.8114556525014123 and parameters: {'C': 3.577036807352669}. Best is trial 7 with value: 0.8238026489234824.\u001b[0m\n",
      "\u001b[32m[I 2021-12-22 17:32:28,925]\u001b[0m Trial 20 finished with value: 0.8058251208335948 and parameters: {'C': 6.293789475074717}. Best is trial 7 with value: 0.8238026489234824.\u001b[0m\n",
      "\u001b[32m[I 2021-12-22 17:32:29,112]\u001b[0m Trial 21 finished with value: 0.8136714581633294 and parameters: {'C': 0.05988312115762703}. Best is trial 7 with value: 0.8238026489234824.\u001b[0m\n",
      "\u001b[32m[I 2021-12-22 17:32:29,262]\u001b[0m Trial 22 finished with value: 0.8238026489234824 and parameters: {'C': 0.6824369136528224}. Best is trial 7 with value: 0.8238026489234824.\u001b[0m\n",
      "\u001b[32m[I 2021-12-22 17:32:29,416]\u001b[0m Trial 23 finished with value: 0.8159374803841567 and parameters: {'C': 1.1257790736628555}. Best is trial 7 with value: 0.8238026489234824.\u001b[0m\n",
      "\u001b[32m[I 2021-12-22 17:32:29,567]\u001b[0m Trial 24 finished with value: 0.8114493754315486 and parameters: {'C': 2.0379594324568853}. Best is trial 7 with value: 0.8238026489234824.\u001b[0m\n",
      "\u001b[32m[I 2021-12-22 17:32:29,716]\u001b[0m Trial 25 finished with value: 0.8238026489234824 and parameters: {'C': 0.6761046284700752}. Best is trial 7 with value: 0.8238026489234824.\u001b[0m\n",
      "\u001b[32m[I 2021-12-22 17:32:29,873]\u001b[0m Trial 26 finished with value: 0.8114556525014123 and parameters: {'C': 3.517213690489962}. Best is trial 7 with value: 0.8238026489234824.\u001b[0m\n",
      "\u001b[32m[I 2021-12-22 17:32:30,028]\u001b[0m Trial 27 finished with value: 0.8238026489234824 and parameters: {'C': 0.6952082407960899}. Best is trial 7 with value: 0.8238026489234824.\u001b[0m\n",
      "\u001b[32m[I 2021-12-22 17:32:30,178]\u001b[0m Trial 28 finished with value: 0.8114493754315486 and parameters: {'C': 2.0104948303256287}. Best is trial 7 with value: 0.8238026489234824.\u001b[0m\n",
      "\u001b[32m[I 2021-12-22 17:32:30,332]\u001b[0m Trial 29 finished with value: 0.8125792480070304 and parameters: {'C': 2.7071902051450594}. Best is trial 7 with value: 0.8238026489234824.\u001b[0m\n",
      "\u001b[32m[I 2021-12-22 17:32:30,479]\u001b[0m Trial 30 finished with value: 0.8148264390182662 and parameters: {'C': 2.7692710060852037}. Best is trial 7 with value: 0.8238026489234824.\u001b[0m\n",
      "\u001b[32m[I 2021-12-22 17:32:30,624]\u001b[0m Trial 31 finished with value: 0.8204318624066286 and parameters: {'C': 0.9185002900627091}. Best is trial 7 with value: 0.8238026489234824.\u001b[0m\n",
      "\u001b[32m[I 2021-12-22 17:32:30,771]\u001b[0m Trial 32 finished with value: 0.8238026489234824 and parameters: {'C': 0.7047248587185244}. Best is trial 7 with value: 0.8238026489234824.\u001b[0m\n",
      "\u001b[32m[I 2021-12-22 17:32:30,917]\u001b[0m Trial 33 finished with value: 0.8114556525014123 and parameters: {'C': 1.7627836844925087}. Best is trial 7 with value: 0.8238026489234824.\u001b[0m\n",
      "\u001b[32m[I 2021-12-22 17:32:31,065]\u001b[0m Trial 34 finished with value: 0.8238026489234824 and parameters: {'C': 0.6867020342682538}. Best is trial 7 with value: 0.8238026489234824.\u001b[0m\n",
      "\u001b[32m[I 2021-12-22 17:32:31,210]\u001b[0m Trial 35 finished with value: 0.8249262444291006 and parameters: {'C': 0.5982611405769943}. Best is trial 35 with value: 0.8249262444291006.\u001b[0m\n",
      "\u001b[32m[I 2021-12-22 17:32:31,361]\u001b[0m Trial 36 finished with value: 0.8137028435126483 and parameters: {'C': 2.566814539564953}. Best is trial 35 with value: 0.8249262444291006.\u001b[0m\n",
      "\u001b[32m[I 2021-12-22 17:32:31,509]\u001b[0m Trial 37 finished with value: 0.8103383340656581 and parameters: {'C': 1.5918474204040463}. Best is trial 35 with value: 0.8249262444291006.\u001b[0m\n",
      "\u001b[32m[I 2021-12-22 17:32:31,655]\u001b[0m Trial 38 finished with value: 0.8137028435126483 and parameters: {'C': 2.3437346747593306}. Best is trial 35 with value: 0.8249262444291006.\u001b[0m\n",
      "\u001b[32m[I 2021-12-22 17:32:31,817]\u001b[0m Trial 39 finished with value: 0.803577929822359 and parameters: {'C': 8.702525454082915}. Best is trial 35 with value: 0.8249262444291006.\u001b[0m\n",
      "\u001b[32m[I 2021-12-22 17:32:31,983]\u001b[0m Trial 40 finished with value: 0.8114556525014123 and parameters: {'C': 3.2840382415245664}. Best is trial 35 with value: 0.8249262444291006.\u001b[0m\n",
      "\u001b[32m[I 2021-12-22 17:32:32,131]\u001b[0m Trial 41 finished with value: 0.8249262444291006 and parameters: {'C': 0.6003424571276413}. Best is trial 35 with value: 0.8249262444291006.\u001b[0m\n",
      "\u001b[32m[I 2021-12-22 17:32:32,280]\u001b[0m Trial 42 finished with value: 0.8282970309459545 and parameters: {'C': 0.4898842008006796}. Best is trial 42 with value: 0.8282970309459545.\u001b[0m\n",
      "\u001b[32m[I 2021-12-22 17:32:32,430]\u001b[0m Trial 43 finished with value: 0.8282970309459545 and parameters: {'C': 0.4572479987592215}. Best is trial 42 with value: 0.8282970309459545.\u001b[0m\n",
      "\u001b[32m[I 2021-12-22 17:32:32,582]\u001b[0m Trial 44 finished with value: 0.8249262444291006 and parameters: {'C': 0.3658714313723181}. Best is trial 42 with value: 0.8282970309459545.\u001b[0m\n"
     ]
    },
    {
     "name": "stderr",
     "output_type": "stream",
     "text": [
      "\u001b[32m[I 2021-12-22 17:32:32,732]\u001b[0m Trial 45 finished with value: 0.8249262444291006 and parameters: {'C': 0.355871282628188}. Best is trial 42 with value: 0.8282970309459545.\u001b[0m\n",
      "\u001b[32m[I 2021-12-22 17:32:32,879]\u001b[0m Trial 46 finished with value: 0.8103383340656581 and parameters: {'C': 1.6021071714032882}. Best is trial 42 with value: 0.8282970309459545.\u001b[0m\n",
      "\u001b[32m[I 2021-12-22 17:32:33,034]\u001b[0m Trial 47 finished with value: 0.8249262444291006 and parameters: {'C': 0.35345209996611704}. Best is trial 42 with value: 0.8282970309459545.\u001b[0m\n",
      "\u001b[32m[I 2021-12-22 17:32:33,223]\u001b[0m Trial 48 finished with value: 0.6161634548992531 and parameters: {'C': 0.00022276528764630932}. Best is trial 42 with value: 0.8282970309459545.\u001b[0m\n",
      "\u001b[32m[I 2021-12-22 17:32:33,374]\u001b[0m Trial 49 finished with value: 0.8114430983616847 and parameters: {'C': 4.267226387649706}. Best is trial 42 with value: 0.8282970309459545.\u001b[0m\n",
      "\u001b[32m[I 2021-12-22 17:32:33,527]\u001b[0m Trial 50 finished with value: 0.8058251208335948 and parameters: {'C': 6.120269520056619}. Best is trial 42 with value: 0.8282970309459545.\u001b[0m\n",
      "\u001b[32m[I 2021-12-22 17:32:33,679]\u001b[0m Trial 51 finished with value: 0.8238026489234824 and parameters: {'C': 0.331784678501586}. Best is trial 42 with value: 0.8282970309459545.\u001b[0m\n",
      "\u001b[32m[I 2021-12-22 17:32:33,830]\u001b[0m Trial 52 finished with value: 0.8136902893729208 and parameters: {'C': 1.2508932307808358}. Best is trial 42 with value: 0.8282970309459545.\u001b[0m\n",
      "\u001b[32m[I 2021-12-22 17:32:33,980]\u001b[0m Trial 53 finished with value: 0.8238026489234824 and parameters: {'C': 0.3423424682130346}. Best is trial 42 with value: 0.8282970309459545.\u001b[0m\n",
      "\u001b[32m[I 2021-12-22 17:32:34,129]\u001b[0m Trial 54 finished with value: 0.8114493754315486 and parameters: {'C': 1.3457284880984681}. Best is trial 42 with value: 0.8282970309459545.\u001b[0m\n",
      "\u001b[32m[I 2021-12-22 17:32:34,281]\u001b[0m Trial 55 finished with value: 0.8282970309459545 and parameters: {'C': 0.4463771032507129}. Best is trial 42 with value: 0.8282970309459545.\u001b[0m\n",
      "\u001b[32m[I 2021-12-22 17:32:34,427]\u001b[0m Trial 56 finished with value: 0.8159374803841567 and parameters: {'C': 1.1067532043999577}. Best is trial 42 with value: 0.8282970309459545.\u001b[0m\n",
      "\u001b[32m[I 2021-12-22 17:32:34,575]\u001b[0m Trial 57 finished with value: 0.8137028435126483 and parameters: {'C': 1.9163101745048727}. Best is trial 42 with value: 0.8282970309459545.\u001b[0m\n",
      "\u001b[32m[I 2021-12-22 17:32:34,768]\u001b[0m Trial 58 finished with value: 0.6161634548992531 and parameters: {'C': 0.008983161151417285}. Best is trial 42 with value: 0.8282970309459545.\u001b[0m\n",
      "\u001b[32m[I 2021-12-22 17:32:34,923]\u001b[0m Trial 59 finished with value: 0.8058251208335948 and parameters: {'C': 5.6069463027039115}. Best is trial 42 with value: 0.8282970309459545.\u001b[0m\n",
      "\u001b[32m[I 2021-12-22 17:32:35,084]\u001b[0m Trial 60 finished with value: 0.8024480572468772 and parameters: {'C': 7.837520689287343}. Best is trial 42 with value: 0.8282970309459545.\u001b[0m\n",
      "\u001b[32m[I 2021-12-22 17:32:35,237]\u001b[0m Trial 61 finished with value: 0.8249262444291006 and parameters: {'C': 0.36684265302627744}. Best is trial 42 with value: 0.8282970309459545.\u001b[0m\n",
      "\u001b[32m[I 2021-12-22 17:32:35,386]\u001b[0m Trial 62 finished with value: 0.8271734354403364 and parameters: {'C': 0.409522678729351}. Best is trial 42 with value: 0.8282970309459545.\u001b[0m\n",
      "\u001b[32m[I 2021-12-22 17:32:35,538]\u001b[0m Trial 63 finished with value: 0.8249199673592367 and parameters: {'C': 0.30426253871357645}. Best is trial 42 with value: 0.8282970309459545.\u001b[0m\n",
      "\u001b[32m[I 2021-12-22 17:32:35,685]\u001b[0m Trial 64 finished with value: 0.8181846713953925 and parameters: {'C': 0.9571073915742916}. Best is trial 42 with value: 0.8282970309459545.\u001b[0m\n",
      "\u001b[32m[I 2021-12-22 17:32:35,833]\u001b[0m Trial 65 finished with value: 0.8114493754315486 and parameters: {'C': 1.396353968503249}. Best is trial 42 with value: 0.8282970309459545.\u001b[0m\n",
      "\u001b[32m[I 2021-12-22 17:32:35,991]\u001b[0m Trial 66 finished with value: 0.8181846713953925 and parameters: {'C': 0.9567272465936916}. Best is trial 42 with value: 0.8282970309459545.\u001b[0m\n",
      "\u001b[32m[I 2021-12-22 17:32:36,140]\u001b[0m Trial 67 finished with value: 0.8249262444291003 and parameters: {'C': 0.6419625585838113}. Best is trial 42 with value: 0.8282970309459545.\u001b[0m\n",
      "\u001b[32m[I 2021-12-22 17:32:36,287]\u001b[0m Trial 68 finished with value: 0.8137028435126483 and parameters: {'C': 2.3286720286441533}. Best is trial 42 with value: 0.8282970309459545.\u001b[0m\n",
      "\u001b[32m[I 2021-12-22 17:32:36,433]\u001b[0m Trial 69 finished with value: 0.8114556525014123 and parameters: {'C': 1.6678387443725242}. Best is trial 42 with value: 0.8282970309459545.\u001b[0m\n",
      "\u001b[32m[I 2021-12-22 17:32:36,583]\u001b[0m Trial 70 finished with value: 0.8282970309459545 and parameters: {'C': 0.4794932387653205}. Best is trial 42 with value: 0.8282970309459545.\u001b[0m\n",
      "\u001b[32m[I 2021-12-22 17:32:36,733]\u001b[0m Trial 71 finished with value: 0.8260498399347185 and parameters: {'C': 0.4020505978205461}. Best is trial 42 with value: 0.8282970309459545.\u001b[0m\n",
      "\u001b[32m[I 2021-12-22 17:32:36,879]\u001b[0m Trial 72 finished with value: 0.8226790534178645 and parameters: {'C': 0.8794382199729707}. Best is trial 42 with value: 0.8282970309459545.\u001b[0m\n",
      "\u001b[32m[I 2021-12-22 17:32:37,029]\u001b[0m Trial 73 finished with value: 0.8271734354403364 and parameters: {'C': 0.41151878616226223}. Best is trial 42 with value: 0.8282970309459545.\u001b[0m\n",
      "\u001b[32m[I 2021-12-22 17:32:37,177]\u001b[0m Trial 74 finished with value: 0.8159374803841567 and parameters: {'C': 1.1219601370046761}. Best is trial 42 with value: 0.8282970309459545.\u001b[0m\n",
      "\u001b[32m[I 2021-12-22 17:32:37,373]\u001b[0m Trial 75 finished with value: 0.7463310526646161 and parameters: {'C': 0.03199349342092905}. Best is trial 42 with value: 0.8282970309459545.\u001b[0m\n",
      "\u001b[32m[I 2021-12-22 17:32:37,528]\u001b[0m Trial 76 finished with value: 0.8282970309459545 and parameters: {'C': 0.52474728064548}. Best is trial 42 with value: 0.8282970309459545.\u001b[0m\n",
      "\u001b[32m[I 2021-12-22 17:32:37,676]\u001b[0m Trial 77 finished with value: 0.8215554579122466 and parameters: {'C': 0.8996371317756278}. Best is trial 42 with value: 0.8282970309459545.\u001b[0m\n",
      "\u001b[32m[I 2021-12-22 17:32:37,825]\u001b[0m Trial 78 finished with value: 0.8260498399347185 and parameters: {'C': 0.5488820791536393}. Best is trial 42 with value: 0.8282970309459545.\u001b[0m\n",
      "\u001b[32m[I 2021-12-22 17:32:37,973]\u001b[0m Trial 79 finished with value: 0.8114493754315486 and parameters: {'C': 1.3819915229039088}. Best is trial 42 with value: 0.8282970309459545.\u001b[0m\n",
      "\u001b[32m[I 2021-12-22 17:32:38,123]\u001b[0m Trial 80 finished with value: 0.8103383340656581 and parameters: {'C': 1.8369222186223095}. Best is trial 42 with value: 0.8282970309459545.\u001b[0m\n",
      "\u001b[32m[I 2021-12-22 17:32:38,269]\u001b[0m Trial 81 finished with value: 0.8249262444291006 and parameters: {'C': 0.6065326456151781}. Best is trial 42 with value: 0.8282970309459545.\u001b[0m\n",
      "\u001b[32m[I 2021-12-22 17:32:38,428]\u001b[0m Trial 82 finished with value: 0.8204318624066286 and parameters: {'C': 0.1965475590531765}. Best is trial 42 with value: 0.8282970309459545.\u001b[0m\n",
      "\u001b[32m[I 2021-12-22 17:32:38,573]\u001b[0m Trial 83 finished with value: 0.8226790534178645 and parameters: {'C': 0.8654455635562323}. Best is trial 42 with value: 0.8282970309459545.\u001b[0m\n",
      "\u001b[32m[I 2021-12-22 17:32:38,722]\u001b[0m Trial 84 finished with value: 0.8282970309459545 and parameters: {'C': 0.5276695540669593}. Best is trial 42 with value: 0.8282970309459545.\u001b[0m\n",
      "\u001b[32m[I 2021-12-22 17:32:38,869]\u001b[0m Trial 85 finished with value: 0.8170610758897746 and parameters: {'C': 1.1910521558572094}. Best is trial 42 with value: 0.8282970309459545.\u001b[0m\n",
      "\u001b[32m[I 2021-12-22 17:32:39,024]\u001b[0m Trial 86 finished with value: 0.8282970309459545 and parameters: {'C': 0.48722124030743885}. Best is trial 42 with value: 0.8282970309459545.\u001b[0m\n",
      "\u001b[32m[I 2021-12-22 17:32:39,172]\u001b[0m Trial 87 finished with value: 0.8103383340656581 and parameters: {'C': 1.529317899426235}. Best is trial 42 with value: 0.8282970309459545.\u001b[0m\n",
      "\u001b[32m[I 2021-12-22 17:32:39,317]\u001b[0m Trial 88 finished with value: 0.8125792480070302 and parameters: {'C': 2.2429734071126637}. Best is trial 42 with value: 0.8282970309459545.\u001b[0m\n",
      "\u001b[32m[I 2021-12-22 17:32:39,461]\u001b[0m Trial 89 finished with value: 0.8226790534178645 and parameters: {'C': 0.8644610365893401}. Best is trial 42 with value: 0.8282970309459545.\u001b[0m\n",
      "\u001b[32m[I 2021-12-22 17:32:39,609]\u001b[0m Trial 90 finished with value: 0.8282970309459545 and parameters: {'C': 0.5162960001051404}. Best is trial 42 with value: 0.8282970309459545.\u001b[0m\n"
     ]
    },
    {
     "name": "stderr",
     "output_type": "stream",
     "text": [
      "\u001b[32m[I 2021-12-22 17:32:39,758]\u001b[0m Trial 91 finished with value: 0.8282970309459545 and parameters: {'C': 0.5084084209077346}. Best is trial 42 with value: 0.8282970309459545.\u001b[0m\n",
      "\u001b[32m[I 2021-12-22 17:32:39,918]\u001b[0m Trial 92 finished with value: 0.8204318624066286 and parameters: {'C': 0.18408919243029925}. Best is trial 42 with value: 0.8282970309459545.\u001b[0m\n",
      "\u001b[32m[I 2021-12-22 17:32:40,066]\u001b[0m Trial 93 finished with value: 0.8260498399347185 and parameters: {'C': 0.5616279243647636}. Best is trial 42 with value: 0.8282970309459545.\u001b[0m\n",
      "\u001b[32m[I 2021-12-22 17:32:40,212]\u001b[0m Trial 94 finished with value: 0.8181846713953925 and parameters: {'C': 1.1469399586625986}. Best is trial 42 with value: 0.8282970309459545.\u001b[0m\n",
      "\u001b[32m[I 2021-12-22 17:32:40,379]\u001b[0m Trial 95 finished with value: 0.8204255853367648 and parameters: {'C': 0.12827151377307267}. Best is trial 42 with value: 0.8282970309459545.\u001b[0m\n",
      "\u001b[32m[I 2021-12-22 17:32:40,524]\u001b[0m Trial 96 finished with value: 0.8215554579122465 and parameters: {'C': 0.7287191137585587}. Best is trial 42 with value: 0.8282970309459545.\u001b[0m\n",
      "\u001b[32m[I 2021-12-22 17:32:40,671]\u001b[0m Trial 97 finished with value: 0.8181846713953925 and parameters: {'C': 1.0175239550250628}. Best is trial 42 with value: 0.8282970309459545.\u001b[0m\n",
      "\u001b[32m[I 2021-12-22 17:32:40,820]\u001b[0m Trial 98 finished with value: 0.8282970309459545 and parameters: {'C': 0.49056893827946774}. Best is trial 42 with value: 0.8282970309459545.\u001b[0m\n",
      "\u001b[32m[I 2021-12-22 17:32:40,967]\u001b[0m Trial 99 finished with value: 0.8114493754315486 and parameters: {'C': 1.3296366241059994}. Best is trial 42 with value: 0.8282970309459545.\u001b[0m\n",
      "\u001b[32m[I 2021-12-22 17:32:41,126]\u001b[0m Trial 100 finished with value: 0.8058251208335948 and parameters: {'C': 7.216401700945646}. Best is trial 42 with value: 0.8282970309459545.\u001b[0m\n",
      "\u001b[32m[I 2021-12-22 17:32:41,275]\u001b[0m Trial 101 finished with value: 0.8282970309459545 and parameters: {'C': 0.5058562958513644}. Best is trial 42 with value: 0.8282970309459545.\u001b[0m\n",
      "\u001b[32m[I 2021-12-22 17:32:41,418]\u001b[0m Trial 102 finished with value: 0.8226790534178645 and parameters: {'C': 0.7960032874100275}. Best is trial 42 with value: 0.8282970309459545.\u001b[0m\n",
      "\u001b[32m[I 2021-12-22 17:32:41,608]\u001b[0m Trial 103 finished with value: 0.7317556964409013 and parameters: {'C': 0.02829907842950863}. Best is trial 42 with value: 0.8282970309459545.\u001b[0m\n",
      "\u001b[32m[I 2021-12-22 17:32:41,758]\u001b[0m Trial 104 finished with value: 0.8282970309459545 and parameters: {'C': 0.4692101793200664}. Best is trial 42 with value: 0.8282970309459545.\u001b[0m\n",
      "\u001b[32m[I 2021-12-22 17:32:41,905]\u001b[0m Trial 105 finished with value: 0.8238026489234824 and parameters: {'C': 0.7031707432293642}. Best is trial 42 with value: 0.8282970309459545.\u001b[0m\n",
      "\u001b[32m[I 2021-12-22 17:32:42,051]\u001b[0m Trial 106 finished with value: 0.8170610758897746 and parameters: {'C': 1.061521863320883}. Best is trial 42 with value: 0.8282970309459545.\u001b[0m\n",
      "\u001b[32m[I 2021-12-22 17:32:42,207]\u001b[0m Trial 107 finished with value: 0.8215491808423827 and parameters: {'C': 0.23073072383742685}. Best is trial 42 with value: 0.8282970309459545.\u001b[0m\n",
      "\u001b[32m[I 2021-12-22 17:32:42,355]\u001b[0m Trial 108 finished with value: 0.8271734354403364 and parameters: {'C': 0.541092567178765}. Best is trial 42 with value: 0.8282970309459545.\u001b[0m\n",
      "\u001b[32m[I 2021-12-22 17:32:42,511]\u001b[0m Trial 109 finished with value: 0.8215491808423827 and parameters: {'C': 0.2237007583586053}. Best is trial 42 with value: 0.8282970309459545.\u001b[0m\n",
      "\u001b[32m[I 2021-12-22 17:32:42,659]\u001b[0m Trial 110 finished with value: 0.8103383340656581 and parameters: {'C': 1.4912378736576346}. Best is trial 42 with value: 0.8282970309459545.\u001b[0m\n",
      "\u001b[32m[I 2021-12-22 17:32:42,810]\u001b[0m Trial 111 finished with value: 0.8282970309459545 and parameters: {'C': 0.47958885085969694}. Best is trial 42 with value: 0.8282970309459545.\u001b[0m\n",
      "\u001b[32m[I 2021-12-22 17:32:42,962]\u001b[0m Trial 112 finished with value: 0.812560416797439 and parameters: {'C': 4.285124658520902}. Best is trial 42 with value: 0.8282970309459545.\u001b[0m\n",
      "\u001b[32m[I 2021-12-22 17:32:43,107]\u001b[0m Trial 113 finished with value: 0.8215554579122465 and parameters: {'C': 0.766275968655304}. Best is trial 42 with value: 0.8282970309459545.\u001b[0m\n",
      "\u001b[32m[I 2021-12-22 17:32:43,268]\u001b[0m Trial 114 finished with value: 0.8204318624066286 and parameters: {'C': 0.16771466808413482}. Best is trial 42 with value: 0.8282970309459545.\u001b[0m\n",
      "\u001b[32m[I 2021-12-22 17:32:43,417]\u001b[0m Trial 115 finished with value: 0.8271734354403364 and parameters: {'C': 0.5319437103155307}. Best is trial 42 with value: 0.8282970309459545.\u001b[0m\n",
      "\u001b[32m[I 2021-12-22 17:32:43,562]\u001b[0m Trial 116 finished with value: 0.8170610758897746 and parameters: {'C': 1.0052604949796453}. Best is trial 42 with value: 0.8282970309459545.\u001b[0m\n",
      "\u001b[32m[I 2021-12-22 17:32:43,713]\u001b[0m Trial 117 finished with value: 0.8080660347749669 and parameters: {'C': 5.196520250947307}. Best is trial 42 with value: 0.8282970309459545.\u001b[0m\n",
      "\u001b[32m[I 2021-12-22 17:32:43,860]\u001b[0m Trial 118 finished with value: 0.8282970309459545 and parameters: {'C': 0.5037890748718795}. Best is trial 42 with value: 0.8282970309459545.\u001b[0m\n",
      "\u001b[32m[I 2021-12-22 17:32:44,011]\u001b[0m Trial 119 finished with value: 0.8136902893729208 and parameters: {'C': 1.2471962971843875}. Best is trial 42 with value: 0.8282970309459545.\u001b[0m\n",
      "\u001b[32m[I 2021-12-22 17:32:44,203]\u001b[0m Trial 120 finished with value: 0.6161634548992531 and parameters: {'C': 0.0026959346009847174}. Best is trial 42 with value: 0.8282970309459545.\u001b[0m\n",
      "\u001b[32m[I 2021-12-22 17:32:44,352]\u001b[0m Trial 121 finished with value: 0.8282970309459545 and parameters: {'C': 0.48929014581232444}. Best is trial 42 with value: 0.8282970309459545.\u001b[0m\n",
      "\u001b[32m[I 2021-12-22 17:32:44,504]\u001b[0m Trial 122 finished with value: 0.8238026489234824 and parameters: {'C': 0.3367867871372046}. Best is trial 42 with value: 0.8282970309459545.\u001b[0m\n",
      "\u001b[32m[I 2021-12-22 17:32:44,649]\u001b[0m Trial 123 finished with value: 0.8226790534178645 and parameters: {'C': 0.8703854193554983}. Best is trial 42 with value: 0.8282970309459545.\u001b[0m\n",
      "\u001b[32m[I 2021-12-22 17:32:44,808]\u001b[0m Trial 124 finished with value: 0.803577929822359 and parameters: {'C': 9.28383279465913}. Best is trial 42 with value: 0.8282970309459545.\u001b[0m\n",
      "\u001b[32m[I 2021-12-22 17:32:44,954]\u001b[0m Trial 125 finished with value: 0.8238026489234824 and parameters: {'C': 0.7034260404658564}. Best is trial 42 with value: 0.8282970309459545.\u001b[0m\n",
      "\u001b[32m[I 2021-12-22 17:32:45,104]\u001b[0m Trial 126 finished with value: 0.8282970309459545 and parameters: {'C': 0.43751307666105027}. Best is trial 42 with value: 0.8282970309459545.\u001b[0m\n",
      "\u001b[32m[I 2021-12-22 17:32:45,260]\u001b[0m Trial 127 finished with value: 0.8215491808423827 and parameters: {'C': 0.2258589322633727}. Best is trial 42 with value: 0.8282970309459545.\u001b[0m\n",
      "\u001b[32m[I 2021-12-22 17:32:45,405]\u001b[0m Trial 128 finished with value: 0.8226790534178645 and parameters: {'C': 0.8022015041933177}. Best is trial 42 with value: 0.8282970309459545.\u001b[0m\n",
      "\u001b[32m[I 2021-12-22 17:32:45,552]\u001b[0m Trial 129 finished with value: 0.8271734354403364 and parameters: {'C': 0.5362271230849982}. Best is trial 42 with value: 0.8282970309459545.\u001b[0m\n",
      "\u001b[32m[I 2021-12-22 17:32:45,700]\u001b[0m Trial 130 finished with value: 0.8114556525014123 and parameters: {'C': 3.038495160714772}. Best is trial 42 with value: 0.8282970309459545.\u001b[0m\n",
      "\u001b[32m[I 2021-12-22 17:32:45,849]\u001b[0m Trial 131 finished with value: 0.8271734354403364 and parameters: {'C': 0.4074842004081984}. Best is trial 42 with value: 0.8282970309459545.\u001b[0m\n",
      "\u001b[32m[I 2021-12-22 17:32:45,996]\u001b[0m Trial 132 finished with value: 0.8170610758897746 and parameters: {'C': 1.003056296083017}. Best is trial 42 with value: 0.8282970309459545.\u001b[0m\n",
      "\u001b[32m[I 2021-12-22 17:32:46,154]\u001b[0m Trial 133 finished with value: 0.8215491808423827 and parameters: {'C': 0.21785218625310182}. Best is trial 42 with value: 0.8282970309459545.\u001b[0m\n",
      "\u001b[32m[I 2021-12-22 17:32:46,302]\u001b[0m Trial 134 finished with value: 0.8249262444291006 and parameters: {'C': 0.608012021780274}. Best is trial 42 with value: 0.8282970309459545.\u001b[0m\n",
      "\u001b[32m[I 2021-12-22 17:32:46,445]\u001b[0m Trial 135 finished with value: 0.8215554579122465 and parameters: {'C': 0.7329146282531798}. Best is trial 42 with value: 0.8282970309459545.\u001b[0m\n"
     ]
    },
    {
     "name": "stderr",
     "output_type": "stream",
     "text": [
      "\u001b[32m[I 2021-12-22 17:32:46,595]\u001b[0m Trial 136 finished with value: 0.8260498399347185 and parameters: {'C': 0.4024839803781737}. Best is trial 42 with value: 0.8282970309459545.\u001b[0m\n",
      "\u001b[32m[I 2021-12-22 17:32:46,786]\u001b[0m Trial 137 finished with value: 0.6161634548992531 and parameters: {'C': 0.0014738067632984464}. Best is trial 42 with value: 0.8282970309459545.\u001b[0m\n",
      "\u001b[32m[I 2021-12-22 17:32:46,932]\u001b[0m Trial 138 finished with value: 0.8159374803841567 and parameters: {'C': 1.2081690908851908}. Best is trial 42 with value: 0.8282970309459545.\u001b[0m\n",
      "\u001b[32m[I 2021-12-22 17:32:47,079]\u001b[0m Trial 139 finished with value: 0.8181846713953925 and parameters: {'C': 0.9611024927149677}. Best is trial 42 with value: 0.8282970309459545.\u001b[0m\n",
      "\u001b[32m[I 2021-12-22 17:32:47,227]\u001b[0m Trial 140 finished with value: 0.8271734354403364 and parameters: {'C': 0.5291537916111546}. Best is trial 42 with value: 0.8282970309459545.\u001b[0m\n",
      "\u001b[32m[I 2021-12-22 17:32:47,378]\u001b[0m Trial 141 finished with value: 0.8282970309459545 and parameters: {'C': 0.44070883974888253}. Best is trial 42 with value: 0.8282970309459545.\u001b[0m\n",
      "\u001b[32m[I 2021-12-22 17:32:47,534]\u001b[0m Trial 142 finished with value: 0.8237963718536188 and parameters: {'C': 0.25369522673694356}. Best is trial 42 with value: 0.8282970309459545.\u001b[0m\n",
      "\u001b[32m[I 2021-12-22 17:32:47,684]\u001b[0m Trial 143 finished with value: 0.8271734354403364 and parameters: {'C': 0.4105216040422817}. Best is trial 42 with value: 0.8282970309459545.\u001b[0m\n",
      "\u001b[32m[I 2021-12-22 17:32:47,832]\u001b[0m Trial 144 finished with value: 0.8238026489234824 and parameters: {'C': 0.6798728972440826}. Best is trial 42 with value: 0.8282970309459545.\u001b[0m\n",
      "\u001b[32m[I 2021-12-22 17:32:47,978]\u001b[0m Trial 145 finished with value: 0.8238026489234824 and parameters: {'C': 0.8416533173796242}. Best is trial 42 with value: 0.8282970309459545.\u001b[0m\n",
      "\u001b[32m[I 2021-12-22 17:32:48,139]\u001b[0m Trial 146 finished with value: 0.8204318624066286 and parameters: {'C': 0.1836717336893583}. Best is trial 42 with value: 0.8282970309459545.\u001b[0m\n",
      "\u001b[32m[I 2021-12-22 17:32:48,283]\u001b[0m Trial 147 finished with value: 0.8170610758897746 and parameters: {'C': 1.0867705084434092}. Best is trial 42 with value: 0.8282970309459545.\u001b[0m\n",
      "\u001b[32m[I 2021-12-22 17:32:48,432]\u001b[0m Trial 148 finished with value: 0.8282970309459545 and parameters: {'C': 0.47504653235299726}. Best is trial 42 with value: 0.8282970309459545.\u001b[0m\n",
      "\u001b[32m[I 2021-12-22 17:32:48,578]\u001b[0m Trial 149 finished with value: 0.8249262444291006 and parameters: {'C': 0.6128324459249354}. Best is trial 42 with value: 0.8282970309459545.\u001b[0m\n",
      "\u001b[32m[I 2021-12-22 17:32:48,730]\u001b[0m Trial 150 finished with value: 0.8249199673592367 and parameters: {'C': 0.319096116769924}. Best is trial 42 with value: 0.8282970309459545.\u001b[0m\n",
      "\u001b[32m[I 2021-12-22 17:32:48,877]\u001b[0m Trial 151 finished with value: 0.8282970309459545 and parameters: {'C': 0.47497304285144515}. Best is trial 42 with value: 0.8282970309459545.\u001b[0m\n",
      "\u001b[32m[I 2021-12-22 17:32:49,067]\u001b[0m Trial 152 finished with value: 0.6161634548992531 and parameters: {'C': 0.0023370674017244575}. Best is trial 42 with value: 0.8282970309459545.\u001b[0m\n",
      "\u001b[32m[I 2021-12-22 17:32:49,211]\u001b[0m Trial 153 finished with value: 0.8226790534178645 and parameters: {'C': 0.7975309078707686}. Best is trial 42 with value: 0.8282970309459545.\u001b[0m\n",
      "\u001b[32m[I 2021-12-22 17:32:49,358]\u001b[0m Trial 154 finished with value: 0.8249262444291006 and parameters: {'C': 0.6073599215902598}. Best is trial 42 with value: 0.8282970309459545.\u001b[0m\n",
      "\u001b[32m[I 2021-12-22 17:32:49,505]\u001b[0m Trial 155 finished with value: 0.8114493754315486 and parameters: {'C': 1.3264570941331768}. Best is trial 42 with value: 0.8282970309459545.\u001b[0m\n",
      "\u001b[32m[I 2021-12-22 17:32:49,662]\u001b[0m Trial 156 finished with value: 0.8215491808423827 and parameters: {'C': 0.20229107845474004}. Best is trial 42 with value: 0.8282970309459545.\u001b[0m\n",
      "\u001b[32m[I 2021-12-22 17:32:49,811]\u001b[0m Trial 157 finished with value: 0.8282970309459545 and parameters: {'C': 0.43983551831242723}. Best is trial 42 with value: 0.8282970309459545.\u001b[0m\n",
      "\u001b[32m[I 2021-12-22 17:32:49,958]\u001b[0m Trial 158 finished with value: 0.8215554579122466 and parameters: {'C': 0.905200853320967}. Best is trial 42 with value: 0.8282970309459545.\u001b[0m\n",
      "\u001b[32m[I 2021-12-22 17:32:50,108]\u001b[0m Trial 159 finished with value: 0.8271734354403364 and parameters: {'C': 0.425617918631897}. Best is trial 42 with value: 0.8282970309459545.\u001b[0m\n",
      "\u001b[32m[I 2021-12-22 17:32:50,253]\u001b[0m Trial 160 finished with value: 0.8170610758897746 and parameters: {'C': 1.0565277251742589}. Best is trial 42 with value: 0.8282970309459545.\u001b[0m\n",
      "\u001b[32m[I 2021-12-22 17:32:50,403]\u001b[0m Trial 161 finished with value: 0.8282970309459545 and parameters: {'C': 0.4711185016909899}. Best is trial 42 with value: 0.8282970309459545.\u001b[0m\n",
      "\u001b[32m[I 2021-12-22 17:32:50,551]\u001b[0m Trial 162 finished with value: 0.8226790534178645 and parameters: {'C': 0.7184202843612691}. Best is trial 42 with value: 0.8282970309459545.\u001b[0m\n",
      "\u001b[32m[I 2021-12-22 17:32:50,705]\u001b[0m Trial 163 finished with value: 0.8237963718536188 and parameters: {'C': 0.26311760857708955}. Best is trial 42 with value: 0.8282970309459545.\u001b[0m\n",
      "\u001b[32m[I 2021-12-22 17:32:50,853]\u001b[0m Trial 164 finished with value: 0.8282970309459545 and parameters: {'C': 0.43240471946832587}. Best is trial 42 with value: 0.8282970309459545.\u001b[0m\n",
      "\u001b[32m[I 2021-12-22 17:32:51,018]\u001b[0m Trial 165 finished with value: 0.8193082669010107 and parameters: {'C': 0.1415871508734622}. Best is trial 42 with value: 0.8282970309459545.\u001b[0m\n",
      "\u001b[32m[I 2021-12-22 17:32:51,163]\u001b[0m Trial 166 finished with value: 0.8215554579122465 and parameters: {'C': 0.7324228520205542}. Best is trial 42 with value: 0.8282970309459545.\u001b[0m\n",
      "\u001b[32m[I 2021-12-22 17:32:51,311]\u001b[0m Trial 167 finished with value: 0.8249262444291006 and parameters: {'C': 0.6191474154944052}. Best is trial 42 with value: 0.8282970309459545.\u001b[0m\n",
      "\u001b[32m[I 2021-12-22 17:32:51,461]\u001b[0m Trial 168 finished with value: 0.8249262444291006 and parameters: {'C': 0.3464873036491092}. Best is trial 42 with value: 0.8282970309459545.\u001b[0m\n",
      "\u001b[32m[I 2021-12-22 17:32:51,650]\u001b[0m Trial 169 finished with value: 0.6161634548992531 and parameters: {'C': 0.008383308342269302}. Best is trial 42 with value: 0.8282970309459545.\u001b[0m\n",
      "\u001b[32m[I 2021-12-22 17:32:51,798]\u001b[0m Trial 170 finished with value: 0.8204318624066286 and parameters: {'C': 0.9159954097062328}. Best is trial 42 with value: 0.8282970309459545.\u001b[0m\n",
      "\u001b[32m[I 2021-12-22 17:32:51,950]\u001b[0m Trial 171 finished with value: 0.8282970309459545 and parameters: {'C': 0.4656900715238855}. Best is trial 42 with value: 0.8282970309459545.\u001b[0m\n",
      "\u001b[32m[I 2021-12-22 17:32:52,100]\u001b[0m Trial 172 finished with value: 0.8260498399347185 and parameters: {'C': 0.5610086605084997}. Best is trial 42 with value: 0.8282970309459545.\u001b[0m\n",
      "\u001b[32m[I 2021-12-22 17:32:52,248]\u001b[0m Trial 173 finished with value: 0.8282970309459545 and parameters: {'C': 0.49827108712521145}. Best is trial 42 with value: 0.8282970309459545.\u001b[0m\n",
      "\u001b[32m[I 2021-12-22 17:32:52,404]\u001b[0m Trial 174 finished with value: 0.8237963718536188 and parameters: {'C': 0.24641993918722105}. Best is trial 42 with value: 0.8282970309459545.\u001b[0m\n",
      "\u001b[32m[I 2021-12-22 17:32:52,551]\u001b[0m Trial 175 finished with value: 0.8226790534178645 and parameters: {'C': 0.8632902342761689}. Best is trial 42 with value: 0.8282970309459545.\u001b[0m\n",
      "\u001b[32m[I 2021-12-22 17:32:52,702]\u001b[0m Trial 176 finished with value: 0.8249262444291006 and parameters: {'C': 0.35314727461142903}. Best is trial 42 with value: 0.8282970309459545.\u001b[0m\n",
      "\u001b[32m[I 2021-12-22 17:32:52,849]\u001b[0m Trial 177 finished with value: 0.8215554579122465 and parameters: {'C': 0.7228593221246316}. Best is trial 42 with value: 0.8282970309459545.\u001b[0m\n",
      "\u001b[32m[I 2021-12-22 17:32:53,003]\u001b[0m Trial 178 finished with value: 0.8058251208335948 and parameters: {'C': 6.625584340955985}. Best is trial 42 with value: 0.8282970309459545.\u001b[0m\n",
      "\u001b[32m[I 2021-12-22 17:32:53,163]\u001b[0m Trial 179 finished with value: 0.8204318624066286 and parameters: {'C': 0.18187453766709172}. Best is trial 42 with value: 0.8282970309459545.\u001b[0m\n",
      "\u001b[32m[I 2021-12-22 17:32:53,313]\u001b[0m Trial 180 finished with value: 0.8260498399347185 and parameters: {'C': 0.37707126825523374}. Best is trial 42 with value: 0.8282970309459545.\u001b[0m\n"
     ]
    },
    {
     "name": "stderr",
     "output_type": "stream",
     "text": [
      "\u001b[32m[I 2021-12-22 17:32:53,461]\u001b[0m Trial 181 finished with value: 0.8271734354403364 and parameters: {'C': 0.5479483735273605}. Best is trial 42 with value: 0.8282970309459545.\u001b[0m\n",
      "\u001b[32m[I 2021-12-22 17:32:53,607]\u001b[0m Trial 182 finished with value: 0.8249262444291003 and parameters: {'C': 0.6298755591995827}. Best is trial 42 with value: 0.8282970309459545.\u001b[0m\n",
      "\u001b[32m[I 2021-12-22 17:32:53,752]\u001b[0m Trial 183 finished with value: 0.8226790534178645 and parameters: {'C': 0.8812676629844802}. Best is trial 42 with value: 0.8282970309459545.\u001b[0m\n",
      "\u001b[32m[I 2021-12-22 17:32:53,902]\u001b[0m Trial 184 finished with value: 0.8271734354403364 and parameters: {'C': 0.41491203374440466}. Best is trial 42 with value: 0.8282970309459545.\u001b[0m\n",
      "\u001b[32m[I 2021-12-22 17:32:54,051]\u001b[0m Trial 185 finished with value: 0.8282970309459545 and parameters: {'C': 0.463402767240481}. Best is trial 42 with value: 0.8282970309459545.\u001b[0m\n",
      "\u001b[32m[I 2021-12-22 17:32:54,214]\u001b[0m Trial 186 finished with value: 0.8204318624066286 and parameters: {'C': 0.1614129555949554}. Best is trial 42 with value: 0.8282970309459545.\u001b[0m\n",
      "\u001b[32m[I 2021-12-22 17:32:54,361]\u001b[0m Trial 187 finished with value: 0.8170610758897746 and parameters: {'C': 1.1671705009097448}. Best is trial 42 with value: 0.8282970309459545.\u001b[0m\n",
      "\u001b[32m[I 2021-12-22 17:32:54,508]\u001b[0m Trial 188 finished with value: 0.8215554579122465 and parameters: {'C': 0.7558628619342849}. Best is trial 42 with value: 0.8282970309459545.\u001b[0m\n",
      "\u001b[32m[I 2021-12-22 17:32:54,656]\u001b[0m Trial 189 finished with value: 0.8271734354403364 and parameters: {'C': 0.5409290804595064}. Best is trial 42 with value: 0.8282970309459545.\u001b[0m\n",
      "\u001b[32m[I 2021-12-22 17:32:54,813]\u001b[0m Trial 190 finished with value: 0.8114493754315486 and parameters: {'C': 3.6756107146222012}. Best is trial 42 with value: 0.8282970309459545.\u001b[0m\n",
      "\u001b[32m[I 2021-12-22 17:32:54,961]\u001b[0m Trial 191 finished with value: 0.8282970309459545 and parameters: {'C': 0.44054816931393487}. Best is trial 42 with value: 0.8282970309459545.\u001b[0m\n",
      "\u001b[32m[I 2021-12-22 17:32:56,010]\u001b[0m Trial 192 finished with value: 0.8249199673592367 and parameters: {'C': 0.3201511526843889}. Best is trial 42 with value: 0.8282970309459545.\u001b[0m\n",
      "\u001b[32m[I 2021-12-22 17:32:56,159]\u001b[0m Trial 193 finished with value: 0.8282970309459545 and parameters: {'C': 0.4377515819409708}. Best is trial 42 with value: 0.8282970309459545.\u001b[0m\n",
      "\u001b[32m[I 2021-12-22 17:32:56,318]\u001b[0m Trial 194 finished with value: 0.8204318624066286 and parameters: {'C': 0.18829354533935244}. Best is trial 42 with value: 0.8282970309459545.\u001b[0m\n",
      "\u001b[32m[I 2021-12-22 17:32:56,463]\u001b[0m Trial 195 finished with value: 0.8238026489234824 and parameters: {'C': 0.6575305230670925}. Best is trial 42 with value: 0.8282970309459545.\u001b[0m\n",
      "\u001b[32m[I 2021-12-22 17:32:56,654]\u001b[0m Trial 196 finished with value: 0.617287050404871 and parameters: {'C': 0.017877237652529576}. Best is trial 42 with value: 0.8282970309459545.\u001b[0m\n",
      "\u001b[32m[I 2021-12-22 17:32:56,799]\u001b[0m Trial 197 finished with value: 0.8181846713953925 and parameters: {'C': 0.9890016281522571}. Best is trial 42 with value: 0.8282970309459545.\u001b[0m\n",
      "\u001b[32m[I 2021-12-22 17:32:56,946]\u001b[0m Trial 198 finished with value: 0.8260498399347185 and parameters: {'C': 0.5816417734926466}. Best is trial 42 with value: 0.8282970309459545.\u001b[0m\n",
      "\u001b[32m[I 2021-12-22 17:32:57,095]\u001b[0m Trial 199 finished with value: 0.8238026489234824 and parameters: {'C': 0.8172351419057693}. Best is trial 42 with value: 0.8282970309459545.\u001b[0m\n",
      "\u001b[32m[I 2021-12-22 17:32:57,243]\u001b[0m Trial 200 finished with value: 0.8282970309459545 and parameters: {'C': 0.4393557772768509}. Best is trial 42 with value: 0.8282970309459545.\u001b[0m\n",
      "\u001b[32m[I 2021-12-22 17:32:57,394]\u001b[0m Trial 201 finished with value: 0.8249199673592367 and parameters: {'C': 0.3084396725878048}. Best is trial 42 with value: 0.8282970309459545.\u001b[0m\n",
      "\u001b[32m[I 2021-12-22 17:32:57,543]\u001b[0m Trial 202 finished with value: 0.8282970309459545 and parameters: {'C': 0.5217644638737658}. Best is trial 42 with value: 0.8282970309459545.\u001b[0m\n",
      "\u001b[32m[I 2021-12-22 17:32:57,690]\u001b[0m Trial 203 finished with value: 0.8215554579122465 and parameters: {'C': 0.7592755802919406}. Best is trial 42 with value: 0.8282970309459545.\u001b[0m\n",
      "\u001b[32m[I 2021-12-22 17:32:57,838]\u001b[0m Trial 204 finished with value: 0.8282970309459545 and parameters: {'C': 0.5035614028629578}. Best is trial 42 with value: 0.8282970309459545.\u001b[0m\n",
      "\u001b[32m[I 2021-12-22 17:32:57,996]\u001b[0m Trial 205 finished with value: 0.8204318624066286 and parameters: {'C': 0.18085992559929964}. Best is trial 42 with value: 0.8282970309459545.\u001b[0m\n",
      "\u001b[32m[I 2021-12-22 17:32:58,148]\u001b[0m Trial 206 finished with value: 0.8249262444291006 and parameters: {'C': 0.3534591217081448}. Best is trial 42 with value: 0.8282970309459545.\u001b[0m\n",
      "\u001b[32m[I 2021-12-22 17:32:58,295]\u001b[0m Trial 207 finished with value: 0.8238026489234824 and parameters: {'C': 0.6930924635248352}. Best is trial 42 with value: 0.8282970309459545.\u001b[0m\n",
      "\u001b[32m[I 2021-12-22 17:32:58,446]\u001b[0m Trial 208 finished with value: 0.8282970309459545 and parameters: {'C': 0.4520431521102641}. Best is trial 42 with value: 0.8282970309459545.\u001b[0m\n",
      "\u001b[32m[I 2021-12-22 17:32:58,592]\u001b[0m Trial 209 finished with value: 0.8181846713953925 and parameters: {'C': 1.0224347830595155}. Best is trial 42 with value: 0.8282970309459545.\u001b[0m\n",
      "\u001b[32m[I 2021-12-22 17:32:58,751]\u001b[0m Trial 210 finished with value: 0.8204318624066286 and parameters: {'C': 0.18581121692202388}. Best is trial 42 with value: 0.8282970309459545.\u001b[0m\n",
      "\u001b[32m[I 2021-12-22 17:32:58,898]\u001b[0m Trial 211 finished with value: 0.8282970309459545 and parameters: {'C': 0.43973590902876913}. Best is trial 42 with value: 0.8282970309459545.\u001b[0m\n",
      "\u001b[32m[I 2021-12-22 17:32:59,045]\u001b[0m Trial 212 finished with value: 0.8282970309459545 and parameters: {'C': 0.5009276287642221}. Best is trial 42 with value: 0.8282970309459545.\u001b[0m\n",
      "\u001b[32m[I 2021-12-22 17:32:59,194]\u001b[0m Trial 213 finished with value: 0.8238026489234824 and parameters: {'C': 0.6818312816627167}. Best is trial 42 with value: 0.8282970309459545.\u001b[0m\n",
      "\u001b[32m[I 2021-12-22 17:32:59,341]\u001b[0m Trial 214 finished with value: 0.8260498399347185 and parameters: {'C': 0.568497630894343}. Best is trial 42 with value: 0.8282970309459545.\u001b[0m\n",
      "\u001b[32m[I 2021-12-22 17:32:59,490]\u001b[0m Trial 215 finished with value: 0.8260498399347185 and parameters: {'C': 0.37923546809615827}. Best is trial 42 with value: 0.8282970309459545.\u001b[0m\n",
      "\u001b[32m[I 2021-12-22 17:32:59,679]\u001b[0m Trial 216 finished with value: 0.6161634548992531 and parameters: {'C': 0.017080341272266875}. Best is trial 42 with value: 0.8282970309459545.\u001b[0m\n",
      "\u001b[32m[I 2021-12-22 17:32:59,826]\u001b[0m Trial 217 finished with value: 0.8226790534178645 and parameters: {'C': 0.8887941383082312}. Best is trial 42 with value: 0.8282970309459545.\u001b[0m\n",
      "\u001b[32m[I 2021-12-22 17:32:59,979]\u001b[0m Trial 218 finished with value: 0.8237963718536188 and parameters: {'C': 0.2756244010243598}. Best is trial 42 with value: 0.8282970309459545.\u001b[0m\n",
      "\u001b[32m[I 2021-12-22 17:33:00,134]\u001b[0m Trial 219 finished with value: 0.8249199673592367 and parameters: {'C': 0.3162904584666561}. Best is trial 42 with value: 0.8282970309459545.\u001b[0m\n",
      "\u001b[32m[I 2021-12-22 17:33:00,281]\u001b[0m Trial 220 finished with value: 0.8238026489234824 and parameters: {'C': 0.7048216156182605}. Best is trial 42 with value: 0.8282970309459545.\u001b[0m\n",
      "\u001b[32m[I 2021-12-22 17:33:00,427]\u001b[0m Trial 221 finished with value: 0.8249262444291003 and parameters: {'C': 0.6327490767391624}. Best is trial 42 with value: 0.8282970309459545.\u001b[0m\n",
      "\u001b[32m[I 2021-12-22 17:33:00,576]\u001b[0m Trial 222 finished with value: 0.8260498399347185 and parameters: {'C': 0.5717779212972085}. Best is trial 42 with value: 0.8282970309459545.\u001b[0m\n",
      "\u001b[32m[I 2021-12-22 17:33:00,722]\u001b[0m Trial 223 finished with value: 0.8226790534178645 and parameters: {'C': 0.815566638290837}. Best is trial 42 with value: 0.8282970309459545.\u001b[0m\n",
      "\u001b[32m[I 2021-12-22 17:33:00,871]\u001b[0m Trial 224 finished with value: 0.8271734354403364 and parameters: {'C': 0.42029154485671033}. Best is trial 42 with value: 0.8282970309459545.\u001b[0m\n",
      "\u001b[32m[I 2021-12-22 17:33:01,031]\u001b[0m Trial 225 finished with value: 0.8046952482581131 and parameters: {'C': 8.406520740383469}. Best is trial 42 with value: 0.8282970309459545.\u001b[0m\n"
     ]
    },
    {
     "name": "stderr",
     "output_type": "stream",
     "text": [
      "\u001b[32m[I 2021-12-22 17:33:01,180]\u001b[0m Trial 226 finished with value: 0.8282970309459545 and parameters: {'C': 0.514213109462163}. Best is trial 42 with value: 0.8282970309459545.\u001b[0m\n",
      "\u001b[32m[I 2021-12-22 17:33:01,342]\u001b[0m Trial 227 finished with value: 0.8204318624066286 and parameters: {'C': 0.1725634166882783}. Best is trial 42 with value: 0.8282970309459545.\u001b[0m\n",
      "\u001b[32m[I 2021-12-22 17:33:01,493]\u001b[0m Trial 228 finished with value: 0.8249199673592367 and parameters: {'C': 0.3171882721089322}. Best is trial 42 with value: 0.8282970309459545.\u001b[0m\n",
      "\u001b[32m[I 2021-12-22 17:33:01,642]\u001b[0m Trial 229 finished with value: 0.8282970309459545 and parameters: {'C': 0.4947869220702496}. Best is trial 42 with value: 0.8282970309459545.\u001b[0m\n",
      "\u001b[32m[I 2021-12-22 17:33:01,789]\u001b[0m Trial 230 finished with value: 0.8226790534178645 and parameters: {'C': 0.8750346080864709}. Best is trial 42 with value: 0.8282970309459545.\u001b[0m\n",
      "\u001b[32m[I 2021-12-22 17:33:01,935]\u001b[0m Trial 231 finished with value: 0.8238026489234824 and parameters: {'C': 0.6241072331933136}. Best is trial 42 with value: 0.8282970309459545.\u001b[0m\n",
      "\u001b[32m[I 2021-12-22 17:33:02,084]\u001b[0m Trial 232 finished with value: 0.8260498399347185 and parameters: {'C': 0.3942540830488282}. Best is trial 42 with value: 0.8282970309459545.\u001b[0m\n",
      "\u001b[32m[I 2021-12-22 17:33:02,234]\u001b[0m Trial 233 finished with value: 0.8260498399347185 and parameters: {'C': 0.5695718100988715}. Best is trial 42 with value: 0.8282970309459545.\u001b[0m\n",
      "\u001b[32m[I 2021-12-22 17:33:02,392]\u001b[0m Trial 234 finished with value: 0.8215491808423827 and parameters: {'C': 0.20046381204254154}. Best is trial 42 with value: 0.8282970309459545.\u001b[0m\n",
      "\u001b[32m[I 2021-12-22 17:33:02,547]\u001b[0m Trial 235 finished with value: 0.8282970309459545 and parameters: {'C': 0.5162838648183108}. Best is trial 42 with value: 0.8282970309459545.\u001b[0m\n",
      "\u001b[32m[I 2021-12-22 17:33:02,703]\u001b[0m Trial 236 finished with value: 0.8282970309459545 and parameters: {'C': 0.43888905491841235}. Best is trial 42 with value: 0.8282970309459545.\u001b[0m\n",
      "\u001b[32m[I 2021-12-22 17:33:02,848]\u001b[0m Trial 237 finished with value: 0.8215554579122465 and parameters: {'C': 0.7487789664036817}. Best is trial 42 with value: 0.8282970309459545.\u001b[0m\n",
      "\u001b[32m[I 2021-12-22 17:33:03,007]\u001b[0m Trial 238 finished with value: 0.8204318624066286 and parameters: {'C': 0.18681503353505058}. Best is trial 42 with value: 0.8282970309459545.\u001b[0m\n",
      "\u001b[32m[I 2021-12-22 17:33:03,154]\u001b[0m Trial 239 finished with value: 0.8215554579122465 and parameters: {'C': 0.772611427678466}. Best is trial 42 with value: 0.8282970309459545.\u001b[0m\n",
      "\u001b[32m[I 2021-12-22 17:33:03,301]\u001b[0m Trial 240 finished with value: 0.8170610758897746 and parameters: {'C': 1.0622909957975528}. Best is trial 42 with value: 0.8282970309459545.\u001b[0m\n",
      "\u001b[32m[I 2021-12-22 17:33:03,449]\u001b[0m Trial 241 finished with value: 0.8271734354403364 and parameters: {'C': 0.4264460372831461}. Best is trial 42 with value: 0.8282970309459545.\u001b[0m\n",
      "\u001b[32m[I 2021-12-22 17:33:03,599]\u001b[0m Trial 242 finished with value: 0.8260498399347185 and parameters: {'C': 0.406920963023354}. Best is trial 42 with value: 0.8282970309459545.\u001b[0m\n",
      "\u001b[32m[I 2021-12-22 17:33:03,758]\u001b[0m Trial 243 finished with value: 0.8204318624066286 and parameters: {'C': 0.17205256318440698}. Best is trial 42 with value: 0.8282970309459545.\u001b[0m\n",
      "\u001b[32m[I 2021-12-22 17:33:03,904]\u001b[0m Trial 244 finished with value: 0.8260498399347185 and parameters: {'C': 0.5651270644532164}. Best is trial 42 with value: 0.8282970309459545.\u001b[0m\n",
      "\u001b[32m[I 2021-12-22 17:33:04,055]\u001b[0m Trial 245 finished with value: 0.8249199673592367 and parameters: {'C': 0.307274202347942}. Best is trial 42 with value: 0.8282970309459545.\u001b[0m\n",
      "\u001b[32m[I 2021-12-22 17:33:04,204]\u001b[0m Trial 246 finished with value: 0.8282970309459545 and parameters: {'C': 0.4855556461237313}. Best is trial 42 with value: 0.8282970309459545.\u001b[0m\n",
      "\u001b[32m[I 2021-12-22 17:33:04,351]\u001b[0m Trial 247 finished with value: 0.8215554579122465 and parameters: {'C': 0.7279643202062369}. Best is trial 42 with value: 0.8282970309459545.\u001b[0m\n",
      "\u001b[32m[I 2021-12-22 17:33:04,505]\u001b[0m Trial 248 finished with value: 0.8238026489234824 and parameters: {'C': 0.34210850818479155}. Best is trial 42 with value: 0.8282970309459545.\u001b[0m\n",
      "\u001b[32m[I 2021-12-22 17:33:04,652]\u001b[0m Trial 249 finished with value: 0.8249262444291006 and parameters: {'C': 0.6080937279406463}. Best is trial 42 with value: 0.8282970309459545.\u001b[0m\n",
      "\u001b[32m[I 2021-12-22 17:33:04,838]\u001b[0m Trial 250 finished with value: 0.7979599522942691 and parameters: {'C': 0.04274066417708028}. Best is trial 42 with value: 0.8282970309459545.\u001b[0m\n",
      "\u001b[32m[I 2021-12-22 17:33:04,987]\u001b[0m Trial 251 finished with value: 0.8282970309459545 and parameters: {'C': 0.4850656691358042}. Best is trial 42 with value: 0.8282970309459545.\u001b[0m\n",
      "\u001b[32m[I 2021-12-22 17:33:05,141]\u001b[0m Trial 252 finished with value: 0.8237963718536188 and parameters: {'C': 0.28402291382945705}. Best is trial 42 with value: 0.8282970309459545.\u001b[0m\n",
      "\u001b[32m[I 2021-12-22 17:33:05,287]\u001b[0m Trial 253 finished with value: 0.8215554579122466 and parameters: {'C': 0.9034954772836841}. Best is trial 42 with value: 0.8282970309459545.\u001b[0m\n",
      "\u001b[32m[I 2021-12-22 17:33:05,433]\u001b[0m Trial 254 finished with value: 0.8226790534178645 and parameters: {'C': 0.7142369233414557}. Best is trial 42 with value: 0.8282970309459545.\u001b[0m\n",
      "\u001b[32m[I 2021-12-22 17:33:05,580]\u001b[0m Trial 255 finished with value: 0.8260498399347185 and parameters: {'C': 0.5514177280113168}. Best is trial 42 with value: 0.8282970309459545.\u001b[0m\n",
      "\u001b[32m[I 2021-12-22 17:33:05,726]\u001b[0m Trial 256 finished with value: 0.8260498399347185 and parameters: {'C': 0.5798549917340259}. Best is trial 42 with value: 0.8282970309459545.\u001b[0m\n",
      "\u001b[32m[I 2021-12-22 17:33:05,880]\u001b[0m Trial 257 finished with value: 0.812560416797439 and parameters: {'C': 4.857991565779007}. Best is trial 42 with value: 0.8282970309459545.\u001b[0m\n",
      "\u001b[32m[I 2021-12-22 17:33:06,029]\u001b[0m Trial 258 finished with value: 0.8282970309459545 and parameters: {'C': 0.4641300985887232}. Best is trial 42 with value: 0.8282970309459545.\u001b[0m\n",
      "\u001b[32m[I 2021-12-22 17:33:06,182]\u001b[0m Trial 259 finished with value: 0.804701525327977 and parameters: {'C': 5.749938385587653}. Best is trial 42 with value: 0.8282970309459545.\u001b[0m\n",
      "\u001b[32m[I 2021-12-22 17:33:06,328]\u001b[0m Trial 260 finished with value: 0.8193082669010107 and parameters: {'C': 0.948384285765277}. Best is trial 42 with value: 0.8282970309459545.\u001b[0m\n",
      "\u001b[32m[I 2021-12-22 17:33:06,494]\u001b[0m Trial 261 finished with value: 0.8193082669010107 and parameters: {'C': 0.146806115415901}. Best is trial 42 with value: 0.8282970309459545.\u001b[0m\n",
      "\u001b[32m[I 2021-12-22 17:33:06,639]\u001b[0m Trial 262 finished with value: 0.8215554579122465 and parameters: {'C': 0.7528912759323776}. Best is trial 42 with value: 0.8282970309459545.\u001b[0m\n",
      "\u001b[32m[I 2021-12-22 17:33:06,790]\u001b[0m Trial 263 finished with value: 0.8238026489234824 and parameters: {'C': 0.3412739899344927}. Best is trial 42 with value: 0.8282970309459545.\u001b[0m\n",
      "\u001b[32m[I 2021-12-22 17:33:06,982]\u001b[0m Trial 264 finished with value: 0.6161634548992531 and parameters: {'C': 0.01701476279887748}. Best is trial 42 with value: 0.8282970309459545.\u001b[0m\n",
      "\u001b[32m[I 2021-12-22 17:33:07,133]\u001b[0m Trial 265 finished with value: 0.8103257799259305 and parameters: {'C': 3.7897933251219165}. Best is trial 42 with value: 0.8282970309459545.\u001b[0m\n",
      "\u001b[32m[I 2021-12-22 17:33:07,281]\u001b[0m Trial 266 finished with value: 0.8249262444291006 and parameters: {'C': 0.6112862642523486}. Best is trial 42 with value: 0.8282970309459545.\u001b[0m\n",
      "\u001b[32m[I 2021-12-22 17:33:07,434]\u001b[0m Trial 267 finished with value: 0.8237963718536188 and parameters: {'C': 0.28232088044246684}. Best is trial 42 with value: 0.8282970309459545.\u001b[0m\n",
      "\u001b[32m[I 2021-12-22 17:33:07,578]\u001b[0m Trial 268 finished with value: 0.8238026489234824 and parameters: {'C': 0.8339883760662168}. Best is trial 42 with value: 0.8282970309459545.\u001b[0m\n",
      "\u001b[32m[I 2021-12-22 17:33:07,727]\u001b[0m Trial 269 finished with value: 0.8271734354403364 and parameters: {'C': 0.4160595771002174}. Best is trial 42 with value: 0.8282970309459545.\u001b[0m\n",
      "\u001b[32m[I 2021-12-22 17:33:07,877]\u001b[0m Trial 270 finished with value: 0.8271734354403364 and parameters: {'C': 0.4132727357474655}. Best is trial 42 with value: 0.8282970309459545.\u001b[0m\n"
     ]
    },
    {
     "name": "stderr",
     "output_type": "stream",
     "text": [
      "\u001b[32m[I 2021-12-22 17:33:08,032]\u001b[0m Trial 271 finished with value: 0.8215491808423827 and parameters: {'C': 0.23382421557782065}. Best is trial 42 with value: 0.8282970309459545.\u001b[0m\n",
      "\u001b[32m[I 2021-12-22 17:33:08,179]\u001b[0m Trial 272 finished with value: 0.8170610758897746 and parameters: {'C': 1.1598675385129842}. Best is trial 42 with value: 0.8282970309459545.\u001b[0m\n",
      "\u001b[32m[I 2021-12-22 17:33:08,326]\u001b[0m Trial 273 finished with value: 0.8249262444291006 and parameters: {'C': 0.6168837997785778}. Best is trial 42 with value: 0.8282970309459545.\u001b[0m\n",
      "\u001b[32m[I 2021-12-22 17:33:08,476]\u001b[0m Trial 274 finished with value: 0.8260498399347185 and parameters: {'C': 0.37850097340908273}. Best is trial 42 with value: 0.8282970309459545.\u001b[0m\n",
      "\u001b[32m[I 2021-12-22 17:33:08,622]\u001b[0m Trial 275 finished with value: 0.8226790534178645 and parameters: {'C': 0.8875667134612758}. Best is trial 42 with value: 0.8282970309459545.\u001b[0m\n",
      "\u001b[32m[I 2021-12-22 17:33:08,769]\u001b[0m Trial 276 finished with value: 0.8260498399347185 and parameters: {'C': 0.5655775372799079}. Best is trial 42 with value: 0.8282970309459545.\u001b[0m\n",
      "\u001b[32m[I 2021-12-22 17:33:08,919]\u001b[0m Trial 277 finished with value: 0.8226790534178645 and parameters: {'C': 0.7153162115434355}. Best is trial 42 with value: 0.8282970309459545.\u001b[0m\n",
      "\u001b[32m[I 2021-12-22 17:33:09,090]\u001b[0m Trial 278 finished with value: 0.8193019898311468 and parameters: {'C': 0.09999360095363735}. Best is trial 42 with value: 0.8282970309459545.\u001b[0m\n",
      "\u001b[32m[I 2021-12-22 17:33:09,237]\u001b[0m Trial 279 finished with value: 0.8282970309459545 and parameters: {'C': 0.5062070393755961}. Best is trial 42 with value: 0.8282970309459545.\u001b[0m\n",
      "\u001b[32m[I 2021-12-22 17:33:09,384]\u001b[0m Trial 280 finished with value: 0.8170610758897746 and parameters: {'C': 1.0706591229631197}. Best is trial 42 with value: 0.8282970309459545.\u001b[0m\n",
      "\u001b[32m[I 2021-12-22 17:33:09,532]\u001b[0m Trial 281 finished with value: 0.8282970309459545 and parameters: {'C': 0.48351677760984396}. Best is trial 42 with value: 0.8282970309459545.\u001b[0m\n",
      "\u001b[32m[I 2021-12-22 17:33:09,692]\u001b[0m Trial 282 finished with value: 0.8204318624066286 and parameters: {'C': 0.18085809599314545}. Best is trial 42 with value: 0.8282970309459545.\u001b[0m\n",
      "\u001b[32m[I 2021-12-22 17:33:09,837]\u001b[0m Trial 283 finished with value: 0.8215554579122465 and parameters: {'C': 0.7340327036067199}. Best is trial 42 with value: 0.8282970309459545.\u001b[0m\n",
      "\u001b[32m[I 2021-12-22 17:33:09,990]\u001b[0m Trial 284 finished with value: 0.8249199673592367 and parameters: {'C': 0.2992238678726048}. Best is trial 42 with value: 0.8282970309459545.\u001b[0m\n",
      "\u001b[32m[I 2021-12-22 17:33:10,137]\u001b[0m Trial 285 finished with value: 0.8271734354403364 and parameters: {'C': 0.543783499500292}. Best is trial 42 with value: 0.8282970309459545.\u001b[0m\n",
      "\u001b[32m[I 2021-12-22 17:33:10,284]\u001b[0m Trial 286 finished with value: 0.8215554579122466 and parameters: {'C': 0.9084281125090681}. Best is trial 42 with value: 0.8282970309459545.\u001b[0m\n",
      "\u001b[32m[I 2021-12-22 17:33:10,437]\u001b[0m Trial 287 finished with value: 0.8237963718536188 and parameters: {'C': 0.2683500611827515}. Best is trial 42 with value: 0.8282970309459545.\u001b[0m\n",
      "\u001b[32m[I 2021-12-22 17:33:10,586]\u001b[0m Trial 288 finished with value: 0.8215554579122465 and parameters: {'C': 0.7427985001006138}. Best is trial 42 with value: 0.8282970309459545.\u001b[0m\n",
      "\u001b[32m[I 2021-12-22 17:33:10,734]\u001b[0m Trial 289 finished with value: 0.8282970309459545 and parameters: {'C': 0.5045424184593418}. Best is trial 42 with value: 0.8282970309459545.\u001b[0m\n",
      "\u001b[32m[I 2021-12-22 17:33:10,923]\u001b[0m Trial 290 finished with value: 0.6431171928943569 and parameters: {'C': 0.021758034088708855}. Best is trial 42 with value: 0.8282970309459545.\u001b[0m\n",
      "\u001b[32m[I 2021-12-22 17:33:11,074]\u001b[0m Trial 291 finished with value: 0.8260498399347185 and parameters: {'C': 0.4021415337417298}. Best is trial 42 with value: 0.8282970309459545.\u001b[0m\n",
      "\u001b[32m[I 2021-12-22 17:33:11,220]\u001b[0m Trial 292 finished with value: 0.8238026489234824 and parameters: {'C': 0.7080750868122461}. Best is trial 42 with value: 0.8282970309459545.\u001b[0m\n",
      "\u001b[32m[I 2021-12-22 17:33:11,367]\u001b[0m Trial 293 finished with value: 0.8215554579122466 and parameters: {'C': 0.9083340839074074}. Best is trial 42 with value: 0.8282970309459545.\u001b[0m\n",
      "\u001b[32m[I 2021-12-22 17:33:11,513]\u001b[0m Trial 294 finished with value: 0.8260498399347185 and parameters: {'C': 0.563510513567031}. Best is trial 42 with value: 0.8282970309459545.\u001b[0m\n",
      "\u001b[32m[I 2021-12-22 17:33:11,670]\u001b[0m Trial 295 finished with value: 0.8204318624066286 and parameters: {'C': 0.19582304057605038}. Best is trial 42 with value: 0.8282970309459545.\u001b[0m\n",
      "\u001b[32m[I 2021-12-22 17:33:11,823]\u001b[0m Trial 296 finished with value: 0.8238026489234824 and parameters: {'C': 0.33386419844420523}. Best is trial 42 with value: 0.8282970309459545.\u001b[0m\n",
      "\u001b[32m[I 2021-12-22 17:33:11,972]\u001b[0m Trial 297 finished with value: 0.8238026489234824 and parameters: {'C': 0.6955726983727941}. Best is trial 42 with value: 0.8282970309459545.\u001b[0m\n",
      "\u001b[32m[I 2021-12-22 17:33:12,140]\u001b[0m Trial 298 finished with value: 0.8002196974452327 and parameters: {'C': 9.957669258740314}. Best is trial 42 with value: 0.8282970309459545.\u001b[0m\n",
      "\u001b[32m[I 2021-12-22 17:33:12,287]\u001b[0m Trial 299 finished with value: 0.8181846713953925 and parameters: {'C': 1.0356736091668823}. Best is trial 42 with value: 0.8282970309459545.\u001b[0m\n",
      "\u001b[32m[I 2021-12-22 17:33:12,435]\u001b[0m Trial 300 finished with value: 0.8260498399347185 and parameters: {'C': 0.5603487534414231}. Best is trial 42 with value: 0.8282970309459545.\u001b[0m\n",
      "\u001b[32m[I 2021-12-22 17:33:12,583]\u001b[0m Trial 301 finished with value: 0.8282970309459545 and parameters: {'C': 0.43423252037499716}. Best is trial 42 with value: 0.8282970309459545.\u001b[0m\n",
      "\u001b[32m[I 2021-12-22 17:33:12,772]\u001b[0m Trial 302 finished with value: 0.6161634548992531 and parameters: {'C': 0.002996850086038727}. Best is trial 42 with value: 0.8282970309459545.\u001b[0m\n",
      "\u001b[32m[I 2021-12-22 17:33:12,917]\u001b[0m Trial 303 finished with value: 0.8238026489234824 and parameters: {'C': 0.8304637351103258}. Best is trial 42 with value: 0.8282970309459545.\u001b[0m\n",
      "\u001b[32m[I 2021-12-22 17:33:13,072]\u001b[0m Trial 304 finished with value: 0.8237963718536188 and parameters: {'C': 0.24558036878073985}. Best is trial 42 with value: 0.8282970309459545.\u001b[0m\n",
      "\u001b[32m[I 2021-12-22 17:33:13,220]\u001b[0m Trial 305 finished with value: 0.8282970309459545 and parameters: {'C': 0.4348713829897519}. Best is trial 42 with value: 0.8282970309459545.\u001b[0m\n",
      "\u001b[32m[I 2021-12-22 17:33:13,377]\u001b[0m Trial 306 finished with value: 0.8226727763480008 and parameters: {'C': 0.2432811804450129}. Best is trial 42 with value: 0.8282970309459545.\u001b[0m\n",
      "\u001b[32m[I 2021-12-22 17:33:13,532]\u001b[0m Trial 307 finished with value: 0.8069487163392128 and parameters: {'C': 6.781747297376368}. Best is trial 42 with value: 0.8282970309459545.\u001b[0m\n",
      "\u001b[32m[I 2021-12-22 17:33:13,683]\u001b[0m Trial 308 finished with value: 0.8249262444291006 and parameters: {'C': 0.3556914708389809}. Best is trial 42 with value: 0.8282970309459545.\u001b[0m\n",
      "\u001b[32m[I 2021-12-22 17:33:13,829]\u001b[0m Trial 309 finished with value: 0.8282970309459545 and parameters: {'C': 0.4752697777296339}. Best is trial 42 with value: 0.8282970309459545.\u001b[0m\n",
      "\u001b[32m[I 2021-12-22 17:33:13,978]\u001b[0m Trial 310 finished with value: 0.8238026489234824 and parameters: {'C': 0.6979602158616461}. Best is trial 42 with value: 0.8282970309459545.\u001b[0m\n",
      "\u001b[32m[I 2021-12-22 17:33:14,125]\u001b[0m Trial 311 finished with value: 0.8103257799259305 and parameters: {'C': 1.371537089861535}. Best is trial 42 with value: 0.8282970309459545.\u001b[0m\n",
      "\u001b[32m[I 2021-12-22 17:33:14,271]\u001b[0m Trial 312 finished with value: 0.8249262444291006 and parameters: {'C': 0.5957286038113839}. Best is trial 42 with value: 0.8282970309459545.\u001b[0m\n",
      "\u001b[32m[I 2021-12-22 17:33:14,418]\u001b[0m Trial 313 finished with value: 0.8181846713953925 and parameters: {'C': 0.9652550762925216}. Best is trial 42 with value: 0.8282970309459545.\u001b[0m\n",
      "\u001b[32m[I 2021-12-22 17:33:14,583]\u001b[0m Trial 314 finished with value: 0.8249262444291003 and parameters: {'C': 0.6270685095808306}. Best is trial 42 with value: 0.8282970309459545.\u001b[0m\n",
      "\u001b[32m[I 2021-12-22 17:33:14,743]\u001b[0m Trial 315 finished with value: 0.803577929822359 and parameters: {'C': 9.377194099732215}. Best is trial 42 with value: 0.8282970309459545.\u001b[0m\n"
     ]
    },
    {
     "name": "stderr",
     "output_type": "stream",
     "text": [
      "\u001b[32m[I 2021-12-22 17:33:14,911]\u001b[0m Trial 316 finished with value: 0.8204255853367648 and parameters: {'C': 0.10433536546232997}. Best is trial 42 with value: 0.8282970309459545.\u001b[0m\n",
      "\u001b[32m[I 2021-12-22 17:33:15,059]\u001b[0m Trial 317 finished with value: 0.8226790534178645 and parameters: {'C': 0.7923369847248019}. Best is trial 42 with value: 0.8282970309459545.\u001b[0m\n",
      "\u001b[32m[I 2021-12-22 17:33:15,207]\u001b[0m Trial 318 finished with value: 0.8137028435126483 and parameters: {'C': 2.600752248965409}. Best is trial 42 with value: 0.8282970309459545.\u001b[0m\n",
      "\u001b[32m[I 2021-12-22 17:33:15,362]\u001b[0m Trial 319 finished with value: 0.8226727763480008 and parameters: {'C': 0.24131644576652278}. Best is trial 42 with value: 0.8282970309459545.\u001b[0m\n",
      "\u001b[32m[I 2021-12-22 17:33:15,508]\u001b[0m Trial 320 finished with value: 0.8170610758897746 and parameters: {'C': 1.1549614027205135}. Best is trial 42 with value: 0.8282970309459545.\u001b[0m\n",
      "\u001b[32m[I 2021-12-22 17:33:15,662]\u001b[0m Trial 321 finished with value: 0.8282970309459545 and parameters: {'C': 0.4447589622490745}. Best is trial 42 with value: 0.8282970309459545.\u001b[0m\n",
      "\u001b[32m[I 2021-12-22 17:33:15,808]\u001b[0m Trial 322 finished with value: 0.8260498399347185 and parameters: {'C': 0.556066379286359}. Best is trial 42 with value: 0.8282970309459545.\u001b[0m\n",
      "\u001b[32m[I 2021-12-22 17:33:15,964]\u001b[0m Trial 323 finished with value: 0.8237963718536188 and parameters: {'C': 0.28398166837415206}. Best is trial 42 with value: 0.8282970309459545.\u001b[0m\n",
      "\u001b[32m[I 2021-12-22 17:33:16,110]\u001b[0m Trial 324 finished with value: 0.8238026489234824 and parameters: {'C': 0.8298949589836069}. Best is trial 42 with value: 0.8282970309459545.\u001b[0m\n",
      "\u001b[32m[I 2021-12-22 17:33:16,302]\u001b[0m Trial 325 finished with value: 0.6161634548992531 and parameters: {'C': 0.004479535491357767}. Best is trial 42 with value: 0.8282970309459545.\u001b[0m\n",
      "\u001b[32m[I 2021-12-22 17:33:16,450]\u001b[0m Trial 326 finished with value: 0.8271734354403364 and parameters: {'C': 0.5475878055458647}. Best is trial 42 with value: 0.8282970309459545.\u001b[0m\n",
      "\u001b[32m[I 2021-12-22 17:33:16,597]\u001b[0m Trial 327 finished with value: 0.8238026489234824 and parameters: {'C': 0.7047117811844825}. Best is trial 42 with value: 0.8282970309459545.\u001b[0m\n",
      "\u001b[32m[I 2021-12-22 17:33:16,748]\u001b[0m Trial 328 finished with value: 0.8282970309459545 and parameters: {'C': 0.4495762341290529}. Best is trial 42 with value: 0.8282970309459545.\u001b[0m\n",
      "\u001b[32m[I 2021-12-22 17:33:16,907]\u001b[0m Trial 329 finished with value: 0.8204318624066286 and parameters: {'C': 0.18053187205667137}. Best is trial 42 with value: 0.8282970309459545.\u001b[0m\n",
      "\u001b[32m[I 2021-12-22 17:33:17,052]\u001b[0m Trial 330 finished with value: 0.8181846713953925 and parameters: {'C': 0.970673835367327}. Best is trial 42 with value: 0.8282970309459545.\u001b[0m\n",
      "\u001b[32m[I 2021-12-22 17:33:17,199]\u001b[0m Trial 331 finished with value: 0.8249262444291003 and parameters: {'C': 0.6365845618050144}. Best is trial 42 with value: 0.8282970309459545.\u001b[0m\n",
      "\u001b[32m[I 2021-12-22 17:33:17,351]\u001b[0m Trial 332 finished with value: 0.8249262444291006 and parameters: {'C': 0.3562517814793998}. Best is trial 42 with value: 0.8282970309459545.\u001b[0m\n",
      "\u001b[32m[I 2021-12-22 17:33:17,498]\u001b[0m Trial 333 finished with value: 0.8226790534178645 and parameters: {'C': 0.8100455492571432}. Best is trial 42 with value: 0.8282970309459545.\u001b[0m\n",
      "\u001b[32m[I 2021-12-22 17:33:17,649]\u001b[0m Trial 334 finished with value: 0.8282970309459545 and parameters: {'C': 0.51288868648756}. Best is trial 42 with value: 0.8282970309459545.\u001b[0m\n",
      "\u001b[32m[I 2021-12-22 17:33:17,804]\u001b[0m Trial 335 finished with value: 0.8237963718536188 and parameters: {'C': 0.2614949385453009}. Best is trial 42 with value: 0.8282970309459545.\u001b[0m\n",
      "\u001b[32m[I 2021-12-22 17:33:17,952]\u001b[0m Trial 336 finished with value: 0.8282970309459545 and parameters: {'C': 0.5224622537947491}. Best is trial 42 with value: 0.8282970309459545.\u001b[0m\n",
      "\u001b[32m[I 2021-12-22 17:33:18,106]\u001b[0m Trial 337 finished with value: 0.809189630280585 and parameters: {'C': 5.339389466425069}. Best is trial 42 with value: 0.8282970309459545.\u001b[0m\n",
      "\u001b[32m[I 2021-12-22 17:33:18,257]\u001b[0m Trial 338 finished with value: 0.8249199673592367 and parameters: {'C': 0.31116703077396507}. Best is trial 42 with value: 0.8282970309459545.\u001b[0m\n",
      "\u001b[32m[I 2021-12-22 17:33:18,406]\u001b[0m Trial 339 finished with value: 0.8114556525014123 and parameters: {'C': 3.280574538609523}. Best is trial 42 with value: 0.8282970309459545.\u001b[0m\n",
      "\u001b[32m[I 2021-12-22 17:33:18,569]\u001b[0m Trial 340 finished with value: 0.8204318624066286 and parameters: {'C': 0.1570436607631041}. Best is trial 42 with value: 0.8282970309459545.\u001b[0m\n",
      "\u001b[32m[I 2021-12-22 17:33:18,714]\u001b[0m Trial 341 finished with value: 0.8215554579122465 and parameters: {'C': 0.7207133816668373}. Best is trial 42 with value: 0.8282970309459545.\u001b[0m\n",
      "\u001b[32m[I 2021-12-22 17:33:18,873]\u001b[0m Trial 342 finished with value: 0.805818843763731 and parameters: {'C': 7.56732502940498}. Best is trial 42 with value: 0.8282970309459545.\u001b[0m\n",
      "\u001b[32m[I 2021-12-22 17:33:19,020]\u001b[0m Trial 343 finished with value: 0.8226790534178645 and parameters: {'C': 0.8860606110489854}. Best is trial 42 with value: 0.8282970309459545.\u001b[0m\n",
      "\u001b[32m[I 2021-12-22 17:33:19,172]\u001b[0m Trial 344 finished with value: 0.8159374803841567 and parameters: {'C': 1.1039076618872472}. Best is trial 42 with value: 0.8282970309459545.\u001b[0m\n",
      "\u001b[32m[I 2021-12-22 17:33:19,323]\u001b[0m Trial 345 finished with value: 0.8260498399347185 and parameters: {'C': 0.38540427725566595}. Best is trial 42 with value: 0.8282970309459545.\u001b[0m\n",
      "\u001b[32m[I 2021-12-22 17:33:19,512]\u001b[0m Trial 346 finished with value: 0.6161634548992531 and parameters: {'C': 0.0007216648346508037}. Best is trial 42 with value: 0.8282970309459545.\u001b[0m\n",
      "\u001b[32m[I 2021-12-22 17:33:19,661]\u001b[0m Trial 347 finished with value: 0.8249262444291006 and parameters: {'C': 0.37102598716228985}. Best is trial 42 with value: 0.8282970309459545.\u001b[0m\n",
      "\u001b[32m[I 2021-12-22 17:33:19,810]\u001b[0m Trial 348 finished with value: 0.8249262444291003 and parameters: {'C': 0.6333785698532223}. Best is trial 42 with value: 0.8282970309459545.\u001b[0m\n",
      "\u001b[32m[I 2021-12-22 17:33:19,960]\u001b[0m Trial 349 finished with value: 0.8282970309459545 and parameters: {'C': 0.4545462033925437}. Best is trial 42 with value: 0.8282970309459545.\u001b[0m\n",
      "\u001b[32m[I 2021-12-22 17:33:20,108]\u001b[0m Trial 350 finished with value: 0.8238026489234824 and parameters: {'C': 0.6437080424955837}. Best is trial 42 with value: 0.8282970309459545.\u001b[0m\n",
      "\u001b[32m[I 2021-12-22 17:33:20,257]\u001b[0m Trial 351 finished with value: 0.8193082669010107 and parameters: {'C': 0.9529967223967826}. Best is trial 42 with value: 0.8282970309459545.\u001b[0m\n",
      "\u001b[32m[I 2021-12-22 17:33:20,402]\u001b[0m Trial 352 finished with value: 0.8238026489234824 and parameters: {'C': 0.7872084238234613}. Best is trial 42 with value: 0.8282970309459545.\u001b[0m\n",
      "\u001b[32m[I 2021-12-22 17:33:20,550]\u001b[0m Trial 353 finished with value: 0.8170610758897746 and parameters: {'C': 1.2052219848987693}. Best is trial 42 with value: 0.8282970309459545.\u001b[0m\n",
      "\u001b[32m[I 2021-12-22 17:33:20,701]\u001b[0m Trial 354 finished with value: 0.8103257799259305 and parameters: {'C': 4.1416959396267305}. Best is trial 42 with value: 0.8282970309459545.\u001b[0m\n",
      "\u001b[32m[I 2021-12-22 17:33:20,862]\u001b[0m Trial 355 finished with value: 0.8204318624066286 and parameters: {'C': 0.17517794096110822}. Best is trial 42 with value: 0.8282970309459545.\u001b[0m\n",
      "\u001b[32m[I 2021-12-22 17:33:21,012]\u001b[0m Trial 356 finished with value: 0.8271734354403364 and parameters: {'C': 0.5309017685750368}. Best is trial 42 with value: 0.8282970309459545.\u001b[0m\n",
      "\u001b[32m[I 2021-12-22 17:33:21,166]\u001b[0m Trial 357 finished with value: 0.8249199673592367 and parameters: {'C': 0.30769657705322817}. Best is trial 42 with value: 0.8282970309459545.\u001b[0m\n",
      "\u001b[32m[I 2021-12-22 17:33:21,316]\u001b[0m Trial 358 finished with value: 0.8282970309459545 and parameters: {'C': 0.46268548060139264}. Best is trial 42 with value: 0.8282970309459545.\u001b[0m\n",
      "\u001b[32m[I 2021-12-22 17:33:21,462]\u001b[0m Trial 359 finished with value: 0.8226790534178645 and parameters: {'C': 0.7908641407353669}. Best is trial 42 with value: 0.8282970309459545.\u001b[0m\n",
      "\u001b[32m[I 2021-12-22 17:33:21,611]\u001b[0m Trial 360 finished with value: 0.8282970309459545 and parameters: {'C': 0.5132961769011783}. Best is trial 42 with value: 0.8282970309459545.\u001b[0m\n"
     ]
    },
    {
     "name": "stderr",
     "output_type": "stream",
     "text": [
      "\u001b[32m[I 2021-12-22 17:33:21,777]\u001b[0m Trial 361 finished with value: 0.8204255853367648 and parameters: {'C': 0.12516235926623503}. Best is trial 42 with value: 0.8282970309459545.\u001b[0m\n",
      "\u001b[32m[I 2021-12-22 17:33:21,936]\u001b[0m Trial 362 finished with value: 0.803577929822359 and parameters: {'C': 8.685231070425681}. Best is trial 42 with value: 0.8282970309459545.\u001b[0m\n",
      "\u001b[32m[I 2021-12-22 17:33:22,094]\u001b[0m Trial 363 finished with value: 0.8238026489234824 and parameters: {'C': 0.3412728486628521}. Best is trial 42 with value: 0.8282970309459545.\u001b[0m\n",
      "\u001b[32m[I 2021-12-22 17:33:22,241]\u001b[0m Trial 364 finished with value: 0.8238026489234824 and parameters: {'C': 0.6726734078288742}. Best is trial 42 with value: 0.8282970309459545.\u001b[0m\n",
      "\u001b[32m[I 2021-12-22 17:33:22,387]\u001b[0m Trial 365 finished with value: 0.8238026489234824 and parameters: {'C': 0.6552086852283692}. Best is trial 42 with value: 0.8282970309459545.\u001b[0m\n",
      "\u001b[32m[I 2021-12-22 17:33:22,535]\u001b[0m Trial 366 finished with value: 0.8170610758897746 and parameters: {'C': 0.9930298945887728}. Best is trial 42 with value: 0.8282970309459545.\u001b[0m\n",
      "\u001b[32m[I 2021-12-22 17:33:22,688]\u001b[0m Trial 367 finished with value: 0.8249262444291006 and parameters: {'C': 0.3686488619449344}. Best is trial 42 with value: 0.8282970309459545.\u001b[0m\n",
      "\u001b[32m[I 2021-12-22 17:33:22,838]\u001b[0m Trial 368 finished with value: 0.8282970309459545 and parameters: {'C': 0.4741286952698491}. Best is trial 42 with value: 0.8282970309459545.\u001b[0m\n",
      "\u001b[32m[I 2021-12-22 17:33:23,004]\u001b[0m Trial 369 finished with value: 0.8193082669010107 and parameters: {'C': 0.1393727188631239}. Best is trial 42 with value: 0.8282970309459545.\u001b[0m\n",
      "\u001b[32m[I 2021-12-22 17:33:23,153]\u001b[0m Trial 370 finished with value: 0.8238026489234824 and parameters: {'C': 0.8297706673383158}. Best is trial 42 with value: 0.8282970309459545.\u001b[0m\n",
      "\u001b[32m[I 2021-12-22 17:33:23,303]\u001b[0m Trial 371 finished with value: 0.8249262444291006 and parameters: {'C': 0.5990839624016373}. Best is trial 42 with value: 0.8282970309459545.\u001b[0m\n",
      "\u001b[32m[I 2021-12-22 17:33:23,463]\u001b[0m Trial 372 finished with value: 0.8215491808423827 and parameters: {'C': 0.21934221741206703}. Best is trial 42 with value: 0.8282970309459545.\u001b[0m\n",
      "\u001b[32m[I 2021-12-22 17:33:23,614]\u001b[0m Trial 373 finished with value: 0.8181846713953925 and parameters: {'C': 1.0307559576879344}. Best is trial 42 with value: 0.8282970309459545.\u001b[0m\n",
      "\u001b[32m[I 2021-12-22 17:33:23,766]\u001b[0m Trial 374 finished with value: 0.8282970309459545 and parameters: {'C': 0.43273630948955416}. Best is trial 42 with value: 0.8282970309459545.\u001b[0m\n",
      "\u001b[32m[I 2021-12-22 17:33:23,958]\u001b[0m Trial 375 finished with value: 0.6161634548992531 and parameters: {'C': 0.003084842085317563}. Best is trial 42 with value: 0.8282970309459545.\u001b[0m\n",
      "\u001b[32m[I 2021-12-22 17:33:24,112]\u001b[0m Trial 376 finished with value: 0.8249262444291003 and parameters: {'C': 0.6272238697334825}. Best is trial 42 with value: 0.8282970309459545.\u001b[0m\n",
      "\u001b[32m[I 2021-12-22 17:33:24,271]\u001b[0m Trial 377 finished with value: 0.812560416797439 and parameters: {'C': 4.590615573205091}. Best is trial 42 with value: 0.8282970309459545.\u001b[0m\n",
      "\u001b[32m[I 2021-12-22 17:33:24,425]\u001b[0m Trial 378 finished with value: 0.8249262444291006 and parameters: {'C': 0.3459646235947639}. Best is trial 42 with value: 0.8282970309459545.\u001b[0m\n",
      "\u001b[32m[I 2021-12-22 17:33:24,574]\u001b[0m Trial 379 finished with value: 0.8238026489234824 and parameters: {'C': 0.7869214813935077}. Best is trial 42 with value: 0.8282970309459545.\u001b[0m\n",
      "\u001b[32m[I 2021-12-22 17:33:24,725]\u001b[0m Trial 380 finished with value: 0.8282970309459545 and parameters: {'C': 0.4953785637372861}. Best is trial 42 with value: 0.8282970309459545.\u001b[0m\n",
      "\u001b[32m[I 2021-12-22 17:33:24,890]\u001b[0m Trial 381 finished with value: 0.8204318624066286 and parameters: {'C': 0.19566371523877435}. Best is trial 42 with value: 0.8282970309459545.\u001b[0m\n",
      "\u001b[32m[I 2021-12-22 17:33:25,045]\u001b[0m Trial 382 finished with value: 0.8114493754315486 and parameters: {'C': 1.3333498858715287}. Best is trial 42 with value: 0.8282970309459545.\u001b[0m\n",
      "\u001b[32m[I 2021-12-22 17:33:25,195]\u001b[0m Trial 383 finished with value: 0.8226790534178645 and parameters: {'C': 0.7133832738645469}. Best is trial 42 with value: 0.8282970309459545.\u001b[0m\n",
      "\u001b[32m[I 2021-12-22 17:33:25,345]\u001b[0m Trial 384 finished with value: 0.8249262444291006 and parameters: {'C': 0.3615355361211786}. Best is trial 42 with value: 0.8282970309459545.\u001b[0m\n",
      "\u001b[32m[I 2021-12-22 17:33:25,492]\u001b[0m Trial 385 finished with value: 0.8226790534178645 and parameters: {'C': 0.8787813604499034}. Best is trial 42 with value: 0.8282970309459545.\u001b[0m\n",
      "\u001b[32m[I 2021-12-22 17:33:25,644]\u001b[0m Trial 386 finished with value: 0.8271734354403364 and parameters: {'C': 0.42547254292061093}. Best is trial 42 with value: 0.8282970309459545.\u001b[0m\n",
      "\u001b[32m[I 2021-12-22 17:33:25,808]\u001b[0m Trial 387 finished with value: 0.8204318624066286 and parameters: {'C': 0.15601534292549885}. Best is trial 42 with value: 0.8282970309459545.\u001b[0m\n",
      "\u001b[32m[I 2021-12-22 17:33:25,961]\u001b[0m Trial 388 finished with value: 0.8260498399347185 and parameters: {'C': 0.5759702869333886}. Best is trial 42 with value: 0.8282970309459545.\u001b[0m\n",
      "\u001b[32m[I 2021-12-22 17:33:26,120]\u001b[0m Trial 389 finished with value: 0.8237963718536188 and parameters: {'C': 0.2504079988315374}. Best is trial 42 with value: 0.8282970309459545.\u001b[0m\n",
      "\u001b[32m[I 2021-12-22 17:33:26,272]\u001b[0m Trial 390 finished with value: 0.8282970309459545 and parameters: {'C': 0.49354530442321926}. Best is trial 42 with value: 0.8282970309459545.\u001b[0m\n",
      "\u001b[32m[I 2021-12-22 17:33:26,422]\u001b[0m Trial 391 finished with value: 0.8170610758897746 and parameters: {'C': 1.0669407466225898}. Best is trial 42 with value: 0.8282970309459545.\u001b[0m\n",
      "\u001b[32m[I 2021-12-22 17:33:26,572]\u001b[0m Trial 392 finished with value: 0.8103383340656581 and parameters: {'C': 1.615612970784529}. Best is trial 42 with value: 0.8282970309459545.\u001b[0m\n",
      "\u001b[32m[I 2021-12-22 17:33:26,732]\u001b[0m Trial 393 finished with value: 0.8238026489234824 and parameters: {'C': 0.3384233293075256}. Best is trial 42 with value: 0.8282970309459545.\u001b[0m\n",
      "\u001b[32m[I 2021-12-22 17:33:26,882]\u001b[0m Trial 394 finished with value: 0.8249262444291003 and parameters: {'C': 0.6343052891156742}. Best is trial 42 with value: 0.8282970309459545.\u001b[0m\n",
      "\u001b[32m[I 2021-12-22 17:33:27,035]\u001b[0m Trial 395 finished with value: 0.8282970309459545 and parameters: {'C': 0.4351071765073784}. Best is trial 42 with value: 0.8282970309459545.\u001b[0m\n",
      "\u001b[32m[I 2021-12-22 17:33:27,193]\u001b[0m Trial 396 finished with value: 0.8114556525014123 and parameters: {'C': 2.0899532031236268}. Best is trial 42 with value: 0.8282970309459545.\u001b[0m\n",
      "\u001b[32m[I 2021-12-22 17:33:27,349]\u001b[0m Trial 397 finished with value: 0.8226790534178645 and parameters: {'C': 0.8808466165602209}. Best is trial 42 with value: 0.8282970309459545.\u001b[0m\n",
      "\u001b[32m[I 2021-12-22 17:33:27,541]\u001b[0m Trial 398 finished with value: 0.6161634548992531 and parameters: {'C': 0.0034493261943531195}. Best is trial 42 with value: 0.8282970309459545.\u001b[0m\n",
      "\u001b[32m[I 2021-12-22 17:33:27,691]\u001b[0m Trial 399 finished with value: 0.8260498399347185 and parameters: {'C': 0.5714343960864786}. Best is trial 42 with value: 0.8282970309459545.\u001b[0m\n",
      "\u001b[32m[I 2021-12-22 17:33:27,840]\u001b[0m Trial 400 finished with value: 0.8137028435126483 and parameters: {'C': 2.9257645184350443}. Best is trial 42 with value: 0.8282970309459545.\u001b[0m\n",
      "\u001b[32m[I 2021-12-22 17:33:27,990]\u001b[0m Trial 401 finished with value: 0.8215554579122465 and parameters: {'C': 0.7525766206955387}. Best is trial 42 with value: 0.8282970309459545.\u001b[0m\n",
      "\u001b[32m[I 2021-12-22 17:33:28,148]\u001b[0m Trial 402 finished with value: 0.8260498399347185 and parameters: {'C': 0.3904374508324771}. Best is trial 42 with value: 0.8282970309459545.\u001b[0m\n",
      "\u001b[32m[I 2021-12-22 17:33:28,300]\u001b[0m Trial 403 finished with value: 0.8238026489234824 and parameters: {'C': 0.6825907163981252}. Best is trial 42 with value: 0.8282970309459545.\u001b[0m\n",
      "\u001b[32m[I 2021-12-22 17:33:28,458]\u001b[0m Trial 404 finished with value: 0.8237963718536188 and parameters: {'C': 0.2809798437499219}. Best is trial 42 with value: 0.8282970309459545.\u001b[0m\n",
      "\u001b[32m[I 2021-12-22 17:33:28,608]\u001b[0m Trial 405 finished with value: 0.8226790534178645 and parameters: {'C': 0.8784908691655045}. Best is trial 42 with value: 0.8282970309459545.\u001b[0m\n"
     ]
    },
    {
     "name": "stderr",
     "output_type": "stream",
     "text": [
      "\u001b[32m[I 2021-12-22 17:33:28,757]\u001b[0m Trial 406 finished with value: 0.8148138848785387 and parameters: {'C': 1.2143391905358243}. Best is trial 42 with value: 0.8282970309459545.\u001b[0m\n",
      "\u001b[32m[I 2021-12-22 17:33:28,910]\u001b[0m Trial 407 finished with value: 0.8282970309459545 and parameters: {'C': 0.5012676762957576}. Best is trial 42 with value: 0.8282970309459545.\u001b[0m\n",
      "\u001b[32m[I 2021-12-22 17:33:29,061]\u001b[0m Trial 408 finished with value: 0.8260498399347185 and parameters: {'C': 0.5568105151165078}. Best is trial 42 with value: 0.8282970309459545.\u001b[0m\n",
      "\u001b[32m[I 2021-12-22 17:33:29,220]\u001b[0m Trial 409 finished with value: 0.8215491808423827 and parameters: {'C': 0.22806842312586736}. Best is trial 42 with value: 0.8282970309459545.\u001b[0m\n",
      "\u001b[32m[I 2021-12-22 17:33:29,368]\u001b[0m Trial 410 finished with value: 0.8215554579122465 and parameters: {'C': 0.7365295849645037}. Best is trial 42 with value: 0.8282970309459545.\u001b[0m\n",
      "\u001b[32m[I 2021-12-22 17:33:29,528]\u001b[0m Trial 411 finished with value: 0.8204318624066286 and parameters: {'C': 0.1972338895059774}. Best is trial 42 with value: 0.8282970309459545.\u001b[0m\n"
     ]
    },
    {
     "ename": "KeyboardInterrupt",
     "evalue": "",
     "output_type": "error",
     "traceback": [
      "\u001b[1;31m---------------------------------------------------------------------------\u001b[0m",
      "\u001b[1;31mKeyboardInterrupt\u001b[0m                         Traceback (most recent call last)",
      "\u001b[1;32m<ipython-input-44-65350ceb3c7e>\u001b[0m in \u001b[0;36m<module>\u001b[1;34m\u001b[0m\n\u001b[0;32m     23\u001b[0m \u001b[1;31m# 3. Create a study object and optimize the objective function.\u001b[0m\u001b[1;33m\u001b[0m\u001b[1;33m\u001b[0m\u001b[1;33m\u001b[0m\u001b[0m\n\u001b[0;32m     24\u001b[0m \u001b[0mstudy\u001b[0m \u001b[1;33m=\u001b[0m \u001b[0moptuna\u001b[0m\u001b[1;33m.\u001b[0m\u001b[0mcreate_study\u001b[0m\u001b[1;33m(\u001b[0m\u001b[0mdirection\u001b[0m\u001b[1;33m=\u001b[0m\u001b[1;34m'maximize'\u001b[0m\u001b[1;33m)\u001b[0m\u001b[1;33m\u001b[0m\u001b[1;33m\u001b[0m\u001b[0m\n\u001b[1;32m---> 25\u001b[1;33m \u001b[0mstudy\u001b[0m\u001b[1;33m.\u001b[0m\u001b[0moptimize\u001b[0m\u001b[1;33m(\u001b[0m\u001b[0mobjective\u001b[0m\u001b[1;33m,\u001b[0m \u001b[0mn_trials\u001b[0m\u001b[1;33m=\u001b[0m\u001b[1;36m1000\u001b[0m\u001b[1;33m)\u001b[0m\u001b[1;33m\u001b[0m\u001b[1;33m\u001b[0m\u001b[0m\n\u001b[0m",
      "\u001b[1;32mF:\\Python\\Python37\\lib\\site-packages\\optuna\\study\\study.py\u001b[0m in \u001b[0;36moptimize\u001b[1;34m(self, func, n_trials, timeout, n_jobs, catch, callbacks, gc_after_trial, show_progress_bar)\u001b[0m\n\u001b[0;32m    407\u001b[0m             \u001b[0mcallbacks\u001b[0m\u001b[1;33m=\u001b[0m\u001b[0mcallbacks\u001b[0m\u001b[1;33m,\u001b[0m\u001b[1;33m\u001b[0m\u001b[1;33m\u001b[0m\u001b[0m\n\u001b[0;32m    408\u001b[0m             \u001b[0mgc_after_trial\u001b[0m\u001b[1;33m=\u001b[0m\u001b[0mgc_after_trial\u001b[0m\u001b[1;33m,\u001b[0m\u001b[1;33m\u001b[0m\u001b[1;33m\u001b[0m\u001b[0m\n\u001b[1;32m--> 409\u001b[1;33m             \u001b[0mshow_progress_bar\u001b[0m\u001b[1;33m=\u001b[0m\u001b[0mshow_progress_bar\u001b[0m\u001b[1;33m,\u001b[0m\u001b[1;33m\u001b[0m\u001b[1;33m\u001b[0m\u001b[0m\n\u001b[0m\u001b[0;32m    410\u001b[0m         )\n\u001b[0;32m    411\u001b[0m \u001b[1;33m\u001b[0m\u001b[0m\n",
      "\u001b[1;32mF:\\Python\\Python37\\lib\\site-packages\\optuna\\study\\_optimize.py\u001b[0m in \u001b[0;36m_optimize\u001b[1;34m(study, func, n_trials, timeout, n_jobs, catch, callbacks, gc_after_trial, show_progress_bar)\u001b[0m\n\u001b[0;32m     74\u001b[0m                 \u001b[0mreseed_sampler_rng\u001b[0m\u001b[1;33m=\u001b[0m\u001b[1;32mFalse\u001b[0m\u001b[1;33m,\u001b[0m\u001b[1;33m\u001b[0m\u001b[1;33m\u001b[0m\u001b[0m\n\u001b[0;32m     75\u001b[0m                 \u001b[0mtime_start\u001b[0m\u001b[1;33m=\u001b[0m\u001b[1;32mNone\u001b[0m\u001b[1;33m,\u001b[0m\u001b[1;33m\u001b[0m\u001b[1;33m\u001b[0m\u001b[0m\n\u001b[1;32m---> 76\u001b[1;33m                 \u001b[0mprogress_bar\u001b[0m\u001b[1;33m=\u001b[0m\u001b[0mprogress_bar\u001b[0m\u001b[1;33m,\u001b[0m\u001b[1;33m\u001b[0m\u001b[1;33m\u001b[0m\u001b[0m\n\u001b[0m\u001b[0;32m     77\u001b[0m             )\n\u001b[0;32m     78\u001b[0m         \u001b[1;32melse\u001b[0m\u001b[1;33m:\u001b[0m\u001b[1;33m\u001b[0m\u001b[1;33m\u001b[0m\u001b[0m\n",
      "\u001b[1;32mF:\\Python\\Python37\\lib\\site-packages\\optuna\\study\\_optimize.py\u001b[0m in \u001b[0;36m_optimize_sequential\u001b[1;34m(study, func, n_trials, timeout, catch, callbacks, gc_after_trial, reseed_sampler_rng, time_start, progress_bar)\u001b[0m\n\u001b[0;32m    161\u001b[0m \u001b[1;33m\u001b[0m\u001b[0m\n\u001b[0;32m    162\u001b[0m         \u001b[1;32mtry\u001b[0m\u001b[1;33m:\u001b[0m\u001b[1;33m\u001b[0m\u001b[1;33m\u001b[0m\u001b[0m\n\u001b[1;32m--> 163\u001b[1;33m             \u001b[0mtrial\u001b[0m \u001b[1;33m=\u001b[0m \u001b[0m_run_trial\u001b[0m\u001b[1;33m(\u001b[0m\u001b[0mstudy\u001b[0m\u001b[1;33m,\u001b[0m \u001b[0mfunc\u001b[0m\u001b[1;33m,\u001b[0m \u001b[0mcatch\u001b[0m\u001b[1;33m)\u001b[0m\u001b[1;33m\u001b[0m\u001b[1;33m\u001b[0m\u001b[0m\n\u001b[0m\u001b[0;32m    164\u001b[0m         \u001b[1;32mexcept\u001b[0m \u001b[0mException\u001b[0m\u001b[1;33m:\u001b[0m\u001b[1;33m\u001b[0m\u001b[1;33m\u001b[0m\u001b[0m\n\u001b[0;32m    165\u001b[0m             \u001b[1;32mraise\u001b[0m\u001b[1;33m\u001b[0m\u001b[1;33m\u001b[0m\u001b[0m\n",
      "\u001b[1;32mF:\\Python\\Python37\\lib\\site-packages\\optuna\\study\\_optimize.py\u001b[0m in \u001b[0;36m_run_trial\u001b[1;34m(study, func, catch)\u001b[0m\n\u001b[0;32m    211\u001b[0m \u001b[1;33m\u001b[0m\u001b[0m\n\u001b[0;32m    212\u001b[0m     \u001b[1;32mtry\u001b[0m\u001b[1;33m:\u001b[0m\u001b[1;33m\u001b[0m\u001b[1;33m\u001b[0m\u001b[0m\n\u001b[1;32m--> 213\u001b[1;33m         \u001b[0mvalue_or_values\u001b[0m \u001b[1;33m=\u001b[0m \u001b[0mfunc\u001b[0m\u001b[1;33m(\u001b[0m\u001b[0mtrial\u001b[0m\u001b[1;33m)\u001b[0m\u001b[1;33m\u001b[0m\u001b[1;33m\u001b[0m\u001b[0m\n\u001b[0m\u001b[0;32m    214\u001b[0m     \u001b[1;32mexcept\u001b[0m \u001b[0mexceptions\u001b[0m\u001b[1;33m.\u001b[0m\u001b[0mTrialPruned\u001b[0m \u001b[1;32mas\u001b[0m \u001b[0me\u001b[0m\u001b[1;33m:\u001b[0m\u001b[1;33m\u001b[0m\u001b[1;33m\u001b[0m\u001b[0m\n\u001b[0;32m    215\u001b[0m         \u001b[1;31m# TODO(mamu): Handle multi-objective cases.\u001b[0m\u001b[1;33m\u001b[0m\u001b[1;33m\u001b[0m\u001b[1;33m\u001b[0m\u001b[0m\n",
      "\u001b[1;32m<ipython-input-44-65350ceb3c7e>\u001b[0m in \u001b[0;36mobjective\u001b[1;34m(trial)\u001b[0m\n\u001b[0;32m     14\u001b[0m     \u001b[1;32mfor\u001b[0m \u001b[0mtrain_ix\u001b[0m\u001b[1;33m,\u001b[0m \u001b[0mtest_ix\u001b[0m \u001b[1;32min\u001b[0m \u001b[0mkf\u001b[0m\u001b[1;33m.\u001b[0m\u001b[0msplit\u001b[0m\u001b[1;33m(\u001b[0m\u001b[0mtrain\u001b[0m\u001b[1;33m)\u001b[0m\u001b[1;33m:\u001b[0m\u001b[1;33m\u001b[0m\u001b[1;33m\u001b[0m\u001b[0m\n\u001b[0;32m     15\u001b[0m         \u001b[0msvc\u001b[0m\u001b[1;33m.\u001b[0m\u001b[0mfit\u001b[0m\u001b[1;33m(\u001b[0m\u001b[0mtrain\u001b[0m\u001b[1;33m[\u001b[0m\u001b[0mfeatures\u001b[0m\u001b[1;33m]\u001b[0m\u001b[1;33m.\u001b[0m\u001b[0miloc\u001b[0m\u001b[1;33m[\u001b[0m\u001b[0mtrain_ix\u001b[0m\u001b[1;33m,\u001b[0m\u001b[1;33m:\u001b[0m\u001b[1;33m]\u001b[0m\u001b[1;33m,\u001b[0m \u001b[0mtrain\u001b[0m\u001b[1;33m[\u001b[0m\u001b[1;34m'Survived'\u001b[0m\u001b[1;33m]\u001b[0m\u001b[1;33m.\u001b[0m\u001b[0miloc\u001b[0m\u001b[1;33m[\u001b[0m\u001b[0mtrain_ix\u001b[0m\u001b[1;33m]\u001b[0m\u001b[1;33m)\u001b[0m\u001b[1;33m\u001b[0m\u001b[1;33m\u001b[0m\u001b[0m\n\u001b[1;32m---> 16\u001b[1;33m         \u001b[0mpreds\u001b[0m \u001b[1;33m=\u001b[0m \u001b[0msvc\u001b[0m\u001b[1;33m.\u001b[0m\u001b[0mpredict\u001b[0m\u001b[1;33m(\u001b[0m\u001b[0mtrain\u001b[0m\u001b[1;33m[\u001b[0m\u001b[0mfeatures\u001b[0m\u001b[1;33m]\u001b[0m\u001b[1;33m.\u001b[0m\u001b[0miloc\u001b[0m\u001b[1;33m[\u001b[0m\u001b[0mtest_ix\u001b[0m\u001b[1;33m]\u001b[0m\u001b[1;33m)\u001b[0m\u001b[1;33m\u001b[0m\u001b[1;33m\u001b[0m\u001b[0m\n\u001b[0m\u001b[0;32m     17\u001b[0m \u001b[1;33m\u001b[0m\u001b[0m\n\u001b[0;32m     18\u001b[0m         \u001b[0maccuracy_scores\u001b[0m\u001b[1;33m.\u001b[0m\u001b[0mappend\u001b[0m\u001b[1;33m(\u001b[0m\u001b[0mmetrics\u001b[0m\u001b[1;33m.\u001b[0m\u001b[0maccuracy_score\u001b[0m\u001b[1;33m(\u001b[0m\u001b[0mtrain\u001b[0m\u001b[1;33m[\u001b[0m\u001b[1;34m'Survived'\u001b[0m\u001b[1;33m]\u001b[0m\u001b[1;33m.\u001b[0m\u001b[0miloc\u001b[0m\u001b[1;33m[\u001b[0m\u001b[0mtest_ix\u001b[0m\u001b[1;33m]\u001b[0m\u001b[1;33m,\u001b[0m \u001b[0mpreds\u001b[0m\u001b[1;33m)\u001b[0m\u001b[1;33m)\u001b[0m\u001b[1;33m\u001b[0m\u001b[1;33m\u001b[0m\u001b[0m\n",
      "\u001b[1;32mF:\\Python\\Python37\\lib\\site-packages\\sklearn\\svm\\_base.py\u001b[0m in \u001b[0;36mpredict\u001b[1;34m(self, X)\u001b[0m\n\u001b[0;32m    782\u001b[0m             \u001b[0my\u001b[0m \u001b[1;33m=\u001b[0m \u001b[0mnp\u001b[0m\u001b[1;33m.\u001b[0m\u001b[0margmax\u001b[0m\u001b[1;33m(\u001b[0m\u001b[0mself\u001b[0m\u001b[1;33m.\u001b[0m\u001b[0mdecision_function\u001b[0m\u001b[1;33m(\u001b[0m\u001b[0mX\u001b[0m\u001b[1;33m)\u001b[0m\u001b[1;33m,\u001b[0m \u001b[0maxis\u001b[0m\u001b[1;33m=\u001b[0m\u001b[1;36m1\u001b[0m\u001b[1;33m)\u001b[0m\u001b[1;33m\u001b[0m\u001b[1;33m\u001b[0m\u001b[0m\n\u001b[0;32m    783\u001b[0m         \u001b[1;32melse\u001b[0m\u001b[1;33m:\u001b[0m\u001b[1;33m\u001b[0m\u001b[1;33m\u001b[0m\u001b[0m\n\u001b[1;32m--> 784\u001b[1;33m             \u001b[0my\u001b[0m \u001b[1;33m=\u001b[0m \u001b[0msuper\u001b[0m\u001b[1;33m(\u001b[0m\u001b[1;33m)\u001b[0m\u001b[1;33m.\u001b[0m\u001b[0mpredict\u001b[0m\u001b[1;33m(\u001b[0m\u001b[0mX\u001b[0m\u001b[1;33m)\u001b[0m\u001b[1;33m\u001b[0m\u001b[1;33m\u001b[0m\u001b[0m\n\u001b[0m\u001b[0;32m    785\u001b[0m         \u001b[1;32mreturn\u001b[0m \u001b[0mself\u001b[0m\u001b[1;33m.\u001b[0m\u001b[0mclasses_\u001b[0m\u001b[1;33m.\u001b[0m\u001b[0mtake\u001b[0m\u001b[1;33m(\u001b[0m\u001b[0mnp\u001b[0m\u001b[1;33m.\u001b[0m\u001b[0masarray\u001b[0m\u001b[1;33m(\u001b[0m\u001b[0my\u001b[0m\u001b[1;33m,\u001b[0m \u001b[0mdtype\u001b[0m\u001b[1;33m=\u001b[0m\u001b[0mnp\u001b[0m\u001b[1;33m.\u001b[0m\u001b[0mintp\u001b[0m\u001b[1;33m)\u001b[0m\u001b[1;33m)\u001b[0m\u001b[1;33m\u001b[0m\u001b[1;33m\u001b[0m\u001b[0m\n\u001b[0;32m    786\u001b[0m \u001b[1;33m\u001b[0m\u001b[0m\n",
      "\u001b[1;32mF:\\Python\\Python37\\lib\\site-packages\\sklearn\\svm\\_base.py\u001b[0m in \u001b[0;36mpredict\u001b[1;34m(self, X)\u001b[0m\n\u001b[0;32m    414\u001b[0m         \u001b[0mX\u001b[0m \u001b[1;33m=\u001b[0m \u001b[0mself\u001b[0m\u001b[1;33m.\u001b[0m\u001b[0m_validate_for_predict\u001b[0m\u001b[1;33m(\u001b[0m\u001b[0mX\u001b[0m\u001b[1;33m)\u001b[0m\u001b[1;33m\u001b[0m\u001b[1;33m\u001b[0m\u001b[0m\n\u001b[0;32m    415\u001b[0m         \u001b[0mpredict\u001b[0m \u001b[1;33m=\u001b[0m \u001b[0mself\u001b[0m\u001b[1;33m.\u001b[0m\u001b[0m_sparse_predict\u001b[0m \u001b[1;32mif\u001b[0m \u001b[0mself\u001b[0m\u001b[1;33m.\u001b[0m\u001b[0m_sparse\u001b[0m \u001b[1;32melse\u001b[0m \u001b[0mself\u001b[0m\u001b[1;33m.\u001b[0m\u001b[0m_dense_predict\u001b[0m\u001b[1;33m\u001b[0m\u001b[1;33m\u001b[0m\u001b[0m\n\u001b[1;32m--> 416\u001b[1;33m         \u001b[1;32mreturn\u001b[0m \u001b[0mpredict\u001b[0m\u001b[1;33m(\u001b[0m\u001b[0mX\u001b[0m\u001b[1;33m)\u001b[0m\u001b[1;33m\u001b[0m\u001b[1;33m\u001b[0m\u001b[0m\n\u001b[0m\u001b[0;32m    417\u001b[0m \u001b[1;33m\u001b[0m\u001b[0m\n\u001b[0;32m    418\u001b[0m     \u001b[1;32mdef\u001b[0m \u001b[0m_dense_predict\u001b[0m\u001b[1;33m(\u001b[0m\u001b[0mself\u001b[0m\u001b[1;33m,\u001b[0m \u001b[0mX\u001b[0m\u001b[1;33m)\u001b[0m\u001b[1;33m:\u001b[0m\u001b[1;33m\u001b[0m\u001b[1;33m\u001b[0m\u001b[0m\n",
      "\u001b[1;32mF:\\Python\\Python37\\lib\\site-packages\\sklearn\\svm\\_base.py\u001b[0m in \u001b[0;36m_dense_predict\u001b[1;34m(self, X)\u001b[0m\n\u001b[0;32m    447\u001b[0m             \u001b[0mcoef0\u001b[0m\u001b[1;33m=\u001b[0m\u001b[0mself\u001b[0m\u001b[1;33m.\u001b[0m\u001b[0mcoef0\u001b[0m\u001b[1;33m,\u001b[0m\u001b[1;33m\u001b[0m\u001b[1;33m\u001b[0m\u001b[0m\n\u001b[0;32m    448\u001b[0m             \u001b[0mgamma\u001b[0m\u001b[1;33m=\u001b[0m\u001b[0mself\u001b[0m\u001b[1;33m.\u001b[0m\u001b[0m_gamma\u001b[0m\u001b[1;33m,\u001b[0m\u001b[1;33m\u001b[0m\u001b[1;33m\u001b[0m\u001b[0m\n\u001b[1;32m--> 449\u001b[1;33m             \u001b[0mcache_size\u001b[0m\u001b[1;33m=\u001b[0m\u001b[0mself\u001b[0m\u001b[1;33m.\u001b[0m\u001b[0mcache_size\u001b[0m\u001b[1;33m,\u001b[0m\u001b[1;33m\u001b[0m\u001b[1;33m\u001b[0m\u001b[0m\n\u001b[0m\u001b[0;32m    450\u001b[0m         )\n\u001b[0;32m    451\u001b[0m \u001b[1;33m\u001b[0m\u001b[0m\n",
      "\u001b[1;31mKeyboardInterrupt\u001b[0m: "
     ]
    }
   ],
   "source": [
    "from sklearn.svm import SVC\n",
    "\n",
    "def objective(trial):\n",
    "    \n",
    "    svc = SVC(C = trial.suggest_float('C', 1e-6, 10))\n",
    "    \n",
    "    kf = KFold(5, shuffle = True, random_state = 0)\n",
    "    kf.split(train)\n",
    "    \n",
    "    accuracy_scores = []\n",
    "    \n",
    "    for train_ix, test_ix in kf.split(train):\n",
    "        svc.fit(train[features].iloc[train_ix,:], train['Survived'].iloc[train_ix])\n",
    "        preds = svc.predict(train[features].iloc[test_ix])\n",
    "        \n",
    "        accuracy_scores.append(metrics.accuracy_score(train['Survived'].iloc[test_ix], preds))\n",
    "        \n",
    "    return np.mean(accuracy_scores)\n",
    "    \n",
    "\n",
    "# 3. Create a study object and optimize the objective function.\n",
    "study = optuna.create_study(direction='maximize')\n",
    "study.optimize(objective, n_trials=1000)"
   ]
  },
  {
   "cell_type": "code",
   "execution_count": null,
   "metadata": {},
   "outputs": [],
   "source": [
    "'''\n",
    "C = 0.4898842008006796\n",
    "'''"
   ]
  },
  {
   "cell_type": "code",
   "execution_count": 47,
   "metadata": {},
   "outputs": [],
   "source": [
    "kf_stacking = KFold(4, shuffle = True, random_state = 0)\n",
    "kf_stacking.split(train)\n",
    "\n",
    "lv1_svc_preds = train['PassengerId'].copy()\n",
    "\n",
    "for train_ix, test_ix in kf_stacking.split(train):\n",
    "    svc = SVC(C = 0.4898842008006796)\n",
    "    \n",
    "    svc.fit(train[features].iloc[train_ix], train['Survived'].iloc[train_ix])\n",
    "    lv1_svc_preds.iloc[test_ix] = svc.predict(train[features].iloc[test_ix])\n",
    "    \n",
    "svc.fit(train[features], train['Survived'])\n",
    "test['lv1_svc_preds'] = svc.predict(test[features])"
   ]
  },
  {
   "cell_type": "markdown",
   "metadata": {},
   "source": [
    "## Random Forest"
   ]
  },
  {
   "cell_type": "code",
   "execution_count": 74,
   "metadata": {},
   "outputs": [
    {
     "name": "stderr",
     "output_type": "stream",
     "text": [
      "\u001b[32m[I 2021-12-22 18:40:08,773]\u001b[0m A new study created in memory with name: no-name-81649dcd-bc7b-49dc-b3d3-f5da5ffd3906\u001b[0m\n",
      "\u001b[32m[I 2021-12-22 18:40:09,507]\u001b[0m Trial 0 finished with value: 0.8136902893729208 and parameters: {'n_estimators': 99, 'criterion': 'gini', 'max_depth': 6, 'min_samples_split': 6, 'min_samples_leaf': 2, 'max_features': 7, 'max_leaf_nodes': 138}. Best is trial 0 with value: 0.8136902893729208.\u001b[0m\n",
      "\u001b[32m[I 2021-12-22 18:40:10,886]\u001b[0m Trial 1 finished with value: 0.793496955621116 and parameters: {'n_estimators': 167, 'criterion': 'entropy', 'max_depth': 12, 'min_samples_split': 90, 'min_samples_leaf': 24, 'max_features': 25, 'max_leaf_nodes': 189}. Best is trial 0 with value: 0.8136902893729208.\u001b[0m\n",
      "\u001b[32m[I 2021-12-22 18:40:11,248]\u001b[0m Trial 2 finished with value: 0.8024919967359236 and parameters: {'n_estimators': 42, 'criterion': 'gini', 'max_depth': 6, 'min_samples_split': 63, 'min_samples_leaf': 10, 'max_features': 21, 'max_leaf_nodes': 98}. Best is trial 0 with value: 0.8136902893729208.\u001b[0m\n",
      "\u001b[32m[I 2021-12-22 18:40:12,453]\u001b[0m Trial 3 finished with value: 0.8125980792166217 and parameters: {'n_estimators': 154, 'criterion': 'entropy', 'max_depth': 4, 'min_samples_split': 63, 'min_samples_leaf': 1, 'max_features': 17, 'max_leaf_nodes': 130}. Best is trial 0 with value: 0.8136902893729208.\u001b[0m\n",
      "\u001b[32m[I 2021-12-22 18:40:14,179]\u001b[0m Trial 4 finished with value: 0.8081099742640134 and parameters: {'n_estimators': 225, 'criterion': 'entropy', 'max_depth': 6, 'min_samples_split': 52, 'min_samples_leaf': 18, 'max_features': 15, 'max_leaf_nodes': 31}. Best is trial 0 with value: 0.8136902893729208.\u001b[0m\n",
      "\u001b[32m[I 2021-12-22 18:40:15,829]\u001b[0m Trial 5 finished with value: 0.8002573598644153 and parameters: {'n_estimators': 242, 'criterion': 'gini', 'max_depth': 3, 'min_samples_split': 21, 'min_samples_leaf': 5, 'max_features': 10, 'max_leaf_nodes': 125}. Best is trial 0 with value: 0.8136902893729208.\u001b[0m\n",
      "\u001b[32m[I 2021-12-22 18:40:16,578]\u001b[0m Trial 6 finished with value: 0.819295712761283 and parameters: {'n_estimators': 99, 'criterion': 'gini', 'max_depth': 6, 'min_samples_split': 19, 'min_samples_leaf': 8, 'max_features': 10, 'max_leaf_nodes': 23}. Best is trial 6 with value: 0.819295712761283.\u001b[0m\n",
      "\u001b[32m[I 2021-12-22 18:40:17,529]\u001b[0m Trial 7 finished with value: 0.8069801016885318 and parameters: {'n_estimators': 115, 'criterion': 'gini', 'max_depth': 12, 'min_samples_split': 48, 'min_samples_leaf': 16, 'max_features': 20, 'max_leaf_nodes': 165}. Best is trial 6 with value: 0.819295712761283.\u001b[0m\n",
      "\u001b[32m[I 2021-12-22 18:40:18,970]\u001b[0m Trial 8 finished with value: 0.8114682066411399 and parameters: {'n_estimators': 183, 'criterion': 'entropy', 'max_depth': 6, 'min_samples_split': 50, 'min_samples_leaf': 1, 'max_features': 12, 'max_leaf_nodes': 188}. Best is trial 6 with value: 0.819295712761283.\u001b[0m\n",
      "\u001b[32m[I 2021-12-22 18:40:20,747]\u001b[0m Trial 9 finished with value: 0.77890276818781 and parameters: {'n_estimators': 195, 'criterion': 'entropy', 'max_depth': 11, 'min_samples_split': 100, 'min_samples_leaf': 8, 'max_features': 22, 'max_leaf_nodes': 15}. Best is trial 6 with value: 0.819295712761283.\u001b[0m\n",
      "\u001b[32m[I 2021-12-22 18:40:21,076]\u001b[0m Trial 10 finished with value: 0.8080785889146946 and parameters: {'n_estimators': 43, 'criterion': 'gini', 'max_depth': 9, 'min_samples_split': 25, 'min_samples_leaf': 15, 'max_features': 3, 'max_leaf_nodes': 67}. Best is trial 6 with value: 0.819295712761283.\u001b[0m\n",
      "\u001b[32m[I 2021-12-22 18:40:21,804]\u001b[0m Trial 11 finished with value: 0.8114179900822297 and parameters: {'n_estimators': 85, 'criterion': 'gini', 'max_depth': 8, 'min_samples_split': 5, 'min_samples_leaf': 6, 'max_features': 6, 'max_leaf_nodes': 69}. Best is trial 6 with value: 0.819295712761283.\u001b[0m\n",
      "\u001b[33m[W 2021-12-22 18:40:21,878]\u001b[0m Trial 12 failed because of the following error: ValueError('min_samples_split must be an integer greater than 1 or a float in (0.0, 1.0]; got the integer 1')\u001b[0m\n",
      "Traceback (most recent call last):\n",
      "  File \"F:\\Python\\Python37\\lib\\site-packages\\optuna\\study\\_optimize.py\", line 213, in _run_trial\n",
      "    value_or_values = func(trial)\n",
      "  File \"<ipython-input-74-c5dcccd7ba60>\", line 23, in objective\n",
      "    rf.fit(train[features].iloc[train_ix,:], train['Survived'].iloc[train_ix])\n",
      "  File \"F:\\Python\\Python37\\lib\\site-packages\\sklearn\\ensemble\\_forest.py\", line 458, in fit\n",
      "    for i, t in enumerate(trees)\n",
      "  File \"F:\\Python\\Python37\\lib\\site-packages\\joblib\\parallel.py\", line 1043, in __call__\n",
      "    if self.dispatch_one_batch(iterator):\n",
      "  File \"F:\\Python\\Python37\\lib\\site-packages\\joblib\\parallel.py\", line 861, in dispatch_one_batch\n",
      "    self._dispatch(tasks)\n",
      "  File \"F:\\Python\\Python37\\lib\\site-packages\\joblib\\parallel.py\", line 779, in _dispatch\n",
      "    job = self._backend.apply_async(batch, callback=cb)\n",
      "  File \"F:\\Python\\Python37\\lib\\site-packages\\joblib\\_parallel_backends.py\", line 208, in apply_async\n",
      "    result = ImmediateResult(func)\n",
      "  File \"F:\\Python\\Python37\\lib\\site-packages\\joblib\\_parallel_backends.py\", line 572, in __init__\n",
      "    self.results = batch()\n",
      "  File \"F:\\Python\\Python37\\lib\\site-packages\\joblib\\parallel.py\", line 263, in __call__\n",
      "    for func, args, kwargs in self.items]\n",
      "  File \"F:\\Python\\Python37\\lib\\site-packages\\joblib\\parallel.py\", line 263, in <listcomp>\n",
      "    for func, args, kwargs in self.items]\n",
      "  File \"F:\\Python\\Python37\\lib\\site-packages\\sklearn\\utils\\fixes.py\", line 209, in __call__\n",
      "    return self.function(*args, **kwargs)\n",
      "  File \"F:\\Python\\Python37\\lib\\site-packages\\sklearn\\ensemble\\_forest.py\", line 184, in _parallel_build_trees\n",
      "    tree.fit(X, y, sample_weight=curr_sample_weight, check_input=False)\n",
      "  File \"F:\\Python\\Python37\\lib\\site-packages\\sklearn\\tree\\_classes.py\", line 942, in fit\n",
      "    X_idx_sorted=X_idx_sorted,\n",
      "  File \"F:\\Python\\Python37\\lib\\site-packages\\sklearn\\tree\\_classes.py\", line 254, in fit\n",
      "    % self.min_samples_split\n",
      "ValueError: min_samples_split must be an integer greater than 1 or a float in (0.0, 1.0]; got the integer 1\n"
     ]
    },
    {
     "ename": "ValueError",
     "evalue": "min_samples_split must be an integer greater than 1 or a float in (0.0, 1.0]; got the integer 1",
     "output_type": "error",
     "traceback": [
      "\u001b[1;31m---------------------------------------------------------------------------\u001b[0m",
      "\u001b[1;31mValueError\u001b[0m                                Traceback (most recent call last)",
      "\u001b[1;32m<ipython-input-74-c5dcccd7ba60>\u001b[0m in \u001b[0;36m<module>\u001b[1;34m\u001b[0m\n\u001b[0;32m     32\u001b[0m \u001b[1;33m\u001b[0m\u001b[0m\n\u001b[0;32m     33\u001b[0m \u001b[0mstudy\u001b[0m \u001b[1;33m=\u001b[0m \u001b[0moptuna\u001b[0m\u001b[1;33m.\u001b[0m\u001b[0mcreate_study\u001b[0m\u001b[1;33m(\u001b[0m\u001b[0mdirection\u001b[0m\u001b[1;33m=\u001b[0m\u001b[1;34m'maximize'\u001b[0m\u001b[1;33m)\u001b[0m\u001b[1;33m\u001b[0m\u001b[1;33m\u001b[0m\u001b[0m\n\u001b[1;32m---> 34\u001b[1;33m \u001b[0mstudy\u001b[0m\u001b[1;33m.\u001b[0m\u001b[0moptimize\u001b[0m\u001b[1;33m(\u001b[0m\u001b[0mobjective\u001b[0m\u001b[1;33m,\u001b[0m \u001b[0mn_trials\u001b[0m\u001b[1;33m=\u001b[0m\u001b[1;36m1000\u001b[0m\u001b[1;33m)\u001b[0m\u001b[1;33m\u001b[0m\u001b[1;33m\u001b[0m\u001b[0m\n\u001b[0m",
      "\u001b[1;32mF:\\Python\\Python37\\lib\\site-packages\\optuna\\study\\study.py\u001b[0m in \u001b[0;36moptimize\u001b[1;34m(self, func, n_trials, timeout, n_jobs, catch, callbacks, gc_after_trial, show_progress_bar)\u001b[0m\n\u001b[0;32m    407\u001b[0m             \u001b[0mcallbacks\u001b[0m\u001b[1;33m=\u001b[0m\u001b[0mcallbacks\u001b[0m\u001b[1;33m,\u001b[0m\u001b[1;33m\u001b[0m\u001b[1;33m\u001b[0m\u001b[0m\n\u001b[0;32m    408\u001b[0m             \u001b[0mgc_after_trial\u001b[0m\u001b[1;33m=\u001b[0m\u001b[0mgc_after_trial\u001b[0m\u001b[1;33m,\u001b[0m\u001b[1;33m\u001b[0m\u001b[1;33m\u001b[0m\u001b[0m\n\u001b[1;32m--> 409\u001b[1;33m             \u001b[0mshow_progress_bar\u001b[0m\u001b[1;33m=\u001b[0m\u001b[0mshow_progress_bar\u001b[0m\u001b[1;33m,\u001b[0m\u001b[1;33m\u001b[0m\u001b[1;33m\u001b[0m\u001b[0m\n\u001b[0m\u001b[0;32m    410\u001b[0m         )\n\u001b[0;32m    411\u001b[0m \u001b[1;33m\u001b[0m\u001b[0m\n",
      "\u001b[1;32mF:\\Python\\Python37\\lib\\site-packages\\optuna\\study\\_optimize.py\u001b[0m in \u001b[0;36m_optimize\u001b[1;34m(study, func, n_trials, timeout, n_jobs, catch, callbacks, gc_after_trial, show_progress_bar)\u001b[0m\n\u001b[0;32m     74\u001b[0m                 \u001b[0mreseed_sampler_rng\u001b[0m\u001b[1;33m=\u001b[0m\u001b[1;32mFalse\u001b[0m\u001b[1;33m,\u001b[0m\u001b[1;33m\u001b[0m\u001b[1;33m\u001b[0m\u001b[0m\n\u001b[0;32m     75\u001b[0m                 \u001b[0mtime_start\u001b[0m\u001b[1;33m=\u001b[0m\u001b[1;32mNone\u001b[0m\u001b[1;33m,\u001b[0m\u001b[1;33m\u001b[0m\u001b[1;33m\u001b[0m\u001b[0m\n\u001b[1;32m---> 76\u001b[1;33m                 \u001b[0mprogress_bar\u001b[0m\u001b[1;33m=\u001b[0m\u001b[0mprogress_bar\u001b[0m\u001b[1;33m,\u001b[0m\u001b[1;33m\u001b[0m\u001b[1;33m\u001b[0m\u001b[0m\n\u001b[0m\u001b[0;32m     77\u001b[0m             )\n\u001b[0;32m     78\u001b[0m         \u001b[1;32melse\u001b[0m\u001b[1;33m:\u001b[0m\u001b[1;33m\u001b[0m\u001b[1;33m\u001b[0m\u001b[0m\n",
      "\u001b[1;32mF:\\Python\\Python37\\lib\\site-packages\\optuna\\study\\_optimize.py\u001b[0m in \u001b[0;36m_optimize_sequential\u001b[1;34m(study, func, n_trials, timeout, catch, callbacks, gc_after_trial, reseed_sampler_rng, time_start, progress_bar)\u001b[0m\n\u001b[0;32m    161\u001b[0m \u001b[1;33m\u001b[0m\u001b[0m\n\u001b[0;32m    162\u001b[0m         \u001b[1;32mtry\u001b[0m\u001b[1;33m:\u001b[0m\u001b[1;33m\u001b[0m\u001b[1;33m\u001b[0m\u001b[0m\n\u001b[1;32m--> 163\u001b[1;33m             \u001b[0mtrial\u001b[0m \u001b[1;33m=\u001b[0m \u001b[0m_run_trial\u001b[0m\u001b[1;33m(\u001b[0m\u001b[0mstudy\u001b[0m\u001b[1;33m,\u001b[0m \u001b[0mfunc\u001b[0m\u001b[1;33m,\u001b[0m \u001b[0mcatch\u001b[0m\u001b[1;33m)\u001b[0m\u001b[1;33m\u001b[0m\u001b[1;33m\u001b[0m\u001b[0m\n\u001b[0m\u001b[0;32m    164\u001b[0m         \u001b[1;32mexcept\u001b[0m \u001b[0mException\u001b[0m\u001b[1;33m:\u001b[0m\u001b[1;33m\u001b[0m\u001b[1;33m\u001b[0m\u001b[0m\n\u001b[0;32m    165\u001b[0m             \u001b[1;32mraise\u001b[0m\u001b[1;33m\u001b[0m\u001b[1;33m\u001b[0m\u001b[0m\n",
      "\u001b[1;32mF:\\Python\\Python37\\lib\\site-packages\\optuna\\study\\_optimize.py\u001b[0m in \u001b[0;36m_run_trial\u001b[1;34m(study, func, catch)\u001b[0m\n\u001b[0;32m    262\u001b[0m \u001b[1;33m\u001b[0m\u001b[0m\n\u001b[0;32m    263\u001b[0m     \u001b[1;32mif\u001b[0m \u001b[0mstate\u001b[0m \u001b[1;33m==\u001b[0m \u001b[0mTrialState\u001b[0m\u001b[1;33m.\u001b[0m\u001b[0mFAIL\u001b[0m \u001b[1;32mand\u001b[0m \u001b[0mfunc_err\u001b[0m \u001b[1;32mis\u001b[0m \u001b[1;32mnot\u001b[0m \u001b[1;32mNone\u001b[0m \u001b[1;32mand\u001b[0m \u001b[1;32mnot\u001b[0m \u001b[0misinstance\u001b[0m\u001b[1;33m(\u001b[0m\u001b[0mfunc_err\u001b[0m\u001b[1;33m,\u001b[0m \u001b[0mcatch\u001b[0m\u001b[1;33m)\u001b[0m\u001b[1;33m:\u001b[0m\u001b[1;33m\u001b[0m\u001b[1;33m\u001b[0m\u001b[0m\n\u001b[1;32m--> 264\u001b[1;33m         \u001b[1;32mraise\u001b[0m \u001b[0mfunc_err\u001b[0m\u001b[1;33m\u001b[0m\u001b[1;33m\u001b[0m\u001b[0m\n\u001b[0m\u001b[0;32m    265\u001b[0m     \u001b[1;32mreturn\u001b[0m \u001b[0mtrial\u001b[0m\u001b[1;33m\u001b[0m\u001b[1;33m\u001b[0m\u001b[0m\n\u001b[0;32m    266\u001b[0m \u001b[1;33m\u001b[0m\u001b[0m\n",
      "\u001b[1;32mF:\\Python\\Python37\\lib\\site-packages\\optuna\\study\\_optimize.py\u001b[0m in \u001b[0;36m_run_trial\u001b[1;34m(study, func, catch)\u001b[0m\n\u001b[0;32m    211\u001b[0m \u001b[1;33m\u001b[0m\u001b[0m\n\u001b[0;32m    212\u001b[0m     \u001b[1;32mtry\u001b[0m\u001b[1;33m:\u001b[0m\u001b[1;33m\u001b[0m\u001b[1;33m\u001b[0m\u001b[0m\n\u001b[1;32m--> 213\u001b[1;33m         \u001b[0mvalue_or_values\u001b[0m \u001b[1;33m=\u001b[0m \u001b[0mfunc\u001b[0m\u001b[1;33m(\u001b[0m\u001b[0mtrial\u001b[0m\u001b[1;33m)\u001b[0m\u001b[1;33m\u001b[0m\u001b[1;33m\u001b[0m\u001b[0m\n\u001b[0m\u001b[0;32m    214\u001b[0m     \u001b[1;32mexcept\u001b[0m \u001b[0mexceptions\u001b[0m\u001b[1;33m.\u001b[0m\u001b[0mTrialPruned\u001b[0m \u001b[1;32mas\u001b[0m \u001b[0me\u001b[0m\u001b[1;33m:\u001b[0m\u001b[1;33m\u001b[0m\u001b[1;33m\u001b[0m\u001b[0m\n\u001b[0;32m    215\u001b[0m         \u001b[1;31m# TODO(mamu): Handle multi-objective cases.\u001b[0m\u001b[1;33m\u001b[0m\u001b[1;33m\u001b[0m\u001b[1;33m\u001b[0m\u001b[0m\n",
      "\u001b[1;32m<ipython-input-74-c5dcccd7ba60>\u001b[0m in \u001b[0;36mobjective\u001b[1;34m(trial)\u001b[0m\n\u001b[0;32m     21\u001b[0m \u001b[1;33m\u001b[0m\u001b[0m\n\u001b[0;32m     22\u001b[0m     \u001b[1;32mfor\u001b[0m \u001b[0mtrain_ix\u001b[0m\u001b[1;33m,\u001b[0m \u001b[0mtest_ix\u001b[0m \u001b[1;32min\u001b[0m \u001b[0mkf\u001b[0m\u001b[1;33m.\u001b[0m\u001b[0msplit\u001b[0m\u001b[1;33m(\u001b[0m\u001b[0mtrain\u001b[0m\u001b[1;33m)\u001b[0m\u001b[1;33m:\u001b[0m\u001b[1;33m\u001b[0m\u001b[1;33m\u001b[0m\u001b[0m\n\u001b[1;32m---> 23\u001b[1;33m         \u001b[0mrf\u001b[0m\u001b[1;33m.\u001b[0m\u001b[0mfit\u001b[0m\u001b[1;33m(\u001b[0m\u001b[0mtrain\u001b[0m\u001b[1;33m[\u001b[0m\u001b[0mfeatures\u001b[0m\u001b[1;33m]\u001b[0m\u001b[1;33m.\u001b[0m\u001b[0miloc\u001b[0m\u001b[1;33m[\u001b[0m\u001b[0mtrain_ix\u001b[0m\u001b[1;33m,\u001b[0m\u001b[1;33m:\u001b[0m\u001b[1;33m]\u001b[0m\u001b[1;33m,\u001b[0m \u001b[0mtrain\u001b[0m\u001b[1;33m[\u001b[0m\u001b[1;34m'Survived'\u001b[0m\u001b[1;33m]\u001b[0m\u001b[1;33m.\u001b[0m\u001b[0miloc\u001b[0m\u001b[1;33m[\u001b[0m\u001b[0mtrain_ix\u001b[0m\u001b[1;33m]\u001b[0m\u001b[1;33m)\u001b[0m\u001b[1;33m\u001b[0m\u001b[1;33m\u001b[0m\u001b[0m\n\u001b[0m\u001b[0;32m     24\u001b[0m         \u001b[0mpreds\u001b[0m \u001b[1;33m=\u001b[0m \u001b[0mrf\u001b[0m\u001b[1;33m.\u001b[0m\u001b[0mpredict\u001b[0m\u001b[1;33m(\u001b[0m\u001b[0mtrain\u001b[0m\u001b[1;33m[\u001b[0m\u001b[0mfeatures\u001b[0m\u001b[1;33m]\u001b[0m\u001b[1;33m.\u001b[0m\u001b[0miloc\u001b[0m\u001b[1;33m[\u001b[0m\u001b[0mtest_ix\u001b[0m\u001b[1;33m]\u001b[0m\u001b[1;33m)\u001b[0m\u001b[1;33m\u001b[0m\u001b[1;33m\u001b[0m\u001b[0m\n\u001b[0;32m     25\u001b[0m \u001b[1;33m\u001b[0m\u001b[0m\n",
      "\u001b[1;32mF:\\Python\\Python37\\lib\\site-packages\\sklearn\\ensemble\\_forest.py\u001b[0m in \u001b[0;36mfit\u001b[1;34m(self, X, y, sample_weight)\u001b[0m\n\u001b[0;32m    456\u001b[0m                     \u001b[0mn_samples_bootstrap\u001b[0m\u001b[1;33m=\u001b[0m\u001b[0mn_samples_bootstrap\u001b[0m\u001b[1;33m,\u001b[0m\u001b[1;33m\u001b[0m\u001b[1;33m\u001b[0m\u001b[0m\n\u001b[0;32m    457\u001b[0m                 )\n\u001b[1;32m--> 458\u001b[1;33m                 \u001b[1;32mfor\u001b[0m \u001b[0mi\u001b[0m\u001b[1;33m,\u001b[0m \u001b[0mt\u001b[0m \u001b[1;32min\u001b[0m \u001b[0menumerate\u001b[0m\u001b[1;33m(\u001b[0m\u001b[0mtrees\u001b[0m\u001b[1;33m)\u001b[0m\u001b[1;33m\u001b[0m\u001b[1;33m\u001b[0m\u001b[0m\n\u001b[0m\u001b[0;32m    459\u001b[0m             )\n\u001b[0;32m    460\u001b[0m \u001b[1;33m\u001b[0m\u001b[0m\n",
      "\u001b[1;32mF:\\Python\\Python37\\lib\\site-packages\\joblib\\parallel.py\u001b[0m in \u001b[0;36m__call__\u001b[1;34m(self, iterable)\u001b[0m\n\u001b[0;32m   1041\u001b[0m             \u001b[1;31m# remaining jobs.\u001b[0m\u001b[1;33m\u001b[0m\u001b[1;33m\u001b[0m\u001b[1;33m\u001b[0m\u001b[0m\n\u001b[0;32m   1042\u001b[0m             \u001b[0mself\u001b[0m\u001b[1;33m.\u001b[0m\u001b[0m_iterating\u001b[0m \u001b[1;33m=\u001b[0m \u001b[1;32mFalse\u001b[0m\u001b[1;33m\u001b[0m\u001b[1;33m\u001b[0m\u001b[0m\n\u001b[1;32m-> 1043\u001b[1;33m             \u001b[1;32mif\u001b[0m \u001b[0mself\u001b[0m\u001b[1;33m.\u001b[0m\u001b[0mdispatch_one_batch\u001b[0m\u001b[1;33m(\u001b[0m\u001b[0miterator\u001b[0m\u001b[1;33m)\u001b[0m\u001b[1;33m:\u001b[0m\u001b[1;33m\u001b[0m\u001b[1;33m\u001b[0m\u001b[0m\n\u001b[0m\u001b[0;32m   1044\u001b[0m                 \u001b[0mself\u001b[0m\u001b[1;33m.\u001b[0m\u001b[0m_iterating\u001b[0m \u001b[1;33m=\u001b[0m \u001b[0mself\u001b[0m\u001b[1;33m.\u001b[0m\u001b[0m_original_iterator\u001b[0m \u001b[1;32mis\u001b[0m \u001b[1;32mnot\u001b[0m \u001b[1;32mNone\u001b[0m\u001b[1;33m\u001b[0m\u001b[1;33m\u001b[0m\u001b[0m\n\u001b[0;32m   1045\u001b[0m \u001b[1;33m\u001b[0m\u001b[0m\n",
      "\u001b[1;32mF:\\Python\\Python37\\lib\\site-packages\\joblib\\parallel.py\u001b[0m in \u001b[0;36mdispatch_one_batch\u001b[1;34m(self, iterator)\u001b[0m\n\u001b[0;32m    859\u001b[0m                 \u001b[1;32mreturn\u001b[0m \u001b[1;32mFalse\u001b[0m\u001b[1;33m\u001b[0m\u001b[1;33m\u001b[0m\u001b[0m\n\u001b[0;32m    860\u001b[0m             \u001b[1;32melse\u001b[0m\u001b[1;33m:\u001b[0m\u001b[1;33m\u001b[0m\u001b[1;33m\u001b[0m\u001b[0m\n\u001b[1;32m--> 861\u001b[1;33m                 \u001b[0mself\u001b[0m\u001b[1;33m.\u001b[0m\u001b[0m_dispatch\u001b[0m\u001b[1;33m(\u001b[0m\u001b[0mtasks\u001b[0m\u001b[1;33m)\u001b[0m\u001b[1;33m\u001b[0m\u001b[1;33m\u001b[0m\u001b[0m\n\u001b[0m\u001b[0;32m    862\u001b[0m                 \u001b[1;32mreturn\u001b[0m \u001b[1;32mTrue\u001b[0m\u001b[1;33m\u001b[0m\u001b[1;33m\u001b[0m\u001b[0m\n\u001b[0;32m    863\u001b[0m \u001b[1;33m\u001b[0m\u001b[0m\n",
      "\u001b[1;32mF:\\Python\\Python37\\lib\\site-packages\\joblib\\parallel.py\u001b[0m in \u001b[0;36m_dispatch\u001b[1;34m(self, batch)\u001b[0m\n\u001b[0;32m    777\u001b[0m         \u001b[1;32mwith\u001b[0m \u001b[0mself\u001b[0m\u001b[1;33m.\u001b[0m\u001b[0m_lock\u001b[0m\u001b[1;33m:\u001b[0m\u001b[1;33m\u001b[0m\u001b[1;33m\u001b[0m\u001b[0m\n\u001b[0;32m    778\u001b[0m             \u001b[0mjob_idx\u001b[0m \u001b[1;33m=\u001b[0m \u001b[0mlen\u001b[0m\u001b[1;33m(\u001b[0m\u001b[0mself\u001b[0m\u001b[1;33m.\u001b[0m\u001b[0m_jobs\u001b[0m\u001b[1;33m)\u001b[0m\u001b[1;33m\u001b[0m\u001b[1;33m\u001b[0m\u001b[0m\n\u001b[1;32m--> 779\u001b[1;33m             \u001b[0mjob\u001b[0m \u001b[1;33m=\u001b[0m \u001b[0mself\u001b[0m\u001b[1;33m.\u001b[0m\u001b[0m_backend\u001b[0m\u001b[1;33m.\u001b[0m\u001b[0mapply_async\u001b[0m\u001b[1;33m(\u001b[0m\u001b[0mbatch\u001b[0m\u001b[1;33m,\u001b[0m \u001b[0mcallback\u001b[0m\u001b[1;33m=\u001b[0m\u001b[0mcb\u001b[0m\u001b[1;33m)\u001b[0m\u001b[1;33m\u001b[0m\u001b[1;33m\u001b[0m\u001b[0m\n\u001b[0m\u001b[0;32m    780\u001b[0m             \u001b[1;31m# A job can complete so quickly than its callback is\u001b[0m\u001b[1;33m\u001b[0m\u001b[1;33m\u001b[0m\u001b[1;33m\u001b[0m\u001b[0m\n\u001b[0;32m    781\u001b[0m             \u001b[1;31m# called before we get here, causing self._jobs to\u001b[0m\u001b[1;33m\u001b[0m\u001b[1;33m\u001b[0m\u001b[1;33m\u001b[0m\u001b[0m\n",
      "\u001b[1;32mF:\\Python\\Python37\\lib\\site-packages\\joblib\\_parallel_backends.py\u001b[0m in \u001b[0;36mapply_async\u001b[1;34m(self, func, callback)\u001b[0m\n\u001b[0;32m    206\u001b[0m     \u001b[1;32mdef\u001b[0m \u001b[0mapply_async\u001b[0m\u001b[1;33m(\u001b[0m\u001b[0mself\u001b[0m\u001b[1;33m,\u001b[0m \u001b[0mfunc\u001b[0m\u001b[1;33m,\u001b[0m \u001b[0mcallback\u001b[0m\u001b[1;33m=\u001b[0m\u001b[1;32mNone\u001b[0m\u001b[1;33m)\u001b[0m\u001b[1;33m:\u001b[0m\u001b[1;33m\u001b[0m\u001b[1;33m\u001b[0m\u001b[0m\n\u001b[0;32m    207\u001b[0m         \u001b[1;34m\"\"\"Schedule a func to be run\"\"\"\u001b[0m\u001b[1;33m\u001b[0m\u001b[1;33m\u001b[0m\u001b[0m\n\u001b[1;32m--> 208\u001b[1;33m         \u001b[0mresult\u001b[0m \u001b[1;33m=\u001b[0m \u001b[0mImmediateResult\u001b[0m\u001b[1;33m(\u001b[0m\u001b[0mfunc\u001b[0m\u001b[1;33m)\u001b[0m\u001b[1;33m\u001b[0m\u001b[1;33m\u001b[0m\u001b[0m\n\u001b[0m\u001b[0;32m    209\u001b[0m         \u001b[1;32mif\u001b[0m \u001b[0mcallback\u001b[0m\u001b[1;33m:\u001b[0m\u001b[1;33m\u001b[0m\u001b[1;33m\u001b[0m\u001b[0m\n\u001b[0;32m    210\u001b[0m             \u001b[0mcallback\u001b[0m\u001b[1;33m(\u001b[0m\u001b[0mresult\u001b[0m\u001b[1;33m)\u001b[0m\u001b[1;33m\u001b[0m\u001b[1;33m\u001b[0m\u001b[0m\n",
      "\u001b[1;32mF:\\Python\\Python37\\lib\\site-packages\\joblib\\_parallel_backends.py\u001b[0m in \u001b[0;36m__init__\u001b[1;34m(self, batch)\u001b[0m\n\u001b[0;32m    570\u001b[0m         \u001b[1;31m# Don't delay the application, to avoid keeping the input\u001b[0m\u001b[1;33m\u001b[0m\u001b[1;33m\u001b[0m\u001b[1;33m\u001b[0m\u001b[0m\n\u001b[0;32m    571\u001b[0m         \u001b[1;31m# arguments in memory\u001b[0m\u001b[1;33m\u001b[0m\u001b[1;33m\u001b[0m\u001b[1;33m\u001b[0m\u001b[0m\n\u001b[1;32m--> 572\u001b[1;33m         \u001b[0mself\u001b[0m\u001b[1;33m.\u001b[0m\u001b[0mresults\u001b[0m \u001b[1;33m=\u001b[0m \u001b[0mbatch\u001b[0m\u001b[1;33m(\u001b[0m\u001b[1;33m)\u001b[0m\u001b[1;33m\u001b[0m\u001b[1;33m\u001b[0m\u001b[0m\n\u001b[0m\u001b[0;32m    573\u001b[0m \u001b[1;33m\u001b[0m\u001b[0m\n\u001b[0;32m    574\u001b[0m     \u001b[1;32mdef\u001b[0m \u001b[0mget\u001b[0m\u001b[1;33m(\u001b[0m\u001b[0mself\u001b[0m\u001b[1;33m)\u001b[0m\u001b[1;33m:\u001b[0m\u001b[1;33m\u001b[0m\u001b[1;33m\u001b[0m\u001b[0m\n",
      "\u001b[1;32mF:\\Python\\Python37\\lib\\site-packages\\joblib\\parallel.py\u001b[0m in \u001b[0;36m__call__\u001b[1;34m(self)\u001b[0m\n\u001b[0;32m    261\u001b[0m         \u001b[1;32mwith\u001b[0m \u001b[0mparallel_backend\u001b[0m\u001b[1;33m(\u001b[0m\u001b[0mself\u001b[0m\u001b[1;33m.\u001b[0m\u001b[0m_backend\u001b[0m\u001b[1;33m,\u001b[0m \u001b[0mn_jobs\u001b[0m\u001b[1;33m=\u001b[0m\u001b[0mself\u001b[0m\u001b[1;33m.\u001b[0m\u001b[0m_n_jobs\u001b[0m\u001b[1;33m)\u001b[0m\u001b[1;33m:\u001b[0m\u001b[1;33m\u001b[0m\u001b[1;33m\u001b[0m\u001b[0m\n\u001b[0;32m    262\u001b[0m             return [func(*args, **kwargs)\n\u001b[1;32m--> 263\u001b[1;33m                     for func, args, kwargs in self.items]\n\u001b[0m\u001b[0;32m    264\u001b[0m \u001b[1;33m\u001b[0m\u001b[0m\n\u001b[0;32m    265\u001b[0m     \u001b[1;32mdef\u001b[0m \u001b[0m__reduce__\u001b[0m\u001b[1;33m(\u001b[0m\u001b[0mself\u001b[0m\u001b[1;33m)\u001b[0m\u001b[1;33m:\u001b[0m\u001b[1;33m\u001b[0m\u001b[1;33m\u001b[0m\u001b[0m\n",
      "\u001b[1;32mF:\\Python\\Python37\\lib\\site-packages\\joblib\\parallel.py\u001b[0m in \u001b[0;36m<listcomp>\u001b[1;34m(.0)\u001b[0m\n\u001b[0;32m    261\u001b[0m         \u001b[1;32mwith\u001b[0m \u001b[0mparallel_backend\u001b[0m\u001b[1;33m(\u001b[0m\u001b[0mself\u001b[0m\u001b[1;33m.\u001b[0m\u001b[0m_backend\u001b[0m\u001b[1;33m,\u001b[0m \u001b[0mn_jobs\u001b[0m\u001b[1;33m=\u001b[0m\u001b[0mself\u001b[0m\u001b[1;33m.\u001b[0m\u001b[0m_n_jobs\u001b[0m\u001b[1;33m)\u001b[0m\u001b[1;33m:\u001b[0m\u001b[1;33m\u001b[0m\u001b[1;33m\u001b[0m\u001b[0m\n\u001b[0;32m    262\u001b[0m             return [func(*args, **kwargs)\n\u001b[1;32m--> 263\u001b[1;33m                     for func, args, kwargs in self.items]\n\u001b[0m\u001b[0;32m    264\u001b[0m \u001b[1;33m\u001b[0m\u001b[0m\n\u001b[0;32m    265\u001b[0m     \u001b[1;32mdef\u001b[0m \u001b[0m__reduce__\u001b[0m\u001b[1;33m(\u001b[0m\u001b[0mself\u001b[0m\u001b[1;33m)\u001b[0m\u001b[1;33m:\u001b[0m\u001b[1;33m\u001b[0m\u001b[1;33m\u001b[0m\u001b[0m\n",
      "\u001b[1;32mF:\\Python\\Python37\\lib\\site-packages\\sklearn\\utils\\fixes.py\u001b[0m in \u001b[0;36m__call__\u001b[1;34m(self, *args, **kwargs)\u001b[0m\n\u001b[0;32m    207\u001b[0m     \u001b[1;32mdef\u001b[0m \u001b[0m__call__\u001b[0m\u001b[1;33m(\u001b[0m\u001b[0mself\u001b[0m\u001b[1;33m,\u001b[0m \u001b[1;33m*\u001b[0m\u001b[0margs\u001b[0m\u001b[1;33m,\u001b[0m \u001b[1;33m**\u001b[0m\u001b[0mkwargs\u001b[0m\u001b[1;33m)\u001b[0m\u001b[1;33m:\u001b[0m\u001b[1;33m\u001b[0m\u001b[1;33m\u001b[0m\u001b[0m\n\u001b[0;32m    208\u001b[0m         \u001b[1;32mwith\u001b[0m \u001b[0mconfig_context\u001b[0m\u001b[1;33m(\u001b[0m\u001b[1;33m**\u001b[0m\u001b[0mself\u001b[0m\u001b[1;33m.\u001b[0m\u001b[0mconfig\u001b[0m\u001b[1;33m)\u001b[0m\u001b[1;33m:\u001b[0m\u001b[1;33m\u001b[0m\u001b[1;33m\u001b[0m\u001b[0m\n\u001b[1;32m--> 209\u001b[1;33m             \u001b[1;32mreturn\u001b[0m \u001b[0mself\u001b[0m\u001b[1;33m.\u001b[0m\u001b[0mfunction\u001b[0m\u001b[1;33m(\u001b[0m\u001b[1;33m*\u001b[0m\u001b[0margs\u001b[0m\u001b[1;33m,\u001b[0m \u001b[1;33m**\u001b[0m\u001b[0mkwargs\u001b[0m\u001b[1;33m)\u001b[0m\u001b[1;33m\u001b[0m\u001b[1;33m\u001b[0m\u001b[0m\n\u001b[0m\u001b[0;32m    210\u001b[0m \u001b[1;33m\u001b[0m\u001b[0m\n\u001b[0;32m    211\u001b[0m \u001b[1;33m\u001b[0m\u001b[0m\n",
      "\u001b[1;32mF:\\Python\\Python37\\lib\\site-packages\\sklearn\\ensemble\\_forest.py\u001b[0m in \u001b[0;36m_parallel_build_trees\u001b[1;34m(tree, forest, X, y, sample_weight, tree_idx, n_trees, verbose, class_weight, n_samples_bootstrap)\u001b[0m\n\u001b[0;32m    182\u001b[0m             \u001b[0mcurr_sample_weight\u001b[0m \u001b[1;33m*=\u001b[0m \u001b[0mcompute_sample_weight\u001b[0m\u001b[1;33m(\u001b[0m\u001b[1;34m\"balanced\"\u001b[0m\u001b[1;33m,\u001b[0m \u001b[0my\u001b[0m\u001b[1;33m,\u001b[0m \u001b[0mindices\u001b[0m\u001b[1;33m=\u001b[0m\u001b[0mindices\u001b[0m\u001b[1;33m)\u001b[0m\u001b[1;33m\u001b[0m\u001b[1;33m\u001b[0m\u001b[0m\n\u001b[0;32m    183\u001b[0m \u001b[1;33m\u001b[0m\u001b[0m\n\u001b[1;32m--> 184\u001b[1;33m         \u001b[0mtree\u001b[0m\u001b[1;33m.\u001b[0m\u001b[0mfit\u001b[0m\u001b[1;33m(\u001b[0m\u001b[0mX\u001b[0m\u001b[1;33m,\u001b[0m \u001b[0my\u001b[0m\u001b[1;33m,\u001b[0m \u001b[0msample_weight\u001b[0m\u001b[1;33m=\u001b[0m\u001b[0mcurr_sample_weight\u001b[0m\u001b[1;33m,\u001b[0m \u001b[0mcheck_input\u001b[0m\u001b[1;33m=\u001b[0m\u001b[1;32mFalse\u001b[0m\u001b[1;33m)\u001b[0m\u001b[1;33m\u001b[0m\u001b[1;33m\u001b[0m\u001b[0m\n\u001b[0m\u001b[0;32m    185\u001b[0m     \u001b[1;32melse\u001b[0m\u001b[1;33m:\u001b[0m\u001b[1;33m\u001b[0m\u001b[1;33m\u001b[0m\u001b[0m\n\u001b[0;32m    186\u001b[0m         \u001b[0mtree\u001b[0m\u001b[1;33m.\u001b[0m\u001b[0mfit\u001b[0m\u001b[1;33m(\u001b[0m\u001b[0mX\u001b[0m\u001b[1;33m,\u001b[0m \u001b[0my\u001b[0m\u001b[1;33m,\u001b[0m \u001b[0msample_weight\u001b[0m\u001b[1;33m=\u001b[0m\u001b[0msample_weight\u001b[0m\u001b[1;33m,\u001b[0m \u001b[0mcheck_input\u001b[0m\u001b[1;33m=\u001b[0m\u001b[1;32mFalse\u001b[0m\u001b[1;33m)\u001b[0m\u001b[1;33m\u001b[0m\u001b[1;33m\u001b[0m\u001b[0m\n",
      "\u001b[1;32mF:\\Python\\Python37\\lib\\site-packages\\sklearn\\tree\\_classes.py\u001b[0m in \u001b[0;36mfit\u001b[1;34m(self, X, y, sample_weight, check_input, X_idx_sorted)\u001b[0m\n\u001b[0;32m    940\u001b[0m             \u001b[0msample_weight\u001b[0m\u001b[1;33m=\u001b[0m\u001b[0msample_weight\u001b[0m\u001b[1;33m,\u001b[0m\u001b[1;33m\u001b[0m\u001b[1;33m\u001b[0m\u001b[0m\n\u001b[0;32m    941\u001b[0m             \u001b[0mcheck_input\u001b[0m\u001b[1;33m=\u001b[0m\u001b[0mcheck_input\u001b[0m\u001b[1;33m,\u001b[0m\u001b[1;33m\u001b[0m\u001b[1;33m\u001b[0m\u001b[0m\n\u001b[1;32m--> 942\u001b[1;33m             \u001b[0mX_idx_sorted\u001b[0m\u001b[1;33m=\u001b[0m\u001b[0mX_idx_sorted\u001b[0m\u001b[1;33m,\u001b[0m\u001b[1;33m\u001b[0m\u001b[1;33m\u001b[0m\u001b[0m\n\u001b[0m\u001b[0;32m    943\u001b[0m         )\n\u001b[0;32m    944\u001b[0m         \u001b[1;32mreturn\u001b[0m \u001b[0mself\u001b[0m\u001b[1;33m\u001b[0m\u001b[1;33m\u001b[0m\u001b[0m\n",
      "\u001b[1;32mF:\\Python\\Python37\\lib\\site-packages\\sklearn\\tree\\_classes.py\u001b[0m in \u001b[0;36mfit\u001b[1;34m(self, X, y, sample_weight, check_input, X_idx_sorted)\u001b[0m\n\u001b[0;32m    252\u001b[0m                     \u001b[1;34m\"greater than 1 or a float in (0.0, 1.0]; \"\u001b[0m\u001b[1;33m\u001b[0m\u001b[1;33m\u001b[0m\u001b[0m\n\u001b[0;32m    253\u001b[0m                     \u001b[1;34m\"got the integer %s\"\u001b[0m\u001b[1;33m\u001b[0m\u001b[1;33m\u001b[0m\u001b[0m\n\u001b[1;32m--> 254\u001b[1;33m                     \u001b[1;33m%\u001b[0m \u001b[0mself\u001b[0m\u001b[1;33m.\u001b[0m\u001b[0mmin_samples_split\u001b[0m\u001b[1;33m\u001b[0m\u001b[1;33m\u001b[0m\u001b[0m\n\u001b[0m\u001b[0;32m    255\u001b[0m                 )\n\u001b[0;32m    256\u001b[0m             \u001b[0mmin_samples_split\u001b[0m \u001b[1;33m=\u001b[0m \u001b[0mself\u001b[0m\u001b[1;33m.\u001b[0m\u001b[0mmin_samples_split\u001b[0m\u001b[1;33m\u001b[0m\u001b[1;33m\u001b[0m\u001b[0m\n",
      "\u001b[1;31mValueError\u001b[0m: min_samples_split must be an integer greater than 1 or a float in (0.0, 1.0]; got the integer 1"
     ]
    }
   ],
   "source": [
    "from sklearn.ensemble import RandomForestClassifier\n",
    "\n",
    "def objective(trial):\n",
    "    \n",
    "    rf = RandomForestClassifier(\n",
    "        n_estimators = trial.suggest_int('n_estimators', 10, 250),\n",
    "        criterion = trial.suggest_categorical('criterion', ['gini', 'entropy']),\n",
    "        max_depth = trial.suggest_int('max_depth', 3, 12),\n",
    "        min_samples_split = trial.suggest_int('min_samples_split', 0, 100),\n",
    "        min_samples_leaf = trial.suggest_int('min_samples_leaf', 0, 25), \n",
    "        max_features = trial.suggest_int('max_features', 1, 25),\n",
    "        max_leaf_nodes = trial.suggest_int('max_leaf_nodes', 10, 200),\n",
    "        random_state = 0\n",
    "    )\n",
    "    \n",
    "    \n",
    "    kf = KFold(5, shuffle = True, random_state = 0)\n",
    "    kf.split(train)\n",
    "    \n",
    "    accuracy_scores = []\n",
    "    \n",
    "    for train_ix, test_ix in kf.split(train):\n",
    "        rf.fit(train[features].iloc[train_ix,:], train['Survived'].iloc[train_ix])\n",
    "        preds = rf.predict(train[features].iloc[test_ix])\n",
    "        \n",
    "        accuracy_scores.append(metrics.accuracy_score(train['Survived'].iloc[test_ix], preds))\n",
    "        \n",
    "    return np.mean(accuracy_scores)\n",
    "    \n",
    "\n",
    "# 3. Create a study object and optimize the objective function.\n",
    "\n",
    "study = optuna.create_study(direction='maximize')\n",
    "study.optimize(objective, n_trials=1000)"
   ]
  },
  {
   "cell_type": "code",
   "execution_count": 53,
   "metadata": {},
   "outputs": [],
   "source": [
    "from sklearn.linear_model import LogisticRegression\n",
    "from sklearn.model_selection import cross_validate\n",
    "logit = LogisticRegression()\n",
    "\n",
    "cv = cross_validate(logit, pd.concat(\n",
    "    [lv1_gbm_preds, lv1_lgbm_preds, lv1_svc_preds], axis = 1), train['Survived'], scoring = \"accuracy\", cv = 3)"
   ]
  },
  {
   "cell_type": "code",
   "execution_count": 54,
   "metadata": {
    "scrolled": true
   },
   "outputs": [
    {
     "data": {
      "text/plain": [
       "0.8294051627384961"
      ]
     },
     "execution_count": 54,
     "metadata": {},
     "output_type": "execute_result"
    }
   ],
   "source": [
    "cv['test_score'].mean()"
   ]
  },
  {
   "cell_type": "code",
   "execution_count": 63,
   "metadata": {},
   "outputs": [],
   "source": [
    "submission = pd.read_csv('data/submission.csv')"
   ]
  },
  {
   "cell_type": "code",
   "execution_count": 97,
   "metadata": {},
   "outputs": [],
   "source": [
    "submission['Survived'] = np.abs(np.rint(preds))"
   ]
  },
  {
   "cell_type": "code",
   "execution_count": 98,
   "metadata": {},
   "outputs": [],
   "source": [
    "submission.to_csv(\"data/submission.csv\", index = False)"
   ]
  },
  {
   "cell_type": "code",
   "execution_count": null,
   "metadata": {},
   "outputs": [],
   "source": []
  },
  {
   "cell_type": "code",
   "execution_count": null,
   "metadata": {},
   "outputs": [],
   "source": []
  },
  {
   "cell_type": "code",
   "execution_count": 50,
   "metadata": {},
   "outputs": [
    {
     "data": {
      "text/html": [
       "<div>\n",
       "<style scoped>\n",
       "    .dataframe tbody tr th:only-of-type {\n",
       "        vertical-align: middle;\n",
       "    }\n",
       "\n",
       "    .dataframe tbody tr th {\n",
       "        vertical-align: top;\n",
       "    }\n",
       "\n",
       "    .dataframe thead th {\n",
       "        text-align: right;\n",
       "    }\n",
       "</style>\n",
       "<table border=\"1\" class=\"dataframe\">\n",
       "  <thead>\n",
       "    <tr style=\"text-align: right;\">\n",
       "      <th></th>\n",
       "      <th>PassengerId</th>\n",
       "      <th>Survived</th>\n",
       "    </tr>\n",
       "  </thead>\n",
       "  <tbody>\n",
       "    <tr>\n",
       "      <th>0</th>\n",
       "      <td>892</td>\n",
       "      <td>0.0</td>\n",
       "    </tr>\n",
       "    <tr>\n",
       "      <th>1</th>\n",
       "      <td>893</td>\n",
       "      <td>0.0</td>\n",
       "    </tr>\n",
       "    <tr>\n",
       "      <th>2</th>\n",
       "      <td>894</td>\n",
       "      <td>0.0</td>\n",
       "    </tr>\n",
       "    <tr>\n",
       "      <th>3</th>\n",
       "      <td>895</td>\n",
       "      <td>0.0</td>\n",
       "    </tr>\n",
       "    <tr>\n",
       "      <th>4</th>\n",
       "      <td>896</td>\n",
       "      <td>1.0</td>\n",
       "    </tr>\n",
       "    <tr>\n",
       "      <th>...</th>\n",
       "      <td>...</td>\n",
       "      <td>...</td>\n",
       "    </tr>\n",
       "    <tr>\n",
       "      <th>413</th>\n",
       "      <td>1305</td>\n",
       "      <td>0.0</td>\n",
       "    </tr>\n",
       "    <tr>\n",
       "      <th>414</th>\n",
       "      <td>1306</td>\n",
       "      <td>1.0</td>\n",
       "    </tr>\n",
       "    <tr>\n",
       "      <th>415</th>\n",
       "      <td>1307</td>\n",
       "      <td>0.0</td>\n",
       "    </tr>\n",
       "    <tr>\n",
       "      <th>416</th>\n",
       "      <td>1308</td>\n",
       "      <td>0.0</td>\n",
       "    </tr>\n",
       "    <tr>\n",
       "      <th>417</th>\n",
       "      <td>1309</td>\n",
       "      <td>1.0</td>\n",
       "    </tr>\n",
       "  </tbody>\n",
       "</table>\n",
       "<p>418 rows × 2 columns</p>\n",
       "</div>"
      ],
      "text/plain": [
       "     PassengerId  Survived\n",
       "0            892       0.0\n",
       "1            893       0.0\n",
       "2            894       0.0\n",
       "3            895       0.0\n",
       "4            896       1.0\n",
       "..           ...       ...\n",
       "413         1305       0.0\n",
       "414         1306       1.0\n",
       "415         1307       0.0\n",
       "416         1308       0.0\n",
       "417         1309       1.0\n",
       "\n",
       "[418 rows x 2 columns]"
      ]
     },
     "execution_count": 50,
     "metadata": {},
     "output_type": "execute_result"
    }
   ],
   "source": []
  },
  {
   "cell_type": "code",
   "execution_count": 65,
   "metadata": {},
   "outputs": [
    {
     "name": "stdout",
     "output_type": "stream",
     "text": [
      "[LightGBM] [Warning] Auto-choosing row-wise multi-threading, the overhead of testing was 0.000324 seconds.\n",
      "You can set `force_row_wise=true` to remove the overhead.\n",
      "And if memory is not enough, you can set `force_col_wise=true`.\n",
      "[LightGBM] [Info] Total Bins 255\n",
      "[LightGBM] [Info] Number of data points in the train set: 891, number of used features: 23\n",
      "[LightGBM] [Info] Start training from score 0.383838\n",
      "[LightGBM] [Warning] No further splits with positive gain, best gain: -inf\n",
      "[LightGBM] [Warning] No further splits with positive gain, best gain: -inf\n",
      "[LightGBM] [Warning] No further splits with positive gain, best gain: -inf\n",
      "[LightGBM] [Warning] No further splits with positive gain, best gain: -inf\n",
      "[LightGBM] [Warning] No further splits with positive gain, best gain: -inf\n",
      "[LightGBM] [Warning] No further splits with positive gain, best gain: -inf\n",
      "[LightGBM] [Warning] No further splits with positive gain, best gain: -inf\n",
      "[LightGBM] [Warning] No further splits with positive gain, best gain: -inf\n",
      "[LightGBM] [Warning] No further splits with positive gain, best gain: -inf\n",
      "[LightGBM] [Warning] No further splits with positive gain, best gain: -inf\n",
      "[LightGBM] [Warning] No further splits with positive gain, best gain: -inf\n",
      "[LightGBM] [Warning] No further splits with positive gain, best gain: -inf\n",
      "[LightGBM] [Warning] No further splits with positive gain, best gain: -inf\n",
      "[LightGBM] [Warning] No further splits with positive gain, best gain: -inf\n",
      "[LightGBM] [Warning] No further splits with positive gain, best gain: -inf\n",
      "[LightGBM] [Warning] No further splits with positive gain, best gain: -inf\n",
      "[LightGBM] [Warning] No further splits with positive gain, best gain: -inf\n",
      "[LightGBM] [Warning] No further splits with positive gain, best gain: -inf\n",
      "[LightGBM] [Warning] No further splits with positive gain, best gain: -inf\n",
      "[LightGBM] [Warning] No further splits with positive gain, best gain: -inf\n",
      "[LightGBM] [Warning] No further splits with positive gain, best gain: -inf\n",
      "[LightGBM] [Warning] No further splits with positive gain, best gain: -inf\n",
      "[LightGBM] [Warning] No further splits with positive gain, best gain: -inf\n",
      "[LightGBM] [Warning] No further splits with positive gain, best gain: -inf\n",
      "[LightGBM] [Warning] No further splits with positive gain, best gain: -inf\n",
      "[LightGBM] [Warning] No further splits with positive gain, best gain: -inf\n",
      "[LightGBM] [Warning] No further splits with positive gain, best gain: -inf\n",
      "[LightGBM] [Warning] No further splits with positive gain, best gain: -inf\n",
      "[LightGBM] [Warning] No further splits with positive gain, best gain: -inf\n",
      "[LightGBM] [Warning] No further splits with positive gain, best gain: -inf\n",
      "[LightGBM] [Warning] No further splits with positive gain, best gain: -inf\n",
      "[LightGBM] [Warning] No further splits with positive gain, best gain: -inf\n",
      "[LightGBM] [Warning] No further splits with positive gain, best gain: -inf\n",
      "[LightGBM] [Warning] No further splits with positive gain, best gain: -inf\n",
      "[LightGBM] [Warning] No further splits with positive gain, best gain: -inf\n",
      "[LightGBM] [Warning] No further splits with positive gain, best gain: -inf\n",
      "[LightGBM] [Warning] No further splits with positive gain, best gain: -inf\n",
      "[LightGBM] [Warning] No further splits with positive gain, best gain: -inf\n",
      "[LightGBM] [Warning] No further splits with positive gain, best gain: -inf\n",
      "[LightGBM] [Warning] No further splits with positive gain, best gain: -inf\n",
      "[LightGBM] [Warning] No further splits with positive gain, best gain: -inf\n",
      "[LightGBM] [Warning] No further splits with positive gain, best gain: -inf\n",
      "[LightGBM] [Warning] No further splits with positive gain, best gain: -inf\n",
      "[LightGBM] [Warning] No further splits with positive gain, best gain: -inf\n",
      "[LightGBM] [Warning] No further splits with positive gain, best gain: -inf\n",
      "[LightGBM] [Warning] No further splits with positive gain, best gain: -inf\n",
      "[LightGBM] [Warning] No further splits with positive gain, best gain: -inf\n",
      "[LightGBM] [Warning] No further splits with positive gain, best gain: -inf\n",
      "[LightGBM] [Warning] No further splits with positive gain, best gain: -inf\n",
      "[LightGBM] [Warning] No further splits with positive gain, best gain: -inf\n",
      "[LightGBM] [Warning] No further splits with positive gain, best gain: -inf\n",
      "[LightGBM] [Warning] No further splits with positive gain, best gain: -inf\n",
      "[LightGBM] [Warning] No further splits with positive gain, best gain: -inf\n",
      "[LightGBM] [Warning] No further splits with positive gain, best gain: -inf\n",
      "[LightGBM] [Warning] No further splits with positive gain, best gain: -inf\n",
      "[LightGBM] [Warning] No further splits with positive gain, best gain: -inf\n",
      "[LightGBM] [Warning] No further splits with positive gain, best gain: -inf\n",
      "[LightGBM] [Warning] No further splits with positive gain, best gain: -inf\n",
      "[LightGBM] [Warning] No further splits with positive gain, best gain: -inf\n",
      "[LightGBM] [Warning] No further splits with positive gain, best gain: -inf\n",
      "[LightGBM] [Warning] No further splits with positive gain, best gain: -inf\n",
      "[LightGBM] [Warning] No further splits with positive gain, best gain: -inf\n",
      "[LightGBM] [Warning] No further splits with positive gain, best gain: -inf\n",
      "[LightGBM] [Warning] No further splits with positive gain, best gain: -inf\n",
      "[LightGBM] [Warning] No further splits with positive gain, best gain: -inf\n",
      "[LightGBM] [Warning] No further splits with positive gain, best gain: -inf\n",
      "[LightGBM] [Warning] No further splits with positive gain, best gain: -inf\n",
      "[LightGBM] [Warning] No further splits with positive gain, best gain: -inf\n",
      "[LightGBM] [Warning] No further splits with positive gain, best gain: -inf\n",
      "[LightGBM] [Warning] No further splits with positive gain, best gain: -inf\n",
      "[LightGBM] [Warning] No further splits with positive gain, best gain: -inf\n",
      "[LightGBM] [Warning] No further splits with positive gain, best gain: -inf\n",
      "[LightGBM] [Warning] No further splits with positive gain, best gain: -inf\n",
      "[LightGBM] [Warning] No further splits with positive gain, best gain: -inf\n",
      "[LightGBM] [Warning] No further splits with positive gain, best gain: -inf\n",
      "[LightGBM] [Warning] No further splits with positive gain, best gain: -inf\n",
      "[LightGBM] [Warning] No further splits with positive gain, best gain: -inf\n",
      "[LightGBM] [Warning] No further splits with positive gain, best gain: -inf\n",
      "[LightGBM] [Warning] No further splits with positive gain, best gain: -inf\n",
      "[LightGBM] [Warning] No further splits with positive gain, best gain: -inf\n",
      "[LightGBM] [Warning] No further splits with positive gain, best gain: -inf\n",
      "[LightGBM] [Warning] No further splits with positive gain, best gain: -inf\n",
      "[LightGBM] [Warning] No further splits with positive gain, best gain: -inf\n",
      "[LightGBM] [Warning] No further splits with positive gain, best gain: -inf\n",
      "[LightGBM] [Warning] No further splits with positive gain, best gain: -inf\n",
      "[LightGBM] [Warning] No further splits with positive gain, best gain: -inf\n",
      "[LightGBM] [Warning] No further splits with positive gain, best gain: -inf\n",
      "[LightGBM] [Warning] No further splits with positive gain, best gain: -inf\n",
      "[LightGBM] [Warning] No further splits with positive gain, best gain: -inf\n",
      "[LightGBM] [Warning] No further splits with positive gain, best gain: -inf\n",
      "[LightGBM] [Warning] No further splits with positive gain, best gain: -inf\n",
      "[LightGBM] [Warning] No further splits with positive gain, best gain: -inf\n",
      "[LightGBM] [Warning] No further splits with positive gain, best gain: -inf\n",
      "[LightGBM] [Warning] No further splits with positive gain, best gain: -inf\n",
      "[LightGBM] [Warning] No further splits with positive gain, best gain: -inf\n",
      "[LightGBM] [Warning] No further splits with positive gain, best gain: -inf\n",
      "[LightGBM] [Warning] No further splits with positive gain, best gain: -inf\n",
      "[LightGBM] [Warning] No further splits with positive gain, best gain: -inf\n",
      "[LightGBM] [Warning] No further splits with positive gain, best gain: -inf\n",
      "[LightGBM] [Warning] No further splits with positive gain, best gain: -inf\n"
     ]
    }
   ],
   "source": [
    "lgbm = lgb.train({\n",
    "    'lambda_l1': 3.0382509030081943e-07,\n",
    "    'lambda_l2': 1.7528164440749284e-06,\n",
    "    'num_leaves': 28,\n",
    "    'feature_fraction': 0.7757503939389271,\n",
    "    'bagging_fraction': 0.6778524391467955,\n",
    "    'bagging_freq': 1,\n",
    "    'min_child_samples': 42}, \n",
    "    lgb.Dataset(train[features], label = train['Survived']))\n",
    "\n",
    "submission['Survived'] =  np.abs(np.rint(lgbm.predict(test[features])))"
   ]
  },
  {
   "cell_type": "code",
   "execution_count": 67,
   "metadata": {},
   "outputs": [],
   "source": [
    "submission.to_csv(\"data/submission.csv\", index = False)"
   ]
  },
  {
   "cell_type": "code",
   "execution_count": 68,
   "metadata": {},
   "outputs": [
    {
     "data": {
      "text/html": [
       "<div>\n",
       "<style scoped>\n",
       "    .dataframe tbody tr th:only-of-type {\n",
       "        vertical-align: middle;\n",
       "    }\n",
       "\n",
       "    .dataframe tbody tr th {\n",
       "        vertical-align: top;\n",
       "    }\n",
       "\n",
       "    .dataframe thead th {\n",
       "        text-align: right;\n",
       "    }\n",
       "</style>\n",
       "<table border=\"1\" class=\"dataframe\">\n",
       "  <thead>\n",
       "    <tr style=\"text-align: right;\">\n",
       "      <th></th>\n",
       "      <th>PassengerId</th>\n",
       "      <th>Survived</th>\n",
       "    </tr>\n",
       "  </thead>\n",
       "  <tbody>\n",
       "    <tr>\n",
       "      <th>0</th>\n",
       "      <td>892</td>\n",
       "      <td>0.0</td>\n",
       "    </tr>\n",
       "    <tr>\n",
       "      <th>1</th>\n",
       "      <td>893</td>\n",
       "      <td>0.0</td>\n",
       "    </tr>\n",
       "    <tr>\n",
       "      <th>2</th>\n",
       "      <td>894</td>\n",
       "      <td>0.0</td>\n",
       "    </tr>\n",
       "    <tr>\n",
       "      <th>3</th>\n",
       "      <td>895</td>\n",
       "      <td>0.0</td>\n",
       "    </tr>\n",
       "    <tr>\n",
       "      <th>4</th>\n",
       "      <td>896</td>\n",
       "      <td>1.0</td>\n",
       "    </tr>\n",
       "    <tr>\n",
       "      <th>...</th>\n",
       "      <td>...</td>\n",
       "      <td>...</td>\n",
       "    </tr>\n",
       "    <tr>\n",
       "      <th>413</th>\n",
       "      <td>1305</td>\n",
       "      <td>0.0</td>\n",
       "    </tr>\n",
       "    <tr>\n",
       "      <th>414</th>\n",
       "      <td>1306</td>\n",
       "      <td>1.0</td>\n",
       "    </tr>\n",
       "    <tr>\n",
       "      <th>415</th>\n",
       "      <td>1307</td>\n",
       "      <td>0.0</td>\n",
       "    </tr>\n",
       "    <tr>\n",
       "      <th>416</th>\n",
       "      <td>1308</td>\n",
       "      <td>0.0</td>\n",
       "    </tr>\n",
       "    <tr>\n",
       "      <th>417</th>\n",
       "      <td>1309</td>\n",
       "      <td>0.0</td>\n",
       "    </tr>\n",
       "  </tbody>\n",
       "</table>\n",
       "<p>418 rows × 2 columns</p>\n",
       "</div>"
      ],
      "text/plain": [
       "     PassengerId  Survived\n",
       "0            892       0.0\n",
       "1            893       0.0\n",
       "2            894       0.0\n",
       "3            895       0.0\n",
       "4            896       1.0\n",
       "..           ...       ...\n",
       "413         1305       0.0\n",
       "414         1306       1.0\n",
       "415         1307       0.0\n",
       "416         1308       0.0\n",
       "417         1309       0.0\n",
       "\n",
       "[418 rows x 2 columns]"
      ]
     },
     "execution_count": 68,
     "metadata": {},
     "output_type": "execute_result"
    }
   ],
   "source": [
    "submission"
   ]
  },
  {
   "cell_type": "code",
   "execution_count": null,
   "metadata": {},
   "outputs": [],
   "source": []
  }
 ],
 "metadata": {
  "kernelspec": {
   "display_name": "ml",
   "language": "python",
   "name": "ml"
  },
  "language_info": {
   "codemirror_mode": {
    "name": "ipython",
    "version": 3
   },
   "file_extension": ".py",
   "mimetype": "text/x-python",
   "name": "python",
   "nbconvert_exporter": "python",
   "pygments_lexer": "ipython3",
   "version": "3.7.9"
  }
 },
 "nbformat": 4,
 "nbformat_minor": 4
}

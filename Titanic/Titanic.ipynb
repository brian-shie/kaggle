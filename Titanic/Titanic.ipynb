{
 "cells": [
  {
   "cell_type": "markdown",
   "metadata": {},
   "source": [
    "# Introduction\n",
    "\n",
    "### Competition: [Titanic Kaggle](https://www.kaggle.com/c/titanic/overview)\n",
    "\n",
    "This is notebook contains a simple data science project framework, for learning and portfolio construction purposes."
   ]
  },
  {
   "cell_type": "markdown",
   "metadata": {},
   "source": [
    "# Libs"
   ]
  },
  {
   "cell_type": "code",
   "execution_count": 1,
   "metadata": {},
   "outputs": [],
   "source": [
    "import numpy as np # linear algebra\n",
    "import pandas as pd # data processing, CSV file I/O (e.g. pd.read_csv)\n",
    "import os\n",
    "from sklearn.pipeline import Pipeline\n",
    "\n",
    "import tensorflow as tf\n",
    "\n",
    "from tensorflow.keras import layers\n",
    "from tensorflow.keras.layers import Input, Dense, BatchNormalization, Dropout, Embedding,  Flatten\n",
    "from tensorflow.keras.models import Model, Sequential\n",
    "from tensorflow.keras.callbacks import ReduceLROnPlateau, EarlyStopping\n",
    "from tensorflow.keras.optimizers import RMSprop\n",
    "\n",
    "from tensorflow.data import Dataset\n",
    "from sklearn.model_selection import train_test_split, KFold\n",
    "from sklearn.preprocessing import QuantileTransformer,  KBinsDiscretizer, StandardScaler\n",
    "from tensorflow import keras\n",
    "from sklearn import metrics\n",
    "from sklearn.impute import SimpleImputer\n",
    "\n",
    "from sklearn.model_selection import GridSearchCV, cross_val_score"
   ]
  },
  {
   "cell_type": "markdown",
   "metadata": {},
   "source": [
    "# Load Dataset\n",
    "\n",
    "This step we simply get our data to our working environment. Because we are not dealing with live data, a simple pandas usage is enough."
   ]
  },
  {
   "cell_type": "code",
   "execution_count": 2,
   "metadata": {},
   "outputs": [
    {
     "name": "stdout",
     "output_type": "stream",
     "text": [
      "Wall time: 14 ms\n"
     ]
    }
   ],
   "source": [
    "%%time\n",
    "\n",
    "train = pd.read_csv(\"data/train.csv\")\n",
    "test = pd.read_csv(\"data/test.csv\")"
   ]
  },
  {
   "cell_type": "markdown",
   "metadata": {},
   "source": [
    "# Preprocessing"
   ]
  },
  {
   "cell_type": "code",
   "execution_count": 3,
   "metadata": {},
   "outputs": [
    {
     "name": "stdout",
     "output_type": "stream",
     "text": [
      "Wall time: 5.99 ms\n"
     ]
    }
   ],
   "source": [
    "%%time\n",
    "\n",
    "train['Survived'] = train['Survived'].astype(str)\n",
    "\n",
    "train['n_missing'] = train.isna().sum(axis=1)\n",
    "test['n_missing'] = test.isna().sum(axis=1)\n",
    "\n",
    "test['Pclass']= test['Pclass'].astype(str)\n",
    "test['Pclass']= test['Pclass'].astype(str)\n",
    "\n",
    "features = [col for col in train.columns if col not in ['Survived', 'PassengerId']]"
   ]
  },
  {
   "cell_type": "markdown",
   "metadata": {},
   "source": [
    "### *Name* Column "
   ]
  },
  {
   "cell_type": "code",
   "execution_count": 4,
   "metadata": {},
   "outputs": [
    {
     "name": "stdout",
     "output_type": "stream",
     "text": [
      "891\n",
      "['Braund, Mr. Owen Harris'\n",
      " 'Cumings, Mrs. John Bradley (Florence Briggs Thayer)'\n",
      " 'Heikkinen, Miss. Laina' 'Futrelle, Mrs. Jacques Heath (Lily May Peel)'\n",
      " 'Allen, Mr. William Henry']\n"
     ]
    }
   ],
   "source": [
    "print(len(train['Name'].unique()))\n",
    "print(train['Name'].unique()[0:5])"
   ]
  },
  {
   "cell_type": "markdown",
   "metadata": {},
   "source": [
    "**With the *Name* column the way it is, we can't use it in our models.** The reason is because as every person has a unique name, then the name has no information about our variable of interest (*Survived*).\n",
    "\n",
    "One thing we can see in this column is the presence of titles. **We can probably assume different survival rates when considering different titles.**"
   ]
  },
  {
   "cell_type": "code",
   "execution_count": 5,
   "metadata": {},
   "outputs": [
    {
     "name": "stdout",
     "output_type": "stream",
     "text": [
      "891\n"
     ]
    }
   ],
   "source": [
    "name_and_title = [name.split(\", \")[1] for name in train['Name']]\n",
    "title = [name.split(\".\")[0] for name in name_and_title]\n",
    "print(len(title))"
   ]
  },
  {
   "cell_type": "code",
   "execution_count": 6,
   "metadata": {
    "scrolled": true
   },
   "outputs": [
    {
     "name": "stdout",
     "output_type": "stream",
     "text": [
      "17\n"
     ]
    },
    {
     "data": {
      "text/plain": [
       "array(['Capt', 'Col', 'Don', 'Dr', 'Jonkheer', 'Lady', 'Major', 'Master',\n",
       "       'Miss', 'Mlle', 'Mme', 'Mr', 'Mrs', 'Ms', 'Rev', 'Sir',\n",
       "       'the Countess'], dtype='<U12')"
      ]
     },
     "execution_count": 6,
     "metadata": {},
     "output_type": "execute_result"
    }
   ],
   "source": [
    "print(len(np.unique(title)))\n",
    "np.unique(title)"
   ]
  },
  {
   "cell_type": "code",
   "execution_count": 7,
   "metadata": {},
   "outputs": [],
   "source": [
    "train['Name'] = title\n",
    "test['Name'] = [name.split(\".\")[0] for name in [name.split(\", \")[1] for name in test['Name']]] "
   ]
  },
  {
   "cell_type": "code",
   "execution_count": 8,
   "metadata": {},
   "outputs": [],
   "source": [
    "train = pd.concat([train, pd.get_dummies(train['Name']).filter(['Miss', 'Mr', 'Mrs', 'Ms'])], axis = 1)\n",
    "train.drop('Name', axis = 1, inplace = True)\n",
    "\n",
    "test = pd.concat([test, pd.get_dummies(test['Name']).filter(['Miss', 'Mr', 'Mrs', 'Ms'])], axis = 1)\n",
    "test.drop('Name', axis = 1, inplace = True)"
   ]
  },
  {
   "cell_type": "markdown",
   "metadata": {},
   "source": [
    "### Dealing with the Ticket feature"
   ]
  },
  {
   "cell_type": "code",
   "execution_count": 9,
   "metadata": {},
   "outputs": [
    {
     "data": {
      "text/plain": [
       "0           A/5 21171\n",
       "1            PC 17599\n",
       "2    STON/O2. 3101282\n",
       "3              113803\n",
       "4              373450\n",
       "Name: Ticket, dtype: object"
      ]
     },
     "execution_count": 9,
     "metadata": {},
     "output_type": "execute_result"
    }
   ],
   "source": [
    "train['Ticket'][0:5]"
   ]
  },
  {
   "cell_type": "markdown",
   "metadata": {},
   "source": [
    "**One hypothesis we can make** is that the numbers don't contain any relevant information and the prefix may contain relevant information."
   ]
  },
  {
   "cell_type": "code",
   "execution_count": 10,
   "metadata": {},
   "outputs": [
    {
     "data": {
      "text/plain": [
       "['A/5', 'PC', 'STON/O2.', '113803', '373450']"
      ]
     },
     "execution_count": 10,
     "metadata": {},
     "output_type": "execute_result"
    }
   ],
   "source": [
    "ticket_prefixes = [ticket.split()[0] for ticket in train['Ticket']]\n",
    "ticket_prefixes[0:5]"
   ]
  },
  {
   "cell_type": "code",
   "execution_count": 11,
   "metadata": {},
   "outputs": [],
   "source": [
    "for i in range(len(ticket_prefixes)):\n",
    "    try: \n",
    "        int(ticket_prefixes[i])\n",
    "        ticket_prefixes[i] = \"number_only\"\n",
    "    \n",
    "    except Exception:\n",
    "        pass"
   ]
  },
  {
   "cell_type": "code",
   "execution_count": 12,
   "metadata": {},
   "outputs": [
    {
     "data": {
      "text/plain": [
       "['A/5', 'PC', 'STON/O2.', 'number_only', 'number_only']"
      ]
     },
     "execution_count": 12,
     "metadata": {},
     "output_type": "execute_result"
    }
   ],
   "source": [
    "ticket_prefixes[0:5]"
   ]
  },
  {
   "cell_type": "code",
   "execution_count": 13,
   "metadata": {
    "scrolled": true
   },
   "outputs": [
    {
     "name": "stdout",
     "output_type": "stream",
     "text": [
      "44\n"
     ]
    },
    {
     "data": {
      "text/plain": [
       "array(['A./5.', 'A.5.', 'A/4', 'A/4.', 'A/5', 'A/5.', 'A/S', 'A4.', 'C',\n",
       "       'C.A.', 'C.A./SOTON', 'CA', 'CA.', 'F.C.', 'F.C.C.', 'Fa', 'LINE',\n",
       "       'P/PP', 'PC', 'PP', 'S.C./A.4.', 'S.C./PARIS', 'S.O./P.P.',\n",
       "       'S.O.C.', 'S.O.P.', 'S.P.', 'S.W./PP', 'SC', 'SC/AH', 'SC/PARIS',\n",
       "       'SC/Paris', 'SCO/W', 'SO/C', 'SOTON/O.Q.', 'SOTON/O2', 'SOTON/OQ',\n",
       "       'STON/O', 'STON/O2.', 'SW/PP', 'W./C.', 'W.E.P.', 'W/C', 'WE/P',\n",
       "       'number_only'], dtype='<U11')"
      ]
     },
     "execution_count": 13,
     "metadata": {},
     "output_type": "execute_result"
    }
   ],
   "source": [
    "print(len(np.unique(ticket_prefixes)))\n",
    "np.unique(ticket_prefixes)"
   ]
  },
  {
   "cell_type": "code",
   "execution_count": 14,
   "metadata": {},
   "outputs": [],
   "source": [
    "ticket_prefixes = [s.replace(\".\", \"\") for s in ticket_prefixes]\n",
    "ticket_prefixes = [s.replace(\",\", \"\") for s in ticket_prefixes]\n",
    "ticket_prefixes = [s.upper() for s in ticket_prefixes]"
   ]
  },
  {
   "cell_type": "code",
   "execution_count": 15,
   "metadata": {
    "scrolled": false
   },
   "outputs": [
    {
     "name": "stdout",
     "output_type": "stream",
     "text": [
      "34\n"
     ]
    },
    {
     "data": {
      "text/plain": [
       "array(['A/4', 'A/5', 'A/S', 'A4', 'A5', 'C', 'CA', 'CA/SOTON', 'FA', 'FC',\n",
       "       'FCC', 'LINE', 'NUMBER_ONLY', 'P/PP', 'PC', 'PP', 'SC', 'SC/A4',\n",
       "       'SC/AH', 'SC/PARIS', 'SCO/W', 'SO/C', 'SO/PP', 'SOC', 'SOP',\n",
       "       'SOTON/O2', 'SOTON/OQ', 'SP', 'STON/O', 'STON/O2', 'SW/PP', 'W/C',\n",
       "       'WE/P', 'WEP'], dtype='<U11')"
      ]
     },
     "execution_count": 15,
     "metadata": {},
     "output_type": "execute_result"
    }
   ],
   "source": [
    "print(len(np.unique(ticket_prefixes)))\n",
    "np.unique(ticket_prefixes)"
   ]
  },
  {
   "cell_type": "code",
   "execution_count": 16,
   "metadata": {},
   "outputs": [],
   "source": [
    "test_ticket_prefixes = [ticket.split()[0] for ticket in test['Ticket']]\n",
    "for i in range(len(test_ticket_prefixes)):\n",
    "    try: \n",
    "        int(test_ticket_prefixes[i])\n",
    "        test_ticket_prefixes[i] = \"number_only\"\n",
    "    \n",
    "    except Exception:\n",
    "        pass\n",
    "\n",
    "test_ticket_prefixes = [s.replace(\".\", \"\") for s in test_ticket_prefixes]\n",
    "test_ticket_prefixes = [s.replace(\",\", \"\") for s in test_ticket_prefixes]\n",
    "test_ticket_prefixes = [s.upper() for s in test_ticket_prefixes]"
   ]
  },
  {
   "cell_type": "code",
   "execution_count": 17,
   "metadata": {},
   "outputs": [],
   "source": [
    "train['Ticket'] = ticket_prefixes\n",
    "test['Ticket'] = test_ticket_prefixes"
   ]
  },
  {
   "cell_type": "code",
   "execution_count": 18,
   "metadata": {},
   "outputs": [],
   "source": [
    "train = pd.concat([train, pd.get_dummies(train['Ticket']).filter(['PC', 'CA', 'NUMBER_ONLY'])], axis = 1)\n",
    "train.drop('Ticket', axis = 1, inplace = True)\n",
    "\n",
    "test = pd.concat([test, pd.get_dummies(test['Ticket']).filter(['PC', 'CA', 'NUMBER_ONLY'])], axis = 1)\n",
    "test.drop('Ticket', axis = 1, inplace = True)"
   ]
  },
  {
   "cell_type": "markdown",
   "metadata": {},
   "source": [
    "### Dealing with the Cabin feature"
   ]
  },
  {
   "cell_type": "markdown",
   "metadata": {},
   "source": [
    "Same as the *Ticket* feature. I will assume that the number doesn't have relevant information."
   ]
  },
  {
   "cell_type": "code",
   "execution_count": 19,
   "metadata": {},
   "outputs": [
    {
     "data": {
      "text/plain": [
       "array([nan, 'C85', 'C123', 'E46', 'G6', 'C103', 'D56', 'A6',\n",
       "       'C23 C25 C27', 'B78', 'D33', 'B30', 'C52', 'B28', 'C83', 'F33',\n",
       "       'F G73', 'E31', 'A5', 'D10 D12', 'D26', 'C110', 'B58 B60', 'E101',\n",
       "       'F E69', 'D47', 'B86', 'F2', 'C2', 'E33', 'B19', 'A7', 'C49', 'F4',\n",
       "       'A32', 'B4', 'B80', 'A31', 'D36', 'D15', 'C93', 'C78', 'D35',\n",
       "       'C87', 'B77', 'E67', 'B94', 'C125', 'C99', 'C118', 'D7', 'A19',\n",
       "       'B49', 'D', 'C22 C26', 'C106', 'C65', 'E36', 'C54',\n",
       "       'B57 B59 B63 B66', 'C7', 'E34', 'C32', 'B18', 'C124', 'C91', 'E40',\n",
       "       'T', 'C128', 'D37', 'B35', 'E50', 'C82', 'B96 B98', 'E10', 'E44',\n",
       "       'A34', 'C104', 'C111', 'C92', 'E38', 'D21', 'E12', 'E63', 'A14',\n",
       "       'B37', 'C30', 'D20', 'B79', 'E25', 'D46', 'B73', 'C95', 'B38',\n",
       "       'B39', 'B22', 'C86', 'C70', 'A16', 'C101', 'C68', 'A10', 'E68',\n",
       "       'B41', 'A20', 'D19', 'D50', 'D9', 'A23', 'B50', 'A26', 'D48',\n",
       "       'E58', 'C126', 'B71', 'B51 B53 B55', 'D49', 'B5', 'B20', 'F G63',\n",
       "       'C62 C64', 'E24', 'C90', 'C45', 'E8', 'B101', 'D45', 'C46', 'D30',\n",
       "       'E121', 'D11', 'E77', 'F38', 'B3', 'D6', 'B82 B84', 'D17', 'A36',\n",
       "       'B102', 'B69', 'E49', 'C47', 'D28', 'E17', 'A24', 'C50', 'B42',\n",
       "       'C148'], dtype=object)"
      ]
     },
     "execution_count": 19,
     "metadata": {},
     "output_type": "execute_result"
    }
   ],
   "source": [
    "train['Cabin'].unique()"
   ]
  },
  {
   "cell_type": "code",
   "execution_count": 20,
   "metadata": {},
   "outputs": [],
   "source": [
    "cabin_prefix = []\n",
    "for i in range(len(train['Cabin'])):\n",
    "    try:\n",
    "        cabin_prefix.append(train['Cabin'][i][0: 1: 1])\n",
    "    \n",
    "    except:\n",
    "        cabin_prefix.append(train['Cabin'][i])        "
   ]
  },
  {
   "cell_type": "code",
   "execution_count": 21,
   "metadata": {},
   "outputs": [
    {
     "data": {
      "text/plain": [
       "array(['A', 'B', 'C', 'D', 'E', 'F', 'G', 'T', 'nan'], dtype='<U32')"
      ]
     },
     "execution_count": 21,
     "metadata": {},
     "output_type": "execute_result"
    }
   ],
   "source": [
    "np.unique(cabin_prefix)"
   ]
  },
  {
   "cell_type": "code",
   "execution_count": 22,
   "metadata": {},
   "outputs": [],
   "source": [
    "cabin_test_prefix = []\n",
    "for i in range(len(test['Cabin'])):\n",
    "    try:\n",
    "        cabin_test_prefix.append(test['Cabin'][i][0: 1: 1])\n",
    "    \n",
    "    except:\n",
    "        cabin_test_prefix.append(test['Cabin'][i])"
   ]
  },
  {
   "cell_type": "code",
   "execution_count": 23,
   "metadata": {},
   "outputs": [],
   "source": [
    "train['Cabin'] = cabin_prefix\n",
    "test['Cabin'] = cabin_test_prefix"
   ]
  },
  {
   "cell_type": "code",
   "execution_count": 24,
   "metadata": {},
   "outputs": [],
   "source": [
    "train = pd.concat([train, pd.get_dummies(train['Cabin']).filter(['NaN', 'B', 'C'])], axis = 1)\n",
    "train.drop('Cabin', axis = 1, inplace = True)\n",
    "\n",
    "test = pd.concat([test, pd.get_dummies(test['Cabin']).filter(['NaN', 'B', 'C'])], axis = 1)\n",
    "test.drop('Cabin', axis = 1, inplace = True)"
   ]
  },
  {
   "cell_type": "markdown",
   "metadata": {},
   "source": [
    "## Pclass, Sex and Embarked variables"
   ]
  },
  {
   "cell_type": "code",
   "execution_count": 25,
   "metadata": {},
   "outputs": [],
   "source": [
    "train = pd.get_dummies(train, columns = ['Pclass', 'Sex', 'Embarked'])\n",
    "test = pd.get_dummies(test, columns = ['Pclass', 'Sex', 'Embarked'])"
   ]
  },
  {
   "cell_type": "markdown",
   "metadata": {},
   "source": [
    "## Imputer and Scaler"
   ]
  },
  {
   "cell_type": "code",
   "execution_count": 26,
   "metadata": {},
   "outputs": [
    {
     "name": "stdout",
     "output_type": "stream",
     "text": [
      "Wall time: 12 ms\n"
     ]
    }
   ],
   "source": [
    "%%time\n",
    "\n",
    "features = [col for col in train.columns if col not in ['Survived', 'PassengerId']]\n",
    "numerical_features = [col for col in features if col in ['Age', 'SibSp', 'Parch', 'Fare', 'n_missing']]\n",
    "\n",
    "pipe = Pipeline([\n",
    "        ('imputer', SimpleImputer(strategy='mean',missing_values=np.nan)),\n",
    "        (\"scaler\", StandardScaler())\n",
    "        ])\n",
    "\n",
    "train[numerical_features] = pipe.fit_transform(train[numerical_features])\n",
    "test[numerical_features] = pipe.transform(test[numerical_features])"
   ]
  },
  {
   "cell_type": "markdown",
   "metadata": {},
   "source": [
    "# Base Models"
   ]
  },
  {
   "cell_type": "markdown",
   "metadata": {},
   "source": [
    "## Light GBM"
   ]
  },
  {
   "cell_type": "code",
   "execution_count": 64,
   "metadata": {
    "scrolled": true
   },
   "outputs": [
    {
     "name": "stderr",
     "output_type": "stream",
     "text": [
      "\u001b[32m[I 2021-12-20 20:01:47,356]\u001b[0m A new study created in memory with name: no-name-ea31ee86-b719-48ba-8aa9-aaa3a685a0ce\u001b[0m\n",
      "\u001b[32m[I 2021-12-20 20:01:47,432]\u001b[0m Trial 0 finished with value: 0.8212290502793296 and parameters: {'lambda_l1': 4.014087766874642e-08, 'lambda_l2': 0.00015744713645363923, 'num_leaves': 27, 'feature_fraction': 0.9039739089558969, 'bagging_fraction': 0.5226995774038986, 'bagging_freq': 2, 'min_child_samples': 14}. Best is trial 0 with value: 0.8212290502793296.\u001b[0m\n",
      "\u001b[32m[I 2021-12-20 20:01:47,483]\u001b[0m Trial 1 finished with value: 0.8268156424581006 and parameters: {'lambda_l1': 0.1672344251180262, 'lambda_l2': 0.7843167242876422, 'num_leaves': 53, 'feature_fraction': 0.8166852384968912, 'bagging_fraction': 0.7811594127210835, 'bagging_freq': 3, 'min_child_samples': 41}. Best is trial 1 with value: 0.8268156424581006.\u001b[0m\n",
      "\u001b[32m[I 2021-12-20 20:01:47,526]\u001b[0m Trial 2 finished with value: 0.8156424581005587 and parameters: {'lambda_l1': 0.00017708841586685798, 'lambda_l2': 0.00031156625260156764, 'num_leaves': 58, 'feature_fraction': 0.43021030588378134, 'bagging_fraction': 0.8508132342836853, 'bagging_freq': 2, 'min_child_samples': 66}. Best is trial 1 with value: 0.8268156424581006.\u001b[0m\n",
      "\u001b[32m[I 2021-12-20 20:01:47,598]\u001b[0m Trial 3 finished with value: 0.8435754189944135 and parameters: {'lambda_l1': 0.00025405023552236097, 'lambda_l2': 0.019646517669917263, 'num_leaves': 22, 'feature_fraction': 0.4777140544653259, 'bagging_fraction': 0.681741408790763, 'bagging_freq': 1, 'min_child_samples': 10}. Best is trial 3 with value: 0.8435754189944135.\u001b[0m\n",
      "\u001b[32m[I 2021-12-20 20:01:47,633]\u001b[0m Trial 4 finished with value: 0.7597765363128491 and parameters: {'lambda_l1': 0.0004017174258776793, 'lambda_l2': 1.052795103959293, 'num_leaves': 219, 'feature_fraction': 0.41211920724915874, 'bagging_fraction': 0.5041450383188022, 'bagging_freq': 3, 'min_child_samples': 82}. Best is trial 3 with value: 0.8435754189944135.\u001b[0m\n",
      "\u001b[32m[I 2021-12-20 20:01:47,675]\u001b[0m Trial 5 finished with value: 0.8044692737430168 and parameters: {'lambda_l1': 0.0037368281962501665, 'lambda_l2': 3.321597968055247e-07, 'num_leaves': 198, 'feature_fraction': 0.5413659528771904, 'bagging_fraction': 0.9584931378168154, 'bagging_freq': 1, 'min_child_samples': 65}. Best is trial 3 with value: 0.8435754189944135.\u001b[0m\n",
      "\u001b[32m[I 2021-12-20 20:01:47,725]\u001b[0m Trial 6 finished with value: 0.8491620111731844 and parameters: {'lambda_l1': 0.0016463656048085866, 'lambda_l2': 1.6159043753551423, 'num_leaves': 103, 'feature_fraction': 0.5171997652853058, 'bagging_fraction': 0.5371593005501789, 'bagging_freq': 2, 'min_child_samples': 23}. Best is trial 6 with value: 0.8491620111731844.\u001b[0m\n",
      "\u001b[32m[I 2021-12-20 20:01:47,765]\u001b[0m Trial 7 finished with value: 0.8156424581005587 and parameters: {'lambda_l1': 0.0009688920814297652, 'lambda_l2': 1.4279527717657574e-08, 'num_leaves': 54, 'feature_fraction': 0.42157186641019223, 'bagging_fraction': 0.5615865044230062, 'bagging_freq': 6, 'min_child_samples': 53}. Best is trial 6 with value: 0.8491620111731844.\u001b[0m\n",
      "\u001b[32m[I 2021-12-20 20:01:47,816]\u001b[0m Trial 8 finished with value: 0.7932960893854749 and parameters: {'lambda_l1': 0.00039828130859702934, 'lambda_l2': 0.0005453406507470063, 'num_leaves': 109, 'feature_fraction': 0.8599206420519966, 'bagging_fraction': 0.9127327264899466, 'bagging_freq': 5, 'min_child_samples': 43}. Best is trial 6 with value: 0.8491620111731844.\u001b[0m\n",
      "\u001b[32m[I 2021-12-20 20:01:47,856]\u001b[0m Trial 9 finished with value: 0.7988826815642458 and parameters: {'lambda_l1': 1.04951514072948e-08, 'lambda_l2': 8.28670864612841e-05, 'num_leaves': 183, 'feature_fraction': 0.8722379829855729, 'bagging_fraction': 0.5282804467265245, 'bagging_freq': 2, 'min_child_samples': 54}. Best is trial 6 with value: 0.8491620111731844.\u001b[0m\n",
      "\u001b[32m[I 2021-12-20 20:01:47,934]\u001b[0m Trial 10 finished with value: 0.8100558659217877 and parameters: {'lambda_l1': 9.37321317485132, 'lambda_l2': 6.072798145637705, 'num_leaves': 135, 'feature_fraction': 0.6389243412976343, 'bagging_fraction': 0.4113643287688884, 'bagging_freq': 7, 'min_child_samples': 24}. Best is trial 6 with value: 0.8491620111731844.\u001b[0m\n",
      "\u001b[32m[I 2021-12-20 20:01:48,007]\u001b[0m Trial 11 finished with value: 0.7821229050279329 and parameters: {'lambda_l1': 1.647370098227899e-06, 'lambda_l2': 0.02178077479247317, 'num_leaves': 2, 'feature_fraction': 0.5794528680012669, 'bagging_fraction': 0.6649068400989565, 'bagging_freq': 1, 'min_child_samples': 5}. Best is trial 6 with value: 0.8491620111731844.\u001b[0m\n",
      "\u001b[32m[I 2021-12-20 20:01:48,108]\u001b[0m Trial 12 finished with value: 0.8435754189944135 and parameters: {'lambda_l1': 1.270687425990841e-05, 'lambda_l2': 0.033471759710845345, 'num_leaves': 110, 'feature_fraction': 0.7227680633310549, 'bagging_fraction': 0.6525244193323144, 'bagging_freq': 4, 'min_child_samples': 26}. Best is trial 6 with value: 0.8491620111731844.\u001b[0m\n",
      "\u001b[32m[I 2021-12-20 20:01:48,209]\u001b[0m Trial 13 finished with value: 0.8268156424581006 and parameters: {'lambda_l1': 0.2903717613553497, 'lambda_l2': 0.02139848247748028, 'num_leaves': 160, 'feature_fraction': 0.5190313228399234, 'bagging_fraction': 0.7497315979185825, 'bagging_freq': 1, 'min_child_samples': 25}. Best is trial 6 with value: 0.8491620111731844.\u001b[0m\n",
      "\u001b[32m[I 2021-12-20 20:01:48,389]\u001b[0m Trial 14 finished with value: 0.8212290502793296 and parameters: {'lambda_l1': 0.017207484707536233, 'lambda_l2': 0.16892843592066603, 'num_leaves': 80, 'feature_fraction': 0.7318487759619096, 'bagging_fraction': 0.5964786624293645, 'bagging_freq': 3, 'min_child_samples': 6}. Best is trial 6 with value: 0.8491620111731844.\u001b[0m\n",
      "\u001b[32m[I 2021-12-20 20:01:48,479]\u001b[0m Trial 15 finished with value: 0.8491620111731844 and parameters: {'lambda_l1': 1.1236001324408318e-05, 'lambda_l2': 0.008531596747864691, 'num_leaves': 240, 'feature_fraction': 0.9873620178861594, 'bagging_fraction': 0.42293242265555175, 'bagging_freq': 4, 'min_child_samples': 32}. Best is trial 6 with value: 0.8491620111731844.\u001b[0m\n",
      "\u001b[32m[I 2021-12-20 20:01:48,562]\u001b[0m Trial 16 finished with value: 0.8100558659217877 and parameters: {'lambda_l1': 7.47450289625906e-06, 'lambda_l2': 9.723396977424295, 'num_leaves': 240, 'feature_fraction': 0.9837492042415681, 'bagging_fraction': 0.43146234086548646, 'bagging_freq': 5, 'min_child_samples': 36}. Best is trial 6 with value: 0.8491620111731844.\u001b[0m\n",
      "\u001b[32m[I 2021-12-20 20:01:48,651]\u001b[0m Trial 17 finished with value: 0.888268156424581 and parameters: {'lambda_l1': 6.55168429080177e-07, 'lambda_l2': 1.2177678709242125e-05, 'num_leaves': 248, 'feature_fraction': 0.6412494658398467, 'bagging_fraction': 0.4589173944989148, 'bagging_freq': 4, 'min_child_samples': 34}. Best is trial 17 with value: 0.888268156424581.\u001b[0m\n",
      "\u001b[32m[I 2021-12-20 20:01:48,721]\u001b[0m Trial 18 finished with value: 0.8044692737430168 and parameters: {'lambda_l1': 4.3948174687350897e-07, 'lambda_l2': 6.655805932153192e-06, 'num_leaves': 256, 'feature_fraction': 0.6566399321643936, 'bagging_fraction': 0.46649975662412596, 'bagging_freq': 4, 'min_child_samples': 99}. Best is trial 17 with value: 0.888268156424581.\u001b[0m\n",
      "\u001b[32m[I 2021-12-20 20:01:48,804]\u001b[0m Trial 19 finished with value: 0.8324022346368715 and parameters: {'lambda_l1': 2.5053281401536533e-07, 'lambda_l2': 1.0688956270153427e-05, 'num_leaves': 221, 'feature_fraction': 0.7858258932750753, 'bagging_fraction': 0.40791062201284467, 'bagging_freq': 5, 'min_child_samples': 35}. Best is trial 17 with value: 0.888268156424581.\u001b[0m\n",
      "\u001b[32m[I 2021-12-20 20:01:48,882]\u001b[0m Trial 20 finished with value: 0.8547486033519553 and parameters: {'lambda_l1': 9.47502595115676e-06, 'lambda_l2': 0.00202491239689254, 'num_leaves': 164, 'feature_fraction': 0.979057297718232, 'bagging_fraction': 0.46822814570102805, 'bagging_freq': 6, 'min_child_samples': 60}. Best is trial 17 with value: 0.888268156424581.\u001b[0m\n",
      "\u001b[32m[I 2021-12-20 20:01:48,962]\u001b[0m Trial 21 finished with value: 0.8044692737430168 and parameters: {'lambda_l1': 1.895385513862162e-05, 'lambda_l2': 0.0013581469306119963, 'num_leaves': 172, 'feature_fraction': 0.9929955477577863, 'bagging_fraction': 0.4687760924924467, 'bagging_freq': 6, 'min_child_samples': 64}. Best is trial 17 with value: 0.888268156424581.\u001b[0m\n"
     ]
    },
    {
     "name": "stderr",
     "output_type": "stream",
     "text": [
      "\u001b[32m[I 2021-12-20 20:01:49,070]\u001b[0m Trial 22 finished with value: 0.8156424581005587 and parameters: {'lambda_l1': 4.456210459282396e-05, 'lambda_l2': 9.01589611112316e-06, 'num_leaves': 144, 'feature_fraction': 0.5900388157058891, 'bagging_fraction': 0.5909910965605213, 'bagging_freq': 7, 'min_child_samples': 19}. Best is trial 17 with value: 0.888268156424581.\u001b[0m\n",
      "\u001b[32m[I 2021-12-20 20:01:49,154]\u001b[0m Trial 23 finished with value: 0.8491620111731844 and parameters: {'lambda_l1': 1.3278365624841614e-06, 'lambda_l2': 9.66978833334972e-07, 'num_leaves': 93, 'feature_fraction': 0.65611927475749, 'bagging_fraction': 0.4859082547661398, 'bagging_freq': 6, 'min_child_samples': 46}. Best is trial 17 with value: 0.888268156424581.\u001b[0m\n",
      "\u001b[32m[I 2021-12-20 20:01:49,235]\u001b[0m Trial 24 finished with value: 0.7821229050279329 and parameters: {'lambda_l1': 1.5118636760227041e-06, 'lambda_l2': 4.741791220877294e-07, 'num_leaves': 91, 'feature_fraction': 0.6830975755832005, 'bagging_fraction': 0.4772723498874582, 'bagging_freq': 6, 'min_child_samples': 47}. Best is trial 17 with value: 0.888268156424581.\u001b[0m\n",
      "\u001b[32m[I 2021-12-20 20:01:49,311]\u001b[0m Trial 25 finished with value: 0.7877094972067039 and parameters: {'lambda_l1': 0.0067910918755283494, 'lambda_l2': 4.3650167662445604e-05, 'num_leaves': 203, 'feature_fraction': 0.5867289325026755, 'bagging_fraction': 0.6125252794761311, 'bagging_freq': 3, 'min_child_samples': 75}. Best is trial 17 with value: 0.888268156424581.\u001b[0m\n",
      "\u001b[32m[I 2021-12-20 20:01:49,395]\u001b[0m Trial 26 finished with value: 0.8659217877094972 and parameters: {'lambda_l1': 1.3727920349802773e-07, 'lambda_l2': 6.266350747300094e-07, 'num_leaves': 160, 'feature_fraction': 0.7662770389066608, 'bagging_fraction': 0.7344062334316854, 'bagging_freq': 6, 'min_child_samples': 57}. Best is trial 17 with value: 0.888268156424581.\u001b[0m\n",
      "\u001b[32m[I 2021-12-20 20:01:49,486]\u001b[0m Trial 27 finished with value: 0.7988826815642458 and parameters: {'lambda_l1': 1.3116549892632172e-07, 'lambda_l2': 8.356135488999286e-08, 'num_leaves': 160, 'feature_fraction': 0.9332022973492103, 'bagging_fraction': 0.7309631098490343, 'bagging_freq': 5, 'min_child_samples': 57}. Best is trial 17 with value: 0.888268156424581.\u001b[0m\n",
      "\u001b[32m[I 2021-12-20 20:01:49,572]\u001b[0m Trial 28 finished with value: 0.7932960893854749 and parameters: {'lambda_l1': 2.7232953460006002e-08, 'lambda_l2': 0.00230583603935014, 'num_leaves': 191, 'feature_fraction': 0.7681407795578197, 'bagging_fraction': 0.8214634578907133, 'bagging_freq': 7, 'min_child_samples': 76}. Best is trial 17 with value: 0.888268156424581.\u001b[0m\n",
      "\u001b[32m[I 2021-12-20 20:01:49,656]\u001b[0m Trial 29 finished with value: 0.8044692737430168 and parameters: {'lambda_l1': 6.238233815794599e-08, 'lambda_l2': 2.58863295125011e-06, 'num_leaves': 121, 'feature_fraction': 0.9081601689024426, 'bagging_fraction': 0.8491825847404717, 'bagging_freq': 5, 'min_child_samples': 87}. Best is trial 17 with value: 0.888268156424581.\u001b[0m\n",
      "\u001b[32m[I 2021-12-20 20:01:49,742]\u001b[0m Trial 30 finished with value: 0.8324022346368715 and parameters: {'lambda_l1': 3.126486687633382e-06, 'lambda_l2': 9.346225067978518e-08, 'num_leaves': 151, 'feature_fraction': 0.8400186911775097, 'bagging_fraction': 0.7212062189392452, 'bagging_freq': 4, 'min_child_samples': 60}. Best is trial 17 with value: 0.888268156424581.\u001b[0m\n",
      "\u001b[32m[I 2021-12-20 20:01:49,831]\u001b[0m Trial 31 finished with value: 0.8212290502793296 and parameters: {'lambda_l1': 5.56409925120433e-05, 'lambda_l2': 0.00337849260148706, 'num_leaves': 233, 'feature_fraction': 0.9570094709458434, 'bagging_fraction': 0.43643683592539906, 'bagging_freq': 4, 'min_child_samples': 30}. Best is trial 17 with value: 0.888268156424581.\u001b[0m\n",
      "\u001b[32m[I 2021-12-20 20:01:49,933]\u001b[0m Trial 32 finished with value: 0.8156424581005587 and parameters: {'lambda_l1': 5.50908317931134e-07, 'lambda_l2': 3.9533786155327105e-05, 'num_leaves': 255, 'feature_fraction': 0.9236971896489804, 'bagging_fraction': 0.7834607693307237, 'bagging_freq': 6, 'min_child_samples': 35}. Best is trial 17 with value: 0.888268156424581.\u001b[0m\n",
      "\u001b[32m[I 2021-12-20 20:01:50,017]\u001b[0m Trial 33 finished with value: 0.8044692737430168 and parameters: {'lambda_l1': 8.961192532696192e-07, 'lambda_l2': 1.152291893576353e-06, 'num_leaves': 74, 'feature_fraction': 0.6577741567363979, 'bagging_fraction': 0.5015284462248365, 'bagging_freq': 6, 'min_child_samples': 48}. Best is trial 17 with value: 0.888268156424581.\u001b[0m\n",
      "\u001b[32m[I 2021-12-20 20:01:50,106]\u001b[0m Trial 34 finished with value: 0.8491620111731844 and parameters: {'lambda_l1': 1.619327091557133e-07, 'lambda_l2': 1.0145881273761239e-07, 'num_leaves': 37, 'feature_fraction': 0.6238250210621046, 'bagging_fraction': 0.6401041237475306, 'bagging_freq': 7, 'min_child_samples': 44}. Best is trial 17 with value: 0.888268156424581.\u001b[0m\n",
      "\u001b[32m[I 2021-12-20 20:01:50,188]\u001b[0m Trial 35 finished with value: 0.8100558659217877 and parameters: {'lambda_l1': 3.961148119754992e-06, 'lambda_l2': 0.00020645782819767966, 'num_leaves': 176, 'feature_fraction': 0.7043133405197993, 'bagging_fraction': 0.5560299397284151, 'bagging_freq': 6, 'min_child_samples': 72}. Best is trial 17 with value: 0.888268156424581.\u001b[0m\n",
      "\u001b[32m[I 2021-12-20 20:01:50,305]\u001b[0m Trial 36 finished with value: 0.8547486033519553 and parameters: {'lambda_l1': 0.06446834531705177, 'lambda_l2': 0.2863777882778069, 'num_leaves': 126, 'feature_fraction': 0.46594925793964337, 'bagging_fraction': 0.52380500832757, 'bagging_freq': 2, 'min_child_samples': 15}. Best is trial 17 with value: 0.888268156424581.\u001b[0m\n",
      "\u001b[32m[I 2021-12-20 20:01:50,425]\u001b[0m Trial 37 finished with value: 0.8100558659217877 and parameters: {'lambda_l1': 0.0663257888098726, 'lambda_l2': 0.12263458883539116, 'num_leaves': 132, 'feature_fraction': 0.47660390885064147, 'bagging_fraction': 0.5666703058321508, 'bagging_freq': 2, 'min_child_samples': 16}. Best is trial 17 with value: 0.888268156424581.\u001b[0m\n",
      "\u001b[32m[I 2021-12-20 20:01:50,510]\u001b[0m Trial 38 finished with value: 0.8268156424581006 and parameters: {'lambda_l1': 0.9961883775239186, 'lambda_l2': 0.4208806203571337, 'num_leaves': 211, 'feature_fraction': 0.8028227407572319, 'bagging_fraction': 0.6893211942229196, 'bagging_freq': 3, 'min_child_samples': 69}. Best is trial 17 with value: 0.888268156424581.\u001b[0m\n",
      "\u001b[32m[I 2021-12-20 20:01:50,621]\u001b[0m Trial 39 finished with value: 0.7988826815642458 and parameters: {'lambda_l1': 9.518272211296572e-05, 'lambda_l2': 2.5841631473245325e-05, 'num_leaves': 166, 'feature_fraction': 0.4447544373806288, 'bagging_fraction': 0.5172339335543586, 'bagging_freq': 5, 'min_child_samples': 14}. Best is trial 17 with value: 0.888268156424581.\u001b[0m\n",
      "\u001b[32m[I 2021-12-20 20:01:50,722]\u001b[0m Trial 40 finished with value: 0.8715083798882681 and parameters: {'lambda_l1': 3.1333565882956314e-08, 'lambda_l2': 0.0005773988099607572, 'num_leaves': 146, 'feature_fraction': 0.7576966526962549, 'bagging_fraction': 0.9158401320864051, 'bagging_freq': 3, 'min_child_samples': 40}. Best is trial 17 with value: 0.888268156424581.\u001b[0m\n",
      "\u001b[32m[I 2021-12-20 20:01:50,814]\u001b[0m Trial 41 finished with value: 0.8156424581005587 and parameters: {'lambda_l1': 2.6876303507425456e-08, 'lambda_l2': 0.0007254976011026824, 'num_leaves': 120, 'feature_fraction': 0.7571724990154162, 'bagging_fraction': 0.9817370304694214, 'bagging_freq': 3, 'min_child_samples': 59}. Best is trial 17 with value: 0.888268156424581.\u001b[0m\n",
      "\u001b[32m[I 2021-12-20 20:01:50,905]\u001b[0m Trial 42 finished with value: 0.8379888268156425 and parameters: {'lambda_l1': 7.901623946884812e-08, 'lambda_l2': 0.00019022379419227024, 'num_leaves': 142, 'feature_fraction': 0.8659083715386923, 'bagging_fraction': 0.4527556293589203, 'bagging_freq': 2, 'min_child_samples': 39}. Best is trial 17 with value: 0.888268156424581.\u001b[0m\n",
      "\u001b[32m[I 2021-12-20 20:01:51,001]\u001b[0m Trial 43 finished with value: 0.8659217877094972 and parameters: {'lambda_l1': 1.4379259970766307e-08, 'lambda_l2': 0.0004061839738569694, 'num_leaves': 188, 'feature_fraction': 0.82221840670564, 'bagging_fraction': 0.9098319553122036, 'bagging_freq': 3, 'min_child_samples': 51}. Best is trial 17 with value: 0.888268156424581.\u001b[0m\n",
      "\u001b[32m[I 2021-12-20 20:01:51,096]\u001b[0m Trial 44 finished with value: 0.8324022346368715 and parameters: {'lambda_l1': 1.2673620321538148e-08, 'lambda_l2': 0.0004841651652780075, 'num_leaves': 185, 'feature_fraction': 0.8236208473918474, 'bagging_fraction': 0.9181179662120773, 'bagging_freq': 3, 'min_child_samples': 51}. Best is trial 17 with value: 0.888268156424581.\u001b[0m\n"
     ]
    },
    {
     "name": "stderr",
     "output_type": "stream",
     "text": [
      "\u001b[32m[I 2021-12-20 20:01:51,196]\u001b[0m Trial 45 finished with value: 0.8268156424581006 and parameters: {'lambda_l1': 3.211467322693401e-08, 'lambda_l2': 3.2897077953322542e-06, 'num_leaves': 151, 'feature_fraction': 0.7430258322057448, 'bagging_fraction': 0.9087981081638211, 'bagging_freq': 3, 'min_child_samples': 41}. Best is trial 17 with value: 0.888268156424581.\u001b[0m\n",
      "\u001b[32m[I 2021-12-20 20:01:51,286]\u001b[0m Trial 46 finished with value: 0.8659217877094972 and parameters: {'lambda_l1': 1.3034820165067492e-07, 'lambda_l2': 0.006216751799674592, 'num_leaves': 221, 'feature_fraction': 0.887900669052977, 'bagging_fraction': 0.8822779254045133, 'bagging_freq': 4, 'min_child_samples': 52}. Best is trial 17 with value: 0.888268156424581.\u001b[0m\n",
      "\u001b[32m[I 2021-12-20 20:01:51,370]\u001b[0m Trial 47 finished with value: 0.8379888268156425 and parameters: {'lambda_l1': 2.635809084276726e-07, 'lambda_l2': 0.008879952194204354, 'num_leaves': 220, 'feature_fraction': 0.8865378310045782, 'bagging_fraction': 0.8847093382860047, 'bagging_freq': 4, 'min_child_samples': 51}. Best is trial 17 with value: 0.888268156424581.\u001b[0m\n",
      "\u001b[32m[I 2021-12-20 20:01:51,467]\u001b[0m Trial 48 finished with value: 0.7932960893854749 and parameters: {'lambda_l1': 7.308360290093004e-08, 'lambda_l2': 9.050329706885671e-05, 'num_leaves': 203, 'feature_fraction': 0.8407820630321137, 'bagging_fraction': 0.9426140153968388, 'bagging_freq': 4, 'min_child_samples': 54}. Best is trial 17 with value: 0.888268156424581.\u001b[0m\n",
      "\u001b[32m[I 2021-12-20 20:01:51,582]\u001b[0m Trial 49 finished with value: 0.8324022346368715 and parameters: {'lambda_l1': 1.7648888236341653e-08, 'lambda_l2': 0.005418456431245029, 'num_leaves': 234, 'feature_fraction': 0.7894494884362065, 'bagging_fraction': 0.8667972700403186, 'bagging_freq': 3, 'min_child_samples': 30}. Best is trial 17 with value: 0.888268156424581.\u001b[0m\n",
      "\u001b[32m[I 2021-12-20 20:01:51,678]\u001b[0m Trial 50 finished with value: 0.8156424581005587 and parameters: {'lambda_l1': 1.339892228484395e-07, 'lambda_l2': 0.07096504182136092, 'num_leaves': 192, 'feature_fraction': 0.702109037895525, 'bagging_fraction': 0.9949828761831114, 'bagging_freq': 4, 'min_child_samples': 64}. Best is trial 17 with value: 0.888268156424581.\u001b[0m\n",
      "\u001b[32m[I 2021-12-20 20:01:51,769]\u001b[0m Trial 51 finished with value: 0.8100558659217877 and parameters: {'lambda_l1': 2.495032670911854, 'lambda_l2': 2.5119402834483004, 'num_leaves': 213, 'feature_fraction': 0.5432843043927194, 'bagging_fraction': 0.82802541574107, 'bagging_freq': 2, 'min_child_samples': 39}. Best is trial 17 with value: 0.888268156424581.\u001b[0m\n",
      "\u001b[32m[I 2021-12-20 20:01:51,909]\u001b[0m Trial 52 finished with value: 0.770949720670391 and parameters: {'lambda_l1': 4.982020667121936e-08, 'lambda_l2': 1.4765548110217918e-08, 'num_leaves': 121, 'feature_fraction': 0.8156246375608228, 'bagging_fraction': 0.7854508631291773, 'bagging_freq': 1, 'min_child_samples': 11}. Best is trial 17 with value: 0.888268156424581.\u001b[0m\n",
      "\u001b[32m[I 2021-12-20 20:01:52,002]\u001b[0m Trial 53 finished with value: 0.8156424581005587 and parameters: {'lambda_l1': 4.908965339215199e-07, 'lambda_l2': 0.0007513004855586959, 'num_leaves': 177, 'feature_fraction': 0.9623561159729684, 'bagging_fraction': 0.9296577565003016, 'bagging_freq': 5, 'min_child_samples': 56}. Best is trial 17 with value: 0.888268156424581.\u001b[0m\n",
      "\u001b[32m[I 2021-12-20 20:01:52,093]\u001b[0m Trial 54 finished with value: 0.8044692737430168 and parameters: {'lambda_l1': 2.8199175892742596e-06, 'lambda_l2': 0.0018455632278163213, 'num_leaves': 161, 'feature_fraction': 0.8943018089475846, 'bagging_fraction': 0.8167558740681159, 'bagging_freq': 4, 'min_child_samples': 61}. Best is trial 17 with value: 0.888268156424581.\u001b[0m\n",
      "\u001b[32m[I 2021-12-20 20:01:52,190]\u001b[0m Trial 55 finished with value: 0.8379888268156425 and parameters: {'lambda_l1': 1.0075569928761079e-08, 'lambda_l2': 0.00011184740191237887, 'num_leaves': 248, 'feature_fraction': 0.7712911373729767, 'bagging_fraction': 0.9604321748367297, 'bagging_freq': 3, 'min_child_samples': 51}. Best is trial 17 with value: 0.888268156424581.\u001b[0m\n",
      "\u001b[32m[I 2021-12-20 20:01:52,282]\u001b[0m Trial 56 finished with value: 0.8212290502793296 and parameters: {'lambda_l1': 2.3894233689618426e-07, 'lambda_l2': 0.0003977063812033832, 'num_leaves': 196, 'feature_fraction': 0.8427106280100427, 'bagging_fraction': 0.8949701854078139, 'bagging_freq': 4, 'min_child_samples': 67}. Best is trial 17 with value: 0.888268156424581.\u001b[0m\n",
      "\u001b[32m[I 2021-12-20 20:01:52,376]\u001b[0m Trial 57 finished with value: 0.8324022346368715 and parameters: {'lambda_l1': 7.989454253276966e-07, 'lambda_l2': 0.012620739265098047, 'num_leaves': 227, 'feature_fraction': 0.7255577143855672, 'bagging_fraction': 0.8686062752932426, 'bagging_freq': 3, 'min_child_samples': 44}. Best is trial 17 with value: 0.888268156424581.\u001b[0m\n",
      "\u001b[32m[I 2021-12-20 20:01:52,497]\u001b[0m Trial 58 finished with value: 0.8044692737430168 and parameters: {'lambda_l1': 0.001168196363395469, 'lambda_l2': 2.1541023327674156e-05, 'num_leaves': 139, 'feature_fraction': 0.45162078744538947, 'bagging_fraction': 0.9553836716017353, 'bagging_freq': 2, 'min_child_samples': 18}. Best is trial 17 with value: 0.888268156424581.\u001b[0m\n",
      "\u001b[32m[I 2021-12-20 20:01:52,606]\u001b[0m Trial 59 finished with value: 0.7653631284916201 and parameters: {'lambda_l1': 0.01443158008133055, 'lambda_l2': 0.284459035686006, 'num_leaves': 152, 'feature_fraction': 0.6093150376386381, 'bagging_fraction': 0.7581578070361213, 'bagging_freq': 1, 'min_child_samples': 22}. Best is trial 17 with value: 0.888268156424581.\u001b[0m\n",
      "\u001b[32m[I 2021-12-20 20:01:52,701]\u001b[0m Trial 60 finished with value: 0.8044692737430168 and parameters: {'lambda_l1': 1.0513404935206533e-07, 'lambda_l2': 0.0012304443428636381, 'num_leaves': 170, 'feature_fraction': 0.6817177651221357, 'bagging_fraction': 0.8490431507422465, 'bagging_freq': 5, 'min_child_samples': 48}. Best is trial 17 with value: 0.888268156424581.\u001b[0m\n",
      "\u001b[32m[I 2021-12-20 20:01:52,786]\u001b[0m Trial 61 finished with value: 0.8659217877094972 and parameters: {'lambda_l1': 2.229624325739409e-05, 'lambda_l2': 0.0334494127414162, 'num_leaves': 127, 'feature_fraction': 0.7918463227410973, 'bagging_fraction': 0.4986583037044273, 'bagging_freq': 3, 'min_child_samples': 56}. Best is trial 17 with value: 0.888268156424581.\u001b[0m\n",
      "\u001b[32m[I 2021-12-20 20:01:52,874]\u001b[0m Trial 62 finished with value: 0.8156424581005587 and parameters: {'lambda_l1': 0.00016327676395975032, 'lambda_l2': 0.034497323905014296, 'num_leaves': 129, 'feature_fraction': 0.7883594303432827, 'bagging_fraction': 0.5355116535227326, 'bagging_freq': 3, 'min_child_samples': 56}. Best is trial 17 with value: 0.888268156424581.\u001b[0m\n",
      "\u001b[32m[I 2021-12-20 20:01:52,969]\u001b[0m Trial 63 finished with value: 0.8379888268156425 and parameters: {'lambda_l1': 0.0005461773244725682, 'lambda_l2': 0.004870890678201792, 'num_leaves': 106, 'feature_fraction': 0.7471874232628657, 'bagging_fraction': 0.6215191692874353, 'bagging_freq': 2, 'min_child_samples': 41}. Best is trial 17 with value: 0.888268156424581.\u001b[0m\n",
      "\u001b[32m[I 2021-12-20 20:01:53,055]\u001b[0m Trial 64 finished with value: 0.8100558659217877 and parameters: {'lambda_l1': 2.1843078500060106e-08, 'lambda_l2': 0.07453094301594859, 'num_leaves': 127, 'feature_fraction': 0.40592471653901924, 'bagging_fraction': 0.4442338995340966, 'bagging_freq': 3, 'min_child_samples': 62}. Best is trial 17 with value: 0.888268156424581.\u001b[0m\n",
      "\u001b[32m[I 2021-12-20 20:01:53,143]\u001b[0m Trial 65 finished with value: 0.8491620111731844 and parameters: {'lambda_l1': 1.8198902143920935e-05, 'lambda_l2': 0.025632194636814005, 'num_leaves': 182, 'feature_fraction': 0.8088236986993514, 'bagging_fraction': 0.5004603325730911, 'bagging_freq': 4, 'min_child_samples': 53}. Best is trial 17 with value: 0.888268156424581.\u001b[0m\n",
      "\u001b[32m[I 2021-12-20 20:01:53,226]\u001b[0m Trial 66 finished with value: 0.770949720670391 and parameters: {'lambda_l1': 6.688160795445145e-06, 'lambda_l2': 6.0166380733621e-05, 'num_leaves': 152, 'feature_fraction': 0.9387871833313947, 'bagging_fraction': 0.41072985556351554, 'bagging_freq': 7, 'min_child_samples': 58}. Best is trial 17 with value: 0.888268156424581.\u001b[0m\n",
      "\u001b[32m[I 2021-12-20 20:01:53,310]\u001b[0m Trial 67 finished with value: 0.8268156424581006 and parameters: {'lambda_l1': 3.7694924298092086e-05, 'lambda_l2': 0.00025197216095795686, 'num_leaves': 246, 'feature_fraction': 0.8600738609849384, 'bagging_fraction': 0.4597595180067326, 'bagging_freq': 3, 'min_child_samples': 48}. Best is trial 17 with value: 0.888268156424581.\u001b[0m\n"
     ]
    },
    {
     "name": "stderr",
     "output_type": "stream",
     "text": [
      "\u001b[32m[I 2021-12-20 20:01:53,408]\u001b[0m Trial 68 finished with value: 0.8491620111731844 and parameters: {'lambda_l1': 1.8140344430762188e-06, 'lambda_l2': 0.0027438866043373407, 'num_leaves': 160, 'feature_fraction': 0.773979048213384, 'bagging_fraction': 0.6695430555998325, 'bagging_freq': 6, 'min_child_samples': 32}. Best is trial 17 with value: 0.888268156424581.\u001b[0m\n",
      "\u001b[32m[I 2021-12-20 20:01:53,508]\u001b[0m Trial 69 finished with value: 0.8491620111731844 and parameters: {'lambda_l1': 0.0021718118431612032, 'lambda_l2': 1.1529553248243765, 'num_leaves': 115, 'feature_fraction': 0.5501104762130927, 'bagging_fraction': 0.9697494729677064, 'bagging_freq': 2, 'min_child_samples': 38}. Best is trial 17 with value: 0.888268156424581.\u001b[0m\n",
      "\u001b[32m[I 2021-12-20 20:01:53,614]\u001b[0m Trial 70 finished with value: 0.8100558659217877 and parameters: {'lambda_l1': 4.471531116534123e-08, 'lambda_l2': 3.2801735253452864e-07, 'num_leaves': 97, 'feature_fraction': 0.5140462204030041, 'bagging_fraction': 0.5791843211083372, 'bagging_freq': 4, 'min_child_samples': 26}. Best is trial 17 with value: 0.888268156424581.\u001b[0m\n",
      "\u001b[32m[I 2021-12-20 20:01:53,699]\u001b[0m Trial 71 finished with value: 0.7932960893854749 and parameters: {'lambda_l1': 3.3728640548773084e-07, 'lambda_l2': 0.0010603139017973994, 'num_leaves': 143, 'feature_fraction': 0.8327631108207866, 'bagging_fraction': 0.47293783954239654, 'bagging_freq': 5, 'min_child_samples': 67}. Best is trial 17 with value: 0.888268156424581.\u001b[0m\n",
      "\u001b[32m[I 2021-12-20 20:01:53,786]\u001b[0m Trial 72 finished with value: 0.8547486033519553 and parameters: {'lambda_l1': 0.09475483848620649, 'lambda_l2': 0.014121850820414185, 'num_leaves': 134, 'feature_fraction': 0.8821155273544108, 'bagging_fraction': 0.5173402609636258, 'bagging_freq': 3, 'min_child_samples': 62}. Best is trial 17 with value: 0.888268156424581.\u001b[0m\n",
      "\u001b[32m[I 2021-12-20 20:01:53,922]\u001b[0m Trial 73 finished with value: 0.8100558659217877 and parameters: {'lambda_l1': 5.846529494650537e-06, 'lambda_l2': 0.04850295184732858, 'num_leaves': 166, 'feature_fraction': 0.8009565791672989, 'bagging_fraction': 0.49427662851963783, 'bagging_freq': 2, 'min_child_samples': 9}. Best is trial 17 with value: 0.888268156424581.\u001b[0m\n",
      "\u001b[32m[I 2021-12-20 20:01:54,021]\u001b[0m Trial 74 finished with value: 0.8491620111731844 and parameters: {'lambda_l1': 8.248870084030822e-07, 'lambda_l2': 0.005580858534825316, 'num_leaves': 149, 'feature_fraction': 0.7164902309606741, 'bagging_fraction': 0.8040267327974525, 'bagging_freq': 4, 'min_child_samples': 50}. Best is trial 17 with value: 0.888268156424581.\u001b[0m\n",
      "\u001b[32m[I 2021-12-20 20:01:54,109]\u001b[0m Trial 75 finished with value: 0.8324022346368715 and parameters: {'lambda_l1': 4.424971833217112e-08, 'lambda_l2': 0.013764833956483109, 'num_leaves': 209, 'feature_fraction': 0.9050637776479563, 'bagging_fraction': 0.5542503101906218, 'bagging_freq': 3, 'min_child_samples': 70}. Best is trial 17 with value: 0.888268156424581.\u001b[0m\n",
      "\u001b[32m[I 2021-12-20 20:01:54,194]\u001b[0m Trial 76 finished with value: 0.8212290502793296 and parameters: {'lambda_l1': 1.7237537724446956e-07, 'lambda_l2': 0.0031122056456257805, 'num_leaves': 133, 'feature_fraction': 0.958644986641824, 'bagging_fraction': 0.4243600357711576, 'bagging_freq': 3, 'min_child_samples': 63}. Best is trial 17 with value: 0.888268156424581.\u001b[0m\n",
      "\u001b[32m[I 2021-12-20 20:01:54,280]\u001b[0m Trial 77 finished with value: 0.8324022346368715 and parameters: {'lambda_l1': 1.978700896385119e-08, 'lambda_l2': 0.014798558198633327, 'num_leaves': 185, 'feature_fraction': 0.680263861226569, 'bagging_fraction': 0.5156649833376645, 'bagging_freq': 3, 'min_child_samples': 55}. Best is trial 17 with value: 0.888268156424581.\u001b[0m\n",
      "\u001b[32m[I 2021-12-20 20:01:54,364]\u001b[0m Trial 78 finished with value: 0.8491620111731844 and parameters: {'lambda_l1': 0.22235002612271867, 'lambda_l2': 0.27319131764390603, 'num_leaves': 85, 'feature_fraction': 0.8553862718082981, 'bagging_fraction': 0.5275654841555377, 'bagging_freq': 2, 'min_child_samples': 44}. Best is trial 17 with value: 0.888268156424581.\u001b[0m\n",
      "\u001b[32m[I 2021-12-20 20:01:54,444]\u001b[0m Trial 79 finished with value: 0.8379888268156425 and parameters: {'lambda_l1': 3.014332076508023e-05, 'lambda_l2': 0.0003178484935966148, 'num_leaves': 225, 'feature_fraction': 0.8773241197906649, 'bagging_fraction': 0.4005372078450198, 'bagging_freq': 6, 'min_child_samples': 60}. Best is trial 17 with value: 0.888268156424581.\u001b[0m\n",
      "\u001b[32m[I 2021-12-20 20:01:54,531]\u001b[0m Trial 80 finished with value: 0.8268156424581006 and parameters: {'lambda_l1': 0.00019448970602123364, 'lambda_l2': 1.3550038367503892e-05, 'num_leaves': 136, 'feature_fraction': 0.9748686780737037, 'bagging_fraction': 0.7139233676841853, 'bagging_freq': 4, 'min_child_samples': 81}. Best is trial 17 with value: 0.888268156424581.\u001b[0m\n",
      "\u001b[32m[I 2021-12-20 20:01:54,617]\u001b[0m Trial 81 finished with value: 0.8156424581005587 and parameters: {'lambda_l1': 0.08586373419473943, 'lambda_l2': 0.0068905004447220525, 'num_leaves': 125, 'feature_fraction': 0.7490138736973169, 'bagging_fraction': 0.48120651916974494, 'bagging_freq': 3, 'min_child_samples': 59}. Best is trial 17 with value: 0.888268156424581.\u001b[0m\n",
      "\u001b[32m[I 2021-12-20 20:01:54,706]\u001b[0m Trial 82 finished with value: 0.8324022346368715 and parameters: {'lambda_l1': 0.6336874625005544, 'lambda_l2': 0.11483369448985313, 'num_leaves': 117, 'feature_fraction': 0.924520143374281, 'bagging_fraction': 0.5496814321380756, 'bagging_freq': 3, 'min_child_samples': 53}. Best is trial 17 with value: 0.888268156424581.\u001b[0m\n",
      "\u001b[32m[I 2021-12-20 20:01:54,804]\u001b[0m Trial 83 finished with value: 0.8156424581005587 and parameters: {'lambda_l1': 0.04291807269713245, 'lambda_l2': 0.5614157911141955, 'num_leaves': 157, 'feature_fraction': 0.8221623851637383, 'bagging_fraction': 0.9328762505568082, 'bagging_freq': 4, 'min_child_samples': 66}. Best is trial 17 with value: 0.888268156424581.\u001b[0m\n",
      "\u001b[32m[I 2021-12-20 20:01:54,888]\u001b[0m Trial 84 finished with value: 0.8324022346368715 and parameters: {'lambda_l1': 0.025878207449137765, 'lambda_l2': 2.588837249886177, 'num_leaves': 114, 'feature_fraction': 0.9987960844042233, 'bagging_fraction': 0.517673541647713, 'bagging_freq': 6, 'min_child_samples': 57}. Best is trial 17 with value: 0.888268156424581.\u001b[0m\n",
      "\u001b[32m[I 2021-12-20 20:01:54,992]\u001b[0m Trial 85 finished with value: 0.8324022346368715 and parameters: {'lambda_l1': 9.538366212039507e-08, 'lambda_l2': 0.0019468298333620833, 'num_leaves': 102, 'feature_fraction': 0.7598534441218491, 'bagging_fraction': 0.8995385655320948, 'bagging_freq': 5, 'min_child_samples': 46}. Best is trial 17 with value: 0.888268156424581.\u001b[0m\n",
      "\u001b[32m[I 2021-12-20 20:01:55,091]\u001b[0m Trial 86 finished with value: 0.8547486033519553 and parameters: {'lambda_l1': 1.0974000991693017e-05, 'lambda_l2': 0.0006420314860523754, 'num_leaves': 176, 'feature_fraction': 0.8863546543002989, 'bagging_fraction': 0.45056173115155423, 'bagging_freq': 1, 'min_child_samples': 28}. Best is trial 17 with value: 0.888268156424581.\u001b[0m\n",
      "\u001b[32m[I 2021-12-20 20:01:55,178]\u001b[0m Trial 87 finished with value: 0.8044692737430168 and parameters: {'lambda_l1': 0.33774629896642927, 'lambda_l2': 0.00012984058817900105, 'num_leaves': 141, 'feature_fraction': 0.7330119853187438, 'bagging_fraction': 0.6024078364481841, 'bagging_freq': 3, 'min_child_samples': 74}. Best is trial 17 with value: 0.888268156424581.\u001b[0m\n",
      "\u001b[32m[I 2021-12-20 20:01:55,280]\u001b[0m Trial 88 finished with value: 0.7988826815642458 and parameters: {'lambda_l1': 8.719210835898846e-05, 'lambda_l2': 2.904578523738498e-06, 'num_leaves': 234, 'feature_fraction': 0.9390595496730285, 'bagging_fraction': 0.8774475707009631, 'bagging_freq': 4, 'min_child_samples': 50}. Best is trial 17 with value: 0.888268156424581.\u001b[0m\n",
      "\u001b[32m[I 2021-12-20 20:01:55,368]\u001b[0m Trial 89 finished with value: 0.8212290502793296 and parameters: {'lambda_l1': 1.9300765470955865e-07, 'lambda_l2': 5.493549458176772e-06, 'num_leaves': 168, 'feature_fraction': 0.7760275670839829, 'bagging_fraction': 0.4851994610099992, 'bagging_freq': 2, 'min_child_samples': 33}. Best is trial 17 with value: 0.888268156424581.\u001b[0m\n",
      "\u001b[32m[I 2021-12-20 20:01:55,458]\u001b[0m Trial 90 finished with value: 0.8212290502793296 and parameters: {'lambda_l1': 0.00536383327213135, 'lambda_l2': 0.03878883828002959, 'num_leaves': 202, 'feature_fraction': 0.797844615990266, 'bagging_fraction': 0.5731307112156147, 'bagging_freq': 2, 'min_child_samples': 62}. Best is trial 17 with value: 0.888268156424581.\u001b[0m\n"
     ]
    },
    {
     "name": "stderr",
     "output_type": "stream",
     "text": [
      "\u001b[32m[I 2021-12-20 20:01:55,555]\u001b[0m Trial 91 finished with value: 0.8212290502793296 and parameters: {'lambda_l1': 1.6548445650932262e-05, 'lambda_l2': 0.000719858742598174, 'num_leaves': 179, 'feature_fraction': 0.883737826676938, 'bagging_fraction': 0.44651305979878936, 'bagging_freq': 1, 'min_child_samples': 29}. Best is trial 17 with value: 0.888268156424581.\u001b[0m\n",
      "\u001b[32m[I 2021-12-20 20:01:55,649]\u001b[0m Trial 92 finished with value: 0.8156424581005587 and parameters: {'lambda_l1': 4.20733353753976e-06, 'lambda_l2': 0.0012452764271294675, 'num_leaves': 189, 'feature_fraction': 0.8968371219295614, 'bagging_fraction': 0.4633428993270486, 'bagging_freq': 3, 'min_child_samples': 35}. Best is trial 17 with value: 0.888268156424581.\u001b[0m\n",
      "\u001b[32m[I 2021-12-20 20:01:55,752]\u001b[0m Trial 93 finished with value: 0.7821229050279329 and parameters: {'lambda_l1': 2.052634006531029e-06, 'lambda_l2': 0.0004672383009780988, 'num_leaves': 174, 'feature_fraction': 0.8536946487972983, 'bagging_fraction': 0.42411235525558, 'bagging_freq': 1, 'min_child_samples': 23}. Best is trial 17 with value: 0.888268156424581.\u001b[0m\n",
      "\u001b[32m[I 2021-12-20 20:01:55,865]\u001b[0m Trial 94 finished with value: 0.8156424581005587 and parameters: {'lambda_l1': 0.1001586967908159, 'lambda_l2': 2.671145440181551e-08, 'num_leaves': 147, 'feature_fraction': 0.8694926442542864, 'bagging_fraction': 0.5063404520320945, 'bagging_freq': 1, 'min_child_samples': 20}. Best is trial 17 with value: 0.888268156424581.\u001b[0m\n",
      "\u001b[32m[I 2021-12-20 20:01:55,958]\u001b[0m Trial 95 finished with value: 0.8547486033519553 and parameters: {'lambda_l1': 2.3954703811933915, 'lambda_l2': 2.592330086126794e-07, 'num_leaves': 155, 'feature_fraction': 0.8308083316286372, 'bagging_fraction': 0.4350044573125872, 'bagging_freq': 7, 'min_child_samples': 28}. Best is trial 17 with value: 0.888268156424581.\u001b[0m\n",
      "\u001b[32m[I 2021-12-20 20:01:56,051]\u001b[0m Trial 96 finished with value: 0.8491620111731844 and parameters: {'lambda_l1': 1.577493857339624, 'lambda_l2': 3.32527395613418e-07, 'num_leaves': 157, 'feature_fraction': 0.8124385144394916, 'bagging_fraction': 0.4331245685650954, 'bagging_freq': 7, 'min_child_samples': 42}. Best is trial 17 with value: 0.888268156424581.\u001b[0m\n",
      "\u001b[32m[I 2021-12-20 20:01:56,141]\u001b[0m Trial 97 finished with value: 0.7988826815642458 and parameters: {'lambda_l1': 6.125373899122202, 'lambda_l2': 9.849754488344888e-07, 'num_leaves': 136, 'feature_fraction': 0.9163302796189506, 'bagging_fraction': 0.9181929791744247, 'bagging_freq': 7, 'min_child_samples': 28}. Best is trial 17 with value: 0.888268156424581.\u001b[0m\n",
      "\u001b[32m[I 2021-12-20 20:01:56,229]\u001b[0m Trial 98 finished with value: 0.776536312849162 and parameters: {'lambda_l1': 4.126973536719469, 'lambda_l2': 1.9519137806446965e-07, 'num_leaves': 125, 'feature_fraction': 0.8246893659513745, 'bagging_fraction': 0.4542373237270366, 'bagging_freq': 7, 'min_child_samples': 38}. Best is trial 17 with value: 0.888268156424581.\u001b[0m\n",
      "\u001b[32m[I 2021-12-20 20:01:56,323]\u001b[0m Trial 99 finished with value: 0.8156424581005587 and parameters: {'lambda_l1': 1.1095778426304219e-06, 'lambda_l2': 0.0038620004976745157, 'num_leaves': 164, 'feature_fraction': 0.48711342441367395, 'bagging_fraction': 0.739492210757279, 'bagging_freq': 1, 'min_child_samples': 55}. Best is trial 17 with value: 0.888268156424581.\u001b[0m\n",
      "\u001b[32m[I 2021-12-20 20:01:56,408]\u001b[0m Trial 100 finished with value: 0.7541899441340782 and parameters: {'lambda_l1': 4.4186830213349536e-07, 'lambda_l2': 0.0204792817849029, 'num_leaves': 215, 'feature_fraction': 0.7148152547951026, 'bagging_fraction': 0.540433299526654, 'bagging_freq': 5, 'min_child_samples': 97}. Best is trial 17 with value: 0.888268156424581.\u001b[0m\n",
      "\u001b[32m[I 2021-12-20 20:01:56,510]\u001b[0m Trial 101 finished with value: 0.8324022346368715 and parameters: {'lambda_l1': 1.047755798945505e-05, 'lambda_l2': 1.6895407152336346e-06, 'num_leaves': 154, 'feature_fraction': 0.8432006275770177, 'bagging_fraction': 0.492259175318857, 'bagging_freq': 7, 'min_child_samples': 26}. Best is trial 17 with value: 0.888268156424581.\u001b[0m\n",
      "\u001b[32m[I 2021-12-20 20:01:56,622]\u001b[0m Trial 102 finished with value: 0.8100558659217877 and parameters: {'lambda_l1': 1.5202047527368038e-08, 'lambda_l2': 6.229080715250323e-08, 'num_leaves': 250, 'feature_fraction': 0.7781205159533805, 'bagging_fraction': 0.46791869115551216, 'bagging_freq': 4, 'min_child_samples': 16}. Best is trial 17 with value: 0.888268156424581.\u001b[0m\n",
      "\u001b[32m[I 2021-12-20 20:01:56,718]\u001b[0m Trial 103 finished with value: 0.8044692737430168 and parameters: {'lambda_l1': 0.464979473010358, 'lambda_l2': 0.008360276816054488, 'num_leaves': 148, 'feature_fraction': 0.5734399192678199, 'bagging_fraction': 0.4153086728333136, 'bagging_freq': 6, 'min_child_samples': 28}. Best is trial 17 with value: 0.888268156424581.\u001b[0m\n",
      "\u001b[32m[I 2021-12-20 20:01:56,813]\u001b[0m Trial 104 finished with value: 0.8379888268156425 and parameters: {'lambda_l1': 7.63268582734852e-05, 'lambda_l2': 6.604255583110177e-07, 'num_leaves': 242, 'feature_fraction': 0.7884405714096372, 'bagging_fraction': 0.44047827790425403, 'bagging_freq': 3, 'min_child_samples': 34}. Best is trial 17 with value: 0.888268156424581.\u001b[0m\n",
      "\u001b[32m[I 2021-12-20 20:01:56,913]\u001b[0m Trial 105 finished with value: 0.8491620111731844 and parameters: {'lambda_l1': 0.00047372967582393413, 'lambda_l2': 0.0008096160751521451, 'num_leaves': 6, 'feature_fraction': 0.7634860001819499, 'bagging_fraction': 0.477978145590955, 'bagging_freq': 2, 'min_child_samples': 31}. Best is trial 17 with value: 0.888268156424581.\u001b[0m\n",
      "\u001b[32m[I 2021-12-20 20:01:57,017]\u001b[0m Trial 106 finished with value: 0.7821229050279329 and parameters: {'lambda_l1': 3.178997011354806e-08, 'lambda_l2': 0.0001683507806147404, 'num_leaves': 173, 'feature_fraction': 0.8911235032439976, 'bagging_fraction': 0.8398048550810688, 'bagging_freq': 4, 'min_child_samples': 57}. Best is trial 17 with value: 0.888268156424581.\u001b[0m\n",
      "\u001b[32m[I 2021-12-20 20:01:57,116]\u001b[0m Trial 107 finished with value: 0.8212290502793296 and parameters: {'lambda_l1': 5.8597803833015134e-08, 'lambda_l2': 0.0002998897813827102, 'num_leaves': 146, 'feature_fraction': 0.42627900718809003, 'bagging_fraction': 0.6355577285849104, 'bagging_freq': 6, 'min_child_samples': 64}. Best is trial 17 with value: 0.888268156424581.\u001b[0m\n",
      "\u001b[32m[I 2021-12-20 20:01:57,216]\u001b[0m Trial 108 finished with value: 0.8156424581005587 and parameters: {'lambda_l1': 2.8765161736488575e-05, 'lambda_l2': 6.112913209346485e-05, 'num_leaves': 131, 'feature_fraction': 0.8338092477128547, 'bagging_fraction': 0.5111834626829562, 'bagging_freq': 2, 'min_child_samples': 37}. Best is trial 17 with value: 0.888268156424581.\u001b[0m\n",
      "\u001b[32m[I 2021-12-20 20:01:57,298]\u001b[0m Trial 109 finished with value: 0.7821229050279329 and parameters: {'lambda_l1': 9.771084841164924e-08, 'lambda_l2': 5.156867802531348e-08, 'num_leaves': 162, 'feature_fraction': 0.8483716211806266, 'bagging_fraction': 0.45571642915343696, 'bagging_freq': 3, 'min_child_samples': 40}. Best is trial 17 with value: 0.888268156424581.\u001b[0m\n",
      "\u001b[32m[I 2021-12-20 20:01:57,429]\u001b[0m Trial 110 finished with value: 0.7932960893854749 and parameters: {'lambda_l1': 0.010835935343132779, 'lambda_l2': 2.0345620066386546e-07, 'num_leaves': 198, 'feature_fraction': 0.9487615197605976, 'bagging_fraction': 0.9401768691039772, 'bagging_freq': 5, 'min_child_samples': 20}. Best is trial 17 with value: 0.888268156424581.\u001b[0m\n",
      "\u001b[32m[I 2021-12-20 20:01:57,519]\u001b[0m Trial 111 finished with value: 0.8100558659217877 and parameters: {'lambda_l1': 6.311101607205296e-07, 'lambda_l2': 1.4736661419610144e-07, 'num_leaves': 68, 'feature_fraction': 0.688607103475711, 'bagging_fraction': 0.4855476275613864, 'bagging_freq': 6, 'min_child_samples': 45}. Best is trial 17 with value: 0.888268156424581.\u001b[0m\n",
      "\u001b[32m[I 2021-12-20 20:01:57,611]\u001b[0m Trial 112 finished with value: 0.8268156424581006 and parameters: {'lambda_l1': 1.1956300537595284e-06, 'lambda_l2': 6.165672493693418e-07, 'num_leaves': 139, 'feature_fraction': 0.6735254995024565, 'bagging_fraction': 0.49598496672043946, 'bagging_freq': 6, 'min_child_samples': 50}. Best is trial 17 with value: 0.888268156424581.\u001b[0m\n",
      "\u001b[32m[I 2021-12-20 20:01:57,701]\u001b[0m Trial 113 finished with value: 0.7988826815642458 and parameters: {'lambda_l1': 3.2103888393849783e-07, 'lambda_l2': 0.002093222379894567, 'num_leaves': 48, 'feature_fraction': 0.6383098568461393, 'bagging_fraction': 0.525905360466253, 'bagging_freq': 6, 'min_child_samples': 52}. Best is trial 17 with value: 0.888268156424581.\u001b[0m\n"
     ]
    },
    {
     "name": "stderr",
     "output_type": "stream",
     "text": [
      "\u001b[32m[I 2021-12-20 20:01:57,790]\u001b[0m Trial 114 finished with value: 0.770949720670391 and parameters: {'lambda_l1': 1.0827188657268897e-05, 'lambda_l2': 0.06763844839500822, 'num_leaves': 95, 'feature_fraction': 0.6273084998466621, 'bagging_fraction': 0.43509931860873424, 'bagging_freq': 7, 'min_child_samples': 47}. Best is trial 17 with value: 0.888268156424581.\u001b[0m\n",
      "\u001b[32m[I 2021-12-20 20:01:57,950]\u001b[0m Trial 115 finished with value: 0.7653631284916201 and parameters: {'lambda_l1': 1.1872210362180367e-07, 'lambda_l2': 1.3148943280413306e-07, 'num_leaves': 43, 'feature_fraction': 0.916895322959463, 'bagging_fraction': 0.6920415881781502, 'bagging_freq': 7, 'min_child_samples': 7}. Best is trial 17 with value: 0.888268156424581.\u001b[0m\n",
      "\u001b[32m[I 2021-12-20 20:01:58,045]\u001b[0m Trial 116 finished with value: 0.7988826815642458 and parameters: {'lambda_l1': 6.541745235453318e-08, 'lambda_l2': 0.010169896749688025, 'num_leaves': 36, 'feature_fraction': 0.6080851741323076, 'bagging_fraction': 0.7688467828997224, 'bagging_freq': 7, 'min_child_samples': 59}. Best is trial 17 with value: 0.888268156424581.\u001b[0m\n",
      "\u001b[32m[I 2021-12-20 20:01:58,145]\u001b[0m Trial 117 finished with value: 0.8100558659217877 and parameters: {'lambda_l1': 2.2151688707757523e-05, 'lambda_l2': 0.18581668435535817, 'num_leaves': 180, 'feature_fraction': 0.8049269913887938, 'bagging_fraction': 0.8918408997714519, 'bagging_freq': 4, 'min_child_samples': 53}. Best is trial 17 with value: 0.888268156424581.\u001b[0m\n",
      "\u001b[32m[I 2021-12-20 20:01:58,244]\u001b[0m Trial 118 finished with value: 0.8435754189944135 and parameters: {'lambda_l1': 0.000406373110963279, 'lambda_l2': 0.0008310210323075591, 'num_leaves': 65, 'feature_fraction': 0.7440489025883659, 'bagging_fraction': 0.46299443522148465, 'bagging_freq': 2, 'min_child_samples': 31}. Best is trial 17 with value: 0.888268156424581.\u001b[0m\n",
      "\u001b[32m[I 2021-12-20 20:01:58,333]\u001b[0m Trial 119 finished with value: 0.8324022346368715 and parameters: {'lambda_l1': 5.312744202664967e-06, 'lambda_l2': 1.7733299006873377e-06, 'num_leaves': 110, 'feature_fraction': 0.8610897516378824, 'bagging_fraction': 0.5404977221491744, 'bagging_freq': 3, 'min_child_samples': 49}. Best is trial 17 with value: 0.888268156424581.\u001b[0m\n",
      "\u001b[32m[I 2021-12-20 20:01:58,432]\u001b[0m Trial 120 finished with value: 0.770949720670391 and parameters: {'lambda_l1': 0.003581337254356647, 'lambda_l2': 1.0531737499472413, 'num_leaves': 117, 'feature_fraction': 0.554090469578891, 'bagging_fraction': 0.9733053114649394, 'bagging_freq': 1, 'min_child_samples': 61}. Best is trial 17 with value: 0.888268156424581.\u001b[0m\n",
      "\u001b[32m[I 2021-12-20 20:01:58,533]\u001b[0m Trial 121 finished with value: 0.8268156424581006 and parameters: {'lambda_l1': 0.0013770155965579516, 'lambda_l2': 1.7713372735858766, 'num_leaves': 122, 'feature_fraction': 0.5382129650229363, 'bagging_fraction': 0.4734527156866787, 'bagging_freq': 2, 'min_child_samples': 24}. Best is trial 17 with value: 0.888268156424581.\u001b[0m\n",
      "\u001b[32m[I 2021-12-20 20:01:58,630]\u001b[0m Trial 122 finished with value: 0.8156424581005587 and parameters: {'lambda_l1': 1.6732189694491224, 'lambda_l2': 0.3391462768279852, 'num_leaves': 84, 'feature_fraction': 0.7167721798631624, 'bagging_fraction': 0.8139623150356435, 'bagging_freq': 4, 'min_child_samples': 43}. Best is trial 17 with value: 0.888268156424581.\u001b[0m\n",
      "\u001b[32m[I 2021-12-20 20:01:58,722]\u001b[0m Trial 123 finished with value: 0.8268156424581006 and parameters: {'lambda_l1': 1.1293984092273732, 'lambda_l2': 3.6945320902969423e-07, 'num_leaves': 155, 'feature_fraction': 0.8223244821577933, 'bagging_fraction': 0.4295759103393928, 'bagging_freq': 7, 'min_child_samples': 43}. Best is trial 17 with value: 0.888268156424581.\u001b[0m\n",
      "\u001b[32m[I 2021-12-20 20:01:58,828]\u001b[0m Trial 124 finished with value: 0.8324022346368715 and parameters: {'lambda_l1': 5.0828792240532226e-05, 'lambda_l2': 6.738851003910506, 'num_leaves': 190, 'feature_fraction': 0.44439189032387044, 'bagging_fraction': 0.5024670538715104, 'bagging_freq': 4, 'min_child_samples': 14}. Best is trial 17 with value: 0.888268156424581.\u001b[0m\n",
      "\u001b[32m[I 2021-12-20 20:01:58,928]\u001b[0m Trial 125 finished with value: 0.8100558659217877 and parameters: {'lambda_l1': 0.037254596743466754, 'lambda_l2': 0.004838424232302709, 'num_leaves': 167, 'feature_fraction': 0.8767718699192287, 'bagging_fraction': 0.9157933554692629, 'bagging_freq': 4, 'min_child_samples': 55}. Best is trial 17 with value: 0.888268156424581.\u001b[0m\n",
      "\u001b[32m[I 2021-12-20 20:01:59,028]\u001b[0m Trial 126 finished with value: 0.7988826815642458 and parameters: {'lambda_l1': 0.10588726676300875, 'lambda_l2': 0.6497767833667548, 'num_leaves': 149, 'feature_fraction': 0.9796958975420514, 'bagging_fraction': 0.8022828680699324, 'bagging_freq': 3, 'min_child_samples': 45}. Best is trial 17 with value: 0.888268156424581.\u001b[0m\n",
      "\u001b[32m[I 2021-12-20 20:01:59,130]\u001b[0m Trial 127 finished with value: 0.8379888268156425 and parameters: {'lambda_l1': 0.23731676076765523, 'lambda_l2': 0.19512153063366652, 'num_leaves': 80, 'feature_fraction': 0.8574324262888265, 'bagging_fraction': 0.8693422677155742, 'bagging_freq': 3, 'min_child_samples': 40}. Best is trial 17 with value: 0.888268156424581.\u001b[0m\n",
      "\u001b[32m[I 2021-12-20 20:01:59,225]\u001b[0m Trial 128 finished with value: 0.8379888268156425 and parameters: {'lambda_l1': 3.2313862295405176e-06, 'lambda_l2': 0.0005349672307715883, 'num_leaves': 239, 'feature_fraction': 0.6681725150358409, 'bagging_fraction': 0.417557164454603, 'bagging_freq': 5, 'min_child_samples': 36}. Best is trial 17 with value: 0.888268156424581.\u001b[0m\n",
      "\u001b[32m[I 2021-12-20 20:01:59,323]\u001b[0m Trial 129 finished with value: 0.7932960893854749 and parameters: {'lambda_l1': 0.0028186405342718814, 'lambda_l2': 3.780523566407264, 'num_leaves': 129, 'feature_fraction': 0.4935886580275309, 'bagging_fraction': 0.9525687041103352, 'bagging_freq': 2, 'min_child_samples': 33}. Best is trial 17 with value: 0.888268156424581.\u001b[0m\n",
      "\u001b[32m[I 2021-12-20 20:01:59,422]\u001b[0m Trial 130 finished with value: 0.8491620111731844 and parameters: {'lambda_l1': 0.0006923702333905981, 'lambda_l2': 0.02896582727506073, 'num_leaves': 173, 'feature_fraction': 0.8062372615708984, 'bagging_fraction': 0.45139619474123344, 'bagging_freq': 4, 'min_child_samples': 31}. Best is trial 17 with value: 0.888268156424581.\u001b[0m\n",
      "\u001b[32m[I 2021-12-20 20:01:59,525]\u001b[0m Trial 131 finished with value: 0.8324022346368715 and parameters: {'lambda_l1': 1.8843119006643793e-07, 'lambda_l2': 1.0487020225247927, 'num_leaves': 181, 'feature_fraction': 0.5957849984547771, 'bagging_fraction': 0.907780781368443, 'bagging_freq': 3, 'min_child_samples': 52}. Best is trial 17 with value: 0.888268156424581.\u001b[0m\n",
      "\u001b[32m[I 2021-12-20 20:01:59,639]\u001b[0m Trial 132 finished with value: 0.8044692737430168 and parameters: {'lambda_l1': 7.234302782247485e-07, 'lambda_l2': 0.0017303678017940771, 'num_leaves': 158, 'feature_fraction': 0.7336355669485808, 'bagging_fraction': 0.749867991225716, 'bagging_freq': 4, 'min_child_samples': 33}. Best is trial 17 with value: 0.888268156424581.\u001b[0m\n",
      "\u001b[32m[I 2021-12-20 20:01:59,746]\u001b[0m Trial 133 finished with value: 0.8044692737430168 and parameters: {'lambda_l1': 1.2666541843348803e-08, 'lambda_l2': 3.981669649615813e-08, 'num_leaves': 103, 'feature_fraction': 0.652450698087089, 'bagging_fraction': 0.9833291902310544, 'bagging_freq': 6, 'min_child_samples': 38}. Best is trial 17 with value: 0.888268156424581.\u001b[0m\n",
      "\u001b[32m[I 2021-12-20 20:01:59,853]\u001b[0m Trial 134 finished with value: 0.8379888268156425 and parameters: {'lambda_l1': 0.17972786192016785, 'lambda_l2': 0.05448697881741884, 'num_leaves': 15, 'feature_fraction': 0.5038244788248118, 'bagging_fraction': 0.5862190418017278, 'bagging_freq': 2, 'min_child_samples': 22}. Best is trial 17 with value: 0.888268156424581.\u001b[0m\n",
      "\u001b[32m[I 2021-12-20 20:01:59,951]\u001b[0m Trial 135 finished with value: 0.8156424581005587 and parameters: {'lambda_l1': 2.365178809437045e-06, 'lambda_l2': 0.00698687373616674, 'num_leaves': 228, 'feature_fraction': 0.6263681352776493, 'bagging_fraction': 0.6599127596811396, 'bagging_freq': 7, 'min_child_samples': 47}. Best is trial 17 with value: 0.888268156424581.\u001b[0m\n",
      "\u001b[32m[I 2021-12-20 20:02:00,039]\u001b[0m Trial 136 finished with value: 0.8156424581005587 and parameters: {'lambda_l1': 3.4785705400587266, 'lambda_l2': 1.1830204692854888e-06, 'num_leaves': 143, 'feature_fraction': 0.7057440434273282, 'bagging_fraction': 0.44042610315322, 'bagging_freq': 7, 'min_child_samples': 42}. Best is trial 17 with value: 0.888268156424581.\u001b[0m\n"
     ]
    },
    {
     "name": "stderr",
     "output_type": "stream",
     "text": [
      "\u001b[32m[I 2021-12-20 20:02:00,147]\u001b[0m Trial 137 finished with value: 0.8379888268156425 and parameters: {'lambda_l1': 8.616893806441807e-06, 'lambda_l2': 0.02250511424500533, 'num_leaves': 208, 'feature_fraction': 0.46571125886927767, 'bagging_fraction': 0.5071234224116237, 'bagging_freq': 1, 'min_child_samples': 27}. Best is trial 17 with value: 0.888268156424581.\u001b[0m\n",
      "\u001b[32m[I 2021-12-20 20:02:00,242]\u001b[0m Trial 138 finished with value: 0.8491620111731844 and parameters: {'lambda_l1': 1.7966025403976405e-05, 'lambda_l2': 0.011396255958116093, 'num_leaves': 137, 'feature_fraction': 0.8313256634472986, 'bagging_fraction': 0.48747686879525515, 'bagging_freq': 3, 'min_child_samples': 54}. Best is trial 17 with value: 0.888268156424581.\u001b[0m\n",
      "\u001b[32m[I 2021-12-20 20:02:00,345]\u001b[0m Trial 139 finished with value: 0.8435754189944135 and parameters: {'lambda_l1': 2.6102423689727785e-08, 'lambda_l2': 0.0023562190231088366, 'num_leaves': 161, 'feature_fraction': 0.572001379520687, 'bagging_fraction': 0.63439391391017, 'bagging_freq': 6, 'min_child_samples': 36}. Best is trial 17 with value: 0.888268156424581.\u001b[0m\n",
      "\u001b[32m[I 2021-12-20 20:02:00,447]\u001b[0m Trial 140 finished with value: 0.8044692737430168 and parameters: {'lambda_l1': 3.9014935253966304e-08, 'lambda_l2': 0.003275467572987972, 'num_leaves': 256, 'feature_fraction': 0.9979066559292743, 'bagging_fraction': 0.859080662099953, 'bagging_freq': 5, 'min_child_samples': 58}. Best is trial 17 with value: 0.888268156424581.\u001b[0m\n",
      "\u001b[32m[I 2021-12-20 20:02:00,549]\u001b[0m Trial 141 finished with value: 0.8659217877094972 and parameters: {'lambda_l1': 2.921386005665906e-07, 'lambda_l2': 5.600395266282561e-06, 'num_leaves': 88, 'feature_fraction': 0.904164880364954, 'bagging_fraction': 0.5307779708327791, 'bagging_freq': 2, 'min_child_samples': 44}. Best is trial 17 with value: 0.888268156424581.\u001b[0m\n",
      "\u001b[32m[I 2021-12-20 20:02:00,651]\u001b[0m Trial 142 finished with value: 0.8324022346368715 and parameters: {'lambda_l1': 1.6710535312837675e-06, 'lambda_l2': 0.0013043867664779916, 'num_leaves': 151, 'feature_fraction': 0.7762386831779481, 'bagging_fraction': 0.6785745596824405, 'bagging_freq': 2, 'min_child_samples': 50}. Best is trial 17 with value: 0.888268156424581.\u001b[0m\n",
      "\u001b[32m[I 2021-12-20 20:02:00,741]\u001b[0m Trial 143 finished with value: 0.7430167597765364 and parameters: {'lambda_l1': 2.666055263613407e-07, 'lambda_l2': 5.547939553824483e-06, 'num_leaves': 29, 'feature_fraction': 0.7557011288899786, 'bagging_fraction': 0.40486856115217223, 'bagging_freq': 7, 'min_child_samples': 46}. Best is trial 17 with value: 0.888268156424581.\u001b[0m\n",
      "\u001b[32m[I 2021-12-20 20:02:00,835]\u001b[0m Trial 144 finished with value: 0.770949720670391 and parameters: {'lambda_l1': 1.2430145184919623, 'lambda_l2': 2.17910430570917e-05, 'num_leaves': 155, 'feature_fraction': 0.8980538630122754, 'bagging_fraction': 0.5321412049140384, 'bagging_freq': 2, 'min_child_samples': 42}. Best is trial 17 with value: 0.888268156424581.\u001b[0m\n",
      "\u001b[32m[I 2021-12-20 20:02:00,932]\u001b[0m Trial 145 finished with value: 0.7821229050279329 and parameters: {'lambda_l1': 1.4722001304476004e-07, 'lambda_l2': 0.10757616546504688, 'num_leaves': 168, 'feature_fraction': 0.8737863582461014, 'bagging_fraction': 0.5622901998786529, 'bagging_freq': 3, 'min_child_samples': 49}. Best is trial 17 with value: 0.888268156424581.\u001b[0m\n",
      "\u001b[32m[I 2021-12-20 20:02:01,022]\u001b[0m Trial 146 finished with value: 0.7877094972067039 and parameters: {'lambda_l1': 9.752850186267061, 'lambda_l2': 1.0720282187464638e-05, 'num_leaves': 57, 'feature_fraction': 0.9100609462369046, 'bagging_fraction': 0.5220391334156184, 'bagging_freq': 2, 'min_child_samples': 44}. Best is trial 17 with value: 0.888268156424581.\u001b[0m\n",
      "\u001b[32m[I 2021-12-20 20:02:01,116]\u001b[0m Trial 147 finished with value: 0.8156424581005587 and parameters: {'lambda_l1': 2.031719133698305, 'lambda_l2': 0.00501872341849747, 'num_leaves': 145, 'feature_fraction': 0.7930292972216972, 'bagging_fraction': 0.7755466285961876, 'bagging_freq': 6, 'min_child_samples': 56}. Best is trial 17 with value: 0.888268156424581.\u001b[0m\n",
      "\u001b[32m[I 2021-12-20 20:02:01,202]\u001b[0m Trial 148 finished with value: 0.8491620111731844 and parameters: {'lambda_l1': 0.00012252161248621645, 'lambda_l2': 3.378215018896576e-07, 'num_leaves': 186, 'feature_fraction': 0.7876796108044398, 'bagging_fraction': 0.7084181980744588, 'bagging_freq': 7, 'min_child_samples': 62}. Best is trial 17 with value: 0.888268156424581.\u001b[0m\n",
      "\u001b[32m[I 2021-12-20 20:02:01,311]\u001b[0m Trial 149 finished with value: 0.8770949720670391 and parameters: {'lambda_l1': 4.1965835163086875e-07, 'lambda_l2': 0.00021496143733026196, 'num_leaves': 164, 'feature_fraction': 0.735593522302915, 'bagging_fraction': 0.6583546595954695, 'bagging_freq': 4, 'min_child_samples': 29}. Best is trial 17 with value: 0.888268156424581.\u001b[0m\n",
      "\u001b[32m[I 2021-12-20 20:02:01,402]\u001b[0m Trial 150 finished with value: 0.8379888268156425 and parameters: {'lambda_l1': 0.1570610126282565, 'lambda_l2': 3.397580348528607e-05, 'num_leaves': 187, 'feature_fraction': 0.928888006945822, 'bagging_fraction': 0.545679092343868, 'bagging_freq': 1, 'min_child_samples': 63}. Best is trial 17 with value: 0.888268156424581.\u001b[0m\n",
      "\u001b[32m[I 2021-12-20 20:02:01,524]\u001b[0m Trial 151 finished with value: 0.8715083798882681 and parameters: {'lambda_l1': 4.601057923736558e-07, 'lambda_l2': 0.00019963060223599855, 'num_leaves': 93, 'feature_fraction': 0.7333834518299253, 'bagging_fraction': 0.9680310002201454, 'bagging_freq': 4, 'min_child_samples': 25}. Best is trial 17 with value: 0.888268156424581.\u001b[0m\n",
      "\u001b[32m[I 2021-12-20 20:02:01,644]\u001b[0m Trial 152 finished with value: 0.8491620111731844 and parameters: {'lambda_l1': 3.19121443891389e-07, 'lambda_l2': 0.0002766948107157754, 'num_leaves': 135, 'feature_fraction': 0.736872910081571, 'bagging_fraction': 0.7979565567368117, 'bagging_freq': 4, 'min_child_samples': 26}. Best is trial 17 with value: 0.888268156424581.\u001b[0m\n",
      "\u001b[32m[I 2021-12-20 20:02:01,762]\u001b[0m Trial 153 finished with value: 0.8659217877094972 and parameters: {'lambda_l1': 4.746562164964994e-07, 'lambda_l2': 0.00011648049913628067, 'num_leaves': 72, 'feature_fraction': 0.8483327038115676, 'bagging_fraction': 0.9246404471076399, 'bagging_freq': 4, 'min_child_samples': 28}. Best is trial 17 with value: 0.888268156424581.\u001b[0m\n",
      "\u001b[32m[I 2021-12-20 20:02:01,882]\u001b[0m Trial 154 finished with value: 0.8156424581005587 and parameters: {'lambda_l1': 5.409806061088254e-07, 'lambda_l2': 0.0001485523011336049, 'num_leaves': 76, 'feature_fraction': 0.7619545199091853, 'bagging_fraction': 0.9942048309096453, 'bagging_freq': 4, 'min_child_samples': 30}. Best is trial 17 with value: 0.888268156424581.\u001b[0m\n",
      "\u001b[32m[I 2021-12-20 20:02:02,010]\u001b[0m Trial 155 finished with value: 0.8379888268156425 and parameters: {'lambda_l1': 4.162673110667771e-07, 'lambda_l2': 9.5610074490737e-05, 'num_leaves': 89, 'feature_fraction': 0.8413567757919643, 'bagging_fraction': 0.9218682641423835, 'bagging_freq': 4, 'min_child_samples': 25}. Best is trial 17 with value: 0.888268156424581.\u001b[0m\n",
      "\u001b[32m[I 2021-12-20 20:02:02,138]\u001b[0m Trial 156 finished with value: 0.8212290502793296 and parameters: {'lambda_l1': 1.0077815580419067e-06, 'lambda_l2': 0.00039789764404241817, 'num_leaves': 87, 'feature_fraction': 0.694148056453645, 'bagging_fraction': 0.9331591260276028, 'bagging_freq': 4, 'min_child_samples': 21}. Best is trial 17 with value: 0.888268156424581.\u001b[0m\n",
      "\u001b[32m[I 2021-12-20 20:02:02,249]\u001b[0m Trial 157 finished with value: 0.8156424581005587 and parameters: {'lambda_l1': 8.290833124138552e-08, 'lambda_l2': 0.0006070245167077603, 'num_leaves': 175, 'feature_fraction': 0.8893836571153684, 'bagging_fraction': 0.6400376496573797, 'bagging_freq': 4, 'min_child_samples': 29}. Best is trial 17 with value: 0.888268156424581.\u001b[0m\n",
      "\u001b[32m[I 2021-12-20 20:02:02,373]\u001b[0m Trial 158 finished with value: 0.8547486033519553 and parameters: {'lambda_l1': 0.6421640849394212, 'lambda_l2': 5.23418141578706e-05, 'num_leaves': 74, 'feature_fraction': 0.8501746507835248, 'bagging_fraction': 0.9440259936064088, 'bagging_freq': 4, 'min_child_samples': 18}. Best is trial 17 with value: 0.888268156424581.\u001b[0m\n",
      "\u001b[32m[I 2021-12-20 20:02:02,505]\u001b[0m Trial 159 finished with value: 0.770949720670391 and parameters: {'lambda_l1': 0.39991776398046774, 'lambda_l2': 5.746129846871434e-05, 'num_leaves': 70, 'feature_fraction': 0.8690874707454177, 'bagging_fraction': 0.9406353260604341, 'bagging_freq': 4, 'min_child_samples': 17}. Best is trial 17 with value: 0.888268156424581.\u001b[0m\n"
     ]
    },
    {
     "name": "stderr",
     "output_type": "stream",
     "text": [
      "\u001b[32m[I 2021-12-20 20:02:02,646]\u001b[0m Trial 160 finished with value: 0.8659217877094972 and parameters: {'lambda_l1': 2.3383787796429072e-07, 'lambda_l2': 0.00020174422695104442, 'num_leaves': 75, 'feature_fraction': 0.8150862610972748, 'bagging_fraction': 0.9509485925145715, 'bagging_freq': 4, 'min_child_samples': 18}. Best is trial 17 with value: 0.888268156424581.\u001b[0m\n",
      "\u001b[32m[I 2021-12-20 20:02:02,783]\u001b[0m Trial 161 finished with value: 0.8212290502793296 and parameters: {'lambda_l1': 1.8697643603689944e-07, 'lambda_l2': 0.00019490875272118726, 'num_leaves': 74, 'feature_fraction': 0.8479775101333833, 'bagging_fraction': 0.9521732252284827, 'bagging_freq': 4, 'min_child_samples': 16}. Best is trial 17 with value: 0.888268156424581.\u001b[0m\n",
      "\u001b[32m[I 2021-12-20 20:02:02,943]\u001b[0m Trial 162 finished with value: 0.8156424581005587 and parameters: {'lambda_l1': 4.634873693756842e-07, 'lambda_l2': 9.38916257610086e-05, 'num_leaves': 65, 'feature_fraction': 0.8155580457417242, 'bagging_fraction': 0.9633178061200011, 'bagging_freq': 4, 'min_child_samples': 12}. Best is trial 17 with value: 0.888268156424581.\u001b[0m\n",
      "\u001b[32m[I 2021-12-20 20:02:03,070]\u001b[0m Trial 163 finished with value: 0.8324022346368715 and parameters: {'lambda_l1': 0.6407150501582963, 'lambda_l2': 1.5451877335883083e-05, 'num_leaves': 62, 'feature_fraction': 0.8312796136595644, 'bagging_fraction': 0.8995276995354352, 'bagging_freq': 4, 'min_child_samples': 14}. Best is trial 17 with value: 0.888268156424581.\u001b[0m\n",
      "\u001b[32m[I 2021-12-20 20:02:03,195]\u001b[0m Trial 164 finished with value: 0.8268156424581006 and parameters: {'lambda_l1': 3.318572665081072e-07, 'lambda_l2': 4.6404738695645524e-05, 'num_leaves': 80, 'feature_fraction': 0.8622154579858836, 'bagging_fraction': 0.9254085496580177, 'bagging_freq': 4, 'min_child_samples': 23}. Best is trial 17 with value: 0.888268156424581.\u001b[0m\n",
      "\u001b[32m[I 2021-12-20 20:02:03,335]\u001b[0m Trial 165 finished with value: 0.8324022346368715 and parameters: {'lambda_l1': 6.542777632217828e-07, 'lambda_l2': 0.00022652664541877426, 'num_leaves': 77, 'feature_fraction': 0.8821404158910737, 'bagging_fraction': 0.9492089827069732, 'bagging_freq': 4, 'min_child_samples': 19}. Best is trial 17 with value: 0.888268156424581.\u001b[0m\n",
      "\u001b[32m[I 2021-12-20 20:02:03,458]\u001b[0m Trial 166 finished with value: 0.8100558659217877 and parameters: {'lambda_l1': 2.0825564279385043e-07, 'lambda_l2': 0.0001263378270141923, 'num_leaves': 72, 'feature_fraction': 0.8169977484589871, 'bagging_fraction': 0.9718187505884568, 'bagging_freq': 4, 'min_child_samples': 27}. Best is trial 17 with value: 0.888268156424581.\u001b[0m\n",
      "\u001b[32m[I 2021-12-20 20:02:03,579]\u001b[0m Trial 167 finished with value: 0.8268156424581006 and parameters: {'lambda_l1': 1.1854904925918996e-07, 'lambda_l2': 0.00027942689663921805, 'num_leaves': 99, 'feature_fraction': 0.7518996998275771, 'bagging_fraction': 0.8851097236043675, 'bagging_freq': 4, 'min_child_samples': 25}. Best is trial 17 with value: 0.888268156424581.\u001b[0m\n",
      "\u001b[32m[I 2021-12-20 20:02:03,726]\u001b[0m Trial 168 finished with value: 0.7821229050279329 and parameters: {'lambda_l1': 5.2782258441810816e-08, 'lambda_l2': 7.015332553595562e-05, 'num_leaves': 164, 'feature_fraction': 0.9042040270846848, 'bagging_fraction': 0.9078683358913632, 'bagging_freq': 3, 'min_child_samples': 18}. Best is trial 17 with value: 0.888268156424581.\u001b[0m\n",
      "\u001b[32m[I 2021-12-20 20:02:03,846]\u001b[0m Trial 169 finished with value: 0.8212290502793296 and parameters: {'lambda_l1': 1.2179103978634827e-06, 'lambda_l2': 3.413784857176159e-05, 'num_leaves': 91, 'feature_fraction': 0.7711447528468167, 'bagging_fraction': 0.964309631782415, 'bagging_freq': 4, 'min_child_samples': 29}. Best is trial 17 with value: 0.888268156424581.\u001b[0m\n",
      "\u001b[32m[I 2021-12-20 20:02:03,997]\u001b[0m Trial 170 finished with value: 0.8547486033519553 and parameters: {'lambda_l1': 0.7026010311019648, 'lambda_l2': 0.00046161998275122114, 'num_leaves': 82, 'feature_fraction': 0.7998569216128725, 'bagging_fraction': 0.9305891913097004, 'bagging_freq': 3, 'min_child_samples': 9}. Best is trial 17 with value: 0.888268156424581.\u001b[0m\n",
      "\u001b[32m[I 2021-12-20 20:02:04,099]\u001b[0m Trial 171 finished with value: 0.8547486033519553 and parameters: {'lambda_l1': 5.080845260856073, 'lambda_l2': 0.00039527501245565294, 'num_leaves': 81, 'feature_fraction': 0.7843741849208935, 'bagging_fraction': 0.9367171587954156, 'bagging_freq': 3, 'min_child_samples': 11}. Best is trial 17 with value: 0.888268156424581.\u001b[0m\n",
      "\u001b[32m[I 2021-12-20 20:02:04,198]\u001b[0m Trial 172 finished with value: 0.8547486033519553 and parameters: {'lambda_l1': 4.77084640284089, 'lambda_l2': 0.0004558668407481012, 'num_leaves': 81, 'feature_fraction': 0.7997505714778994, 'bagging_fraction': 0.9217700152395182, 'bagging_freq': 3, 'min_child_samples': 12}. Best is trial 17 with value: 0.888268156424581.\u001b[0m\n",
      "\u001b[32m[I 2021-12-20 20:02:04,361]\u001b[0m Trial 173 finished with value: 0.8268156424581006 and parameters: {'lambda_l1': 0.604185800541834, 'lambda_l2': 0.00014998946252986885, 'num_leaves': 61, 'feature_fraction': 0.7815267357540903, 'bagging_fraction': 0.9300585433750781, 'bagging_freq': 3, 'min_child_samples': 5}. Best is trial 17 with value: 0.888268156424581.\u001b[0m\n",
      "\u001b[32m[I 2021-12-20 20:02:04,461]\u001b[0m Trial 174 finished with value: 0.7988826815642458 and parameters: {'lambda_l1': 4.664364125287843, 'lambda_l2': 0.0009602566280488224, 'num_leaves': 93, 'feature_fraction': 0.7270930938278097, 'bagging_fraction': 0.9092633306928897, 'bagging_freq': 3, 'min_child_samples': 11}. Best is trial 17 with value: 0.888268156424581.\u001b[0m\n",
      "\u001b[32m[I 2021-12-20 20:02:04,630]\u001b[0m Trial 175 finished with value: 0.7206703910614525 and parameters: {'lambda_l1': 2.555613205175179e-07, 'lambda_l2': 0.0002029763113921365, 'num_leaves': 69, 'feature_fraction': 0.8349872481941657, 'bagging_fraction': 0.9534369114718895, 'bagging_freq': 4, 'min_child_samples': 15}. Best is trial 17 with value: 0.888268156424581.\u001b[0m\n",
      "\u001b[32m[I 2021-12-20 20:02:04,724]\u001b[0m Trial 176 finished with value: 0.8100558659217877 and parameters: {'lambda_l1': 6.427811143665169, 'lambda_l2': 0.0003412035420355536, 'num_leaves': 80, 'feature_fraction': 0.7993495113048883, 'bagging_fraction': 0.9398182107556227, 'bagging_freq': 3, 'min_child_samples': 8}. Best is trial 17 with value: 0.888268156424581.\u001b[0m\n",
      "\u001b[32m[I 2021-12-20 20:02:04,837]\u001b[0m Trial 177 finished with value: 0.8044692737430168 and parameters: {'lambda_l1': 2.2644156840297134, 'lambda_l2': 0.0007139826942631324, 'num_leaves': 75, 'feature_fraction': 0.8148512371539195, 'bagging_fraction': 0.9423451471684886, 'bagging_freq': 5, 'min_child_samples': 8}. Best is trial 17 with value: 0.888268156424581.\u001b[0m\n",
      "\u001b[32m[I 2021-12-20 20:02:04,944]\u001b[0m Trial 178 finished with value: 0.8491620111731844 and parameters: {'lambda_l1': 3.348642196213708, 'lambda_l2': 0.000583252462242018, 'num_leaves': 83, 'feature_fraction': 0.799945683445404, 'bagging_fraction': 0.9206030896040682, 'bagging_freq': 3, 'min_child_samples': 11}. Best is trial 17 with value: 0.888268156424581.\u001b[0m\n",
      "\u001b[32m[I 2021-12-20 20:02:05,078]\u001b[0m Trial 179 finished with value: 0.7821229050279329 and parameters: {'lambda_l1': 1.0512334515222518e-08, 'lambda_l2': 0.0012288153003162036, 'num_leaves': 54, 'feature_fraction': 0.8479496460474131, 'bagging_fraction': 0.9806655296630035, 'bagging_freq': 4, 'min_child_samples': 22}. Best is trial 17 with value: 0.888268156424581.\u001b[0m\n",
      "\u001b[32m[I 2021-12-20 20:02:05,176]\u001b[0m Trial 180 finished with value: 0.8715083798882681 and parameters: {'lambda_l1': 7.03560664593148, 'lambda_l2': 3.6468998516573795e-06, 'num_leaves': 87, 'feature_fraction': 0.7841194850188989, 'bagging_fraction': 0.8890480905266116, 'bagging_freq': 3, 'min_child_samples': 12}. Best is trial 17 with value: 0.888268156424581.\u001b[0m\n",
      "\u001b[32m[I 2021-12-20 20:02:05,267]\u001b[0m Trial 181 finished with value: 0.8212290502793296 and parameters: {'lambda_l1': 9.063172065012477, 'lambda_l2': 7.598668809543805e-06, 'num_leaves': 96, 'feature_fraction': 0.7662764212764067, 'bagging_fraction': 0.8814267975470975, 'bagging_freq': 3, 'min_child_samples': 14}. Best is trial 17 with value: 0.888268156424581.\u001b[0m\n",
      "\u001b[32m[I 2021-12-20 20:02:05,411]\u001b[0m Trial 182 finished with value: 0.8044692737430168 and parameters: {'lambda_l1': 1.4029374054489908e-07, 'lambda_l2': 0.0005272723797475404, 'num_leaves': 87, 'feature_fraction': 0.7431981217070358, 'bagging_fraction': 0.8948585155483855, 'bagging_freq': 3, 'min_child_samples': 13}. Best is trial 17 with value: 0.888268156424581.\u001b[0m\n"
     ]
    },
    {
     "name": "stderr",
     "output_type": "stream",
     "text": [
      "\u001b[32m[I 2021-12-20 20:02:05,528]\u001b[0m Trial 183 finished with value: 0.8491620111731844 and parameters: {'lambda_l1': 2.807117124230363, 'lambda_l2': 0.0003076135990395594, 'num_leaves': 82, 'feature_fraction': 0.7795218877439037, 'bagging_fraction': 0.9033806728950946, 'bagging_freq': 3, 'min_child_samples': 10}. Best is trial 17 with value: 0.888268156424581.\u001b[0m\n",
      "\u001b[32m[I 2021-12-20 20:02:05,623]\u001b[0m Trial 184 finished with value: 0.8212290502793296 and parameters: {'lambda_l1': 6.890695300984491, 'lambda_l2': 2.493260014804215e-06, 'num_leaves': 86, 'feature_fraction': 0.78947691609367, 'bagging_fraction': 0.9238158972850415, 'bagging_freq': 3, 'min_child_samples': 12}. Best is trial 17 with value: 0.888268156424581.\u001b[0m\n",
      "\u001b[32m[I 2021-12-20 20:02:05,728]\u001b[0m Trial 185 finished with value: 0.8324022346368715 and parameters: {'lambda_l1': 4.225425212724655e-07, 'lambda_l2': 4.623192946587538e-06, 'num_leaves': 108, 'feature_fraction': 0.7490748397664575, 'bagging_fraction': 0.9132004357204976, 'bagging_freq': 3, 'min_child_samples': 59}. Best is trial 17 with value: 0.888268156424581.\u001b[0m\n",
      "\u001b[32m[I 2021-12-20 20:02:05,831]\u001b[0m Trial 186 finished with value: 0.8491620111731844 and parameters: {'lambda_l1': 0.8956912632217943, 'lambda_l2': 3.847864552923223e-06, 'num_leaves': 222, 'feature_fraction': 0.8277299052006393, 'bagging_fraction': 0.46780159952564904, 'bagging_freq': 4, 'min_child_samples': 32}. Best is trial 17 with value: 0.888268156424581.\u001b[0m\n",
      "\u001b[32m[I 2021-12-20 20:02:05,945]\u001b[0m Trial 187 finished with value: 0.8156424581005587 and parameters: {'lambda_l1': 2.2841505985442797e-08, 'lambda_l2': 0.00010114654998765478, 'num_leaves': 160, 'feature_fraction': 0.8099663118231768, 'bagging_fraction': 0.4578376879356725, 'bagging_freq': 4, 'min_child_samples': 19}. Best is trial 17 with value: 0.888268156424581.\u001b[0m\n",
      "\u001b[32m[I 2021-12-20 20:02:06,057]\u001b[0m Trial 188 finished with value: 0.8268156424581006 and parameters: {'lambda_l1': 1.6640148970202457, 'lambda_l2': 0.00019915081739634147, 'num_leaves': 72, 'feature_fraction': 0.8000369174365789, 'bagging_fraction': 0.6135907881082878, 'bagging_freq': 3, 'min_child_samples': 17}. Best is trial 17 with value: 0.888268156424581.\u001b[0m\n",
      "\u001b[32m[I 2021-12-20 20:02:06,185]\u001b[0m Trial 189 finished with value: 0.8547486033519553 and parameters: {'lambda_l1': 8.081221980806162e-07, 'lambda_l2': 0.00040620293792145723, 'num_leaves': 170, 'feature_fraction': 0.8224504545339175, 'bagging_fraction': 0.9999213585442336, 'bagging_freq': 1, 'min_child_samples': 28}. Best is trial 17 with value: 0.888268156424581.\u001b[0m\n",
      "\u001b[32m[I 2021-12-20 20:02:06,304]\u001b[0m Trial 190 finished with value: 0.8212290502793296 and parameters: {'lambda_l1': 2.7076828220156716e-07, 'lambda_l2': 0.01727290395522638, 'num_leaves': 172, 'feature_fraction': 0.8656931839769899, 'bagging_fraction': 0.9981795875060557, 'bagging_freq': 1, 'min_child_samples': 28}. Best is trial 17 with value: 0.888268156424581.\u001b[0m\n",
      "\u001b[32m[I 2021-12-20 20:02:06,427]\u001b[0m Trial 191 finished with value: 0.776536312849162 and parameters: {'lambda_l1': 6.451662454215643e-07, 'lambda_l2': 0.00015633491351731228, 'num_leaves': 168, 'feature_fraction': 0.82106273772223, 'bagging_fraction': 0.9851513153181759, 'bagging_freq': 1, 'min_child_samples': 24}. Best is trial 17 with value: 0.888268156424581.\u001b[0m\n",
      "\u001b[32m[I 2021-12-20 20:02:06,570]\u001b[0m Trial 192 finished with value: 0.8435754189944135 and parameters: {'lambda_l1': 0.8690915315746517, 'lambda_l2': 7.948432836753039e-05, 'num_leaves': 91, 'feature_fraction': 0.7630481866948265, 'bagging_fraction': 0.9352026889048951, 'bagging_freq': 3, 'min_child_samples': 7}. Best is trial 17 with value: 0.888268156424581.\u001b[0m\n",
      "\u001b[32m[I 2021-12-20 20:02:06,676]\u001b[0m Trial 193 finished with value: 0.8212290502793296 and parameters: {'lambda_l1': 1.7144274943054118e-06, 'lambda_l2': 1.1220551116494196e-05, 'num_leaves': 176, 'feature_fraction': 0.8525507564406687, 'bagging_fraction': 0.47697220400353474, 'bagging_freq': 1, 'min_child_samples': 30}. Best is trial 17 with value: 0.888268156424581.\u001b[0m\n",
      "\u001b[32m[I 2021-12-20 20:02:06,775]\u001b[0m Trial 194 finished with value: 0.8603351955307262 and parameters: {'lambda_l1': 4.618565555321663, 'lambda_l2': 0.0003156616946246192, 'num_leaves': 78, 'feature_fraction': 0.7888677902041652, 'bagging_fraction': 0.9597641446214639, 'bagging_freq': 3, 'min_child_samples': 9}. Best is trial 17 with value: 0.888268156424581.\u001b[0m\n",
      "\u001b[32m[I 2021-12-20 20:02:06,876]\u001b[0m Trial 195 finished with value: 0.8044692737430168 and parameters: {'lambda_l1': 3.8030823878091793, 'lambda_l2': 0.00038273278510539145, 'num_leaves': 66, 'feature_fraction': 0.8800854137556197, 'bagging_fraction': 0.9634534498659132, 'bagging_freq': 4, 'min_child_samples': 35}. Best is trial 17 with value: 0.888268156424581.\u001b[0m\n",
      "\u001b[32m[I 2021-12-20 20:02:06,976]\u001b[0m Trial 196 finished with value: 0.7932960893854749 and parameters: {'lambda_l1': 7.6005466989234645, 'lambda_l2': 0.0005715793879496131, 'num_leaves': 79, 'feature_fraction': 0.7844442298271709, 'bagging_fraction': 0.9468569973744868, 'bagging_freq': 3, 'min_child_samples': 9}. Best is trial 17 with value: 0.888268156424581.\u001b[0m\n",
      "\u001b[32m[I 2021-12-20 20:02:07,104]\u001b[0m Trial 197 finished with value: 0.8603351955307262 and parameters: {'lambda_l1': 9.740065656055838e-07, 'lambda_l2': 0.0003040279509468501, 'num_leaves': 87, 'feature_fraction': 0.7700377344879721, 'bagging_fraction': 0.973625243902808, 'bagging_freq': 3, 'min_child_samples': 27}. Best is trial 17 with value: 0.888268156424581.\u001b[0m\n",
      "\u001b[32m[I 2021-12-20 20:02:07,209]\u001b[0m Trial 198 finished with value: 0.8324022346368715 and parameters: {'lambda_l1': 4.8289220335024865, 'lambda_l2': 0.0008216498095059703, 'num_leaves': 101, 'feature_fraction': 0.7695978342160207, 'bagging_fraction': 0.9764080354940063, 'bagging_freq': 3, 'min_child_samples': 10}. Best is trial 17 with value: 0.888268156424581.\u001b[0m\n",
      "\u001b[32m[I 2021-12-20 20:02:07,432]\u001b[0m Trial 199 finished with value: 0.7877094972067039 and parameters: {'lambda_l1': 1.021587993065476e-06, 'lambda_l2': 0.00044254378643927573, 'num_leaves': 84, 'feature_fraction': 0.7936623930063962, 'bagging_fraction': 0.9593491053679882, 'bagging_freq': 3, 'min_child_samples': 6}. Best is trial 17 with value: 0.888268156424581.\u001b[0m\n",
      "\u001b[32m[I 2021-12-20 20:02:07,560]\u001b[0m Trial 200 finished with value: 0.7932960893854749 and parameters: {'lambda_l1': 7.939573639096649e-07, 'lambda_l2': 0.00027422263311666236, 'num_leaves': 195, 'feature_fraction': 0.7559713424263478, 'bagging_fraction': 0.9810479213658054, 'bagging_freq': 3, 'min_child_samples': 26}. Best is trial 17 with value: 0.888268156424581.\u001b[0m\n",
      "\u001b[32m[I 2021-12-20 20:02:07,657]\u001b[0m Trial 201 finished with value: 0.7932960893854749 and parameters: {'lambda_l1': 5.10571423101162, 'lambda_l2': 0.0015547452476540376, 'num_leaves': 90, 'feature_fraction': 0.7848371852970678, 'bagging_fraction': 0.9908387706102487, 'bagging_freq': 1, 'min_child_samples': 13}. Best is trial 17 with value: 0.888268156424581.\u001b[0m\n",
      "\u001b[32m[I 2021-12-20 20:02:07,780]\u001b[0m Trial 202 finished with value: 0.8491620111731844 and parameters: {'lambda_l1': 4.590365855512845e-07, 'lambda_l2': 0.0003290944639245136, 'num_leaves': 164, 'feature_fraction': 0.8079413917034681, 'bagging_fraction': 0.9696285342134875, 'bagging_freq': 3, 'min_child_samples': 29}. Best is trial 17 with value: 0.888268156424581.\u001b[0m\n",
      "\u001b[32m[I 2021-12-20 20:02:07,878]\u001b[0m Trial 203 finished with value: 0.8379888268156425 and parameters: {'lambda_l1': 6.104641021544827e-06, 'lambda_l2': 0.0001251385045858226, 'num_leaves': 75, 'feature_fraction': 0.897982764690923, 'bagging_fraction': 0.5118704948109114, 'bagging_freq': 5, 'min_child_samples': 57}. Best is trial 17 with value: 0.888268156424581.\u001b[0m\n",
      "\u001b[32m[I 2021-12-20 20:02:08,030]\u001b[0m Trial 204 finished with value: 0.8491620111731844 and parameters: {'lambda_l1': 8.153632156957703e-08, 'lambda_l2': 0.00014562953628740393, 'num_leaves': 124, 'feature_fraction': 0.9671636125216745, 'bagging_fraction': 0.9480951147559388, 'bagging_freq': 3, 'min_child_samples': 15}. Best is trial 17 with value: 0.888268156424581.\u001b[0m\n",
      "\u001b[32m[I 2021-12-20 20:02:08,218]\u001b[0m Trial 205 finished with value: 0.776536312849162 and parameters: {'lambda_l1': 1.6402303756106585e-08, 'lambda_l2': 1.6228966934563272e-05, 'num_leaves': 79, 'feature_fraction': 0.7790061499371053, 'bagging_fraction': 0.9319911256024807, 'bagging_freq': 3, 'min_child_samples': 9}. Best is trial 17 with value: 0.888268156424581.\u001b[0m\n"
     ]
    },
    {
     "name": "stderr",
     "output_type": "stream",
     "text": [
      "\u001b[32m[I 2021-12-20 20:02:08,340]\u001b[0m Trial 206 finished with value: 0.8156424581005587 and parameters: {'lambda_l1': 2.2618113603572385, 'lambda_l2': 0.00021408355769354903, 'num_leaves': 85, 'feature_fraction': 0.7967170526317546, 'bagging_fraction': 0.917936188011434, 'bagging_freq': 3, 'min_child_samples': 12}. Best is trial 17 with value: 0.888268156424581.\u001b[0m\n",
      "\u001b[32m[I 2021-12-20 20:02:08,446]\u001b[0m Trial 207 finished with value: 0.8324022346368715 and parameters: {'lambda_l1': 0.00025905317673608874, 'lambda_l2': 0.0008569056457886786, 'num_leaves': 152, 'feature_fraction': 0.9421983881442128, 'bagging_fraction': 0.4405938800918814, 'bagging_freq': 3, 'min_child_samples': 28}. Best is trial 17 with value: 0.888268156424581.\u001b[0m\n",
      "\u001b[32m[I 2021-12-20 20:02:08,548]\u001b[0m Trial 208 finished with value: 0.8435754189944135 and parameters: {'lambda_l1': 2.0240281748149682e-07, 'lambda_l2': 5.345281193277869e-07, 'num_leaves': 72, 'feature_fraction': 0.8361321467572659, 'bagging_fraction': 0.9280860285822813, 'bagging_freq': 4, 'min_child_samples': 65}. Best is trial 17 with value: 0.888268156424581.\u001b[0m\n",
      "\u001b[32m[I 2021-12-20 20:02:08,672]\u001b[0m Trial 209 finished with value: 0.7932960893854749 and parameters: {'lambda_l1': 3.439829891408906e-06, 'lambda_l2': 3.1331972492955124e-05, 'num_leaves': 98, 'feature_fraction': 0.7274909645223115, 'bagging_fraction': 0.8960365715738465, 'bagging_freq': 4, 'min_child_samples': 24}. Best is trial 17 with value: 0.888268156424581.\u001b[0m\n",
      "\u001b[32m[I 2021-12-20 20:02:08,784]\u001b[0m Trial 210 finished with value: 0.8268156424581006 and parameters: {'lambda_l1': 2.893106093813595, 'lambda_l2': 0.001081309423286873, 'num_leaves': 88, 'feature_fraction': 0.7685424799618044, 'bagging_fraction': 0.9595057736986993, 'bagging_freq': 3, 'min_child_samples': 10}. Best is trial 17 with value: 0.888268156424581.\u001b[0m\n",
      "\u001b[32m[I 2021-12-20 20:02:08,879]\u001b[0m Trial 211 finished with value: 0.8324022346368715 and parameters: {'lambda_l1': 5.055216600648931, 'lambda_l2': 0.00041775483193655784, 'num_leaves': 81, 'feature_fraction': 0.8088677924627041, 'bagging_fraction': 0.9981241832748495, 'bagging_freq': 3, 'min_child_samples': 32}. Best is trial 17 with value: 0.888268156424581.\u001b[0m\n",
      "\u001b[32m[I 2021-12-20 20:02:08,990]\u001b[0m Trial 212 finished with value: 0.8603351955307262 and parameters: {'lambda_l1': 3.294502259008333e-07, 'lambda_l2': 0.00026837879766478985, 'num_leaves': 170, 'feature_fraction': 0.824234914295776, 'bagging_fraction': 0.5241522387376771, 'bagging_freq': 1, 'min_child_samples': 27}. Best is trial 17 with value: 0.888268156424581.\u001b[0m\n",
      "\u001b[32m[I 2021-12-20 20:02:09,111]\u001b[0m Trial 213 finished with value: 0.8491620111731844 and parameters: {'lambda_l1': 2.75847384875791e-07, 'lambda_l2': 0.0002539129607481627, 'num_leaves': 76, 'feature_fraction': 0.7940957306654018, 'bagging_fraction': 0.9471471332552365, 'bagging_freq': 1, 'min_child_samples': 26}. Best is trial 17 with value: 0.888268156424581.\u001b[0m\n",
      "\u001b[32m[I 2021-12-20 20:02:09,226]\u001b[0m Trial 214 finished with value: 0.7988826815642458 and parameters: {'lambda_l1': 5.153929290752036e-07, 'lambda_l2': 7.70882635428741e-06, 'num_leaves': 130, 'feature_fraction': 0.8397592974980389, 'bagging_fraction': 0.5236233279451373, 'bagging_freq': 4, 'min_child_samples': 21}. Best is trial 17 with value: 0.888268156424581.\u001b[0m\n",
      "\u001b[32m[I 2021-12-20 20:02:09,319]\u001b[0m Trial 215 finished with value: 0.776536312849162 and parameters: {'lambda_l1': 9.908058225633177, 'lambda_l2': 0.0005384664881279685, 'num_leaves': 91, 'feature_fraction': 0.7546663952272327, 'bagging_fraction': 0.9359410488000868, 'bagging_freq': 3, 'min_child_samples': 17}. Best is trial 17 with value: 0.888268156424581.\u001b[0m\n",
      "\u001b[32m[I 2021-12-20 20:02:09,433]\u001b[0m Trial 216 finished with value: 0.8268156424581006 and parameters: {'lambda_l1': 7.898595349190945e-07, 'lambda_l2': 2.3606913519097743e-07, 'num_leaves': 168, 'feature_fraction': 0.8203283801881732, 'bagging_fraction': 0.8707585467466578, 'bagging_freq': 3, 'min_child_samples': 34}. Best is trial 17 with value: 0.888268156424581.\u001b[0m\n",
      "\u001b[32m[I 2021-12-20 20:02:09,540]\u001b[0m Trial 217 finished with value: 0.8044692737430168 and parameters: {'lambda_l1': 3.2702569988255846e-07, 'lambda_l2': 0.00042432643750943286, 'num_leaves': 161, 'feature_fraction': 0.8263154149774813, 'bagging_fraction': 0.8340302757338677, 'bagging_freq': 3, 'min_child_samples': 59}. Best is trial 17 with value: 0.888268156424581.\u001b[0m\n",
      "\u001b[32m[I 2021-12-20 20:02:09,667]\u001b[0m Trial 218 finished with value: 0.8212290502793296 and parameters: {'lambda_l1': 1.3898451852679323e-05, 'lambda_l2': 0.0001799956700058152, 'num_leaves': 181, 'feature_fraction': 0.7374845022240569, 'bagging_fraction': 0.9671417098765742, 'bagging_freq': 1, 'min_child_samples': 27}. Best is trial 17 with value: 0.888268156424581.\u001b[0m\n",
      "\u001b[32m[I 2021-12-20 20:02:09,762]\u001b[0m Trial 219 finished with value: 0.7932960893854749 and parameters: {'lambda_l1': 1.4205170816260534e-07, 'lambda_l2': 1.9658747726891634e-06, 'num_leaves': 140, 'feature_fraction': 0.8087908308671411, 'bagging_fraction': 0.49646289515902026, 'bagging_freq': 2, 'min_child_samples': 56}. Best is trial 17 with value: 0.888268156424581.\u001b[0m\n",
      "\u001b[32m[I 2021-12-20 20:02:09,878]\u001b[0m Trial 220 finished with value: 0.8324022346368715 and parameters: {'lambda_l1': 3.537016650855627e-07, 'lambda_l2': 0.00010290770199900986, 'num_leaves': 157, 'feature_fraction': 0.8489175256291164, 'bagging_fraction': 0.7330302334498896, 'bagging_freq': 1, 'min_child_samples': 31}. Best is trial 17 with value: 0.888268156424581.\u001b[0m\n",
      "\u001b[32m[I 2021-12-20 20:02:09,991]\u001b[0m Trial 221 finished with value: 0.8715083798882681 and parameters: {'lambda_l1': 5.199338903562998e-07, 'lambda_l2': 0.0002693078007462635, 'num_leaves': 170, 'feature_fraction': 0.7767696980449528, 'bagging_fraction': 0.4529309671907593, 'bagging_freq': 1, 'min_child_samples': 28}. Best is trial 17 with value: 0.888268156424581.\u001b[0m\n",
      "\u001b[32m[I 2021-12-20 20:02:10,114]\u001b[0m Trial 222 finished with value: 0.8156424581005587 and parameters: {'lambda_l1': 1.3558553992948487e-06, 'lambda_l2': 0.00024763164955538284, 'num_leaves': 172, 'feature_fraction': 0.7772652528675124, 'bagging_fraction': 0.8874869222365898, 'bagging_freq': 1, 'min_child_samples': 24}. Best is trial 17 with value: 0.888268156424581.\u001b[0m\n",
      "\u001b[32m[I 2021-12-20 20:02:10,225]\u001b[0m Trial 223 finished with value: 0.8324022346368715 and parameters: {'lambda_l1': 5.313871589637039e-07, 'lambda_l2': 0.0001786312101949702, 'num_leaves': 232, 'feature_fraction': 0.9112236379306038, 'bagging_fraction': 0.5551947108501026, 'bagging_freq': 4, 'min_child_samples': 27}. Best is trial 17 with value: 0.888268156424581.\u001b[0m\n",
      "\u001b[32m[I 2021-12-20 20:02:10,342]\u001b[0m Trial 224 finished with value: 0.8547486033519553 and parameters: {'lambda_l1': 0.044744475889289405, 'lambda_l2': 0.00030928587293614933, 'num_leaves': 69, 'feature_fraction': 0.767656754943288, 'bagging_fraction': 0.5362181547085779, 'bagging_freq': 3, 'min_child_samples': 13}. Best is trial 17 with value: 0.888268156424581.\u001b[0m\n",
      "\u001b[32m[I 2021-12-20 20:02:10,461]\u001b[0m Trial 225 finished with value: 0.8156424581005587 and parameters: {'lambda_l1': 0.06401295895368062, 'lambda_l2': 6.217264902553763e-05, 'num_leaves': 69, 'feature_fraction': 0.7607567665659719, 'bagging_fraction': 0.5302006687712331, 'bagging_freq': 3, 'min_child_samples': 15}. Best is trial 17 with value: 0.888268156424581.\u001b[0m\n",
      "\u001b[32m[I 2021-12-20 20:02:10,566]\u001b[0m Trial 226 finished with value: 0.8268156424581006 and parameters: {'lambda_l1': 1.9289811482311327e-07, 'lambda_l2': 8.931837267056369e-07, 'num_leaves': 250, 'feature_fraction': 0.800142032867923, 'bagging_fraction': 0.9140624919194864, 'bagging_freq': 4, 'min_child_samples': 54}. Best is trial 17 with value: 0.888268156424581.\u001b[0m\n",
      "\u001b[32m[I 2021-12-20 20:02:10,671]\u001b[0m Trial 227 finished with value: 0.8435754189944135 and parameters: {'lambda_l1': 6.767461568601794e-07, 'lambda_l2': 0.0002465918368443869, 'num_leaves': 176, 'feature_fraction': 0.8214474724592596, 'bagging_fraction': 0.4522497292426642, 'bagging_freq': 1, 'min_child_samples': 30}. Best is trial 17 with value: 0.888268156424581.\u001b[0m\n",
      "\u001b[32m[I 2021-12-20 20:02:10,780]\u001b[0m Trial 228 finished with value: 0.8770949720670391 and parameters: {'lambda_l1': 9.036664995419302e-07, 'lambda_l2': 0.00013194651219054944, 'num_leaves': 168, 'feature_fraction': 0.8937409691231719, 'bagging_fraction': 0.41730936501852645, 'bagging_freq': 1, 'min_child_samples': 28}. Best is trial 17 with value: 0.888268156424581.\u001b[0m\n"
     ]
    },
    {
     "name": "stderr",
     "output_type": "stream",
     "text": [
      "\u001b[32m[I 2021-12-20 20:02:10,890]\u001b[0m Trial 229 finished with value: 0.8324022346368715 and parameters: {'lambda_l1': 1.2565269662214664e-06, 'lambda_l2': 0.00010503692633764399, 'num_leaves': 171, 'feature_fraction': 0.7791260381126968, 'bagging_fraction': 0.42924948203843843, 'bagging_freq': 1, 'min_child_samples': 26}. Best is trial 17 with value: 0.888268156424581.\u001b[0m\n",
      "\u001b[32m[I 2021-12-20 20:02:10,996]\u001b[0m Trial 230 finished with value: 0.8547486033519553 and parameters: {'lambda_l1': 3.8767546742634986e-07, 'lambda_l2': 0.00038512397175815546, 'num_leaves': 164, 'feature_fraction': 0.7865006005925195, 'bagging_fraction': 0.4106943757723982, 'bagging_freq': 1, 'min_child_samples': 28}. Best is trial 17 with value: 0.888268156424581.\u001b[0m\n",
      "\u001b[32m[I 2021-12-20 20:02:11,126]\u001b[0m Trial 231 finished with value: 0.8603351955307262 and parameters: {'lambda_l1': 3.108020810316539e-07, 'lambda_l2': 0.0004434175909190514, 'num_leaves': 160, 'feature_fraction': 0.7875123645088219, 'bagging_fraction': 0.4143798760923563, 'bagging_freq': 1, 'min_child_samples': 11}. Best is trial 17 with value: 0.888268156424581.\u001b[0m\n",
      "\u001b[32m[I 2021-12-20 20:02:11,234]\u001b[0m Trial 232 finished with value: 0.8100558659217877 and parameters: {'lambda_l1': 4.2582382303412593e-07, 'lambda_l2': 0.0004983713353252866, 'num_leaves': 163, 'feature_fraction': 0.7905068538139624, 'bagging_fraction': 0.41248733269251775, 'bagging_freq': 1, 'min_child_samples': 29}. Best is trial 17 with value: 0.888268156424581.\u001b[0m\n",
      "\u001b[32m[I 2021-12-20 20:02:11,340]\u001b[0m Trial 233 finished with value: 0.8324022346368715 and parameters: {'lambda_l1': 8.299708596268422e-07, 'lambda_l2': 0.0006738945143145736, 'num_leaves': 153, 'feature_fraction': 0.8682720852450426, 'bagging_fraction': 0.41945984813664194, 'bagging_freq': 1, 'min_child_samples': 31}. Best is trial 17 with value: 0.888268156424581.\u001b[0m\n",
      "\u001b[32m[I 2021-12-20 20:02:11,512]\u001b[0m Trial 234 finished with value: 0.8044692737430168 and parameters: {'lambda_l1': 2.2749011233575705e-07, 'lambda_l2': 0.00014859893401075608, 'num_leaves': 78, 'feature_fraction': 0.8085645702834771, 'bagging_fraction': 0.40146633010760385, 'bagging_freq': 1, 'min_child_samples': 5}. Best is trial 17 with value: 0.888268156424581.\u001b[0m\n",
      "\u001b[32m[I 2021-12-20 20:02:11,611]\u001b[0m Trial 235 finished with value: 0.8212290502793296 and parameters: {'lambda_l1': 0.1182906936554479, 'lambda_l2': 0.00026507779912176747, 'num_leaves': 158, 'feature_fraction': 0.7673477534477273, 'bagging_fraction': 0.5390648667675437, 'bagging_freq': 1, 'min_child_samples': 60}. Best is trial 17 with value: 0.888268156424581.\u001b[0m\n",
      "\u001b[32m[I 2021-12-20 20:02:11,725]\u001b[0m Trial 236 finished with value: 0.7821229050279329 and parameters: {'lambda_l1': 2.385235059410898e-06, 'lambda_l2': 0.0009794469545047052, 'num_leaves': 168, 'feature_fraction': 0.9194018968369079, 'bagging_fraction': 0.44400965388706815, 'bagging_freq': 1, 'min_child_samples': 25}. Best is trial 17 with value: 0.888268156424581.\u001b[0m\n",
      "\u001b[32m[I 2021-12-20 20:02:11,866]\u001b[0m Trial 237 finished with value: 0.8603351955307262 and parameters: {'lambda_l1': 0.017668732105304324, 'lambda_l2': 0.00036088302367781675, 'num_leaves': 204, 'feature_fraction': 0.8805232917701233, 'bagging_fraction': 0.516610730924, 'bagging_freq': 3, 'min_child_samples': 11}. Best is trial 17 with value: 0.888268156424581.\u001b[0m\n",
      "\u001b[32m[I 2021-12-20 20:02:12,003]\u001b[0m Trial 238 finished with value: 0.770949720670391 and parameters: {'lambda_l1': 2.853717415864249e-07, 'lambda_l2': 0.00019707250647862942, 'num_leaves': 209, 'feature_fraction': 0.784916382524279, 'bagging_fraction': 0.4120292817778323, 'bagging_freq': 1, 'min_child_samples': 10}. Best is trial 17 with value: 0.888268156424581.\u001b[0m\n",
      "\u001b[32m[I 2021-12-20 20:02:12,106]\u001b[0m Trial 239 finished with value: 0.8324022346368715 and parameters: {'lambda_l1': 0.02121208425282176, 'lambda_l2': 0.00030280763645652614, 'num_leaves': 166, 'feature_fraction': 0.8887066876777984, 'bagging_fraction': 0.5183028892438867, 'bagging_freq': 1, 'min_child_samples': 52}. Best is trial 17 with value: 0.888268156424581.\u001b[0m\n",
      "\u001b[32m[I 2021-12-20 20:02:12,240]\u001b[0m Trial 240 finished with value: 0.8044692737430168 and parameters: {'lambda_l1': 1.2066139879991437e-07, 'lambda_l2': 0.03941907036900457, 'num_leaves': 86, 'feature_fraction': 0.9036342795695051, 'bagging_fraction': 0.5063164861118105, 'bagging_freq': 3, 'min_child_samples': 12}. Best is trial 17 with value: 0.888268156424581.\u001b[0m\n",
      "\u001b[32m[I 2021-12-20 20:02:12,368]\u001b[0m Trial 241 finished with value: 0.8603351955307262 and parameters: {'lambda_l1': 0.08828415839751501, 'lambda_l2': 0.00011998208729995354, 'num_leaves': 201, 'feature_fraction': 0.8740942951326934, 'bagging_fraction': 0.5449688197949083, 'bagging_freq': 1, 'min_child_samples': 14}. Best is trial 17 with value: 0.888268156424581.\u001b[0m\n",
      "\u001b[32m[I 2021-12-20 20:02:12,503]\u001b[0m Trial 242 finished with value: 0.7821229050279329 and parameters: {'lambda_l1': 0.03845101826483846, 'lambda_l2': 0.00032733800928476267, 'num_leaves': 202, 'feature_fraction': 0.7443480191222068, 'bagging_fraction': 0.5468728556742273, 'bagging_freq': 1, 'min_child_samples': 13}. Best is trial 17 with value: 0.888268156424581.\u001b[0m\n",
      "\u001b[32m[I 2021-12-20 20:02:12,641]\u001b[0m Trial 243 finished with value: 0.8212290502793296 and parameters: {'lambda_l1': 0.006117442729793547, 'lambda_l2': 0.0001341415989379525, 'num_leaves': 218, 'feature_fraction': 0.8798646088583154, 'bagging_fraction': 0.522234277809834, 'bagging_freq': 1, 'min_child_samples': 11}. Best is trial 17 with value: 0.888268156424581.\u001b[0m\n",
      "\u001b[32m[I 2021-12-20 20:02:12,794]\u001b[0m Trial 244 finished with value: 0.7877094972067039 and parameters: {'lambda_l1': 3.9792706414141073e-07, 'lambda_l2': 0.00019779574125553852, 'num_leaves': 205, 'feature_fraction': 0.7854202335169663, 'bagging_fraction': 0.42796960529378253, 'bagging_freq': 1, 'min_child_samples': 7}. Best is trial 17 with value: 0.888268156424581.\u001b[0m\n",
      "\u001b[32m[I 2021-12-20 20:02:12,993]\u001b[0m Trial 245 finished with value: 0.7430167597765364 and parameters: {'lambda_l1': 5.685206749861149e-07, 'lambda_l2': 0.0006024023477405654, 'num_leaves': 194, 'feature_fraction': 0.8886988741516422, 'bagging_fraction': 0.9090559653536984, 'bagging_freq': 3, 'min_child_samples': 9}. Best is trial 17 with value: 0.888268156424581.\u001b[0m\n",
      "\u001b[32m[I 2021-12-20 20:02:13,101]\u001b[0m Trial 246 finished with value: 0.8770949720670391 and parameters: {'lambda_l1': 6.928880645379914e-07, 'lambda_l2': 7.818957749521778e-05, 'num_leaves': 191, 'feature_fraction': 0.8734251017289882, 'bagging_fraction': 0.5107126720702524, 'bagging_freq': 3, 'min_child_samples': 33}. Best is trial 17 with value: 0.888268156424581.\u001b[0m\n",
      "\u001b[32m[I 2021-12-20 20:02:13,229]\u001b[0m Trial 247 finished with value: 0.8324022346368715 and parameters: {'lambda_l1': 0.05741825637185479, 'lambda_l2': 0.00012549500267912094, 'num_leaves': 190, 'feature_fraction': 0.7635684025567854, 'bagging_fraction': 0.5283881307344777, 'bagging_freq': 3, 'min_child_samples': 15}. Best is trial 17 with value: 0.888268156424581.\u001b[0m\n",
      "\u001b[32m[I 2021-12-20 20:02:13,337]\u001b[0m Trial 248 finished with value: 0.8044692737430168 and parameters: {'lambda_l1': 9.380783242649166e-07, 'lambda_l2': 8.265924940068235e-05, 'num_leaves': 182, 'feature_fraction': 0.8681664401342541, 'bagging_fraction': 0.5745672393068353, 'bagging_freq': 1, 'min_child_samples': 37}. Best is trial 17 with value: 0.888268156424581.\u001b[0m\n",
      "\u001b[32m[I 2021-12-20 20:02:13,441]\u001b[0m Trial 249 finished with value: 0.8212290502793296 and parameters: {'lambda_l1': 4.418307392638803e-07, 'lambda_l2': 6.406515611112176e-05, 'num_leaves': 199, 'feature_fraction': 0.8589297091407433, 'bagging_fraction': 0.42318566637017097, 'bagging_freq': 4, 'min_child_samples': 33}. Best is trial 17 with value: 0.888268156424581.\u001b[0m\n",
      "\u001b[32m[I 2021-12-20 20:02:13,542]\u001b[0m Trial 250 finished with value: 0.7988826815642458 and parameters: {'lambda_l1': 6.419739923182907, 'lambda_l2': 0.00021137138769368558, 'num_leaves': 212, 'feature_fraction': 0.8906211606119048, 'bagging_fraction': 0.43837838293159664, 'bagging_freq': 3, 'min_child_samples': 12}. Best is trial 17 with value: 0.888268156424581.\u001b[0m\n",
      "\u001b[32m[I 2021-12-20 20:02:13,654]\u001b[0m Trial 251 finished with value: 0.7988826815642458 and parameters: {'lambda_l1': 6.774699727854823e-07, 'lambda_l2': 0.0003475649442518321, 'num_leaves': 189, 'feature_fraction': 0.7116318293825638, 'bagging_fraction': 0.49208628677176647, 'bagging_freq': 1, 'min_child_samples': 30}. Best is trial 17 with value: 0.888268156424581.\u001b[0m\n"
     ]
    },
    {
     "name": "stderr",
     "output_type": "stream",
     "text": [
      "\u001b[32m[I 2021-12-20 20:02:13,778]\u001b[0m Trial 252 finished with value: 0.8547486033519553 and parameters: {'lambda_l1': 0.0878472778764071, 'lambda_l2': 0.00010933801094395398, 'num_leaves': 201, 'feature_fraction': 0.8747486478473349, 'bagging_fraction': 0.5185793754471086, 'bagging_freq': 3, 'min_child_samples': 15}. Best is trial 17 with value: 0.888268156424581.\u001b[0m\n",
      "\u001b[32m[I 2021-12-20 20:02:13,904]\u001b[0m Trial 253 finished with value: 0.8324022346368715 and parameters: {'lambda_l1': 0.014978892016786224, 'lambda_l2': 8.560986768526262e-05, 'num_leaves': 204, 'feature_fraction': 0.8788207321794057, 'bagging_fraction': 0.5116258881361417, 'bagging_freq': 3, 'min_child_samples': 16}. Best is trial 17 with value: 0.888268156424581.\u001b[0m\n",
      "\u001b[32m[I 2021-12-20 20:02:14,017]\u001b[0m Trial 254 finished with value: 0.8379888268156425 and parameters: {'lambda_l1': 0.04207552405627836, 'lambda_l2': 4.213735863932491e-06, 'num_leaves': 184, 'feature_fraction': 0.9013447705665808, 'bagging_fraction': 0.540437084276675, 'bagging_freq': 2, 'min_child_samples': 31}. Best is trial 17 with value: 0.888268156424581.\u001b[0m\n",
      "\u001b[32m[I 2021-12-20 20:02:14,158]\u001b[0m Trial 255 finished with value: 0.8770949720670391 and parameters: {'lambda_l1': 1.994699126878537e-07, 'lambda_l2': 0.00016085775571862237, 'num_leaves': 196, 'feature_fraction': 0.8435775632238723, 'bagging_fraction': 0.9482658467792962, 'bagging_freq': 4, 'min_child_samples': 22}. Best is trial 17 with value: 0.888268156424581.\u001b[0m\n",
      "\u001b[32m[I 2021-12-20 20:02:14,316]\u001b[0m Trial 256 finished with value: 0.8156424581005587 and parameters: {'lambda_l1': 1.8092227566658761e-07, 'lambda_l2': 4.084788127659216e-05, 'num_leaves': 196, 'feature_fraction': 0.8670497054118188, 'bagging_fraction': 0.9445989807326177, 'bagging_freq': 4, 'min_child_samples': 19}. Best is trial 17 with value: 0.888268156424581.\u001b[0m\n",
      "\u001b[32m[I 2021-12-20 20:02:14,456]\u001b[0m Trial 257 finished with value: 0.8603351955307262 and parameters: {'lambda_l1': 2.8086744572012374e-07, 'lambda_l2': 0.00016865277231652436, 'num_leaves': 194, 'feature_fraction': 0.7527834716741812, 'bagging_fraction': 0.9725501868197756, 'bagging_freq': 4, 'min_child_samples': 22}. Best is trial 17 with value: 0.888268156424581.\u001b[0m\n",
      "\u001b[32m[I 2021-12-20 20:02:14,599]\u001b[0m Trial 258 finished with value: 0.8491620111731844 and parameters: {'lambda_l1': 2.570977213438437e-07, 'lambda_l2': 0.00019500827917606254, 'num_leaves': 196, 'feature_fraction': 0.7540055424250194, 'bagging_fraction': 0.9657903006451062, 'bagging_freq': 4, 'min_child_samples': 21}. Best is trial 17 with value: 0.888268156424581.\u001b[0m\n",
      "\u001b[32m[I 2021-12-20 20:02:14,719]\u001b[0m Trial 259 finished with value: 0.8212290502793296 and parameters: {'lambda_l1': 1.447699146552853e-07, 'lambda_l2': 0.0001461273847019493, 'num_leaves': 190, 'feature_fraction': 0.7720051978425168, 'bagging_fraction': 0.5629203490224264, 'bagging_freq': 4, 'min_child_samples': 25}. Best is trial 17 with value: 0.888268156424581.\u001b[0m\n",
      "\u001b[32m[I 2021-12-20 20:02:14,839]\u001b[0m Trial 260 finished with value: 0.88268156424581 and parameters: {'lambda_l1': 6.117384331251176e-08, 'lambda_l2': 0.00025043967387074857, 'num_leaves': 208, 'feature_fraction': 0.7442018382177218, 'bagging_fraction': 0.4985409789038896, 'bagging_freq': 4, 'min_child_samples': 21}. Best is trial 17 with value: 0.888268156424581.\u001b[0m\n",
      "\u001b[32m[I 2021-12-20 20:02:14,981]\u001b[0m Trial 261 finished with value: 0.8435754189944135 and parameters: {'lambda_l1': 6.855164117604324e-08, 'lambda_l2': 0.00013910803596005255, 'num_leaves': 214, 'feature_fraction': 0.736046558603311, 'bagging_fraction': 0.9551594475553449, 'bagging_freq': 4, 'min_child_samples': 23}. Best is trial 17 with value: 0.888268156424581.\u001b[0m\n",
      "\u001b[32m[I 2021-12-20 20:02:15,099]\u001b[0m Trial 262 finished with value: 0.7821229050279329 and parameters: {'lambda_l1': 3.903448047443672e-08, 'lambda_l2': 7.554716105348263e-05, 'num_leaves': 207, 'feature_fraction': 0.7437424570144894, 'bagging_fraction': 0.5019473515351254, 'bagging_freq': 4, 'min_child_samples': 22}. Best is trial 17 with value: 0.888268156424581.\u001b[0m\n",
      "\u001b[32m[I 2021-12-20 20:02:15,220]\u001b[0m Trial 263 finished with value: 0.8156424581005587 and parameters: {'lambda_l1': 1.037666189677744e-07, 'lambda_l2': 0.0002350391501673765, 'num_leaves': 199, 'feature_fraction': 0.7273613721688231, 'bagging_fraction': 0.4841830454113736, 'bagging_freq': 4, 'min_child_samples': 20}. Best is trial 17 with value: 0.888268156424581.\u001b[0m\n",
      "\u001b[32m[I 2021-12-20 20:02:15,341]\u001b[0m Trial 264 finished with value: 0.7988826815642458 and parameters: {'lambda_l1': 5.20084583241516e-08, 'lambda_l2': 0.00028738363300901304, 'num_leaves': 205, 'feature_fraction': 0.7525086894396579, 'bagging_fraction': 0.5332466945178452, 'bagging_freq': 4, 'min_child_samples': 22}. Best is trial 17 with value: 0.888268156424581.\u001b[0m\n",
      "\u001b[32m[I 2021-12-20 20:02:15,482]\u001b[0m Trial 265 finished with value: 0.8212290502793296 and parameters: {'lambda_l1': 2.7089607845729655e-08, 'lambda_l2': 0.00014829749352845482, 'num_leaves': 192, 'feature_fraction': 0.7664803690666503, 'bagging_fraction': 0.9748600585742433, 'bagging_freq': 4, 'min_child_samples': 24}. Best is trial 17 with value: 0.888268156424581.\u001b[0m\n",
      "\u001b[32m[I 2021-12-20 20:02:15,602]\u001b[0m Trial 266 finished with value: 0.8435754189944135 and parameters: {'lambda_l1': 8.429317197066345e-08, 'lambda_l2': 0.0002421064657790702, 'num_leaves': 199, 'feature_fraction': 0.7197357795397492, 'bagging_fraction': 0.49914113866629206, 'bagging_freq': 4, 'min_child_samples': 23}. Best is trial 17 with value: 0.888268156424581.\u001b[0m\n",
      "\u001b[32m[I 2021-12-20 20:02:15,749]\u001b[0m Trial 267 finished with value: 0.8100558659217877 and parameters: {'lambda_l1': 2.0672472396138342e-07, 'lambda_l2': 0.00010599681224654659, 'num_leaves': 219, 'feature_fraction': 0.7545213464852595, 'bagging_fraction': 0.9820518664787571, 'bagging_freq': 4, 'min_child_samples': 20}. Best is trial 17 with value: 0.888268156424581.\u001b[0m\n",
      "\u001b[32m[I 2021-12-20 20:02:15,864]\u001b[0m Trial 268 finished with value: 0.8547486033519553 and parameters: {'lambda_l1': 3.172704886618512e-07, 'lambda_l2': 2.9670637447995886e-06, 'num_leaves': 184, 'feature_fraction': 0.7395929462733429, 'bagging_fraction': 0.4810181115793346, 'bagging_freq': 4, 'min_child_samples': 25}. Best is trial 17 with value: 0.888268156424581.\u001b[0m\n",
      "\u001b[32m[I 2021-12-20 20:02:15,998]\u001b[0m Trial 269 finished with value: 0.8491620111731844 and parameters: {'lambda_l1': 9.844535471390847e-07, 'lambda_l2': 0.00044488049001588457, 'num_leaves': 177, 'feature_fraction': 0.8408633634225909, 'bagging_fraction': 0.96664618325958, 'bagging_freq': 4, 'min_child_samples': 27}. Best is trial 17 with value: 0.888268156424581.\u001b[0m\n",
      "\u001b[32m[I 2021-12-20 20:02:16,107]\u001b[0m Trial 270 finished with value: 0.8547486033519553 and parameters: {'lambda_l1': 5.958258058615351e-07, 'lambda_l2': 2.3009222738656234e-05, 'num_leaves': 192, 'feature_fraction': 0.8519018982765351, 'bagging_fraction': 0.5078981387157998, 'bagging_freq': 1, 'min_child_samples': 39}. Best is trial 17 with value: 0.888268156424581.\u001b[0m\n",
      "\u001b[32m[I 2021-12-20 20:02:16,226]\u001b[0m Trial 271 finished with value: 0.7597765363128491 and parameters: {'lambda_l1': 1.5042167293582942e-07, 'lambda_l2': 5.037064401048964e-05, 'num_leaves': 240, 'feature_fraction': 0.8326314624061828, 'bagging_fraction': 0.6732790898856224, 'bagging_freq': 4, 'min_child_samples': 28}. Best is trial 17 with value: 0.888268156424581.\u001b[0m\n",
      "\u001b[32m[I 2021-12-20 20:02:16,339]\u001b[0m Trial 272 finished with value: 0.8547486033519553 and parameters: {'lambda_l1': 0.0007907786606084972, 'lambda_l2': 6.542084445381494e-06, 'num_leaves': 181, 'feature_fraction': 0.8921545681650754, 'bagging_fraction': 0.5983317602398845, 'bagging_freq': 4, 'min_child_samples': 35}. Best is trial 17 with value: 0.888268156424581.\u001b[0m\n",
      "\u001b[32m[I 2021-12-20 20:02:16,461]\u001b[0m Trial 273 finished with value: 0.8324022346368715 and parameters: {'lambda_l1': 2.5908503494650485e-07, 'lambda_l2': 0.00015314434261652862, 'num_leaves': 200, 'feature_fraction': 0.7759096735212283, 'bagging_fraction': 0.5152422199403281, 'bagging_freq': 4, 'min_child_samples': 19}. Best is trial 17 with value: 0.888268156424581.\u001b[0m\n",
      "\u001b[32m[I 2021-12-20 20:02:16,619]\u001b[0m Trial 274 finished with value: 0.8044692737430168 and parameters: {'lambda_l1': 1.1201183618358846e-07, 'lambda_l2': 4.907652879883751e-05, 'num_leaves': 212, 'feature_fraction': 0.8583464581875137, 'bagging_fraction': 0.9564618988849323, 'bagging_freq': 4, 'min_child_samples': 17}. Best is trial 17 with value: 0.888268156424581.\u001b[0m\n"
     ]
    },
    {
     "name": "stderr",
     "output_type": "stream",
     "text": [
      "\u001b[32m[I 2021-12-20 20:02:16,730]\u001b[0m Trial 275 finished with value: 0.8268156424581006 and parameters: {'lambda_l1': 4.0754459294982414e-07, 'lambda_l2': 0.0003577373683047347, 'num_leaves': 226, 'feature_fraction': 0.7463751832760616, 'bagging_fraction': 0.40816936269801896, 'bagging_freq': 1, 'min_child_samples': 26}. Best is trial 17 with value: 0.888268156424581.\u001b[0m\n",
      "\u001b[32m[I 2021-12-20 20:02:16,856]\u001b[0m Trial 276 finished with value: 0.8379888268156425 and parameters: {'lambda_l1': 1.9563142029403e-08, 'lambda_l2': 0.00019197750666905976, 'num_leaves': 195, 'feature_fraction': 0.7991136006685112, 'bagging_fraction': 0.8997402273409542, 'bagging_freq': 3, 'min_child_samples': 33}. Best is trial 17 with value: 0.888268156424581.\u001b[0m\n",
      "\u001b[32m[I 2021-12-20 20:02:16,963]\u001b[0m Trial 277 finished with value: 0.8324022346368715 and parameters: {'lambda_l1': 0.008337075988204386, 'lambda_l2': 9.232330734215654e-05, 'num_leaves': 115, 'feature_fraction': 0.9084321690235874, 'bagging_fraction': 0.5275584889111152, 'bagging_freq': 2, 'min_child_samples': 55}. Best is trial 17 with value: 0.888268156424581.\u001b[0m\n",
      "\u001b[32m[I 2021-12-20 20:02:17,068]\u001b[0m Trial 278 finished with value: 0.8268156424581006 and parameters: {'lambda_l1': 1.8790316784408636e-06, 'lambda_l2': 0.000647521858966711, 'num_leaves': 207, 'feature_fraction': 0.7269906583807023, 'bagging_fraction': 0.4706377689838478, 'bagging_freq': 6, 'min_child_samples': 53}. Best is trial 17 with value: 0.888268156424581.\u001b[0m\n",
      "\u001b[32m[I 2021-12-20 20:02:17,186]\u001b[0m Trial 279 finished with value: 0.8491620111731844 and parameters: {'lambda_l1': 4.032003528191062e-08, 'lambda_l2': 0.0002639837655846436, 'num_leaves': 95, 'feature_fraction': 0.756873372998277, 'bagging_fraction': 0.4949728731221091, 'bagging_freq': 4, 'min_child_samples': 21}. Best is trial 17 with value: 0.888268156424581.\u001b[0m\n",
      "\u001b[32m[I 2021-12-20 20:02:17,317]\u001b[0m Trial 280 finished with value: 0.7932960893854749 and parameters: {'lambda_l1': 8.142263882366646e-07, 'lambda_l2': 0.00040499628253156956, 'num_leaves': 171, 'feature_fraction': 0.8220372845460946, 'bagging_fraction': 0.9508343541283037, 'bagging_freq': 1, 'min_child_samples': 28}. Best is trial 17 with value: 0.888268156424581.\u001b[0m\n",
      "\u001b[32m[I 2021-12-20 20:02:17,427]\u001b[0m Trial 281 finished with value: 0.8379888268156425 and parameters: {'lambda_l1': 3.612101020219776e-07, 'lambda_l2': 0.0001748627466931495, 'num_leaves': 165, 'feature_fraction': 0.7762243918329667, 'bagging_fraction': 0.40550483105443624, 'bagging_freq': 1, 'min_child_samples': 29}. Best is trial 17 with value: 0.888268156424581.\u001b[0m\n",
      "\u001b[32m[I 2021-12-20 20:02:17,554]\u001b[0m Trial 282 finished with value: 0.8212290502793296 and parameters: {'lambda_l1': 1.8755591023938642e-07, 'lambda_l2': 0.023182009956211114, 'num_leaves': 186, 'feature_fraction': 0.7008940528837624, 'bagging_fraction': 0.7043364466221329, 'bagging_freq': 3, 'min_child_samples': 23}. Best is trial 17 with value: 0.888268156424581.\u001b[0m\n",
      "\u001b[32m[I 2021-12-20 20:02:17,667]\u001b[0m Trial 283 finished with value: 0.8212290502793296 and parameters: {'lambda_l1': 2.5979385105739455e-07, 'lambda_l2': 1.1776607381364493e-05, 'num_leaves': 178, 'feature_fraction': 0.8978931365727246, 'bagging_fraction': 0.6175187229580831, 'bagging_freq': 4, 'min_child_samples': 34}. Best is trial 17 with value: 0.888268156424581.\u001b[0m\n",
      "\u001b[32m[I 2021-12-20 20:02:17,772]\u001b[0m Trial 284 finished with value: 0.8715083798882681 and parameters: {'lambda_l1': 0.028557207424169062, 'lambda_l2': 0.0002753964460738326, 'num_leaves': 70, 'feature_fraction': 0.7694993390582804, 'bagging_fraction': 0.5501208983160105, 'bagging_freq': 3, 'min_child_samples': 51}. Best is trial 17 with value: 0.888268156424581.\u001b[0m\n",
      "\u001b[32m[I 2021-12-20 20:02:17,883]\u001b[0m Trial 285 finished with value: 0.770949720670391 and parameters: {'lambda_l1': 7.019811668551496e-08, 'lambda_l2': 0.00011321150701824619, 'num_leaves': 66, 'feature_fraction': 0.761086657701425, 'bagging_fraction': 0.7204692414662017, 'bagging_freq': 3, 'min_child_samples': 49}. Best is trial 17 with value: 0.888268156424581.\u001b[0m\n",
      "\u001b[32m[I 2021-12-20 20:02:17,993]\u001b[0m Trial 286 finished with value: 0.8156424581005587 and parameters: {'lambda_l1': 0.0017068775693237516, 'lambda_l2': 1.42229274451393e-06, 'num_leaves': 56, 'feature_fraction': 0.773480495381108, 'bagging_fraction': 0.5677577208242276, 'bagging_freq': 4, 'min_child_samples': 51}. Best is trial 17 with value: 0.888268156424581.\u001b[0m\n",
      "\u001b[32m[I 2021-12-20 20:02:18,098]\u001b[0m Trial 287 finished with value: 0.7877094972067039 and parameters: {'lambda_l1': 4.888744005780481e-07, 'lambda_l2': 0.000235598126773144, 'num_leaves': 201, 'feature_fraction': 0.7437763700412148, 'bagging_fraction': 0.5407685244434373, 'bagging_freq': 4, 'min_child_samples': 50}. Best is trial 17 with value: 0.888268156424581.\u001b[0m\n",
      "\u001b[32m[I 2021-12-20 20:02:18,214]\u001b[0m Trial 288 finished with value: 0.8324022346368715 and parameters: {'lambda_l1': 1.4617773093328314e-07, 'lambda_l2': 0.00017168885804130492, 'num_leaves': 60, 'feature_fraction': 0.9217488042001953, 'bagging_fraction': 0.8575881231233021, 'bagging_freq': 3, 'min_child_samples': 46}. Best is trial 17 with value: 0.888268156424581.\u001b[0m\n",
      "\u001b[32m[I 2021-12-20 20:02:18,303]\u001b[0m Trial 289 finished with value: 0.7653631284916201 and parameters: {'lambda_l1': 3.178286709385484e-07, 'lambda_l2': 0.00011231824483613476, 'num_leaves': 192, 'feature_fraction': 0.7900588718048911, 'bagging_fraction': 0.5577946101107867, 'bagging_freq': 3, 'min_child_samples': 92}. Best is trial 17 with value: 0.888268156424581.\u001b[0m\n",
      "\u001b[32m[I 2021-12-20 20:02:18,406]\u001b[0m Trial 290 finished with value: 0.8156424581005587 and parameters: {'lambda_l1': 5.972596571882451e-07, 'lambda_l2': 0.00029457429091036625, 'num_leaves': 157, 'feature_fraction': 0.765400787039697, 'bagging_fraction': 0.5513930463129222, 'bagging_freq': 4, 'min_child_samples': 57}. Best is trial 17 with value: 0.888268156424581.\u001b[0m\n",
      "\u001b[32m[I 2021-12-20 20:02:18,521]\u001b[0m Trial 291 finished with value: 0.8268156424581006 and parameters: {'lambda_l1': 1.0133961055406468e-07, 'lambda_l2': 7.611695940176588e-05, 'num_leaves': 216, 'feature_fraction': 0.8793342878923214, 'bagging_fraction': 0.6895155513652793, 'bagging_freq': 3, 'min_child_samples': 40}. Best is trial 17 with value: 0.888268156424581.\u001b[0m\n",
      "\u001b[32m[I 2021-12-20 20:02:18,635]\u001b[0m Trial 292 finished with value: 0.8603351955307262 and parameters: {'lambda_l1': 0.023878461861789275, 'lambda_l2': 0.0006033089843262081, 'num_leaves': 209, 'feature_fraction': 0.6460618323068231, 'bagging_fraction': 0.8793300939670443, 'bagging_freq': 4, 'min_child_samples': 48}. Best is trial 17 with value: 0.888268156424581.\u001b[0m\n",
      "\u001b[32m[I 2021-12-20 20:02:18,750]\u001b[0m Trial 293 finished with value: 0.7821229050279329 and parameters: {'lambda_l1': 1.4642938795253389e-08, 'lambda_l2': 0.0009191373534603566, 'num_leaves': 208, 'feature_fraction': 0.6448850019351059, 'bagging_fraction': 0.8830288879200099, 'bagging_freq': 4, 'min_child_samples': 48}. Best is trial 17 with value: 0.888268156424581.\u001b[0m\n",
      "\u001b[32m[I 2021-12-20 20:02:18,866]\u001b[0m Trial 294 finished with value: 0.8156424581005587 and parameters: {'lambda_l1': 1.9214544835821499e-07, 'lambda_l2': 0.00021210232898785772, 'num_leaves': 73, 'feature_fraction': 0.7327018891302237, 'bagging_fraction': 0.9765471066352598, 'bagging_freq': 3, 'min_child_samples': 54}. Best is trial 17 with value: 0.888268156424581.\u001b[0m\n",
      "\u001b[32m[I 2021-12-20 20:02:18,986]\u001b[0m Trial 295 finished with value: 0.8379888268156425 and parameters: {'lambda_l1': 5.776553333263863e-07, 'lambda_l2': 0.0003391033659188199, 'num_leaves': 196, 'feature_fraction': 0.7539180482980141, 'bagging_fraction': 0.5013025978928961, 'bagging_freq': 5, 'min_child_samples': 26}. Best is trial 17 with value: 0.888268156424581.\u001b[0m\n",
      "\u001b[32m[I 2021-12-20 20:02:19,102]\u001b[0m Trial 296 finished with value: 0.88268156424581 and parameters: {'lambda_l1': 0.02421999195110384, 'lambda_l2': 0.00070587737119582, 'num_leaves': 213, 'feature_fraction': 0.6109792913711756, 'bagging_fraction': 0.8745567855874793, 'bagging_freq': 4, 'min_child_samples': 52}. Best is trial 17 with value: 0.888268156424581.\u001b[0m\n",
      "\u001b[32m[I 2021-12-20 20:02:19,206]\u001b[0m Trial 297 finished with value: 0.8324022346368715 and parameters: {'lambda_l1': 0.024605741935241784, 'lambda_l2': 0.0013815391336812254, 'num_leaves': 212, 'feature_fraction': 0.5998752452523346, 'bagging_fraction': 0.5109523082092952, 'bagging_freq': 4, 'min_child_samples': 52}. Best is trial 17 with value: 0.888268156424581.\u001b[0m\n"
     ]
    },
    {
     "name": "stderr",
     "output_type": "stream",
     "text": [
      "\u001b[32m[I 2021-12-20 20:02:19,311]\u001b[0m Trial 298 finished with value: 0.8268156424581006 and parameters: {'lambda_l1': 0.0144085297347161, 'lambda_l2': 0.0001368078172290207, 'num_leaves': 203, 'feature_fraction': 0.8100090971062411, 'bagging_fraction': 0.8921052326471085, 'bagging_freq': 4, 'min_child_samples': 52}. Best is trial 17 with value: 0.888268156424581.\u001b[0m\n",
      "\u001b[32m[I 2021-12-20 20:02:19,425]\u001b[0m Trial 299 finished with value: 0.8491620111731844 and parameters: {'lambda_l1': 0.023695819341750392, 'lambda_l2': 0.0004852479075751373, 'num_leaves': 215, 'feature_fraction': 0.6553293686962113, 'bagging_fraction': 0.8639380781982879, 'bagging_freq': 4, 'min_child_samples': 48}. Best is trial 17 with value: 0.888268156424581.\u001b[0m\n",
      "\u001b[32m[I 2021-12-20 20:02:19,543]\u001b[0m Trial 300 finished with value: 0.8379888268156425 and parameters: {'lambda_l1': 3.2947801781223064e-08, 'lambda_l2': 0.0006012904518042184, 'num_leaves': 222, 'feature_fraction': 0.6154395965996212, 'bagging_fraction': 0.874182793046972, 'bagging_freq': 4, 'min_child_samples': 50}. Best is trial 17 with value: 0.888268156424581.\u001b[0m\n",
      "\u001b[32m[I 2021-12-20 20:02:19,656]\u001b[0m Trial 301 finished with value: 0.8268156424581006 and parameters: {'lambda_l1': 0.02770788940598021, 'lambda_l2': 0.0008126187373555795, 'num_leaves': 207, 'feature_fraction': 0.585529138836597, 'bagging_fraction': 0.8791740182233961, 'bagging_freq': 4, 'min_child_samples': 54}. Best is trial 17 with value: 0.888268156424581.\u001b[0m\n",
      "\u001b[32m[I 2021-12-20 20:02:19,775]\u001b[0m Trial 302 finished with value: 0.8379888268156425 and parameters: {'lambda_l1': 1.4546981778962086e-06, 'lambda_l2': 0.000648442744125276, 'num_leaves': 219, 'feature_fraction': 0.6292571140408095, 'bagging_fraction': 0.8909757364390464, 'bagging_freq': 4, 'min_child_samples': 43}. Best is trial 17 with value: 0.888268156424581.\u001b[0m\n",
      "\u001b[32m[I 2021-12-20 20:02:19,893]\u001b[0m Trial 303 finished with value: 0.8268156424581006 and parameters: {'lambda_l1': 5.703025237082463e-08, 'lambda_l2': 4.903042133067207e-06, 'num_leaves': 245, 'feature_fraction': 0.6694003592507656, 'bagging_fraction': 0.7567318527169304, 'bagging_freq': 3, 'min_child_samples': 56}. Best is trial 17 with value: 0.888268156424581.\u001b[0m\n",
      "\u001b[32m[I 2021-12-20 20:02:20,020]\u001b[0m Trial 304 finished with value: 0.8268156424581006 and parameters: {'lambda_l1': 2.476989590127553e-07, 'lambda_l2': 7.630063217741984e-05, 'num_leaves': 232, 'feature_fraction': 0.8727303864107793, 'bagging_fraction': 0.8440256033929714, 'bagging_freq': 4, 'min_child_samples': 31}. Best is trial 17 with value: 0.888268156424581.\u001b[0m\n",
      "\u001b[32m[I 2021-12-20 20:02:20,139]\u001b[0m Trial 305 finished with value: 0.8268156424581006 and parameters: {'lambda_l1': 3.8272101982409696e-07, 'lambda_l2': 0.00020634087112806002, 'num_leaves': 106, 'feature_fraction': 0.858991315613673, 'bagging_fraction': 0.48886291470391224, 'bagging_freq': 4, 'min_child_samples': 24}. Best is trial 17 with value: 0.888268156424581.\u001b[0m\n",
      "\u001b[32m[I 2021-12-20 20:02:20,267]\u001b[0m Trial 306 finished with value: 0.8268156424581006 and parameters: {'lambda_l1': 0.0048134642460235435, 'lambda_l2': 2.2995260021194586e-06, 'num_leaves': 147, 'feature_fraction': 0.840353860868408, 'bagging_fraction': 0.5274441165871709, 'bagging_freq': 4, 'min_child_samples': 22}. Best is trial 17 with value: 0.888268156424581.\u001b[0m\n",
      "\u001b[32m[I 2021-12-20 20:02:20,390]\u001b[0m Trial 307 finished with value: 0.8379888268156425 and parameters: {'lambda_l1': 0.010308057099476742, 'lambda_l2': 1.916259129041191e-05, 'num_leaves': 63, 'feature_fraction': 0.7797191487217047, 'bagging_fraction': 0.9223334251868515, 'bagging_freq': 3, 'min_child_samples': 37}. Best is trial 17 with value: 0.888268156424581.\u001b[0m\n",
      "\u001b[32m[I 2021-12-20 20:02:20,496]\u001b[0m Trial 308 finished with value: 0.8491620111731844 and parameters: {'lambda_l1': 1.232933868701362e-06, 'lambda_l2': 0.0004000000467280145, 'num_leaves': 90, 'feature_fraction': 0.7174627691117968, 'bagging_fraction': 0.5858751754879197, 'bagging_freq': 3, 'min_child_samples': 79}. Best is trial 17 with value: 0.888268156424581.\u001b[0m\n",
      "\u001b[32m[I 2021-12-20 20:02:20,617]\u001b[0m Trial 309 finished with value: 0.7988826815642458 and parameters: {'lambda_l1': 0.0001317352410439934, 'lambda_l2': 0.0002843999179315423, 'num_leaves': 211, 'feature_fraction': 0.6590202014002178, 'bagging_fraction': 0.9041430223514146, 'bagging_freq': 4, 'min_child_samples': 48}. Best is trial 17 with value: 0.888268156424581.\u001b[0m\n",
      "\u001b[32m[I 2021-12-20 20:02:20,722]\u001b[0m Trial 310 finished with value: 0.8603351955307262 and parameters: {'lambda_l1': 0.016233270058131456, 'lambda_l2': 3.351820055490446e-05, 'num_leaves': 203, 'feature_fraction': 0.6299284915959835, 'bagging_fraction': 0.6585270244425655, 'bagging_freq': 4, 'min_child_samples': 46}. Best is trial 17 with value: 0.888268156424581.\u001b[0m\n",
      "\u001b[32m[I 2021-12-20 20:02:20,841]\u001b[0m Trial 311 finished with value: 0.8212290502793296 and parameters: {'lambda_l1': 1.008903189347704e-07, 'lambda_l2': 0.00013111357373230982, 'num_leaves': 94, 'feature_fraction': 0.7693359666524244, 'bagging_fraction': 0.9628950483188748, 'bagging_freq': 3, 'min_child_samples': 53}. Best is trial 17 with value: 0.888268156424581.\u001b[0m\n",
      "\u001b[32m[I 2021-12-20 20:02:20,960]\u001b[0m Trial 312 finished with value: 0.7932960893854749 and parameters: {'lambda_l1': 0.015689930893680138, 'lambda_l2': 0.0012290045612310713, 'num_leaves': 211, 'feature_fraction': 0.5993734458684593, 'bagging_fraction': 0.8646703792596284, 'bagging_freq': 3, 'min_child_samples': 51}. Best is trial 17 with value: 0.888268156424581.\u001b[0m\n",
      "\u001b[32m[I 2021-12-20 20:02:21,073]\u001b[0m Trial 313 finished with value: 0.8435754189944135 and parameters: {'lambda_l1': 0.014408565189832042, 'lambda_l2': 3.490131459638077e-05, 'num_leaves': 205, 'feature_fraction': 0.6392155688229209, 'bagging_fraction': 0.6541213666817454, 'bagging_freq': 4, 'min_child_samples': 47}. Best is trial 17 with value: 0.888268156424581.\u001b[0m\n",
      "\u001b[32m[I 2021-12-20 20:02:21,187]\u001b[0m Trial 314 finished with value: 0.8268156424581006 and parameters: {'lambda_l1': 1.0297509978754422e-08, 'lambda_l2': 7.5384766215657355e-06, 'num_leaves': 203, 'feature_fraction': 0.6150262115375035, 'bagging_fraction': 0.6524192565853726, 'bagging_freq': 4, 'min_child_samples': 45}. Best is trial 17 with value: 0.888268156424581.\u001b[0m\n",
      "\u001b[32m[I 2021-12-20 20:02:21,310]\u001b[0m Trial 315 finished with value: 0.8547486033519553 and parameters: {'lambda_l1': 0.02299647098247242, 'lambda_l2': 2.638887687626972e-05, 'num_leaves': 199, 'feature_fraction': 0.6472886097722002, 'bagging_fraction': 0.8847947928724127, 'bagging_freq': 4, 'min_child_samples': 46}. Best is trial 17 with value: 0.888268156424581.\u001b[0m\n",
      "\u001b[32m[I 2021-12-20 20:02:21,415]\u001b[0m Trial 316 finished with value: 0.8547486033519553 and parameters: {'lambda_l1': 1.6246073576210464e-07, 'lambda_l2': 8.554837619940037e-05, 'num_leaves': 188, 'feature_fraction': 0.6949447482024771, 'bagging_fraction': 0.4644003616706454, 'bagging_freq': 4, 'min_child_samples': 50}. Best is trial 17 with value: 0.888268156424581.\u001b[0m\n",
      "\u001b[32m[I 2021-12-20 20:02:21,540]\u001b[0m Trial 317 finished with value: 0.770949720670391 and parameters: {'lambda_l1': 6.87764427713533e-05, 'lambda_l2': 6.295592844690613e-05, 'num_leaves': 160, 'feature_fraction': 0.794178448328558, 'bagging_fraction': 0.9812335701455263, 'bagging_freq': 2, 'min_child_samples': 42}. Best is trial 17 with value: 0.888268156424581.\u001b[0m\n",
      "\u001b[32m[I 2021-12-20 20:02:21,651]\u001b[0m Trial 318 finished with value: 0.7877094972067039 and parameters: {'lambda_l1': 0.034100185110530506, 'lambda_l2': 6.84773943184811e-05, 'num_leaves': 48, 'feature_fraction': 0.6400081878588937, 'bagging_fraction': 0.6249735399167954, 'bagging_freq': 4, 'min_child_samples': 47}. Best is trial 17 with value: 0.888268156424581.\u001b[0m\n",
      "\u001b[32m[I 2021-12-20 20:02:21,771]\u001b[0m Trial 319 finished with value: 0.8770949720670391 and parameters: {'lambda_l1': 8.917842167514813e-07, 'lambda_l2': 1.098311458783883e-05, 'num_leaves': 84, 'feature_fraction': 0.8056790816011432, 'bagging_fraction': 0.9051184110064792, 'bagging_freq': 4, 'min_child_samples': 44}. Best is trial 17 with value: 0.888268156424581.\u001b[0m\n",
      "\u001b[32m[I 2021-12-20 20:02:21,892]\u001b[0m Trial 320 finished with value: 0.8044692737430168 and parameters: {'lambda_l1': 4.923557121478482e-07, 'lambda_l2': 8.647172777737064e-06, 'num_leaves': 75, 'feature_fraction': 0.8201151521529407, 'bagging_fraction': 0.9158847092027791, 'bagging_freq': 4, 'min_child_samples': 45}. Best is trial 17 with value: 0.888268156424581.\u001b[0m\n"
     ]
    },
    {
     "name": "stderr",
     "output_type": "stream",
     "text": [
      "\u001b[32m[I 2021-12-20 20:02:22,008]\u001b[0m Trial 321 finished with value: 0.8156424581005587 and parameters: {'lambda_l1': 7.069451531862665e-07, 'lambda_l2': 1.4950914478666751e-05, 'num_leaves': 78, 'feature_fraction': 0.6186838427414684, 'bagging_fraction': 0.8984525877529356, 'bagging_freq': 4, 'min_child_samples': 49}. Best is trial 17 with value: 0.888268156424581.\u001b[0m\n",
      "\u001b[32m[I 2021-12-20 20:02:22,126]\u001b[0m Trial 322 finished with value: 0.8268156424581006 and parameters: {'lambda_l1': 2.2072786583361383e-07, 'lambda_l2': 6.080477195117049e-06, 'num_leaves': 69, 'feature_fraction': 0.626155109104582, 'bagging_fraction': 0.906133287703949, 'bagging_freq': 4, 'min_child_samples': 46}. Best is trial 17 with value: 0.888268156424581.\u001b[0m\n",
      "\u001b[32m[I 2021-12-20 20:02:22,242]\u001b[0m Trial 323 finished with value: 0.8603351955307262 and parameters: {'lambda_l1': 2.0947423247817685e-08, 'lambda_l2': 0.0021311628778020453, 'num_leaves': 153, 'feature_fraction': 0.8127772447605668, 'bagging_fraction': 0.8745294707951776, 'bagging_freq': 1, 'min_child_samples': 53}. Best is trial 17 with value: 0.888268156424581.\u001b[0m\n",
      "\u001b[32m[I 2021-12-20 20:02:22,351]\u001b[0m Trial 324 finished with value: 0.8268156424581006 and parameters: {'lambda_l1': 2.154269765876671e-08, 'lambda_l2': 0.00369213127524735, 'num_leaves': 157, 'feature_fraction': 0.8074669930235543, 'bagging_fraction': 0.8819154195028374, 'bagging_freq': 1, 'min_child_samples': 52}. Best is trial 17 with value: 0.888268156424581.\u001b[0m\n",
      "\u001b[32m[I 2021-12-20 20:02:22,480]\u001b[0m Trial 325 finished with value: 0.8268156424581006 and parameters: {'lambda_l1': 3.564007592236322e-07, 'lambda_l2': 0.0001615822176698369, 'num_leaves': 175, 'feature_fraction': 0.8872063743108686, 'bagging_fraction': 0.5172005581733381, 'bagging_freq': 1, 'min_child_samples': 20}. Best is trial 17 with value: 0.888268156424581.\u001b[0m\n",
      "\u001b[32m[I 2021-12-20 20:02:22,600]\u001b[0m Trial 326 finished with value: 0.8379888268156425 and parameters: {'lambda_l1': 3.290842928955988e-08, 'lambda_l2': 0.0023865876061133257, 'num_leaves': 151, 'feature_fraction': 0.9068977321460358, 'bagging_fraction': 0.91361146831528, 'bagging_freq': 4, 'min_child_samples': 55}. Best is trial 17 with value: 0.888268156424581.\u001b[0m\n",
      "\u001b[32m[I 2021-12-20 20:02:22,705]\u001b[0m Trial 327 finished with value: 0.8268156424581006 and parameters: {'lambda_l1': 8.483046667750057e-07, 'lambda_l2': 6.863979724051042e-07, 'num_leaves': 85, 'feature_fraction': 0.8391025356013447, 'bagging_fraction': 0.545910721368851, 'bagging_freq': 1, 'min_child_samples': 29}. Best is trial 17 with value: 0.888268156424581.\u001b[0m\n",
      "\u001b[32m[I 2021-12-20 20:02:22,840]\u001b[0m Trial 328 finished with value: 0.8268156424581006 and parameters: {'lambda_l1': 1.773235938559419e-08, 'lambda_l2': 0.0017178563290222157, 'num_leaves': 226, 'feature_fraction': 0.5587389138602353, 'bagging_fraction': 0.8451323404708861, 'bagging_freq': 4, 'min_child_samples': 25}. Best is trial 17 with value: 0.888268156424581.\u001b[0m\n",
      "\u001b[32m[I 2021-12-20 20:02:22,960]\u001b[0m Trial 329 finished with value: 0.8268156424581006 and parameters: {'lambda_l1': 1.2229282182089006e-06, 'lambda_l2': 0.0009077960114619543, 'num_leaves': 162, 'feature_fraction': 0.8143686189876493, 'bagging_fraction': 0.892855385850305, 'bagging_freq': 2, 'min_child_samples': 58}. Best is trial 17 with value: 0.888268156424581.\u001b[0m\n",
      "\u001b[32m[I 2021-12-20 20:02:23,086]\u001b[0m Trial 330 finished with value: 0.8324022346368715 and parameters: {'lambda_l1': 2.7307646491270996e-06, 'lambda_l2': 1.0625077357489684e-05, 'num_leaves': 85, 'feature_fraction': 0.7784244939063546, 'bagging_fraction': 0.9536484696865495, 'bagging_freq': 3, 'min_child_samples': 36}. Best is trial 17 with value: 0.888268156424581.\u001b[0m\n",
      "\u001b[32m[I 2021-12-20 20:02:23,231]\u001b[0m Trial 331 finished with value: 0.8324022346368715 and parameters: {'lambda_l1': 1.3920068849969712e-07, 'lambda_l2': 0.08314786149113948, 'num_leaves': 169, 'feature_fraction': 0.8656607217119824, 'bagging_fraction': 0.7853915034157315, 'bagging_freq': 4, 'min_child_samples': 18}. Best is trial 17 with value: 0.888268156424581.\u001b[0m\n",
      "\u001b[32m[I 2021-12-20 20:02:23,346]\u001b[0m Trial 332 finished with value: 0.8212290502793296 and parameters: {'lambda_l1': 1.8071404551477178e-06, 'lambda_l2': 0.0005602481859068215, 'num_leaves': 91, 'feature_fraction': 0.801778524032328, 'bagging_fraction': 0.9309038654511225, 'bagging_freq': 4, 'min_child_samples': 41}. Best is trial 17 with value: 0.888268156424581.\u001b[0m\n",
      "\u001b[32m[I 2021-12-20 20:02:23,462]\u001b[0m Trial 333 finished with value: 0.7988826815642458 and parameters: {'lambda_l1': 1.0930405256506466e-06, 'lambda_l2': 2.1975292209914816e-05, 'num_leaves': 76, 'feature_fraction': 0.604082353602708, 'bagging_fraction': 0.665507531805141, 'bagging_freq': 3, 'min_child_samples': 40}. Best is trial 17 with value: 0.888268156424581.\u001b[0m\n",
      "\u001b[32m[I 2021-12-20 20:02:23,583]\u001b[0m Trial 334 finished with value: 0.8268156424581006 and parameters: {'lambda_l1': 0.007196306524903805, 'lambda_l2': 3.5187887990242885e-06, 'num_leaves': 208, 'feature_fraction': 0.6382442581216755, 'bagging_fraction': 0.92243437735209, 'bagging_freq': 4, 'min_child_samples': 45}. Best is trial 17 with value: 0.888268156424581.\u001b[0m\n",
      "\u001b[32m[I 2021-12-20 20:02:23,706]\u001b[0m Trial 335 finished with value: 0.7932960893854749 and parameters: {'lambda_l1': 0.24444711309279227, 'lambda_l2': 1.606414989644552e-05, 'num_leaves': 199, 'feature_fraction': 0.8937010745604771, 'bagging_fraction': 0.681910958389863, 'bagging_freq': 5, 'min_child_samples': 43}. Best is trial 17 with value: 0.888268156424581.\u001b[0m\n",
      "\u001b[32m[I 2021-12-20 20:02:23,818]\u001b[0m Trial 336 finished with value: 0.8491620111731844 and parameters: {'lambda_l1': 7.258446165145652e-08, 'lambda_l2': 4.31874384112976e-05, 'num_leaves': 236, 'feature_fraction': 0.8279288341792334, 'bagging_fraction': 0.4211433234828755, 'bagging_freq': 1, 'min_child_samples': 43}. Best is trial 17 with value: 0.888268156424581.\u001b[0m\n",
      "\u001b[32m[I 2021-12-20 20:02:23,934]\u001b[0m Trial 337 finished with value: 0.8435754189944135 and parameters: {'lambda_l1': 0.051564112217534014, 'lambda_l2': 2.7819044867573967e-05, 'num_leaves': 195, 'feature_fraction': 0.880569236014116, 'bagging_fraction': 0.8207047686428741, 'bagging_freq': 4, 'min_child_samples': 56}. Best is trial 17 with value: 0.888268156424581.\u001b[0m\n",
      "\u001b[32m[I 2021-12-20 20:02:24,072]\u001b[0m Trial 338 finished with value: 0.7877094972067039 and parameters: {'lambda_l1': 5.765379309025281e-07, 'lambda_l2': 0.0002449405304052308, 'num_leaves': 83, 'feature_fraction': 0.7476619616274743, 'bagging_fraction': 0.9700498090592036, 'bagging_freq': 4, 'min_child_samples': 26}. Best is trial 17 with value: 0.888268156424581.\u001b[0m\n",
      "\u001b[32m[I 2021-12-20 20:02:24,182]\u001b[0m Trial 339 finished with value: 0.8435754189944135 and parameters: {'lambda_l1': 0.0028841720792359086, 'lambda_l2': 0.0005051177187666235, 'num_leaves': 186, 'feature_fraction': 0.7382784690075089, 'bagging_fraction': 0.45313396320875476, 'bagging_freq': 4, 'min_child_samples': 49}. Best is trial 17 with value: 0.888268156424581.\u001b[0m\n",
      "\u001b[32m[I 2021-12-20 20:02:24,302]\u001b[0m Trial 340 finished with value: 0.8603351955307262 and parameters: {'lambda_l1': 0.025984371205290326, 'lambda_l2': 1.2228812789908e-05, 'num_leaves': 203, 'feature_fraction': 0.6346148190853549, 'bagging_fraction': 0.9030191315680622, 'bagging_freq': 4, 'min_child_samples': 44}. Best is trial 17 with value: 0.888268156424581.\u001b[0m\n",
      "\u001b[32m[I 2021-12-20 20:02:24,423]\u001b[0m Trial 341 finished with value: 0.8491620111731844 and parameters: {'lambda_l1': 2.577465501839979e-08, 'lambda_l2': 0.000928090433032152, 'num_leaves': 143, 'feature_fraction': 0.795709947651666, 'bagging_fraction': 0.8507195588733355, 'bagging_freq': 4, 'min_child_samples': 51}. Best is trial 17 with value: 0.888268156424581.\u001b[0m\n",
      "\u001b[32m[I 2021-12-20 20:02:24,587]\u001b[0m Trial 342 finished with value: 0.7988826815642458 and parameters: {'lambda_l1': 3.7029958782645085e-07, 'lambda_l2': 0.0003194034869636753, 'num_leaves': 70, 'feature_fraction': 0.8518008562059167, 'bagging_fraction': 0.4789355746557218, 'bagging_freq': 1, 'min_child_samples': 7}. Best is trial 17 with value: 0.888268156424581.\u001b[0m\n",
      "\u001b[32m[I 2021-12-20 20:02:24,707]\u001b[0m Trial 343 finished with value: 0.8324022346368715 and parameters: {'lambda_l1': 5.672703291704239e-08, 'lambda_l2': 4.6752873126699565e-05, 'num_leaves': 217, 'feature_fraction': 0.7591894737090543, 'bagging_fraction': 0.8628606087409648, 'bagging_freq': 4, 'min_child_samples': 54}. Best is trial 17 with value: 0.888268156424581.\u001b[0m\n"
     ]
    },
    {
     "name": "stderr",
     "output_type": "stream",
     "text": [
      "\u001b[32m[I 2021-12-20 20:02:24,853]\u001b[0m Trial 344 finished with value: 0.7988826815642458 and parameters: {'lambda_l1': 2.5582160109376073e-07, 'lambda_l2': 0.00021316708552383964, 'num_leaves': 102, 'feature_fraction': 0.7911313680489592, 'bagging_fraction': 0.9872955375052178, 'bagging_freq': 3, 'min_child_samples': 24}. Best is trial 17 with value: 0.888268156424581.\u001b[0m\n",
      "\u001b[32m[I 2021-12-20 20:02:24,977]\u001b[0m Trial 345 finished with value: 0.8435754189944135 and parameters: {'lambda_l1': 1.5436429407454824e-08, 'lambda_l2': 0.006609460105934079, 'num_leaves': 193, 'feature_fraction': 0.7138622778274231, 'bagging_fraction': 0.8686230520303919, 'bagging_freq': 4, 'min_child_samples': 50}. Best is trial 17 with value: 0.888268156424581.\u001b[0m\n",
      "\u001b[32m[I 2021-12-20 20:02:25,096]\u001b[0m Trial 346 finished with value: 0.8435754189944135 and parameters: {'lambda_l1': 1.0655637199276658e-07, 'lambda_l2': 1.0446846036627286e-05, 'num_leaves': 163, 'feature_fraction': 0.7257755599510444, 'bagging_fraction': 0.9366689456144959, 'bagging_freq': 4, 'min_child_samples': 53}. Best is trial 17 with value: 0.888268156424581.\u001b[0m\n",
      "\u001b[32m[I 2021-12-20 20:02:25,218]\u001b[0m Trial 347 finished with value: 0.8212290502793296 and parameters: {'lambda_l1': 3.755750005701675e-08, 'lambda_l2': 0.00010398415175588013, 'num_leaves': 153, 'feature_fraction': 0.6136834229493194, 'bagging_fraction': 0.8777542664552503, 'bagging_freq': 4, 'min_child_samples': 48}. Best is trial 17 with value: 0.888268156424581.\u001b[0m\n",
      "\u001b[32m[I 2021-12-20 20:02:25,348]\u001b[0m Trial 348 finished with value: 0.8659217877094972 and parameters: {'lambda_l1': 7.9431001608549e-07, 'lambda_l2': 0.0021194077117146046, 'num_leaves': 96, 'feature_fraction': 0.8093161686064599, 'bagging_fraction': 0.9118122376542759, 'bagging_freq': 5, 'min_child_samples': 32}. Best is trial 17 with value: 0.888268156424581.\u001b[0m\n",
      "\u001b[32m[I 2021-12-20 20:02:25,487]\u001b[0m Trial 349 finished with value: 0.8603351955307262 and parameters: {'lambda_l1': 1.0109420946809302e-06, 'lambda_l2': 0.0032160388360359996, 'num_leaves': 100, 'feature_fraction': 0.8115876353568299, 'bagging_fraction': 0.9125515167760595, 'bagging_freq': 5, 'min_child_samples': 32}. Best is trial 17 with value: 0.888268156424581.\u001b[0m\n",
      "\u001b[32m[I 2021-12-20 20:02:25,615]\u001b[0m Trial 350 finished with value: 0.8212290502793296 and parameters: {'lambda_l1': 5.693308657515441e-07, 'lambda_l2': 0.01064256023453927, 'num_leaves': 146, 'feature_fraction': 0.8067388990635993, 'bagging_fraction': 0.892925309853772, 'bagging_freq': 1, 'min_child_samples': 31}. Best is trial 17 with value: 0.888268156424581.\u001b[0m\n",
      "\u001b[32m[I 2021-12-20 20:02:25,738]\u001b[0m Trial 351 finished with value: 0.8491620111731844 and parameters: {'lambda_l1': 4.6913784364187814e-08, 'lambda_l2': 0.0020736893698247464, 'num_leaves': 95, 'feature_fraction': 0.8273795703768915, 'bagging_fraction': 0.9025872247472891, 'bagging_freq': 5, 'min_child_samples': 32}. Best is trial 17 with value: 0.888268156424581.\u001b[0m\n",
      "\u001b[32m[I 2021-12-20 20:02:25,858]\u001b[0m Trial 352 finished with value: 0.8212290502793296 and parameters: {'lambda_l1': 1.0518286409742595e-08, 'lambda_l2': 0.001579065543034787, 'num_leaves': 111, 'feature_fraction': 0.8146739667710869, 'bagging_fraction': 0.6400231057213666, 'bagging_freq': 5, 'min_child_samples': 34}. Best is trial 17 with value: 0.888268156424581.\u001b[0m\n",
      "\u001b[32m[I 2021-12-20 20:02:25,989]\u001b[0m Trial 353 finished with value: 0.7932960893854749 and parameters: {'lambda_l1': 1.8364560431610364e-07, 'lambda_l2': 0.00013925045408907512, 'num_leaves': 96, 'feature_fraction': 0.8700038921915554, 'bagging_fraction': 0.9113486386219424, 'bagging_freq': 5, 'min_child_samples': 36}. Best is trial 17 with value: 0.888268156424581.\u001b[0m\n",
      "\u001b[32m[I 2021-12-20 20:02:26,120]\u001b[0m Trial 354 finished with value: 0.8212290502793296 and parameters: {'lambda_l1': 0.00033692024040756077, 'lambda_l2': 0.003769157741016538, 'num_leaves': 173, 'feature_fraction': 0.8219588997780503, 'bagging_fraction': 0.7386817780335373, 'bagging_freq': 4, 'min_child_samples': 29}. Best is trial 17 with value: 0.888268156424581.\u001b[0m\n",
      "\u001b[32m[I 2021-12-20 20:02:26,241]\u001b[0m Trial 355 finished with value: 0.8100558659217877 and parameters: {'lambda_l1': 3.682373471686245e-05, 'lambda_l2': 0.00038628397347319324, 'num_leaves': 89, 'feature_fraction': 0.7842282481383294, 'bagging_fraction': 0.4371938059429863, 'bagging_freq': 2, 'min_child_samples': 28}. Best is trial 17 with value: 0.888268156424581.\u001b[0m\n",
      "\u001b[32m[I 2021-12-20 20:02:26,345]\u001b[0m Trial 356 finished with value: 0.8491620111731844 and parameters: {'lambda_l1': 7.552902928988858e-07, 'lambda_l2': 1.3941448256042093e-08, 'num_leaves': 82, 'feature_fraction': 0.836522793685324, 'bagging_fraction': 0.8801371898610851, 'bagging_freq': 6, 'min_child_samples': 53}. Best is trial 17 with value: 0.888268156424581.\u001b[0m\n",
      "\u001b[32m[I 2021-12-20 20:02:26,470]\u001b[0m Trial 357 finished with value: 0.8379888268156425 and parameters: {'lambda_l1': 0.1295428882647509, 'lambda_l2': 1.2125461689894854e-05, 'num_leaves': 203, 'feature_fraction': 0.5894091642282488, 'bagging_fraction': 0.9249150217788248, 'bagging_freq': 4, 'min_child_samples': 44}. Best is trial 17 with value: 0.888268156424581.\u001b[0m\n",
      "\u001b[32m[I 2021-12-20 20:02:26,601]\u001b[0m Trial 358 finished with value: 0.8156424581005587 and parameters: {'lambda_l1': 1.1823914853772134e-06, 'lambda_l2': 5.1972662369460495e-06, 'num_leaves': 90, 'feature_fraction': 0.623986849059689, 'bagging_fraction': 0.8897247648405735, 'bagging_freq': 4, 'min_child_samples': 31}. Best is trial 17 with value: 0.888268156424581.\u001b[0m\n",
      "\u001b[32m[I 2021-12-20 20:02:26,733]\u001b[0m Trial 359 finished with value: 0.8212290502793296 and parameters: {'lambda_l1': 1.7169034728604554e-06, 'lambda_l2': 0.0036254653830649535, 'num_leaves': 101, 'feature_fraction': 0.9310238381758056, 'bagging_fraction': 0.9059253587817914, 'bagging_freq': 5, 'min_child_samples': 32}. Best is trial 17 with value: 0.888268156424581.\u001b[0m\n",
      "\u001b[32m[I 2021-12-20 20:02:26,852]\u001b[0m Trial 360 finished with value: 0.8770949720670391 and parameters: {'lambda_l1': 4.6712254838244347e-07, 'lambda_l2': 3.1475018846819128e-06, 'num_leaves': 77, 'feature_fraction': 0.8000980843016268, 'bagging_fraction': 0.9342147224192264, 'bagging_freq': 4, 'min_child_samples': 56}. Best is trial 17 with value: 0.888268156424581.\u001b[0m\n",
      "\u001b[32m[I 2021-12-20 20:02:26,981]\u001b[0m Trial 361 finished with value: 0.8212290502793296 and parameters: {'lambda_l1': 4.992063961321382e-07, 'lambda_l2': 1.5910786582843432e-06, 'num_leaves': 73, 'feature_fraction': 0.6833366291528242, 'bagging_fraction': 0.9226243804322551, 'bagging_freq': 4, 'min_child_samples': 39}. Best is trial 17 with value: 0.888268156424581.\u001b[0m\n",
      "\u001b[32m[I 2021-12-20 20:02:27,098]\u001b[0m Trial 362 finished with value: 0.7821229050279329 and parameters: {'lambda_l1': 3.701878143076911e-07, 'lambda_l2': 1.6700981245799136e-06, 'num_leaves': 150, 'feature_fraction': 0.8302813381219798, 'bagging_fraction': 0.9241641093543324, 'bagging_freq': 1, 'min_child_samples': 58}. Best is trial 17 with value: 0.888268156424581.\u001b[0m\n",
      "\u001b[32m[I 2021-12-20 20:02:27,221]\u001b[0m Trial 363 finished with value: 0.8379888268156425 and parameters: {'lambda_l1': 7.259112490597145e-07, 'lambda_l2': 4.448465553506967e-06, 'num_leaves': 189, 'feature_fraction': 0.9127765994321698, 'bagging_fraction': 0.9400437697356676, 'bagging_freq': 4, 'min_child_samples': 58}. Best is trial 17 with value: 0.888268156424581.\u001b[0m\n",
      "\u001b[32m[I 2021-12-20 20:02:27,340]\u001b[0m Trial 364 finished with value: 0.8324022346368715 and parameters: {'lambda_l1': 1.0917700998077862e-06, 'lambda_l2': 3.2961159990837125e-06, 'num_leaves': 63, 'feature_fraction': 0.80196390274965, 'bagging_fraction': 0.9099694803233112, 'bagging_freq': 5, 'min_child_samples': 56}. Best is trial 17 with value: 0.888268156424581.\u001b[0m\n",
      "\u001b[32m[I 2021-12-20 20:02:27,453]\u001b[0m Trial 365 finished with value: 0.8603351955307262 and parameters: {'lambda_l1': 0.034201399128667855, 'lambda_l2': 6.356719305172093e-06, 'num_leaves': 209, 'feature_fraction': 0.8997045509197703, 'bagging_fraction': 0.4959625510506313, 'bagging_freq': 4, 'min_child_samples': 50}. Best is trial 17 with value: 0.888268156424581.\u001b[0m\n",
      "\u001b[32m[I 2021-12-20 20:02:27,566]\u001b[0m Trial 366 finished with value: 0.7988826815642458 and parameters: {'lambda_l1': 2.2329622639752436e-07, 'lambda_l2': 4.905615004511644e-06, 'num_leaves': 213, 'feature_fraction': 0.9242317570178715, 'bagging_fraction': 0.49014397723730585, 'bagging_freq': 4, 'min_child_samples': 55}. Best is trial 17 with value: 0.888268156424581.\u001b[0m\n"
     ]
    },
    {
     "name": "stderr",
     "output_type": "stream",
     "text": [
      "\u001b[32m[I 2021-12-20 20:02:27,688]\u001b[0m Trial 367 finished with value: 0.8435754189944135 and parameters: {'lambda_l1': 4.617361853825114e-07, 'lambda_l2': 8.908766775636066e-06, 'num_leaves': 78, 'feature_fraction': 0.6597809312687959, 'bagging_fraction': 0.933916151111768, 'bagging_freq': 4, 'min_child_samples': 47}. Best is trial 17 with value: 0.888268156424581.\u001b[0m\n",
      "\u001b[32m[I 2021-12-20 20:02:27,805]\u001b[0m Trial 368 finished with value: 0.8324022346368715 and parameters: {'lambda_l1': 8.998550921968518e-08, 'lambda_l2': 2.7724769249364757e-06, 'num_leaves': 68, 'feature_fraction': 0.7885902444205152, 'bagging_fraction': 0.9443511913551947, 'bagging_freq': 3, 'min_child_samples': 60}. Best is trial 17 with value: 0.888268156424581.\u001b[0m\n",
      "\u001b[32m[I 2021-12-20 20:02:27,935]\u001b[0m Trial 369 finished with value: 0.8379888268156425 and parameters: {'lambda_l1': 3.1722543588660915e-08, 'lambda_l2': 2.383302988568021e-06, 'num_leaves': 256, 'feature_fraction': 0.8046937412081788, 'bagging_fraction': 0.8909337169746777, 'bagging_freq': 4, 'min_child_samples': 41}. Best is trial 17 with value: 0.888268156424581.\u001b[0m\n",
      "\u001b[32m[I 2021-12-20 20:02:28,047]\u001b[0m Trial 370 finished with value: 0.8268156424581006 and parameters: {'lambda_l1': 0.0011740140694669356, 'lambda_l2': 9.695056188659525e-07, 'num_leaves': 157, 'feature_fraction': 0.7955367674858503, 'bagging_fraction': 0.4717279567291063, 'bagging_freq': 3, 'min_child_samples': 57}. Best is trial 17 with value: 0.888268156424581.\u001b[0m\n",
      "\u001b[32m[I 2021-12-20 20:02:28,170]\u001b[0m Trial 371 finished with value: 0.8603351955307262 and parameters: {'lambda_l1': 3.823617705829441e-06, 'lambda_l2': 0.00539186439206599, 'num_leaves': 223, 'feature_fraction': 0.8161559798758048, 'bagging_fraction': 0.865890269005241, 'bagging_freq': 4, 'min_child_samples': 53}. Best is trial 17 with value: 0.888268156424581.\u001b[0m\n",
      "\u001b[32m[I 2021-12-20 20:02:28,279]\u001b[0m Trial 372 finished with value: 0.7988826815642458 and parameters: {'lambda_l1': 5.822593346327928e-07, 'lambda_l2': 0.0005986838218720356, 'num_leaves': 84, 'feature_fraction': 0.7740415570477985, 'bagging_fraction': 0.42273583169426454, 'bagging_freq': 4, 'min_child_samples': 51}. Best is trial 17 with value: 0.888268156424581.\u001b[0m\n",
      "\u001b[32m[I 2021-12-20 20:02:28,403]\u001b[0m Trial 373 finished with value: 0.8491620111731844 and parameters: {'lambda_l1': 3.01089995327437e-07, 'lambda_l2': 0.00021202936761367618, 'num_leaves': 175, 'feature_fraction': 0.8466110911759046, 'bagging_fraction': 0.5123906810825215, 'bagging_freq': 4, 'min_child_samples': 22}. Best is trial 17 with value: 0.888268156424581.\u001b[0m\n",
      "\u001b[32m[I 2021-12-20 20:02:28,525]\u001b[0m Trial 374 finished with value: 0.7988826815642458 and parameters: {'lambda_l1': 6.980447465416714e-07, 'lambda_l2': 0.008050082850173916, 'num_leaves': 225, 'feature_fraction': 0.8984331081620548, 'bagging_fraction': 0.8727214929740227, 'bagging_freq': 4, 'min_child_samples': 51}. Best is trial 17 with value: 0.888268156424581.\u001b[0m\n",
      "\u001b[32m[I 2021-12-20 20:02:28,659]\u001b[0m Trial 375 finished with value: 0.7988826815642458 and parameters: {'lambda_l1': 2.3767620457274604e-06, 'lambda_l2': 0.015988639819676527, 'num_leaves': 88, 'feature_fraction': 0.7692195871273017, 'bagging_fraction': 0.9354878192850911, 'bagging_freq': 2, 'min_child_samples': 30}. Best is trial 17 with value: 0.888268156424581.\u001b[0m\n",
      "\u001b[32m[I 2021-12-20 20:02:28,817]\u001b[0m Trial 376 finished with value: 0.7988826815642458 and parameters: {'lambda_l1': 1.4654717109224473e-07, 'lambda_l2': 9.0042036025541e-05, 'num_leaves': 198, 'feature_fraction': 0.7467643307181177, 'bagging_fraction': 0.9287997594263957, 'bagging_freq': 4, 'min_child_samples': 18}. Best is trial 17 with value: 0.888268156424581.\u001b[0m\n",
      "\u001b[32m[I 2021-12-20 20:02:28,937]\u001b[0m Trial 377 finished with value: 0.8324022346368715 and parameters: {'lambda_l1': 1.888966017122428e-08, 'lambda_l2': 0.0011886157182071765, 'num_leaves': 165, 'feature_fraction': 0.7821236988659743, 'bagging_fraction': 0.8775808013462535, 'bagging_freq': 4, 'min_child_samples': 55}. Best is trial 17 with value: 0.888268156424581.\u001b[0m\n",
      "\u001b[32m[I 2021-12-20 20:02:29,086]\u001b[0m Trial 378 finished with value: 0.7877094972067039 and parameters: {'lambda_l1': 2.712905190343998e-07, 'lambda_l2': 1.889867016931717e-05, 'num_leaves': 82, 'feature_fraction': 0.7362441939521747, 'bagging_fraction': 0.9029233180155013, 'bagging_freq': 4, 'min_child_samples': 20}. Best is trial 17 with value: 0.888268156424581.\u001b[0m\n",
      "\u001b[32m[I 2021-12-20 20:02:29,223]\u001b[0m Trial 379 finished with value: 0.8212290502793296 and parameters: {'lambda_l1': 1.6181398559345804e-06, 'lambda_l2': 7.5026741111212985e-06, 'num_leaves': 107, 'feature_fraction': 0.7551377541779449, 'bagging_fraction': 0.9168924608526976, 'bagging_freq': 6, 'min_child_samples': 33}. Best is trial 17 with value: 0.888268156424581.\u001b[0m\n",
      "\u001b[32m[I 2021-12-20 20:02:29,345]\u001b[0m Trial 380 finished with value: 0.8324022346368715 and parameters: {'lambda_l1': 4.267552046704652e-07, 'lambda_l2': 0.010499435746345813, 'num_leaves': 222, 'feature_fraction': 0.83098810287347, 'bagging_fraction': 0.5276070844733668, 'bagging_freq': 3, 'min_child_samples': 34}. Best is trial 17 with value: 0.888268156424581.\u001b[0m\n",
      "\u001b[32m[I 2021-12-20 20:02:29,477]\u001b[0m Trial 381 finished with value: 0.8379888268156425 and parameters: {'lambda_l1': 3.2925715873538997e-06, 'lambda_l2': 0.005172266650435406, 'num_leaves': 220, 'feature_fraction': 0.8165998626993392, 'bagging_fraction': 0.9433621557468997, 'bagging_freq': 3, 'min_child_samples': 38}. Best is trial 17 with value: 0.888268156424581.\u001b[0m\n",
      "\u001b[32m[I 2021-12-20 20:02:29,610]\u001b[0m Trial 382 finished with value: 0.8268156424581006 and parameters: {'lambda_l1': 1.2842850599562814e-07, 'lambda_l2': 8.339363455370318e-08, 'num_leaves': 76, 'feature_fraction': 0.7987649409128974, 'bagging_fraction': 0.9040940339477102, 'bagging_freq': 4, 'min_child_samples': 38}. Best is trial 17 with value: 0.888268156424581.\u001b[0m\n",
      "\u001b[32m[I 2021-12-20 20:02:29,732]\u001b[0m Trial 383 finished with value: 0.8547486033519553 and parameters: {'lambda_l1': 1.0430388144347096e-06, 'lambda_l2': 1.240724603766881e-05, 'num_leaves': 97, 'feature_fraction': 0.7651216073359662, 'bagging_fraction': 0.46179776808125517, 'bagging_freq': 3, 'min_child_samples': 27}. Best is trial 17 with value: 0.888268156424581.\u001b[0m\n",
      "\u001b[32m[I 2021-12-20 20:02:29,853]\u001b[0m Trial 384 finished with value: 0.8044692737430168 and parameters: {'lambda_l1': 7.320640339346012e-07, 'lambda_l2': 0.0007319110965228214, 'num_leaves': 93, 'feature_fraction': 0.7751018827085479, 'bagging_fraction': 0.5040777197435663, 'bagging_freq': 4, 'min_child_samples': 26}. Best is trial 17 with value: 0.888268156424581.\u001b[0m\n",
      "\u001b[32m[I 2021-12-20 20:02:29,988]\u001b[0m Trial 385 finished with value: 0.8435754189944135 and parameters: {'lambda_l1': 1.0458565728554269e-06, 'lambda_l2': 0.00019425645825664272, 'num_leaves': 96, 'feature_fraction': 0.571606613650423, 'bagging_fraction': 0.9564852401983435, 'bagging_freq': 5, 'min_child_samples': 35}. Best is trial 17 with value: 0.888268156424581.\u001b[0m\n",
      "\u001b[32m[I 2021-12-20 20:02:30,142]\u001b[0m Trial 386 finished with value: 0.8212290502793296 and parameters: {'lambda_l1': 1.9555600424975012e-07, 'lambda_l2': 0.00038103056797380273, 'num_leaves': 73, 'feature_fraction': 0.7900300045325376, 'bagging_fraction': 0.44292091515929977, 'bagging_freq': 3, 'min_child_samples': 8}. Best is trial 17 with value: 0.888268156424581.\u001b[0m\n",
      "\u001b[32m[I 2021-12-20 20:02:30,281]\u001b[0m Trial 387 finished with value: 0.8156424581005587 and parameters: {'lambda_l1': 1.0316462442480807e-06, 'lambda_l2': 0.0032246935342924088, 'num_leaves': 86, 'feature_fraction': 0.8064046541169606, 'bagging_fraction': 0.943312275402994, 'bagging_freq': 3, 'min_child_samples': 33}. Best is trial 17 with value: 0.888268156424581.\u001b[0m\n",
      "\u001b[32m[I 2021-12-20 20:02:30,421]\u001b[0m Trial 388 finished with value: 0.8435754189944135 and parameters: {'lambda_l1': 3.7136351458444696e-07, 'lambda_l2': 0.00017027941040829113, 'num_leaves': 65, 'feature_fraction': 0.756357036372398, 'bagging_fraction': 0.964478109173984, 'bagging_freq': 3, 'min_child_samples': 21}. Best is trial 17 with value: 0.888268156424581.\u001b[0m\n",
      "\u001b[32m[I 2021-12-20 20:02:30,546]\u001b[0m Trial 389 finished with value: 0.8324022346368715 and parameters: {'lambda_l1': 7.375782233269009e-08, 'lambda_l2': 0.00011679770343018895, 'num_leaves': 168, 'feature_fraction': 0.8387227460121053, 'bagging_fraction': 0.5407130128746628, 'bagging_freq': 4, 'min_child_samples': 29}. Best is trial 17 with value: 0.888268156424581.\u001b[0m\n"
     ]
    },
    {
     "name": "stderr",
     "output_type": "stream",
     "text": [
      "\u001b[32m[I 2021-12-20 20:02:30,663]\u001b[0m Trial 390 finished with value: 0.8268156424581006 and parameters: {'lambda_l1': 2.2300542189297986e-08, 'lambda_l2': 0.00216413071597672, 'num_leaves': 182, 'feature_fraction': 0.7106651964256331, 'bagging_fraction': 0.7664877437093628, 'bagging_freq': 4, 'min_child_samples': 54}. Best is trial 17 with value: 0.888268156424581.\u001b[0m\n",
      "\u001b[32m[I 2021-12-20 20:02:30,798]\u001b[0m Trial 391 finished with value: 0.8715083798882681 and parameters: {'lambda_l1': 0.36636781452475886, 'lambda_l2': 0.0002999351287089939, 'num_leaves': 78, 'feature_fraction': 0.8844156399246916, 'bagging_fraction': 0.550525041894337, 'bagging_freq': 3, 'min_child_samples': 17}. Best is trial 17 with value: 0.888268156424581.\u001b[0m\n",
      "\u001b[32m[I 2021-12-20 20:02:30,937]\u001b[0m Trial 392 finished with value: 0.8324022346368715 and parameters: {'lambda_l1': 0.09121083757194702, 'lambda_l2': 0.0007420304882530056, 'num_leaves': 77, 'feature_fraction': 0.8832951106158187, 'bagging_fraction': 0.5644987633592997, 'bagging_freq': 2, 'min_child_samples': 16}. Best is trial 17 with value: 0.888268156424581.\u001b[0m\n",
      "\u001b[32m[I 2021-12-20 20:02:31,049]\u001b[0m Trial 393 finished with value: 0.8212290502793296 and parameters: {'lambda_l1': 0.3403851668733033, 'lambda_l2': 0.005473584792372619, 'num_leaves': 217, 'feature_fraction': 0.8865514538455435, 'bagging_fraction': 0.4823033322360194, 'bagging_freq': 3, 'min_child_samples': 61}. Best is trial 17 with value: 0.888268156424581.\u001b[0m\n",
      "\u001b[32m[I 2021-12-20 20:02:31,185]\u001b[0m Trial 394 finished with value: 0.8100558659217877 and parameters: {'lambda_l1': 4.813197926194317e-07, 'lambda_l2': 0.0004922007816166013, 'num_leaves': 135, 'feature_fraction': 0.8091349994756991, 'bagging_fraction': 0.9153577370934618, 'bagging_freq': 6, 'min_child_samples': 31}. Best is trial 17 with value: 0.888268156424581.\u001b[0m\n",
      "\u001b[32m[I 2021-12-20 20:02:31,307]\u001b[0m Trial 395 finished with value: 0.8044692737430168 and parameters: {'lambda_l1': 1.618690121359603e-06, 'lambda_l2': 0.0002954962289294035, 'num_leaves': 81, 'feature_fraction': 0.8635737447772226, 'bagging_fraction': 0.5857572046774379, 'bagging_freq': 3, 'min_child_samples': 27}. Best is trial 17 with value: 0.888268156424581.\u001b[0m\n",
      "\u001b[32m[I 2021-12-20 20:02:31,436]\u001b[0m Trial 396 finished with value: 0.8435754189944135 and parameters: {'lambda_l1': 5.80717156237777e-07, 'lambda_l2': 3.4858973294271e-06, 'num_leaves': 90, 'feature_fraction': 0.7734757087052082, 'bagging_fraction': 0.6052364586814104, 'bagging_freq': 3, 'min_child_samples': 24}. Best is trial 17 with value: 0.888268156424581.\u001b[0m\n",
      "\u001b[32m[I 2021-12-20 20:02:31,572]\u001b[0m Trial 397 finished with value: 0.8100558659217877 and parameters: {'lambda_l1': 0.01101778361120403, 'lambda_l2': 3.611849620222652e-05, 'num_leaves': 71, 'feature_fraction': 0.8515204711616783, 'bagging_fraction': 0.5450909818747062, 'bagging_freq': 4, 'min_child_samples': 18}. Best is trial 17 with value: 0.888268156424581.\u001b[0m\n",
      "\u001b[32m[I 2021-12-20 20:02:31,710]\u001b[0m Trial 398 finished with value: 0.7932960893854749 and parameters: {'lambda_l1': 0.15770091109425735, 'lambda_l2': 0.00011999780624349799, 'num_leaves': 191, 'feature_fraction': 0.9106316053644758, 'bagging_fraction': 0.5576509971659728, 'bagging_freq': 4, 'min_child_samples': 17}. Best is trial 17 with value: 0.888268156424581.\u001b[0m\n",
      "\u001b[32m[I 2021-12-20 20:02:31,831]\u001b[0m Trial 399 finished with value: 0.8435754189944135 and parameters: {'lambda_l1': 1.3435338968385833, 'lambda_l2': 4.354701383293001e-07, 'num_leaves': 159, 'feature_fraction': 0.7899019914164204, 'bagging_fraction': 0.8534718171984677, 'bagging_freq': 1, 'min_child_samples': 55}. Best is trial 17 with value: 0.888268156424581.\u001b[0m\n",
      "\u001b[32m[I 2021-12-20 20:02:31,955]\u001b[0m Trial 400 finished with value: 0.7932960893854749 and parameters: {'lambda_l1': 5.082273060624991e-08, 'lambda_l2': 0.0010891799210937876, 'num_leaves': 155, 'feature_fraction': 0.7990434699769479, 'bagging_fraction': 0.8980530716062002, 'bagging_freq': 2, 'min_child_samples': 52}. Best is trial 17 with value: 0.888268156424581.\u001b[0m\n",
      "\u001b[32m[I 2021-12-20 20:02:32,076]\u001b[0m Trial 401 finished with value: 0.8212290502793296 and parameters: {'lambda_l1': 0.21818609508723155, 'lambda_l2': 1.2710154521843261e-06, 'num_leaves': 99, 'feature_fraction': 0.8603851371593388, 'bagging_fraction': 0.5705579157663379, 'bagging_freq': 5, 'min_child_samples': 33}. Best is trial 17 with value: 0.888268156424581.\u001b[0m\n",
      "\u001b[32m[I 2021-12-20 20:02:32,198]\u001b[0m Trial 402 finished with value: 0.7932960893854749 and parameters: {'lambda_l1': 1.5579758842129276e-07, 'lambda_l2': 1.7246445028395642e-05, 'num_leaves': 79, 'feature_fraction': 0.6317593064807362, 'bagging_fraction': 0.6941651038833225, 'bagging_freq': 4, 'min_child_samples': 44}. Best is trial 17 with value: 0.888268156424581.\u001b[0m\n",
      "\u001b[32m[I 2021-12-20 20:02:32,322]\u001b[0m Trial 403 finished with value: 0.7541899441340782 and parameters: {'lambda_l1': 7.100279933031239e-07, 'lambda_l2': 0.00029334821840631845, 'num_leaves': 87, 'feature_fraction': 0.8946627003374714, 'bagging_fraction': 0.5052698757106288, 'bagging_freq': 3, 'min_child_samples': 30}. Best is trial 17 with value: 0.888268156424581.\u001b[0m\n",
      "\u001b[32m[I 2021-12-20 20:02:32,441]\u001b[0m Trial 404 finished with value: 0.8603351955307262 and parameters: {'lambda_l1': 6.895654150620983e-06, 'lambda_l2': 0.0002280399474011982, 'num_leaves': 228, 'feature_fraction': 0.8218697053594852, 'bagging_fraction': 0.9523666324280315, 'bagging_freq': 3, 'min_child_samples': 58}. Best is trial 17 with value: 0.888268156424581.\u001b[0m\n",
      "\u001b[32m[I 2021-12-20 20:02:32,591]\u001b[0m Trial 405 finished with value: 0.8156424581005587 and parameters: {'lambda_l1': 2.1897110127184816e-07, 'lambda_l2': 0.00015562788958702983, 'num_leaves': 83, 'feature_fraction': 0.7472256715241717, 'bagging_fraction': 0.9732548297501386, 'bagging_freq': 3, 'min_child_samples': 22}. Best is trial 17 with value: 0.888268156424581.\u001b[0m\n",
      "\u001b[32m[I 2021-12-20 20:02:32,720]\u001b[0m Trial 406 finished with value: 0.8659217877094972 and parameters: {'lambda_l1': 0.04382110128663103, 'lambda_l2': 5.287417541910427e-06, 'num_leaves': 68, 'feature_fraction': 0.7237960417827394, 'bagging_fraction': 0.8957215799365975, 'bagging_freq': 4, 'min_child_samples': 42}. Best is trial 17 with value: 0.888268156424581.\u001b[0m\n",
      "\u001b[32m[I 2021-12-20 20:02:32,847]\u001b[0m Trial 407 finished with value: 0.8435754189944135 and parameters: {'lambda_l1': 3.134417884742099e-07, 'lambda_l2': 2.267160980796343e-06, 'num_leaves': 59, 'feature_fraction': 0.7363014475564257, 'bagging_fraction': 0.9273207124546501, 'bagging_freq': 4, 'min_child_samples': 42}. Best is trial 17 with value: 0.888268156424581.\u001b[0m\n",
      "\u001b[32m[I 2021-12-20 20:02:32,973]\u001b[0m Trial 408 finished with value: 0.8379888268156425 and parameters: {'lambda_l1': 6.356983824107925e-06, 'lambda_l2': 4.983462804717833e-06, 'num_leaves': 67, 'feature_fraction': 0.7362574557978862, 'bagging_fraction': 0.948669657697414, 'bagging_freq': 3, 'min_child_samples': 59}. Best is trial 17 with value: 0.888268156424581.\u001b[0m\n",
      "\u001b[32m[I 2021-12-20 20:02:33,099]\u001b[0m Trial 409 finished with value: 0.8603351955307262 and parameters: {'lambda_l1': 0.47169355705710053, 'lambda_l2': 6.965450864796575e-06, 'num_leaves': 70, 'feature_fraction': 0.7071931845620588, 'bagging_fraction': 0.8837013958745219, 'bagging_freq': 4, 'min_child_samples': 40}. Best is trial 17 with value: 0.888268156424581.\u001b[0m\n",
      "\u001b[32m[I 2021-12-20 20:02:33,221]\u001b[0m Trial 410 finished with value: 0.8547486033519553 and parameters: {'lambda_l1': 0.04268714663956636, 'lambda_l2': 3.1215593763609393e-06, 'num_leaves': 54, 'feature_fraction': 0.8810736979421341, 'bagging_fraction': 0.5323849006553266, 'bagging_freq': 3, 'min_child_samples': 37}. Best is trial 17 with value: 0.888268156424581.\u001b[0m\n",
      "\u001b[32m[I 2021-12-20 20:02:33,332]\u001b[0m Trial 411 finished with value: 0.8379888268156425 and parameters: {'lambda_l1': 9.200457828095695e-08, 'lambda_l2': 0.0005724394953932138, 'num_leaves': 63, 'feature_fraction': 0.6769244071014595, 'bagging_fraction': 0.7967644097642541, 'bagging_freq': 4, 'min_child_samples': 49}. Best is trial 17 with value: 0.888268156424581.\u001b[0m\n",
      "\u001b[32m[I 2021-12-20 20:02:33,451]\u001b[0m Trial 412 finished with value: 0.8100558659217877 and parameters: {'lambda_l1': 1.1165141022770836e-05, 'lambda_l2': 0.00023499042488040888, 'num_leaves': 235, 'feature_fraction': 0.8410348255216972, 'bagging_fraction': 0.9203971770092613, 'bagging_freq': 3, 'min_child_samples': 63}. Best is trial 17 with value: 0.888268156424581.\u001b[0m\n"
     ]
    },
    {
     "name": "stderr",
     "output_type": "stream",
     "text": [
      "\u001b[32m[I 2021-12-20 20:02:33,565]\u001b[0m Trial 413 finished with value: 0.8435754189944135 and parameters: {'lambda_l1': 4.36742940321036e-07, 'lambda_l2': 6.665365794372538e-06, 'num_leaves': 73, 'feature_fraction': 0.9019313544779276, 'bagging_fraction': 0.4772319349815054, 'bagging_freq': 4, 'min_child_samples': 55}. Best is trial 17 with value: 0.888268156424581.\u001b[0m\n",
      "\u001b[32m[I 2021-12-20 20:02:33,679]\u001b[0m Trial 414 finished with value: 0.8603351955307262 and parameters: {'lambda_l1': 9.048570757454666, 'lambda_l2': 0.0003955802445810544, 'num_leaves': 76, 'feature_fraction': 0.7242652519256954, 'bagging_fraction': 0.929405114278819, 'bagging_freq': 4, 'min_child_samples': 35}. Best is trial 17 with value: 0.888268156424581.\u001b[0m\n",
      "\u001b[32m[I 2021-12-20 20:02:33,822]\u001b[0m Trial 415 finished with value: 0.7988826815642458 and parameters: {'lambda_l1': 2.5886602136788844e-07, 'lambda_l2': 6.91267266562612e-05, 'num_leaves': 183, 'feature_fraction': 0.7223036072004969, 'bagging_fraction': 0.8987390194584477, 'bagging_freq': 4, 'min_child_samples': 23}. Best is trial 17 with value: 0.888268156424581.\u001b[0m\n",
      "\u001b[32m[I 2021-12-20 20:02:33,949]\u001b[0m Trial 416 finished with value: 0.7988826815642458 and parameters: {'lambda_l1': 1.6160749077758895e-07, 'lambda_l2': 0.0007254221046471189, 'num_leaves': 65, 'feature_fraction': 0.7269049483703762, 'bagging_fraction': 0.8988218314420174, 'bagging_freq': 4, 'min_child_samples': 51}. Best is trial 17 with value: 0.888268156424581.\u001b[0m\n",
      "\u001b[32m[I 2021-12-20 20:02:34,072]\u001b[0m Trial 417 finished with value: 0.7988826815642458 and parameters: {'lambda_l1': 0.07124813368152728, 'lambda_l2': 6.159669093615162e-05, 'num_leaves': 72, 'feature_fraction': 0.6086355979217323, 'bagging_fraction': 0.7071031368780124, 'bagging_freq': 4, 'min_child_samples': 44}. Best is trial 17 with value: 0.888268156424581.\u001b[0m\n",
      "\u001b[32m[I 2021-12-20 20:02:34,196]\u001b[0m Trial 418 finished with value: 0.8491620111731844 and parameters: {'lambda_l1': 0.016261247390202026, 'lambda_l2': 4.102302397137271e-06, 'num_leaves': 249, 'feature_fraction': 0.7168370512172084, 'bagging_fraction': 0.6298778729782856, 'bagging_freq': 4, 'min_child_samples': 42}. Best is trial 17 with value: 0.888268156424581.\u001b[0m\n",
      "\u001b[32m[I 2021-12-20 20:02:34,334]\u001b[0m Trial 419 finished with value: 0.8212290502793296 and parameters: {'lambda_l1': 8.922327123905648e-07, 'lambda_l2': 0.003191057671065812, 'num_leaves': 104, 'feature_fraction': 0.8157911851565577, 'bagging_fraction': 0.9122832058911987, 'bagging_freq': 5, 'min_child_samples': 32}. Best is trial 17 with value: 0.888268156424581.\u001b[0m\n",
      "\u001b[32m[I 2021-12-20 20:02:34,457]\u001b[0m Trial 420 finished with value: 0.7988826815642458 and parameters: {'lambda_l1': 2.8610863123078036e-06, 'lambda_l2': 0.03872558783048065, 'num_leaves': 229, 'feature_fraction': 0.7444553786369493, 'bagging_fraction': 0.8313587573969794, 'bagging_freq': 4, 'min_child_samples': 57}. Best is trial 17 with value: 0.888268156424581.\u001b[0m\n",
      "\u001b[32m[I 2021-12-20 20:02:34,579]\u001b[0m Trial 421 finished with value: 0.8212290502793296 and parameters: {'lambda_l1': 4.877284109014052e-07, 'lambda_l2': 0.1341164205924343, 'num_leaves': 60, 'feature_fraction': 0.6964592870584377, 'bagging_fraction': 0.8611145537828634, 'bagging_freq': 4, 'min_child_samples': 56}. Best is trial 17 with value: 0.888268156424581.\u001b[0m\n",
      "\u001b[32m[I 2021-12-20 20:02:34,703]\u001b[0m Trial 422 finished with value: 0.8491620111731844 and parameters: {'lambda_l1': 1.5239811770606462e-06, 'lambda_l2': 3.203328202090171e-08, 'num_leaves': 124, 'feature_fraction': 0.8333470318939095, 'bagging_fraction': 0.896319190033251, 'bagging_freq': 4, 'min_child_samples': 54}. Best is trial 17 with value: 0.888268156424581.\u001b[0m\n",
      "\u001b[32m[I 2021-12-20 20:02:34,822]\u001b[0m Trial 423 finished with value: 0.8100558659217877 and parameters: {'lambda_l1': 0.036248831477079954, 'lambda_l2': 5.500538280975159e-06, 'num_leaves': 82, 'feature_fraction': 0.9082201187117477, 'bagging_fraction': 0.48395817306168903, 'bagging_freq': 4, 'min_child_samples': 49}. Best is trial 17 with value: 0.888268156424581.\u001b[0m\n",
      "\u001b[32m[I 2021-12-20 20:02:34,950]\u001b[0m Trial 424 finished with value: 0.8379888268156425 and parameters: {'lambda_l1': 1.4046546089927601e-08, 'lambda_l2': 1.4989576746206336e-07, 'num_leaves': 143, 'feature_fraction': 0.7594248355174597, 'bagging_fraction': 0.8819427324410756, 'bagging_freq': 2, 'min_child_samples': 52}. Best is trial 17 with value: 0.888268156424581.\u001b[0m\n",
      "\u001b[32m[I 2021-12-20 20:02:35,088]\u001b[0m Trial 425 finished with value: 0.8379888268156425 and parameters: {'lambda_l1': 0.0930352449085121, 'lambda_l2': 0.0001339007944561309, 'num_leaves': 48, 'feature_fraction': 0.8752525246170766, 'bagging_fraction': 0.5447520391758467, 'bagging_freq': 4, 'min_child_samples': 16}. Best is trial 17 with value: 0.888268156424581.\u001b[0m\n",
      "\u001b[32m[I 2021-12-20 20:02:35,218]\u001b[0m Trial 426 finished with value: 0.8044692737430168 and parameters: {'lambda_l1': 3.6659811473337404e-07, 'lambda_l2': 0.00031095962245304237, 'num_leaves': 172, 'feature_fraction': 0.8254802793414605, 'bagging_fraction': 0.5263592341001819, 'bagging_freq': 4, 'min_child_samples': 25}. Best is trial 17 with value: 0.888268156424581.\u001b[0m\n",
      "\u001b[32m[I 2021-12-20 20:02:35,343]\u001b[0m Trial 427 finished with value: 0.888268156424581 and parameters: {'lambda_l1': 8.168392543546802e-07, 'lambda_l2': 2.1633459323990676e-06, 'num_leaves': 93, 'feature_fraction': 0.8037002557803978, 'bagging_fraction': 0.912402525041355, 'bagging_freq': 6, 'min_child_samples': 30}. Best is trial 17 with value: 0.888268156424581.\u001b[0m\n",
      "\u001b[32m[I 2021-12-20 20:02:35,467]\u001b[0m Trial 428 finished with value: 0.8435754189944135 and parameters: {'lambda_l1': 7.30692427189265e-07, 'lambda_l2': 2.054479166208589e-06, 'num_leaves': 119, 'feature_fraction': 0.7974668669956696, 'bagging_fraction': 0.4545782720448958, 'bagging_freq': 6, 'min_child_samples': 28}. Best is trial 17 with value: 0.888268156424581.\u001b[0m\n",
      "\u001b[32m[I 2021-12-20 20:02:35,611]\u001b[0m Trial 429 finished with value: 0.8435754189944135 and parameters: {'lambda_l1': 1.0524295962954363e-07, 'lambda_l2': 9.253991411014689e-07, 'num_leaves': 91, 'feature_fraction': 0.780343584341368, 'bagging_fraction': 0.9320793898270612, 'bagging_freq': 6, 'min_child_samples': 30}. Best is trial 17 with value: 0.888268156424581.\u001b[0m\n",
      "\u001b[32m[I 2021-12-20 20:02:35,749]\u001b[0m Trial 430 finished with value: 0.8268156424581006 and parameters: {'lambda_l1': 5.201606954543443e-07, 'lambda_l2': 3.052863940698304e-06, 'num_leaves': 86, 'feature_fraction': 0.7326892154812312, 'bagging_fraction': 0.9211335381103045, 'bagging_freq': 6, 'min_child_samples': 30}. Best is trial 17 with value: 0.888268156424581.\u001b[0m\n",
      "\u001b[32m[I 2021-12-20 20:02:35,905]\u001b[0m Trial 431 finished with value: 0.7430167597765364 and parameters: {'lambda_l1': 0.00020452701375036177, 'lambda_l2': 3.0421239992007273e-06, 'num_leaves': 93, 'feature_fraction': 0.7642920686282535, 'bagging_fraction': 0.911200914155945, 'bagging_freq': 6, 'min_child_samples': 19}. Best is trial 17 with value: 0.888268156424581.\u001b[0m\n",
      "\u001b[32m[I 2021-12-20 20:02:36,045]\u001b[0m Trial 432 finished with value: 0.7988826815642458 and parameters: {'lambda_l1': 5.232821183153636e-08, 'lambda_l2': 1.4057694548242608e-06, 'num_leaves': 79, 'feature_fraction': 0.785107847649636, 'bagging_fraction': 0.8907038224059458, 'bagging_freq': 6, 'min_child_samples': 29}. Best is trial 17 with value: 0.888268156424581.\u001b[0m\n",
      "\u001b[32m[I 2021-12-20 20:02:36,165]\u001b[0m Trial 433 finished with value: 0.8268156424581006 and parameters: {'lambda_l1': 8.268828781036711e-07, 'lambda_l2': 1.8240348119187171e-06, 'num_leaves': 71, 'feature_fraction': 0.8015445339491641, 'bagging_fraction': 0.9076984366671259, 'bagging_freq': 6, 'min_child_samples': 84}. Best is trial 17 with value: 0.888268156424581.\u001b[0m\n",
      "\u001b[32m[I 2021-12-20 20:02:36,299]\u001b[0m Trial 434 finished with value: 0.8491620111731844 and parameters: {'lambda_l1': 2.0730992846398792e-07, 'lambda_l2': 3.988594604011504e-06, 'num_leaves': 78, 'feature_fraction': 0.8520062656008032, 'bagging_fraction': 0.9339117162478328, 'bagging_freq': 4, 'min_child_samples': 35}. Best is trial 17 with value: 0.888268156424581.\u001b[0m\n",
      "\u001b[32m[I 2021-12-20 20:02:36,433]\u001b[0m Trial 435 finished with value: 0.7932960893854749 and parameters: {'lambda_l1': 5.809722640897139e-07, 'lambda_l2': 8.318575525803307e-06, 'num_leaves': 179, 'feature_fraction': 0.5294526702351943, 'bagging_fraction': 0.9213387486236614, 'bagging_freq': 4, 'min_child_samples': 38}. Best is trial 17 with value: 0.888268156424581.\u001b[0m\n"
     ]
    },
    {
     "name": "stderr",
     "output_type": "stream",
     "text": [
      "\u001b[32m[I 2021-12-20 20:02:36,577]\u001b[0m Trial 436 finished with value: 0.8435754189944135 and parameters: {'lambda_l1': 0.000605884798371405, 'lambda_l2': 2.6496406072321705e-06, 'num_leaves': 66, 'feature_fraction': 0.8124223446750438, 'bagging_fraction': 0.9124097758072496, 'bagging_freq': 6, 'min_child_samples': 25}. Best is trial 17 with value: 0.888268156424581.\u001b[0m\n",
      "\u001b[32m[I 2021-12-20 20:02:36,701]\u001b[0m Trial 437 finished with value: 0.8379888268156425 and parameters: {'lambda_l1': 0.002153458187473171, 'lambda_l2': 5.115359260700204e-06, 'num_leaves': 243, 'feature_fraction': 0.7479499961700993, 'bagging_fraction': 0.46652896785425385, 'bagging_freq': 6, 'min_child_samples': 27}. Best is trial 17 with value: 0.888268156424581.\u001b[0m\n",
      "\u001b[32m[I 2021-12-20 20:02:36,842]\u001b[0m Trial 438 finished with value: 0.8100558659217877 and parameters: {'lambda_l1': 3.0725901037491115e-07, 'lambda_l2': 2.6954269651937525e-07, 'num_leaves': 96, 'feature_fraction': 0.7754684872599384, 'bagging_fraction': 0.9370600834636924, 'bagging_freq': 6, 'min_child_samples': 32}. Best is trial 17 with value: 0.888268156424581.\u001b[0m\n",
      "\u001b[32m[I 2021-12-20 20:02:36,978]\u001b[0m Trial 439 finished with value: 0.8770949720670391 and parameters: {'lambda_l1': 1.4350864213665362e-06, 'lambda_l2': 8.029375137690154e-06, 'num_leaves': 111, 'feature_fraction': 0.7942122291841774, 'bagging_fraction': 0.8942105622630058, 'bagging_freq': 3, 'min_child_samples': 41}. Best is trial 17 with value: 0.888268156424581.\u001b[0m\n",
      "\u001b[32m[I 2021-12-20 20:02:37,111]\u001b[0m Trial 440 finished with value: 0.8435754189944135 and parameters: {'lambda_l1': 2.01064908628994e-06, 'lambda_l2': 9.234701748581833e-06, 'num_leaves': 123, 'feature_fraction': 0.7859705070566403, 'bagging_fraction': 0.8907317422782299, 'bagging_freq': 3, 'min_child_samples': 39}. Best is trial 17 with value: 0.888268156424581.\u001b[0m\n",
      "\u001b[32m[I 2021-12-20 20:02:37,246]\u001b[0m Trial 441 finished with value: 0.8268156424581006 and parameters: {'lambda_l1': 1.2186712502160514e-06, 'lambda_l2': 9.762478911159284e-06, 'num_leaves': 129, 'feature_fraction': 0.7984597192497132, 'bagging_fraction': 0.8993235932316627, 'bagging_freq': 3, 'min_child_samples': 41}. Best is trial 17 with value: 0.888268156424581.\u001b[0m\n",
      "\u001b[32m[I 2021-12-20 20:02:37,357]\u001b[0m Trial 442 finished with value: 0.8435754189944135 and parameters: {'lambda_l1': 1.6035697685280069e-06, 'lambda_l2': 6.309637490626897e-06, 'num_leaves': 117, 'feature_fraction': 0.7659214967560019, 'bagging_fraction': 0.7293372439699578, 'bagging_freq': 2, 'min_child_samples': 40}. Best is trial 17 with value: 0.888268156424581.\u001b[0m\n",
      "\u001b[32m[I 2021-12-20 20:02:37,494]\u001b[0m Trial 443 finished with value: 0.8435754189944135 and parameters: {'lambda_l1': 1.044981738855725e-06, 'lambda_l2': 9.945409229394987e-05, 'num_leaves': 131, 'feature_fraction': 0.7915323816961244, 'bagging_fraction': 0.9070454484568062, 'bagging_freq': 3, 'min_child_samples': 36}. Best is trial 17 with value: 0.888268156424581.\u001b[0m\n",
      "\u001b[32m[I 2021-12-20 20:02:37,628]\u001b[0m Trial 444 finished with value: 0.8212290502793296 and parameters: {'lambda_l1': 7.935477416222886e-07, 'lambda_l2': 0.00017959386592233912, 'num_leaves': 116, 'feature_fraction': 0.802367141045408, 'bagging_fraction': 0.8918101352212414, 'bagging_freq': 3, 'min_child_samples': 34}. Best is trial 17 with value: 0.888268156424581.\u001b[0m\n",
      "\u001b[32m[I 2021-12-20 20:02:37,747]\u001b[0m Trial 445 finished with value: 0.776536312849162 and parameters: {'lambda_l1': 6.841825826793215e-08, 'lambda_l2': 0.2303486512524145, 'num_leaves': 78, 'feature_fraction': 0.7029919096552912, 'bagging_fraction': 0.49549234635206557, 'bagging_freq': 3, 'min_child_samples': 41}. Best is trial 17 with value: 0.888268156424581.\u001b[0m\n",
      "\u001b[32m[I 2021-12-20 20:02:37,903]\u001b[0m Trial 446 finished with value: 0.776536312849162 and parameters: {'lambda_l1': 5.822437896562337e-07, 'lambda_l2': 1.2826851175477293e-06, 'num_leaves': 73, 'feature_fraction': 0.8096523764929915, 'bagging_fraction': 0.9188621822162345, 'bagging_freq': 3, 'min_child_samples': 20}. Best is trial 17 with value: 0.888268156424581.\u001b[0m\n",
      "\u001b[32m[I 2021-12-20 20:02:38,027]\u001b[0m Trial 447 finished with value: 0.8100558659217877 and parameters: {'lambda_l1': 1.6880496970810904e-07, 'lambda_l2': 6.792704305827968e-07, 'num_leaves': 110, 'feature_fraction': 0.9168743694614819, 'bagging_fraction': 0.44557365966878265, 'bagging_freq': 3, 'min_child_samples': 44}. Best is trial 17 with value: 0.888268156424581.\u001b[0m\n",
      "\u001b[32m[I 2021-12-20 20:02:38,146]\u001b[0m Trial 448 finished with value: 0.8212290502793296 and parameters: {'lambda_l1': 4.0348924672806165e-07, 'lambda_l2': 4.084667626210544e-06, 'num_leaves': 105, 'feature_fraction': 0.7600099278154618, 'bagging_fraction': 0.5804106690872544, 'bagging_freq': 3, 'min_child_samples': 60}. Best is trial 17 with value: 0.888268156424581.\u001b[0m\n",
      "\u001b[32m[I 2021-12-20 20:02:38,278]\u001b[0m Trial 449 finished with value: 0.8324022346368715 and parameters: {'lambda_l1': 1.1073885335783921e-07, 'lambda_l2': 1.5948321500190067e-05, 'num_leaves': 82, 'feature_fraction': 0.7387756322177014, 'bagging_fraction': 0.9456977085743741, 'bagging_freq': 4, 'min_child_samples': 46}. Best is trial 17 with value: 0.888268156424581.\u001b[0m\n",
      "\u001b[32m[I 2021-12-20 20:02:38,416]\u001b[0m Trial 450 finished with value: 0.8379888268156425 and parameters: {'lambda_l1': 1.3952644533451949e-06, 'lambda_l2': 0.0004299386333423754, 'num_leaves': 103, 'feature_fraction': 0.778840204432703, 'bagging_fraction': 0.9272990578717839, 'bagging_freq': 3, 'min_child_samples': 30}. Best is trial 17 with value: 0.888268156424581.\u001b[0m\n",
      "\u001b[32m[I 2021-12-20 20:02:38,552]\u001b[0m Trial 451 finished with value: 0.8156424581005587 and parameters: {'lambda_l1': 2.983619909380608e-07, 'lambda_l2': 7.531023741953417e-06, 'num_leaves': 89, 'feature_fraction': 0.8906960177474527, 'bagging_fraction': 0.8855151114942748, 'bagging_freq': 4, 'min_child_samples': 37}. Best is trial 17 with value: 0.888268156424581.\u001b[0m\n",
      "\u001b[32m[I 2021-12-20 20:02:38,680]\u001b[0m Trial 452 finished with value: 0.8547486033519553 and parameters: {'lambda_l1': 8.433225281131535e-07, 'lambda_l2': 0.00021855325161594278, 'num_leaves': 140, 'feature_fraction': 0.820216484656596, 'bagging_fraction': 0.604660335777125, 'bagging_freq': 5, 'min_child_samples': 28}. Best is trial 17 with value: 0.888268156424581.\u001b[0m\n",
      "\u001b[32m[I 2021-12-20 20:02:38,805]\u001b[0m Trial 453 finished with value: 0.8379888268156425 and parameters: {'lambda_l1': 4.3535610464917595e-07, 'lambda_l2': 2.0971847577561265e-06, 'num_leaves': 96, 'feature_fraction': 0.7696876025162601, 'bagging_fraction': 0.4602053096261296, 'bagging_freq': 4, 'min_child_samples': 42}. Best is trial 17 with value: 0.888268156424581.\u001b[0m\n",
      "\u001b[32m[I 2021-12-20 20:02:38,937]\u001b[0m Trial 454 finished with value: 0.8324022346368715 and parameters: {'lambda_l1': 6.13199416514659e-07, 'lambda_l2': 0.4662568090935354, 'num_leaves': 109, 'feature_fraction': 0.8417918802893566, 'bagging_fraction': 0.5565762976628914, 'bagging_freq': 3, 'min_child_samples': 23}. Best is trial 17 with value: 0.888268156424581.\u001b[0m\n",
      "\u001b[32m[I 2021-12-20 20:02:39,075]\u001b[0m Trial 455 finished with value: 0.8268156424581006 and parameters: {'lambda_l1': 2.9991119345085506e-08, 'lambda_l2': 0.001153836370934701, 'num_leaves': 68, 'feature_fraction': 0.7969256432029376, 'bagging_fraction': 0.9046175067854022, 'bagging_freq': 4, 'min_child_samples': 32}. Best is trial 17 with value: 0.888268156424581.\u001b[0m\n",
      "\u001b[32m[I 2021-12-20 20:02:39,208]\u001b[0m Trial 456 finished with value: 0.8435754189944135 and parameters: {'lambda_l1': 1.976311046013761e-06, 'lambda_l2': 4.177643352792433e-06, 'num_leaves': 91, 'feature_fraction': 0.8626982212890575, 'bagging_fraction': 0.9204816659375495, 'bagging_freq': 4, 'min_child_samples': 39}. Best is trial 17 with value: 0.888268156424581.\u001b[0m\n",
      "\u001b[32m[I 2021-12-20 20:02:39,348]\u001b[0m Trial 457 finished with value: 0.8491620111731844 and parameters: {'lambda_l1': 0.0038916229618818424, 'lambda_l2': 2.916828338712341e-06, 'num_leaves': 100, 'feature_fraction': 0.7237005740959336, 'bagging_fraction': 0.9023745699377469, 'bagging_freq': 3, 'min_child_samples': 26}. Best is trial 17 with value: 0.888268156424581.\u001b[0m\n",
      "\u001b[32m[I 2021-12-20 20:02:39,476]\u001b[0m Trial 458 finished with value: 0.8435754189944135 and parameters: {'lambda_l1': 2.712261263436511e-07, 'lambda_l2': 5.124653319374122e-07, 'num_leaves': 92, 'feature_fraction': 0.7812356199187791, 'bagging_fraction': 0.5082769887966417, 'bagging_freq': 4, 'min_child_samples': 29}. Best is trial 17 with value: 0.888268156424581.\u001b[0m\n"
     ]
    },
    {
     "name": "stderr",
     "output_type": "stream",
     "text": [
      "\u001b[32m[I 2021-12-20 20:02:39,606]\u001b[0m Trial 459 finished with value: 0.8379888268156425 and parameters: {'lambda_l1': 0.00010171014928404067, 'lambda_l2': 1.1360845569899953e-05, 'num_leaves': 86, 'feature_fraction': 0.7456549720164745, 'bagging_fraction': 0.4288776820729634, 'bagging_freq': 3, 'min_child_samples': 21}. Best is trial 17 with value: 0.888268156424581.\u001b[0m\n",
      "\u001b[32m[I 2021-12-20 20:02:39,732]\u001b[0m Trial 460 finished with value: 0.8100558659217877 and parameters: {'lambda_l1': 1.02900334551704, 'lambda_l2': 0.06864412016981603, 'num_leaves': 135, 'feature_fraction': 0.8234304557773252, 'bagging_fraction': 0.888822171459236, 'bagging_freq': 6, 'min_child_samples': 57}. Best is trial 17 with value: 0.888268156424581.\u001b[0m\n",
      "\u001b[32m[I 2021-12-20 20:02:39,869]\u001b[0m Trial 461 finished with value: 0.8435754189944135 and parameters: {'lambda_l1': 8.810843234797962e-07, 'lambda_l2': 6.951382860404754e-06, 'num_leaves': 180, 'feature_fraction': 0.7552201956012419, 'bagging_fraction': 0.8742055191971863, 'bagging_freq': 2, 'min_child_samples': 43}. Best is trial 17 with value: 0.888268156424581.\u001b[0m\n",
      "\u001b[32m[I 2021-12-20 20:02:40,011]\u001b[0m Trial 462 finished with value: 0.8324022346368715 and parameters: {'lambda_l1': 5.41764314062036e-07, 'lambda_l2': 0.00010459425877245092, 'num_leaves': 113, 'feature_fraction': 0.40218255964896227, 'bagging_fraction': 0.9486574558440157, 'bagging_freq': 3, 'min_child_samples': 34}. Best is trial 17 with value: 0.888268156424581.\u001b[0m\n",
      "\u001b[32m[I 2021-12-20 20:02:40,136]\u001b[0m Trial 463 finished with value: 0.8212290502793296 and parameters: {'lambda_l1': 4.414505044058925e-08, 'lambda_l2': 0.0002852325723066432, 'num_leaves': 74, 'feature_fraction': 0.5778272278752766, 'bagging_fraction': 0.40067037322045085, 'bagging_freq': 4, 'min_child_samples': 27}. Best is trial 17 with value: 0.888268156424581.\u001b[0m\n",
      "\u001b[32m[I 2021-12-20 20:02:40,282]\u001b[0m Trial 464 finished with value: 0.8379888268156425 and parameters: {'lambda_l1': 1.2358724291867728e-07, 'lambda_l2': 0.0004943473627868563, 'num_leaves': 86, 'feature_fraction': 0.8069525626095099, 'bagging_fraction': 0.4907439682493626, 'bagging_freq': 3, 'min_child_samples': 18}. Best is trial 17 with value: 0.888268156424581.\u001b[0m\n",
      "\u001b[32m[I 2021-12-20 20:02:40,420]\u001b[0m Trial 465 finished with value: 0.776536312849162 and parameters: {'lambda_l1': 2.0836700525855786e-07, 'lambda_l2': 0.00018071052290509628, 'num_leaves': 84, 'feature_fraction': 0.730671532113297, 'bagging_fraction': 0.9129216709029767, 'bagging_freq': 4, 'min_child_samples': 24}. Best is trial 17 with value: 0.888268156424581.\u001b[0m\n",
      "\u001b[32m[I 2021-12-20 20:02:40,562]\u001b[0m Trial 466 finished with value: 0.8770949720670391 and parameters: {'lambda_l1': 3.6431718369146986e-07, 'lambda_l2': 0.0003611913761350979, 'num_leaves': 165, 'feature_fraction': 0.7888854820737061, 'bagging_fraction': 0.930199104465061, 'bagging_freq': 3, 'min_child_samples': 32}. Best is trial 17 with value: 0.888268156424581.\u001b[0m\n",
      "\u001b[32m[I 2021-12-20 20:02:40,699]\u001b[0m Trial 467 finished with value: 0.8268156424581006 and parameters: {'lambda_l1': 1.2786667667813147e-06, 'lambda_l2': 0.0007767315468765583, 'num_leaves': 165, 'feature_fraction': 0.7834748558641248, 'bagging_fraction': 0.8995272707704325, 'bagging_freq': 3, 'min_child_samples': 36}. Best is trial 17 with value: 0.888268156424581.\u001b[0m\n",
      "\u001b[32m[I 2021-12-20 20:02:40,850]\u001b[0m Trial 468 finished with value: 0.8100558659217877 and parameters: {'lambda_l1': 6.408905593490494e-07, 'lambda_l2': 0.0003456456441972144, 'num_leaves': 167, 'feature_fraction': 0.7921856475611136, 'bagging_fraction': 0.9338314924828556, 'bagging_freq': 3, 'min_child_samples': 30}. Best is trial 17 with value: 0.888268156424581.\u001b[0m\n",
      "\u001b[32m[I 2021-12-20 20:02:40,978]\u001b[0m Trial 469 finished with value: 0.8044692737430168 and parameters: {'lambda_l1': 3.656303050043232e-07, 'lambda_l2': 5.055420678624825e-06, 'num_leaves': 161, 'feature_fraction': 0.7710611940941384, 'bagging_fraction': 0.5155188751819643, 'bagging_freq': 3, 'min_child_samples': 38}. Best is trial 17 with value: 0.888268156424581.\u001b[0m\n",
      "\u001b[32m[I 2021-12-20 20:02:41,121]\u001b[0m Trial 470 finished with value: 0.8379888268156425 and parameters: {'lambda_l1': 5.49133031348165e-07, 'lambda_l2': 0.00015703299631885303, 'num_leaves': 178, 'feature_fraction': 0.8271733591176729, 'bagging_fraction': 0.9392862835799091, 'bagging_freq': 4, 'min_child_samples': 33}. Best is trial 17 with value: 0.888268156424581.\u001b[0m\n",
      "\u001b[32m[I 2021-12-20 20:02:41,266]\u001b[0m Trial 471 finished with value: 0.8044692737430168 and parameters: {'lambda_l1': 8.535260595418246e-07, 'lambda_l2': 0.00044043100928952913, 'num_leaves': 170, 'feature_fraction': 0.7910722252971354, 'bagging_fraction': 0.9233875846625741, 'bagging_freq': 3, 'min_child_samples': 31}. Best is trial 17 with value: 0.888268156424581.\u001b[0m\n",
      "\u001b[32m[I 2021-12-20 20:02:41,394]\u001b[0m Trial 472 finished with value: 0.8491620111731844 and parameters: {'lambda_l1': 4.895347715283004e-05, 'lambda_l2': 1.3741505699974954e-05, 'num_leaves': 174, 'feature_fraction': 0.7640541341726051, 'bagging_fraction': 0.9562766412674936, 'bagging_freq': 3, 'min_child_samples': 70}. Best is trial 17 with value: 0.888268156424581.\u001b[0m\n",
      "\u001b[32m[I 2021-12-20 20:02:41,531]\u001b[0m Trial 473 finished with value: 0.8603351955307262 and parameters: {'lambda_l1': 4.331209657271842e-07, 'lambda_l2': 8.306446763061284e-07, 'num_leaves': 149, 'feature_fraction': 0.889558582387494, 'bagging_fraction': 0.7531512954388022, 'bagging_freq': 2, 'min_child_samples': 32}. Best is trial 17 with value: 0.888268156424581.\u001b[0m\n",
      "\u001b[32m[I 2021-12-20 20:02:41,664]\u001b[0m Trial 474 finished with value: 0.8547486033519553 and parameters: {'lambda_l1': 2.2647653190803252e-07, 'lambda_l2': 2.4569485566951042e-05, 'num_leaves': 59, 'feature_fraction': 0.8754803058360625, 'bagging_fraction': 0.9596000196105607, 'bagging_freq': 4, 'min_child_samples': 42}. Best is trial 17 with value: 0.888268156424581.\u001b[0m\n",
      "\u001b[32m[I 2021-12-20 20:02:41,796]\u001b[0m Trial 475 finished with value: 0.8212290502793296 and parameters: {'lambda_l1': 2.7227152705801646e-05, 'lambda_l2': 8.058157610613644e-05, 'num_leaves': 166, 'feature_fraction': 0.783451476597103, 'bagging_fraction': 0.9429268708441726, 'bagging_freq': 3, 'min_child_samples': 53}. Best is trial 17 with value: 0.888268156424581.\u001b[0m\n",
      "\u001b[32m[I 2021-12-20 20:02:41,927]\u001b[0m Trial 476 finished with value: 0.8491620111731844 and parameters: {'lambda_l1': 3.8045095467945337e-07, 'lambda_l2': 0.000257577901216185, 'num_leaves': 161, 'feature_fraction': 0.7741093212994488, 'bagging_fraction': 0.4750259227205613, 'bagging_freq': 3, 'min_child_samples': 24}. Best is trial 17 with value: 0.888268156424581.\u001b[0m\n",
      "\u001b[32m[I 2021-12-20 20:02:42,071]\u001b[0m Trial 477 finished with value: 0.8212290502793296 and parameters: {'lambda_l1': 9.891950388451546e-08, 'lambda_l2': 0.00023893837505984205, 'num_leaves': 184, 'feature_fraction': 0.8495329620387712, 'bagging_fraction': 0.9130598910152903, 'bagging_freq': 6, 'min_child_samples': 30}. Best is trial 17 with value: 0.888268156424581.\u001b[0m\n",
      "\u001b[32m[I 2021-12-20 20:02:42,197]\u001b[0m Trial 478 finished with value: 0.7541899441340782 and parameters: {'lambda_l1': 7.244499626106451e-08, 'lambda_l2': 2.4908377887788995e-06, 'num_leaves': 186, 'feature_fraction': 0.7501782848942622, 'bagging_fraction': 0.5356805160833902, 'bagging_freq': 3, 'min_child_samples': 46}. Best is trial 17 with value: 0.888268156424581.\u001b[0m\n",
      "\u001b[32m[I 2021-12-20 20:02:42,330]\u001b[0m Trial 479 finished with value: 0.8100558659217877 and parameters: {'lambda_l1': 0.4025300069160043, 'lambda_l2': 1.6254372431270753e-06, 'num_leaves': 214, 'feature_fraction': 0.9245913018733942, 'bagging_fraction': 0.8734954935973305, 'bagging_freq': 3, 'min_child_samples': 56}. Best is trial 17 with value: 0.888268156424581.\u001b[0m\n",
      "\u001b[32m[I 2021-12-20 20:02:42,453]\u001b[0m Trial 480 finished with value: 0.7988826815642458 and parameters: {'lambda_l1': 8.09326567923213e-07, 'lambda_l2': 0.0005609447392548308, 'num_leaves': 99, 'feature_fraction': 0.8076831327545247, 'bagging_fraction': 0.8874868301539631, 'bagging_freq': 3, 'min_child_samples': 99}. Best is trial 17 with value: 0.888268156424581.\u001b[0m\n",
      "\u001b[32m[I 2021-12-20 20:02:42,575]\u001b[0m Trial 481 finished with value: 0.8379888268156425 and parameters: {'lambda_l1': 1.580943223197876e-07, 'lambda_l2': 8.652441862887775e-06, 'num_leaves': 252, 'feature_fraction': 0.9017027552605036, 'bagging_fraction': 0.5028329724701436, 'bagging_freq': 3, 'min_child_samples': 48}. Best is trial 17 with value: 0.888268156424581.\u001b[0m\n"
     ]
    },
    {
     "name": "stderr",
     "output_type": "stream",
     "text": [
      "\u001b[32m[I 2021-12-20 20:02:42,708]\u001b[0m Trial 482 finished with value: 0.8156424581005587 and parameters: {'lambda_l1': 3.1189732078490737e-07, 'lambda_l2': 0.0015030420869063855, 'num_leaves': 81, 'feature_fraction': 0.8688658164729243, 'bagging_fraction': 0.9250451080531774, 'bagging_freq': 4, 'min_child_samples': 28}. Best is trial 17 with value: 0.888268156424581.\u001b[0m\n",
      "\u001b[32m[I 2021-12-20 20:02:42,834]\u001b[0m Trial 483 finished with value: 0.8491620111731844 and parameters: {'lambda_l1': 3.1021793810486415e-08, 'lambda_l2': 0.0009118851829098199, 'num_leaves': 238, 'feature_fraction': 0.8015126901197417, 'bagging_fraction': 0.43530039053267156, 'bagging_freq': 7, 'min_child_samples': 35}. Best is trial 17 with value: 0.888268156424581.\u001b[0m\n",
      "\u001b[32m[I 2021-12-20 20:02:42,986]\u001b[0m Trial 484 finished with value: 0.7988826815642458 and parameters: {'lambda_l1': 2.2580317098261802e-06, 'lambda_l2': 0.00013266793981667953, 'num_leaves': 79, 'feature_fraction': 0.8124932376278422, 'bagging_fraction': 0.9376421506417704, 'bagging_freq': 3, 'min_child_samples': 26}. Best is trial 17 with value: 0.888268156424581.\u001b[0m\n",
      "\u001b[32m[I 2021-12-20 20:02:43,128]\u001b[0m Trial 485 finished with value: 0.8547486033519553 and parameters: {'lambda_l1': 1.2224033040413702e-06, 'lambda_l2': 0.03064894323343688, 'num_leaves': 89, 'feature_fraction': 0.8273729448314264, 'bagging_fraction': 0.9282316050125966, 'bagging_freq': 3, 'min_child_samples': 33}. Best is trial 17 with value: 0.888268156424581.\u001b[0m\n",
      "\u001b[32m[I 2021-12-20 20:02:43,270]\u001b[0m Trial 486 finished with value: 0.7877094972067039 and parameters: {'lambda_l1': 2.0714785562373378e-07, 'lambda_l2': 0.00012652338411283962, 'num_leaves': 105, 'feature_fraction': 0.7910118456002446, 'bagging_fraction': 0.5201417054675108, 'bagging_freq': 4, 'min_child_samples': 20}. Best is trial 17 with value: 0.888268156424581.\u001b[0m\n",
      "\u001b[32m[I 2021-12-20 20:02:43,399]\u001b[0m Trial 487 finished with value: 0.8044692737430168 and parameters: {'lambda_l1': 2.7630552162590284e-07, 'lambda_l2': 5.49795873677604e-05, 'num_leaves': 75, 'feature_fraction': 0.7160014157890117, 'bagging_fraction': 0.7772817249349305, 'bagging_freq': 4, 'min_child_samples': 29}. Best is trial 17 with value: 0.888268156424581.\u001b[0m\n",
      "\u001b[32m[I 2021-12-20 20:02:43,536]\u001b[0m Trial 488 finished with value: 0.8044692737430168 and parameters: {'lambda_l1': 1.4534522448621412e-06, 'lambda_l2': 0.0004013141840460156, 'num_leaves': 172, 'feature_fraction': 0.7597826187212354, 'bagging_fraction': 0.5953601573545944, 'bagging_freq': 5, 'min_child_samples': 28}. Best is trial 17 with value: 0.888268156424581.\u001b[0m\n",
      "\u001b[32m[I 2021-12-20 20:02:43,677]\u001b[0m Trial 489 finished with value: 0.7988826815642458 and parameters: {'lambda_l1': 1.8618761802676734e-05, 'lambda_l2': 0.0002505004863346847, 'num_leaves': 67, 'feature_fraction': 0.8105768039832252, 'bagging_fraction': 0.9180907134262266, 'bagging_freq': 6, 'min_child_samples': 31}. Best is trial 17 with value: 0.888268156424581.\u001b[0m\n",
      "\u001b[32m[I 2021-12-20 20:02:43,808]\u001b[0m Trial 490 finished with value: 0.7932960893854749 and parameters: {'lambda_l1': 4.189723499398821e-07, 'lambda_l2': 3.936885836495474e-06, 'num_leaves': 124, 'feature_fraction': 0.9395480898720819, 'bagging_fraction': 0.8938168814352275, 'bagging_freq': 2, 'min_child_samples': 40}. Best is trial 17 with value: 0.888268156424581.\u001b[0m\n",
      "\u001b[32m[I 2021-12-20 20:02:43,964]\u001b[0m Trial 491 finished with value: 0.8212290502793296 and parameters: {'lambda_l1': 6.327573623732142e-07, 'lambda_l2': 0.00018531488680673005, 'num_leaves': 94, 'feature_fraction': 0.7837404611705152, 'bagging_fraction': 0.9514755273498771, 'bagging_freq': 4, 'min_child_samples': 22}. Best is trial 17 with value: 0.888268156424581.\u001b[0m\n",
      "\u001b[32m[I 2021-12-20 20:02:44,093]\u001b[0m Trial 492 finished with value: 0.8324022346368715 and parameters: {'lambda_l1': 0.2766202034161256, 'lambda_l2': 0.0005836224283166029, 'num_leaves': 158, 'feature_fraction': 0.7377443845084052, 'bagging_fraction': 0.9116519770796576, 'bagging_freq': 6, 'min_child_samples': 58}. Best is trial 17 with value: 0.888268156424581.\u001b[0m\n",
      "\u001b[32m[I 2021-12-20 20:02:44,220]\u001b[0m Trial 493 finished with value: 0.8379888268156425 and parameters: {'lambda_l1': 1.0522204816920063e-08, 'lambda_l2': 0.01855601515730273, 'num_leaves': 164, 'feature_fraction': 0.7964529715701024, 'bagging_fraction': 0.8996582106408314, 'bagging_freq': 4, 'min_child_samples': 55}. Best is trial 17 with value: 0.888268156424581.\u001b[0m\n",
      "\u001b[32m[I 2021-12-20 20:02:44,348]\u001b[0m Trial 494 finished with value: 0.8435754189944135 and parameters: {'lambda_l1': 9.50215522265953e-07, 'lambda_l2': 5.293165397797473e-06, 'num_leaves': 99, 'feature_fraction': 0.8856576034974547, 'bagging_fraction': 0.9086734938844951, 'bagging_freq': 3, 'min_child_samples': 45}. Best is trial 17 with value: 0.888268156424581.\u001b[0m\n",
      "\u001b[32m[I 2021-12-20 20:02:44,467]\u001b[0m Trial 495 finished with value: 0.8212290502793296 and parameters: {'lambda_l1': 1.3448931467926238e-07, 'lambda_l2': 9.362332196024143e-05, 'num_leaves': 72, 'feature_fraction': 0.5592412378771764, 'bagging_fraction': 0.46717382539165775, 'bagging_freq': 4, 'min_child_samples': 60}. Best is trial 17 with value: 0.888268156424581.\u001b[0m\n",
      "\u001b[32m[I 2021-12-20 20:02:44,605]\u001b[0m Trial 496 finished with value: 0.8435754189944135 and parameters: {'lambda_l1': 5.582706657442268e-07, 'lambda_l2': 2.114894738880268e-06, 'num_leaves': 150, 'feature_fraction': 0.7701063029291818, 'bagging_fraction': 0.8569565622621935, 'bagging_freq': 4, 'min_child_samples': 37}. Best is trial 17 with value: 0.888268156424581.\u001b[0m\n",
      "\u001b[32m[I 2021-12-20 20:02:44,749]\u001b[0m Trial 497 finished with value: 0.8324022346368715 and parameters: {'lambda_l1': 8.527098925053882e-07, 'lambda_l2': 0.0004104890284820523, 'num_leaves': 83, 'feature_fraction': 0.8360487784181739, 'bagging_fraction': 0.93513341661905, 'bagging_freq': 3, 'min_child_samples': 31}. Best is trial 17 with value: 0.888268156424581.\u001b[0m\n",
      "\u001b[32m[I 2021-12-20 20:02:44,889]\u001b[0m Trial 498 finished with value: 0.8212290502793296 and parameters: {'lambda_l1': 0.0672537131408996, 'lambda_l2': 0.00034387096655788356, 'num_leaves': 63, 'feature_fraction': 0.8191043895490872, 'bagging_fraction': 0.9168186175296934, 'bagging_freq': 4, 'min_child_samples': 34}. Best is trial 17 with value: 0.888268156424581.\u001b[0m\n",
      "\u001b[32m[I 2021-12-20 20:02:45,036]\u001b[0m Trial 499 finished with value: 0.7877094972067039 and parameters: {'lambda_l1': 2.308770747841292e-06, 'lambda_l2': 0.00016384869625544956, 'num_leaves': 76, 'feature_fraction': 0.8455448875986087, 'bagging_fraction': 0.8851514143177531, 'bagging_freq': 4, 'min_child_samples': 25}. Best is trial 17 with value: 0.888268156424581.\u001b[0m\n",
      "\u001b[32m[I 2021-12-20 20:02:45,155]\u001b[0m Trial 500 finished with value: 0.7597765363128491 and parameters: {'lambda_l1': 1.2276999943171868e-06, 'lambda_l2': 0.00027805157477635295, 'num_leaves': 195, 'feature_fraction': 0.8573576658987466, 'bagging_fraction': 0.4521042381368037, 'bagging_freq': 5, 'min_child_samples': 94}. Best is trial 17 with value: 0.888268156424581.\u001b[0m\n",
      "\u001b[32m[I 2021-12-20 20:02:45,284]\u001b[0m Trial 501 finished with value: 0.8324022346368715 and parameters: {'lambda_l1': 0.6376948893886578, 'lambda_l2': 8.40247754247514e-06, 'num_leaves': 91, 'feature_fraction': 0.7511581879666472, 'bagging_fraction': 0.8754683499357475, 'bagging_freq': 3, 'min_child_samples': 52}. Best is trial 17 with value: 0.888268156424581.\u001b[0m\n",
      "\u001b[32m[I 2021-12-20 20:02:45,414]\u001b[0m Trial 502 finished with value: 0.8212290502793296 and parameters: {'lambda_l1': 1.9205099378035932, 'lambda_l2': 0.0011454234026867485, 'num_leaves': 138, 'feature_fraction': 0.7094151737664756, 'bagging_fraction': 0.9013571626605992, 'bagging_freq': 6, 'min_child_samples': 28}. Best is trial 17 with value: 0.888268156424581.\u001b[0m\n",
      "\u001b[32m[I 2021-12-20 20:02:45,574]\u001b[0m Trial 503 finished with value: 0.8268156424581006 and parameters: {'lambda_l1': 0.16736457115021364, 'lambda_l2': 0.00019813572516671964, 'num_leaves': 67, 'feature_fraction': 0.738200483775146, 'bagging_fraction': 0.9303725707779122, 'bagging_freq': 4, 'min_child_samples': 17}. Best is trial 17 with value: 0.888268156424581.\u001b[0m\n",
      "\u001b[32m[I 2021-12-20 20:02:45,703]\u001b[0m Trial 504 finished with value: 0.7932960893854749 and parameters: {'lambda_l1': 3.5126483609040854e-07, 'lambda_l2': 1.5776535267437923e-05, 'num_leaves': 188, 'feature_fraction': 0.8001340948070923, 'bagging_fraction': 0.5309806143485694, 'bagging_freq': 3, 'min_child_samples': 42}. Best is trial 17 with value: 0.888268156424581.\u001b[0m\n"
     ]
    },
    {
     "name": "stderr",
     "output_type": "stream",
     "text": [
      "\u001b[32m[I 2021-12-20 20:02:45,864]\u001b[0m Trial 505 finished with value: 0.8268156424581006 and parameters: {'lambda_l1': 1.838135425575861e-07, 'lambda_l2': 8.72209535196639e-05, 'num_leaves': 72, 'feature_fraction': 0.9104134383167017, 'bagging_fraction': 0.6460856628483781, 'bagging_freq': 4, 'min_child_samples': 15}. Best is trial 17 with value: 0.888268156424581.\u001b[0m\n",
      "\u001b[32m[I 2021-12-20 20:02:46,020]\u001b[0m Trial 506 finished with value: 0.8379888268156425 and parameters: {'lambda_l1': 2.612635024756055e-07, 'lambda_l2': 1.1164112957271331e-06, 'num_leaves': 23, 'feature_fraction': 0.761102276961514, 'bagging_fraction': 0.5730517566809026, 'bagging_freq': 3, 'min_child_samples': 19}. Best is trial 17 with value: 0.888268156424581.\u001b[0m\n",
      "\u001b[32m[I 2021-12-20 20:02:46,146]\u001b[0m Trial 507 finished with value: 0.8491620111731844 and parameters: {'lambda_l1': 5.200874652410686e-08, 'lambda_l2': 3.3963388511605996e-06, 'num_leaves': 167, 'feature_fraction': 0.7242132912479756, 'bagging_fraction': 0.5021228939576868, 'bagging_freq': 3, 'min_child_samples': 51}. Best is trial 17 with value: 0.888268156424581.\u001b[0m\n",
      "\u001b[32m[I 2021-12-20 20:02:46,277]\u001b[0m Trial 508 finished with value: 0.8491620111731844 and parameters: {'lambda_l1': 5.260150235596843e-07, 'lambda_l2': 0.0006664237238978211, 'num_leaves': 179, 'feature_fraction': 0.5961317158457464, 'bagging_fraction': 0.5525845124722788, 'bagging_freq': 2, 'min_child_samples': 33}. Best is trial 17 with value: 0.888268156424581.\u001b[0m\n",
      "\u001b[32m[I 2021-12-20 20:02:46,412]\u001b[0m Trial 509 finished with value: 0.8212290502793296 and parameters: {'lambda_l1': 0.009695616418509485, 'lambda_l2': 6.263557887678215e-06, 'num_leaves': 154, 'feature_fraction': 0.777531903366794, 'bagging_fraction': 0.8921870526859939, 'bagging_freq': 3, 'min_child_samples': 40}. Best is trial 17 with value: 0.888268156424581.\u001b[0m\n",
      "\u001b[32m[I 2021-12-20 20:02:46,539]\u001b[0m Trial 510 finished with value: 0.8156424581005587 and parameters: {'lambda_l1': 3.6199484575578005e-07, 'lambda_l2': 4.951524815711317e-05, 'num_leaves': 80, 'feature_fraction': 0.8802595453217548, 'bagging_fraction': 0.48888338213708593, 'bagging_freq': 4, 'min_child_samples': 44}. Best is trial 17 with value: 0.888268156424581.\u001b[0m\n",
      "\u001b[32m[I 2021-12-20 20:02:46,689]\u001b[0m Trial 511 finished with value: 0.8435754189944135 and parameters: {'lambda_l1': 6.652931455315413e-07, 'lambda_l2': 0.00026398173943175464, 'num_leaves': 87, 'feature_fraction': 0.6888332188033102, 'bagging_fraction': 0.9474024916939713, 'bagging_freq': 4, 'min_child_samples': 27}. Best is trial 17 with value: 0.888268156424581.\u001b[0m\n",
      "\u001b[32m[I 2021-12-20 20:02:46,824]\u001b[0m Trial 512 finished with value: 0.7932960893854749 and parameters: {'lambda_l1': 6.829674350886263e-08, 'lambda_l2': 3.515521911955022e-07, 'num_leaves': 128, 'feature_fraction': 0.7751756065259358, 'bagging_fraction': 0.8691746952857146, 'bagging_freq': 3, 'min_child_samples': 54}. Best is trial 17 with value: 0.888268156424581.\u001b[0m\n",
      "\u001b[32m[I 2021-12-20 20:02:46,977]\u001b[0m Trial 513 finished with value: 0.8491620111731844 and parameters: {'lambda_l1': 1.228217920739878e-07, 'lambda_l2': 0.00013626936127188438, 'num_leaves': 216, 'feature_fraction': 0.9035275985260783, 'bagging_fraction': 0.8045990496421722, 'bagging_freq': 4, 'min_child_samples': 23}. Best is trial 17 with value: 0.888268156424581.\u001b[0m\n",
      "\u001b[32m[I 2021-12-20 20:02:47,132]\u001b[0m Trial 514 finished with value: 0.8212290502793296 and parameters: {'lambda_l1': 3.827056174974614e-06, 'lambda_l2': 0.00016564730855947793, 'num_leaves': 171, 'feature_fraction': 0.7444944882897035, 'bagging_fraction': 0.9622550054860108, 'bagging_freq': 4, 'min_child_samples': 25}. Best is trial 17 with value: 0.888268156424581.\u001b[0m\n",
      "\u001b[32m[I 2021-12-20 20:02:47,262]\u001b[0m Trial 515 finished with value: 0.8324022346368715 and parameters: {'lambda_l1': 1.0808962105225386e-06, 'lambda_l2': 0.0018519371294340452, 'num_leaves': 146, 'feature_fraction': 0.8896964496454269, 'bagging_fraction': 0.4863855703891435, 'bagging_freq': 5, 'min_child_samples': 36}. Best is trial 17 with value: 0.888268156424581.\u001b[0m\n",
      "\u001b[32m[I 2021-12-20 20:02:47,378]\u001b[0m Trial 516 finished with value: 0.776536312849162 and parameters: {'lambda_l1': 2.1256698060267808e-07, 'lambda_l2': 1.1102000955339572e-05, 'num_leaves': 92, 'feature_fraction': 0.7877692840918165, 'bagging_fraction': 0.5172465741584105, 'bagging_freq': 4, 'min_child_samples': 38}. Best is trial 17 with value: 0.888268156424581.\u001b[0m\n",
      "\u001b[32m[I 2021-12-20 20:02:47,524]\u001b[0m Trial 517 finished with value: 0.8435754189944135 and parameters: {'lambda_l1': 4.6527071648957164e-07, 'lambda_l2': 0.00035545831542250985, 'num_leaves': 85, 'feature_fraction': 0.8335608570519526, 'bagging_fraction': 0.9227516781068432, 'bagging_freq': 2, 'min_child_samples': 30}. Best is trial 17 with value: 0.888268156424581.\u001b[0m\n",
      "\u001b[32m[I 2021-12-20 20:02:47,660]\u001b[0m Trial 518 finished with value: 0.8212290502793296 and parameters: {'lambda_l1': 1.6221672070926201e-06, 'lambda_l2': 2.284839890742968e-05, 'num_leaves': 109, 'feature_fraction': 0.7610734528600984, 'bagging_fraction': 0.6795248896429366, 'bagging_freq': 4, 'min_child_samples': 29}. Best is trial 17 with value: 0.888268156424581.\u001b[0m\n",
      "\u001b[32m[I 2021-12-20 20:02:47,792]\u001b[0m Trial 519 finished with value: 0.8435754189944135 and parameters: {'lambda_l1': 1.6853452633537962e-07, 'lambda_l2': 9.067534160781172e-05, 'num_leaves': 160, 'feature_fraction': 0.872583877338123, 'bagging_fraction': 0.9415532211864093, 'bagging_freq': 3, 'min_child_samples': 57}. Best is trial 17 with value: 0.888268156424581.\u001b[0m\n",
      "\u001b[32m[I 2021-12-20 20:02:47,920]\u001b[0m Trial 520 finished with value: 0.8379888268156425 and parameters: {'lambda_l1': 3.629727864545419e-08, 'lambda_l2': 0.0008322784929634052, 'num_leaves': 175, 'feature_fraction': 0.8079694547505188, 'bagging_fraction': 0.44105117716763137, 'bagging_freq': 7, 'min_child_samples': 32}. Best is trial 17 with value: 0.888268156424581.\u001b[0m\n",
      "\u001b[32m[I 2021-12-20 20:02:48,053]\u001b[0m Trial 521 finished with value: 0.8547486033519553 and parameters: {'lambda_l1': 0.05093225229720175, 'lambda_l2': 0.05327375922921506, 'num_leaves': 191, 'feature_fraction': 0.7887777497653076, 'bagging_fraction': 0.8827016310648592, 'bagging_freq': 3, 'min_child_samples': 47}. Best is trial 17 with value: 0.888268156424581.\u001b[0m\n",
      "\u001b[32m[I 2021-12-20 20:02:48,186]\u001b[0m Trial 522 finished with value: 0.8156424581005587 and parameters: {'lambda_l1': 7.166371517470868e-07, 'lambda_l2': 4.002506068585687e-06, 'num_leaves': 120, 'feature_fraction': 0.7504541677377914, 'bagging_fraction': 0.5619704318331162, 'bagging_freq': 4, 'min_child_samples': 35}. Best is trial 17 with value: 0.888268156424581.\u001b[0m\n",
      "\u001b[32m[I 2021-12-20 20:02:48,307]\u001b[0m Trial 523 finished with value: 0.8324022346368715 and parameters: {'lambda_l1': 2.3263177504025967e-08, 'lambda_l2': 0.0006098266983981435, 'num_leaves': 102, 'feature_fraction': 0.7987510972583558, 'bagging_fraction': 0.7190007263971956, 'bagging_freq': 3, 'min_child_samples': 50}. Best is trial 17 with value: 0.888268156424581.\u001b[0m\n",
      "\u001b[32m[I 2021-12-20 20:02:48,436]\u001b[0m Trial 524 finished with value: 0.8603351955307262 and parameters: {'lambda_l1': 8.797090195344329e-08, 'lambda_l2': 0.00020335933927749717, 'num_leaves': 69, 'feature_fraction': 0.7712631739934828, 'bagging_fraction': 0.9618892814772019, 'bagging_freq': 4, 'min_child_samples': 62}. Best is trial 17 with value: 0.888268156424581.\u001b[0m\n",
      "\u001b[32m[I 2021-12-20 20:02:48,582]\u001b[0m Trial 525 finished with value: 0.8268156424581006 and parameters: {'lambda_l1': 2.645383603251856e-07, 'lambda_l2': 3.158384439494604e-05, 'num_leaves': 80, 'feature_fraction': 0.7227363200596016, 'bagging_fraction': 0.5349412169648886, 'bagging_freq': 4, 'min_child_samples': 20}. Best is trial 17 with value: 0.888268156424581.\u001b[0m\n",
      "\u001b[32m[I 2021-12-20 20:02:48,723]\u001b[0m Trial 526 finished with value: 0.8435754189944135 and parameters: {'lambda_l1': 1.1638674795528626e-07, 'lambda_l2': 0.0003313813193157488, 'num_leaves': 57, 'feature_fraction': 0.8544038363730775, 'bagging_fraction': 0.8980949813549579, 'bagging_freq': 4, 'min_child_samples': 59}. Best is trial 17 with value: 0.888268156424581.\u001b[0m\n",
      "\u001b[32m[I 2021-12-20 20:02:48,895]\u001b[0m Trial 527 finished with value: 0.8547486033519553 and parameters: {'lambda_l1': 1.5410728843080593e-08, 'lambda_l2': 5.58649297422571e-05, 'num_leaves': 76, 'feature_fraction': 0.7346384703986633, 'bagging_fraction': 0.9313137375268666, 'bagging_freq': 4, 'min_child_samples': 21}. Best is trial 17 with value: 0.888268156424581.\u001b[0m\n"
     ]
    },
    {
     "name": "stderr",
     "output_type": "stream",
     "text": [
      "\u001b[32m[I 2021-12-20 20:02:49,024]\u001b[0m Trial 528 finished with value: 0.8324022346368715 and parameters: {'lambda_l1': 9.149259347306299e-07, 'lambda_l2': 0.001303334373619517, 'num_leaves': 212, 'feature_fraction': 0.7787284403034134, 'bagging_fraction': 0.6186133429822125, 'bagging_freq': 5, 'min_child_samples': 54}. Best is trial 17 with value: 0.888268156424581.\u001b[0m\n",
      "\u001b[32m[I 2021-12-20 20:02:49,196]\u001b[0m Trial 529 finished with value: 0.888268156424581 and parameters: {'lambda_l1': 3.4988782738814165e-07, 'lambda_l2': 0.0004953248786849387, 'num_leaves': 95, 'feature_fraction': 0.8190293017672494, 'bagging_fraction': 0.9158457197415198, 'bagging_freq': 4, 'min_child_samples': 26}. Best is trial 17 with value: 0.888268156424581.\u001b[0m\n",
      "\u001b[32m[I 2021-12-20 20:02:49,357]\u001b[0m Trial 530 finished with value: 0.8212290502793296 and parameters: {'lambda_l1': 3.866615773546991e-07, 'lambda_l2': 0.0005196433932657937, 'num_leaves': 93, 'feature_fraction': 0.8182014501363424, 'bagging_fraction': 0.9113226987624775, 'bagging_freq': 3, 'min_child_samples': 23}. Best is trial 17 with value: 0.888268156424581.\u001b[0m\n",
      "\u001b[32m[I 2021-12-20 20:02:49,488]\u001b[0m Trial 531 finished with value: 0.776536312849162 and parameters: {'lambda_l1': 0.00627087669003422, 'lambda_l2': 0.00026810533058408065, 'num_leaves': 62, 'feature_fraction': 0.832709999313541, 'bagging_fraction': 0.4557700949095358, 'bagging_freq': 4, 'min_child_samples': 26}. Best is trial 17 with value: 0.888268156424581.\u001b[0m\n",
      "\u001b[32m[I 2021-12-20 20:02:49,621]\u001b[0m Trial 532 finished with value: 0.8044692737430168 and parameters: {'lambda_l1': 5.403237362127454e-07, 'lambda_l2': 0.0004414461081879092, 'num_leaves': 103, 'feature_fraction': 0.8122188296135986, 'bagging_fraction': 0.4179327346901316, 'bagging_freq': 5, 'min_child_samples': 25}. Best is trial 17 with value: 0.888268156424581.\u001b[0m\n",
      "\u001b[32m[I 2021-12-20 20:02:49,770]\u001b[0m Trial 533 finished with value: 0.8044692737430168 and parameters: {'lambda_l1': 4.46519777488364e-07, 'lambda_l2': 0.000872367954255023, 'num_leaves': 97, 'feature_fraction': 0.8272509975628068, 'bagging_fraction': 0.9232832022025462, 'bagging_freq': 4, 'min_child_samples': 28}. Best is trial 17 with value: 0.888268156424581.\u001b[0m\n",
      "\u001b[32m[I 2021-12-20 20:02:49,923]\u001b[0m Trial 534 finished with value: 0.8044692737430168 and parameters: {'lambda_l1': 7.122674577156182e-07, 'lambda_l2': 0.00044272501354946834, 'num_leaves': 168, 'feature_fraction': 0.8172856979967202, 'bagging_fraction': 0.9102161938420769, 'bagging_freq': 4, 'min_child_samples': 27}. Best is trial 17 with value: 0.888268156424581.\u001b[0m\n",
      "\u001b[32m[I 2021-12-20 20:02:50,091]\u001b[0m Trial 535 finished with value: 0.7988826815642458 and parameters: {'lambda_l1': 2.3111255169068737e-07, 'lambda_l2': 0.0026356836017231242, 'num_leaves': 95, 'feature_fraction': 0.8022130919262918, 'bagging_fraction': 0.9395187890193122, 'bagging_freq': 6, 'min_child_samples': 18}. Best is trial 17 with value: 0.888268156424581.\u001b[0m\n",
      "\u001b[32m[I 2021-12-20 20:02:50,253]\u001b[0m Trial 536 finished with value: 0.8268156424581006 and parameters: {'lambda_l1': 3.2971368432818226e-07, 'lambda_l2': 0.0007713684370990301, 'num_leaves': 87, 'feature_fraction': 0.8074540658859765, 'bagging_fraction': 0.9527801305543551, 'bagging_freq': 4, 'min_child_samples': 22}. Best is trial 17 with value: 0.888268156424581.\u001b[0m\n",
      "\u001b[32m[I 2021-12-20 20:02:50,386]\u001b[0m Trial 537 finished with value: 0.8044692737430168 and parameters: {'lambda_l1': 1.5574003201878756e-07, 'lambda_l2': 0.00036337958394260715, 'num_leaves': 196, 'feature_fraction': 0.7948878090024525, 'bagging_fraction': 0.900078486109905, 'bagging_freq': 4, 'min_child_samples': 32}. Best is trial 17 with value: 0.888268156424581.\u001b[0m\n",
      "\u001b[32m[I 2021-12-20 20:02:50,533]\u001b[0m Trial 538 finished with value: 0.8547486033519553 and parameters: {'lambda_l1': 5.106338347628196e-07, 'lambda_l2': 1.840697417161553e-06, 'num_leaves': 97, 'feature_fraction': 0.8980218106770345, 'bagging_fraction': 0.9103790996403318, 'bagging_freq': 4, 'min_child_samples': 30}. Best is trial 17 with value: 0.888268156424581.\u001b[0m\n",
      "\u001b[32m[I 2021-12-20 20:02:50,658]\u001b[0m Trial 539 finished with value: 0.8156424581005587 and parameters: {'lambda_l1': 9.436316692875297e-08, 'lambda_l2': 0.00022199968340288052, 'num_leaves': 222, 'feature_fraction': 0.7864524194070351, 'bagging_fraction': 0.5003328237850482, 'bagging_freq': 2, 'min_child_samples': 52}. Best is trial 17 with value: 0.888268156424581.\u001b[0m\n",
      "\u001b[32m[I 2021-12-20 20:02:50,849]\u001b[0m Trial 540 finished with value: 0.7988826815642458 and parameters: {'lambda_l1': 2.3481245876030402e-07, 'lambda_l2': 0.0002939856118757227, 'num_leaves': 230, 'feature_fraction': 0.9236778257842423, 'bagging_fraction': 0.9856272145847566, 'bagging_freq': 3, 'min_child_samples': 14}. Best is trial 17 with value: 0.888268156424581.\u001b[0m\n",
      "\u001b[32m[I 2021-12-20 20:02:50,992]\u001b[0m Trial 541 finished with value: 0.8324022346368715 and parameters: {'lambda_l1': 3.1273944822603994e-07, 'lambda_l2': 6.932118254477872e-06, 'num_leaves': 88, 'feature_fraction': 0.8703776296801174, 'bagging_fraction': 0.8894436411453398, 'bagging_freq': 4, 'min_child_samples': 41}. Best is trial 17 with value: 0.888268156424581.\u001b[0m\n",
      "\u001b[32m[I 2021-12-20 20:02:51,132]\u001b[0m Trial 542 finished with value: 0.8491620111731844 and parameters: {'lambda_l1': 4.495005728967968e-08, 'lambda_l2': 2.798021382325711e-06, 'num_leaves': 96, 'feature_fraction': 0.7063477398412489, 'bagging_fraction': 0.9048923618413282, 'bagging_freq': 4, 'min_child_samples': 49}. Best is trial 17 with value: 0.888268156424581.\u001b[0m\n",
      "\u001b[32m[I 2021-12-20 20:02:51,293]\u001b[0m Trial 543 finished with value: 0.8324022346368715 and parameters: {'lambda_l1': 0.029017979149937527, 'lambda_l2': 0.00012889458414992532, 'num_leaves': 71, 'feature_fraction': 0.8439104487265132, 'bagging_fraction': 0.9267913745069746, 'bagging_freq': 4, 'min_child_samples': 25}. Best is trial 17 with value: 0.888268156424581.\u001b[0m\n",
      "\u001b[32m[I 2021-12-20 20:02:51,421]\u001b[0m Trial 544 finished with value: 0.8659217877094972 and parameters: {'lambda_l1': 1.7543535335738045e-06, 'lambda_l2': 0.0013901238554013822, 'num_leaves': 113, 'feature_fraction': 0.7635696088717453, 'bagging_fraction': 0.7423415422627967, 'bagging_freq': 3, 'min_child_samples': 56}. Best is trial 17 with value: 0.888268156424581.\u001b[0m\n",
      "\u001b[32m[I 2021-12-20 20:02:51,561]\u001b[0m Trial 545 finished with value: 0.8212290502793296 and parameters: {'lambda_l1': 4.014811787787878e-07, 'lambda_l2': 0.00014562266409538568, 'num_leaves': 246, 'feature_fraction': 0.8411590473727584, 'bagging_fraction': 0.47424429454999495, 'bagging_freq': 3, 'min_child_samples': 24}. Best is trial 17 with value: 0.888268156424581.\u001b[0m\n",
      "\u001b[32m[I 2021-12-20 20:02:51,685]\u001b[0m Trial 546 finished with value: 0.8212290502793296 and parameters: {'lambda_l1': 1.6127432193293995e-07, 'lambda_l2': 5.199122239484035e-07, 'num_leaves': 13, 'feature_fraction': 0.7767252870276069, 'bagging_fraction': 0.5119793416374555, 'bagging_freq': 3, 'min_child_samples': 54}. Best is trial 17 with value: 0.888268156424581.\u001b[0m\n",
      "\u001b[32m[I 2021-12-20 20:02:51,810]\u001b[0m Trial 547 finished with value: 0.8268156424581006 and parameters: {'lambda_l1': 2.8697920370223167, 'lambda_l2': 8.908151718194626e-05, 'num_leaves': 185, 'feature_fraction': 0.8171785526472607, 'bagging_fraction': 0.42920105726683694, 'bagging_freq': 3, 'min_child_samples': 28}. Best is trial 17 with value: 0.888268156424581.\u001b[0m\n",
      "\u001b[32m[I 2021-12-20 20:02:51,951]\u001b[0m Trial 548 finished with value: 0.88268156424581 and parameters: {'lambda_l1': 8.130205543661473e-07, 'lambda_l2': 0.00045072242365815866, 'num_leaves': 177, 'feature_fraction': 0.8257627413562678, 'bagging_fraction': 0.9192789607103597, 'bagging_freq': 6, 'min_child_samples': 30}. Best is trial 17 with value: 0.888268156424581.\u001b[0m\n",
      "\u001b[32m[I 2021-12-20 20:02:52,099]\u001b[0m Trial 549 finished with value: 0.8491620111731844 and parameters: {'lambda_l1': 2.8156418654356078e-06, 'lambda_l2': 0.008296599748691699, 'num_leaves': 175, 'feature_fraction': 0.7556728301421608, 'bagging_fraction': 0.9164012845860305, 'bagging_freq': 4, 'min_child_samples': 31}. Best is trial 17 with value: 0.888268156424581.\u001b[0m\n",
      "\u001b[32m[I 2021-12-20 20:02:52,248]\u001b[0m Trial 550 finished with value: 0.8100558659217877 and parameters: {'lambda_l1': 1.1243563128229057e-06, 'lambda_l2': 0.0006041469087972962, 'num_leaves': 180, 'feature_fraction': 0.8243050190115919, 'bagging_fraction': 0.8985085591433646, 'bagging_freq': 6, 'min_child_samples': 34}. Best is trial 17 with value: 0.888268156424581.\u001b[0m\n"
     ]
    },
    {
     "name": "stderr",
     "output_type": "stream",
     "text": [
      "\u001b[32m[I 2021-12-20 20:02:52,385]\u001b[0m Trial 551 finished with value: 0.8268156424581006 and parameters: {'lambda_l1': 7.89972132819538e-07, 'lambda_l2': 0.0001824782946048921, 'num_leaves': 84, 'feature_fraction': 0.8342275552399349, 'bagging_fraction': 0.9500906665696811, 'bagging_freq': 2, 'min_child_samples': 29}. Best is trial 17 with value: 0.888268156424581.\u001b[0m\n",
      "\u001b[32m[I 2021-12-20 20:02:52,539]\u001b[0m Trial 552 finished with value: 0.8212290502793296 and parameters: {'lambda_l1': 1.2957076006236917e-06, 'lambda_l2': 0.0005020574577405717, 'num_leaves': 176, 'feature_fraction': 0.7989221003952587, 'bagging_fraction': 0.9186766979630936, 'bagging_freq': 6, 'min_child_samples': 26}. Best is trial 17 with value: 0.888268156424581.\u001b[0m\n",
      "\u001b[32m[I 2021-12-20 20:02:52,692]\u001b[0m Trial 553 finished with value: 0.8491620111731844 and parameters: {'lambda_l1': 1.376892621709395e-06, 'lambda_l2': 0.0009799309569309112, 'num_leaves': 182, 'feature_fraction': 0.8538891545177719, 'bagging_fraction': 0.9312119992965167, 'bagging_freq': 4, 'min_child_samples': 27}. Best is trial 17 with value: 0.888268156424581.\u001b[0m\n",
      "\u001b[32m[I 2021-12-20 20:02:52,835]\u001b[0m Trial 554 finished with value: 0.8435754189944135 and parameters: {'lambda_l1': 5.677749318667026e-07, 'lambda_l2': 1.0542349512105118e-05, 'num_leaves': 91, 'feature_fraction': 0.8920765556324786, 'bagging_fraction': 0.88348480596525, 'bagging_freq': 4, 'min_child_samples': 39}. Best is trial 17 with value: 0.888268156424581.\u001b[0m\n",
      "\u001b[32m[I 2021-12-20 20:02:52,978]\u001b[0m Trial 555 finished with value: 0.8324022346368715 and parameters: {'lambda_l1': 3.1393837575910966e-07, 'lambda_l2': 5.200816982945867e-06, 'num_leaves': 163, 'feature_fraction': 0.7421200796785516, 'bagging_fraction': 0.9689061204166117, 'bagging_freq': 4, 'min_child_samples': 43}. Best is trial 17 with value: 0.888268156424581.\u001b[0m\n",
      "\u001b[32m[I 2021-12-20 20:02:53,107]\u001b[0m Trial 556 finished with value: 0.8659217877094972 and parameters: {'lambda_l1': 3.933099467373563e-06, 'lambda_l2': 0.000699392586130785, 'num_leaves': 112, 'feature_fraction': 0.7590880743210995, 'bagging_fraction': 0.7796645706051107, 'bagging_freq': 6, 'min_child_samples': 57}. Best is trial 17 with value: 0.888268156424581.\u001b[0m\n",
      "\u001b[32m[I 2021-12-20 20:02:53,243]\u001b[0m Trial 557 finished with value: 0.8603351955307262 and parameters: {'lambda_l1': 1.249990510742768, 'lambda_l2': 0.0004310300642315812, 'num_leaves': 174, 'feature_fraction': 0.7924121544210585, 'bagging_fraction': 0.8361920972783348, 'bagging_freq': 6, 'min_child_samples': 33}. Best is trial 17 with value: 0.888268156424581.\u001b[0m\n",
      "\u001b[32m[I 2021-12-20 20:02:53,407]\u001b[0m Trial 558 finished with value: 0.8547486033519553 and parameters: {'lambda_l1': 2.516682441431825e-06, 'lambda_l2': 0.000648842187925873, 'num_leaves': 185, 'feature_fraction': 0.8397190440733395, 'bagging_fraction': 0.935647746850685, 'bagging_freq': 6, 'min_child_samples': 23}. Best is trial 17 with value: 0.888268156424581.\u001b[0m\n",
      "\u001b[32m[I 2021-12-20 20:02:53,557]\u001b[0m Trial 559 finished with value: 0.776536312849162 and parameters: {'lambda_l1': 8.560257303283725e-07, 'lambda_l2': 0.0008118810139557542, 'num_leaves': 110, 'feature_fraction': 0.7338020904903132, 'bagging_fraction': 0.9225336428514417, 'bagging_freq': 5, 'min_child_samples': 32}. Best is trial 17 with value: 0.888268156424581.\u001b[0m\n",
      "\u001b[32m[I 2021-12-20 20:02:53,684]\u001b[0m Trial 560 finished with value: 0.8156424581005587 and parameters: {'lambda_l1': 3.559909644818572e-06, 'lambda_l2': 1.9633718154066972e-07, 'num_leaves': 116, 'feature_fraction': 0.7585880787976936, 'bagging_fraction': 0.7150893189756435, 'bagging_freq': 6, 'min_child_samples': 61}. Best is trial 17 with value: 0.888268156424581.\u001b[0m\n",
      "\u001b[32m[I 2021-12-20 20:02:53,816]\u001b[0m Trial 561 finished with value: 0.8212290502793296 and parameters: {'lambda_l1': 0.000982229755990114, 'lambda_l2': 0.0003695152442973477, 'num_leaves': 168, 'feature_fraction': 0.8071127355366303, 'bagging_fraction': 0.5906740360573205, 'bagging_freq': 6, 'min_child_samples': 36}. Best is trial 17 with value: 0.888268156424581.\u001b[0m\n",
      "\u001b[32m[I 2021-12-20 20:02:53,968]\u001b[0m Trial 562 finished with value: 0.8547486033519553 and parameters: {'lambda_l1': 1.9247995065629744e-06, 'lambda_l2': 0.0003113926940568049, 'num_leaves': 193, 'feature_fraction': 0.8177757020836331, 'bagging_fraction': 0.9071553698647591, 'bagging_freq': 3, 'min_child_samples': 29}. Best is trial 17 with value: 0.888268156424581.\u001b[0m\n",
      "\u001b[32m[I 2021-12-20 20:02:54,123]\u001b[0m Trial 563 finished with value: 0.8659217877094972 and parameters: {'lambda_l1': 7.162669740043417e-07, 'lambda_l2': 0.00021383936986913568, 'num_leaves': 192, 'feature_fraction': 0.8275834411313133, 'bagging_fraction': 0.9435277345124519, 'bagging_freq': 6, 'min_child_samples': 26}. Best is trial 17 with value: 0.888268156424581.\u001b[0m\n",
      "\u001b[32m[I 2021-12-20 20:02:54,260]\u001b[0m Trial 564 finished with value: 0.8547486033519553 and parameters: {'lambda_l1': 2.1672489535281574e-07, 'lambda_l2': 0.00011652167426501858, 'num_leaves': 163, 'feature_fraction': 0.8634328540771269, 'bagging_fraction': 0.553926333700534, 'bagging_freq': 4, 'min_child_samples': 30}. Best is trial 17 with value: 0.888268156424581.\u001b[0m\n",
      "\u001b[32m[I 2021-12-20 20:02:54,397]\u001b[0m Trial 565 finished with value: 0.8268156424581006 and parameters: {'lambda_l1': 1.3293512770353582e-06, 'lambda_l2': 0.0011190258727572014, 'num_leaves': 178, 'feature_fraction': 0.7636207613016895, 'bagging_fraction': 0.738964292866671, 'bagging_freq': 3, 'min_child_samples': 21}. Best is trial 17 with value: 0.888268156424581.\u001b[0m\n",
      "\u001b[32m[I 2021-12-20 20:02:54,559]\u001b[0m Trial 566 finished with value: 0.8379888268156425 and parameters: {'lambda_l1': 4.558607681439807e-07, 'lambda_l2': 0.00025626270238592464, 'num_leaves': 209, 'feature_fraction': 0.8486442457648449, 'bagging_fraction': 0.8179259470586492, 'bagging_freq': 4, 'min_child_samples': 19}. Best is trial 17 with value: 0.888268156424581.\u001b[0m\n",
      "\u001b[32m[I 2021-12-20 20:02:54,716]\u001b[0m Trial 567 finished with value: 0.8547486033519553 and parameters: {'lambda_l1': 6.934907189422626e-07, 'lambda_l2': 0.00019115197458080245, 'num_leaves': 189, 'feature_fraction': 0.8350871641160823, 'bagging_fraction': 0.9651971773406096, 'bagging_freq': 4, 'min_child_samples': 26}. Best is trial 17 with value: 0.888268156424581.\u001b[0m\n",
      "\u001b[32m[I 2021-12-20 20:02:54,841]\u001b[0m Trial 568 finished with value: 0.8268156424581006 and parameters: {'lambda_l1': 2.1873087771201844e-06, 'lambda_l2': 0.001108009635906012, 'num_leaves': 120, 'feature_fraction': 0.7736803479357001, 'bagging_fraction': 0.46934991279118693, 'bagging_freq': 3, 'min_child_samples': 54}. Best is trial 17 with value: 0.888268156424581.\u001b[0m\n",
      "\u001b[32m[I 2021-12-20 20:02:54,993]\u001b[0m Trial 569 finished with value: 0.8770949720670391 and parameters: {'lambda_l1': 8.349713224225232e-07, 'lambda_l2': 0.00026293741415292586, 'num_leaves': 187, 'feature_fraction': 0.8218694100028396, 'bagging_fraction': 0.9210726265788812, 'bagging_freq': 6, 'min_child_samples': 27}. Best is trial 17 with value: 0.888268156424581.\u001b[0m\n",
      "\u001b[32m[I 2021-12-20 20:02:55,144]\u001b[0m Trial 570 finished with value: 0.7988826815642458 and parameters: {'lambda_l1': 1.287855165225926e-06, 'lambda_l2': 0.0005231800112777818, 'num_leaves': 182, 'feature_fraction': 0.7154244042283922, 'bagging_fraction': 0.8567971393359295, 'bagging_freq': 6, 'min_child_samples': 28}. Best is trial 17 with value: 0.888268156424581.\u001b[0m\n",
      "\u001b[32m[I 2021-12-20 20:02:55,301]\u001b[0m Trial 571 finished with value: 0.8156424581005587 and parameters: {'lambda_l1': 3.870033115791581e-06, 'lambda_l2': 0.0006433136781281578, 'num_leaves': 118, 'feature_fraction': 0.7501159661447186, 'bagging_fraction': 0.7233013719683292, 'bagging_freq': 3, 'min_child_samples': 24}. Best is trial 17 with value: 0.888268156424581.\u001b[0m\n",
      "\u001b[32m[I 2021-12-20 20:02:55,438]\u001b[0m Trial 572 finished with value: 0.8491620111731844 and parameters: {'lambda_l1': 9.679088603568114e-07, 'lambda_l2': 0.6946775417232859, 'num_leaves': 186, 'feature_fraction': 0.8229305184406509, 'bagging_fraction': 0.5251219942167603, 'bagging_freq': 6, 'min_child_samples': 26}. Best is trial 17 with value: 0.888268156424581.\u001b[0m\n",
      "\u001b[32m[I 2021-12-20 20:02:55,594]\u001b[0m Trial 573 finished with value: 0.8100558659217877 and parameters: {'lambda_l1': 1.5875143699767497e-06, 'lambda_l2': 0.0022115843918151103, 'num_leaves': 194, 'feature_fraction': 0.8299229887488092, 'bagging_fraction': 0.9413622821001084, 'bagging_freq': 6, 'min_child_samples': 30}. Best is trial 17 with value: 0.888268156424581.\u001b[0m\n"
     ]
    },
    {
     "name": "stderr",
     "output_type": "stream",
     "text": [
      "\u001b[32m[I 2021-12-20 20:02:55,741]\u001b[0m Trial 574 finished with value: 0.8659217877094972 and parameters: {'lambda_l1': 5.292516122708859e-07, 'lambda_l2': 0.00036817929459730743, 'num_leaves': 105, 'feature_fraction': 0.9143238069826031, 'bagging_fraction': 0.5438835666982459, 'bagging_freq': 1, 'min_child_samples': 16}. Best is trial 17 with value: 0.888268156424581.\u001b[0m\n",
      "\u001b[32m[I 2021-12-20 20:02:55,896]\u001b[0m Trial 575 finished with value: 0.7877094972067039 and parameters: {'lambda_l1': 0.00029360449698829095, 'lambda_l2': 7.303575270239708e-05, 'num_leaves': 187, 'feature_fraction': 0.8545095477981236, 'bagging_fraction': 0.9246157226881273, 'bagging_freq': 3, 'min_child_samples': 28}. Best is trial 17 with value: 0.888268156424581.\u001b[0m\n",
      "\u001b[32m[I 2021-12-20 20:02:56,035]\u001b[0m Trial 576 finished with value: 0.8379888268156425 and parameters: {'lambda_l1': 1.776718965322025e-06, 'lambda_l2': 0.0004787068354558333, 'num_leaves': 127, 'feature_fraction': 0.7849233137336655, 'bagging_fraction': 0.4808441193756908, 'bagging_freq': 3, 'min_child_samples': 25}. Best is trial 17 with value: 0.888268156424581.\u001b[0m\n",
      "\u001b[32m[I 2021-12-20 20:02:56,186]\u001b[0m Trial 577 finished with value: 0.8156424581005587 and parameters: {'lambda_l1': 7.076420678712212e-07, 'lambda_l2': 0.00027184183071190474, 'num_leaves': 199, 'feature_fraction': 0.8149489000000221, 'bagging_fraction': 0.9140355302183638, 'bagging_freq': 6, 'min_child_samples': 32}. Best is trial 17 with value: 0.888268156424581.\u001b[0m\n",
      "\u001b[32m[I 2021-12-20 20:02:56,337]\u001b[0m Trial 578 finished with value: 0.7988826815642458 and parameters: {'lambda_l1': 4.989542735342411e-07, 'lambda_l2': 0.0003762094704839941, 'num_leaves': 188, 'feature_fraction': 0.8359469957944301, 'bagging_fraction': 0.9286882479191011, 'bagging_freq': 1, 'min_child_samples': 29}. Best is trial 17 with value: 0.888268156424581.\u001b[0m\n",
      "\u001b[32m[I 2021-12-20 20:02:56,488]\u001b[0m Trial 579 finished with value: 0.8156424581005587 and parameters: {'lambda_l1': 8.216418851417711e-07, 'lambda_l2': 0.000218023931913072, 'num_leaves': 174, 'feature_fraction': 0.8031432055251675, 'bagging_fraction': 0.7664992833276479, 'bagging_freq': 6, 'min_child_samples': 27}. Best is trial 17 with value: 0.888268156424581.\u001b[0m\n",
      "\u001b[32m[I 2021-12-20 20:02:56,631]\u001b[0m Trial 580 finished with value: 0.8100558659217877 and parameters: {'lambda_l1': 9.374728301626065e-07, 'lambda_l2': 0.0003974850552462451, 'num_leaves': 106, 'feature_fraction': 0.9041725280591539, 'bagging_fraction': 0.9055488950376683, 'bagging_freq': 1, 'min_child_samples': 34}. Best is trial 17 with value: 0.888268156424581.\u001b[0m\n",
      "\u001b[32m[I 2021-12-20 20:02:56,793]\u001b[0m Trial 581 finished with value: 0.8156424581005587 and parameters: {'lambda_l1': 5.909901816538229e-07, 'lambda_l2': 0.0003130925732591481, 'num_leaves': 95, 'feature_fraction': 0.9138473789554286, 'bagging_fraction': 0.5730298235017188, 'bagging_freq': 1, 'min_child_samples': 13}. Best is trial 17 with value: 0.888268156424581.\u001b[0m\n",
      "\u001b[32m[I 2021-12-20 20:02:56,941]\u001b[0m Trial 582 finished with value: 0.8212290502793296 and parameters: {'lambda_l1': 0.0017852910491650924, 'lambda_l2': 0.0007430739582413956, 'num_leaves': 182, 'feature_fraction': 0.8093227287954203, 'bagging_fraction': 0.9109063536102703, 'bagging_freq': 6, 'min_child_samples': 31}. Best is trial 17 with value: 0.888268156424581.\u001b[0m\n",
      "\u001b[32m[I 2021-12-20 20:02:57,076]\u001b[0m Trial 583 finished with value: 0.8324022346368715 and parameters: {'lambda_l1': 1.222754216119732e-06, 'lambda_l2': 3.9439837771671553, 'num_leaves': 135, 'feature_fraction': 0.7784573525170851, 'bagging_fraction': 0.7949530777289967, 'bagging_freq': 3, 'min_child_samples': 58}. Best is trial 17 with value: 0.888268156424581.\u001b[0m\n",
      "\u001b[32m[I 2021-12-20 20:02:57,219]\u001b[0m Trial 584 finished with value: 0.8379888268156425 and parameters: {'lambda_l1': 1.867502295689357e-06, 'lambda_l2': 0.0005514567217680344, 'num_leaves': 110, 'feature_fraction': 0.7940080072802623, 'bagging_fraction': 0.45208126271815624, 'bagging_freq': 1, 'min_child_samples': 17}. Best is trial 17 with value: 0.888268156424581.\u001b[0m\n",
      "\u001b[32m[I 2021-12-20 20:02:57,371]\u001b[0m Trial 585 finished with value: 0.8770949720670391 and parameters: {'lambda_l1': 0.011774249570296451, 'lambda_l2': 1.2210757071161239e-06, 'num_leaves': 171, 'feature_fraction': 0.6970794036072017, 'bagging_fraction': 0.9000524979802617, 'bagging_freq': 6, 'min_child_samples': 34}. Best is trial 17 with value: 0.888268156424581.\u001b[0m\n",
      "\u001b[32m[I 2021-12-20 20:02:57,515]\u001b[0m Trial 586 finished with value: 0.7988826815642458 and parameters: {'lambda_l1': 1.6106161307187566e-08, 'lambda_l2': 1.7460684796685824e-06, 'num_leaves': 172, 'feature_fraction': 0.6792168590057743, 'bagging_fraction': 0.8917564777481345, 'bagging_freq': 6, 'min_child_samples': 34}. Best is trial 17 with value: 0.888268156424581.\u001b[0m\n",
      "\u001b[32m[I 2021-12-20 20:02:57,678]\u001b[0m Trial 587 finished with value: 0.7821229050279329 and parameters: {'lambda_l1': 0.009699893247101615, 'lambda_l2': 1.240147343827637e-06, 'num_leaves': 178, 'feature_fraction': 0.5823994982617475, 'bagging_fraction': 0.9519365760727474, 'bagging_freq': 7, 'min_child_samples': 23}. Best is trial 17 with value: 0.888268156424581.\u001b[0m\n",
      "\u001b[32m[I 2021-12-20 20:02:57,825]\u001b[0m Trial 588 finished with value: 0.7877094972067039 and parameters: {'lambda_l1': 3.5781104429641005e-07, 'lambda_l2': 8.740854046014312e-07, 'num_leaves': 170, 'feature_fraction': 0.691963443398272, 'bagging_fraction': 0.9267357362030213, 'bagging_freq': 6, 'min_child_samples': 36}. Best is trial 17 with value: 0.888268156424581.\u001b[0m\n",
      "\u001b[32m[I 2021-12-20 20:02:57,971]\u001b[0m Trial 589 finished with value: 0.8156424581005587 and parameters: {'lambda_l1': 0.0037231863760871817, 'lambda_l2': 1.1126499920058952e-06, 'num_leaves': 179, 'feature_fraction': 0.604305625505168, 'bagging_fraction': 0.8733316257793643, 'bagging_freq': 6, 'min_child_samples': 33}. Best is trial 17 with value: 0.888268156424581.\u001b[0m\n",
      "\u001b[32m[I 2021-12-20 20:02:58,121]\u001b[0m Trial 590 finished with value: 0.8491620111731844 and parameters: {'lambda_l1': 2.1144507666223352e-08, 'lambda_l2': 1.6111970775126627e-06, 'num_leaves': 199, 'feature_fraction': 0.6638812665227662, 'bagging_fraction': 0.9000825716718633, 'bagging_freq': 6, 'min_child_samples': 31}. Best is trial 17 with value: 0.888268156424581.\u001b[0m\n",
      "\u001b[32m[I 2021-12-20 20:02:58,273]\u001b[0m Trial 591 finished with value: 0.8324022346368715 and parameters: {'lambda_l1': 0.016320488172192487, 'lambda_l2': 2.745387389356961e-06, 'num_leaves': 173, 'feature_fraction': 0.7023101834841791, 'bagging_fraction': 0.9193844382362409, 'bagging_freq': 6, 'min_child_samples': 28}. Best is trial 17 with value: 0.888268156424581.\u001b[0m\n",
      "\u001b[32m[I 2021-12-20 20:02:58,423]\u001b[0m Trial 592 finished with value: 0.8770949720670391 and parameters: {'lambda_l1': 3.7145162809218507e-07, 'lambda_l2': 0.00013271557815305038, 'num_leaves': 184, 'feature_fraction': 0.8202335539521252, 'bagging_fraction': 0.9364793323959636, 'bagging_freq': 4, 'min_child_samples': 30}. Best is trial 17 with value: 0.888268156424581.\u001b[0m\n",
      "\u001b[32m[I 2021-12-20 20:02:58,580]\u001b[0m Trial 593 finished with value: 0.8715083798882681 and parameters: {'lambda_l1': 1.0150677278590076e-06, 'lambda_l2': 0.0001731351655846122, 'num_leaves': 190, 'feature_fraction': 0.8204759174021988, 'bagging_fraction': 0.9447342971806, 'bagging_freq': 6, 'min_child_samples': 29}. Best is trial 17 with value: 0.888268156424581.\u001b[0m\n",
      "\u001b[32m[I 2021-12-20 20:02:58,732]\u001b[0m Trial 594 finished with value: 0.7932960893854749 and parameters: {'lambda_l1': 0.07038615850846149, 'lambda_l2': 0.00013912775869347863, 'num_leaves': 193, 'feature_fraction': 0.7285736283353111, 'bagging_fraction': 0.9368420609354393, 'bagging_freq': 6, 'min_child_samples': 37}. Best is trial 17 with value: 0.888268156424581.\u001b[0m\n",
      "\u001b[32m[I 2021-12-20 20:02:58,886]\u001b[0m Trial 595 finished with value: 0.7988826815642458 and parameters: {'lambda_l1': 0.8060915089484435, 'lambda_l2': 0.00016332719166860753, 'num_leaves': 189, 'feature_fraction': 0.8246846951144272, 'bagging_fraction': 0.9404161098178871, 'bagging_freq': 6, 'min_child_samples': 30}. Best is trial 17 with value: 0.888268156424581.\u001b[0m\n",
      "\u001b[32m[I 2021-12-20 20:02:59,049]\u001b[0m Trial 596 finished with value: 0.8435754189944135 and parameters: {'lambda_l1': 9.064759406889011e-07, 'lambda_l2': 0.00011278791440383988, 'num_leaves': 189, 'feature_fraction': 0.8307344219786503, 'bagging_fraction': 0.9381378154839232, 'bagging_freq': 6, 'min_child_samples': 25}. Best is trial 17 with value: 0.888268156424581.\u001b[0m\n"
     ]
    },
    {
     "name": "stderr",
     "output_type": "stream",
     "text": [
      "\u001b[32m[I 2021-12-20 20:02:59,204]\u001b[0m Trial 597 finished with value: 0.8324022346368715 and parameters: {'lambda_l1': 1.0184777292013777e-06, 'lambda_l2': 0.00019082636241778657, 'num_leaves': 175, 'feature_fraction': 0.8141299323710994, 'bagging_fraction': 0.9561683219990078, 'bagging_freq': 6, 'min_child_samples': 32}. Best is trial 17 with value: 0.888268156424581.\u001b[0m\n",
      "\u001b[32m[I 2021-12-20 20:02:59,363]\u001b[0m Trial 598 finished with value: 0.7877094972067039 and parameters: {'lambda_l1': 3.92352392679636e-07, 'lambda_l2': 8.021984946318054e-05, 'num_leaves': 176, 'feature_fraction': 0.81814634631841, 'bagging_fraction': 0.951087250588142, 'bagging_freq': 6, 'min_child_samples': 30}. Best is trial 17 with value: 0.888268156424581.\u001b[0m\n",
      "\u001b[32m[I 2021-12-20 20:02:59,524]\u001b[0m Trial 599 finished with value: 0.7932960893854749 and parameters: {'lambda_l1': 6.150865863298833e-07, 'lambda_l2': 0.00021178847784382896, 'num_leaves': 183, 'feature_fraction': 0.8267086512989252, 'bagging_fraction': 0.9750918701826328, 'bagging_freq': 6, 'min_child_samples': 28}. Best is trial 17 with value: 0.888268156424581.\u001b[0m\n",
      "\u001b[32m[I 2021-12-20 20:02:59,655]\u001b[0m Trial 600 finished with value: 0.7988826815642458 and parameters: {'lambda_l1': 4.640781148269955e-07, 'lambda_l2': 5.026829007767342e-05, 'num_leaves': 184, 'feature_fraction': 0.8051525036873621, 'bagging_fraction': 0.4410931021067866, 'bagging_freq': 6, 'min_child_samples': 34}. Best is trial 17 with value: 0.888268156424581.\u001b[0m\n",
      "\u001b[32m[I 2021-12-20 20:02:59,804]\u001b[0m Trial 601 finished with value: 0.8547486033519553 and parameters: {'lambda_l1': 6.208038773316914e-07, 'lambda_l2': 0.00011231817005016035, 'num_leaves': 169, 'feature_fraction': 0.7959834179137332, 'bagging_fraction': 0.9280988783591028, 'bagging_freq': 6, 'min_child_samples': 29}. Best is trial 17 with value: 0.888268156424581.\u001b[0m\n",
      "\u001b[32m[I 2021-12-20 20:02:59,956]\u001b[0m Trial 602 finished with value: 0.8491620111731844 and parameters: {'lambda_l1': 1.945762564350147e-06, 'lambda_l2': 0.0013605993336699782, 'num_leaves': 181, 'feature_fraction': 0.651044764546563, 'bagging_fraction': 0.9446534493689266, 'bagging_freq': 6, 'min_child_samples': 31}. Best is trial 17 with value: 0.888268156424581.\u001b[0m\n",
      "\u001b[32m[I 2021-12-20 20:03:00,118]\u001b[0m Trial 603 finished with value: 0.8659217877094972 and parameters: {'lambda_l1': 2.933998950613825e-08, 'lambda_l2': 0.0002685817037917685, 'num_leaves': 190, 'feature_fraction': 0.8213346860780184, 'bagging_fraction': 0.9218833635977416, 'bagging_freq': 6, 'min_child_samples': 27}. Best is trial 17 with value: 0.888268156424581.\u001b[0m\n",
      "\u001b[32m[I 2021-12-20 20:03:00,274]\u001b[0m Trial 604 finished with value: 0.8100558659217877 and parameters: {'lambda_l1': 1.2458711983645432e-06, 'lambda_l2': 0.0002508162317186958, 'num_leaves': 179, 'feature_fraction': 0.8062543552194344, 'bagging_fraction': 0.9169723480921413, 'bagging_freq': 6, 'min_child_samples': 30}. Best is trial 17 with value: 0.888268156424581.\u001b[0m\n",
      "\u001b[32m[I 2021-12-20 20:03:00,425]\u001b[0m Trial 605 finished with value: 0.8212290502793296 and parameters: {'lambda_l1': 6.674720454371937e-07, 'lambda_l2': 0.00016209022189672106, 'num_leaves': 196, 'feature_fraction': 0.846606733045824, 'bagging_fraction': 0.9570914102781124, 'bagging_freq': 6, 'min_child_samples': 26}. Best is trial 17 with value: 0.888268156424581.\u001b[0m\n",
      "\u001b[32m[I 2021-12-20 20:03:00,589]\u001b[0m Trial 606 finished with value: 0.8659217877094972 and parameters: {'lambda_l1': 9.205873309700808e-07, 'lambda_l2': 0.00014429333255622551, 'num_leaves': 193, 'feature_fraction': 0.8303308981800757, 'bagging_fraction': 0.9438871861338998, 'bagging_freq': 6, 'min_child_samples': 28}. Best is trial 17 with value: 0.888268156424581.\u001b[0m\n",
      "\u001b[32m[I 2021-12-20 20:03:00,741]\u001b[0m Trial 607 finished with value: 0.8379888268156425 and parameters: {'lambda_l1': 4.3112957406903855e-07, 'lambda_l2': 7.66813102727452e-05, 'num_leaves': 167, 'feature_fraction': 0.8475271758105197, 'bagging_fraction': 0.9370110831851005, 'bagging_freq': 4, 'min_child_samples': 29}. Best is trial 17 with value: 0.888268156424581.\u001b[0m\n",
      "\u001b[32m[I 2021-12-20 20:03:00,874]\u001b[0m Trial 608 finished with value: 0.8212290502793296 and parameters: {'lambda_l1': 1.3225116885598402e-06, 'lambda_l2': 0.0006038723600183975, 'num_leaves': 185, 'feature_fraction': 0.6178578039384971, 'bagging_fraction': 0.4154032616679623, 'bagging_freq': 6, 'min_child_samples': 34}. Best is trial 17 with value: 0.888268156424581.\u001b[0m\n",
      "\u001b[32m[I 2021-12-20 20:03:01,004]\u001b[0m Trial 609 finished with value: 0.8156424581005587 and parameters: {'lambda_l1': 8.762077560359803e-05, 'lambda_l2': 2.2750700151480068, 'num_leaves': 170, 'feature_fraction': 0.790965144505634, 'bagging_fraction': 0.40022390167119654, 'bagging_freq': 3, 'min_child_samples': 32}. Best is trial 17 with value: 0.888268156424581.\u001b[0m\n",
      "\u001b[32m[I 2021-12-20 20:03:01,149]\u001b[0m Trial 610 finished with value: 0.8212290502793296 and parameters: {'lambda_l1': 1.0528451923666578e-06, 'lambda_l2': 0.000333815695071314, 'num_leaves': 180, 'feature_fraction': 0.7690192192493119, 'bagging_fraction': 0.9307144656751185, 'bagging_freq': 6, 'min_child_samples': 35}. Best is trial 17 with value: 0.888268156424581.\u001b[0m\n",
      "\u001b[32m[I 2021-12-20 20:03:01,297]\u001b[0m Trial 611 finished with value: 0.8491620111731844 and parameters: {'lambda_l1': 0.032493128197211306, 'lambda_l2': 2.241428837939345e-06, 'num_leaves': 186, 'feature_fraction': 0.5664249297707535, 'bagging_fraction': 0.8945347013667938, 'bagging_freq': 4, 'min_child_samples': 37}. Best is trial 17 with value: 0.888268156424581.\u001b[0m\n",
      "\u001b[32m[I 2021-12-20 20:03:01,458]\u001b[0m Trial 612 finished with value: 0.8268156424581006 and parameters: {'lambda_l1': 1.0213832414930981e-08, 'lambda_l2': 0.00040545977027022846, 'num_leaves': 189, 'feature_fraction': 0.6705465371779411, 'bagging_fraction': 0.910297833025941, 'bagging_freq': 3, 'min_child_samples': 24}. Best is trial 17 with value: 0.888268156424581.\u001b[0m\n",
      "\u001b[32m[I 2021-12-20 20:03:01,596]\u001b[0m Trial 613 finished with value: 0.8156424581005587 and parameters: {'lambda_l1': 3.1342957030882344e-07, 'lambda_l2': 3.777523475714307e-06, 'num_leaves': 164, 'feature_fraction': 0.590164233207118, 'bagging_fraction': 0.4299948877650016, 'bagging_freq': 2, 'min_child_samples': 31}. Best is trial 17 with value: 0.888268156424581.\u001b[0m\n",
      "\u001b[32m[I 2021-12-20 20:03:01,750]\u001b[0m Trial 614 finished with value: 0.8100558659217877 and parameters: {'lambda_l1': 0.1401373300748988, 'lambda_l2': 0.00013868372940308615, 'num_leaves': 241, 'feature_fraction': 0.4425809671783065, 'bagging_fraction': 0.8792414991901203, 'bagging_freq': 4, 'min_child_samples': 27}. Best is trial 17 with value: 0.888268156424581.\u001b[0m\n",
      "\u001b[32m[I 2021-12-20 20:03:01,909]\u001b[0m Trial 615 finished with value: 0.8100558659217877 and parameters: {'lambda_l1': 5.630259814526598e-07, 'lambda_l2': 0.00030220815813466085, 'num_leaves': 103, 'feature_fraction': 0.7943215448373484, 'bagging_fraction': 0.5450162115510208, 'bagging_freq': 1, 'min_child_samples': 12}. Best is trial 17 with value: 0.888268156424581.\u001b[0m\n",
      "\u001b[32m[I 2021-12-20 20:03:02,058]\u001b[0m Trial 616 finished with value: 0.8491620111731844 and parameters: {'lambda_l1': 0.0005080945058002448, 'lambda_l2': 0.0004414801888418396, 'num_leaves': 175, 'feature_fraction': 0.9213793605323949, 'bagging_fraction': 0.5802477466179717, 'bagging_freq': 1, 'min_child_samples': 22}. Best is trial 17 with value: 0.888268156424581.\u001b[0m\n",
      "\u001b[32m[I 2021-12-20 20:03:02,206]\u001b[0m Trial 617 finished with value: 0.8156424581005587 and parameters: {'lambda_l1': 0.29658924904444967, 'lambda_l2': 5.891754119375914e-05, 'num_leaves': 207, 'feature_fraction': 0.5473085976879081, 'bagging_fraction': 0.886642385326482, 'bagging_freq': 4, 'min_child_samples': 30}. Best is trial 17 with value: 0.888268156424581.\u001b[0m\n",
      "\u001b[32m[I 2021-12-20 20:03:02,371]\u001b[0m Trial 618 finished with value: 0.8324022346368715 and parameters: {'lambda_l1': 7.203658362758368e-07, 'lambda_l2': 0.00012126835404209182, 'num_leaves': 196, 'feature_fraction': 0.8372093102721009, 'bagging_fraction': 0.9487877215685956, 'bagging_freq': 6, 'min_child_samples': 27}. Best is trial 17 with value: 0.888268156424581.\u001b[0m\n",
      "\u001b[32m[I 2021-12-20 20:03:02,517]\u001b[0m Trial 619 finished with value: 0.8435754189944135 and parameters: {'lambda_l1': 0.038655443554846965, 'lambda_l2': 2.4438687034630535e-06, 'num_leaves': 180, 'feature_fraction': 0.7245649518644335, 'bagging_fraction': 0.9161533532159535, 'bagging_freq': 4, 'min_child_samples': 33}. Best is trial 17 with value: 0.888268156424581.\u001b[0m\n"
     ]
    },
    {
     "name": "stderr",
     "output_type": "stream",
     "text": [
      "\u001b[32m[I 2021-12-20 20:03:02,675]\u001b[0m Trial 620 finished with value: 0.8324022346368715 and parameters: {'lambda_l1': 1.6611474657557683e-08, 'lambda_l2': 0.00017456967080261814, 'num_leaves': 185, 'feature_fraction': 0.815983953621671, 'bagging_fraction': 0.9049872632274748, 'bagging_freq': 3, 'min_child_samples': 24}. Best is trial 17 with value: 0.888268156424581.\u001b[0m\n",
      "\u001b[32m[I 2021-12-20 20:03:02,829]\u001b[0m Trial 621 finished with value: 0.8268156424581006 and parameters: {'lambda_l1': 2.2678011080428005e-06, 'lambda_l2': 0.0008613857610496648, 'num_leaves': 157, 'feature_fraction': 0.780634679992948, 'bagging_fraction': 0.9902175856815888, 'bagging_freq': 3, 'min_child_samples': 35}. Best is trial 17 with value: 0.888268156424581.\u001b[0m\n",
      "\u001b[32m[I 2021-12-20 20:03:02,967]\u001b[0m Trial 622 finished with value: 0.8212290502793296 and parameters: {'lambda_l1': 0.00013773671580261137, 'lambda_l2': 2.7318741504101625e-05, 'num_leaves': 170, 'feature_fraction': 0.8009383574523543, 'bagging_fraction': 0.47394683768034346, 'bagging_freq': 4, 'min_child_samples': 32}. Best is trial 17 with value: 0.888268156424581.\u001b[0m\n",
      "\u001b[32m[I 2021-12-20 20:03:03,118]\u001b[0m Trial 623 finished with value: 0.8547486033519553 and parameters: {'lambda_l1': 8.60168603740332e-07, 'lambda_l2': 0.00011232543022415308, 'num_leaves': 202, 'feature_fraction': 0.8221158082481664, 'bagging_fraction': 0.9616822779912908, 'bagging_freq': 6, 'min_child_samples': 29}. Best is trial 17 with value: 0.888268156424581.\u001b[0m\n",
      "\u001b[32m[I 2021-12-20 20:03:03,287]\u001b[0m Trial 624 finished with value: 0.7653631284916201 and parameters: {'lambda_l1': 0.00487645339111428, 'lambda_l2': 0.00019348693168016667, 'num_leaves': 192, 'feature_fraction': 0.8103558088491304, 'bagging_fraction': 0.9212959472041367, 'bagging_freq': 4, 'min_child_samples': 26}. Best is trial 17 with value: 0.888268156424581.\u001b[0m\n",
      "\u001b[32m[I 2021-12-20 20:03:03,436]\u001b[0m Trial 625 finished with value: 0.8491620111731844 and parameters: {'lambda_l1': 0.48690343422835236, 'lambda_l2': 0.00030671480462173185, 'num_leaves': 184, 'feature_fraction': 0.7978473622748031, 'bagging_fraction': 0.9292491775544954, 'bagging_freq': 3, 'min_child_samples': 30}. Best is trial 17 with value: 0.888268156424581.\u001b[0m\n",
      "\u001b[32m[I 2021-12-20 20:03:03,569]\u001b[0m Trial 626 finished with value: 0.8547486033519553 and parameters: {'lambda_l1': 3.806730729311621e-07, 'lambda_l2': 1.306505817682058, 'num_leaves': 162, 'feature_fraction': 0.783834822469619, 'bagging_fraction': 0.49155059430401127, 'bagging_freq': 4, 'min_child_samples': 33}. Best is trial 17 with value: 0.888268156424581.\u001b[0m\n",
      "\u001b[32m[I 2021-12-20 20:03:03,749]\u001b[0m Trial 627 finished with value: 0.770949720670391 and parameters: {'lambda_l1': 2.845128849150035e-07, 'lambda_l2': 0.00022315479312548088, 'num_leaves': 80, 'feature_fraction': 0.8127341056785924, 'bagging_fraction': 0.9792706150040339, 'bagging_freq': 4, 'min_child_samples': 18}. Best is trial 17 with value: 0.888268156424581.\u001b[0m\n",
      "\u001b[32m[I 2021-12-20 20:03:04,059]\u001b[0m Trial 628 finished with value: 0.8379888268156425 and parameters: {'lambda_l1': 1.1283365482508692e-06, 'lambda_l2': 0.0001016000105966547, 'num_leaves': 189, 'feature_fraction': 0.8363792901019758, 'bagging_fraction': 0.9410856180825813, 'bagging_freq': 6, 'min_child_samples': 27}. Best is trial 17 with value: 0.888268156424581.\u001b[0m\n",
      "\u001b[32m[I 2021-12-20 20:03:04,219]\u001b[0m Trial 629 finished with value: 0.8156424581005587 and parameters: {'lambda_l1': 2.199705253170339e-07, 'lambda_l2': 4.676481769966619e-05, 'num_leaves': 217, 'feature_fraction': 0.8784028228022757, 'bagging_fraction': 0.8952178151513992, 'bagging_freq': 4, 'min_child_samples': 22}. Best is trial 17 with value: 0.888268156424581.\u001b[0m\n",
      "\u001b[32m[I 2021-12-20 20:03:04,387]\u001b[0m Trial 630 finished with value: 0.8268156424581006 and parameters: {'lambda_l1': 4.3740827409766987e-07, 'lambda_l2': 0.00023750939017309013, 'num_leaves': 177, 'feature_fraction': 0.8098999628269122, 'bagging_fraction': 0.9655462516562373, 'bagging_freq': 4, 'min_child_samples': 22}. Best is trial 17 with value: 0.888268156424581.\u001b[0m\n",
      "\u001b[32m[I 2021-12-20 20:03:04,547]\u001b[0m Trial 631 finished with value: 0.8491620111731844 and parameters: {'lambda_l1': 5.681976597937309e-07, 'lambda_l2': 0.0004609811228385512, 'num_leaves': 98, 'feature_fraction': 0.9508980887404195, 'bagging_fraction': 0.46362685184636243, 'bagging_freq': 1, 'min_child_samples': 13}. Best is trial 17 with value: 0.888268156424581.\u001b[0m\n",
      "\u001b[32m[I 2021-12-20 20:03:04,677]\u001b[0m Trial 632 finished with value: 0.8435754189944135 and parameters: {'lambda_l1': 4.84638907462735e-07, 'lambda_l2': 7.95635492699668e-05, 'num_leaves': 170, 'feature_fraction': 0.8648080521962219, 'bagging_fraction': 0.9280844487119739, 'bagging_freq': 4, 'min_child_samples': 75}. Best is trial 17 with value: 0.888268156424581.\u001b[0m\n",
      "\u001b[32m[I 2021-12-20 20:03:04,839]\u001b[0m Trial 633 finished with value: 0.8156424581005587 and parameters: {'lambda_l1': 2.9138856557552956e-07, 'lambda_l2': 0.0001701120255720982, 'num_leaves': 82, 'feature_fraction': 0.8212963464137507, 'bagging_fraction': 0.9538241239900218, 'bagging_freq': 4, 'min_child_samples': 24}. Best is trial 17 with value: 0.888268156424581.\u001b[0m\n",
      "\u001b[32m[I 2021-12-20 20:03:05,006]\u001b[0m Trial 634 finished with value: 0.8212290502793296 and parameters: {'lambda_l1': 2.957413332227642e-07, 'lambda_l2': 0.00024412682429706425, 'num_leaves': 36, 'feature_fraction': 0.8024607317047809, 'bagging_fraction': 0.9727739659469558, 'bagging_freq': 4, 'min_child_samples': 19}. Best is trial 17 with value: 0.888268156424581.\u001b[0m\n",
      "\u001b[32m[I 2021-12-20 20:03:05,166]\u001b[0m Trial 635 finished with value: 0.8491620111731844 and parameters: {'lambda_l1': 9.848870814717289e-07, 'lambda_l2': 0.0003175417539797136, 'num_leaves': 192, 'feature_fraction': 0.8222132265226162, 'bagging_fraction': 0.919778867246366, 'bagging_freq': 6, 'min_child_samples': 26}. Best is trial 17 with value: 0.888268156424581.\u001b[0m\n",
      "\u001b[32m[I 2021-12-20 20:03:05,301]\u001b[0m Trial 636 finished with value: 0.8491620111731844 and parameters: {'lambda_l1': 6.290331387123882e-07, 'lambda_l2': 1.2196373012481131e-06, 'num_leaves': 201, 'feature_fraction': 0.8318185329167586, 'bagging_fraction': 0.941092698414034, 'bagging_freq': 6, 'min_child_samples': 67}. Best is trial 17 with value: 0.888268156424581.\u001b[0m\n",
      "\u001b[32m[I 2021-12-20 20:03:05,463]\u001b[0m Trial 637 finished with value: 0.7541899441340782 and parameters: {'lambda_l1': 7.309291868771536e-07, 'lambda_l2': 0.00023014866207249961, 'num_leaves': 197, 'feature_fraction': 0.8438991792942289, 'bagging_fraction': 0.9477304489260456, 'bagging_freq': 6, 'min_child_samples': 26}. Best is trial 17 with value: 0.888268156424581.\u001b[0m\n",
      "\u001b[32m[I 2021-12-20 20:03:05,634]\u001b[0m Trial 638 finished with value: 0.8100558659217877 and parameters: {'lambda_l1': 0.019220056184229485, 'lambda_l2': 0.0003867322877102288, 'num_leaves': 107, 'feature_fraction': 0.7864433823800446, 'bagging_fraction': 0.9054976176948223, 'bagging_freq': 1, 'min_child_samples': 17}. Best is trial 17 with value: 0.888268156424581.\u001b[0m\n",
      "\u001b[32m[I 2021-12-20 20:03:05,778]\u001b[0m Trial 639 finished with value: 0.8156424581005587 and parameters: {'lambda_l1': 6.660276170795373e-08, 'lambda_l2': 6.557427724286941e-07, 'num_leaves': 206, 'feature_fraction': 0.8901861127704533, 'bagging_fraction': 0.8621394794717727, 'bagging_freq': 4, 'min_child_samples': 36}. Best is trial 17 with value: 0.888268156424581.\u001b[0m\n",
      "\u001b[32m[I 2021-12-20 20:03:05,925]\u001b[0m Trial 640 finished with value: 0.8268156424581006 and parameters: {'lambda_l1': 2.46916017680784e-07, 'lambda_l2': 0.00010900108691505852, 'num_leaves': 235, 'feature_fraction': 0.8635293990757439, 'bagging_fraction': 0.8787774006996615, 'bagging_freq': 4, 'min_child_samples': 38}. Best is trial 17 with value: 0.888268156424581.\u001b[0m\n",
      "\u001b[32m[I 2021-12-20 20:03:06,065]\u001b[0m Trial 641 finished with value: 0.7988826815642458 and parameters: {'lambda_l1': 2.736586503173901e-06, 'lambda_l2': 0.0005486549578805794, 'num_leaves': 174, 'feature_fraction': 0.7493655739444833, 'bagging_fraction': 0.44590624740476614, 'bagging_freq': 6, 'min_child_samples': 31}. Best is trial 17 with value: 0.888268156424581.\u001b[0m\n",
      "\u001b[32m[I 2021-12-20 20:03:06,223]\u001b[0m Trial 642 finished with value: 0.8268156424581006 and parameters: {'lambda_l1': 5.257618884375049e-07, 'lambda_l2': 3.69406581994454e-05, 'num_leaves': 165, 'feature_fraction': 0.8450731772576004, 'bagging_fraction': 0.9281689006513394, 'bagging_freq': 4, 'min_child_samples': 29}. Best is trial 17 with value: 0.888268156424581.\u001b[0m\n"
     ]
    },
    {
     "name": "stderr",
     "output_type": "stream",
     "text": [
      "\u001b[32m[I 2021-12-20 20:03:06,376]\u001b[0m Trial 643 finished with value: 0.8324022346368715 and parameters: {'lambda_l1': 1.5731606477543507e-06, 'lambda_l2': 0.0001397615954639186, 'num_leaves': 196, 'feature_fraction': 0.7698816912001291, 'bagging_fraction': 0.9379832240085735, 'bagging_freq': 6, 'min_child_samples': 28}. Best is trial 17 with value: 0.888268156424581.\u001b[0m\n",
      "\u001b[32m[I 2021-12-20 20:03:06,532]\u001b[0m Trial 644 finished with value: 0.7988826815642458 and parameters: {'lambda_l1': 5.559556565474793e-06, 'lambda_l2': 0.0009810503013903623, 'num_leaves': 179, 'feature_fraction': 0.7581243057109236, 'bagging_fraction': 0.912257818169366, 'bagging_freq': 6, 'min_child_samples': 34}. Best is trial 17 with value: 0.888268156424581.\u001b[0m\n",
      "\u001b[32m[I 2021-12-20 20:03:06,671]\u001b[0m Trial 645 finished with value: 0.8659217877094972 and parameters: {'lambda_l1': 1.6466303371265252e-06, 'lambda_l2': 0.001333548462684235, 'num_leaves': 167, 'feature_fraction': 0.7434868049971503, 'bagging_fraction': 0.42279952937318166, 'bagging_freq': 3, 'min_child_samples': 30}. Best is trial 17 with value: 0.888268156424581.\u001b[0m\n",
      "\u001b[32m[I 2021-12-20 20:03:06,834]\u001b[0m Trial 646 finished with value: 0.8044692737430168 and parameters: {'lambda_l1': 0.010479175175118927, 'lambda_l2': 1.6436517385907016e-05, 'num_leaves': 76, 'feature_fraction': 0.7984976900805746, 'bagging_fraction': 0.9648107733505147, 'bagging_freq': 7, 'min_child_samples': 20}. Best is trial 17 with value: 0.888268156424581.\u001b[0m\n",
      "\u001b[32m[I 2021-12-20 20:03:06,996]\u001b[0m Trial 647 finished with value: 0.8659217877094972 and parameters: {'lambda_l1': 4.5543932684345227e-07, 'lambda_l2': 0.0004035523186223331, 'num_leaves': 87, 'feature_fraction': 0.6240494200291126, 'bagging_fraction': 0.5672525055418371, 'bagging_freq': 1, 'min_child_samples': 14}. Best is trial 17 with value: 0.888268156424581.\u001b[0m\n",
      "\u001b[32m[I 2021-12-20 20:03:07,161]\u001b[0m Trial 648 finished with value: 0.8379888268156425 and parameters: {'lambda_l1': 3.38930214922697e-07, 'lambda_l2': 0.00016120544185749294, 'num_leaves': 79, 'feature_fraction': 0.47730766281834436, 'bagging_fraction': 0.9621691464128774, 'bagging_freq': 4, 'min_child_samples': 20}. Best is trial 17 with value: 0.888268156424581.\u001b[0m\n",
      "\u001b[32m[I 2021-12-20 20:03:07,327]\u001b[0m Trial 649 finished with value: 0.8212290502793296 and parameters: {'lambda_l1': 8.182546845073114e-07, 'lambda_l2': 0.0002258892531070028, 'num_leaves': 190, 'feature_fraction': 0.8138647909209877, 'bagging_fraction': 0.9384772466517861, 'bagging_freq': 6, 'min_child_samples': 25}. Best is trial 17 with value: 0.888268156424581.\u001b[0m\n",
      "\u001b[32m[I 2021-12-20 20:03:07,481]\u001b[0m Trial 650 finished with value: 0.8659217877094972 and parameters: {'lambda_l1': 3.648604167892148e-08, 'lambda_l2': 0.0002869496941700682, 'num_leaves': 184, 'feature_fraction': 0.8188894540940646, 'bagging_fraction': 0.9192596709455247, 'bagging_freq': 6, 'min_child_samples': 27}. Best is trial 17 with value: 0.888268156424581.\u001b[0m\n",
      "\u001b[32m[I 2021-12-20 20:03:07,615]\u001b[0m Trial 651 finished with value: 0.8715083798882681 and parameters: {'lambda_l1': 1.8989174607368624, 'lambda_l2': 6.697571671384332e-05, 'num_leaves': 209, 'feature_fraction': 0.6842559653131484, 'bagging_fraction': 0.4629331342461873, 'bagging_freq': 4, 'min_child_samples': 32}. Best is trial 17 with value: 0.888268156424581.\u001b[0m\n",
      "\u001b[32m[I 2021-12-20 20:03:07,749]\u001b[0m Trial 652 finished with value: 0.8212290502793296 and parameters: {'lambda_l1': 1.165365848460461, 'lambda_l2': 6.554857105487121e-05, 'num_leaves': 205, 'feature_fraction': 0.6838562020274065, 'bagging_fraction': 0.4516478589405475, 'bagging_freq': 4, 'min_child_samples': 33}. Best is trial 17 with value: 0.888268156424581.\u001b[0m\n",
      "\u001b[32m[I 2021-12-20 20:03:07,880]\u001b[0m Trial 653 finished with value: 0.8435754189944135 and parameters: {'lambda_l1': 0.7303437926381208, 'lambda_l2': 8.038638421888548e-05, 'num_leaves': 210, 'feature_fraction': 0.6932521935091402, 'bagging_fraction': 0.4630759225460039, 'bagging_freq': 4, 'min_child_samples': 32}. Best is trial 17 with value: 0.888268156424581.\u001b[0m\n",
      "\u001b[32m[I 2021-12-20 20:03:08,013]\u001b[0m Trial 654 finished with value: 0.7988826815642458 and parameters: {'lambda_l1': 2.5647679082359587, 'lambda_l2': 2.57826104340377e-05, 'num_leaves': 176, 'feature_fraction': 0.6736987749079539, 'bagging_fraction': 0.4637405274504916, 'bagging_freq': 4, 'min_child_samples': 31}. Best is trial 17 with value: 0.888268156424581.\u001b[0m\n",
      "\u001b[32m[I 2021-12-20 20:03:08,142]\u001b[0m Trial 655 finished with value: 0.8491620111731844 and parameters: {'lambda_l1': 2.486016536165729, 'lambda_l2': 1.542559593994691e-06, 'num_leaves': 157, 'feature_fraction': 0.6340270182493214, 'bagging_fraction': 0.4404092822348893, 'bagging_freq': 4, 'min_child_samples': 34}. Best is trial 17 with value: 0.888268156424581.\u001b[0m\n",
      "\u001b[32m[I 2021-12-20 20:03:08,273]\u001b[0m Trial 656 finished with value: 0.8100558659217877 and parameters: {'lambda_l1': 5.94799316904192, 'lambda_l2': 7.367531231281197e-05, 'num_leaves': 201, 'feature_fraction': 0.7113130019160616, 'bagging_fraction': 0.4745709422575128, 'bagging_freq': 4, 'min_child_samples': 36}. Best is trial 17 with value: 0.888268156424581.\u001b[0m\n",
      "\u001b[32m[I 2021-12-20 20:03:08,398]\u001b[0m Trial 657 finished with value: 0.7821229050279329 and parameters: {'lambda_l1': 3.5469768050670485, 'lambda_l2': 5.07675822686536e-05, 'num_leaves': 170, 'feature_fraction': 0.7083693662258914, 'bagging_fraction': 0.4492692067977611, 'bagging_freq': 4, 'min_child_samples': 30}. Best is trial 17 with value: 0.888268156424581.\u001b[0m\n",
      "\u001b[32m[I 2021-12-20 20:03:08,528]\u001b[0m Trial 658 finished with value: 0.8324022346368715 and parameters: {'lambda_l1': 4.567239599169334, 'lambda_l2': 3.272778275736339e-05, 'num_leaves': 212, 'feature_fraction': 0.6733303154217969, 'bagging_fraction': 0.45985193897675436, 'bagging_freq': 4, 'min_child_samples': 38}. Best is trial 17 with value: 0.888268156424581.\u001b[0m\n",
      "\u001b[32m[I 2021-12-20 20:03:08,657]\u001b[0m Trial 659 finished with value: 0.8659217877094972 and parameters: {'lambda_l1': 1.5325835774936443, 'lambda_l2': 0.00010741523591639471, 'num_leaves': 200, 'feature_fraction': 0.6631002275010021, 'bagging_fraction': 0.4344498082945951, 'bagging_freq': 4, 'min_child_samples': 32}. Best is trial 17 with value: 0.888268156424581.\u001b[0m\n",
      "\u001b[32m[I 2021-12-20 20:03:08,787]\u001b[0m Trial 660 finished with value: 0.7932960893854749 and parameters: {'lambda_l1': 8.715025851967505, 'lambda_l2': 0.00012531452819415222, 'num_leaves': 182, 'feature_fraction': 0.7781449028593926, 'bagging_fraction': 0.6014892440202844, 'bagging_freq': 4, 'min_child_samples': 35}. Best is trial 17 with value: 0.888268156424581.\u001b[0m\n",
      "\u001b[32m[I 2021-12-20 20:03:08,919]\u001b[0m Trial 661 finished with value: 0.8491620111731844 and parameters: {'lambda_l1': 9.345558967463875, 'lambda_l2': 1.4868798037974588e-05, 'num_leaves': 163, 'feature_fraction': 0.6859100624927831, 'bagging_fraction': 0.8996049283129419, 'bagging_freq': 4, 'min_child_samples': 29}. Best is trial 17 with value: 0.888268156424581.\u001b[0m\n",
      "\u001b[32m[I 2021-12-20 20:03:09,050]\u001b[0m Trial 662 finished with value: 0.7653631284916201 and parameters: {'lambda_l1': 2.002831418525417, 'lambda_l2': 4.80125424416966e-05, 'num_leaves': 204, 'feature_fraction': 0.6567455976671337, 'bagging_fraction': 0.4824245570650954, 'bagging_freq': 4, 'min_child_samples': 33}. Best is trial 17 with value: 0.888268156424581.\u001b[0m\n",
      "\u001b[32m[I 2021-12-20 20:03:09,187]\u001b[0m Trial 663 finished with value: 0.8212290502793296 and parameters: {'lambda_l1': 3.820575388483458, 'lambda_l2': 8.904764077383328e-05, 'num_leaves': 90, 'feature_fraction': 0.6908494523052796, 'bagging_fraction': 0.6104986548041196, 'bagging_freq': 5, 'min_child_samples': 29}. Best is trial 17 with value: 0.888268156424581.\u001b[0m\n",
      "\u001b[32m[I 2021-12-20 20:03:09,320]\u001b[0m Trial 664 finished with value: 0.8379888268156425 and parameters: {'lambda_l1': 0.2096766431067758, 'lambda_l2': 0.0006526694146747268, 'num_leaves': 218, 'feature_fraction': 0.699683153408131, 'bagging_fraction': 0.44747396473692774, 'bagging_freq': 4, 'min_child_samples': 31}. Best is trial 17 with value: 0.888268156424581.\u001b[0m\n",
      "\u001b[32m[I 2021-12-20 20:03:09,457]\u001b[0m Trial 665 finished with value: 0.7932960893854749 and parameters: {'lambda_l1': 1.6731138590698065, 'lambda_l2': 0.0004608369323123894, 'num_leaves': 173, 'feature_fraction': 0.7878468334882942, 'bagging_fraction': 0.4595320143935092, 'bagging_freq': 4, 'min_child_samples': 24}. Best is trial 17 with value: 0.888268156424581.\u001b[0m\n"
     ]
    },
    {
     "name": "stderr",
     "output_type": "stream",
     "text": [
      "\u001b[32m[I 2021-12-20 20:03:09,597]\u001b[0m Trial 666 finished with value: 0.7988826815642458 and parameters: {'lambda_l1': 0.0025106231140512992, 'lambda_l2': 0.00017102770234658088, 'num_leaves': 254, 'feature_fraction': 0.6998399226278074, 'bagging_fraction': 0.415641265807247, 'bagging_freq': 4, 'min_child_samples': 28}. Best is trial 17 with value: 0.888268156424581.\u001b[0m\n",
      "\u001b[32m[I 2021-12-20 20:03:09,749]\u001b[0m Trial 667 finished with value: 0.8156424581005587 and parameters: {'lambda_l1': 9.732220960394173e-07, 'lambda_l2': 0.00017299132141003284, 'num_leaves': 154, 'feature_fraction': 0.7697616189579733, 'bagging_fraction': 0.9100061221758773, 'bagging_freq': 4, 'min_child_samples': 35}. Best is trial 17 with value: 0.888268156424581.\u001b[0m\n",
      "\u001b[32m[I 2021-12-20 20:03:09,884]\u001b[0m Trial 668 finished with value: 0.8212290502793296 and parameters: {'lambda_l1': 4.716293333797337, 'lambda_l2': 2.291215605980328e-06, 'num_leaves': 178, 'feature_fraction': 0.7167588686757163, 'bagging_fraction': 0.4277384226692666, 'bagging_freq': 4, 'min_child_samples': 32}. Best is trial 17 with value: 0.888268156424581.\u001b[0m\n",
      "\u001b[32m[I 2021-12-20 20:03:10,042]\u001b[0m Trial 669 finished with value: 0.8268156424581006 and parameters: {'lambda_l1': 7.221604284919454e-07, 'lambda_l2': 8.666703974373093e-07, 'num_leaves': 160, 'feature_fraction': 0.6418135490871931, 'bagging_fraction': 0.9290875088454237, 'bagging_freq': 4, 'min_child_samples': 28}. Best is trial 17 with value: 0.888268156424581.\u001b[0m\n",
      "\u001b[32m[I 2021-12-20 20:03:10,172]\u001b[0m Trial 670 finished with value: 0.8212290502793296 and parameters: {'lambda_l1': 1.056260382856559, 'lambda_l2': 9.423490209675093, 'num_leaves': 195, 'feature_fraction': 0.8034649225692637, 'bagging_fraction': 0.47226470743439786, 'bagging_freq': 4, 'min_child_samples': 38}. Best is trial 17 with value: 0.888268156424581.\u001b[0m\n",
      "\u001b[32m[I 2021-12-20 20:03:10,300]\u001b[0m Trial 671 finished with value: 0.8156424581005587 and parameters: {'lambda_l1': 5.92815784428343, 'lambda_l2': 2.1776414701520956e-05, 'num_leaves': 189, 'feature_fraction': 0.7332477447313063, 'bagging_fraction': 0.667300507775377, 'bagging_freq': 4, 'min_child_samples': 25}. Best is trial 17 with value: 0.888268156424581.\u001b[0m\n",
      "\u001b[32m[I 2021-12-20 20:03:10,454]\u001b[0m Trial 672 finished with value: 0.8324022346368715 and parameters: {'lambda_l1': 1.4017303654178469e-06, 'lambda_l2': 0.00030959956625484925, 'num_leaves': 184, 'feature_fraction': 0.6843510358825611, 'bagging_fraction': 0.9024765505689991, 'bagging_freq': 3, 'min_child_samples': 31}. Best is trial 17 with value: 0.888268156424581.\u001b[0m\n",
      "\u001b[32m[I 2021-12-20 20:03:10,613]\u001b[0m Trial 673 finished with value: 0.8212290502793296 and parameters: {'lambda_l1': 4.402366203321437e-07, 'lambda_l2': 0.00010975855949699056, 'num_leaves': 85, 'feature_fraction': 0.605828127464296, 'bagging_fraction': 0.918532531314209, 'bagging_freq': 4, 'min_child_samples': 34}. Best is trial 17 with value: 0.888268156424581.\u001b[0m\n",
      "\u001b[32m[I 2021-12-20 20:03:10,773]\u001b[0m Trial 674 finished with value: 0.8212290502793296 and parameters: {'lambda_l1': 1.2278464376921095e-06, 'lambda_l2': 3.3195098232067877e-06, 'num_leaves': 168, 'feature_fraction': 0.7805492221960033, 'bagging_fraction': 0.6307179632152449, 'bagging_freq': 5, 'min_child_samples': 23}. Best is trial 17 with value: 0.888268156424581.\u001b[0m\n",
      "\u001b[32m[I 2021-12-20 20:03:10,921]\u001b[0m Trial 675 finished with value: 0.8100558659217877 and parameters: {'lambda_l1': 7.1725578212082e-07, 'lambda_l2': 6.920600675916232e-05, 'num_leaves': 92, 'feature_fraction': 0.7940540335304558, 'bagging_fraction': 0.932403774628733, 'bagging_freq': 7, 'min_child_samples': 40}. Best is trial 17 with value: 0.888268156424581.\u001b[0m\n",
      "\u001b[32m[I 2021-12-20 20:03:11,072]\u001b[0m Trial 676 finished with value: 0.8212290502793296 and parameters: {'lambda_l1': 0.4252739610640515, 'lambda_l2': 0.0005530462158181893, 'num_leaves': 198, 'feature_fraction': 0.8029165325172495, 'bagging_fraction': 0.8911000290233976, 'bagging_freq': 4, 'min_child_samples': 27}. Best is trial 17 with value: 0.888268156424581.\u001b[0m\n",
      "\u001b[32m[I 2021-12-20 20:03:11,227]\u001b[0m Trial 677 finished with value: 0.8379888268156425 and parameters: {'lambda_l1': 4.622844002633802e-07, 'lambda_l2': 0.00024433729861412655, 'num_leaves': 209, 'feature_fraction': 0.6986264804611554, 'bagging_fraction': 0.9110363262165475, 'bagging_freq': 3, 'min_child_samples': 29}. Best is trial 17 with value: 0.888268156424581.\u001b[0m\n",
      "\u001b[32m[I 2021-12-20 20:03:11,379]\u001b[0m Trial 678 finished with value: 0.8379888268156425 and parameters: {'lambda_l1': 3.0357637301766497e-07, 'lambda_l2': 1.0750337780899297e-05, 'num_leaves': 173, 'feature_fraction': 0.7922347613016537, 'bagging_fraction': 0.9997663215540047, 'bagging_freq': 4, 'min_child_samples': 36}. Best is trial 17 with value: 0.888268156424581.\u001b[0m\n",
      "\u001b[32m[I 2021-12-20 20:03:11,521]\u001b[0m Trial 679 finished with value: 0.8547486033519553 and parameters: {'lambda_l1': 1.0494564647652542e-06, 'lambda_l2': 0.00016721839568818693, 'num_leaves': 178, 'feature_fraction': 0.7518932146532683, 'bagging_fraction': 0.48774132629183115, 'bagging_freq': 3, 'min_child_samples': 31}. Best is trial 17 with value: 0.888268156424581.\u001b[0m\n",
      "\u001b[32m[I 2021-12-20 20:03:11,674]\u001b[0m Trial 680 finished with value: 0.8379888268156425 and parameters: {'lambda_l1': 6.578972898363518e-07, 'lambda_l2': 0.00031884660915048295, 'num_leaves': 141, 'feature_fraction': 0.7735366512805504, 'bagging_fraction': 0.9499624822496814, 'bagging_freq': 4, 'min_child_samples': 33}. Best is trial 17 with value: 0.888268156424581.\u001b[0m\n",
      "\u001b[32m[I 2021-12-20 20:03:11,885]\u001b[0m Trial 681 finished with value: 0.8044692737430168 and parameters: {'lambda_l1': 3.6827969458210266e-07, 'lambda_l2': 0.0007205077982568947, 'num_leaves': 186, 'feature_fraction': 0.6560524190332281, 'bagging_fraction': 0.9311105189547568, 'bagging_freq': 4, 'min_child_samples': 25}. Best is trial 17 with value: 0.888268156424581.\u001b[0m\n",
      "\u001b[32m[I 2021-12-20 20:03:12,024]\u001b[0m Trial 682 finished with value: 0.7988826815642458 and parameters: {'lambda_l1': 1.7688112365359842e-07, 'lambda_l2': 0.00043896730172742995, 'num_leaves': 84, 'feature_fraction': 0.8295511810882112, 'bagging_fraction': 0.45974294916633335, 'bagging_freq': 3, 'min_child_samples': 29}. Best is trial 17 with value: 0.888268156424581.\u001b[0m\n",
      "\u001b[32m[I 2021-12-20 20:03:12,181]\u001b[0m Trial 683 finished with value: 0.8156424581005587 and parameters: {'lambda_l1': 6.596279808867781e-07, 'lambda_l2': 0.00021732629216952344, 'num_leaves': 166, 'feature_fraction': 0.41894901684544117, 'bagging_fraction': 0.9026804248811501, 'bagging_freq': 6, 'min_child_samples': 27}. Best is trial 17 with value: 0.888268156424581.\u001b[0m\n",
      "\u001b[32m[I 2021-12-20 20:03:12,333]\u001b[0m Trial 684 finished with value: 0.7877094972067039 and parameters: {'lambda_l1': 0.10229127774141362, 'lambda_l2': 0.00013626895712170946, 'num_leaves': 205, 'feature_fraction': 0.8096494432237464, 'bagging_fraction': 0.921643547505837, 'bagging_freq': 4, 'min_child_samples': 30}. Best is trial 17 with value: 0.888268156424581.\u001b[0m\n",
      "\u001b[32m[I 2021-12-20 20:03:12,488]\u001b[0m Trial 685 finished with value: 0.8547486033519553 and parameters: {'lambda_l1': 1.4316656748310725e-06, 'lambda_l2': 1.5616700023267491e-06, 'num_leaves': 181, 'feature_fraction': 0.7897869677098521, 'bagging_fraction': 0.6978545212278721, 'bagging_freq': 4, 'min_child_samples': 23}. Best is trial 17 with value: 0.888268156424581.\u001b[0m\n",
      "\u001b[32m[I 2021-12-20 20:03:12,627]\u001b[0m Trial 686 finished with value: 0.8770949720670391 and parameters: {'lambda_l1': 0.019310424997893743, 'lambda_l2': 6.161028862165095e-05, 'num_leaves': 223, 'feature_fraction': 0.7392439270973367, 'bagging_fraction': 0.8873739868871637, 'bagging_freq': 3, 'min_child_samples': 78}. Best is trial 17 with value: 0.888268156424581.\u001b[0m\n",
      "\u001b[32m[I 2021-12-20 20:03:12,767]\u001b[0m Trial 687 finished with value: 0.8491620111731844 and parameters: {'lambda_l1': 0.020278869406448824, 'lambda_l2': 3.8568982089286536e-05, 'num_leaves': 225, 'feature_fraction': 0.731100846520618, 'bagging_fraction': 0.8713742790091731, 'bagging_freq': 6, 'min_child_samples': 72}. Best is trial 17 with value: 0.888268156424581.\u001b[0m\n",
      "\u001b[32m[I 2021-12-20 20:03:12,912]\u001b[0m Trial 688 finished with value: 0.8268156424581006 and parameters: {'lambda_l1': 0.005147477047931806, 'lambda_l2': 3.706719636364869e-05, 'num_leaves': 215, 'feature_fraction': 0.7089678283082574, 'bagging_fraction': 0.8862974061774106, 'bagging_freq': 3, 'min_child_samples': 71}. Best is trial 17 with value: 0.888268156424581.\u001b[0m\n"
     ]
    },
    {
     "name": "stderr",
     "output_type": "stream",
     "text": [
      "\u001b[32m[I 2021-12-20 20:03:13,053]\u001b[0m Trial 689 finished with value: 0.8491620111731844 and parameters: {'lambda_l1': 0.020799416015397473, 'lambda_l2': 5.157070218374756e-05, 'num_leaves': 211, 'feature_fraction': 0.76973704089703, 'bagging_fraction': 0.8890906044362666, 'bagging_freq': 3, 'min_child_samples': 68}. Best is trial 17 with value: 0.888268156424581.\u001b[0m\n",
      "\u001b[32m[I 2021-12-20 20:03:13,190]\u001b[0m Trial 690 finished with value: 0.8044692737430168 and parameters: {'lambda_l1': 0.03412192239804559, 'lambda_l2': 7.44021906048891e-06, 'num_leaves': 232, 'feature_fraction': 0.7475718388653618, 'bagging_fraction': 0.8997394012253414, 'bagging_freq': 3, 'min_child_samples': 89}. Best is trial 17 with value: 0.888268156424581.\u001b[0m\n",
      "\u001b[32m[I 2021-12-20 20:03:13,321]\u001b[0m Trial 691 finished with value: 0.8156424581005587 and parameters: {'lambda_l1': 4.009621260455306e-07, 'lambda_l2': 5.595364818600536e-05, 'num_leaves': 218, 'feature_fraction': 0.7183095792012401, 'bagging_fraction': 0.8799786088706189, 'bagging_freq': 4, 'min_child_samples': 80}. Best is trial 17 with value: 0.888268156424581.\u001b[0m\n",
      "\u001b[32m[I 2021-12-20 20:03:13,453]\u001b[0m Trial 692 finished with value: 0.8659217877094972 and parameters: {'lambda_l1': 0.009695280157326605, 'lambda_l2': 7.384892871469657e-05, 'num_leaves': 221, 'feature_fraction': 0.7370266915791258, 'bagging_fraction': 0.9122753018089, 'bagging_freq': 4, 'min_child_samples': 75}. Best is trial 17 with value: 0.888268156424581.\u001b[0m\n",
      "\u001b[32m[I 2021-12-20 20:03:13,610]\u001b[0m Trial 693 finished with value: 0.7932960893854749 and parameters: {'lambda_l1': 0.018955868063549944, 'lambda_l2': 9.092022503428403e-05, 'num_leaves': 212, 'feature_fraction': 0.7402206607009022, 'bagging_fraction': 0.9543929723989508, 'bagging_freq': 6, 'min_child_samples': 37}. Best is trial 17 with value: 0.888268156424581.\u001b[0m\n",
      "\u001b[32m[I 2021-12-20 20:03:13,741]\u001b[0m Trial 694 finished with value: 0.7597765363128491 and parameters: {'lambda_l1': 0.05783394568455695, 'lambda_l2': 7.911326863010709e-05, 'num_leaves': 223, 'feature_fraction': 0.7399427578459534, 'bagging_fraction': 0.43079457277849464, 'bagging_freq': 4, 'min_child_samples': 95}. Best is trial 17 with value: 0.888268156424581.\u001b[0m\n",
      "\u001b[32m[I 2021-12-20 20:03:13,904]\u001b[0m Trial 695 finished with value: 0.7932960893854749 and parameters: {'lambda_l1': 0.011344588073810119, 'lambda_l2': 0.00030223192871225535, 'num_leaves': 239, 'feature_fraction': 0.7539092351027135, 'bagging_fraction': 0.9031018942235028, 'bagging_freq': 3, 'min_child_samples': 26}. Best is trial 17 with value: 0.888268156424581.\u001b[0m\n",
      "\u001b[32m[I 2021-12-20 20:03:14,037]\u001b[0m Trial 696 finished with value: 0.8156424581005587 and parameters: {'lambda_l1': 0.01569861593657092, 'lambda_l2': 4.20255707716322e-06, 'num_leaves': 230, 'feature_fraction': 0.7676760083709756, 'bagging_fraction': 0.8822078796966226, 'bagging_freq': 3, 'min_child_samples': 88}. Best is trial 17 with value: 0.888268156424581.\u001b[0m\n",
      "\u001b[32m[I 2021-12-20 20:03:14,176]\u001b[0m Trial 697 finished with value: 0.8324022346368715 and parameters: {'lambda_l1': 0.007528632214333174, 'lambda_l2': 0.0005345316062331806, 'num_leaves': 245, 'feature_fraction': 0.7629859008101757, 'bagging_fraction': 0.8915477487300546, 'bagging_freq': 3, 'min_child_samples': 83}. Best is trial 17 with value: 0.888268156424581.\u001b[0m\n",
      "\u001b[32m[I 2021-12-20 20:03:14,325]\u001b[0m Trial 698 finished with value: 0.8324022346368715 and parameters: {'lambda_l1': 0.032894011941709135, 'lambda_l2': 3.2906095252845846e-05, 'num_leaves': 206, 'feature_fraction': 0.7216661352756698, 'bagging_fraction': 0.9367360484202157, 'bagging_freq': 5, 'min_child_samples': 39}. Best is trial 17 with value: 0.888268156424581.\u001b[0m\n",
      "\u001b[32m[I 2021-12-20 20:03:14,465]\u001b[0m Trial 699 finished with value: 0.7988826815642458 and parameters: {'lambda_l1': 3.1453252625060704, 'lambda_l2': 1.8226390252001665e-05, 'num_leaves': 218, 'feature_fraction': 0.8224758978173599, 'bagging_fraction': 0.9198671217420535, 'bagging_freq': 2, 'min_child_samples': 33}. Best is trial 17 with value: 0.888268156424581.\u001b[0m\n",
      "\u001b[32m[I 2021-12-20 20:03:14,614]\u001b[0m Trial 700 finished with value: 0.8491620111731844 and parameters: {'lambda_l1': 2.415923894577659e-06, 'lambda_l2': 0.00011550447971894896, 'num_leaves': 204, 'feature_fraction': 0.7305935475089806, 'bagging_fraction': 0.8648786893903234, 'bagging_freq': 4, 'min_child_samples': 35}. Best is trial 17 with value: 0.888268156424581.\u001b[0m\n",
      "\u001b[32m[I 2021-12-20 20:03:14,743]\u001b[0m Trial 701 finished with value: 0.8044692737430168 and parameters: {'lambda_l1': 9.355266594995331e-07, 'lambda_l2': 5.259546109654094e-05, 'num_leaves': 214, 'feature_fraction': 0.6817105603198301, 'bagging_fraction': 0.4413237098346978, 'bagging_freq': 6, 'min_child_samples': 85}. Best is trial 17 with value: 0.888268156424581.\u001b[0m\n",
      "\u001b[32m[I 2021-12-20 20:03:14,883]\u001b[0m Trial 702 finished with value: 0.8547486033519553 and parameters: {'lambda_l1': 2.296021220242286e-07, 'lambda_l2': 1.9445872164283968e-05, 'num_leaves': 251, 'feature_fraction': 0.6443288024728723, 'bagging_fraction': 0.9086445014124014, 'bagging_freq': 3, 'min_child_samples': 65}. Best is trial 17 with value: 0.888268156424581.\u001b[0m\n",
      "\u001b[32m[I 2021-12-20 20:03:15,023]\u001b[0m Trial 703 finished with value: 0.8547486033519553 and parameters: {'lambda_l1': 0.02630654419007747, 'lambda_l2': 0.0001745442463053014, 'num_leaves': 200, 'feature_fraction': 0.7140109257385117, 'bagging_fraction': 0.47671029786176633, 'bagging_freq': 4, 'min_child_samples': 31}. Best is trial 17 with value: 0.888268156424581.\u001b[0m\n",
      "\u001b[32m[I 2021-12-20 20:03:15,163]\u001b[0m Trial 704 finished with value: 0.8268156424581006 and parameters: {'lambda_l1': 0.025376474535748376, 'lambda_l2': 9.93502487794976e-05, 'num_leaves': 193, 'feature_fraction': 0.8059122399799574, 'bagging_fraction': 0.9819648977488444, 'bagging_freq': 4, 'min_child_samples': 73}. Best is trial 17 with value: 0.888268156424581.\u001b[0m\n",
      "\u001b[32m[I 2021-12-20 20:03:15,318]\u001b[0m Trial 705 finished with value: 0.8044692737430168 and parameters: {'lambda_l1': 0.0009402136398525549, 'lambda_l2': 1.9307556595859083e-06, 'num_leaves': 160, 'feature_fraction': 0.6147080397783444, 'bagging_fraction': 0.9006976320284241, 'bagging_freq': 3, 'min_child_samples': 32}. Best is trial 17 with value: 0.888268156424581.\u001b[0m\n",
      "\u001b[32m[I 2021-12-20 20:03:15,487]\u001b[0m Trial 706 finished with value: 0.7877094972067039 and parameters: {'lambda_l1': 0.006634740569662107, 'lambda_l2': 3.1435838873922944e-06, 'num_leaves': 210, 'feature_fraction': 0.8561461598872491, 'bagging_fraction': 0.9285755961407568, 'bagging_freq': 3, 'min_child_samples': 21}. Best is trial 17 with value: 0.888268156424581.\u001b[0m\n",
      "\u001b[32m[I 2021-12-20 20:03:15,623]\u001b[0m Trial 707 finished with value: 0.8044692737430168 and parameters: {'lambda_l1': 5.119522345450494e-07, 'lambda_l2': 6.208420141121607e-05, 'num_leaves': 172, 'feature_fraction': 0.7460303051334832, 'bagging_fraction': 0.8946494560954257, 'bagging_freq': 6, 'min_child_samples': 92}. Best is trial 17 with value: 0.888268156424581.\u001b[0m\n",
      "\u001b[32m[I 2021-12-20 20:03:15,757]\u001b[0m Trial 708 finished with value: 0.8268156424581006 and parameters: {'lambda_l1': 0.013480936498492415, 'lambda_l2': 0.00032208167770133303, 'num_leaves': 89, 'feature_fraction': 0.7832987648120158, 'bagging_fraction': 0.9451724482997178, 'bagging_freq': 3, 'min_child_samples': 77}. Best is trial 17 with value: 0.888268156424581.\u001b[0m\n",
      "\u001b[32m[I 2021-12-20 20:03:15,904]\u001b[0m Trial 709 finished with value: 0.8268156424581006 and parameters: {'lambda_l1': 0.27590087962434495, 'lambda_l2': 1.1941845090641934e-06, 'num_leaves': 83, 'feature_fraction': 0.5910706106078614, 'bagging_fraction': 0.9158298671405012, 'bagging_freq': 3, 'min_child_samples': 40}. Best is trial 17 with value: 0.888268156424581.\u001b[0m\n",
      "\u001b[32m[I 2021-12-20 20:03:16,061]\u001b[0m Trial 710 finished with value: 0.8100558659217877 and parameters: {'lambda_l1': 1.0819595829414268e-06, 'lambda_l2': 0.0008798786767431822, 'num_leaves': 100, 'feature_fraction': 0.7558846880926209, 'bagging_fraction': 0.847850084315995, 'bagging_freq': 3, 'min_child_samples': 24}. Best is trial 17 with value: 0.888268156424581.\u001b[0m\n",
      "\u001b[32m[I 2021-12-20 20:03:16,216]\u001b[0m Trial 711 finished with value: 0.8156424581005587 and parameters: {'lambda_l1': 2.926231478357522e-07, 'lambda_l2': 0.00020314125109095925, 'num_leaves': 94, 'feature_fraction': 0.8338231361997752, 'bagging_fraction': 0.9198715919379457, 'bagging_freq': 3, 'min_child_samples': 27}. Best is trial 17 with value: 0.888268156424581.\u001b[0m\n"
     ]
    },
    {
     "name": "stderr",
     "output_type": "stream",
     "text": [
      "\u001b[32m[I 2021-12-20 20:03:16,355]\u001b[0m Trial 712 finished with value: 0.8715083798882681 and parameters: {'lambda_l1': 6.217879492935922e-07, 'lambda_l2': 0.0001302233860573964, 'num_leaves': 187, 'feature_fraction': 0.8228472456437513, 'bagging_fraction': 0.45100734909710505, 'bagging_freq': 4, 'min_child_samples': 28}. Best is trial 17 with value: 0.888268156424581.\u001b[0m\n",
      "\u001b[32m[I 2021-12-20 20:03:16,492]\u001b[0m Trial 713 finished with value: 0.8379888268156425 and parameters: {'lambda_l1': 6.375794673197627e-07, 'lambda_l2': 0.00012372703315271732, 'num_leaves': 190, 'feature_fraction': 0.8374593842378362, 'bagging_fraction': 0.4175479409752697, 'bagging_freq': 4, 'min_child_samples': 28}. Best is trial 17 with value: 0.888268156424581.\u001b[0m\n",
      "\u001b[32m[I 2021-12-20 20:03:16,649]\u001b[0m Trial 714 finished with value: 0.8770949720670391 and parameters: {'lambda_l1': 1.5679295097602886e-06, 'lambda_l2': 0.00011644559405284222, 'num_leaves': 188, 'feature_fraction': 0.8250189986267471, 'bagging_fraction': 0.9588993599568012, 'bagging_freq': 4, 'min_child_samples': 30}. Best is trial 17 with value: 0.888268156424581.\u001b[0m\n",
      "\u001b[32m[I 2021-12-20 20:03:16,809]\u001b[0m Trial 715 finished with value: 0.8435754189944135 and parameters: {'lambda_l1': 1.8796180556794444e-06, 'lambda_l2': 0.00021608718144676346, 'num_leaves': 182, 'feature_fraction': 0.8415328506832851, 'bagging_fraction': 0.9647928688046142, 'bagging_freq': 6, 'min_child_samples': 30}. Best is trial 17 with value: 0.888268156424581.\u001b[0m\n",
      "\u001b[32m[I 2021-12-20 20:03:16,955]\u001b[0m Trial 716 finished with value: 0.888268156424581 and parameters: {'lambda_l1': 0.7757761172141157, 'lambda_l2': 2.9435683588417634e-05, 'num_leaves': 228, 'feature_fraction': 0.7293427237137128, 'bagging_fraction': 0.8766727094748659, 'bagging_freq': 4, 'min_child_samples': 35}. Best is trial 17 with value: 0.888268156424581.\u001b[0m\n",
      "\u001b[32m[I 2021-12-20 20:03:17,103]\u001b[0m Trial 717 finished with value: 0.7821229050279329 and parameters: {'lambda_l1': 1.527729658256817, 'lambda_l2': 2.450107717869106e-05, 'num_leaves': 225, 'feature_fraction': 0.6948638555751252, 'bagging_fraction': 0.8674591674915718, 'bagging_freq': 4, 'min_child_samples': 35}. Best is trial 17 with value: 0.888268156424581.\u001b[0m\n",
      "\u001b[32m[I 2021-12-20 20:03:17,255]\u001b[0m Trial 718 finished with value: 0.8212290502793296 and parameters: {'lambda_l1': 0.14300149762800107, 'lambda_l2': 1.4665530282671763e-05, 'num_leaves': 228, 'feature_fraction': 0.8176477247175697, 'bagging_fraction': 0.8726899878446476, 'bagging_freq': 4, 'min_child_samples': 34}. Best is trial 17 with value: 0.888268156424581.\u001b[0m\n",
      "\u001b[32m[I 2021-12-20 20:03:17,407]\u001b[0m Trial 719 finished with value: 0.8212290502793296 and parameters: {'lambda_l1': 1.6874658327760536e-06, 'lambda_l2': 3.4245293297386515e-05, 'num_leaves': 185, 'feature_fraction': 0.8274865295551533, 'bagging_fraction': 0.8661605954669043, 'bagging_freq': 5, 'min_child_samples': 29}. Best is trial 17 with value: 0.888268156424581.\u001b[0m\n",
      "\u001b[32m[I 2021-12-20 20:03:17,546]\u001b[0m Trial 720 finished with value: 0.8156424581005587 and parameters: {'lambda_l1': 2.7830798539830658e-06, 'lambda_l2': 1.5041794928505405e-05, 'num_leaves': 236, 'feature_fraction': 0.5207313490198374, 'bagging_fraction': 0.8814026002228973, 'bagging_freq': 5, 'min_child_samples': 100}. Best is trial 17 with value: 0.888268156424581.\u001b[0m\n",
      "\u001b[32m[I 2021-12-20 20:03:17,678]\u001b[0m Trial 721 finished with value: 0.8212290502793296 and parameters: {'lambda_l1': 0.058744337445463694, 'lambda_l2': 9.96419252763728e-06, 'num_leaves': 227, 'feature_fraction': 0.8243988297787718, 'bagging_fraction': 0.8759047862082131, 'bagging_freq': 7, 'min_child_samples': 79}. Best is trial 17 with value: 0.888268156424581.\u001b[0m\n",
      "\u001b[32m[I 2021-12-20 20:03:17,837]\u001b[0m Trial 722 finished with value: 0.8324022346368715 and parameters: {'lambda_l1': 1.2817802657589329e-06, 'lambda_l2': 3.7098659238339586e-05, 'num_leaves': 232, 'feature_fraction': 0.7090588828749901, 'bagging_fraction': 0.9846884415599746, 'bagging_freq': 4, 'min_child_samples': 32}. Best is trial 17 with value: 0.888268156424581.\u001b[0m\n",
      "\u001b[32m[I 2021-12-20 20:03:17,977]\u001b[0m Trial 723 finished with value: 0.8100558659217877 and parameters: {'lambda_l1': 1.3964258020010787, 'lambda_l2': 2.2842279125146254e-05, 'num_leaves': 217, 'feature_fraction': 0.7341462787656083, 'bagging_fraction': 0.4662680442286157, 'bagging_freq': 4, 'min_child_samples': 38}. Best is trial 17 with value: 0.888268156424581.\u001b[0m\n",
      "\u001b[32m[I 2021-12-20 20:03:18,123]\u001b[0m Trial 724 finished with value: 0.7988826815642458 and parameters: {'lambda_l1': 0.7162235933742903, 'lambda_l2': 4.846142358872879e-05, 'num_leaves': 223, 'feature_fraction': 0.8040568195536162, 'bagging_fraction': 0.8888962788690279, 'bagging_freq': 4, 'min_child_samples': 36}. Best is trial 17 with value: 0.888268156424581.\u001b[0m\n",
      "\u001b[32m[I 2021-12-20 20:03:18,291]\u001b[0m Trial 725 finished with value: 0.7821229050279329 and parameters: {'lambda_l1': 8.172697270354986e-07, 'lambda_l2': 7.802251601976302e-05, 'num_leaves': 191, 'feature_fraction': 0.8168764281876455, 'bagging_fraction': 0.9570190782577402, 'bagging_freq': 4, 'min_child_samples': 29}. Best is trial 17 with value: 0.888268156424581.\u001b[0m\n",
      "\u001b[32m[I 2021-12-20 20:03:18,444]\u001b[0m Trial 726 finished with value: 0.8100558659217877 and parameters: {'lambda_l1': 1.420720783412153e-06, 'lambda_l2': 2.6501428637411165e-05, 'num_leaves': 238, 'feature_fraction': 0.7497792906040612, 'bagging_fraction': 0.9484858605580335, 'bagging_freq': 4, 'min_child_samples': 34}. Best is trial 17 with value: 0.888268156424581.\u001b[0m\n",
      "\u001b[32m[I 2021-12-20 20:03:18,595]\u001b[0m Trial 727 finished with value: 0.8100558659217877 and parameters: {'lambda_l1': 1.065291930400236, 'lambda_l2': 9.613768308130696e-06, 'num_leaves': 221, 'feature_fraction': 0.8720002839488185, 'bagging_fraction': 0.8905233143775386, 'bagging_freq': 3, 'min_child_samples': 37}. Best is trial 17 with value: 0.888268156424581.\u001b[0m\n",
      "\u001b[32m[I 2021-12-20 20:03:18,735]\u001b[0m Trial 728 finished with value: 0.8547486033519553 and parameters: {'lambda_l1': 0.9867897138024868, 'lambda_l2': 4.2460675803795374e-05, 'num_leaves': 214, 'feature_fraction': 0.8490031794526066, 'bagging_fraction': 0.8478981961830117, 'bagging_freq': 3, 'min_child_samples': 86}. Best is trial 17 with value: 0.888268156424581.\u001b[0m\n",
      "\u001b[32m[I 2021-12-20 20:03:18,900]\u001b[0m Trial 729 finished with value: 0.8379888268156425 and parameters: {'lambda_l1': 0.38790714794616404, 'lambda_l2': 0.00012544044955768014, 'num_leaves': 249, 'feature_fraction': 0.7374861207627886, 'bagging_fraction': 0.9761831444349696, 'bagging_freq': 4, 'min_child_samples': 26}. Best is trial 17 with value: 0.888268156424581.\u001b[0m\n",
      "\u001b[32m[I 2021-12-20 20:03:19,049]\u001b[0m Trial 730 finished with value: 0.8100558659217877 and parameters: {'lambda_l1': 0.7412248589398488, 'lambda_l2': 6.094477288164154e-05, 'num_leaves': 198, 'feature_fraction': 0.8342378910933177, 'bagging_fraction': 0.8577656208925332, 'bagging_freq': 4, 'min_child_samples': 33}. Best is trial 17 with value: 0.888268156424581.\u001b[0m\n",
      "\u001b[32m[I 2021-12-20 20:03:19,189]\u001b[0m Trial 731 finished with value: 0.770949720670391 and parameters: {'lambda_l1': 3.909526743954371, 'lambda_l2': 6.073151532910396e-06, 'num_leaves': 220, 'feature_fraction': 0.7847996535656642, 'bagging_fraction': 0.8980572648769545, 'bagging_freq': 4, 'min_child_samples': 36}. Best is trial 17 with value: 0.888268156424581.\u001b[0m\n",
      "\u001b[32m[I 2021-12-20 20:03:19,348]\u001b[0m Trial 732 finished with value: 0.8268156424581006 and parameters: {'lambda_l1': 2.2339858616552177e-06, 'lambda_l2': 3.8319769697610366e-05, 'num_leaves': 242, 'feature_fraction': 0.8117635276473438, 'bagging_fraction': 0.9347880951650136, 'bagging_freq': 2, 'min_child_samples': 31}. Best is trial 17 with value: 0.888268156424581.\u001b[0m\n",
      "\u001b[32m[I 2021-12-20 20:03:19,505]\u001b[0m Trial 733 finished with value: 0.8379888268156425 and parameters: {'lambda_l1': 9.825359616857795e-07, 'lambda_l2': 9.882824506708454e-05, 'num_leaves': 177, 'feature_fraction': 0.8433233931945693, 'bagging_fraction': 0.9712765431034509, 'bagging_freq': 4, 'min_child_samples': 39}. Best is trial 17 with value: 0.888268156424581.\u001b[0m\n",
      "\u001b[32m[I 2021-12-20 20:03:19,644]\u001b[0m Trial 734 finished with value: 0.8324022346368715 and parameters: {'lambda_l1': 0.39150478985526127, 'lambda_l2': 6.802974190377342e-05, 'num_leaves': 255, 'feature_fraction': 0.722322435548943, 'bagging_fraction': 0.6485903363631595, 'bagging_freq': 4, 'min_child_samples': 42}. Best is trial 17 with value: 0.888268156424581.\u001b[0m\n"
     ]
    },
    {
     "name": "stderr",
     "output_type": "stream",
     "text": [
      "\u001b[32m[I 2021-12-20 20:03:19,803]\u001b[0m Trial 735 finished with value: 0.8547486033519553 and parameters: {'lambda_l1': 4.2864901533955475e-07, 'lambda_l2': 6.33618123607764e-05, 'num_leaves': 197, 'feature_fraction': 0.7261642869910953, 'bagging_fraction': 0.9495822739549904, 'bagging_freq': 5, 'min_child_samples': 33}. Best is trial 17 with value: 0.888268156424581.\u001b[0m\n",
      "\u001b[32m[I 2021-12-20 20:03:19,956]\u001b[0m Trial 736 finished with value: 0.7932960893854749 and parameters: {'lambda_l1': 0.5135856753845883, 'lambda_l2': 1.8455268335852526e-05, 'num_leaves': 233, 'feature_fraction': 0.6959843177947953, 'bagging_fraction': 0.9031115070160227, 'bagging_freq': 4, 'min_child_samples': 35}. Best is trial 17 with value: 0.888268156424581.\u001b[0m\n",
      "\u001b[32m[I 2021-12-20 20:03:20,086]\u001b[0m Trial 737 finished with value: 0.7821229050279329 and parameters: {'lambda_l1': 2.7889385431688205, 'lambda_l2': 1.0151428001733137e-05, 'num_leaves': 78, 'feature_fraction': 0.7140199564606234, 'bagging_fraction': 0.49800700588141444, 'bagging_freq': 4, 'min_child_samples': 82}. Best is trial 17 with value: 0.888268156424581.\u001b[0m\n",
      "\u001b[32m[I 2021-12-20 20:03:20,245]\u001b[0m Trial 738 finished with value: 0.8324022346368715 and parameters: {'lambda_l1': 2.3418628797645977e-06, 'lambda_l2': 4.9120769956419074e-06, 'num_leaves': 178, 'feature_fraction': 0.8001336612894921, 'bagging_fraction': 0.910681025837938, 'bagging_freq': 6, 'min_child_samples': 31}. Best is trial 17 with value: 0.888268156424581.\u001b[0m\n",
      "\u001b[32m[I 2021-12-20 20:03:20,373]\u001b[0m Trial 739 finished with value: 0.776536312849162 and parameters: {'lambda_l1': 6.724970678670073, 'lambda_l2': 4.5237009125742765e-05, 'num_leaves': 186, 'feature_fraction': 0.8208411944325601, 'bagging_fraction': 0.8838139587968661, 'bagging_freq': 4, 'min_child_samples': 77}. Best is trial 17 with value: 0.888268156424581.\u001b[0m\n",
      "\u001b[32m[I 2021-12-20 20:03:20,522]\u001b[0m Trial 740 finished with value: 0.8324022346368715 and parameters: {'lambda_l1': 9.907526564778396e-07, 'lambda_l2': 7.341482163029108e-06, 'num_leaves': 194, 'feature_fraction': 0.7501701674319915, 'bagging_fraction': 0.9582965768595519, 'bagging_freq': 4, 'min_child_samples': 41}. Best is trial 17 with value: 0.888268156424581.\u001b[0m\n",
      "\u001b[32m[I 2021-12-20 20:03:20,660]\u001b[0m Trial 741 finished with value: 0.8770949720670391 and parameters: {'lambda_l1': 2.3698237307355338e-07, 'lambda_l2': 7.775752534963513e-05, 'num_leaves': 209, 'feature_fraction': 0.7394061652189644, 'bagging_fraction': 0.45346634525197266, 'bagging_freq': 4, 'min_child_samples': 37}. Best is trial 17 with value: 0.888268156424581.\u001b[0m\n",
      "\u001b[32m[I 2021-12-20 20:03:20,812]\u001b[0m Trial 742 finished with value: 0.7877094972067039 and parameters: {'lambda_l1': 1.5741346268935177e-07, 'lambda_l2': 2.5988734979086953e-05, 'num_leaves': 209, 'feature_fraction': 0.7238917984350548, 'bagging_fraction': 0.8730249576369178, 'bagging_freq': 4, 'min_child_samples': 39}. Best is trial 17 with value: 0.888268156424581.\u001b[0m\n",
      "\u001b[32m[I 2021-12-20 20:03:20,950]\u001b[0m Trial 743 finished with value: 0.8435754189944135 and parameters: {'lambda_l1': 3.031015913706887e-07, 'lambda_l2': 8.358935392913962e-05, 'num_leaves': 187, 'feature_fraction': 0.8302757745967858, 'bagging_fraction': 0.4444564771805521, 'bagging_freq': 4, 'min_child_samples': 36}. Best is trial 17 with value: 0.888268156424581.\u001b[0m\n",
      "\u001b[32m[I 2021-12-20 20:03:21,085]\u001b[0m Trial 744 finished with value: 0.8324022346368715 and parameters: {'lambda_l1': 6.447504428458823e-07, 'lambda_l2': 0.00010732366101605265, 'num_leaves': 189, 'feature_fraction': 0.8259201777838953, 'bagging_fraction': 0.4342795073413912, 'bagging_freq': 4, 'min_child_samples': 30}. Best is trial 17 with value: 0.888268156424581.\u001b[0m\n",
      "\u001b[32m[I 2021-12-20 20:03:21,223]\u001b[0m Trial 745 finished with value: 0.8491620111731844 and parameters: {'lambda_l1': 1.8524073091127744e-07, 'lambda_l2': 3.662408752751663e-05, 'num_leaves': 152, 'feature_fraction': 0.7409921183268224, 'bagging_fraction': 0.4021040326587781, 'bagging_freq': 4, 'min_child_samples': 37}. Best is trial 17 with value: 0.888268156424581.\u001b[0m\n",
      "\u001b[32m[I 2021-12-20 20:03:21,366]\u001b[0m Trial 746 finished with value: 0.8379888268156425 and parameters: {'lambda_l1': 5.141674491842241e-07, 'lambda_l2': 8.660037970347703e-05, 'num_leaves': 214, 'feature_fraction': 0.8138950599566163, 'bagging_fraction': 0.44268503132846543, 'bagging_freq': 4, 'min_child_samples': 34}. Best is trial 17 with value: 0.888268156424581.\u001b[0m\n",
      "\u001b[32m[I 2021-12-20 20:03:21,507]\u001b[0m Trial 747 finished with value: 0.7988826815642458 and parameters: {'lambda_l1': 2.331391699059702e-07, 'lambda_l2': 6.16813687706344e-05, 'num_leaves': 208, 'feature_fraction': 0.70642378687445, 'bagging_fraction': 0.4580800220231403, 'bagging_freq': 4, 'min_child_samples': 32}. Best is trial 17 with value: 0.888268156424581.\u001b[0m\n",
      "\u001b[32m[I 2021-12-20 20:03:21,655]\u001b[0m Trial 748 finished with value: 0.8435754189944135 and parameters: {'lambda_l1': 0.01222131712656011, 'lambda_l2': 4.722140388467198e-06, 'num_leaves': 147, 'feature_fraction': 0.7612095523977075, 'bagging_fraction': 0.8989199015384611, 'bagging_freq': 3, 'min_child_samples': 40}. Best is trial 17 with value: 0.888268156424581.\u001b[0m\n",
      "\u001b[32m[I 2021-12-20 20:03:21,789]\u001b[0m Trial 749 finished with value: 0.7932960893854749 and parameters: {'lambda_l1': 1.0832175539303885e-07, 'lambda_l2': 1.3341200374155936e-05, 'num_leaves': 172, 'feature_fraction': 0.801459371494958, 'bagging_fraction': 0.43010211904494977, 'bagging_freq': 2, 'min_child_samples': 38}. Best is trial 17 with value: 0.888268156424581.\u001b[0m\n",
      "\u001b[32m[I 2021-12-20 20:03:21,948]\u001b[0m Trial 750 finished with value: 0.7932960893854749 and parameters: {'lambda_l1': 3.2436030420911917e-07, 'lambda_l2': 0.00015781378025260585, 'num_leaves': 196, 'feature_fraction': 0.7254004573802152, 'bagging_fraction': 0.9752312103665406, 'bagging_freq': 6, 'min_child_samples': 34}. Best is trial 17 with value: 0.888268156424581.\u001b[0m\n",
      "\u001b[32m[I 2021-12-20 20:03:22,091]\u001b[0m Trial 751 finished with value: 0.8491620111731844 and parameters: {'lambda_l1': 3.6961888168866183e-07, 'lambda_l2': 0.00012470890918084976, 'num_leaves': 229, 'feature_fraction': 0.7287901369010172, 'bagging_fraction': 0.44848459831601667, 'bagging_freq': 4, 'min_child_samples': 25}. Best is trial 17 with value: 0.888268156424581.\u001b[0m\n",
      "\u001b[32m[I 2021-12-20 20:03:22,226]\u001b[0m Trial 752 finished with value: 0.8268156424581006 and parameters: {'lambda_l1': 1.8977771156894735e-07, 'lambda_l2': 2.9917548321618868e-05, 'num_leaves': 203, 'feature_fraction': 0.8367869640874112, 'bagging_fraction': 0.4579691185035217, 'bagging_freq': 4, 'min_child_samples': 37}. Best is trial 17 with value: 0.888268156424581.\u001b[0m\n",
      "\u001b[32m[I 2021-12-20 20:03:22,379]\u001b[0m Trial 753 finished with value: 0.8491620111731844 and parameters: {'lambda_l1': 2.295512415307153e-07, 'lambda_l2': 9.575797031676949e-05, 'num_leaves': 180, 'feature_fraction': 0.7335723503432209, 'bagging_fraction': 0.9291274822096799, 'bagging_freq': 4, 'min_child_samples': 40}. Best is trial 17 with value: 0.888268156424581.\u001b[0m\n",
      "\u001b[32m[I 2021-12-20 20:03:22,523]\u001b[0m Trial 754 finished with value: 0.8491620111731844 and parameters: {'lambda_l1': 0.00019072706880805189, 'lambda_l2': 0.00012545073435855846, 'num_leaves': 191, 'feature_fraction': 0.8165555562433807, 'bagging_fraction': 0.4315608431280535, 'bagging_freq': 4, 'min_child_samples': 29}. Best is trial 17 with value: 0.888268156424581.\u001b[0m\n",
      "\u001b[32m[I 2021-12-20 20:03:22,658]\u001b[0m Trial 755 finished with value: 0.8044692737430168 and parameters: {'lambda_l1': 5.938571679641832e-07, 'lambda_l2': 4.917875000506644e-05, 'num_leaves': 166, 'feature_fraction': 0.8623765999022912, 'bagging_fraction': 0.41536854971370496, 'bagging_freq': 5, 'min_child_samples': 38}. Best is trial 17 with value: 0.888268156424581.\u001b[0m\n",
      "\u001b[32m[I 2021-12-20 20:03:22,816]\u001b[0m Trial 756 finished with value: 0.8435754189944135 and parameters: {'lambda_l1': 1.2423623824577015e-06, 'lambda_l2': 8.046491272102565e-05, 'num_leaves': 186, 'feature_fraction': 0.8299195974577263, 'bagging_fraction': 0.942348200693515, 'bagging_freq': 4, 'min_child_samples': 36}. Best is trial 17 with value: 0.888268156424581.\u001b[0m\n",
      "\u001b[32m[I 2021-12-20 20:03:22,959]\u001b[0m Trial 757 finished with value: 0.8603351955307262 and parameters: {'lambda_l1': 3.631316752724565e-06, 'lambda_l2': 6.186249739004193e-05, 'num_leaves': 215, 'feature_fraction': 0.8112218015854166, 'bagging_fraction': 0.445831722948412, 'bagging_freq': 4, 'min_child_samples': 33}. Best is trial 17 with value: 0.888268156424581.\u001b[0m\n"
     ]
    },
    {
     "name": "stderr",
     "output_type": "stream",
     "text": [
      "\u001b[32m[I 2021-12-20 20:03:23,118]\u001b[0m Trial 758 finished with value: 0.8435754189944135 and parameters: {'lambda_l1': 1.4498349823439125e-07, 'lambda_l2': 1.7930636821074288e-06, 'num_leaves': 203, 'feature_fraction': 0.7995151240230673, 'bagging_fraction': 0.9444190025836106, 'bagging_freq': 6, 'min_child_samples': 35}. Best is trial 17 with value: 0.888268156424581.\u001b[0m\n",
      "\u001b[32m[I 2021-12-20 20:03:23,246]\u001b[0m Trial 759 finished with value: 0.8044692737430168 and parameters: {'lambda_l1': 4.091701882845227e-07, 'lambda_l2': 0.00015495101224653136, 'num_leaves': 2, 'feature_fraction': 0.7439035677720646, 'bagging_fraction': 0.44579340851486504, 'bagging_freq': 2, 'min_child_samples': 90}. Best is trial 17 with value: 0.888268156424581.\u001b[0m\n",
      "\u001b[32m[I 2021-12-20 20:03:23,376]\u001b[0m Trial 760 finished with value: 0.8770949720670391 and parameters: {'lambda_l1': 5.801729165621436e-08, 'lambda_l2': 4.3853614244888075e-05, 'num_leaves': 223, 'feature_fraction': 0.8557905149872571, 'bagging_fraction': 0.47866702296114455, 'bagging_freq': 4, 'min_child_samples': 65}. Best is trial 17 with value: 0.888268156424581.\u001b[0m\n",
      "\u001b[32m[I 2021-12-20 20:03:23,523]\u001b[0m Trial 761 finished with value: 0.8491620111731844 and parameters: {'lambda_l1': 8.540130905691676e-08, 'lambda_l2': 3.188411272609056e-05, 'num_leaves': 226, 'feature_fraction': 0.8583185536090676, 'bagging_fraction': 0.4764840267762922, 'bagging_freq': 4, 'min_child_samples': 31}. Best is trial 17 with value: 0.888268156424581.\u001b[0m\n",
      "\u001b[32m[I 2021-12-20 20:03:23,661]\u001b[0m Trial 762 finished with value: 0.8770949720670391 and parameters: {'lambda_l1': 4.102164374837036e-08, 'lambda_l2': 4.0999963062633254e-05, 'num_leaves': 225, 'feature_fraction': 0.8740690465311807, 'bagging_fraction': 0.5006059848973295, 'bagging_freq': 4, 'min_child_samples': 44}. Best is trial 17 with value: 0.888268156424581.\u001b[0m\n",
      "\u001b[32m[I 2021-12-20 20:03:23,797]\u001b[0m Trial 763 finished with value: 0.7988826815642458 and parameters: {'lambda_l1': 3.481962527905831e-08, 'lambda_l2': 4.1223776294806135e-05, 'num_leaves': 223, 'feature_fraction': 0.87172887778568, 'bagging_fraction': 0.49017879613228454, 'bagging_freq': 4, 'min_child_samples': 44}. Best is trial 17 with value: 0.888268156424581.\u001b[0m\n",
      "\u001b[32m[I 2021-12-20 20:03:23,937]\u001b[0m Trial 764 finished with value: 0.8044692737430168 and parameters: {'lambda_l1': 6.634972427290642e-08, 'lambda_l2': 3.6512277939111354e-05, 'num_leaves': 230, 'feature_fraction': 0.8526819918918758, 'bagging_fraction': 0.5042074505490356, 'bagging_freq': 4, 'min_child_samples': 65}. Best is trial 17 with value: 0.888268156424581.\u001b[0m\n",
      "\u001b[32m[I 2021-12-20 20:03:24,075]\u001b[0m Trial 765 finished with value: 0.8379888268156425 and parameters: {'lambda_l1': 6.016711764403566e-08, 'lambda_l2': 2.1569418981330227e-05, 'num_leaves': 226, 'feature_fraction': 0.8600553601184279, 'bagging_fraction': 0.4977174218020806, 'bagging_freq': 4, 'min_child_samples': 69}. Best is trial 17 with value: 0.888268156424581.\u001b[0m\n",
      "\u001b[32m[I 2021-12-20 20:03:24,209]\u001b[0m Trial 766 finished with value: 0.8379888268156425 and parameters: {'lambda_l1': 3.5792745670854e-08, 'lambda_l2': 2.0135169525600734e-05, 'num_leaves': 219, 'feature_fraction': 0.8481627488256815, 'bagging_fraction': 0.48236009415031045, 'bagging_freq': 4, 'min_child_samples': 43}. Best is trial 17 with value: 0.888268156424581.\u001b[0m\n",
      "\u001b[32m[I 2021-12-20 20:03:24,343]\u001b[0m Trial 767 finished with value: 0.7988826815642458 and parameters: {'lambda_l1': 5.4769839849887017e-08, 'lambda_l2': 2.3242230466815054e-05, 'num_leaves': 223, 'feature_fraction': 0.8770578802296145, 'bagging_fraction': 0.49227208127734556, 'bagging_freq': 4, 'min_child_samples': 46}. Best is trial 17 with value: 0.888268156424581.\u001b[0m\n",
      "\u001b[32m[I 2021-12-20 20:03:24,478]\u001b[0m Trial 768 finished with value: 0.8156424581005587 and parameters: {'lambda_l1': 1.0767546445307424e-07, 'lambda_l2': 4.605528452798708e-05, 'num_leaves': 219, 'feature_fraction': 0.8558309617355588, 'bagging_fraction': 0.48688409743538613, 'bagging_freq': 4, 'min_child_samples': 43}. Best is trial 17 with value: 0.888268156424581.\u001b[0m\n",
      "\u001b[32m[I 2021-12-20 20:03:24,619]\u001b[0m Trial 769 finished with value: 0.8100558659217877 and parameters: {'lambda_l1': 3.57591683217945e-08, 'lambda_l2': 4.8888787319391265e-05, 'num_leaves': 236, 'feature_fraction': 0.8676939497686206, 'bagging_fraction': 0.5063528620679298, 'bagging_freq': 4, 'min_child_samples': 38}. Best is trial 17 with value: 0.888268156424581.\u001b[0m\n",
      "\u001b[32m[I 2021-12-20 20:03:24,769]\u001b[0m Trial 770 finished with value: 0.8435754189944135 and parameters: {'lambda_l1': 4.266271531184001e-08, 'lambda_l2': 2.9838289136441146e-05, 'num_leaves': 232, 'feature_fraction': 0.8474146613590771, 'bagging_fraction': 0.8391739163676608, 'bagging_freq': 4, 'min_child_samples': 41}. Best is trial 17 with value: 0.888268156424581.\u001b[0m\n",
      "\u001b[32m[I 2021-12-20 20:03:24,908]\u001b[0m Trial 771 finished with value: 0.8212290502793296 and parameters: {'lambda_l1': 1.1827848979219835e-07, 'lambda_l2': 2.2454693608726e-05, 'num_leaves': 226, 'feature_fraction': 0.8835769600410422, 'bagging_fraction': 0.5130934038843635, 'bagging_freq': 4, 'min_child_samples': 63}. Best is trial 17 with value: 0.888268156424581.\u001b[0m\n",
      "\u001b[32m[I 2021-12-20 20:03:25,048]\u001b[0m Trial 772 finished with value: 0.7374301675977654 and parameters: {'lambda_l1': 4.757134955556479e-08, 'lambda_l2': 5.783002632519784e-05, 'num_leaves': 210, 'feature_fraction': 0.8408861670768587, 'bagging_fraction': 0.4719089695866256, 'bagging_freq': 4, 'min_child_samples': 46}. Best is trial 17 with value: 0.888268156424581.\u001b[0m\n",
      "\u001b[32m[I 2021-12-20 20:03:25,203]\u001b[0m Trial 773 finished with value: 0.8156424581005587 and parameters: {'lambda_l1': 2.4198499082578727e-08, 'lambda_l2': 1.3366549823710068e-05, 'num_leaves': 220, 'feature_fraction': 0.8633272732091459, 'bagging_fraction': 0.9254733927416462, 'bagging_freq': 4, 'min_child_samples': 41}. Best is trial 17 with value: 0.888268156424581.\u001b[0m\n",
      "\u001b[32m[I 2021-12-20 20:03:25,343]\u001b[0m Trial 774 finished with value: 0.770949720670391 and parameters: {'lambda_l1': 7.915635404257451e-08, 'lambda_l2': 3.653419450804735e-05, 'num_leaves': 229, 'feature_fraction': 0.8857974054331734, 'bagging_fraction': 0.4941983266514549, 'bagging_freq': 4, 'min_child_samples': 78}. Best is trial 17 with value: 0.888268156424581.\u001b[0m\n",
      "\u001b[32m[I 2021-12-20 20:03:25,477]\u001b[0m Trial 775 finished with value: 0.8268156424581006 and parameters: {'lambda_l1': 7.074949679024097e-08, 'lambda_l2': 1.5245176771978288e-05, 'num_leaves': 216, 'feature_fraction': 0.49933435802238213, 'bagging_fraction': 0.48864932397943095, 'bagging_freq': 4, 'min_child_samples': 49}. Best is trial 17 with value: 0.888268156424581.\u001b[0m\n",
      "\u001b[32m[I 2021-12-20 20:03:25,630]\u001b[0m Trial 776 finished with value: 0.8659217877094972 and parameters: {'lambda_l1': 2.529585805525765e-07, 'lambda_l2': 7.277913950902032e-05, 'num_leaves': 231, 'feature_fraction': 0.8747632924036937, 'bagging_fraction': 0.48219679915124597, 'bagging_freq': 4, 'min_child_samples': 22}. Best is trial 17 with value: 0.888268156424581.\u001b[0m\n",
      "\u001b[32m[I 2021-12-20 20:03:25,764]\u001b[0m Trial 777 finished with value: 0.770949720670391 and parameters: {'lambda_l1': 0.00043073602215621586, 'lambda_l2': 7.933056969883166e-05, 'num_leaves': 221, 'feature_fraction': 0.8409106633053242, 'bagging_fraction': 0.4632237545647564, 'bagging_freq': 4, 'min_child_samples': 69}. Best is trial 17 with value: 0.888268156424581.\u001b[0m\n",
      "\u001b[32m[I 2021-12-20 20:03:25,902]\u001b[0m Trial 778 finished with value: 0.8100558659217877 and parameters: {'lambda_l1': 0.02750009531762546, 'lambda_l2': 3.0161488726598865e-05, 'num_leaves': 242, 'feature_fraction': 0.8852013237762563, 'bagging_fraction': 0.5216059202620807, 'bagging_freq': 4, 'min_child_samples': 46}. Best is trial 17 with value: 0.888268156424581.\u001b[0m\n",
      "\u001b[32m[I 2021-12-20 20:03:26,038]\u001b[0m Trial 779 finished with value: 0.8044692737430168 and parameters: {'lambda_l1': 1.4079191456555375e-07, 'lambda_l2': 1.0498907300449533e-05, 'num_leaves': 227, 'feature_fraction': 0.8544530254676433, 'bagging_fraction': 0.5122303505652299, 'bagging_freq': 4, 'min_child_samples': 64}. Best is trial 17 with value: 0.888268156424581.\u001b[0m\n"
     ]
    },
    {
     "name": "stderr",
     "output_type": "stream",
     "text": [
      "\u001b[32m[I 2021-12-20 20:03:26,178]\u001b[0m Trial 780 finished with value: 0.8212290502793296 and parameters: {'lambda_l1': 1.0960745590374481e-07, 'lambda_l2': 2.886434925313738e-06, 'num_leaves': 235, 'feature_fraction': 0.5723298386432318, 'bagging_fraction': 0.5053215286670786, 'bagging_freq': 4, 'min_child_samples': 45}. Best is trial 17 with value: 0.888268156424581.\u001b[0m\n",
      "\u001b[32m[I 2021-12-20 20:03:26,333]\u001b[0m Trial 781 finished with value: 0.8435754189944135 and parameters: {'lambda_l1': 1.663329530931226e-07, 'lambda_l2': 7.037956825087668e-06, 'num_leaves': 224, 'feature_fraction': 0.6031562097765147, 'bagging_fraction': 0.8858399288118838, 'bagging_freq': 4, 'min_child_samples': 45}. Best is trial 17 with value: 0.888268156424581.\u001b[0m\n",
      "\u001b[32m[I 2021-12-20 20:03:26,486]\u001b[0m Trial 782 finished with value: 0.7821229050279329 and parameters: {'lambda_l1': 2.5077117435861295e-08, 'lambda_l2': 4.795228330932654e-05, 'num_leaves': 213, 'feature_fraction': 0.8436455724292284, 'bagging_fraction': 0.9340078098154643, 'bagging_freq': 6, 'min_child_samples': 43}. Best is trial 17 with value: 0.888268156424581.\u001b[0m\n",
      "\u001b[32m[I 2021-12-20 20:03:26,623]\u001b[0m Trial 783 finished with value: 0.8100558659217877 and parameters: {'lambda_l1': 0.0015338401612993015, 'lambda_l2': 2.2476274384304604e-05, 'num_leaves': 214, 'feature_fraction': 0.7419279605881879, 'bagging_fraction': 0.4979492411713238, 'bagging_freq': 4, 'min_child_samples': 73}. Best is trial 17 with value: 0.888268156424581.\u001b[0m\n",
      "\u001b[32m[I 2021-12-20 20:03:26,768]\u001b[0m Trial 784 finished with value: 0.8603351955307262 and parameters: {'lambda_l1': 2.508132527641153e-08, 'lambda_l2': 8.040118966524732e-07, 'num_leaves': 225, 'feature_fraction': 0.8585967500932691, 'bagging_fraction': 0.9142090741398706, 'bagging_freq': 4, 'min_child_samples': 48}. Best is trial 17 with value: 0.888268156424581.\u001b[0m\n",
      "\u001b[32m[I 2021-12-20 20:03:26,906]\u001b[0m Trial 785 finished with value: 0.7821229050279329 and parameters: {'lambda_l1': 3.9976861709530523e-07, 'lambda_l2': 9.45735221188408e-05, 'num_leaves': 217, 'feature_fraction': 0.8316335676120803, 'bagging_fraction': 0.4729517601320255, 'bagging_freq': 4, 'min_child_samples': 67}. Best is trial 17 with value: 0.888268156424581.\u001b[0m\n",
      "\u001b[32m[I 2021-12-20 20:03:27,063]\u001b[0m Trial 786 finished with value: 0.8491620111731844 and parameters: {'lambda_l1': 4.7209356756470994e-08, 'lambda_l2': 5.211946687559098e-05, 'num_leaves': 222, 'feature_fraction': 0.7310726452451233, 'bagging_fraction': 0.919948234276588, 'bagging_freq': 4, 'min_child_samples': 40}. Best is trial 17 with value: 0.888268156424581.\u001b[0m\n",
      "\u001b[32m[I 2021-12-20 20:03:27,208]\u001b[0m Trial 787 finished with value: 0.8212290502793296 and parameters: {'lambda_l1': 5.5898058707202135e-08, 'lambda_l2': 6.124753818750932e-05, 'num_leaves': 199, 'feature_fraction': 0.8361089806503027, 'bagging_fraction': 0.4774131747059937, 'bagging_freq': 4, 'min_child_samples': 37}. Best is trial 17 with value: 0.888268156424581.\u001b[0m\n",
      "\u001b[32m[I 2021-12-20 20:03:27,383]\u001b[0m Trial 788 finished with value: 0.8491620111731844 and parameters: {'lambda_l1': 2.4076588024763727e-07, 'lambda_l2': 9.440438570797648e-05, 'num_leaves': 234, 'feature_fraction': 0.8941144034928062, 'bagging_fraction': 0.9649211331041719, 'bagging_freq': 4, 'min_child_samples': 20}. Best is trial 17 with value: 0.888268156424581.\u001b[0m\n",
      "\u001b[32m[I 2021-12-20 20:03:27,516]\u001b[0m Trial 789 finished with value: 0.8044692737430168 and parameters: {'lambda_l1': 0.053102397821443506, 'lambda_l2': 3.332988868853554e-05, 'num_leaves': 219, 'feature_fraction': 0.8764379381004813, 'bagging_fraction': 0.6173529349707452, 'bagging_freq': 4, 'min_child_samples': 97}. Best is trial 17 with value: 0.888268156424581.\u001b[0m\n",
      "\u001b[32m[I 2021-12-20 20:03:27,674]\u001b[0m Trial 790 finished with value: 0.8324022346368715 and parameters: {'lambda_l1': 6.110756145039396e-07, 'lambda_l2': 1.4861260806745153e-05, 'num_leaves': 205, 'feature_fraction': 0.8494462026503051, 'bagging_fraction': 0.8675827488978921, 'bagging_freq': 4, 'min_child_samples': 35}. Best is trial 17 with value: 0.888268156424581.\u001b[0m\n",
      "\u001b[32m[I 2021-12-20 20:03:27,838]\u001b[0m Trial 791 finished with value: 0.8603351955307262 and parameters: {'lambda_l1': 1.5917652503646363e-06, 'lambda_l2': 0.00012871271979821188, 'num_leaves': 193, 'feature_fraction': 0.82185538612235, 'bagging_fraction': 0.9513199124821154, 'bagging_freq': 4, 'min_child_samples': 33}. Best is trial 17 with value: 0.888268156424581.\u001b[0m\n",
      "\u001b[32m[I 2021-12-20 20:03:28,004]\u001b[0m Trial 792 finished with value: 0.8770949720670391 and parameters: {'lambda_l1': 1.7812994209511818e-06, 'lambda_l2': 0.00017643577554809015, 'num_leaves': 246, 'feature_fraction': 0.8872840486512241, 'bagging_fraction': 0.9390132109755683, 'bagging_freq': 6, 'min_child_samples': 31}. Best is trial 17 with value: 0.888268156424581.\u001b[0m\n",
      "\u001b[32m[I 2021-12-20 20:03:28,159]\u001b[0m Trial 793 finished with value: 0.8212290502793296 and parameters: {'lambda_l1': 4.216563291878949e-06, 'lambda_l2': 4.2555453003185245e-05, 'num_leaves': 252, 'feature_fraction': 0.8956222458229066, 'bagging_fraction': 0.9307340567290616, 'bagging_freq': 6, 'min_child_samples': 41}. Best is trial 17 with value: 0.888268156424581.\u001b[0m\n",
      "\u001b[32m[I 2021-12-20 20:03:28,319]\u001b[0m Trial 794 finished with value: 0.8156424581005587 and parameters: {'lambda_l1': 2.183389827277694e-06, 'lambda_l2': 2.525017701773703e-05, 'num_leaves': 247, 'feature_fraction': 0.8705416810151825, 'bagging_fraction': 0.9121182200977158, 'bagging_freq': 4, 'min_child_samples': 39}. Best is trial 17 with value: 0.888268156424581.\u001b[0m\n",
      "\u001b[32m[I 2021-12-20 20:03:28,482]\u001b[0m Trial 795 finished with value: 0.8547486033519553 and parameters: {'lambda_l1': 1.6348084441076788e-06, 'lambda_l2': 0.0001551886067235929, 'num_leaves': 247, 'feature_fraction': 0.8651738542899522, 'bagging_fraction': 0.9450102767474352, 'bagging_freq': 6, 'min_child_samples': 31}. Best is trial 17 with value: 0.888268156424581.\u001b[0m\n",
      "\u001b[32m[I 2021-12-20 20:03:28,625]\u001b[0m Trial 796 finished with value: 0.8044692737430168 and parameters: {'lambda_l1': 3.0751960848698617e-06, 'lambda_l2': 5.9357505091627846e-05, 'num_leaves': 244, 'feature_fraction': 0.8707768415759524, 'bagging_fraction': 0.469585541161607, 'bagging_freq': 6, 'min_child_samples': 33}. Best is trial 17 with value: 0.888268156424581.\u001b[0m\n",
      "\u001b[32m[I 2021-12-20 20:03:28,769]\u001b[0m Trial 797 finished with value: 0.8379888268156425 and parameters: {'lambda_l1': 9.545010613432902e-07, 'lambda_l2': 8.93422316338534e-05, 'num_leaves': 242, 'feature_fraction': 0.8817472456916835, 'bagging_fraction': 0.4812930906357404, 'bagging_freq': 4, 'min_child_samples': 31}. Best is trial 17 with value: 0.888268156424581.\u001b[0m\n",
      "\u001b[32m[I 2021-12-20 20:03:28,914]\u001b[0m Trial 798 finished with value: 0.8379888268156425 and parameters: {'lambda_l1': 6.666488314273532e-06, 'lambda_l2': 0.00020449444750675607, 'num_leaves': 229, 'feature_fraction': 0.46151416824806313, 'bagging_fraction': 0.45930038116646776, 'bagging_freq': 4, 'min_child_samples': 34}. Best is trial 17 with value: 0.888268156424581.\u001b[0m\n",
      "\u001b[32m[I 2021-12-20 20:03:29,071]\u001b[0m Trial 799 finished with value: 0.8156424581005587 and parameters: {'lambda_l1': 3.5920633231166945e-08, 'lambda_l2': 0.0009460255432237354, 'num_leaves': 239, 'feature_fraction': 0.9030541407287508, 'bagging_fraction': 0.9207119037641628, 'bagging_freq': 4, 'min_child_samples': 38}. Best is trial 17 with value: 0.888268156424581.\u001b[0m\n",
      "\u001b[32m[I 2021-12-20 20:03:29,210]\u001b[0m Trial 800 finished with value: 0.8379888268156425 and parameters: {'lambda_l1': 1.8480514527778985e-06, 'lambda_l2': 9.43195822704288e-05, 'num_leaves': 255, 'feature_fraction': 0.6227379745869681, 'bagging_fraction': 0.49837719855830753, 'bagging_freq': 6, 'min_child_samples': 48}. Best is trial 17 with value: 0.888268156424581.\u001b[0m\n",
      "\u001b[32m[I 2021-12-20 20:03:29,370]\u001b[0m Trial 801 finished with value: 0.8100558659217877 and parameters: {'lambda_l1': 8.556088988858804e-07, 'lambda_l2': 0.0001599419056293057, 'num_leaves': 232, 'feature_fraction': 0.860714389648228, 'bagging_fraction': 0.9338508567723152, 'bagging_freq': 4, 'min_child_samples': 32}. Best is trial 17 with value: 0.888268156424581.\u001b[0m\n"
     ]
    },
    {
     "name": "stderr",
     "output_type": "stream",
     "text": [
      "\u001b[32m[I 2021-12-20 20:03:29,534]\u001b[0m Trial 802 finished with value: 0.8379888268156425 and parameters: {'lambda_l1': 1.4058658174836947e-06, 'lambda_l2': 4.721043148635314e-07, 'num_leaves': 213, 'feature_fraction': 0.8950999330092374, 'bagging_fraction': 0.9090430908043996, 'bagging_freq': 1, 'min_child_samples': 31}. Best is trial 17 with value: 0.888268156424581.\u001b[0m\n",
      "\u001b[32m[I 2021-12-20 20:03:29,679]\u001b[0m Trial 803 finished with value: 0.8212290502793296 and parameters: {'lambda_l1': 2.7354644244262596e-06, 'lambda_l2': 1.5749135579805837e-05, 'num_leaves': 256, 'feature_fraction': 0.8856351515811226, 'bagging_fraction': 0.5084606724497005, 'bagging_freq': 7, 'min_child_samples': 34}. Best is trial 17 with value: 0.888268156424581.\u001b[0m\n",
      "\u001b[32m[I 2021-12-20 20:03:29,815]\u001b[0m Trial 804 finished with value: 0.7932960893854749 and parameters: {'lambda_l1': 7.038893025130004e-07, 'lambda_l2': 0.00011548636202965152, 'num_leaves': 243, 'feature_fraction': 0.8511334534918941, 'bagging_fraction': 0.4527089467704428, 'bagging_freq': 4, 'min_child_samples': 66}. Best is trial 17 with value: 0.888268156424581.\u001b[0m\n",
      "\u001b[32m[I 2021-12-20 20:03:29,963]\u001b[0m Trial 805 finished with value: 0.8491620111731844 and parameters: {'lambda_l1': 3.2497307493329966e-07, 'lambda_l2': 0.00022655714867022306, 'num_leaves': 241, 'feature_fraction': 0.8667025213112357, 'bagging_fraction': 0.4685021509314242, 'bagging_freq': 4, 'min_child_samples': 29}. Best is trial 17 with value: 0.888268156424581.\u001b[0m\n",
      "\u001b[32m[I 2021-12-20 20:03:30,209]\u001b[0m Trial 806 finished with value: 0.770949720670391 and parameters: {'lambda_l1': 1.2156019662760158e-06, 'lambda_l2': 4.371509538139338e-06, 'num_leaves': 223, 'feature_fraction': 0.8787647231248867, 'bagging_fraction': 0.8787815038574471, 'bagging_freq': 4, 'min_child_samples': 7}. Best is trial 17 with value: 0.888268156424581.\u001b[0m\n",
      "\u001b[32m[I 2021-12-20 20:03:30,345]\u001b[0m Trial 807 finished with value: 0.8212290502793296 and parameters: {'lambda_l1': 8.397195546389464e-08, 'lambda_l2': 7.051233881852574e-05, 'num_leaves': 239, 'feature_fraction': 0.805813282895298, 'bagging_fraction': 0.49167872653870714, 'bagging_freq': 4, 'min_child_samples': 35}. Best is trial 17 with value: 0.888268156424581.\u001b[0m\n",
      "\u001b[32m[I 2021-12-20 20:03:30,498]\u001b[0m Trial 808 finished with value: 0.8435754189944135 and parameters: {'lambda_l1': 2.4704100024258394e-08, 'lambda_l2': 0.0005426663254569995, 'num_leaves': 247, 'feature_fraction': 0.8405455478977788, 'bagging_fraction': 0.8098488330983227, 'bagging_freq': 6, 'min_child_samples': 43}. Best is trial 17 with value: 0.888268156424581.\u001b[0m\n",
      "\u001b[32m[I 2021-12-20 20:03:30,651]\u001b[0m Trial 809 finished with value: 0.8547486033519553 and parameters: {'lambda_l1': 1.431734578803711e-07, 'lambda_l2': 4.187371869337507e-05, 'num_leaves': 208, 'feature_fraction': 0.6697840741815196, 'bagging_fraction': 0.8260782829281227, 'bagging_freq': 4, 'min_child_samples': 34}. Best is trial 17 with value: 0.888268156424581.\u001b[0m\n",
      "\u001b[32m[I 2021-12-20 20:03:30,808]\u001b[0m Trial 810 finished with value: 0.8324022346368715 and parameters: {'lambda_l1': 0.006942567284176877, 'lambda_l2': 0.00028648024365085403, 'num_leaves': 249, 'feature_fraction': 0.858552573042666, 'bagging_fraction': 0.9348113027163917, 'bagging_freq': 5, 'min_child_samples': 33}. Best is trial 17 with value: 0.888268156424581.\u001b[0m\n",
      "\u001b[32m[I 2021-12-20 20:03:30,969]\u001b[0m Trial 811 finished with value: 0.8603351955307262 and parameters: {'lambda_l1': 1.513799871345382e-06, 'lambda_l2': 0.00015193922358738184, 'num_leaves': 236, 'feature_fraction': 0.8155354542200214, 'bagging_fraction': 0.9530780644899322, 'bagging_freq': 6, 'min_child_samples': 30}. Best is trial 17 with value: 0.888268156424581.\u001b[0m\n",
      "\u001b[32m[I 2021-12-20 20:03:31,141]\u001b[0m Trial 812 finished with value: 0.7932960893854749 and parameters: {'lambda_l1': 4.853685632649653e-06, 'lambda_l2': 6.837554665571437e-05, 'num_leaves': 250, 'feature_fraction': 0.830753411311614, 'bagging_fraction': 0.9405843678215648, 'bagging_freq': 6, 'min_child_samples': 28}. Best is trial 17 with value: 0.888268156424581.\u001b[0m\n",
      "\u001b[32m[I 2021-12-20 20:03:31,297]\u001b[0m Trial 813 finished with value: 0.88268156424581 and parameters: {'lambda_l1': 8.201509887154e-07, 'lambda_l2': 2.1694603493848146e-05, 'num_leaves': 217, 'feature_fraction': 0.8907758089658959, 'bagging_fraction': 0.9074428357763099, 'bagging_freq': 4, 'min_child_samples': 62}. Best is trial 17 with value: 0.888268156424581.\u001b[0m\n",
      "\u001b[32m[I 2021-12-20 20:03:31,438]\u001b[0m Trial 814 finished with value: 0.8435754189944135 and parameters: {'lambda_l1': 9.236247801419773e-07, 'lambda_l2': 1.914908967353554e-05, 'num_leaves': 217, 'feature_fraction': 0.9110636217411935, 'bagging_fraction': 0.9023004431935758, 'bagging_freq': 4, 'min_child_samples': 59}. Best is trial 17 with value: 0.888268156424581.\u001b[0m\n",
      "\u001b[32m[I 2021-12-20 20:03:31,590]\u001b[0m Trial 815 finished with value: 0.8435754189944135 and parameters: {'lambda_l1': 7.572623881436573e-07, 'lambda_l2': 2.2738746149503384e-05, 'num_leaves': 219, 'feature_fraction': 0.9012079751550266, 'bagging_fraction': 0.9221890342638411, 'bagging_freq': 4, 'min_child_samples': 60}. Best is trial 17 with value: 0.888268156424581.\u001b[0m\n",
      "\u001b[32m[I 2021-12-20 20:03:31,732]\u001b[0m Trial 816 finished with value: 0.8212290502793296 and parameters: {'lambda_l1': 4.956142025062034e-07, 'lambda_l2': 3.933673418877762e-05, 'num_leaves': 214, 'feature_fraction': 0.8897574954559924, 'bagging_fraction': 0.8917565406004385, 'bagging_freq': 4, 'min_child_samples': 63}. Best is trial 17 with value: 0.888268156424581.\u001b[0m\n",
      "\u001b[32m[I 2021-12-20 20:03:31,873]\u001b[0m Trial 817 finished with value: 0.7988826815642458 and parameters: {'lambda_l1': 1.1625313404099587e-06, 'lambda_l2': 1.2550307882152617e-05, 'num_leaves': 220, 'feature_fraction': 0.8960738955122755, 'bagging_fraction': 0.9030121281493041, 'bagging_freq': 4, 'min_child_samples': 70}. Best is trial 17 with value: 0.888268156424581.\u001b[0m\n",
      "\u001b[32m[I 2021-12-20 20:03:32,014]\u001b[0m Trial 818 finished with value: 0.8715083798882681 and parameters: {'lambda_l1': 7.901414229823224e-07, 'lambda_l2': 2.4954428730123674e-05, 'num_leaves': 211, 'feature_fraction': 0.8768715916822777, 'bagging_fraction': 0.9138846842211592, 'bagging_freq': 4, 'min_child_samples': 65}. Best is trial 17 with value: 0.888268156424581.\u001b[0m\n",
      "\u001b[32m[I 2021-12-20 20:03:32,159]\u001b[0m Trial 819 finished with value: 0.8212290502793296 and parameters: {'lambda_l1': 2.1479937854124074e-06, 'lambda_l2': 2.975310564586809e-05, 'num_leaves': 222, 'feature_fraction': 0.8814520479226059, 'bagging_fraction': 0.9222148522412154, 'bagging_freq': 4, 'min_child_samples': 60}. Best is trial 17 with value: 0.888268156424581.\u001b[0m\n",
      "\u001b[32m[I 2021-12-20 20:03:32,308]\u001b[0m Trial 820 finished with value: 0.8156424581005587 and parameters: {'lambda_l1': 4.4855613050270196e-07, 'lambda_l2': 1.5712235016408232e-05, 'num_leaves': 228, 'feature_fraction': 0.8878668253578015, 'bagging_fraction': 0.8947477720999784, 'bagging_freq': 4, 'min_child_samples': 64}. Best is trial 17 with value: 0.888268156424581.\u001b[0m\n",
      "\u001b[32m[I 2021-12-20 20:03:32,449]\u001b[0m Trial 821 finished with value: 0.7653631284916201 and parameters: {'lambda_l1': 1.2502352412493464e-05, 'lambda_l2': 1.17506692698527e-05, 'num_leaves': 216, 'feature_fraction': 0.9022252476470408, 'bagging_fraction': 0.8524562958959491, 'bagging_freq': 4, 'min_child_samples': 71}. Best is trial 17 with value: 0.888268156424581.\u001b[0m\n",
      "\u001b[32m[I 2021-12-20 20:03:32,605]\u001b[0m Trial 822 finished with value: 0.8268156424581006 and parameters: {'lambda_l1': 1.1820098472965567e-06, 'lambda_l2': 1.858487421317737e-05, 'num_leaves': 206, 'feature_fraction': 0.8724434387572622, 'bagging_fraction': 0.9104130342212182, 'bagging_freq': 4, 'min_child_samples': 36}. Best is trial 17 with value: 0.888268156424581.\u001b[0m\n",
      "\u001b[32m[I 2021-12-20 20:03:32,749]\u001b[0m Trial 823 finished with value: 0.8212290502793296 and parameters: {'lambda_l1': 0.003018615031998999, 'lambda_l2': 3.0089352536654928e-05, 'num_leaves': 224, 'feature_fraction': 0.5385165025843065, 'bagging_fraction': 0.9325397753483782, 'bagging_freq': 4, 'min_child_samples': 62}. Best is trial 17 with value: 0.888268156424581.\u001b[0m\n"
     ]
    },
    {
     "name": "stderr",
     "output_type": "stream",
     "text": [
      "\u001b[32m[I 2021-12-20 20:03:32,892]\u001b[0m Trial 824 finished with value: 0.8156424581005587 and parameters: {'lambda_l1': 2.7097445907942323e-07, 'lambda_l2': 1.2134660084940493e-05, 'num_leaves': 213, 'feature_fraction': 0.8731615297371365, 'bagging_fraction': 0.9027007337042836, 'bagging_freq': 4, 'min_child_samples': 61}. Best is trial 17 with value: 0.888268156424581.\u001b[0m\n",
      "\u001b[32m[I 2021-12-20 20:03:33,041]\u001b[0m Trial 825 finished with value: 0.8770949720670391 and parameters: {'lambda_l1': 1.889079870391847e-06, 'lambda_l2': 8.786130553923067e-06, 'num_leaves': 207, 'feature_fraction': 0.8586778355998831, 'bagging_fraction': 0.9261383526705818, 'bagging_freq': 4, 'min_child_samples': 66}. Best is trial 17 with value: 0.888268156424581.\u001b[0m\n",
      "\u001b[32m[I 2021-12-20 20:03:33,185]\u001b[0m Trial 826 finished with value: 0.8324022346368715 and parameters: {'lambda_l1': 1.96193516272407e-06, 'lambda_l2': 7.567139147567202e-06, 'num_leaves': 206, 'feature_fraction': 0.8585147458967406, 'bagging_fraction': 0.9146599857403624, 'bagging_freq': 5, 'min_child_samples': 67}. Best is trial 17 with value: 0.888268156424581.\u001b[0m\n",
      "\u001b[32m[I 2021-12-20 20:03:33,330]\u001b[0m Trial 827 finished with value: 0.8435754189944135 and parameters: {'lambda_l1': 2.6123952087361095e-06, 'lambda_l2': 6.860766158505444e-07, 'num_leaves': 202, 'feature_fraction': 0.8656240543741637, 'bagging_fraction': 0.9314604897280805, 'bagging_freq': 5, 'min_child_samples': 67}. Best is trial 17 with value: 0.888268156424581.\u001b[0m\n",
      "\u001b[32m[I 2021-12-20 20:03:33,480]\u001b[0m Trial 828 finished with value: 0.7597765363128491 and parameters: {'lambda_l1': 1.1217203336967601e-06, 'lambda_l2': 5.2121177926567805e-05, 'num_leaves': 215, 'feature_fraction': 0.8527550039846612, 'bagging_fraction': 0.9299534812317971, 'bagging_freq': 7, 'min_child_samples': 63}. Best is trial 17 with value: 0.888268156424581.\u001b[0m\n",
      "\u001b[32m[I 2021-12-20 20:03:33,624]\u001b[0m Trial 829 finished with value: 0.8770949720670391 and parameters: {'lambda_l1': 3.926457851066367e-06, 'lambda_l2': 6.865921386956166e-06, 'num_leaves': 208, 'feature_fraction': 0.8656342731171426, 'bagging_fraction': 0.9348407794952066, 'bagging_freq': 4, 'min_child_samples': 66}. Best is trial 17 with value: 0.888268156424581.\u001b[0m\n",
      "\u001b[32m[I 2021-12-20 20:03:33,767]\u001b[0m Trial 830 finished with value: 0.8379888268156425 and parameters: {'lambda_l1': 4.588780990949939e-06, 'lambda_l2': 8.834243674322155e-06, 'num_leaves': 211, 'feature_fraction': 0.8852592725192622, 'bagging_fraction': 0.9438686412183802, 'bagging_freq': 4, 'min_child_samples': 67}. Best is trial 17 with value: 0.888268156424581.\u001b[0m\n",
      "\u001b[32m[I 2021-12-20 20:03:33,932]\u001b[0m Trial 831 finished with value: 0.8212290502793296 and parameters: {'lambda_l1': 6.126314290684008e-07, 'lambda_l2': 1.9841898705294782e-05, 'num_leaves': 225, 'feature_fraction': 0.8381523274349312, 'bagging_fraction': 0.8885939147378462, 'bagging_freq': 4, 'min_child_samples': 32}. Best is trial 17 with value: 0.888268156424581.\u001b[0m\n",
      "\u001b[32m[I 2021-12-20 20:03:34,075]\u001b[0m Trial 832 finished with value: 0.8435754189944135 and parameters: {'lambda_l1': 3.0139469829378624e-06, 'lambda_l2': 5.1376809927092466e-06, 'num_leaves': 203, 'feature_fraction': 0.8987622939383824, 'bagging_fraction': 0.9226079953204501, 'bagging_freq': 6, 'min_child_samples': 70}. Best is trial 17 with value: 0.888268156424581.\u001b[0m\n",
      "\u001b[32m[I 2021-12-20 20:03:34,218]\u001b[0m Trial 833 finished with value: 0.8156424581005587 and parameters: {'lambda_l1': 3.6316695395456336e-07, 'lambda_l2': 6.012697938740243e-05, 'num_leaves': 207, 'feature_fraction': 0.932772161730092, 'bagging_fraction': 0.9580571583453843, 'bagging_freq': 5, 'min_child_samples': 68}. Best is trial 17 with value: 0.888268156424581.\u001b[0m\n",
      "\u001b[32m[I 2021-12-20 20:03:34,360]\u001b[0m Trial 834 finished with value: 0.8435754189944135 and parameters: {'lambda_l1': 3.64925620280182e-06, 'lambda_l2': 7.9864469859836e-06, 'num_leaves': 196, 'feature_fraction': 0.8630064760886216, 'bagging_fraction': 0.918527237216021, 'bagging_freq': 4, 'min_child_samples': 65}. Best is trial 17 with value: 0.888268156424581.\u001b[0m\n",
      "\u001b[32m[I 2021-12-20 20:03:34,523]\u001b[0m Trial 835 finished with value: 0.8715083798882681 and parameters: {'lambda_l1': 2.496711183211415e-06, 'lambda_l2': 6.1803992280434895e-06, 'num_leaves': 220, 'feature_fraction': 0.874228197872533, 'bagging_fraction': 0.940439421975799, 'bagging_freq': 4, 'min_child_samples': 63}. Best is trial 17 with value: 0.888268156424581.\u001b[0m\n",
      "\u001b[32m[I 2021-12-20 20:03:34,668]\u001b[0m Trial 836 finished with value: 0.8603351955307262 and parameters: {'lambda_l1': 1.770927379175875e-06, 'lambda_l2': 8.356052244838455e-06, 'num_leaves': 209, 'feature_fraction': 0.8661310456041454, 'bagging_fraction': 0.9069611508884052, 'bagging_freq': 4, 'min_child_samples': 65}. Best is trial 17 with value: 0.888268156424581.\u001b[0m\n",
      "\u001b[32m[I 2021-12-20 20:03:34,810]\u001b[0m Trial 837 finished with value: 0.8435754189944135 and parameters: {'lambda_l1': 5.852408484859437e-05, 'lambda_l2': 1.1588932789074648e-05, 'num_leaves': 200, 'feature_fraction': 0.8623256535634277, 'bagging_fraction': 0.9530462549216677, 'bagging_freq': 4, 'min_child_samples': 69}. Best is trial 17 with value: 0.888268156424581.\u001b[0m\n",
      "\u001b[32m[I 2021-12-20 20:03:34,954]\u001b[0m Trial 838 finished with value: 0.8268156424581006 and parameters: {'lambda_l1': 7.91720278128664e-08, 'lambda_l2': 7.98034216115499e-06, 'num_leaves': 210, 'feature_fraction': 0.850291753476353, 'bagging_fraction': 0.9233097452860918, 'bagging_freq': 4, 'min_child_samples': 62}. Best is trial 17 with value: 0.888268156424581.\u001b[0m\n",
      "\u001b[32m[I 2021-12-20 20:03:35,105]\u001b[0m Trial 839 finished with value: 0.8379888268156425 and parameters: {'lambda_l1': 2.916329069976294e-06, 'lambda_l2': 1.0535419433461124e-05, 'num_leaves': 205, 'feature_fraction': 0.9112248094722313, 'bagging_fraction': 0.9368961280060011, 'bagging_freq': 4, 'min_child_samples': 61}. Best is trial 17 with value: 0.888268156424581.\u001b[0m\n",
      "\u001b[32m[I 2021-12-20 20:03:35,251]\u001b[0m Trial 840 finished with value: 0.8100558659217877 and parameters: {'lambda_l1': 1.7742152984525952e-06, 'lambda_l2': 1.4144683107668403e-05, 'num_leaves': 214, 'feature_fraction': 0.8779309545657961, 'bagging_fraction': 0.920618636560932, 'bagging_freq': 4, 'min_child_samples': 66}. Best is trial 17 with value: 0.888268156424581.\u001b[0m\n",
      "\u001b[32m[I 2021-12-20 20:03:35,412]\u001b[0m Trial 841 finished with value: 0.8491620111731844 and parameters: {'lambda_l1': 1.5465861703482008e-06, 'lambda_l2': 5.5815644186011015e-06, 'num_leaves': 203, 'feature_fraction': 0.8489876697390527, 'bagging_fraction': 0.9002157064865193, 'bagging_freq': 4, 'min_child_samples': 35}. Best is trial 17 with value: 0.888268156424581.\u001b[0m\n",
      "\u001b[32m[I 2021-12-20 20:03:35,560]\u001b[0m Trial 842 finished with value: 0.8603351955307262 and parameters: {'lambda_l1': 6.4153626281499045e-06, 'lambda_l2': 2.171484103963462e-08, 'num_leaves': 208, 'feature_fraction': 0.8795431947825971, 'bagging_fraction': 0.9321529659491788, 'bagging_freq': 4, 'min_child_samples': 62}. Best is trial 17 with value: 0.888268156424581.\u001b[0m\n",
      "\u001b[32m[I 2021-12-20 20:03:35,703]\u001b[0m Trial 843 finished with value: 0.8100558659217877 and parameters: {'lambda_l1': 9.469437299900325e-06, 'lambda_l2': 1.6848385356854576e-05, 'num_leaves': 233, 'feature_fraction': 0.8470199590589008, 'bagging_fraction': 0.9401073646560578, 'bagging_freq': 5, 'min_child_samples': 65}. Best is trial 17 with value: 0.888268156424581.\u001b[0m\n",
      "\u001b[32m[I 2021-12-20 20:03:35,867]\u001b[0m Trial 844 finished with value: 0.8547486033519553 and parameters: {'lambda_l1': 8.281150230341154e-07, 'lambda_l2': 2.7411969838498883e-05, 'num_leaves': 182, 'feature_fraction': 0.8381441742054304, 'bagging_fraction': 0.9139686725254225, 'bagging_freq': 4, 'min_child_samples': 32}. Best is trial 17 with value: 0.888268156424581.\u001b[0m\n",
      "\u001b[32m[I 2021-12-20 20:03:36,013]\u001b[0m Trial 845 finished with value: 0.8547486033519553 and parameters: {'lambda_l1': 2.34677304898004e-07, 'lambda_l2': 3.0920351037626305e-06, 'num_leaves': 200, 'feature_fraction': 0.850121559402563, 'bagging_fraction': 0.9189027009190249, 'bagging_freq': 4, 'min_child_samples': 66}. Best is trial 17 with value: 0.888268156424581.\u001b[0m\n",
      "\u001b[32m[I 2021-12-20 20:03:36,159]\u001b[0m Trial 846 finished with value: 0.8547486033519553 and parameters: {'lambda_l1': 3.4184067187190155e-06, 'lambda_l2': 1.0010389977863317e-05, 'num_leaves': 202, 'feature_fraction': 0.8928992901285143, 'bagging_fraction': 0.9304780739658025, 'bagging_freq': 6, 'min_child_samples': 67}. Best is trial 17 with value: 0.888268156424581.\u001b[0m\n"
     ]
    },
    {
     "name": "stderr",
     "output_type": "stream",
     "text": [
      "\u001b[32m[I 2021-12-20 20:03:36,313]\u001b[0m Trial 847 finished with value: 0.7877094972067039 and parameters: {'lambda_l1': 2.0373769164325974e-06, 'lambda_l2': 1.8748071947373973e-06, 'num_leaves': 207, 'feature_fraction': 0.866338900691063, 'bagging_fraction': 0.9539792908341072, 'bagging_freq': 4, 'min_child_samples': 63}. Best is trial 17 with value: 0.888268156424581.\u001b[0m\n",
      "\u001b[32m[I 2021-12-20 20:03:36,455]\u001b[0m Trial 848 finished with value: 0.8547486033519553 and parameters: {'lambda_l1': 4.929981520773489e-07, 'lambda_l2': 2.9208320817977272e-05, 'num_leaves': 219, 'feature_fraction': 0.5860959182780284, 'bagging_fraction': 0.8814967768764509, 'bagging_freq': 6, 'min_child_samples': 80}. Best is trial 17 with value: 0.888268156424581.\u001b[0m\n",
      "\u001b[32m[I 2021-12-20 20:03:36,711]\u001b[0m Trial 849 finished with value: 0.7821229050279329 and parameters: {'lambda_l1': 4.7189696162977405e-06, 'lambda_l2': 7.567228564571558e-06, 'num_leaves': 212, 'feature_fraction': 0.8575503582156777, 'bagging_fraction': 0.9635944894967519, 'bagging_freq': 4, 'min_child_samples': 68}. Best is trial 17 with value: 0.888268156424581.\u001b[0m\n",
      "\u001b[32m[I 2021-12-20 20:03:36,857]\u001b[0m Trial 850 finished with value: 0.8324022346368715 and parameters: {'lambda_l1': 2.508367729621488e-05, 'lambda_l2': 3.587287890684615e-05, 'num_leaves': 217, 'feature_fraction': 0.8731052939955842, 'bagging_fraction': 0.9455073416473235, 'bagging_freq': 4, 'min_child_samples': 72}. Best is trial 17 with value: 0.888268156424581.\u001b[0m\n",
      "\u001b[32m[I 2021-12-20 20:03:37,014]\u001b[0m Trial 851 finished with value: 0.7653631284916201 and parameters: {'lambda_l1': 0.0007578903074261389, 'lambda_l2': 4.2646551877128004e-06, 'num_leaves': 210, 'feature_fraction': 0.8957514159328696, 'bagging_fraction': 0.9083531719063938, 'bagging_freq': 4, 'min_child_samples': 36}. Best is trial 17 with value: 0.888268156424581.\u001b[0m\n",
      "\u001b[32m[I 2021-12-20 20:03:37,157]\u001b[0m Trial 852 finished with value: 0.8156424581005587 and parameters: {'lambda_l1': 1.7699544796350387e-06, 'lambda_l2': 1.881446748917922e-05, 'num_leaves': 213, 'feature_fraction': 0.8674754599294423, 'bagging_fraction': 0.8572867859227612, 'bagging_freq': 2, 'min_child_samples': 64}. Best is trial 17 with value: 0.888268156424581.\u001b[0m\n",
      "\u001b[32m[I 2021-12-20 20:03:37,310]\u001b[0m Trial 853 finished with value: 0.8156424581005587 and parameters: {'lambda_l1': 1.192102881411318e-06, 'lambda_l2': 1.1275104765917007e-06, 'num_leaves': 198, 'feature_fraction': 0.885080033768198, 'bagging_fraction': 0.9280874055240015, 'bagging_freq': 4, 'min_child_samples': 65}. Best is trial 17 with value: 0.888268156424581.\u001b[0m\n",
      "\u001b[32m[I 2021-12-20 20:03:37,453]\u001b[0m Trial 854 finished with value: 0.8603351955307262 and parameters: {'lambda_l1': 8.232525698847398e-07, 'lambda_l2': 4.3175724565988885e-05, 'num_leaves': 229, 'feature_fraction': 0.8456814517918969, 'bagging_fraction': 0.9439493127766824, 'bagging_freq': 4, 'min_child_samples': 68}. Best is trial 17 with value: 0.888268156424581.\u001b[0m\n",
      "\u001b[32m[I 2021-12-20 20:03:37,605]\u001b[0m Trial 855 finished with value: 0.8379888268156425 and parameters: {'lambda_l1': 1.8041023462023608e-07, 'lambda_l2': 6.220544355727352e-06, 'num_leaves': 216, 'feature_fraction': 0.8359151265282053, 'bagging_fraction': 0.8920410545053208, 'bagging_freq': 4, 'min_child_samples': 64}. Best is trial 17 with value: 0.888268156424581.\u001b[0m\n",
      "\u001b[32m[I 2021-12-20 20:03:37,749]\u001b[0m Trial 856 finished with value: 0.8379888268156425 and parameters: {'lambda_l1': 1.0403631351891863e-06, 'lambda_l2': 1.3472625469502369e-05, 'num_leaves': 222, 'feature_fraction': 0.9138264025630991, 'bagging_fraction': 0.9033346665262525, 'bagging_freq': 6, 'min_child_samples': 69}. Best is trial 17 with value: 0.888268156424581.\u001b[0m\n",
      "\u001b[32m[I 2021-12-20 20:03:37,897]\u001b[0m Trial 857 finished with value: 0.8268156424581006 and parameters: {'lambda_l1': 3.192208864216397e-07, 'lambda_l2': 5.613581340242299e-05, 'num_leaves': 235, 'feature_fraction': 0.8352992372634799, 'bagging_fraction': 0.4820033227654298, 'bagging_freq': 6, 'min_child_samples': 30}. Best is trial 17 with value: 0.888268156424581.\u001b[0m\n",
      "\u001b[32m[I 2021-12-20 20:03:38,044]\u001b[0m Trial 858 finished with value: 0.8603351955307262 and parameters: {'lambda_l1': 5.03978019808437e-07, 'lambda_l2': 0.00010529268945502009, 'num_leaves': 225, 'feature_fraction': 0.6384224781253491, 'bagging_fraction': 0.9602862198854524, 'bagging_freq': 4, 'min_child_samples': 75}. Best is trial 17 with value: 0.888268156424581.\u001b[0m\n",
      "\u001b[32m[I 2021-12-20 20:03:38,212]\u001b[0m Trial 859 finished with value: 0.8212290502793296 and parameters: {'lambda_l1': 1.3586465065640004e-07, 'lambda_l2': 1.7602197497711783e-05, 'num_leaves': 246, 'feature_fraction': 0.8200366130554319, 'bagging_fraction': 0.8734891456275228, 'bagging_freq': 4, 'min_child_samples': 33}. Best is trial 17 with value: 0.888268156424581.\u001b[0m\n",
      "\u001b[32m[I 2021-12-20 20:03:38,356]\u001b[0m Trial 860 finished with value: 0.8491620111731844 and parameters: {'lambda_l1': 7.600126759467562e-07, 'lambda_l2': 3.8627432684890575e-06, 'num_leaves': 218, 'feature_fraction': 0.8786162682017548, 'bagging_fraction': 0.9115204415065514, 'bagging_freq': 2, 'min_child_samples': 61}. Best is trial 17 with value: 0.888268156424581.\u001b[0m\n",
      "\u001b[32m[I 2021-12-20 20:03:38,511]\u001b[0m Trial 861 finished with value: 0.8044692737430168 and parameters: {'lambda_l1': 1.4309114243555375e-06, 'lambda_l2': 8.076582550016383e-06, 'num_leaves': 196, 'feature_fraction': 0.8271947071499554, 'bagging_fraction': 0.6812324871296899, 'bagging_freq': 4, 'min_child_samples': 27}. Best is trial 17 with value: 0.888268156424581.\u001b[0m\n",
      "\u001b[32m[I 2021-12-20 20:03:38,671]\u001b[0m Trial 862 finished with value: 0.8212290502793296 and parameters: {'lambda_l1': 2.5386127385623413e-06, 'lambda_l2': 3.1749659980928833e-06, 'num_leaves': 252, 'feature_fraction': 0.9032712453416948, 'bagging_fraction': 0.8962086639436366, 'bagging_freq': 7, 'min_child_samples': 31}. Best is trial 17 with value: 0.888268156424581.\u001b[0m\n",
      "\u001b[32m[I 2021-12-20 20:03:38,820]\u001b[0m Trial 863 finished with value: 0.8100558659217877 and parameters: {'lambda_l1': 1.538803884355801e-06, 'lambda_l2': 1.0489218879015656e-05, 'num_leaves': 228, 'feature_fraction': 0.828739944843709, 'bagging_fraction': 0.9247677706375523, 'bagging_freq': 5, 'min_child_samples': 70}. Best is trial 17 with value: 0.888268156424581.\u001b[0m\n",
      "\u001b[32m[I 2021-12-20 20:03:38,966]\u001b[0m Trial 864 finished with value: 0.8715083798882681 and parameters: {'lambda_l1': 2.255357202116388e-06, 'lambda_l2': 5.38515353873686e-06, 'num_leaves': 176, 'feature_fraction': 0.8934709419965795, 'bagging_fraction': 0.9069168971107916, 'bagging_freq': 6, 'min_child_samples': 72}. Best is trial 17 with value: 0.888268156424581.\u001b[0m\n",
      "\u001b[32m[I 2021-12-20 20:03:39,100]\u001b[0m Trial 865 finished with value: 0.8212290502793296 and parameters: {'lambda_l1': 1.779869312003546e-07, 'lambda_l2': 2.1114053761696394e-06, 'num_leaves': 206, 'feature_fraction': 0.8549190533456469, 'bagging_fraction': 0.4050038836360575, 'bagging_freq': 4, 'min_child_samples': 65}. Best is trial 17 with value: 0.888268156424581.\u001b[0m\n",
      "\u001b[32m[I 2021-12-20 20:03:39,251]\u001b[0m Trial 866 finished with value: 0.7932960893854749 and parameters: {'lambda_l1': 1.1122482615613043e-06, 'lambda_l2': 1.3144675641960887e-05, 'num_leaves': 236, 'feature_fraction': 0.8714699620683803, 'bagging_fraction': 0.89488242065617, 'bagging_freq': 4, 'min_child_samples': 59}. Best is trial 17 with value: 0.888268156424581.\u001b[0m\n",
      "\u001b[32m[I 2021-12-20 20:03:39,397]\u001b[0m Trial 867 finished with value: 0.8491620111731844 and parameters: {'lambda_l1': 7.101290058476392e-07, 'lambda_l2': 6.57600110209928e-06, 'num_leaves': 204, 'feature_fraction': 0.8110094135067788, 'bagging_fraction': 0.9357583601601535, 'bagging_freq': 4, 'min_child_samples': 66}. Best is trial 17 with value: 0.888268156424581.\u001b[0m\n",
      "\u001b[32m[I 2021-12-20 20:03:39,558]\u001b[0m Trial 868 finished with value: 0.8603351955307262 and parameters: {'lambda_l1': 7.824462074643599e-07, 'lambda_l2': 2.9876890615799364e-05, 'num_leaves': 221, 'feature_fraction': 0.9174810004726779, 'bagging_fraction': 0.9227389392346772, 'bagging_freq': 6, 'min_child_samples': 30}. Best is trial 17 with value: 0.888268156424581.\u001b[0m\n"
     ]
    },
    {
     "name": "stderr",
     "output_type": "stream",
     "text": [
      "\u001b[32m[I 2021-12-20 20:03:39,718]\u001b[0m Trial 869 finished with value: 0.8379888268156425 and parameters: {'lambda_l1': 3.615983463686707e-07, 'lambda_l2': 7.7696774220524e-05, 'num_leaves': 182, 'feature_fraction': 0.5949894013852483, 'bagging_fraction': 0.8736636781238596, 'bagging_freq': 4, 'min_child_samples': 29}. Best is trial 17 with value: 0.888268156424581.\u001b[0m\n",
      "\u001b[32m[I 2021-12-20 20:03:39,858]\u001b[0m Trial 870 finished with value: 0.8044692737430168 and parameters: {'lambda_l1': 1.1334684698040813e-07, 'lambda_l2': 1.243674119645036e-06, 'num_leaves': 211, 'feature_fraction': 0.8536352648247265, 'bagging_fraction': 0.7032356523085468, 'bagging_freq': 4, 'min_child_samples': 68}. Best is trial 17 with value: 0.888268156424581.\u001b[0m\n",
      "\u001b[32m[I 2021-12-20 20:03:40,012]\u001b[0m Trial 871 finished with value: 0.8379888268156425 and parameters: {'lambda_l1': 3.555460463247673e-06, 'lambda_l2': 2.2518524859624645e-05, 'num_leaves': 213, 'feature_fraction': 0.8643768312069708, 'bagging_fraction': 0.7887113840944313, 'bagging_freq': 2, 'min_child_samples': 37}. Best is trial 17 with value: 0.888268156424581.\u001b[0m\n",
      "\u001b[32m[I 2021-12-20 20:03:40,153]\u001b[0m Trial 872 finished with value: 0.8603351955307262 and parameters: {'lambda_l1': 1.5781763831007973e-06, 'lambda_l2': 2.1240011509327308e-05, 'num_leaves': 201, 'feature_fraction': 0.8892171170642715, 'bagging_fraction': 0.754920475932299, 'bagging_freq': 6, 'min_child_samples': 74}. Best is trial 17 with value: 0.888268156424581.\u001b[0m\n",
      "\u001b[32m[I 2021-12-20 20:03:40,298]\u001b[0m Trial 873 finished with value: 0.8156424581005587 and parameters: {'lambda_l1': 1.3540706404570595e-06, 'lambda_l2': 4.2089175406102996e-05, 'num_leaves': 225, 'feature_fraction': 0.9014450207473634, 'bagging_fraction': 0.8937663613614418, 'bagging_freq': 6, 'min_child_samples': 81}. Best is trial 17 with value: 0.888268156424581.\u001b[0m\n",
      "\u001b[32m[I 2021-12-20 20:03:40,448]\u001b[0m Trial 874 finished with value: 0.8491620111731844 and parameters: {'lambda_l1': 0.00030153102579016835, 'lambda_l2': 0.00037408060059731455, 'num_leaves': 217, 'feature_fraction': 0.7124360939566118, 'bagging_fraction': 0.9479487180603956, 'bagging_freq': 4, 'min_child_samples': 62}. Best is trial 17 with value: 0.888268156424581.\u001b[0m\n",
      "\u001b[32m[I 2021-12-20 20:03:40,595]\u001b[0m Trial 875 finished with value: 0.8044692737430168 and parameters: {'lambda_l1': 2.3519949142270024e-06, 'lambda_l2': 1.3533563837561522e-05, 'num_leaves': 208, 'feature_fraction': 0.6143701087789291, 'bagging_fraction': 0.8836581198055191, 'bagging_freq': 6, 'min_child_samples': 64}. Best is trial 17 with value: 0.888268156424581.\u001b[0m\n",
      "\u001b[32m[I 2021-12-20 20:03:40,743]\u001b[0m Trial 876 finished with value: 0.8100558659217877 and parameters: {'lambda_l1': 5.169246095178273e-07, 'lambda_l2': 2.9124479021811483e-06, 'num_leaves': 194, 'feature_fraction': 0.806149144802852, 'bagging_fraction': 0.9121089925601854, 'bagging_freq': 4, 'min_child_samples': 87}. Best is trial 17 with value: 0.888268156424581.\u001b[0m\n",
      "\u001b[32m[I 2021-12-20 20:03:40,911]\u001b[0m Trial 877 finished with value: 0.8491620111731844 and parameters: {'lambda_l1': 2.91247414919548e-07, 'lambda_l2': 0.0001155856857541642, 'num_leaves': 241, 'feature_fraction': 0.7154703809473394, 'bagging_fraction': 0.9390583193973016, 'bagging_freq': 5, 'min_child_samples': 27}. Best is trial 17 with value: 0.888268156424581.\u001b[0m\n",
      "\u001b[32m[I 2021-12-20 20:03:41,079]\u001b[0m Trial 878 finished with value: 0.8100558659217877 and parameters: {'lambda_l1': 4.842379230015584e-08, 'lambda_l2': 0.00019625357822481993, 'num_leaves': 226, 'feature_fraction': 0.6518740801566762, 'bagging_fraction': 0.8605041987463986, 'bagging_freq': 4, 'min_child_samples': 26}. Best is trial 17 with value: 0.888268156424581.\u001b[0m\n",
      "\u001b[32m[I 2021-12-20 20:03:41,236]\u001b[0m Trial 879 finished with value: 0.776536312849162 and parameters: {'lambda_l1': 1.1074510852992145e-06, 'lambda_l2': 1.125357237973384e-05, 'num_leaves': 194, 'feature_fraction': 0.8418843269410874, 'bagging_fraction': 0.9046299012288668, 'bagging_freq': 4, 'min_child_samples': 61}. Best is trial 17 with value: 0.888268156424581.\u001b[0m\n",
      "\u001b[32m[I 2021-12-20 20:03:41,384]\u001b[0m Trial 880 finished with value: 0.8435754189944135 and parameters: {'lambda_l1': 7.586206082680347e-08, 'lambda_l2': 8.591175555464417e-05, 'num_leaves': 199, 'feature_fraction': 0.8818097565318802, 'bagging_fraction': 0.5027177959414791, 'bagging_freq': 6, 'min_child_samples': 32}. Best is trial 17 with value: 0.888268156424581.\u001b[0m\n",
      "\u001b[32m[I 2021-12-20 20:03:41,552]\u001b[0m Trial 881 finished with value: 0.8100558659217877 and parameters: {'lambda_l1': 2.1041274618930397e-07, 'lambda_l2': 0.0002864839319109542, 'num_leaves': 215, 'feature_fraction': 0.8441560590452079, 'bagging_fraction': 0.9342341802687619, 'bagging_freq': 4, 'min_child_samples': 28}. Best is trial 17 with value: 0.888268156424581.\u001b[0m\n",
      "\u001b[32m[I 2021-12-20 20:03:41,711]\u001b[0m Trial 882 finished with value: 0.8156424581005587 and parameters: {'lambda_l1': 6.799438272027332e-07, 'lambda_l2': 4.203484264696756e-06, 'num_leaves': 229, 'feature_fraction': 0.8887099200058599, 'bagging_fraction': 0.9173243473134317, 'bagging_freq': 6, 'min_child_samples': 36}. Best is trial 17 with value: 0.888268156424581.\u001b[0m\n",
      "\u001b[32m[I 2021-12-20 20:03:41,871]\u001b[0m Trial 883 finished with value: 0.8938547486033519 and parameters: {'lambda_l1': 5.399278464234279e-07, 'lambda_l2': 4.68363529380804e-05, 'num_leaves': 191, 'feature_fraction': 0.8194812116361456, 'bagging_fraction': 0.8843890245328989, 'bagging_freq': 2, 'min_child_samples': 34}. Best is trial 883 with value: 0.8938547486033519.\u001b[0m\n",
      "\u001b[32m[I 2021-12-20 20:03:42,033]\u001b[0m Trial 884 finished with value: 0.8268156424581006 and parameters: {'lambda_l1': 4.53018860329218e-07, 'lambda_l2': 8.252170943047916e-06, 'num_leaves': 197, 'feature_fraction': 0.8129121493212907, 'bagging_fraction': 0.9656037372017815, 'bagging_freq': 2, 'min_child_samples': 34}. Best is trial 883 with value: 0.8938547486033519.\u001b[0m\n",
      "\u001b[32m[I 2021-12-20 20:03:42,186]\u001b[0m Trial 885 finished with value: 0.8156424581005587 and parameters: {'lambda_l1': 5.913105478701469e-07, 'lambda_l2': 3.7828932276733166e-05, 'num_leaves': 190, 'feature_fraction': 0.8288043181698697, 'bagging_fraction': 0.9527895135525484, 'bagging_freq': 2, 'min_child_samples': 66}. Best is trial 883 with value: 0.8938547486033519.\u001b[0m\n",
      "\u001b[32m[I 2021-12-20 20:03:42,347]\u001b[0m Trial 886 finished with value: 0.7877094972067039 and parameters: {'lambda_l1': 9.503188478545248e-07, 'lambda_l2': 1.9749829549333234e-05, 'num_leaves': 207, 'feature_fraction': 0.6297263703691439, 'bagging_fraction': 0.8683386115761247, 'bagging_freq': 2, 'min_child_samples': 35}. Best is trial 883 with value: 0.8938547486033519.\u001b[0m\n",
      "\u001b[32m[I 2021-12-20 20:03:42,499]\u001b[0m Trial 887 finished with value: 0.8435754189944135 and parameters: {'lambda_l1': 3.126636592094119e-07, 'lambda_l2': 5.847128345697858e-06, 'num_leaves': 163, 'feature_fraction': 0.7990899273016132, 'bagging_fraction': 0.9286923818998505, 'bagging_freq': 2, 'min_child_samples': 68}. Best is trial 883 with value: 0.8938547486033519.\u001b[0m\n",
      "\u001b[32m[I 2021-12-20 20:03:42,657]\u001b[0m Trial 888 finished with value: 0.8324022346368715 and parameters: {'lambda_l1': 1.1995709759945124e-06, 'lambda_l2': 2.3814411570945252e-05, 'num_leaves': 238, 'feature_fraction': 0.8594065225162437, 'bagging_fraction': 0.8832450888100569, 'bagging_freq': 4, 'min_child_samples': 47}. Best is trial 883 with value: 0.8938547486033519.\u001b[0m\n",
      "\u001b[32m[I 2021-12-20 20:03:42,819]\u001b[0m Trial 889 finished with value: 0.7932960893854749 and parameters: {'lambda_l1': 6.413237659096526e-07, 'lambda_l2': 4.23452649856841e-05, 'num_leaves': 188, 'feature_fraction': 0.8311480984138029, 'bagging_fraction': 0.8848116943578623, 'bagging_freq': 2, 'min_child_samples': 39}. Best is trial 883 with value: 0.8938547486033519.\u001b[0m\n",
      "\u001b[32m[I 2021-12-20 20:03:42,981]\u001b[0m Trial 890 finished with value: 0.8268156424581006 and parameters: {'lambda_l1': 1.6964531290121497e-06, 'lambda_l2': 0.00020088209383370604, 'num_leaves': 184, 'feature_fraction': 0.8177609722680694, 'bagging_fraction': 0.8428345409838601, 'bagging_freq': 2, 'min_child_samples': 30}. Best is trial 883 with value: 0.8938547486033519.\u001b[0m\n"
     ]
    },
    {
     "name": "stderr",
     "output_type": "stream",
     "text": [
      "\u001b[32m[I 2021-12-20 20:03:43,127]\u001b[0m Trial 891 finished with value: 0.8100558659217877 and parameters: {'lambda_l1': 3.5985684143891178e-06, 'lambda_l2': 6.515414082308973e-05, 'num_leaves': 200, 'feature_fraction': 0.8551400035141034, 'bagging_fraction': 0.4803739858936273, 'bagging_freq': 2, 'min_child_samples': 32}. Best is trial 883 with value: 0.8938547486033519.\u001b[0m\n",
      "\u001b[32m[I 2021-12-20 20:03:43,304]\u001b[0m Trial 892 finished with value: 0.8212290502793296 and parameters: {'lambda_l1': 5.416305646999922e-07, 'lambda_l2': 4.8539932224633144e-05, 'num_leaves': 250, 'feature_fraction': 0.8733646167810598, 'bagging_fraction': 0.9380005477838985, 'bagging_freq': 4, 'min_child_samples': 30}. Best is trial 883 with value: 0.8938547486033519.\u001b[0m\n",
      "\u001b[32m[I 2021-12-20 20:03:43,450]\u001b[0m Trial 893 finished with value: 0.8547486033519553 and parameters: {'lambda_l1': 4.1228632744642873e-07, 'lambda_l2': 0.00013071868291082424, 'num_leaves': 193, 'feature_fraction': 0.5583626992410219, 'bagging_fraction': 0.41020287500709673, 'bagging_freq': 2, 'min_child_samples': 33}. Best is trial 883 with value: 0.8938547486033519.\u001b[0m\n",
      "\u001b[32m[I 2021-12-20 20:03:43,605]\u001b[0m Trial 894 finished with value: 0.8156424581005587 and parameters: {'lambda_l1': 5.561484605255612e-08, 'lambda_l2': 3.0499524745346473e-05, 'num_leaves': 30, 'feature_fraction': 0.8678583745756097, 'bagging_fraction': 0.8654147102800207, 'bagging_freq': 2, 'min_child_samples': 37}. Best is trial 883 with value: 0.8938547486033519.\u001b[0m\n",
      "\u001b[32m[I 2021-12-20 20:03:43,757]\u001b[0m Trial 895 finished with value: 0.8044692737430168 and parameters: {'lambda_l1': 2.0085501636149978e-07, 'lambda_l2': 7.115075761517784e-05, 'num_leaves': 188, 'feature_fraction': 0.8476089248791733, 'bagging_fraction': 0.6666613253313938, 'bagging_freq': 6, 'min_child_samples': 33}. Best is trial 883 with value: 0.8938547486033519.\u001b[0m\n",
      "\u001b[32m[I 2021-12-20 20:03:43,918]\u001b[0m Trial 896 finished with value: 0.8491620111731844 and parameters: {'lambda_l1': 1.2760908959910754e-07, 'lambda_l2': 3.4400246829346895e-05, 'num_leaves': 193, 'feature_fraction': 0.8259238147972132, 'bagging_fraction': 0.8775080539347043, 'bagging_freq': 4, 'min_child_samples': 35}. Best is trial 883 with value: 0.8938547486033519.\u001b[0m\n",
      "\u001b[32m[I 2021-12-20 20:03:44,064]\u001b[0m Trial 897 finished with value: 0.8715083798882681 and parameters: {'lambda_l1': 3.621703568690554e-05, 'lambda_l2': 0.0007196502190737627, 'num_leaves': 165, 'feature_fraction': 0.805969753863075, 'bagging_fraction': 0.4861979755830183, 'bagging_freq': 4, 'min_child_samples': 35}. Best is trial 883 with value: 0.8938547486033519.\u001b[0m\n",
      "\u001b[32m[I 2021-12-20 20:03:44,239]\u001b[0m Trial 898 finished with value: 0.8268156424581006 and parameters: {'lambda_l1': 9.261294761236589e-07, 'lambda_l2': 2.0790683210404576e-06, 'num_leaves': 185, 'feature_fraction': 0.8391192526506919, 'bagging_fraction': 0.8961171215339834, 'bagging_freq': 6, 'min_child_samples': 24}. Best is trial 883 with value: 0.8938547486033519.\u001b[0m\n",
      "\u001b[32m[I 2021-12-20 20:03:44,389]\u001b[0m Trial 899 finished with value: 0.8044692737430168 and parameters: {'lambda_l1': 3.519522959855357e-07, 'lambda_l2': 1.0280435508840943e-05, 'num_leaves': 172, 'feature_fraction': 0.7939868130328985, 'bagging_fraction': 0.9217769880882403, 'bagging_freq': 4, 'min_child_samples': 63}. Best is trial 883 with value: 0.8938547486033519.\u001b[0m\n",
      "\u001b[32m[I 2021-12-20 20:03:44,533]\u001b[0m Trial 900 finished with value: 0.8603351955307262 and parameters: {'lambda_l1': 2.508060438641582e-07, 'lambda_l2': 1.6374955487178493e-05, 'num_leaves': 256, 'feature_fraction': 0.8200499613867309, 'bagging_fraction': 0.913436673346626, 'bagging_freq': 4, 'min_child_samples': 68}. Best is trial 883 with value: 0.8938547486033519.\u001b[0m\n",
      "\u001b[32m[I 2021-12-20 20:03:44,696]\u001b[0m Trial 901 finished with value: 0.8547486033519553 and parameters: {'lambda_l1': 7.133040052169149e-07, 'lambda_l2': 0.00011498562743167393, 'num_leaves': 178, 'feature_fraction': 0.7168866513511059, 'bagging_fraction': 0.8864304175935213, 'bagging_freq': 6, 'min_child_samples': 33}. Best is trial 883 with value: 0.8938547486033519.\u001b[0m\n",
      "\u001b[32m[I 2021-12-20 20:03:44,858]\u001b[0m Trial 902 finished with value: 0.8435754189944135 and parameters: {'lambda_l1': 2.1914857824622576e-06, 'lambda_l2': 2.789669394952206e-05, 'num_leaves': 220, 'feature_fraction': 0.8600520791242392, 'bagging_fraction': 0.8762257003294419, 'bagging_freq': 4, 'min_child_samples': 31}. Best is trial 883 with value: 0.8938547486033519.\u001b[0m\n",
      "\u001b[32m[I 2021-12-20 20:03:45,016]\u001b[0m Trial 903 finished with value: 0.7877094972067039 and parameters: {'lambda_l1': 5.789178070299603e-06, 'lambda_l2': 1.4923536983563304e-05, 'num_leaves': 181, 'feature_fraction': 0.8844783610632786, 'bagging_fraction': 0.9053620487603337, 'bagging_freq': 4, 'min_child_samples': 37}. Best is trial 883 with value: 0.8938547486033519.\u001b[0m\n",
      "\u001b[32m[I 2021-12-20 20:03:45,177]\u001b[0m Trial 904 finished with value: 0.8547486033519553 and parameters: {'lambda_l1': 4.5539272498006343e-07, 'lambda_l2': 4.8514341062846315e-06, 'num_leaves': 197, 'feature_fraction': 0.8145626823600312, 'bagging_fraction': 0.895875323443705, 'bagging_freq': 4, 'min_child_samples': 45}. Best is trial 883 with value: 0.8938547486033519.\u001b[0m\n",
      "\u001b[32m[I 2021-12-20 20:03:45,336]\u001b[0m Trial 905 finished with value: 0.8212290502793296 and parameters: {'lambda_l1': 8.448867220256225e-08, 'lambda_l2': 0.0005686095857651873, 'num_leaves': 245, 'feature_fraction': 0.8098826004096655, 'bagging_fraction': 0.8520767424383804, 'bagging_freq': 4, 'min_child_samples': 41}. Best is trial 883 with value: 0.8938547486033519.\u001b[0m\n",
      "\u001b[32m[I 2021-12-20 20:03:45,496]\u001b[0m Trial 906 finished with value: 0.8435754189944135 and parameters: {'lambda_l1': 4.357098086220382e-07, 'lambda_l2': 6.50413499820106e-05, 'num_leaves': 231, 'feature_fraction': 0.7885506256689285, 'bagging_fraction': 0.8910838226247123, 'bagging_freq': 2, 'min_child_samples': 38}. Best is trial 883 with value: 0.8938547486033519.\u001b[0m\n",
      "\u001b[32m[I 2021-12-20 20:03:45,653]\u001b[0m Trial 907 finished with value: 0.8603351955307262 and parameters: {'lambda_l1': 9.603192091110819e-07, 'lambda_l2': 6.0901821795749355e-05, 'num_leaves': 233, 'feature_fraction': 0.7448308938643067, 'bagging_fraction': 0.8673021540271948, 'bagging_freq': 6, 'min_child_samples': 33}. Best is trial 883 with value: 0.8938547486033519.\u001b[0m\n",
      "\u001b[32m[I 2021-12-20 20:03:45,795]\u001b[0m Trial 908 finished with value: 0.8324022346368715 and parameters: {'lambda_l1': 1.2518754564797344e-06, 'lambda_l2': 4.5695236776823214e-05, 'num_leaves': 223, 'feature_fraction': 0.7363847946204602, 'bagging_fraction': 0.8795215908920643, 'bagging_freq': 6, 'min_child_samples': 77}. Best is trial 883 with value: 0.8938547486033519.\u001b[0m\n",
      "\u001b[32m[I 2021-12-20 20:03:45,962]\u001b[0m Trial 909 finished with value: 0.8212290502793296 and parameters: {'lambda_l1': 6.162387294075571e-07, 'lambda_l2': 0.0003749669266640837, 'num_leaves': 190, 'feature_fraction': 0.8288200924442625, 'bagging_fraction': 0.9594274358179794, 'bagging_freq': 4, 'min_child_samples': 27}. Best is trial 883 with value: 0.8938547486033519.\u001b[0m\n",
      "\u001b[32m[I 2021-12-20 20:03:46,121]\u001b[0m Trial 910 finished with value: 0.8547486033519553 and parameters: {'lambda_l1': 9.174447659356596e-07, 'lambda_l2': 2.7545044187060958e-06, 'num_leaves': 175, 'feature_fraction': 0.8052922400616312, 'bagging_fraction': 0.9002920347962333, 'bagging_freq': 2, 'min_child_samples': 35}. Best is trial 883 with value: 0.8938547486033519.\u001b[0m\n",
      "\u001b[32m[I 2021-12-20 20:03:46,273]\u001b[0m Trial 911 finished with value: 0.8435754189944135 and parameters: {'lambda_l1': 5.213113459246397e-07, 'lambda_l2': 2.726473695305546e-05, 'num_leaves': 214, 'feature_fraction': 0.7254720146470421, 'bagging_fraction': 0.9258262797137469, 'bagging_freq': 4, 'min_child_samples': 58}. Best is trial 883 with value: 0.8938547486033519.\u001b[0m\n",
      "\u001b[32m[I 2021-12-20 20:03:46,438]\u001b[0m Trial 912 finished with value: 0.8212290502793296 and parameters: {'lambda_l1': 3.163370110288389e-07, 'lambda_l2': 1.6769621507717373e-05, 'num_leaves': 204, 'feature_fraction': 0.8743887176192469, 'bagging_fraction': 0.9093180010429007, 'bagging_freq': 4, 'min_child_samples': 36}. Best is trial 883 with value: 0.8938547486033519.\u001b[0m\n"
     ]
    },
    {
     "name": "stderr",
     "output_type": "stream",
     "text": [
      "\u001b[32m[I 2021-12-20 20:03:46,604]\u001b[0m Trial 913 finished with value: 0.8491620111731844 and parameters: {'lambda_l1': 8.684105478390072e-07, 'lambda_l2': 2.3412755242383778e-05, 'num_leaves': 220, 'feature_fraction': 0.911881412640447, 'bagging_fraction': 0.8904839525844483, 'bagging_freq': 6, 'min_child_samples': 34}. Best is trial 883 with value: 0.8938547486033519.\u001b[0m\n",
      "\u001b[32m[I 2021-12-20 20:03:46,742]\u001b[0m Trial 914 finished with value: 0.8268156424581006 and parameters: {'lambda_l1': 1.7582327557269384e-06, 'lambda_l2': 9.10266497630376e-06, 'num_leaves': 167, 'feature_fraction': 0.6139083157592625, 'bagging_fraction': 0.42258275093971376, 'bagging_freq': 4, 'min_child_samples': 65}. Best is trial 883 with value: 0.8938547486033519.\u001b[0m\n",
      "\u001b[32m[I 2021-12-20 20:03:46,911]\u001b[0m Trial 915 finished with value: 0.8435754189944135 and parameters: {'lambda_l1': 7.535574529659975e-07, 'lambda_l2': 0.00021633345455412815, 'num_leaves': 186, 'feature_fraction': 0.8219478436279973, 'bagging_fraction': 0.9474794301979691, 'bagging_freq': 4, 'min_child_samples': 28}. Best is trial 883 with value: 0.8938547486033519.\u001b[0m\n",
      "\u001b[32m[I 2021-12-20 20:03:47,076]\u001b[0m Trial 916 finished with value: 0.8156424581005587 and parameters: {'lambda_l1': 0.001412532700238264, 'lambda_l2': 0.000431154635890233, 'num_leaves': 111, 'feature_fraction': 0.7336005579392, 'bagging_fraction': 0.9200909065884085, 'bagging_freq': 4, 'min_child_samples': 30}. Best is trial 883 with value: 0.8938547486033519.\u001b[0m\n",
      "\u001b[32m[I 2021-12-20 20:03:47,216]\u001b[0m Trial 917 finished with value: 0.7988826815642458 and parameters: {'lambda_l1': 2.988119822463619e-06, 'lambda_l2': 8.349420344435464e-05, 'num_leaves': 117, 'feature_fraction': 0.8999397846119447, 'bagging_fraction': 0.517163728635132, 'bagging_freq': 5, 'min_child_samples': 71}. Best is trial 883 with value: 0.8938547486033519.\u001b[0m\n",
      "\u001b[32m[I 2021-12-20 20:03:47,352]\u001b[0m Trial 918 finished with value: 0.8379888268156425 and parameters: {'lambda_l1': 1.9201658106649336e-07, 'lambda_l2': 1.024829656503543e-06, 'num_leaves': 172, 'feature_fraction': 0.7977954460896701, 'bagging_fraction': 0.9039093036199675, 'bagging_freq': 7, 'min_child_samples': 91}. Best is trial 883 with value: 0.8938547486033519.\u001b[0m\n",
      "\u001b[32m[I 2021-12-20 20:03:47,520]\u001b[0m Trial 919 finished with value: 0.8379888268156425 and parameters: {'lambda_l1': 1.4938390605259702e-06, 'lambda_l2': 0.00017841832298258172, 'num_leaves': 182, 'feature_fraction': 0.9293326551768663, 'bagging_fraction': 0.914252048179257, 'bagging_freq': 6, 'min_child_samples': 29}. Best is trial 883 with value: 0.8938547486033519.\u001b[0m\n",
      "\u001b[32m[I 2021-12-20 20:03:47,687]\u001b[0m Trial 920 finished with value: 0.8044692737430168 and parameters: {'lambda_l1': 4.933334378357575e-07, 'lambda_l2': 0.0001142038595768377, 'num_leaves': 193, 'feature_fraction': 0.8131424217177544, 'bagging_fraction': 0.9369406741847653, 'bagging_freq': 2, 'min_child_samples': 34}. Best is trial 883 with value: 0.8938547486033519.\u001b[0m\n",
      "\u001b[32m[I 2021-12-20 20:03:47,875]\u001b[0m Trial 921 finished with value: 0.8268156424581006 and parameters: {'lambda_l1': 1.5044363684688437e-07, 'lambda_l2': 0.0002500326987400699, 'num_leaves': 227, 'feature_fraction': 0.8324230848668622, 'bagging_fraction': 0.9720971610624464, 'bagging_freq': 4, 'min_child_samples': 25}. Best is trial 883 with value: 0.8938547486033519.\u001b[0m\n",
      "\u001b[32m[I 2021-12-20 20:03:48,043]\u001b[0m Trial 922 finished with value: 0.8547486033519553 and parameters: {'lambda_l1': 3.0732291038675603e-07, 'lambda_l2': 0.00013164131607674688, 'num_leaves': 176, 'feature_fraction': 0.7987250066544631, 'bagging_fraction': 0.8809689487584998, 'bagging_freq': 4, 'min_child_samples': 23}. Best is trial 883 with value: 0.8938547486033519.\u001b[0m\n",
      "\u001b[32m[I 2021-12-20 20:03:48,187]\u001b[0m Trial 923 finished with value: 0.88268156424581 and parameters: {'lambda_l1': 7.139619139156265e-08, 'lambda_l2': 4.3081545883639896e-05, 'num_leaves': 210, 'feature_fraction': 0.8559885691309469, 'bagging_fraction': 0.9294076925412966, 'bagging_freq': 6, 'min_child_samples': 84}. Best is trial 883 with value: 0.8938547486033519.\u001b[0m\n",
      "\u001b[32m[I 2021-12-20 20:03:48,330]\u001b[0m Trial 924 finished with value: 0.8100558659217877 and parameters: {'lambda_l1': 6.062264177104421e-08, 'lambda_l2': 4.596408097023028e-05, 'num_leaves': 218, 'feature_fraction': 0.8953963946338106, 'bagging_fraction': 0.46587789952021064, 'bagging_freq': 6, 'min_child_samples': 45}. Best is trial 883 with value: 0.8938547486033519.\u001b[0m\n",
      "\u001b[32m[I 2021-12-20 20:03:48,478]\u001b[0m Trial 925 finished with value: 0.8100558659217877 and parameters: {'lambda_l1': 4.081461486954069e-08, 'lambda_l2': 2.9582041210975685e-05, 'num_leaves': 205, 'feature_fraction': 0.8503265807462222, 'bagging_fraction': 0.8983882809802128, 'bagging_freq': 6, 'min_child_samples': 84}. Best is trial 883 with value: 0.8938547486033519.\u001b[0m\n",
      "\u001b[32m[I 2021-12-20 20:03:48,622]\u001b[0m Trial 926 finished with value: 0.8268156424581006 and parameters: {'lambda_l1': 2.3706643044134153e-07, 'lambda_l2': 0.0007741724807331437, 'num_leaves': 201, 'feature_fraction': 0.7900937790629374, 'bagging_fraction': 0.9233241672386328, 'bagging_freq': 6, 'min_child_samples': 77}. Best is trial 883 with value: 0.8938547486033519.\u001b[0m\n",
      "\u001b[32m[I 2021-12-20 20:03:48,761]\u001b[0m Trial 927 finished with value: 0.7877094972067039 and parameters: {'lambda_l1': 1.1070268378764948e-07, 'lambda_l2': 1.3723408074276997e-05, 'num_leaves': 209, 'feature_fraction': 0.8447240149185803, 'bagging_fraction': 0.8739872797259113, 'bagging_freq': 4, 'min_child_samples': 78}. Best is trial 883 with value: 0.8938547486033519.\u001b[0m\n",
      "\u001b[32m[I 2021-12-20 20:03:48,899]\u001b[0m Trial 928 finished with value: 0.8659217877094972 and parameters: {'lambda_l1': 3.156780569681707e-08, 'lambda_l2': 4.4899096681863204e-05, 'num_leaves': 213, 'feature_fraction': 0.8732951055048359, 'bagging_fraction': 0.4917879551358165, 'bagging_freq': 4, 'min_child_samples': 79}. Best is trial 883 with value: 0.8938547486033519.\u001b[0m\n",
      "\u001b[32m[I 2021-12-20 20:03:49,038]\u001b[0m Trial 929 finished with value: 0.8268156424581006 and parameters: {'lambda_l1': 4.503458147445102e-08, 'lambda_l2': 4.669397438040991e-05, 'num_leaves': 215, 'feature_fraction': 0.8851859862265997, 'bagging_fraction': 0.5055912815704892, 'bagging_freq': 4, 'min_child_samples': 86}. Best is trial 883 with value: 0.8938547486033519.\u001b[0m\n",
      "\u001b[32m[I 2021-12-20 20:03:49,196]\u001b[0m Trial 930 finished with value: 0.8435754189944135 and parameters: {'lambda_l1': 7.057187043080573e-08, 'lambda_l2': 1.3581035940247724e-06, 'num_leaves': 212, 'feature_fraction': 0.820513277051551, 'bagging_fraction': 0.945669590996154, 'bagging_freq': 6, 'min_child_samples': 42}. Best is trial 883 with value: 0.8938547486033519.\u001b[0m\n",
      "\u001b[32m[I 2021-12-20 20:03:49,364]\u001b[0m Trial 931 finished with value: 0.8212290502793296 and parameters: {'lambda_l1': 6.241272850804226e-08, 'lambda_l2': 2.240423075221557e-06, 'num_leaves': 204, 'feature_fraction': 0.8548200085431236, 'bagging_fraction': 0.9520273152004896, 'bagging_freq': 5, 'min_child_samples': 31}. Best is trial 883 with value: 0.8938547486033519.\u001b[0m\n",
      "\u001b[32m[I 2021-12-20 20:03:49,522]\u001b[0m Trial 932 finished with value: 0.8547486033519553 and parameters: {'lambda_l1': 1.9877508908344075e-07, 'lambda_l2': 7.075407889045291e-06, 'num_leaves': 206, 'feature_fraction': 0.8344807164639846, 'bagging_fraction': 0.9316356875734003, 'bagging_freq': 4, 'min_child_samples': 82}. Best is trial 883 with value: 0.8938547486033519.\u001b[0m\n",
      "\u001b[32m[I 2021-12-20 20:03:49,677]\u001b[0m Trial 933 finished with value: 0.8156424581005587 and parameters: {'lambda_l1': 8.861334611650763e-08, 'lambda_l2': 6.430730517826773e-05, 'num_leaves': 11, 'feature_fraction': 0.7015512530002037, 'bagging_fraction': 0.8587841432653259, 'bagging_freq': 4, 'min_child_samples': 37}. Best is trial 883 with value: 0.8938547486033519.\u001b[0m\n",
      "\u001b[32m[I 2021-12-20 20:03:49,827]\u001b[0m Trial 934 finished with value: 0.8379888268156425 and parameters: {'lambda_l1': 4.609993352627e-08, 'lambda_l2': 3.731018629684658e-05, 'num_leaves': 223, 'feature_fraction': 0.7243293269466914, 'bagging_fraction': 0.889660267459959, 'bagging_freq': 2, 'min_child_samples': 84}. Best is trial 883 with value: 0.8938547486033519.\u001b[0m\n"
     ]
    },
    {
     "name": "stderr",
     "output_type": "stream",
     "text": [
      "\u001b[32m[I 2021-12-20 20:03:50,005]\u001b[0m Trial 935 finished with value: 0.8324022346368715 and parameters: {'lambda_l1': 2.564392732996956e-08, 'lambda_l2': 2.442753515993745e-05, 'num_leaves': 247, 'feature_fraction': 0.8404488939505308, 'bagging_fraction': 0.9126365961546246, 'bagging_freq': 4, 'min_child_samples': 21}. Best is trial 883 with value: 0.8938547486033519.\u001b[0m\n",
      "\u001b[32m[I 2021-12-20 20:03:50,171]\u001b[0m Trial 936 finished with value: 0.8324022346368715 and parameters: {'lambda_l1': 9.918905796420264e-07, 'lambda_l2': 5.871022940038232e-07, 'num_leaves': 181, 'feature_fraction': 0.8032378475147829, 'bagging_fraction': 0.9050027621834802, 'bagging_freq': 6, 'min_child_samples': 32}. Best is trial 883 with value: 0.8938547486033519.\u001b[0m\n",
      "\u001b[32m[I 2021-12-20 20:03:50,317]\u001b[0m Trial 937 finished with value: 0.8659217877094972 and parameters: {'lambda_l1': 2.171943608919896e-06, 'lambda_l2': 7.730804418663933e-05, 'num_leaves': 199, 'feature_fraction': 0.8464795292438796, 'bagging_fraction': 0.9296277264723557, 'bagging_freq': 4, 'min_child_samples': 87}. Best is trial 883 with value: 0.8938547486033519.\u001b[0m\n",
      "\u001b[32m[I 2021-12-20 20:03:50,464]\u001b[0m Trial 938 finished with value: 0.7653631284916201 and parameters: {'lambda_l1': 5.953600107308222e-07, 'lambda_l2': 4.0210734326747605e-06, 'num_leaves': 195, 'feature_fraction': 0.8232383914053573, 'bagging_fraction': 0.9179561175485716, 'bagging_freq': 1, 'min_child_samples': 85}. Best is trial 883 with value: 0.8938547486033519.\u001b[0m\n",
      "\u001b[32m[I 2021-12-20 20:03:50,633]\u001b[0m Trial 939 finished with value: 0.8324022346368715 and parameters: {'lambda_l1': 1.059748418648525e-07, 'lambda_l2': 0.00011593222008514508, 'num_leaves': 199, 'feature_fraction': 0.8577548378818556, 'bagging_fraction': 0.9425436585207578, 'bagging_freq': 6, 'min_child_samples': 31}. Best is trial 883 with value: 0.8938547486033519.\u001b[0m\n",
      "\u001b[32m[I 2021-12-20 20:03:50,796]\u001b[0m Trial 940 finished with value: 0.8268156424581006 and parameters: {'lambda_l1': 3.48539736164241e-07, 'lambda_l2': 0.00048389744433403826, 'num_leaves': 208, 'feature_fraction': 0.5788413587137575, 'bagging_fraction': 0.9246236716067092, 'bagging_freq': 6, 'min_child_samples': 36}. Best is trial 883 with value: 0.8938547486033519.\u001b[0m\n",
      "\u001b[32m[I 2021-12-20 20:03:50,943]\u001b[0m Trial 941 finished with value: 0.8547486033519553 and parameters: {'lambda_l1': 1.0804113928429092e-07, 'lambda_l2': 1.0559360138332528e-05, 'num_leaves': 203, 'feature_fraction': 0.8344347238736988, 'bagging_fraction': 0.9438329511794589, 'bagging_freq': 4, 'min_child_samples': 59}. Best is trial 883 with value: 0.8938547486033519.\u001b[0m\n",
      "\u001b[32m[I 2021-12-20 20:03:51,092]\u001b[0m Trial 942 finished with value: 0.8435754189944135 and parameters: {'lambda_l1': 6.11377238834596e-08, 'lambda_l2': 6.532402032903354e-05, 'num_leaves': 207, 'feature_fraction': 0.8764754536879746, 'bagging_fraction': 0.953827660848473, 'bagging_freq': 6, 'min_child_samples': 82}. Best is trial 883 with value: 0.8938547486033519.\u001b[0m\n",
      "\u001b[32m[I 2021-12-20 20:03:51,226]\u001b[0m Trial 943 finished with value: 0.8044692737430168 and parameters: {'lambda_l1': 0.003629866369319767, 'lambda_l2': 8.944547481941886e-05, 'num_leaves': 170, 'feature_fraction': 0.7489089003845729, 'bagging_fraction': 0.41685220027415015, 'bagging_freq': 6, 'min_child_samples': 89}. Best is trial 883 with value: 0.8938547486033519.\u001b[0m\n",
      "\u001b[32m[I 2021-12-20 20:03:51,362]\u001b[0m Trial 944 finished with value: 0.8044692737430168 and parameters: {'lambda_l1': 1.2270266746194757e-06, 'lambda_l2': 6.736979140706945e-06, 'num_leaves': 211, 'feature_fraction': 0.8131146616730595, 'bagging_fraction': 0.9079193007095535, 'bagging_freq': 5, 'min_child_samples': 93}. Best is trial 883 with value: 0.8938547486033519.\u001b[0m\n",
      "\u001b[32m[I 2021-12-20 20:03:51,527]\u001b[0m Trial 945 finished with value: 0.8044692737430168 and parameters: {'lambda_l1': 7.413337645081403e-07, 'lambda_l2': 5.758790249730007e-05, 'num_leaves': 184, 'feature_fraction': 0.7952654750987481, 'bagging_fraction': 0.8993951474584853, 'bagging_freq': 6, 'min_child_samples': 33}. Best is trial 883 with value: 0.8938547486033519.\u001b[0m\n",
      "\u001b[32m[I 2021-12-20 20:03:51,684]\u001b[0m Trial 946 finished with value: 0.8379888268156425 and parameters: {'lambda_l1': 1.143655543523997e-06, 'lambda_l2': 9.626343267265824e-05, 'num_leaves': 99, 'feature_fraction': 0.6020010733654874, 'bagging_fraction': 0.8861770052410137, 'bagging_freq': 6, 'min_child_samples': 34}. Best is trial 883 with value: 0.8938547486033519.\u001b[0m\n",
      "\u001b[32m[I 2021-12-20 20:03:51,822]\u001b[0m Trial 947 finished with value: 0.7821229050279329 and parameters: {'lambda_l1': 3.370534223183689e-08, 'lambda_l2': 3.2870100756754626e-05, 'num_leaves': 211, 'feature_fraction': 0.862735222860062, 'bagging_fraction': 0.4769305167193355, 'bagging_freq': 2, 'min_child_samples': 80}. Best is trial 883 with value: 0.8938547486033519.\u001b[0m\n",
      "\u001b[32m[I 2021-12-20 20:03:51,966]\u001b[0m Trial 948 finished with value: 0.8156424581005587 and parameters: {'lambda_l1': 1.4308177755779888e-07, 'lambda_l2': 4.926975140559636e-05, 'num_leaves': 191, 'feature_fraction': 0.8167894552424108, 'bagging_fraction': 0.4699954875399603, 'bagging_freq': 4, 'min_child_samples': 44}. Best is trial 883 with value: 0.8938547486033519.\u001b[0m\n",
      "\u001b[32m[I 2021-12-20 20:03:52,134]\u001b[0m Trial 949 finished with value: 0.8379888268156425 and parameters: {'lambda_l1': 4.050602104850061e-07, 'lambda_l2': 0.00015657490858253612, 'num_leaves': 189, 'feature_fraction': 0.8669848375364251, 'bagging_fraction': 0.9400368965373123, 'bagging_freq': 5, 'min_child_samples': 26}. Best is trial 883 with value: 0.8938547486033519.\u001b[0m\n",
      "\u001b[32m[I 2021-12-20 20:03:52,284]\u001b[0m Trial 950 finished with value: 0.8324022346368715 and parameters: {'lambda_l1': 6.398539239125959e-07, 'lambda_l2': 0.00015654115735731203, 'num_leaves': 200, 'feature_fraction': 0.8413660748373502, 'bagging_fraction': 0.9676803717424031, 'bagging_freq': 4, 'min_child_samples': 96}. Best is trial 883 with value: 0.8938547486033519.\u001b[0m\n",
      "\u001b[32m[I 2021-12-20 20:03:52,434]\u001b[0m Trial 951 finished with value: 0.8212290502793296 and parameters: {'lambda_l1': 3.74324170148889e-07, 'lambda_l2': 0.00011269868069993183, 'num_leaves': 185, 'feature_fraction': 0.6672833987746357, 'bagging_fraction': 0.9108620139083062, 'bagging_freq': 6, 'min_child_samples': 83}. Best is trial 883 with value: 0.8938547486033519.\u001b[0m\n",
      "\u001b[32m[I 2021-12-20 20:03:52,593]\u001b[0m Trial 952 finished with value: 0.8268156424581006 and parameters: {'lambda_l1': 9.277892340612722e-08, 'lambda_l2': 2.861098330218096e-05, 'num_leaves': 222, 'feature_fraction': 0.8289437302436066, 'bagging_fraction': 0.8694437926165016, 'bagging_freq': 4, 'min_child_samples': 39}. Best is trial 883 with value: 0.8938547486033519.\u001b[0m\n",
      "\u001b[32m[I 2021-12-20 20:03:52,753]\u001b[0m Trial 953 finished with value: 0.7430167597765364 and parameters: {'lambda_l1': 2.477575785397084e-07, 'lambda_l2': 0.00021443904453659866, 'num_leaves': 173, 'feature_fraction': 0.8222520187657888, 'bagging_fraction': 0.7650606168807236, 'bagging_freq': 6, 'min_child_samples': 29}. Best is trial 883 with value: 0.8938547486033519.\u001b[0m\n",
      "\u001b[32m[I 2021-12-20 20:03:52,926]\u001b[0m Trial 954 finished with value: 0.7821229050279329 and parameters: {'lambda_l1': 2.3608382053664344e-07, 'lambda_l2': 0.00041062114203155683, 'num_leaves': 194, 'feature_fraction': 0.8356860184922495, 'bagging_fraction': 0.9288715740387441, 'bagging_freq': 4, 'min_child_samples': 27}. Best is trial 883 with value: 0.8938547486033519.\u001b[0m\n",
      "\u001b[32m[I 2021-12-20 20:03:53,086]\u001b[0m Trial 955 finished with value: 0.88268156424581 and parameters: {'lambda_l1': 1.3661818854271866e-07, 'lambda_l2': 3.8003480925111104e-05, 'num_leaves': 216, 'feature_fraction': 0.736068122167626, 'bagging_fraction': 0.8279301178062475, 'bagging_freq': 4, 'min_child_samples': 39}. Best is trial 883 with value: 0.8938547486033519.\u001b[0m\n",
      "\u001b[32m[I 2021-12-20 20:03:53,244]\u001b[0m Trial 956 finished with value: 0.8659217877094972 and parameters: {'lambda_l1': 8.261108496184336e-08, 'lambda_l2': 3.9713374841899826e-05, 'num_leaves': 217, 'feature_fraction': 0.7382155308642735, 'bagging_fraction': 0.8174158275867085, 'bagging_freq': 4, 'min_child_samples': 38}. Best is trial 883 with value: 0.8938547486033519.\u001b[0m\n"
     ]
    },
    {
     "name": "stderr",
     "output_type": "stream",
     "text": [
      "\u001b[32m[I 2021-12-20 20:03:53,406]\u001b[0m Trial 957 finished with value: 0.8435754189944135 and parameters: {'lambda_l1': 6.256497688051129e-08, 'lambda_l2': 3.75010784781064e-05, 'num_leaves': 229, 'feature_fraction': 0.8785852712800358, 'bagging_fraction': 0.8726518106407952, 'bagging_freq': 6, 'min_child_samples': 28}. Best is trial 883 with value: 0.8938547486033519.\u001b[0m\n",
      "\u001b[32m[I 2021-12-20 20:03:53,559]\u001b[0m Trial 958 finished with value: 0.8659217877094972 and parameters: {'lambda_l1': 4.313059001082937e-06, 'lambda_l2': 1.9724625305171913e-05, 'num_leaves': 213, 'feature_fraction': 0.6377344275925888, 'bagging_fraction': 0.8308658283073886, 'bagging_freq': 6, 'min_child_samples': 39}. Best is trial 883 with value: 0.8938547486033519.\u001b[0m\n",
      "\u001b[32m[I 2021-12-20 20:03:53,699]\u001b[0m Trial 959 finished with value: 0.8379888268156425 and parameters: {'lambda_l1': 1.332678661531028e-07, 'lambda_l2': 2.151144223231594e-05, 'num_leaves': 216, 'feature_fraction': 0.8753359660824006, 'bagging_fraction': 0.4960567724242642, 'bagging_freq': 4, 'min_child_samples': 66}. Best is trial 883 with value: 0.8938547486033519.\u001b[0m\n",
      "\u001b[32m[I 2021-12-20 20:03:53,989]\u001b[0m Trial 960 finished with value: 0.8156424581005587 and parameters: {'lambda_l1': 1.579139855620815e-07, 'lambda_l2': 0.00029593320638681363, 'num_leaves': 203, 'feature_fraction': 0.8876758669333759, 'bagging_fraction': 0.9554560702231895, 'bagging_freq': 4, 'min_child_samples': 24}. Best is trial 883 with value: 0.8938547486033519.\u001b[0m\n",
      "\u001b[32m[I 2021-12-20 20:03:54,139]\u001b[0m Trial 961 finished with value: 0.8156424581005587 and parameters: {'lambda_l1': 1.56471435679144e-07, 'lambda_l2': 1.8923386894417743e-05, 'num_leaves': 214, 'feature_fraction': 0.7202540135957297, 'bagging_fraction': 0.8600008385150815, 'bagging_freq': 4, 'min_child_samples': 75}. Best is trial 883 with value: 0.8938547486033519.\u001b[0m\n",
      "\u001b[32m[I 2021-12-20 20:03:54,302]\u001b[0m Trial 962 finished with value: 0.8547486033519553 and parameters: {'lambda_l1': 8.304421494711092e-08, 'lambda_l2': 3.305512830393763e-05, 'num_leaves': 47, 'feature_fraction': 0.7318155556558192, 'bagging_fraction': 0.9187053084149777, 'bagging_freq': 4, 'min_child_samples': 36}. Best is trial 883 with value: 0.8938547486033519.\u001b[0m\n",
      "\u001b[32m[I 2021-12-20 20:03:54,453]\u001b[0m Trial 963 finished with value: 0.8547486033519553 and parameters: {'lambda_l1': 4.177629911989816e-08, 'lambda_l2': 2.193597940746409e-05, 'num_leaves': 209, 'feature_fraction': 0.709257738467291, 'bagging_fraction': 0.8899620029323646, 'bagging_freq': 4, 'min_child_samples': 89}. Best is trial 883 with value: 0.8938547486033519.\u001b[0m\n",
      "\u001b[32m[I 2021-12-20 20:03:54,617]\u001b[0m Trial 964 finished with value: 0.7597765363128491 and parameters: {'lambda_l1': 0.00014369253969315538, 'lambda_l2': 2.9184287768516915e-05, 'num_leaves': 220, 'feature_fraction': 0.739506141063829, 'bagging_fraction': 0.8468840382926808, 'bagging_freq': 3, 'min_child_samples': 41}. Best is trial 883 with value: 0.8938547486033519.\u001b[0m\n",
      "\u001b[32m[I 2021-12-20 20:03:54,774]\u001b[0m Trial 965 finished with value: 0.8212290502793296 and parameters: {'lambda_l1': 2.0503014162437677e-07, 'lambda_l2': 0.001488871481080663, 'num_leaves': 102, 'feature_fraction': 0.9691971598958542, 'bagging_fraction': 0.8237760339305792, 'bagging_freq': 4, 'min_child_samples': 39}. Best is trial 883 with value: 0.8938547486033519.\u001b[0m\n",
      "\u001b[32m[I 2021-12-20 20:03:54,930]\u001b[0m Trial 966 finished with value: 0.8156424581005587 and parameters: {'lambda_l1': 7.78439492726111e-06, 'lambda_l2': 1.4926490498343913e-05, 'num_leaves': 210, 'feature_fraction': 0.9011485891006339, 'bagging_fraction': 0.838592038353459, 'bagging_freq': 4, 'min_child_samples': 42}. Best is trial 883 with value: 0.8938547486033519.\u001b[0m\n",
      "\u001b[32m[I 2021-12-20 20:03:55,090]\u001b[0m Trial 967 finished with value: 0.8435754189944135 and parameters: {'lambda_l1': 2.5617248424544104e-06, 'lambda_l2': 3.4773798490865503e-06, 'num_leaves': 206, 'feature_fraction': 0.7563972485774899, 'bagging_fraction': 0.8966440678426922, 'bagging_freq': 6, 'min_child_samples': 39}. Best is trial 883 with value: 0.8938547486033519.\u001b[0m\n",
      "\u001b[32m[I 2021-12-20 20:03:55,246]\u001b[0m Trial 968 finished with value: 0.8491620111731844 and parameters: {'lambda_l1': 5.622571644822504e-08, 'lambda_l2': 2.2695734574795918e-05, 'num_leaves': 219, 'feature_fraction': 0.7461583883568637, 'bagging_fraction': 0.8557792065185748, 'bagging_freq': 4, 'min_child_samples': 41}. Best is trial 883 with value: 0.8938547486033519.\u001b[0m\n",
      "\u001b[32m[I 2021-12-20 20:03:55,403]\u001b[0m Trial 969 finished with value: 0.8044692737430168 and parameters: {'lambda_l1': 0.013208592417678596, 'lambda_l2': 5.471222815945225e-05, 'num_leaves': 236, 'feature_fraction': 0.9076545778605313, 'bagging_fraction': 0.8790052914017273, 'bagging_freq': 2, 'min_child_samples': 32}. Best is trial 883 with value: 0.8938547486033519.\u001b[0m\n",
      "\u001b[32m[I 2021-12-20 20:03:55,553]\u001b[0m Trial 970 finished with value: 0.8435754189944135 and parameters: {'lambda_l1': 1.0029562821313516e-07, 'lambda_l2': 3.9687692691272534e-05, 'num_leaves': 226, 'feature_fraction': 0.8486384844307683, 'bagging_fraction': 0.8630035700179042, 'bagging_freq': 6, 'min_child_samples': 56}. Best is trial 883 with value: 0.8938547486033519.\u001b[0m\n",
      "\u001b[32m[I 2021-12-20 20:03:55,714]\u001b[0m Trial 971 finished with value: 0.8324022346368715 and parameters: {'lambda_l1': 1.312512435595039e-07, 'lambda_l2': 1.0201271137179369e-07, 'num_leaves': 225, 'feature_fraction': 0.7235636153256455, 'bagging_fraction': 0.8067430932848523, 'bagging_freq': 6, 'min_child_samples': 40}. Best is trial 883 with value: 0.8938547486033519.\u001b[0m\n",
      "\u001b[32m[I 2021-12-20 20:03:55,879]\u001b[0m Trial 972 finished with value: 0.8603351955307262 and parameters: {'lambda_l1': 1.5523178003649843e-06, 'lambda_l2': 7.160481274078739e-05, 'num_leaves': 200, 'feature_fraction': 0.8657442317304292, 'bagging_fraction': 0.9183661188555511, 'bagging_freq': 4, 'min_child_samples': 35}. Best is trial 883 with value: 0.8938547486033519.\u001b[0m\n",
      "\u001b[32m[I 2021-12-20 20:03:56,029]\u001b[0m Trial 973 finished with value: 0.8100558659217877 and parameters: {'lambda_l1': 7.208014036188466e-08, 'lambda_l2': 5.685961421404429e-05, 'num_leaves': 240, 'feature_fraction': 0.6597014711708464, 'bagging_fraction': 0.43123079807114423, 'bagging_freq': 6, 'min_child_samples': 37}. Best is trial 883 with value: 0.8938547486033519.\u001b[0m\n",
      "\u001b[32m[I 2021-12-20 20:03:56,189]\u001b[0m Trial 974 finished with value: 0.8100558659217877 and parameters: {'lambda_l1': 3.4722483306336964e-06, 'lambda_l2': 1.5684664527604642e-06, 'num_leaves': 209, 'feature_fraction': 0.7041888172075633, 'bagging_fraction': 0.92761473952285, 'bagging_freq': 6, 'min_child_samples': 37}. Best is trial 883 with value: 0.8938547486033519.\u001b[0m\n",
      "\u001b[32m[I 2021-12-20 20:03:56,361]\u001b[0m Trial 975 finished with value: 0.7877094972067039 and parameters: {'lambda_l1': 0.0005061570275124858, 'lambda_l2': 2.230087951051596e-06, 'num_leaves': 215, 'feature_fraction': 0.7293797636109067, 'bagging_fraction': 0.7276969241614237, 'bagging_freq': 6, 'min_child_samples': 22}. Best is trial 883 with value: 0.8938547486033519.\u001b[0m\n",
      "\u001b[32m[I 2021-12-20 20:03:56,516]\u001b[0m Trial 976 finished with value: 0.8603351955307262 and parameters: {'lambda_l1': 4.242836707134746e-07, 'lambda_l2': 4.775456807267298e-06, 'num_leaves': 105, 'feature_fraction': 0.7916377681547242, 'bagging_fraction': 0.9101109756018374, 'bagging_freq': 6, 'min_child_samples': 74}. Best is trial 883 with value: 0.8938547486033519.\u001b[0m\n",
      "\u001b[32m[I 2021-12-20 20:03:56,674]\u001b[0m Trial 977 finished with value: 0.8268156424581006 and parameters: {'lambda_l1': 4.552399826848915e-08, 'lambda_l2': 1.6744402685688554e-05, 'num_leaves': 233, 'feature_fraction': 0.8668821481576977, 'bagging_fraction': 0.9343284054974874, 'bagging_freq': 4, 'min_child_samples': 52}. Best is trial 883 with value: 0.8938547486033519.\u001b[0m\n",
      "\u001b[32m[I 2021-12-20 20:03:56,835]\u001b[0m Trial 978 finished with value: 0.8156424581005587 and parameters: {'lambda_l1': 0.005542244363816922, 'lambda_l2': 8.083471436221232e-07, 'num_leaves': 220, 'feature_fraction': 0.778909590581353, 'bagging_fraction': 0.8982463622597516, 'bagging_freq': 6, 'min_child_samples': 43}. Best is trial 883 with value: 0.8938547486033519.\u001b[0m\n"
     ]
    },
    {
     "name": "stderr",
     "output_type": "stream",
     "text": [
      "\u001b[32m[I 2021-12-20 20:03:57,009]\u001b[0m Trial 979 finished with value: 0.7821229050279329 and parameters: {'lambda_l1': 8.70302559694915e-07, 'lambda_l2': 0.0001924808872388547, 'num_leaves': 192, 'feature_fraction': 0.8342658179565876, 'bagging_fraction': 0.9339260566620124, 'bagging_freq': 6, 'min_child_samples': 29}. Best is trial 883 with value: 0.8938547486033519.\u001b[0m\n",
      "\u001b[32m[I 2021-12-20 20:03:57,155]\u001b[0m Trial 980 finished with value: 0.8100558659217877 and parameters: {'lambda_l1': 0.002304336643965012, 'lambda_l2': 3.475482964081446e-05, 'num_leaves': 159, 'feature_fraction': 0.712315287834934, 'bagging_fraction': 0.8860390831427523, 'bagging_freq': 4, 'min_child_samples': 87}. Best is trial 883 with value: 0.8938547486033519.\u001b[0m\n",
      "\u001b[32m[I 2021-12-20 20:03:57,320]\u001b[0m Trial 981 finished with value: 0.8547486033519553 and parameters: {'lambda_l1': 1.9661305469648983e-08, 'lambda_l2': 1.0690472946949061e-05, 'num_leaves': 224, 'feature_fraction': 0.8028828859617084, 'bagging_fraction': 0.8955693095249072, 'bagging_freq': 4, 'min_child_samples': 61}. Best is trial 883 with value: 0.8938547486033519.\u001b[0m\n",
      "\u001b[32m[I 2021-12-20 20:03:57,471]\u001b[0m Trial 982 finished with value: 0.8100558659217877 and parameters: {'lambda_l1': 0.01887827176045126, 'lambda_l2': 0.0010810288651966688, 'num_leaves': 123, 'feature_fraction': 0.8766862943492968, 'bagging_fraction': 0.917976397614997, 'bagging_freq': 6, 'min_child_samples': 63}. Best is trial 883 with value: 0.8938547486033519.\u001b[0m\n",
      "\u001b[32m[I 2021-12-20 20:03:57,637]\u001b[0m Trial 983 finished with value: 0.8379888268156425 and parameters: {'lambda_l1': 1.6068742147458615e-06, 'lambda_l2': 1.0082573051187545e-05, 'num_leaves': 158, 'feature_fraction': 0.7568625811000167, 'bagging_fraction': 0.9018899161886375, 'bagging_freq': 7, 'min_child_samples': 35}. Best is trial 883 with value: 0.8938547486033519.\u001b[0m\n",
      "\u001b[32m[I 2021-12-20 20:03:57,808]\u001b[0m Trial 984 finished with value: 0.8491620111731844 and parameters: {'lambda_l1': 0.0083397273994761, 'lambda_l2': 0.0007575218034454576, 'num_leaves': 167, 'feature_fraction': 0.8834409035518953, 'bagging_fraction': 0.9158949509024603, 'bagging_freq': 6, 'min_child_samples': 25}. Best is trial 883 with value: 0.8938547486033519.\u001b[0m\n",
      "\u001b[32m[I 2021-12-20 20:03:57,965]\u001b[0m Trial 985 finished with value: 0.88268156424581 and parameters: {'lambda_l1': 1.47129125102546e-07, 'lambda_l2': 2.416510178895471e-05, 'num_leaves': 114, 'feature_fraction': 0.8659803687705003, 'bagging_fraction': 0.9378958750390529, 'bagging_freq': 4, 'min_child_samples': 36}. Best is trial 883 with value: 0.8938547486033519.\u001b[0m\n",
      "\u001b[32m[I 2021-12-20 20:03:58,123]\u001b[0m Trial 986 finished with value: 0.8268156424581006 and parameters: {'lambda_l1': 1.0418636722921724e-07, 'lambda_l2': 1.7659170045783384e-05, 'num_leaves': 115, 'feature_fraction': 0.7445587249286478, 'bagging_fraction': 0.8819876890724418, 'bagging_freq': 4, 'min_child_samples': 40}. Best is trial 883 with value: 0.8938547486033519.\u001b[0m\n",
      "\u001b[32m[I 2021-12-20 20:03:58,280]\u001b[0m Trial 987 finished with value: 0.8212290502793296 and parameters: {'lambda_l1': 1.5770297204594632e-07, 'lambda_l2': 1.2582652020454351e-05, 'num_leaves': 126, 'feature_fraction': 0.8268379275331741, 'bagging_fraction': 0.947897402623325, 'bagging_freq': 4, 'min_child_samples': 48}. Best is trial 883 with value: 0.8938547486033519.\u001b[0m\n",
      "\u001b[32m[I 2021-12-20 20:03:58,441]\u001b[0m Trial 988 finished with value: 0.8100558659217877 and parameters: {'lambda_l1': 9.191855960714929e-08, 'lambda_l2': 4.215046699374691e-05, 'num_leaves': 121, 'feature_fraction': 0.8546267803843651, 'bagging_fraction': 0.9604912002569076, 'bagging_freq': 4, 'min_child_samples': 35}. Best is trial 883 with value: 0.8938547486033519.\u001b[0m\n",
      "\u001b[32m[I 2021-12-20 20:03:58,612]\u001b[0m Trial 989 finished with value: 0.8491620111731844 and parameters: {'lambda_l1': 6.085988949879355e-07, 'lambda_l2': 0.0003524614564176407, 'num_leaves': 128, 'feature_fraction': 0.6266408256461464, 'bagging_fraction': 0.937014163162343, 'bagging_freq': 6, 'min_child_samples': 31}. Best is trial 883 with value: 0.8938547486033519.\u001b[0m\n",
      "\u001b[32m[I 2021-12-20 20:03:58,769]\u001b[0m Trial 990 finished with value: 0.8100558659217877 and parameters: {'lambda_l1': 2.476351976231249e-07, 'lambda_l2': 2.9783200408527327e-07, 'num_leaves': 203, 'feature_fraction': 0.7306782293180321, 'bagging_fraction': 0.640871035439732, 'bagging_freq': 4, 'min_child_samples': 33}. Best is trial 883 with value: 0.8938547486033519.\u001b[0m\n",
      "\u001b[32m[I 2021-12-20 20:03:58,933]\u001b[0m Trial 991 finished with value: 0.8435754189944135 and parameters: {'lambda_l1': 1.8839874303918603e-07, 'lambda_l2': 2.8325127752834777e-05, 'num_leaves': 208, 'feature_fraction': 0.8589012150672779, 'bagging_fraction': 0.7876956997585498, 'bagging_freq': 4, 'min_child_samples': 37}. Best is trial 883 with value: 0.8938547486033519.\u001b[0m\n",
      "\u001b[32m[I 2021-12-20 20:03:59,090]\u001b[0m Trial 992 finished with value: 0.7932960893854749 and parameters: {'lambda_l1': 7.50152782609392e-08, 'lambda_l2': 8.735385744219699e-06, 'num_leaves': 113, 'feature_fraction': 0.8138309248493644, 'bagging_fraction': 0.9261545080497147, 'bagging_freq': 4, 'min_child_samples': 44}. Best is trial 883 with value: 0.8938547486033519.\u001b[0m\n",
      "\u001b[32m[I 2021-12-20 20:03:59,247]\u001b[0m Trial 993 finished with value: 0.8603351955307262 and parameters: {'lambda_l1': 3.763432186731478e-08, 'lambda_l2': 1.5606552080680873e-05, 'num_leaves': 109, 'feature_fraction': 0.8060561551356756, 'bagging_fraction': 0.9249113719679397, 'bagging_freq': 4, 'min_child_samples': 47}. Best is trial 883 with value: 0.8938547486033519.\u001b[0m\n",
      "\u001b[32m[I 2021-12-20 20:03:59,405]\u001b[0m Trial 994 finished with value: 0.8491620111731844 and parameters: {'lambda_l1': 6.61320889304773e-08, 'lambda_l2': 2.8554259124835146e-05, 'num_leaves': 231, 'feature_fraction': 0.891078341369968, 'bagging_fraction': 0.5111836938861583, 'bagging_freq': 3, 'min_child_samples': 34}. Best is trial 883 with value: 0.8938547486033519.\u001b[0m\n",
      "\u001b[32m[I 2021-12-20 20:03:59,589]\u001b[0m Trial 995 finished with value: 0.7988826815642458 and parameters: {'lambda_l1': 2.60059170586396e-07, 'lambda_l2': 9.803537068407315e-05, 'num_leaves': 113, 'feature_fraction': 0.7198724368270419, 'bagging_fraction': 0.96102051629598, 'bagging_freq': 5, 'min_child_samples': 30}. Best is trial 883 with value: 0.8938547486033519.\u001b[0m\n",
      "\u001b[32m[I 2021-12-20 20:03:59,752]\u001b[0m Trial 996 finished with value: 0.8379888268156425 and parameters: {'lambda_l1': 1.3349514759034453e-07, 'lambda_l2': 4.588338428019439e-05, 'num_leaves': 119, 'feature_fraction': 0.7878932466033711, 'bagging_fraction': 0.868562667880641, 'bagging_freq': 4, 'min_child_samples': 39}. Best is trial 883 with value: 0.8938547486033519.\u001b[0m\n",
      "\u001b[32m[I 2021-12-20 20:03:59,917]\u001b[0m Trial 997 finished with value: 0.8268156424581006 and parameters: {'lambda_l1': 1.3834590276239605e-05, 'lambda_l2': 5.657007274176462e-06, 'num_leaves': 105, 'feature_fraction': 0.8897287203492069, 'bagging_fraction': 0.9066517295298553, 'bagging_freq': 4, 'min_child_samples': 41}. Best is trial 883 with value: 0.8938547486033519.\u001b[0m\n",
      "\u001b[32m[I 2021-12-20 20:04:00,065]\u001b[0m Trial 998 finished with value: 0.8156424581005587 and parameters: {'lambda_l1': 8.128941465241858e-08, 'lambda_l2': 2.2700299874798092e-05, 'num_leaves': 217, 'feature_fraction': 0.861699678339919, 'bagging_fraction': 0.5254736386380294, 'bagging_freq': 4, 'min_child_samples': 70}. Best is trial 883 with value: 0.8938547486033519.\u001b[0m\n",
      "\u001b[32m[I 2021-12-20 20:04:00,236]\u001b[0m Trial 999 finished with value: 0.8100558659217877 and parameters: {'lambda_l1': 3.7024269415175944e-07, 'lambda_l2': 0.0006513878496366327, 'num_leaves': 249, 'feature_fraction': 0.8445514441840707, 'bagging_fraction': 0.9408445633284814, 'bagging_freq': 6, 'min_child_samples': 33}. Best is trial 883 with value: 0.8938547486033519.\u001b[0m\n"
     ]
    }
   ],
   "source": [
    "import lightgbm as lgb\n",
    "import optuna\n",
    "\n",
    "def objective(trial):\n",
    "    \n",
    "    train_x, valid_x, train_y, valid_y = train_test_split(train[features], train['Survived'], test_size=0.20)\n",
    "    dtrain = lgb.Dataset(train_x, label=train_y)\n",
    "\n",
    "    # 2. Suggest values of the hyperparameters using a trial object.\n",
    "    param = {\n",
    "        'objective': 'binary',\n",
    "        'metric': 'binary_logloss',\n",
    "        'verbosity': -1,\n",
    "        'boosting_type': 'gbdt',\n",
    "        'lambda_l1': trial.suggest_float('lambda_l1', 1e-8, 10.0, log=True),\n",
    "        'lambda_l2': trial.suggest_float('lambda_l2', 1e-8, 10.0, log=True),\n",
    "        'num_leaves': trial.suggest_int('num_leaves', 2, 256),\n",
    "        'feature_fraction': trial.suggest_float('feature_fraction', 0.4, 1.0),\n",
    "        'bagging_fraction': trial.suggest_float('bagging_fraction', 0.4, 1.0),\n",
    "        'bagging_freq': trial.suggest_int('bagging_freq', 1, 7),\n",
    "        'min_child_samples': trial.suggest_int('min_child_samples', 5, 100),\n",
    "    }\n",
    "\n",
    "    gbm = lgb.train(param, dtrain)\n",
    "    preds = np.rint(gbm.predict(valid_x))\n",
    "    \n",
    "    accuracy = metrics.accuracy_score(valid_y, preds)\n",
    "    return accuracy\n",
    "    \n",
    "\n",
    "# 3. Create a study object and optimize the objective function.\n",
    "study = optuna.create_study(direction='maximize')\n",
    "study.optimize(objective, n_trials=1000)"
   ]
  },
  {
   "cell_type": "code",
   "execution_count": 63,
   "metadata": {},
   "outputs": [],
   "source": [
    "train['Survived'] = train['Survived'].astype(bool)"
   ]
  },
  {
   "cell_type": "code",
   "execution_count": 38,
   "metadata": {
    "scrolled": true
   },
   "outputs": [
    {
     "name": "stdout",
     "output_type": "stream",
     "text": [
      "[LightGBM] [Warning] Auto-choosing row-wise multi-threading, the overhead of testing was 0.000302 seconds.\n",
      "You can set `force_row_wise=true` to remove the overhead.\n",
      "And if memory is not enough, you can set `force_col_wise=true`.\n",
      "[LightGBM] [Info] Total Bins 251\n",
      "[LightGBM] [Info] Number of data points in the train set: 891, number of used features: 21\n",
      "[LightGBM] [Info] Start training from score 0.383838\n",
      "[LightGBM] [Warning] No further splits with positive gain, best gain: -inf\n",
      "[LightGBM] [Warning] No further splits with positive gain, best gain: -inf\n",
      "[LightGBM] [Warning] No further splits with positive gain, best gain: -inf\n",
      "[LightGBM] [Warning] No further splits with positive gain, best gain: -inf\n",
      "[LightGBM] [Warning] No further splits with positive gain, best gain: -inf\n",
      "[LightGBM] [Warning] No further splits with positive gain, best gain: -inf\n",
      "[LightGBM] [Warning] No further splits with positive gain, best gain: -inf\n",
      "[LightGBM] [Warning] No further splits with positive gain, best gain: -inf\n",
      "[LightGBM] [Warning] No further splits with positive gain, best gain: -inf\n",
      "[LightGBM] [Warning] No further splits with positive gain, best gain: -inf\n",
      "[LightGBM] [Warning] No further splits with positive gain, best gain: -inf\n",
      "[LightGBM] [Warning] No further splits with positive gain, best gain: -inf\n",
      "[LightGBM] [Warning] No further splits with positive gain, best gain: -inf\n",
      "[LightGBM] [Warning] No further splits with positive gain, best gain: -inf\n",
      "[LightGBM] [Warning] No further splits with positive gain, best gain: -inf\n",
      "[LightGBM] [Warning] No further splits with positive gain, best gain: -inf\n",
      "[LightGBM] [Warning] No further splits with positive gain, best gain: -inf\n",
      "[LightGBM] [Warning] No further splits with positive gain, best gain: -inf\n",
      "[LightGBM] [Warning] No further splits with positive gain, best gain: -inf\n",
      "[LightGBM] [Warning] No further splits with positive gain, best gain: -inf\n",
      "[LightGBM] [Warning] No further splits with positive gain, best gain: -inf\n",
      "[LightGBM] [Warning] No further splits with positive gain, best gain: -inf\n",
      "[LightGBM] [Warning] No further splits with positive gain, best gain: -inf\n",
      "[LightGBM] [Warning] No further splits with positive gain, best gain: -inf\n",
      "[LightGBM] [Warning] No further splits with positive gain, best gain: -inf\n",
      "[LightGBM] [Warning] No further splits with positive gain, best gain: -inf\n",
      "[LightGBM] [Warning] No further splits with positive gain, best gain: -inf\n",
      "[LightGBM] [Warning] No further splits with positive gain, best gain: -inf\n",
      "[LightGBM] [Warning] No further splits with positive gain, best gain: -inf\n",
      "[LightGBM] [Warning] No further splits with positive gain, best gain: -inf\n",
      "[LightGBM] [Warning] No further splits with positive gain, best gain: -inf\n",
      "[LightGBM] [Warning] No further splits with positive gain, best gain: -inf\n",
      "[LightGBM] [Warning] No further splits with positive gain, best gain: -inf\n",
      "[LightGBM] [Warning] No further splits with positive gain, best gain: -inf\n",
      "[LightGBM] [Warning] No further splits with positive gain, best gain: -inf\n",
      "[LightGBM] [Warning] No further splits with positive gain, best gain: -inf\n",
      "[LightGBM] [Warning] No further splits with positive gain, best gain: -inf\n",
      "[LightGBM] [Warning] No further splits with positive gain, best gain: -inf\n",
      "[LightGBM] [Warning] No further splits with positive gain, best gain: -inf\n",
      "[LightGBM] [Warning] No further splits with positive gain, best gain: -inf\n",
      "[LightGBM] [Warning] No further splits with positive gain, best gain: -inf\n",
      "[LightGBM] [Warning] No further splits with positive gain, best gain: -inf\n",
      "[LightGBM] [Warning] No further splits with positive gain, best gain: -inf\n",
      "[LightGBM] [Warning] No further splits with positive gain, best gain: -inf\n",
      "[LightGBM] [Warning] No further splits with positive gain, best gain: -inf\n",
      "[LightGBM] [Warning] No further splits with positive gain, best gain: -inf\n",
      "[LightGBM] [Warning] No further splits with positive gain, best gain: -inf\n",
      "[LightGBM] [Warning] No further splits with positive gain, best gain: -inf\n",
      "[LightGBM] [Warning] No further splits with positive gain, best gain: -inf\n",
      "[LightGBM] [Warning] No further splits with positive gain, best gain: -inf\n",
      "[LightGBM] [Warning] No further splits with positive gain, best gain: -inf\n",
      "[LightGBM] [Warning] No further splits with positive gain, best gain: -inf\n",
      "[LightGBM] [Warning] No further splits with positive gain, best gain: -inf\n",
      "[LightGBM] [Warning] No further splits with positive gain, best gain: -inf\n",
      "[LightGBM] [Warning] No further splits with positive gain, best gain: -inf\n",
      "[LightGBM] [Warning] No further splits with positive gain, best gain: -inf\n",
      "[LightGBM] [Warning] No further splits with positive gain, best gain: -inf\n",
      "[LightGBM] [Warning] No further splits with positive gain, best gain: -inf\n",
      "[LightGBM] [Warning] No further splits with positive gain, best gain: -inf\n",
      "[LightGBM] [Warning] No further splits with positive gain, best gain: -inf\n",
      "[LightGBM] [Warning] No further splits with positive gain, best gain: -inf\n",
      "[LightGBM] [Warning] No further splits with positive gain, best gain: -inf\n",
      "[LightGBM] [Warning] No further splits with positive gain, best gain: -inf\n",
      "[LightGBM] [Warning] No further splits with positive gain, best gain: -inf\n",
      "[LightGBM] [Warning] No further splits with positive gain, best gain: -inf\n",
      "[LightGBM] [Warning] No further splits with positive gain, best gain: -inf\n",
      "[LightGBM] [Warning] No further splits with positive gain, best gain: -inf\n",
      "[LightGBM] [Warning] No further splits with positive gain, best gain: -inf\n",
      "[LightGBM] [Warning] No further splits with positive gain, best gain: -inf\n",
      "[LightGBM] [Warning] No further splits with positive gain, best gain: -inf\n",
      "[LightGBM] [Warning] No further splits with positive gain, best gain: -inf\n",
      "[LightGBM] [Warning] No further splits with positive gain, best gain: -inf\n",
      "[LightGBM] [Warning] No further splits with positive gain, best gain: -inf\n",
      "[LightGBM] [Warning] No further splits with positive gain, best gain: -inf\n",
      "[LightGBM] [Warning] No further splits with positive gain, best gain: -inf\n",
      "[LightGBM] [Warning] No further splits with positive gain, best gain: -inf\n",
      "[LightGBM] [Warning] No further splits with positive gain, best gain: -inf\n",
      "[LightGBM] [Warning] No further splits with positive gain, best gain: -inf\n",
      "[LightGBM] [Warning] No further splits with positive gain, best gain: -inf\n",
      "[LightGBM] [Warning] No further splits with positive gain, best gain: -inf\n",
      "[LightGBM] [Warning] No further splits with positive gain, best gain: -inf\n",
      "[LightGBM] [Warning] No further splits with positive gain, best gain: -inf\n",
      "[LightGBM] [Warning] No further splits with positive gain, best gain: -inf\n",
      "[LightGBM] [Warning] No further splits with positive gain, best gain: -inf\n",
      "[LightGBM] [Warning] No further splits with positive gain, best gain: -inf\n",
      "[LightGBM] [Warning] No further splits with positive gain, best gain: -inf\n",
      "[LightGBM] [Warning] No further splits with positive gain, best gain: -inf\n",
      "[LightGBM] [Warning] No further splits with positive gain, best gain: -inf\n",
      "[LightGBM] [Warning] No further splits with positive gain, best gain: -inf\n",
      "[LightGBM] [Warning] No further splits with positive gain, best gain: -inf\n",
      "[LightGBM] [Warning] No further splits with positive gain, best gain: -inf\n",
      "[LightGBM] [Warning] No further splits with positive gain, best gain: -inf\n",
      "[LightGBM] [Warning] No further splits with positive gain, best gain: -inf\n",
      "[LightGBM] [Warning] No further splits with positive gain, best gain: -inf\n",
      "[LightGBM] [Warning] No further splits with positive gain, best gain: -inf\n",
      "[LightGBM] [Warning] No further splits with positive gain, best gain: -inf\n",
      "[LightGBM] [Warning] No further splits with positive gain, best gain: -inf\n",
      "[LightGBM] [Warning] No further splits with positive gain, best gain: -inf\n",
      "[LightGBM] [Warning] No further splits with positive gain, best gain: -inf\n",
      "[LightGBM] [Warning] No further splits with positive gain, best gain: -inf\n"
     ]
    }
   ],
   "source": [
    "gbm = lgb.train(study.best_params, lgb.Dataset(train[features], label=train['Survived']))\n",
    "preds = gbm.predict(test[features])"
   ]
  },
  {
   "cell_type": "code",
   "execution_count": null,
   "metadata": {},
   "outputs": [],
   "source": []
  },
  {
   "cell_type": "code",
   "execution_count": 58,
   "metadata": {},
   "outputs": [
    {
     "data": {
      "text/plain": [
       "array([ 2.21659333e-02,  3.82187672e-01,  6.42803378e-02,  5.07251034e-01,\n",
       "        5.79591610e-01,  1.18345910e-01,  3.36342599e-01,  1.22575728e-01,\n",
       "        9.89043988e-01,  2.43881707e-02,  2.35722943e-04,  3.07501256e-02,\n",
       "        8.81203844e-01, -3.16674225e-02,  8.44469255e-01,  9.01964762e-01,\n",
       "        1.40891336e-02,  3.96641495e-01,  5.91768275e-01,  6.55683457e-01,\n",
       "        9.76641670e-02,  6.42143931e-01,  1.07855649e+00,  2.70761765e-01,\n",
       "        1.11442121e+00, -1.07561684e-01,  1.13918835e+00,  4.33530760e-01,\n",
       "        7.23131821e-01,  3.57533320e-01,  1.41931785e-02,  2.85584602e-01,\n",
       "        5.04265215e-01,  2.43546911e-01,  5.24281226e-01,  2.35121588e-01,\n",
       "        8.96427546e-02,  1.54611515e-01, -1.59076991e-02,  5.87113762e-01,\n",
       "        5.61627558e-02,  6.64026419e-01,  2.68481435e-01,  1.14920994e+00,\n",
       "        9.87404625e-01,  1.47149225e-01,  2.69159497e-01,  1.58082097e-01,\n",
       "        1.03412977e+00,  7.42811739e-01,  4.11175118e-01,  7.65222233e-02,\n",
       "        9.10101990e-01,  7.98980420e-01,  2.02966384e-01, -3.90789933e-02,\n",
       "        1.81464833e-03,  1.95407466e-01,  1.86359957e-01,  1.13290471e+00,\n",
       "        7.76592307e-03,  2.92578344e-01, -1.53384546e-02,  8.48430017e-01,\n",
       "        7.96297630e-01,  1.02164508e+00,  6.91152915e-01, -6.63048150e-02,\n",
       "        4.09313957e-01,  8.54569927e-01,  6.90031884e-01, -3.32978441e-02,\n",
       "        3.21299864e-01,  3.18552685e-01,  9.27609663e-01,  5.23950994e-01,\n",
       "       -6.83411369e-02,  7.63249384e-01,  3.08670203e-01,  6.90031884e-01,\n",
       "        1.02024472e+00,  2.05690046e-02,  1.59396806e-01,  2.35722943e-04,\n",
       "        2.14135118e-01,  7.72744427e-02,  9.27739904e-01,  5.24854998e-01,\n",
       "        8.04170493e-01,  8.57445831e-01,  5.05058504e-01,  2.70557354e-01,\n",
       "        7.64318009e-01, -6.83411369e-02,  3.75364590e-01,  2.18602090e-01,\n",
       "        8.93751722e-01,  3.13166985e-01,  5.96613313e-01,  1.86737051e-01,\n",
       "        9.45029471e-01,  3.36506430e-02,  1.58082097e-01,  2.76603615e-01,\n",
       "        8.47966910e-01, -3.76473250e-02,  8.48233413e-02,  1.58082097e-01,\n",
       "        2.31697912e-01,  2.29607952e-01, -5.13051712e-02,  8.11895702e-01,\n",
       "        1.09443478e+00,  6.74302461e-01,  8.65223702e-01, -1.77454687e-02,\n",
       "        4.56721106e-02,  8.24725418e-01,  4.79021851e-01,  8.28794998e-01,\n",
       "        9.23220799e-01,  1.66866314e-01,  1.00948976e+00,  8.40174858e-02,\n",
       "        1.58082097e-01,  5.33244609e-01,  2.68368277e-01,  8.88535176e-01,\n",
       "        2.32575112e-01, -9.95680493e-02,  3.03720189e-01,  1.71615851e-01,\n",
       "        7.32405050e-02,  6.09111018e-02,  3.61635882e-02,  4.55706081e-03,\n",
       "        3.76233702e-01,  3.10797352e-02,  2.21840291e-01, -1.09153876e-01,\n",
       "       -7.41309189e-03,  1.08081466e+00,  3.22985998e-01, -5.91349282e-02,\n",
       "        6.58428158e-01,  2.46355238e-02,  1.60021002e-01,  4.66073884e-02,\n",
       "        6.55438333e-01,  3.26316624e-01,  1.12149988e+00,  1.37331923e-01,\n",
       "        3.36695516e-01,  4.03125455e-01,  2.89847857e-01,  1.41557202e-01,\n",
       "        7.89748559e-01,  6.09386875e-01,  8.86555001e-01,  6.90449048e-01,\n",
       "        7.63567513e-01,  8.10894770e-01,  7.72463948e-01,  1.92930560e-02,\n",
       "        2.74439735e-01,  2.82158342e-01,  1.60587629e-01,  5.83462519e-02,\n",
       "        9.45414533e-01,  1.65800824e-01, -8.45293525e-02,  4.70050002e-01,\n",
       "       -7.02185906e-02,  7.68687594e-02,  2.63273241e-01,  1.10005639e+00,\n",
       "        1.02630167e+00,  2.40876727e-01,  1.02267798e+00,  1.00600515e+00,\n",
       "        3.08670203e-01,  6.05329881e-01,  8.66792120e-01,  1.58082097e-01,\n",
       "        8.67696749e-01,  5.30963197e-02,  8.59876334e-01,  4.05120388e-01,\n",
       "        3.20479618e-02,  1.85428025e-01,  1.82183268e-01,  2.29628892e-01,\n",
       "        7.04563983e-01,  3.54983177e-02,  7.45215171e-01,  1.26748014e-01,\n",
       "        8.85326136e-01,  5.06895936e-01, -1.29562242e-02,  4.46880613e-01,\n",
       "        8.23304329e-01,  1.02282771e+00,  5.14614709e-01,  8.50524165e-01,\n",
       "       -6.60574121e-04,  1.62186320e-01,  4.51450227e-01, -1.61154768e-01,\n",
       "        7.77289753e-01, -7.19614993e-02,  2.98549774e-01, -1.82685658e-02,\n",
       "        6.03291146e-02,  8.16793084e-01,  2.97613900e-01,  2.22447805e-01,\n",
       "        8.80450096e-01,  2.78684076e-02,  9.50921769e-01, -6.83411369e-02,\n",
       "        9.14738944e-01,  1.56529750e-02,  9.74420155e-01,  2.58062047e-01,\n",
       "        6.70320309e-01,  6.12929678e-01,  2.28302457e-01,  7.83238090e-01,\n",
       "        1.19434091e-01,  6.61664850e-02,  2.78715955e-01,  9.80644879e-01,\n",
       "        1.92908794e-01,  1.75448966e-01,  4.38091772e-01,  8.72896647e-02,\n",
       "        3.56158389e-01,  4.48754105e-01,  8.82059275e-01,  1.01364636e+00,\n",
       "        7.49525483e-01,  9.61636065e-01,  4.24868907e-01,  2.35722943e-04,\n",
       "        1.75620036e-01,  3.34558960e-01,  9.35352387e-01,  3.19931570e-02,\n",
       "        8.43913511e-01,  3.61005086e-01,  9.42188950e-01,  2.72751937e-01,\n",
       "        4.39036007e-01, -1.04823056e-01,  1.43200136e-01, -7.79517007e-02,\n",
       "        1.39886663e-01,  5.00068909e-02,  9.11863968e-01,  1.63235373e-01,\n",
       "       -5.95163482e-02,  9.28605818e-02,  8.75872296e-01,  8.25654558e-01,\n",
       "        1.44987488e-01,  2.35722943e-04, -1.94688318e-02, -7.79517007e-02,\n",
       "        9.56283689e-02,  6.55235900e-02,  2.29866684e-01,  1.58082097e-01,\n",
       "        7.81390237e-01,  8.73831667e-01,  7.04621079e-02,  8.88821675e-01,\n",
       "       -3.11254792e-02,  1.06538591e-03, -7.40917001e-03, -3.91451231e-02,\n",
       "        1.38622375e-01,  9.82456478e-01,  7.83238090e-01,  4.80126641e-01,\n",
       "        7.06988141e-01, -3.07740501e-03, -1.91347789e-02,  3.50063629e-01,\n",
       "        7.20922340e-02,  7.36018906e-03, -1.40498138e-01,  4.35128211e-01,\n",
       "        7.68687594e-02,  4.15024635e-01,  7.29656916e-02,  7.42268987e-02,\n",
       "        9.66678373e-01,  3.57533320e-01,  5.14922206e-02,  2.16334546e-01,\n",
       "        1.74452075e-01,  2.97575704e-02, -5.76952769e-02, -1.07313349e-01,\n",
       "        7.83238090e-01,  8.47917595e-01,  1.32819678e-01,  9.27030856e-01,\n",
       "        1.29265489e-01,  1.42185088e-01,  9.69472703e-02,  4.33530760e-01,\n",
       "       -8.45293525e-02,  3.80771874e-01,  9.04177506e-01,  7.32767375e-01,\n",
       "        2.94867004e-01,  1.01523247e-01,  3.88950021e-01,  2.81281055e-01,\n",
       "        2.76603615e-01,  4.14337952e-01,  3.37020649e-01,  8.49995317e-01,\n",
       "        1.04438990e+00,  1.53335665e-01,  1.01932978e+00,  8.27817855e-02,\n",
       "        1.07004293e-02, -6.32173282e-02,  9.80477880e-01,  4.48743761e-01,\n",
       "        7.04621079e-02,  8.31461888e-01,  2.58558827e-01,  3.43481632e-01,\n",
       "        3.64286394e-01, -1.60957859e-01,  3.21406808e-01,  5.69120864e-01,\n",
       "        2.58358011e-01, -1.08091306e-01, -5.79167465e-04,  9.90206208e-01,\n",
       "        1.99561715e-01,  6.77700716e-01,  3.10797352e-02,  6.45118995e-01,\n",
       "       -1.29722351e-01,  8.98751572e-01,  9.77350575e-01, -1.05396380e-02,\n",
       "        5.33513672e-02,  1.15139435e-01,  7.71938493e-01,  1.92836678e-01,\n",
       "        9.13546519e-01,  1.47527875e-01,  1.58082097e-01,  6.07047081e-01,\n",
       "        2.86882260e-02,  1.13792166e+00,  1.04867795e+00,  5.07251034e-01,\n",
       "        1.15354065e+00,  4.76025543e-02,  6.54689876e-02, -1.57507179e-03,\n",
       "        9.58371148e-01,  3.11113855e-01, -3.91332225e-02,  1.08092935e+00,\n",
       "        3.58879372e-02,  1.59937183e-01,  9.32804046e-01,  1.00970407e+00,\n",
       "        1.97475074e-01, -8.18260931e-02, -5.32315039e-02,  5.38751926e-01,\n",
       "        1.58082097e-01,  1.71783389e-01,  4.44620759e-01,  6.11505107e-01,\n",
       "        2.22366839e-01,  9.00511400e-01,  1.29194285e-01, -3.09634117e-02,\n",
       "        1.07883076e-01,  4.54618424e-01,  4.51801794e-01,  8.59935212e-01,\n",
       "        7.83968584e-01,  1.25348138e-01, -8.83022811e-02,  8.19772560e-01,\n",
       "        6.80520617e-02,  1.17719418e+00,  2.12317139e-01, -1.38021026e-01,\n",
       "        8.24052471e-01, -1.52351263e-01,  1.11637343e+00,  8.00570462e-02,\n",
       "        4.22979237e-01,  4.91276274e-01, -1.17726934e-01,  2.51531715e-01,\n",
       "        7.63567513e-01,  8.51992736e-01,  7.83238090e-01,  9.56479620e-01,\n",
       "        3.37099521e-01,  7.36018906e-03,  9.93470363e-01, -1.80623464e-02,\n",
       "       -6.83411369e-02,  6.32227442e-01])"
      ]
     },
     "execution_count": 58,
     "metadata": {},
     "output_type": "execute_result"
    }
   ],
   "source": [
    "preds"
   ]
  },
  {
   "cell_type": "code",
   "execution_count": 46,
   "metadata": {},
   "outputs": [],
   "source": [
    "submission = pd.read_csv('data/submission.csv')"
   ]
  },
  {
   "cell_type": "code",
   "execution_count": 48,
   "metadata": {},
   "outputs": [],
   "source": [
    "submission['Survived'] = np.abs(np.rint(preds))"
   ]
  },
  {
   "cell_type": "code",
   "execution_count": 50,
   "metadata": {},
   "outputs": [],
   "source": [
    "submission.to_csv(\"data/submission.csv\", index = False)"
   ]
  },
  {
   "cell_type": "code",
   "execution_count": null,
   "metadata": {
    "scrolled": true
   },
   "outputs": [],
   "source": [
    "train.describe()"
   ]
  },
  {
   "cell_type": "markdown",
   "metadata": {},
   "source": [
    "#### Here we already have some important information: \n",
    "- Low sample dataset: **891** observations (some models are not appropriate for low sample datasets)\n",
    "- Low dimensionality: 12 columns (11 without the index)\n",
    "  - Before even checking for redundant columns.\n",
    "  - Not much information to work on.\n",
    "- A lot of qualitative features.\n",
    "- Need for scaling."
   ]
  },
  {
   "cell_type": "markdown",
   "metadata": {},
   "source": [
    "# Data Cleaning and Transformation\n",
    "In this step we transform our current dataframe to a usable one. Here we are looking for *missings*, *corrupted*, or *imprecise* information. Later we try to create other variables to help our model performance."
   ]
  },
  {
   "cell_type": "markdown",
   "metadata": {},
   "source": [
    "## Transforming categorical data"
   ]
  },
  {
   "cell_type": "markdown",
   "metadata": {},
   "source": [
    "**We scraped every title with those two lists comprehension.**"
   ]
  },
  {
   "cell_type": "markdown",
   "metadata": {},
   "source": [
    "## Encoding"
   ]
  },
  {
   "cell_type": "code",
   "execution_count": null,
   "metadata": {},
   "outputs": [],
   "source": [
    "train['Pclass'], test['Pclass'] = train['Pclass'].astype(str), test['Pclass'].astype(str)\n",
    "features = [col for col in train.columns if col not in ['PassengerId', 'Survived']]\n",
    "categorical_features = [col for col in train.columns if col in ['Pclass', 'Name','Sex','Ticket','Cabin','Embarked']]\n",
    "numerical_features = [col for col in train.columns if col in ['Age','SibSp','Parch', 'Fare']]"
   ]
  },
  {
   "cell_type": "code",
   "execution_count": null,
   "metadata": {},
   "outputs": [],
   "source": [
    "from category_encoders import TargetEncoder\n",
    "encoder = TargetEncoder()\n",
    "\n",
    "train_target_encoding = encoder.fit_transform(train[categorical_features], train['Survived'])\n",
    "test_target_encoding = encoder.transform(test[categorical_features])"
   ]
  },
  {
   "cell_type": "code",
   "execution_count": null,
   "metadata": {},
   "outputs": [],
   "source": [
    "new_train = pd.concat([train['Survived'], train[numerical_features], train_target_encoding], axis = 1)\n",
    "new_test = pd.concat([test[numerical_features], test_target_encoding], axis = 1)"
   ]
  },
  {
   "cell_type": "markdown",
   "metadata": {},
   "source": [
    "## Imputer"
   ]
  },
  {
   "cell_type": "code",
   "execution_count": null,
   "metadata": {},
   "outputs": [],
   "source": [
    "from sklearn.impute import KNNImputer\n",
    "knni = KNNImputer()\n",
    "features = [col for col in new_train.columns if col not in ['PassengerId', 'Survived']]\n",
    "\n",
    "new_train[features] = knni.fit_transform(new_train[features])\n",
    "new_test[features] = knni.transform(new_test[features])"
   ]
  },
  {
   "cell_type": "markdown",
   "metadata": {},
   "source": [
    "## Scaler"
   ]
  },
  {
   "cell_type": "code",
   "execution_count": null,
   "metadata": {},
   "outputs": [],
   "source": [
    "from sklearn.preprocessing import StandardScaler\n",
    "std_scaler = StandardScaler()\n",
    "\n",
    "new_train[features] = std_scaler.fit_transform(new_train[features])\n",
    "new_test[features] = std_scaler.transform(new_test[features])"
   ]
  },
  {
   "cell_type": "markdown",
   "metadata": {},
   "source": [
    "# Model Building"
   ]
  },
  {
   "cell_type": "code",
   "execution_count": null,
   "metadata": {},
   "outputs": [],
   "source": [
    "from sklearn.ensemble import GradientBoostingClassifier\n",
    "from sklearn.model_selection import cross_validate\n",
    "\n",
    "gb_classif = GradientBoostingClassifier()"
   ]
  },
  {
   "cell_type": "code",
   "execution_count": null,
   "metadata": {},
   "outputs": [],
   "source": [
    "gb_classif.fit(new_train[features], new_train['Survived'])\n",
    "cv = cross_validate(gb_classif, new_train[features], new_train['Survived'], cv = 5)"
   ]
  },
  {
   "cell_type": "code",
   "execution_count": null,
   "metadata": {},
   "outputs": [],
   "source": [
    "cv['test_score'].mean()"
   ]
  },
  {
   "cell_type": "code",
   "execution_count": null,
   "metadata": {},
   "outputs": [],
   "source": [
    "pd.DataFrame(gb_classif.predict(new_test[features])).to_csv(\"submission.csv\")"
   ]
  },
  {
   "cell_type": "code",
   "execution_count": null,
   "metadata": {},
   "outputs": [],
   "source": []
  },
  {
   "cell_type": "code",
   "execution_count": null,
   "metadata": {},
   "outputs": [],
   "source": []
  },
  {
   "cell_type": "code",
   "execution_count": null,
   "metadata": {},
   "outputs": [],
   "source": []
  },
  {
   "cell_type": "code",
   "execution_count": null,
   "metadata": {},
   "outputs": [],
   "source": []
  },
  {
   "cell_type": "code",
   "execution_count": null,
   "metadata": {},
   "outputs": [],
   "source": []
  },
  {
   "cell_type": "code",
   "execution_count": null,
   "metadata": {},
   "outputs": [],
   "source": []
  },
  {
   "cell_type": "markdown",
   "metadata": {},
   "source": [
    "## Categorical features encoding, dealing with missing values and scaling variables\n",
    "Most models don't work with categorical features. Here I will test two ways: **One-Hot Encoding** and **Target Encoding**. \n",
    "\n",
    "For replacing numerical missing values, I will test imputting **mean**, **median** values, as well a **linear regression** algorithm.\n",
    "\n",
    "For replacing categorical missing values, I will test imputting **mode** values, as well a **kNN** algorithm.\n",
    "\n",
    "For scaling the variable, I will use test both **MinMaxScaler** and **StandardScaler**. \n",
    "\n",
    "**A class will be used so I can easily try different dataprep tools.**"
   ]
  },
  {
   "cell_type": "markdown",
   "metadata": {},
   "source": [
    "## Encoding"
   ]
  },
  {
   "cell_type": "code",
   "execution_count": null,
   "metadata": {},
   "outputs": [],
   "source": [
    "\n",
    "\n"
   ]
  },
  {
   "cell_type": "code",
   "execution_count": null,
   "metadata": {},
   "outputs": [],
   "source": [
    "\n",
    "\n",
    "\n",
    "\n",
    "train_name_dummies = pd.get_dummies(train['Name'], columns = categorical_features, dummy_na = True).filter(['Mr','Mrs','Miss','Master'])\n",
    "test_name_dummies = pd.get_dummies(test['Name'], columns = categorical_features, dummy_na = True).filter(['Mr','Mrs','Miss','Master'])\n",
    "\n",
    "train_pclass_dummies = pd.get_dummies(train['Pclass'], columns = categorical_features, dummy_na = True)\n",
    "test_pclass_dummies = pd.get_dummies(test['Pclass'], columns = categorical_features, dummy_na = True)\n",
    "\n",
    "train_sex_dummies = pd.get_dummies(train['Sex'], columns = categorical_features, dummy_na = True)\n",
    "test_sex_dummies = pd.get_dummies(test['Sex'], columns = categorical_features, dummy_na = True)\n",
    "\n",
    "\n",
    "train_ticket_dummies = pd.get_dummies(train['Ticket'], columns = categorical_features, dummy_na = True).filter(['NUMBER_ONLY'])\n",
    "test_ticket_dummies = pd.get_dummies(test['Ticket'], columns = categorical_features, dummy_na = True).filter(['NUMBER_ONLY'])\n",
    "\n",
    "train_cabin_dummies = pd.get_dummies(train['Cabin'], columns = categorical_features, dummy_na = True).filter(['NaN'])\n",
    "test_cabin_dummies = pd.get_dummies(test['Cabin'], columns = categorical_features, dummy_na = True).filter(['NaN'])\n",
    "\n",
    "train_embarked_dummies = pd.get_dummies(train['Embarked'], columns = categorical_features, dummy_na = True).filter(['Q','S','C'])\n",
    "test_embarked_dummies = pd.get_dummies(test['Embarked'], columns = categorical_features, dummy_na = True).filter(['Q','S','C'])"
   ]
  },
  {
   "cell_type": "markdown",
   "metadata": {},
   "source": [
    "## Imputer and Scaler"
   ]
  },
  {
   "cell_type": "code",
   "execution_count": null,
   "metadata": {},
   "outputs": [],
   "source": [
    "OneHotEncoder() == OneHotEncoder"
   ]
  },
  {
   "cell_type": "code",
   "execution_count": null,
   "metadata": {},
   "outputs": [],
   "source": [
    "from sklearn.pipeline import Pipeline\n",
    "from sklearn.preprocessing import OneHotEncoder, StandardScaler, MinMaxScaler\n",
    "from category_encoders import TargetEncoder\n",
    "\n",
    "\n",
    "features = [col for col in train.columns if col not in ['PassengerId', 'Survived']]\n",
    "categorical_features = [col for col in train.columns if col in ['Pclass', 'Name','Sex','Ticket','Cabin','Embarked']]\n",
    "numerical_features = [col for col in train.columns if col in ['Age','SibSp','Parch', 'Fare']]\n",
    "\n",
    "class DataPrep():\n",
    "    \n",
    "    def __init__(self, imputer, scaler, encoder):\n",
    "        self.num_imputer = num_imputer\n",
    "        self.scaler = scaler\n",
    "        self.encoder = encoder\n",
    "        \n",
    "        self.pipe = Pipeline([\n",
    "            ('numeric_imputer', self.imputer),\n",
    "            ('scaler', self.scaler)            \n",
    "        ])\n",
    "        \n",
    "        if type(encoder) == OneHotEncoder:\n",
    "            self.new_features = \n",
    "            \n",
    "    def fit(self, X):\n",
    "        return(self.pipe.fit(X[numerical_features]))\n",
    "        \n",
    "    def transform(self, X):\n",
    "        new_df = pd.concat(X[cat_features])\n",
    "        return(self.pipe.transform(X[numerical_features]))\n",
    "    \n",
    "    \n",
    "    def fit_transform(self, X):\n",
    "        \n",
    "        new_cat_X = pd.DataFrame(np.array(self.pipe_1.fit_transform(X[categorical_features])))\n",
    "        new_num_X = pd.DataFrame(np.array(self.pipe_2.fit_transform(X[numerical_features])))\n",
    "        \n",
    "        return(pd.concat([new_cat_X.reset_index(drop=True), new_num_X.reset_index(drop=True)], axis=1).reset_index(drop=True))"
   ]
  },
  {
   "cell_type": "code",
   "execution_count": null,
   "metadata": {},
   "outputs": [],
   "source": [
    "dataprep = DataPrep(\n",
    "    imputer = SimpleImputer(strategy = 'mean'),\n",
    "    scaler = StandardScaler()\n",
    ")"
   ]
  },
  {
   "cell_type": "code",
   "execution_count": null,
   "metadata": {},
   "outputs": [],
   "source": [
    "onehot.fit_transform(train[categorical_features]).shape\n",
    "onehot.categories_"
   ]
  },
  {
   "cell_type": "code",
   "execution_count": null,
   "metadata": {},
   "outputs": [],
   "source": [
    "new_train = dataprep.fit_transform(train)\n",
    "new_test = dataprep.transform(test)"
   ]
  },
  {
   "cell_type": "code",
   "execution_count": null,
   "metadata": {},
   "outputs": [],
   "source": [
    "new_train = pd.concat([train[numerical_features].reset_index(drop=True), new_train_cat_features], axis=1)\n",
    "new_test = pd.concat([test[numerical_features].reset_index(drop=True), new_test_cat_features], axis=1)"
   ]
  },
  {
   "cell_type": "code",
   "execution_count": null,
   "metadata": {},
   "outputs": [],
   "source": [
    "new_train.columns"
   ]
  },
  {
   "cell_type": "code",
   "execution_count": null,
   "metadata": {},
   "outputs": [],
   "source": [
    "# Ignore observations of missing values if we are dealing with large data sets and less number of records has missing values\n",
    "# Ignore variable, if it is not significant\n",
    "# Develop model to predict missing values\n",
    "# Treat missing data as just another category"
   ]
  },
  {
   "cell_type": "markdown",
   "metadata": {},
   "source": [
    "## Dealing with *missings*"
   ]
  },
  {
   "cell_type": "code",
   "execution_count": null,
   "metadata": {},
   "outputs": [],
   "source": [
    "train.isna().sum()\n",
    "test.isna().sum()"
   ]
  },
  {
   "cell_type": "code",
   "execution_count": null,
   "metadata": {
    "scrolled": false
   },
   "outputs": [],
   "source": [
    "import missingno as msno\n",
    "msno.matrix(new_train);"
   ]
  },
  {
   "cell_type": "markdown",
   "metadata": {},
   "source": [
    "### Missings"
   ]
  },
  {
   "cell_type": "code",
   "execution_count": null,
   "metadata": {},
   "outputs": [],
   "source": [
    "for col in train.columns:\n",
    "    print(f\"Feature: {col} {train[col].isna().sum()}\")"
   ]
  },
  {
   "cell_type": "markdown",
   "metadata": {},
   "source": [
    "We will have to deal with **2** main problems here: Age and Cabin. We will decide what to do with the *Embarked* missing values later."
   ]
  },
  {
   "cell_type": "code",
   "execution_count": null,
   "metadata": {},
   "outputs": [],
   "source": [
    "from sklearn.pipeline import Pipeline\n",
    "\n",
    "pipe = Pipeline([\n",
    "        ('imputer', SimpleImputer(strategy='mean', missing_values=np.nan)),\n",
    "        (\"scaler\", QuantileTransformer(n_quantiles=64,output_distribution='uniform')),\n",
    "        ('bin', KBinsDiscretizer(n_bins=64, encode='ordinal',strategy='uniform'))\n",
    "        ])"
   ]
  },
  {
   "cell_type": "code",
   "execution_count": null,
   "metadata": {},
   "outputs": [],
   "source": []
  }
 ],
 "metadata": {
  "kernelspec": {
   "display_name": "ml",
   "language": "python",
   "name": "ml"
  },
  "language_info": {
   "codemirror_mode": {
    "name": "ipython",
    "version": 3
   },
   "file_extension": ".py",
   "mimetype": "text/x-python",
   "name": "python",
   "nbconvert_exporter": "python",
   "pygments_lexer": "ipython3",
   "version": "3.7.9"
  }
 },
 "nbformat": 4,
 "nbformat_minor": 4
}

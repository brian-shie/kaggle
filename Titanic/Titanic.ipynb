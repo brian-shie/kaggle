{
 "cells": [
  {
   "cell_type": "markdown",
   "metadata": {},
   "source": [
    "# Introduction\n",
    "\n",
    "### Competition: [Titanic Kaggle](https://www.kaggle.com/c/titanic/overview)\n",
    "\n",
    "This is notebook contains a simple data science project framework, for learning and portfolio construction purposes."
   ]
  },
  {
   "cell_type": "markdown",
   "metadata": {},
   "source": [
    "# Libs"
   ]
  },
  {
   "cell_type": "code",
   "execution_count": 1,
   "metadata": {},
   "outputs": [],
   "source": [
    "import numpy as np # linear algebra\n",
    "import pandas as pd # data processing, CSV file I/O (e.g. pd.read_csv)\n",
    "import os\n",
    "from sklearn.pipeline import Pipeline\n",
    "\n",
    "import tensorflow as tf\n",
    "\n",
    "from tensorflow.keras import layers\n",
    "from tensorflow.keras.layers import Input, Dense, BatchNormalization, Dropout, Embedding,  Flatten\n",
    "from tensorflow.keras.models import Model, Sequential\n",
    "from tensorflow.keras.callbacks import ReduceLROnPlateau, EarlyStopping\n",
    "from tensorflow.keras.optimizers import RMSprop\n",
    "\n",
    "from tensorflow.data import Dataset\n",
    "from sklearn.model_selection import train_test_split, KFold\n",
    "from sklearn.preprocessing import QuantileTransformer,  KBinsDiscretizer, StandardScaler\n",
    "from tensorflow import keras\n",
    "from sklearn import metrics\n",
    "from sklearn.impute import SimpleImputer\n",
    "\n",
    "from sklearn.model_selection import GridSearchCV, cross_val_score"
   ]
  },
  {
   "cell_type": "markdown",
   "metadata": {},
   "source": [
    "# Load Dataset\n",
    "\n",
    "This step we simply get our data to our working environment. Because we are not dealing with live data, a simple pandas usage is enough."
   ]
  },
  {
   "cell_type": "code",
   "execution_count": 2,
   "metadata": {},
   "outputs": [
    {
     "name": "stdout",
     "output_type": "stream",
     "text": [
      "Wall time: 14 ms\n"
     ]
    }
   ],
   "source": [
    "%%time\n",
    "\n",
    "train = pd.read_csv(\"data/train.csv\")\n",
    "test = pd.read_csv(\"data/test.csv\")"
   ]
  },
  {
   "cell_type": "markdown",
   "metadata": {},
   "source": [
    "# Preprocessing"
   ]
  },
  {
   "cell_type": "code",
   "execution_count": 3,
   "metadata": {},
   "outputs": [
    {
     "name": "stdout",
     "output_type": "stream",
     "text": [
      "Wall time: 5.99 ms\n"
     ]
    }
   ],
   "source": [
    "%%time\n",
    "\n",
    "train['Survived'] = train['Survived'].astype(str)\n",
    "\n",
    "train['n_missing'] = train.isna().sum(axis=1)\n",
    "test['n_missing'] = test.isna().sum(axis=1)\n",
    "\n",
    "test['Pclass']= test['Pclass'].astype(str)\n",
    "test['Pclass']= test['Pclass'].astype(str)\n",
    "\n",
    "features = [col for col in train.columns if col not in ['Survived', 'PassengerId']]"
   ]
  },
  {
   "cell_type": "markdown",
   "metadata": {},
   "source": [
    "### *Name* Column "
   ]
  },
  {
   "cell_type": "code",
   "execution_count": 4,
   "metadata": {},
   "outputs": [
    {
     "name": "stdout",
     "output_type": "stream",
     "text": [
      "891\n",
      "['Braund, Mr. Owen Harris'\n",
      " 'Cumings, Mrs. John Bradley (Florence Briggs Thayer)'\n",
      " 'Heikkinen, Miss. Laina' 'Futrelle, Mrs. Jacques Heath (Lily May Peel)'\n",
      " 'Allen, Mr. William Henry']\n"
     ]
    }
   ],
   "source": [
    "print(len(train['Name'].unique()))\n",
    "print(train['Name'].unique()[0:5])"
   ]
  },
  {
   "cell_type": "markdown",
   "metadata": {},
   "source": [
    "**With the *Name* column the way it is, we can't use it in our models.** The reason is because as every person has a unique name, then the name has no information about our variable of interest (*Survived*).\n",
    "\n",
    "One thing we can see in this column is the presence of titles. **We can probably assume different survival rates when considering different titles.**"
   ]
  },
  {
   "cell_type": "code",
   "execution_count": 5,
   "metadata": {},
   "outputs": [
    {
     "name": "stdout",
     "output_type": "stream",
     "text": [
      "891\n"
     ]
    }
   ],
   "source": [
    "name_and_title = [name.split(\", \")[1] for name in train['Name']]\n",
    "title = [name.split(\".\")[0] for name in name_and_title]\n",
    "print(len(title))"
   ]
  },
  {
   "cell_type": "code",
   "execution_count": 6,
   "metadata": {
    "scrolled": true
   },
   "outputs": [
    {
     "name": "stdout",
     "output_type": "stream",
     "text": [
      "17\n"
     ]
    },
    {
     "data": {
      "text/plain": [
       "array(['Capt', 'Col', 'Don', 'Dr', 'Jonkheer', 'Lady', 'Major', 'Master',\n",
       "       'Miss', 'Mlle', 'Mme', 'Mr', 'Mrs', 'Ms', 'Rev', 'Sir',\n",
       "       'the Countess'], dtype='<U12')"
      ]
     },
     "execution_count": 6,
     "metadata": {},
     "output_type": "execute_result"
    }
   ],
   "source": [
    "print(len(np.unique(title)))\n",
    "np.unique(title)"
   ]
  },
  {
   "cell_type": "code",
   "execution_count": 7,
   "metadata": {},
   "outputs": [],
   "source": [
    "train['Name'] = title\n",
    "test['Name'] = [name.split(\".\")[0] for name in [name.split(\", \")[1] for name in test['Name']]] "
   ]
  },
  {
   "cell_type": "code",
   "execution_count": 8,
   "metadata": {},
   "outputs": [],
   "source": [
    "train = pd.concat([train, pd.get_dummies(train['Name']).filter(['Miss', 'Mr', 'Mrs', 'Ms'])], axis = 1)\n",
    "train.drop('Name', axis = 1, inplace = True)\n",
    "\n",
    "test = pd.concat([test, pd.get_dummies(test['Name']).filter(['Miss', 'Mr', 'Mrs', 'Ms'])], axis = 1)\n",
    "test.drop('Name', axis = 1, inplace = True)"
   ]
  },
  {
   "cell_type": "markdown",
   "metadata": {},
   "source": [
    "### Dealing with the Ticket feature"
   ]
  },
  {
   "cell_type": "code",
   "execution_count": 9,
   "metadata": {},
   "outputs": [
    {
     "data": {
      "text/plain": [
       "0           A/5 21171\n",
       "1            PC 17599\n",
       "2    STON/O2. 3101282\n",
       "3              113803\n",
       "4              373450\n",
       "Name: Ticket, dtype: object"
      ]
     },
     "execution_count": 9,
     "metadata": {},
     "output_type": "execute_result"
    }
   ],
   "source": [
    "train['Ticket'][0:5]"
   ]
  },
  {
   "cell_type": "markdown",
   "metadata": {},
   "source": [
    "**One hypothesis we can make** is that the numbers don't contain any relevant information and the prefix may contain relevant information."
   ]
  },
  {
   "cell_type": "code",
   "execution_count": 10,
   "metadata": {},
   "outputs": [
    {
     "data": {
      "text/plain": [
       "['A/5', 'PC', 'STON/O2.', '113803', '373450']"
      ]
     },
     "execution_count": 10,
     "metadata": {},
     "output_type": "execute_result"
    }
   ],
   "source": [
    "ticket_prefixes = [ticket.split()[0] for ticket in train['Ticket']]\n",
    "ticket_prefixes[0:5]"
   ]
  },
  {
   "cell_type": "code",
   "execution_count": 11,
   "metadata": {},
   "outputs": [],
   "source": [
    "for i in range(len(ticket_prefixes)):\n",
    "    try: \n",
    "        int(ticket_prefixes[i])\n",
    "        ticket_prefixes[i] = \"number_only\"\n",
    "    \n",
    "    except Exception:\n",
    "        pass"
   ]
  },
  {
   "cell_type": "code",
   "execution_count": 12,
   "metadata": {},
   "outputs": [
    {
     "data": {
      "text/plain": [
       "['A/5', 'PC', 'STON/O2.', 'number_only', 'number_only']"
      ]
     },
     "execution_count": 12,
     "metadata": {},
     "output_type": "execute_result"
    }
   ],
   "source": [
    "ticket_prefixes[0:5]"
   ]
  },
  {
   "cell_type": "code",
   "execution_count": 13,
   "metadata": {
    "scrolled": true
   },
   "outputs": [
    {
     "name": "stdout",
     "output_type": "stream",
     "text": [
      "44\n"
     ]
    },
    {
     "data": {
      "text/plain": [
       "array(['A./5.', 'A.5.', 'A/4', 'A/4.', 'A/5', 'A/5.', 'A/S', 'A4.', 'C',\n",
       "       'C.A.', 'C.A./SOTON', 'CA', 'CA.', 'F.C.', 'F.C.C.', 'Fa', 'LINE',\n",
       "       'P/PP', 'PC', 'PP', 'S.C./A.4.', 'S.C./PARIS', 'S.O./P.P.',\n",
       "       'S.O.C.', 'S.O.P.', 'S.P.', 'S.W./PP', 'SC', 'SC/AH', 'SC/PARIS',\n",
       "       'SC/Paris', 'SCO/W', 'SO/C', 'SOTON/O.Q.', 'SOTON/O2', 'SOTON/OQ',\n",
       "       'STON/O', 'STON/O2.', 'SW/PP', 'W./C.', 'W.E.P.', 'W/C', 'WE/P',\n",
       "       'number_only'], dtype='<U11')"
      ]
     },
     "execution_count": 13,
     "metadata": {},
     "output_type": "execute_result"
    }
   ],
   "source": [
    "print(len(np.unique(ticket_prefixes)))\n",
    "np.unique(ticket_prefixes)"
   ]
  },
  {
   "cell_type": "code",
   "execution_count": 14,
   "metadata": {},
   "outputs": [],
   "source": [
    "ticket_prefixes = [s.replace(\".\", \"\") for s in ticket_prefixes]\n",
    "ticket_prefixes = [s.replace(\",\", \"\") for s in ticket_prefixes]\n",
    "ticket_prefixes = [s.upper() for s in ticket_prefixes]"
   ]
  },
  {
   "cell_type": "code",
   "execution_count": 15,
   "metadata": {
    "scrolled": false
   },
   "outputs": [
    {
     "name": "stdout",
     "output_type": "stream",
     "text": [
      "34\n"
     ]
    },
    {
     "data": {
      "text/plain": [
       "array(['A/4', 'A/5', 'A/S', 'A4', 'A5', 'C', 'CA', 'CA/SOTON', 'FA', 'FC',\n",
       "       'FCC', 'LINE', 'NUMBER_ONLY', 'P/PP', 'PC', 'PP', 'SC', 'SC/A4',\n",
       "       'SC/AH', 'SC/PARIS', 'SCO/W', 'SO/C', 'SO/PP', 'SOC', 'SOP',\n",
       "       'SOTON/O2', 'SOTON/OQ', 'SP', 'STON/O', 'STON/O2', 'SW/PP', 'W/C',\n",
       "       'WE/P', 'WEP'], dtype='<U11')"
      ]
     },
     "execution_count": 15,
     "metadata": {},
     "output_type": "execute_result"
    }
   ],
   "source": [
    "print(len(np.unique(ticket_prefixes)))\n",
    "np.unique(ticket_prefixes)"
   ]
  },
  {
   "cell_type": "code",
   "execution_count": 16,
   "metadata": {},
   "outputs": [],
   "source": [
    "test_ticket_prefixes = [ticket.split()[0] for ticket in test['Ticket']]\n",
    "for i in range(len(test_ticket_prefixes)):\n",
    "    try: \n",
    "        int(test_ticket_prefixes[i])\n",
    "        test_ticket_prefixes[i] = \"number_only\"\n",
    "    \n",
    "    except Exception:\n",
    "        pass\n",
    "\n",
    "test_ticket_prefixes = [s.replace(\".\", \"\") for s in test_ticket_prefixes]\n",
    "test_ticket_prefixes = [s.replace(\",\", \"\") for s in test_ticket_prefixes]\n",
    "test_ticket_prefixes = [s.upper() for s in test_ticket_prefixes]"
   ]
  },
  {
   "cell_type": "code",
   "execution_count": 17,
   "metadata": {},
   "outputs": [],
   "source": [
    "train['Ticket'] = ticket_prefixes\n",
    "test['Ticket'] = test_ticket_prefixes"
   ]
  },
  {
   "cell_type": "code",
   "execution_count": 18,
   "metadata": {},
   "outputs": [],
   "source": [
    "train = pd.concat([train, pd.get_dummies(train['Ticket']).filter(['PC', 'CA', 'NUMBER_ONLY'])], axis = 1)\n",
    "train.drop('Ticket', axis = 1, inplace = True)\n",
    "\n",
    "test = pd.concat([test, pd.get_dummies(test['Ticket']).filter(['PC', 'CA', 'NUMBER_ONLY'])], axis = 1)\n",
    "test.drop('Ticket', axis = 1, inplace = True)"
   ]
  },
  {
   "cell_type": "markdown",
   "metadata": {},
   "source": [
    "### Dealing with the Cabin feature"
   ]
  },
  {
   "cell_type": "markdown",
   "metadata": {},
   "source": [
    "Same as the *Ticket* feature. I will assume that the number doesn't have relevant information."
   ]
  },
  {
   "cell_type": "code",
   "execution_count": 19,
   "metadata": {},
   "outputs": [
    {
     "data": {
      "text/plain": [
       "array([nan, 'C85', 'C123', 'E46', 'G6', 'C103', 'D56', 'A6',\n",
       "       'C23 C25 C27', 'B78', 'D33', 'B30', 'C52', 'B28', 'C83', 'F33',\n",
       "       'F G73', 'E31', 'A5', 'D10 D12', 'D26', 'C110', 'B58 B60', 'E101',\n",
       "       'F E69', 'D47', 'B86', 'F2', 'C2', 'E33', 'B19', 'A7', 'C49', 'F4',\n",
       "       'A32', 'B4', 'B80', 'A31', 'D36', 'D15', 'C93', 'C78', 'D35',\n",
       "       'C87', 'B77', 'E67', 'B94', 'C125', 'C99', 'C118', 'D7', 'A19',\n",
       "       'B49', 'D', 'C22 C26', 'C106', 'C65', 'E36', 'C54',\n",
       "       'B57 B59 B63 B66', 'C7', 'E34', 'C32', 'B18', 'C124', 'C91', 'E40',\n",
       "       'T', 'C128', 'D37', 'B35', 'E50', 'C82', 'B96 B98', 'E10', 'E44',\n",
       "       'A34', 'C104', 'C111', 'C92', 'E38', 'D21', 'E12', 'E63', 'A14',\n",
       "       'B37', 'C30', 'D20', 'B79', 'E25', 'D46', 'B73', 'C95', 'B38',\n",
       "       'B39', 'B22', 'C86', 'C70', 'A16', 'C101', 'C68', 'A10', 'E68',\n",
       "       'B41', 'A20', 'D19', 'D50', 'D9', 'A23', 'B50', 'A26', 'D48',\n",
       "       'E58', 'C126', 'B71', 'B51 B53 B55', 'D49', 'B5', 'B20', 'F G63',\n",
       "       'C62 C64', 'E24', 'C90', 'C45', 'E8', 'B101', 'D45', 'C46', 'D30',\n",
       "       'E121', 'D11', 'E77', 'F38', 'B3', 'D6', 'B82 B84', 'D17', 'A36',\n",
       "       'B102', 'B69', 'E49', 'C47', 'D28', 'E17', 'A24', 'C50', 'B42',\n",
       "       'C148'], dtype=object)"
      ]
     },
     "execution_count": 19,
     "metadata": {},
     "output_type": "execute_result"
    }
   ],
   "source": [
    "train['Cabin'].unique()"
   ]
  },
  {
   "cell_type": "code",
   "execution_count": 20,
   "metadata": {},
   "outputs": [],
   "source": [
    "cabin_prefix = []\n",
    "for i in range(len(train['Cabin'])):\n",
    "    try:\n",
    "        cabin_prefix.append(train['Cabin'][i][0: 1: 1])\n",
    "    \n",
    "    except:\n",
    "        cabin_prefix.append(train['Cabin'][i])        "
   ]
  },
  {
   "cell_type": "code",
   "execution_count": 21,
   "metadata": {},
   "outputs": [
    {
     "data": {
      "text/plain": [
       "array(['A', 'B', 'C', 'D', 'E', 'F', 'G', 'T', 'nan'], dtype='<U32')"
      ]
     },
     "execution_count": 21,
     "metadata": {},
     "output_type": "execute_result"
    }
   ],
   "source": [
    "np.unique(cabin_prefix)"
   ]
  },
  {
   "cell_type": "code",
   "execution_count": 22,
   "metadata": {},
   "outputs": [],
   "source": [
    "cabin_test_prefix = []\n",
    "for i in range(len(test['Cabin'])):\n",
    "    try:\n",
    "        cabin_test_prefix.append(test['Cabin'][i][0: 1: 1])\n",
    "    \n",
    "    except:\n",
    "        cabin_test_prefix.append(test['Cabin'][i])"
   ]
  },
  {
   "cell_type": "code",
   "execution_count": 23,
   "metadata": {},
   "outputs": [],
   "source": [
    "train['Cabin'] = cabin_prefix\n",
    "test['Cabin'] = cabin_test_prefix"
   ]
  },
  {
   "cell_type": "code",
   "execution_count": 24,
   "metadata": {},
   "outputs": [],
   "source": [
    "train = pd.concat([train, pd.get_dummies(train['Cabin']).filter(['NaN', 'B', 'C'])], axis = 1)\n",
    "train.drop('Cabin', axis = 1, inplace = True)\n",
    "\n",
    "test = pd.concat([test, pd.get_dummies(test['Cabin']).filter(['NaN', 'B', 'C'])], axis = 1)\n",
    "test.drop('Cabin', axis = 1, inplace = True)"
   ]
  },
  {
   "cell_type": "markdown",
   "metadata": {},
   "source": [
    "## Pclass, Sex and Embarked variables"
   ]
  },
  {
   "cell_type": "code",
   "execution_count": 25,
   "metadata": {},
   "outputs": [],
   "source": [
    "train = pd.get_dummies(train, columns = ['Pclass', 'Sex', 'Embarked'])\n",
    "test = pd.get_dummies(test, columns = ['Pclass', 'Sex', 'Embarked'])"
   ]
  },
  {
   "cell_type": "markdown",
   "metadata": {},
   "source": [
    "## Imputer and Scaler"
   ]
  },
  {
   "cell_type": "code",
   "execution_count": 26,
   "metadata": {},
   "outputs": [
    {
     "name": "stdout",
     "output_type": "stream",
     "text": [
      "Wall time: 12 ms\n"
     ]
    }
   ],
   "source": [
    "%%time\n",
    "\n",
    "features = [col for col in train.columns if col not in ['Survived', 'PassengerId']]\n",
    "numerical_features = [col for col in features if col in ['Age', 'SibSp', 'Parch', 'Fare', 'n_missing']]\n",
    "\n",
    "pipe = Pipeline([\n",
    "        ('imputer', SimpleImputer(strategy='mean',missing_values=np.nan)),\n",
    "        (\"scaler\", StandardScaler())\n",
    "        ])\n",
    "\n",
    "train[numerical_features] = pipe.fit_transform(train[numerical_features])\n",
    "test[numerical_features] = pipe.transform(test[numerical_features])"
   ]
  },
  {
   "cell_type": "markdown",
   "metadata": {},
   "source": [
    "# Base Models"
   ]
  },
  {
   "cell_type": "markdown",
   "metadata": {},
   "source": [
    "## Light GBM"
   ]
  },
  {
   "cell_type": "code",
   "execution_count": 101,
   "metadata": {
    "scrolled": true
   },
   "outputs": [
    {
     "name": "stderr",
     "output_type": "stream",
     "text": [
      "\u001b[32m[I 2021-12-20 20:56:35,533]\u001b[0m A new study created in memory with name: no-name-e443085c-99de-4852-abc2-66bf999e67cb\u001b[0m\n",
      "\u001b[32m[I 2021-12-20 20:56:35,704]\u001b[0m Trial 0 finished with value: 0.8047078023978408 and parameters: {'lambda_l1': 3.1701460116821144e-06, 'lambda_l2': 0.00010970626361252692, 'num_leaves': 27, 'feature_fraction': 0.4896625492328683, 'bagging_fraction': 0.46106148942292696, 'bagging_freq': 2, 'min_child_samples': 57}. Best is trial 0 with value: 0.8047078023978408.\u001b[0m\n",
      "\u001b[32m[I 2021-12-20 20:56:35,904]\u001b[0m Trial 1 finished with value: 0.819295712761283 and parameters: {'lambda_l1': 1.99301573747084e-07, 'lambda_l2': 2.652645114970662e-05, 'num_leaves': 27, 'feature_fraction': 0.4685845858904837, 'bagging_fraction': 0.6878932252441168, 'bagging_freq': 6, 'min_child_samples': 49}. Best is trial 1 with value: 0.819295712761283.\u001b[0m\n",
      "\u001b[32m[I 2021-12-20 20:56:36,075]\u001b[0m Trial 2 finished with value: 0.811461929571276 and parameters: {'lambda_l1': 4.983195558115078, 'lambda_l2': 7.762244174091828e-07, 'num_leaves': 22, 'feature_fraction': 0.7911185610627941, 'bagging_fraction': 0.866810099826931, 'bagging_freq': 2, 'min_child_samples': 57}. Best is trial 1 with value: 0.819295712761283.\u001b[0m\n",
      "\u001b[32m[I 2021-12-20 20:56:36,228]\u001b[0m Trial 3 finished with value: 0.8058439520431863 and parameters: {'lambda_l1': 0.2320060512940866, 'lambda_l2': 9.139137577955801e-06, 'num_leaves': 4, 'feature_fraction': 0.6024193379494179, 'bagging_fraction': 0.8375761010143794, 'bagging_freq': 7, 'min_child_samples': 100}. Best is trial 1 with value: 0.819295712761283.\u001b[0m\n",
      "\u001b[32m[I 2021-12-20 20:56:36,433]\u001b[0m Trial 4 finished with value: 0.824913690289373 and parameters: {'lambda_l1': 3.3453668385407784e-06, 'lambda_l2': 2.1392429206419844e-05, 'num_leaves': 9, 'feature_fraction': 0.42399963929181933, 'bagging_fraction': 0.9693222861503954, 'bagging_freq': 4, 'min_child_samples': 65}. Best is trial 4 with value: 0.824913690289373.\u001b[0m\n",
      "\u001b[32m[I 2021-12-20 20:56:36,598]\u001b[0m Trial 5 finished with value: 0.8035967610319503 and parameters: {'lambda_l1': 0.10150126172106137, 'lambda_l2': 0.1949556867417437, 'num_leaves': 7, 'feature_fraction': 0.8274752166670771, 'bagging_fraction': 0.7132646215239145, 'bagging_freq': 6, 'min_child_samples': 81}. Best is trial 4 with value: 0.824913690289373.\u001b[0m\n",
      "\u001b[32m[I 2021-12-20 20:56:36,787]\u001b[0m Trial 6 finished with value: 0.8137028435126483 and parameters: {'lambda_l1': 0.7637221621503294, 'lambda_l2': 0.06128376450227655, 'num_leaves': 8, 'feature_fraction': 0.4197181608520334, 'bagging_fraction': 0.7898587549616014, 'bagging_freq': 6, 'min_child_samples': 69}. Best is trial 4 with value: 0.824913690289373.\u001b[0m\n",
      "\u001b[32m[I 2021-12-20 20:56:36,948]\u001b[0m Trial 7 finished with value: 0.8058565061829139 and parameters: {'lambda_l1': 9.319250500715621e-08, 'lambda_l2': 1.0557414437137704e-07, 'num_leaves': 23, 'feature_fraction': 0.4168567952100382, 'bagging_fraction': 0.542633336086678, 'bagging_freq': 2, 'min_child_samples': 88}. Best is trial 4 with value: 0.824913690289373.\u001b[0m\n",
      "\u001b[32m[I 2021-12-20 20:56:37,111]\u001b[0m Trial 8 finished with value: 0.8114556525014123 and parameters: {'lambda_l1': 0.08999990287204311, 'lambda_l2': 1.1160546966862522e-05, 'num_leaves': 11, 'feature_fraction': 0.873427125982686, 'bagging_fraction': 0.646051058365556, 'bagging_freq': 5, 'min_child_samples': 82}. Best is trial 4 with value: 0.824913690289373.\u001b[0m\n",
      "\u001b[32m[I 2021-12-20 20:56:37,266]\u001b[0m Trial 9 finished with value: 0.8013370158809867 and parameters: {'lambda_l1': 7.3259515686875005e-06, 'lambda_l2': 4.8141197585753125e-06, 'num_leaves': 12, 'feature_fraction': 0.8927365420214287, 'bagging_fraction': 0.4861557358523027, 'bagging_freq': 7, 'min_child_samples': 69}. Best is trial 4 with value: 0.824913690289373.\u001b[0m\n",
      "\u001b[32m[I 2021-12-20 20:56:37,615]\u001b[0m Trial 10 finished with value: 0.8248948590797817 and parameters: {'lambda_l1': 0.0004502895937418447, 'lambda_l2': 0.009174094129738904, 'num_leaves': 17, 'feature_fraction': 0.6585987885594916, 'bagging_fraction': 0.9541550241991773, 'bagging_freq': 4, 'min_child_samples': 21}. Best is trial 4 with value: 0.824913690289373.\u001b[0m\n",
      "\u001b[32m[I 2021-12-20 20:56:37,969]\u001b[0m Trial 11 finished with value: 0.8159060950348376 and parameters: {'lambda_l1': 0.0007238600576302492, 'lambda_l2': 0.0035514302071487174, 'num_leaves': 16, 'feature_fraction': 0.6457612154982176, 'bagging_fraction': 0.994260102533336, 'bagging_freq': 4, 'min_child_samples': 18}. Best is trial 4 with value: 0.824913690289373.\u001b[0m\n",
      "\u001b[32m[I 2021-12-20 20:56:38,284]\u001b[0m Trial 12 finished with value: 0.832772581758835 and parameters: {'lambda_l1': 0.000975866187520421, 'lambda_l2': 4.092593266045163, 'num_leaves': 17, 'feature_fraction': 0.9777940877319444, 'bagging_fraction': 0.9983619225013696, 'bagging_freq': 4, 'min_child_samples': 27}. Best is trial 12 with value: 0.832772581758835.\u001b[0m\n",
      "\u001b[32m[I 2021-12-20 20:56:38,569]\u001b[0m Trial 13 finished with value: 0.8316364321134895 and parameters: {'lambda_l1': 2.1852273210411526e-05, 'lambda_l2': 8.550798046599752, 'num_leaves': 13, 'feature_fraction': 0.996557097463683, 'bagging_fraction': 0.913943057360064, 'bagging_freq': 3, 'min_child_samples': 36}. Best is trial 12 with value: 0.832772581758835.\u001b[0m\n",
      "\u001b[32m[I 2021-12-20 20:56:38,854]\u001b[0m Trial 14 finished with value: 0.8237775406440274 and parameters: {'lambda_l1': 0.0047727710585845325, 'lambda_l2': 7.594746357703505, 'num_leaves': 20, 'feature_fraction': 0.9994364588936892, 'bagging_fraction': 0.8932622029922059, 'bagging_freq': 3, 'min_child_samples': 35}. Best is trial 12 with value: 0.832772581758835.\u001b[0m\n",
      "\u001b[32m[I 2021-12-20 20:56:39,162]\u001b[0m Trial 15 finished with value: 0.8282593685267716 and parameters: {'lambda_l1': 2.8591168845589834e-05, 'lambda_l2': 5.157387340642642, 'num_leaves': 14, 'feature_fraction': 0.9823525506857286, 'bagging_fraction': 0.9024373107371021, 'bagging_freq': 1, 'min_child_samples': 8}. Best is trial 12 with value: 0.832772581758835.\u001b[0m\n",
      "\u001b[32m[I 2021-12-20 20:56:39,456]\u001b[0m Trial 16 finished with value: 0.8249011361496453 and parameters: {'lambda_l1': 0.008905089283051, 'lambda_l2': 0.7453322232359957, 'num_leaves': 19, 'feature_fraction': 0.9308891240824197, 'bagging_fraction': 0.7884516542617592, 'bagging_freq': 3, 'min_child_samples': 34}. Best is trial 12 with value: 0.832772581758835.\u001b[0m\n",
      "\u001b[32m[I 2021-12-20 20:56:39,757]\u001b[0m Trial 17 finished with value: 0.8271357730211537 and parameters: {'lambda_l1': 9.568222265361027e-05, 'lambda_l2': 0.0020076860578697397, 'num_leaves': 32, 'feature_fraction': 0.7634360704875922, 'bagging_fraction': 0.9303049844571725, 'bagging_freq': 3, 'min_child_samples': 40}. Best is trial 12 with value: 0.832772581758835.\u001b[0m\n",
      "\u001b[32m[I 2021-12-20 20:56:39,948]\u001b[0m Trial 18 finished with value: 0.8294017952419811 and parameters: {'lambda_l1': 1.5236536854872006e-08, 'lambda_l2': 0.4874211314858557, 'num_leaves': 4, 'feature_fraction': 0.9412165536769973, 'bagging_fraction': 0.8027814342306087, 'bagging_freq': 5, 'min_child_samples': 27}. Best is trial 12 with value: 0.832772581758835.\u001b[0m\n",
      "\u001b[32m[I 2021-12-20 20:56:40,253]\u001b[0m Trial 19 finished with value: 0.8148013307388112 and parameters: {'lambda_l1': 0.0008265310876593555, 'lambda_l2': 0.047548121412319504, 'num_leaves': 14, 'feature_fraction': 0.7600481576881974, 'bagging_fraction': 0.6185069124611674, 'bagging_freq': 5, 'min_child_samples': 5}. Best is trial 12 with value: 0.832772581758835.\u001b[0m\n",
      "\u001b[32m[I 2021-12-20 20:56:40,536]\u001b[0m Trial 20 finished with value: 0.830525390747599 and parameters: {'lambda_l1': 0.009416638669758734, 'lambda_l2': 2.491431419020779, 'num_leaves': 24, 'feature_fraction': 0.8575769169756025, 'bagging_fraction': 0.9965774429490802, 'bagging_freq': 1, 'min_child_samples': 46}. Best is trial 12 with value: 0.832772581758835.\u001b[0m\n",
      "\u001b[32m[I 2021-12-20 20:56:40,803]\u001b[0m Trial 21 finished with value: 0.8271546042307453 and parameters: {'lambda_l1': 0.0035986902291797467, 'lambda_l2': 2.0112891266360746, 'num_leaves': 25, 'feature_fraction': 0.882850654706287, 'bagging_fraction': 0.9982060643214504, 'bagging_freq': 1, 'min_child_samples': 46}. Best is trial 12 with value: 0.832772581758835.\u001b[0m\n",
      "\u001b[32m[I 2021-12-20 20:56:41,090]\u001b[0m Trial 22 finished with value: 0.8350134957002071 and parameters: {'lambda_l1': 0.013600632756953265, 'lambda_l2': 8.265207522744744, 'num_leaves': 18, 'feature_fraction': 0.948755148157344, 'bagging_fraction': 0.9337432144077654, 'bagging_freq': 1, 'min_child_samples': 26}. Best is trial 22 with value: 0.8350134957002071.\u001b[0m\n"
     ]
    },
    {
     "name": "stderr",
     "output_type": "stream",
     "text": [
      "\u001b[32m[I 2021-12-20 20:56:41,411]\u001b[0m Trial 23 finished with value: 0.8350009415604795 and parameters: {'lambda_l1': 4.234077050498874e-05, 'lambda_l2': 9.203183679390227, 'num_leaves': 19, 'feature_fraction': 0.9508529578575722, 'bagging_fraction': 0.9228883373368187, 'bagging_freq': 3, 'min_child_samples': 25}. Best is trial 22 with value: 0.8350134957002071.\u001b[0m\n",
      "\u001b[32m[I 2021-12-20 20:56:41,779]\u001b[0m Trial 24 finished with value: 0.8181595631159375 and parameters: {'lambda_l1': 9.645508239046713e-05, 'lambda_l2': 0.13283834142165957, 'num_leaves': 19, 'feature_fraction': 0.9340310804541807, 'bagging_fraction': 0.7353266273016937, 'bagging_freq': 2, 'min_child_samples': 16}. Best is trial 22 with value: 0.8350134957002071.\u001b[0m\n",
      "\u001b[32m[I 2021-12-20 20:56:42,094]\u001b[0m Trial 25 finished with value: 0.8226539451384095 and parameters: {'lambda_l1': 0.020383766019438067, 'lambda_l2': 0.019323407426536206, 'num_leaves': 17, 'feature_fraction': 0.9263238810117319, 'bagging_fraction': 0.8522619074867007, 'bagging_freq': 3, 'min_child_samples': 27}. Best is trial 22 with value: 0.8350134957002071.\u001b[0m\n",
      "\u001b[32m[I 2021-12-20 20:56:42,426]\u001b[0m Trial 26 finished with value: 0.8271420500910175 and parameters: {'lambda_l1': 8.644723796488462e-07, 'lambda_l2': 0.8032443133253331, 'num_leaves': 21, 'feature_fraction': 0.8241898663526283, 'bagging_fraction': 0.9439131631099168, 'bagging_freq': 4, 'min_child_samples': 26}. Best is trial 22 with value: 0.8350134957002071.\u001b[0m\n",
      "\u001b[32m[I 2021-12-20 20:56:42,771]\u001b[0m Trial 27 finished with value: 0.8159123721047017 and parameters: {'lambda_l1': 0.00012630577752534647, 'lambda_l2': 0.00046011298354337103, 'num_leaves': 17, 'feature_fraction': 0.9580238887518376, 'bagging_fraction': 0.8724296116373242, 'bagging_freq': 1, 'min_child_samples': 11}. Best is trial 22 with value: 0.8350134957002071.\u001b[0m\n",
      "\u001b[32m[I 2021-12-20 20:56:43,164]\u001b[0m Trial 28 finished with value: 0.8260121775155358 and parameters: {'lambda_l1': 0.0008913253240350331, 'lambda_l2': 1.069996170158498, 'num_leaves': 31, 'feature_fraction': 0.7244985040267062, 'bagging_fraction': 0.8128952555074731, 'bagging_freq': 2, 'min_child_samples': 15}. Best is trial 22 with value: 0.8350134957002071.\u001b[0m\n",
      "\u001b[32m[I 2021-12-20 20:56:43,494]\u001b[0m Trial 29 finished with value: 0.8215177954930638 and parameters: {'lambda_l1': 0.026363900111418072, 'lambda_l2': 0.0003006623915255829, 'num_leaves': 26, 'feature_fraction': 0.5655400820620012, 'bagging_fraction': 0.7541064746888687, 'bagging_freq': 5, 'min_child_samples': 23}. Best is trial 22 with value: 0.8350134957002071.\u001b[0m\n",
      "\u001b[32m[I 2021-12-20 20:56:43,769]\u001b[0m Trial 30 finished with value: 0.824913690289373 and parameters: {'lambda_l1': 0.0020912050742163003, 'lambda_l2': 9.935752331991678, 'num_leaves': 15, 'feature_fraction': 0.8977525474337346, 'bagging_fraction': 0.9435191395371778, 'bagging_freq': 3, 'min_child_samples': 39}. Best is trial 22 with value: 0.8350134957002071.\u001b[0m\n",
      "\u001b[32m[I 2021-12-20 20:56:44,062]\u001b[0m Trial 31 finished with value: 0.8260247316552632 and parameters: {'lambda_l1': 1.4200729112401872e-05, 'lambda_l2': 0.2749681952364131, 'num_leaves': 13, 'feature_fraction': 0.9872137217021678, 'bagging_fraction': 0.9123556855141838, 'bagging_freq': 2, 'min_child_samples': 32}. Best is trial 22 with value: 0.8350134957002071.\u001b[0m\n",
      "\u001b[32m[I 2021-12-20 20:56:44,334]\u001b[0m Trial 32 finished with value: 0.8316301550436256 and parameters: {'lambda_l1': 1.2660264013982556e-06, 'lambda_l2': 2.9250917165757118, 'num_leaves': 10, 'feature_fraction': 0.9672581230397099, 'bagging_fraction': 0.8990710299132952, 'bagging_freq': 3, 'min_child_samples': 41}. Best is trial 22 with value: 0.8350134957002071.\u001b[0m\n",
      "\u001b[32m[I 2021-12-20 20:56:44,587]\u001b[0m Trial 33 finished with value: 0.8249074132195091 and parameters: {'lambda_l1': 4.128975662744572e-05, 'lambda_l2': 9.688269761694116, 'num_leaves': 29, 'feature_fraction': 0.8446957053125701, 'bagging_fraction': 0.9629751504906482, 'bagging_freq': 4, 'min_child_samples': 54}. Best is trial 22 with value: 0.8350134957002071.\u001b[0m\n",
      "\u001b[32m[I 2021-12-20 20:56:44,900]\u001b[0m Trial 34 finished with value: 0.8271420500910175 and parameters: {'lambda_l1': 0.000196247063384163, 'lambda_l2': 1.7783513539460878, 'num_leaves': 18, 'feature_fraction': 0.9098276037288381, 'bagging_fraction': 0.842575973131356, 'bagging_freq': 3, 'min_child_samples': 30}. Best is trial 22 with value: 0.8350134957002071.\u001b[0m\n",
      "\u001b[32m[I 2021-12-20 20:56:45,174]\u001b[0m Trial 35 finished with value: 0.8316489862532169 and parameters: {'lambda_l1': 3.229195991477809, 'lambda_l2': 1.6784612472820825e-08, 'num_leaves': 22, 'feature_fraction': 0.9975024862778801, 'bagging_fraction': 0.8811350457215397, 'bagging_freq': 4, 'min_child_samples': 22}. Best is trial 22 with value: 0.8350134957002071.\u001b[0m\n",
      "\u001b[32m[I 2021-12-20 20:56:45,499]\u001b[0m Trial 36 finished with value: 0.823758709434436 and parameters: {'lambda_l1': 1.3773640045036186, 'lambda_l2': 7.770868197097981e-08, 'num_leaves': 22, 'feature_fraction': 0.5262213148106525, 'bagging_fraction': 0.8849368566218885, 'bagging_freq': 4, 'min_child_samples': 14}. Best is trial 22 with value: 0.8350134957002071.\u001b[0m\n",
      "\u001b[32m[I 2021-12-20 20:56:45,706]\u001b[0m Trial 37 finished with value: 0.813740505931831 and parameters: {'lambda_l1': 9.918218517064892, 'lambda_l2': 5.483090252641561e-07, 'num_leaves': 28, 'feature_fraction': 0.8002185072187612, 'bagging_fraction': 0.9640102520504763, 'bagging_freq': 5, 'min_child_samples': 21}. Best is trial 22 with value: 0.8350134957002071.\u001b[0m\n",
      "\u001b[32m[I 2021-12-20 20:56:45,960]\u001b[0m Trial 38 finished with value: 0.8260372857949909 and parameters: {'lambda_l1': 0.9850594376760226, 'lambda_l2': 5.8202185117874517e-05, 'num_leaves': 21, 'feature_fraction': 0.9541848623028483, 'bagging_fraction': 0.8603748701240914, 'bagging_freq': 4, 'min_child_samples': 50}. Best is trial 22 with value: 0.8350134957002071.\u001b[0m\n",
      "\u001b[32m[I 2021-12-20 20:56:46,384]\u001b[0m Trial 39 finished with value: 0.8125353085179838 and parameters: {'lambda_l1': 0.18673887990223575, 'lambda_l2': 1.3192766205698993e-06, 'num_leaves': 23, 'feature_fraction': 0.9596757430854251, 'bagging_fraction': 0.9256617490252748, 'bagging_freq': 5, 'min_child_samples': 11}. Best is trial 22 with value: 0.8350134957002071.\u001b[0m\n",
      "\u001b[32m[I 2021-12-20 20:56:46,702]\u001b[0m Trial 40 finished with value: 0.8237775406440273 and parameters: {'lambda_l1': 0.04078213076384076, 'lambda_l2': 1.2481526791257485e-08, 'num_leaves': 19, 'feature_fraction': 0.9065145796367343, 'bagging_fraction': 0.826828960916854, 'bagging_freq': 6, 'min_child_samples': 29}. Best is trial 22 with value: 0.8350134957002071.\u001b[0m\n",
      "\u001b[32m[I 2021-12-20 20:56:47,004]\u001b[0m Trial 41 finished with value: 0.8349946644906158 and parameters: {'lambda_l1': 5.397569956538742e-06, 'lambda_l2': 0.2700572950130522, 'num_leaves': 15, 'feature_fraction': 0.9997691543159758, 'bagging_fraction': 0.972044741887163, 'bagging_freq': 2, 'min_child_samples': 38}. Best is trial 22 with value: 0.8350134957002071.\u001b[0m\n",
      "\u001b[32m[I 2021-12-20 20:56:47,339]\u001b[0m Trial 42 finished with value: 0.8237649865042996 and parameters: {'lambda_l1': 3.967701874118677e-06, 'lambda_l2': 0.13624201977529352, 'num_leaves': 15, 'feature_fraction': 0.9986513497124622, 'bagging_fraction': 0.9801997046443367, 'bagging_freq': 2, 'min_child_samples': 23}. Best is trial 22 with value: 0.8350134957002071.\u001b[0m\n",
      "\u001b[32m[I 2021-12-20 20:56:47,545]\u001b[0m Trial 43 finished with value: 0.8159312033142928 and parameters: {'lambda_l1': 1.0277237868288826e-07, 'lambda_l2': 0.03469106124226617, 'num_leaves': 6, 'feature_fraction': 0.960781680878601, 'bagging_fraction': 0.40091005703735905, 'bagging_freq': 1, 'min_child_samples': 61}. Best is trial 22 with value: 0.8350134957002071.\u001b[0m\n",
      "\u001b[32m[I 2021-12-20 20:56:47,803]\u001b[0m Trial 44 finished with value: 0.8282781997363632 and parameters: {'lambda_l1': 4.3367928500795475e-07, 'lambda_l2': 0.4428858840686346, 'num_leaves': 16, 'feature_fraction': 0.9326160313781849, 'bagging_fraction': 0.6736025189921975, 'bagging_freq': 2, 'min_child_samples': 45}. Best is trial 22 with value: 0.8350134957002071.\u001b[0m\n",
      "\u001b[32m[I 2021-12-20 20:56:48,106]\u001b[0m Trial 45 finished with value: 0.8361433682756889 and parameters: {'lambda_l1': 1.9889505016269857, 'lambda_l2': 3.364314045338632, 'num_leaves': 21, 'feature_fraction': 0.8601897730936408, 'bagging_fraction': 0.9727571017047786, 'bagging_freq': 2, 'min_child_samples': 20}. Best is trial 45 with value: 0.8361433682756889.\u001b[0m\n"
     ]
    },
    {
     "name": "stderr",
     "output_type": "stream",
     "text": [
      "\u001b[32m[I 2021-12-20 20:56:48,449]\u001b[0m Trial 46 finished with value: 0.8260121775155358 and parameters: {'lambda_l1': 0.4508959965760269, 'lambda_l2': 3.0150690618847142, 'num_leaves': 20, 'feature_fraction': 0.8646363810786181, 'bagging_fraction': 0.9635717381521471, 'bagging_freq': 2, 'min_child_samples': 19}. Best is trial 45 with value: 0.8361433682756889.\u001b[0m\n",
      "\u001b[32m[I 2021-12-20 20:56:48,726]\u001b[0m Trial 47 finished with value: 0.8294017952419811 and parameters: {'lambda_l1': 7.324830701872487e-06, 'lambda_l2': 0.10881148617801857, 'num_leaves': 18, 'feature_fraction': 0.8249939578380058, 'bagging_fraction': 0.5844907348184092, 'bagging_freq': 1, 'min_child_samples': 36}. Best is trial 45 with value: 0.8361433682756889.\u001b[0m\n",
      "\u001b[32m[I 2021-12-20 20:56:49,087]\u001b[0m Trial 48 finished with value: 0.8282593685267716 and parameters: {'lambda_l1': 0.00032242167040169063, 'lambda_l2': 1.0417332826635384, 'num_leaves': 16, 'feature_fraction': 0.9037573393433203, 'bagging_fraction': 0.9272864371029559, 'bagging_freq': 2, 'min_child_samples': 32}. Best is trial 45 with value: 0.8361433682756889.\u001b[0m\n",
      "\u001b[32m[I 2021-12-20 20:56:49,304]\u001b[0m Trial 49 finished with value: 0.8136965664427844 and parameters: {'lambda_l1': 0.0625898153995596, 'lambda_l2': 3.910742671637796, 'num_leaves': 11, 'feature_fraction': 0.975732728796375, 'bagging_fraction': 0.9785700461881721, 'bagging_freq': 1, 'min_child_samples': 96}. Best is trial 45 with value: 0.8361433682756889.\u001b[0m\n",
      "\u001b[32m[I 2021-12-20 20:56:49,609]\u001b[0m Trial 50 finished with value: 0.8316364321134895 and parameters: {'lambda_l1': 0.0016723764234602638, 'lambda_l2': 0.35824792870498257, 'num_leaves': 20, 'feature_fraction': 0.8784272975119946, 'bagging_fraction': 0.9442883948531687, 'bagging_freq': 2, 'min_child_samples': 37}. Best is trial 45 with value: 0.8361433682756889.\u001b[0m\n",
      "\u001b[32m[I 2021-12-20 20:56:49,884]\u001b[0m Trial 51 finished with value: 0.8271483271608814 and parameters: {'lambda_l1': 2.9454277060263285, 'lambda_l2': 1.5747339275594914, 'num_leaves': 22, 'feature_fraction': 0.9833612815233063, 'bagging_fraction': 0.8828150136990578, 'bagging_freq': 3, 'min_child_samples': 24}. Best is trial 45 with value: 0.8361433682756889.\u001b[0m\n",
      "\u001b[32m[I 2021-12-20 20:56:50,109]\u001b[0m Trial 52 finished with value: 0.8126106333563493 and parameters: {'lambda_l1': 5.810576438016573, 'lambda_l2': 4.446001989892673, 'num_leaves': 24, 'feature_fraction': 0.9200887592764055, 'bagging_fraction': 0.9801744752120203, 'bagging_freq': 4, 'min_child_samples': 19}. Best is trial 45 with value: 0.8361433682756889.\u001b[0m\n",
      "\u001b[32m[I 2021-12-20 20:56:50,424]\u001b[0m Trial 53 finished with value: 0.8237775406440274 and parameters: {'lambda_l1': 2.249689627506289, 'lambda_l2': 0.010273132501740601, 'num_leaves': 18, 'feature_fraction': 0.9476917524671672, 'bagging_fraction': 0.9162623644993599, 'bagging_freq': 3, 'min_child_samples': 12}. Best is trial 45 with value: 0.8361433682756889.\u001b[0m\n",
      "\u001b[32m[I 2021-12-20 20:56:50,758]\u001b[0m Trial 54 finished with value: 0.8271420500910175 and parameters: {'lambda_l1': 0.2254302523555822, 'lambda_l2': 0.0018006758547293954, 'num_leaves': 21, 'feature_fraction': 0.9978020890392836, 'bagging_fraction': 0.9441272412938865, 'bagging_freq': 4, 'min_child_samples': 30}. Best is trial 45 with value: 0.8361433682756889.\u001b[0m\n",
      "\u001b[32m[I 2021-12-20 20:56:51,030]\u001b[0m Trial 55 finished with value: 0.8260247316552635 and parameters: {'lambda_l1': 0.6593963406680297, 'lambda_l2': 5.272757448291778, 'num_leaves': 14, 'feature_fraction': 0.46283208162535694, 'bagging_fraction': 0.9993098524179213, 'bagging_freq': 2, 'min_child_samples': 42}. Best is trial 45 with value: 0.8361433682756889.\u001b[0m\n",
      "\u001b[32m[I 2021-12-20 20:56:51,431]\u001b[0m Trial 56 finished with value: 0.8203941999874458 and parameters: {'lambda_l1': 5.97384304604611e-05, 'lambda_l2': 0.5141463906277086, 'num_leaves': 23, 'feature_fraction': 0.6503072835082895, 'bagging_fraction': 0.8943220363546439, 'bagging_freq': 3, 'min_child_samples': 6}. Best is trial 45 with value: 0.8361433682756889.\u001b[0m\n",
      "\u001b[32m[I 2021-12-20 20:56:51,779]\u001b[0m Trial 57 finished with value: 0.81814700897621 and parameters: {'lambda_l1': 0.010223763819063366, 'lambda_l2': 1.1893844468849102e-08, 'num_leaves': 19, 'feature_fraction': 0.9753736168310644, 'bagging_fraction': 0.9732575441661777, 'bagging_freq': 1, 'min_child_samples': 19}. Best is trial 45 with value: 0.8361433682756889.\u001b[0m\n",
      "\u001b[32m[I 2021-12-20 20:56:52,076]\u001b[0m Trial 58 finished with value: 0.8192706044818279 and parameters: {'lambda_l1': 1.8238491519272354e-06, 'lambda_l2': 1.4812535690672515, 'num_leaves': 15, 'feature_fraction': 0.945454421454934, 'bagging_fraction': 0.7602835195271009, 'bagging_freq': 7, 'min_child_samples': 24}. Best is trial 45 with value: 0.8361433682756889.\u001b[0m\n",
      "\u001b[32m[I 2021-12-20 20:56:52,372]\u001b[0m Trial 59 finished with value: 0.8282656455966355 and parameters: {'lambda_l1': 1.7063041381197465e-05, 'lambda_l2': 6.4478063098171295e-06, 'num_leaves': 12, 'feature_fraction': 0.6873177813177695, 'bagging_fraction': 0.8661471424851125, 'bagging_freq': 4, 'min_child_samples': 27}. Best is trial 45 with value: 0.8361433682756889.\u001b[0m\n",
      "\u001b[32m[I 2021-12-20 20:56:52,689]\u001b[0m Trial 60 finished with value: 0.8327600276191074 and parameters: {'lambda_l1': 0.3551203199907069, 'lambda_l2': 3.0389686047603658e-05, 'num_leaves': 25, 'feature_fraction': 0.8440719005042345, 'bagging_fraction': 0.9355565229711824, 'bagging_freq': 2, 'min_child_samples': 33}. Best is trial 45 with value: 0.8361433682756889.\u001b[0m\n",
      "\u001b[32m[I 2021-12-20 20:56:52,991]\u001b[0m Trial 61 finished with value: 0.8305191136777352 and parameters: {'lambda_l1': 0.39970337242638315, 'lambda_l2': 1.4713926749718348e-07, 'num_leaves': 27, 'feature_fraction': 0.7715645509131535, 'bagging_fraction': 0.9327099559592696, 'bagging_freq': 2, 'min_child_samples': 33}. Best is trial 45 with value: 0.8361433682756889.\u001b[0m\n",
      "\u001b[32m[I 2021-12-20 20:56:53,368]\u001b[0m Trial 62 finished with value: 0.8181658401858012 and parameters: {'lambda_l1': 0.12140606012786614, 'lambda_l2': 1.7960132495629937e-05, 'num_leaves': 25, 'feature_fraction': 0.8441153122964805, 'bagging_fraction': 0.9568662544427574, 'bagging_freq': 1, 'min_child_samples': 16}. Best is trial 45 with value: 0.8361433682756889.\u001b[0m\n",
      "\u001b[32m[I 2021-12-20 20:56:53,645]\u001b[0m Trial 63 finished with value: 0.8271420500910175 and parameters: {'lambda_l1': 2.4178524603044353, 'lambda_l2': 3.1849308695622345e-06, 'num_leaves': 17, 'feature_fraction': 0.7352867534518883, 'bagging_fraction': 0.9096505684064425, 'bagging_freq': 3, 'min_child_samples': 27}. Best is trial 45 with value: 0.8361433682756889.\u001b[0m\n",
      "\u001b[32m[I 2021-12-20 20:56:53,871]\u001b[0m Trial 64 finished with value: 0.8103571652752495 and parameters: {'lambda_l1': 5.618660109810799, 'lambda_l2': 0.0006812479051054308, 'num_leaves': 20, 'feature_fraction': 0.800849413692994, 'bagging_fraction': 0.9845898875926897, 'bagging_freq': 2, 'min_child_samples': 75}. Best is trial 45 with value: 0.8361433682756889.\u001b[0m\n",
      "\u001b[32m[I 2021-12-20 20:56:54,218]\u001b[0m Trial 65 finished with value: 0.8271420500910176 and parameters: {'lambda_l1': 8.179055162764585e-06, 'lambda_l2': 4.783399545389128, 'num_leaves': 25, 'feature_fraction': 0.8944195857686629, 'bagging_fraction': 0.9472787034025516, 'bagging_freq': 3, 'min_child_samples': 22}. Best is trial 45 with value: 0.8361433682756889.\u001b[0m\n",
      "\u001b[32m[I 2021-12-20 20:56:54,499]\u001b[0m Trial 66 finished with value: 0.8316427091833531 and parameters: {'lambda_l1': 1.2831372897286752, 'lambda_l2': 7.630354090795308e-05, 'num_leaves': 22, 'feature_fraction': 0.9270481135281009, 'bagging_fraction': 0.9258403659630527, 'bagging_freq': 2, 'min_child_samples': 38}. Best is trial 45 with value: 0.8361433682756889.\u001b[0m\n",
      "\u001b[32m[I 2021-12-20 20:56:54,806]\u001b[0m Trial 67 finished with value: 0.8271483271608812 and parameters: {'lambda_l1': 0.00017476367888126217, 'lambda_l2': 3.1260194379384924e-08, 'num_leaves': 24, 'feature_fraction': 0.9750634352866514, 'bagging_fraction': 0.8810987370862274, 'bagging_freq': 1, 'min_child_samples': 33}. Best is trial 45 with value: 0.8361433682756889.\u001b[0m\n",
      "\u001b[32m[I 2021-12-20 20:56:55,093]\u001b[0m Trial 68 finished with value: 0.8293892411022534 and parameters: {'lambda_l1': 0.004463813161757993, 'lambda_l2': 2.783654414695771e-07, 'num_leaves': 18, 'feature_fraction': 0.941270813666795, 'bagging_fraction': 0.9970847553949659, 'bagging_freq': 4, 'min_child_samples': 43}. Best is trial 45 with value: 0.8361433682756889.\u001b[0m\n"
     ]
    },
    {
     "name": "stderr",
     "output_type": "stream",
     "text": [
      "\u001b[32m[I 2021-12-20 20:56:55,418]\u001b[0m Trial 69 finished with value: 0.8293955181721172 and parameters: {'lambda_l1': 0.015426443618766794, 'lambda_l2': 0.7466164595121573, 'num_leaves': 26, 'feature_fraction': 0.8492295371346668, 'bagging_fraction': 0.9602580337188541, 'bagging_freq': 2, 'min_child_samples': 31}. Best is trial 45 with value: 0.8361433682756889.\u001b[0m\n",
      "\u001b[32m[I 2021-12-20 20:56:55,630]\u001b[0m Trial 70 finished with value: 0.8081162513338773 and parameters: {'lambda_l1': 9.860673523493556, 'lambda_l2': 0.00021543440086082462, 'num_leaves': 21, 'feature_fraction': 0.8757399124654687, 'bagging_fraction': 0.8271246377960115, 'bagging_freq': 3, 'min_child_samples': 9}. Best is trial 45 with value: 0.8361433682756889.\u001b[0m\n",
      "\u001b[32m[I 2021-12-20 20:56:55,918]\u001b[0m Trial 71 finished with value: 0.8327600276191074 and parameters: {'lambda_l1': 1.3118229031165072, 'lambda_l2': 6.01387849279297e-05, 'num_leaves': 23, 'feature_fraction': 0.9194403660778248, 'bagging_fraction': 0.922632559222382, 'bagging_freq': 2, 'min_child_samples': 38}. Best is trial 45 with value: 0.8361433682756889.\u001b[0m\n",
      "\u001b[32m[I 2021-12-20 20:56:56,185]\u001b[0m Trial 72 finished with value: 0.8226602222082731 and parameters: {'lambda_l1': 0.3460639892143608, 'lambda_l2': 2.598917726723461e-05, 'num_leaves': 23, 'feature_fraction': 0.9163355113273903, 'bagging_fraction': 0.901239538669155, 'bagging_freq': 2, 'min_child_samples': 49}. Best is trial 45 with value: 0.8361433682756889.\u001b[0m\n",
      "\u001b[32m[I 2021-12-20 20:56:56,462]\u001b[0m Trial 73 finished with value: 0.8316301550436258 and parameters: {'lambda_l1': 0.6606335722609248, 'lambda_l2': 0.00018810026789475195, 'num_leaves': 20, 'feature_fraction': 0.9624885635138789, 'bagging_fraction': 0.9348362482923516, 'bagging_freq': 1, 'min_child_samples': 35}. Best is trial 45 with value: 0.8361433682756889.\u001b[0m\n",
      "\u001b[32m[I 2021-12-20 20:56:56,734]\u001b[0m Trial 74 finished with value: 0.8316552633230808 and parameters: {'lambda_l1': 3.3230226804867113, 'lambda_l2': 2.704219421260441e-06, 'num_leaves': 17, 'feature_fraction': 0.9993844006254667, 'bagging_fraction': 0.9129200786239872, 'bagging_freq': 2, 'min_child_samples': 25}. Best is trial 45 with value: 0.8361433682756889.\u001b[0m\n",
      "\u001b[32m[I 2021-12-20 20:56:57,054]\u001b[0m Trial 75 finished with value: 0.8271420500910175 and parameters: {'lambda_l1': 0.14280309338209374, 'lambda_l2': 4.601834127824004e-06, 'num_leaves': 16, 'feature_fraction': 0.883386914639005, 'bagging_fraction': 0.9091072604489262, 'bagging_freq': 2, 'min_child_samples': 26}. Best is trial 45 with value: 0.8361433682756889.\u001b[0m\n",
      "\u001b[32m[I 2021-12-20 20:56:57,331]\u001b[0m Trial 76 finished with value: 0.8293892411022534 and parameters: {'lambda_l1': 0.054300105422878574, 'lambda_l2': 3.611444064158511e-05, 'num_leaves': 17, 'feature_fraction': 0.6006149736800732, 'bagging_fraction': 0.5364146797280693, 'bagging_freq': 2, 'min_child_samples': 29}. Best is trial 45 with value: 0.8361433682756889.\u001b[0m\n",
      "\u001b[32m[I 2021-12-20 20:56:57,605]\u001b[0m Trial 77 finished with value: 0.8327600276191074 and parameters: {'lambda_l1': 0.0005861909168322806, 'lambda_l2': 1.4835162428457636e-06, 'num_leaves': 13, 'feature_fraction': 0.9833015654042055, 'bagging_fraction': 0.853835662372888, 'bagging_freq': 1, 'min_child_samples': 39}. Best is trial 45 with value: 0.8361433682756889.\u001b[0m\n",
      "\u001b[32m[I 2021-12-20 20:56:57,888]\u001b[0m Trial 78 finished with value: 0.8260184545853996 and parameters: {'lambda_l1': 0.0004982816925397905, 'lambda_l2': 1.2496516397682575e-05, 'num_leaves': 13, 'feature_fraction': 0.9395735169735421, 'bagging_fraction': 0.8552215013323726, 'bagging_freq': 1, 'min_child_samples': 39}. Best is trial 45 with value: 0.8361433682756889.\u001b[0m\n",
      "\u001b[32m[I 2021-12-20 20:56:58,125]\u001b[0m Trial 79 finished with value: 0.8260435628648546 and parameters: {'lambda_l1': 0.002107510795249201, 'lambda_l2': 7.625136088222407, 'num_leaves': 10, 'feature_fraction': 0.9130574671321824, 'bagging_fraction': 0.9669399789560003, 'bagging_freq': 1, 'min_child_samples': 56}. Best is trial 45 with value: 0.8361433682756889.\u001b[0m\n",
      "\u001b[32m[I 2021-12-20 20:56:58,397]\u001b[0m Trial 80 finished with value: 0.8271420500910175 and parameters: {'lambda_l1': 4.3747304388156004e-05, 'lambda_l2': 0.0007600752020856158, 'num_leaves': 14, 'feature_fraction': 0.9676045805524515, 'bagging_fraction': 0.9841993731058521, 'bagging_freq': 1, 'min_child_samples': 45}. Best is trial 45 with value: 0.8361433682756889.\u001b[0m\n",
      "\u001b[32m[I 2021-12-20 20:56:58,699]\u001b[0m Trial 81 finished with value: 0.8305065595380077 and parameters: {'lambda_l1': 1.5139391394029749, 'lambda_l2': 1.661583699769767e-06, 'num_leaves': 16, 'feature_fraction': 0.9794320583767516, 'bagging_fraction': 0.9529078996798185, 'bagging_freq': 2, 'min_child_samples': 35}. Best is trial 45 with value: 0.8361433682756889.\u001b[0m\n",
      "\u001b[32m[I 2021-12-20 20:56:59,059]\u001b[0m Trial 82 finished with value: 0.8282593685267716 and parameters: {'lambda_l1': 7.440737015054107e-05, 'lambda_l2': 7.383112778819291e-07, 'num_leaves': 15, 'feature_fraction': 0.9858321799405256, 'bagging_fraction': 0.9190369664286383, 'bagging_freq': 2, 'min_child_samples': 25}. Best is trial 45 with value: 0.8361433682756889.\u001b[0m\n",
      "\u001b[32m[I 2021-12-20 20:56:59,382]\u001b[0m Trial 83 finished with value: 0.8260247316552632 and parameters: {'lambda_l1': 0.0009367161668105754, 'lambda_l2': 2.5024027792437303e-06, 'num_leaves': 18, 'feature_fraction': 0.9539467400265783, 'bagging_fraction': 0.936509547049897, 'bagging_freq': 1, 'min_child_samples': 29}. Best is trial 45 with value: 0.8361433682756889.\u001b[0m\n",
      "\u001b[32m[I 2021-12-20 20:56:59,657]\u001b[0m Trial 84 finished with value: 0.8316364321134893 and parameters: {'lambda_l1': 0.00024041731617151086, 'lambda_l2': 8.82340710465181e-06, 'num_leaves': 12, 'feature_fraction': 0.9996887308558792, 'bagging_fraction': 0.845651156036175, 'bagging_freq': 2, 'min_child_samples': 49}. Best is trial 45 with value: 0.8361433682756889.\u001b[0m\n",
      "\u001b[32m[I 2021-12-20 20:57:00,006]\u001b[0m Trial 85 finished with value: 0.8226476680685456 and parameters: {'lambda_l1': 3.830443194127885e-06, 'lambda_l2': 2.577835232905101, 'num_leaves': 17, 'feature_fraction': 0.930955147126095, 'bagging_fraction': 0.8966879067296705, 'bagging_freq': 1, 'min_child_samples': 18}. Best is trial 45 with value: 0.8361433682756889.\u001b[0m\n",
      "\u001b[32m[I 2021-12-20 20:57:00,311]\u001b[0m Trial 86 finished with value: 0.8305065595380077 and parameters: {'lambda_l1': 3.0266245477616947e-05, 'lambda_l2': 0.00011344842389352831, 'num_leaves': 19, 'feature_fraction': 0.9517176895361953, 'bagging_fraction': 0.969504584054261, 'bagging_freq': 2, 'min_child_samples': 41}. Best is trial 45 with value: 0.8361433682756889.\u001b[0m\n",
      "\u001b[32m[I 2021-12-20 20:57:00,561]\u001b[0m Trial 87 finished with value: 0.8238026489234824 and parameters: {'lambda_l1': 3.8139819878722903, 'lambda_l2': 0.1940964851593981, 'num_leaves': 13, 'feature_fraction': 0.9706972679811737, 'bagging_fraction': 0.8717697625407135, 'bagging_freq': 3, 'min_child_samples': 38}. Best is trial 45 with value: 0.8361433682756889.\u001b[0m\n",
      "\u001b[32m[I 2021-12-20 20:57:00,893]\u001b[0m Trial 88 finished with value: 0.8305065595380077 and parameters: {'lambda_l1': 0.031612354635130395, 'lambda_l2': 3.901444706442752e-05, 'num_leaves': 19, 'feature_fraction': 0.8972177422034538, 'bagging_fraction': 0.9192253701894612, 'bagging_freq': 2, 'min_child_samples': 34}. Best is trial 45 with value: 0.8361433682756889.\u001b[0m\n",
      "\u001b[32m[I 2021-12-20 20:57:01,147]\u001b[0m Trial 89 finished with value: 0.8327663046889711 and parameters: {'lambda_l1': 0.0013668673249543728, 'lambda_l2': 5.536488876552397, 'num_leaves': 7, 'feature_fraction': 0.8104712728621467, 'bagging_fraction': 0.7006332247465021, 'bagging_freq': 3, 'min_child_samples': 21}. Best is trial 45 with value: 0.8361433682756889.\u001b[0m\n",
      "\u001b[32m[I 2021-12-20 20:57:01,349]\u001b[0m Trial 90 finished with value: 0.8126043562864854 and parameters: {'lambda_l1': 0.0013400834590078382, 'lambda_l2': 6.370442524046954, 'num_leaves': 3, 'feature_fraction': 0.807665108532194, 'bagging_fraction': 0.7159779716295871, 'bagging_freq': 3, 'min_child_samples': 21}. Best is trial 45 with value: 0.8361433682756889.\u001b[0m\n",
      "\u001b[32m[I 2021-12-20 20:57:01,651]\u001b[0m Trial 91 finished with value: 0.8271483271608814 and parameters: {'lambda_l1': 0.00046221300309262045, 'lambda_l2': 9.674276600092098, 'num_leaves': 21, 'feature_fraction': 0.986565407847759, 'bagging_fraction': 0.6366602251563103, 'bagging_freq': 3, 'min_child_samples': 14}. Best is trial 45 with value: 0.8361433682756889.\u001b[0m\n"
     ]
    },
    {
     "name": "stderr",
     "output_type": "stream",
     "text": [
      "\u001b[32m[I 2021-12-20 20:57:01,903]\u001b[0m Trial 92 finished with value: 0.8338836231247255 and parameters: {'lambda_l1': 0.006667839201038783, 'lambda_l2': 1.3228896638444816, 'num_leaves': 7, 'feature_fraction': 0.8644664129706086, 'bagging_fraction': 0.774274128494688, 'bagging_freq': 2, 'min_child_samples': 31}. Best is trial 45 with value: 0.8361433682756889.\u001b[0m\n",
      "\u001b[32m[I 2021-12-20 20:57:02,155]\u001b[0m Trial 93 finished with value: 0.827154604230745 and parameters: {'lambda_l1': 0.003031513459399014, 'lambda_l2': 3.1361448242382823, 'num_leaves': 7, 'feature_fraction': 0.868599084891322, 'bagging_fraction': 0.7799593608058623, 'bagging_freq': 6, 'min_child_samples': 28}. Best is trial 45 with value: 0.8361433682756889.\u001b[0m\n",
      "\u001b[32m[I 2021-12-20 20:57:02,390]\u001b[0m Trial 94 finished with value: 0.8294017952419811 and parameters: {'lambda_l1': 0.012093489008145272, 'lambda_l2': 2.0620804646086617, 'num_leaves': 6, 'feature_fraction': 0.8147070384449225, 'bagging_fraction': 0.6848694351829142, 'bagging_freq': 5, 'min_child_samples': 31}. Best is trial 45 with value: 0.8361433682756889.\u001b[0m\n",
      "\u001b[32m[I 2021-12-20 20:57:02,653]\u001b[0m Trial 95 finished with value: 0.8305002824681438 and parameters: {'lambda_l1': 0.0007516773539171907, 'lambda_l2': 1.1335222422719688, 'num_leaves': 8, 'feature_fraction': 0.8403388471504333, 'bagging_fraction': 0.7125360343687861, 'bagging_freq': 3, 'min_child_samples': 17}. Best is trial 45 with value: 0.8361433682756889.\u001b[0m\n",
      "\u001b[32m[I 2021-12-20 20:57:02,885]\u001b[0m Trial 96 finished with value: 0.8305128366078713 and parameters: {'lambda_l1': 0.00012612392894496548, 'lambda_l2': 0.5730646562180811, 'num_leaves': 6, 'feature_fraction': 0.8607367679855371, 'bagging_fraction': 0.7964334264302401, 'bagging_freq': 1, 'min_child_samples': 36}. Best is trial 45 with value: 0.8361433682756889.\u001b[0m\n",
      "\u001b[32m[I 2021-12-20 20:57:03,112]\u001b[0m Trial 97 finished with value: 0.8204318624066286 and parameters: {'lambda_l1': 0.005026478913260156, 'lambda_l2': 3.74296734841509, 'num_leaves': 5, 'feature_fraction': 0.8267425017156079, 'bagging_fraction': 0.7756733944917431, 'bagging_freq': 2, 'min_child_samples': 21}. Best is trial 45 with value: 0.8361433682756889.\u001b[0m\n",
      "\u001b[32m[I 2021-12-20 20:57:03,300]\u001b[0m Trial 98 finished with value: 0.8125980792166215 and parameters: {'lambda_l1': 0.006710238018385831, 'lambda_l2': 6.219690993724762, 'num_leaves': 2, 'feature_fraction': 0.914737157275848, 'bagging_fraction': 0.8140578895662226, 'bagging_freq': 2, 'min_child_samples': 43}. Best is trial 45 with value: 0.8361433682756889.\u001b[0m\n",
      "\u001b[32m[I 2021-12-20 20:57:03,554]\u001b[0m Trial 99 finished with value: 0.8327537505492437 and parameters: {'lambda_l1': 0.0031107159835989068, 'lambda_l2': 1.191637381427899, 'num_leaves': 9, 'feature_fraction': 0.7852976293353255, 'bagging_fraction': 0.7496722789173537, 'bagging_freq': 1, 'min_child_samples': 32}. Best is trial 45 with value: 0.8361433682756889.\u001b[0m\n",
      "\u001b[32m[I 2021-12-20 20:57:03,834]\u001b[0m Trial 100 finished with value: 0.8293829640323895 and parameters: {'lambda_l1': 0.00152447141282391, 'lambda_l2': 0.2617440804024399, 'num_leaves': 9, 'feature_fraction': 0.8852435619564928, 'bagging_fraction': 0.6603411836149123, 'bagging_freq': 2, 'min_child_samples': 24}. Best is trial 45 with value: 0.8361433682756889.\u001b[0m\n",
      "\u001b[32m[I 2021-12-20 20:57:04,071]\u001b[0m Trial 101 finished with value: 0.8316301550436258 and parameters: {'lambda_l1': 0.00033443430704870904, 'lambda_l2': 1.642702029288195, 'num_leaves': 8, 'feature_fraction': 0.7803262031170032, 'bagging_fraction': 0.7373453488919824, 'bagging_freq': 1, 'min_child_samples': 32}. Best is trial 45 with value: 0.8361433682756889.\u001b[0m\n",
      "\u001b[32m[I 2021-12-20 20:57:04,294]\u001b[0m Trial 102 finished with value: 0.8282719226664993 and parameters: {'lambda_l1': 0.0028499466389722496, 'lambda_l2': 2.341248524424427, 'num_leaves': 5, 'feature_fraction': 0.7906644090897319, 'bagging_fraction': 0.7191807555436209, 'bagging_freq': 1, 'min_child_samples': 30}. Best is trial 45 with value: 0.8361433682756889.\u001b[0m\n",
      "\u001b[32m[I 2021-12-20 20:57:04,547]\u001b[0m Trial 103 finished with value: 0.8338836231247253 and parameters: {'lambda_l1': 0.0011101756359213196, 'lambda_l2': 1.0509608578727938, 'num_leaves': 9, 'feature_fraction': 0.7603679336222613, 'bagging_fraction': 0.7352032293588273, 'bagging_freq': 1, 'min_child_samples': 40}. Best is trial 45 with value: 0.8361433682756889.\u001b[0m\n",
      "\u001b[32m[I 2021-12-20 20:57:04,793]\u001b[0m Trial 104 finished with value: 0.8316552633230808 and parameters: {'lambda_l1': 1.241966541063459e-08, 'lambda_l2': 0.08455957521109632, 'num_leaves': 11, 'feature_fraction': 0.7452195854211863, 'bagging_fraction': 0.6985449239312302, 'bagging_freq': 1, 'min_child_samples': 47}. Best is trial 45 with value: 0.8361433682756889.\u001b[0m\n",
      "\u001b[32m[I 2021-12-20 20:57:05,041]\u001b[0m Trial 105 finished with value: 0.8237900947837551 and parameters: {'lambda_l1': 0.0011249445594190594, 'lambda_l2': 4.739466422026936, 'num_leaves': 7, 'feature_fraction': 0.7574169913884595, 'bagging_fraction': 0.728774021382391, 'bagging_freq': 1, 'min_child_samples': 40}. Best is trial 45 with value: 0.8361433682756889.\u001b[0m\n",
      "\u001b[32m[I 2021-12-20 20:57:05,311]\u001b[0m Trial 106 finished with value: 0.826037285794991 and parameters: {'lambda_l1': 0.0065704918938272105, 'lambda_l2': 9.847130314816516, 'num_leaves': 10, 'feature_fraction': 0.6900915631183714, 'bagging_fraction': 0.9870543356075243, 'bagging_freq': 2, 'min_child_samples': 37}. Best is trial 45 with value: 0.8361433682756889.\u001b[0m\n",
      "\u001b[32m[I 2021-12-20 20:57:05,661]\u001b[0m Trial 107 finished with value: 0.8305191136777352 and parameters: {'lambda_l1': 6.062448415162132e-07, 'lambda_l2': 0.6404929339355792, 'num_leaves': 24, 'feature_fraction': 0.8379491513581815, 'bagging_fraction': 0.9560558952042995, 'bagging_freq': 3, 'min_child_samples': 27}. Best is trial 45 with value: 0.8361433682756889.\u001b[0m\n",
      "\u001b[32m[I 2021-12-20 20:57:06,067]\u001b[0m Trial 108 finished with value: 0.8215303496327915 and parameters: {'lambda_l1': 0.002289595734582417, 'lambda_l2': 0.3129399585365133, 'num_leaves': 26, 'feature_fraction': 0.8561248696839647, 'bagging_fraction': 0.940571419962736, 'bagging_freq': 4, 'min_child_samples': 20}. Best is trial 45 with value: 0.8361433682756889.\u001b[0m\n",
      "\u001b[32m[I 2021-12-20 20:57:06,324]\u001b[0m Trial 109 finished with value: 0.8305316678174629 and parameters: {'lambda_l1': 0.0005334844048599723, 'lambda_l2': 0.9773310348681717, 'num_leaves': 29, 'feature_fraction': 0.7204797546384005, 'bagging_fraction': 0.6972272102033146, 'bagging_freq': 2, 'min_child_samples': 43}. Best is trial 45 with value: 0.8361433682756889.\u001b[0m\n",
      "\u001b[32m[I 2021-12-20 20:57:06,541]\u001b[0m Trial 110 finished with value: 0.8327851358985626 and parameters: {'lambda_l1': 1.236056991744119e-05, 'lambda_l2': 2.9007007559415205, 'num_leaves': 5, 'feature_fraction': 0.9273756907566175, 'bagging_fraction': 0.7621587158438891, 'bagging_freq': 1, 'min_child_samples': 52}. Best is trial 45 with value: 0.8361433682756889.\u001b[0m\n",
      "\u001b[32m[I 2021-12-20 20:57:06,774]\u001b[0m Trial 111 finished with value: 0.8271734354403366 and parameters: {'lambda_l1': 1.2977792503969836e-05, 'lambda_l2': 3.0942293405177166, 'num_leaves': 7, 'feature_fraction': 0.8140065692086151, 'bagging_fraction': 0.7627346023348194, 'bagging_freq': 1, 'min_child_samples': 62}. Best is trial 45 with value: 0.8361433682756889.\u001b[0m\n",
      "\u001b[32m[I 2021-12-20 20:57:06,984]\u001b[0m Trial 112 finished with value: 0.8226476680685456 and parameters: {'lambda_l1': 2.1892796501993327e-06, 'lambda_l2': 1.673581711698737, 'num_leaves': 4, 'feature_fraction': 0.9259803029899516, 'bagging_fraction': 0.8125770107394561, 'bagging_freq': 1, 'min_child_samples': 23}. Best is trial 45 with value: 0.8361433682756889.\u001b[0m\n",
      "\u001b[32m[I 2021-12-20 20:57:07,212]\u001b[0m Trial 113 finished with value: 0.8170547988199107 and parameters: {'lambda_l1': 7.698222967245175e-06, 'lambda_l2': 5.682982880429198, 'num_leaves': 6, 'feature_fraction': 0.943346742438154, 'bagging_fraction': 0.6751553410637394, 'bagging_freq': 1, 'min_child_samples': 53}. Best is trial 45 with value: 0.8361433682756889.\u001b[0m\n",
      "\u001b[32m[I 2021-12-20 20:57:07,442]\u001b[0m Trial 114 finished with value: 0.827154604230745 and parameters: {'lambda_l1': 0.07123243411663212, 'lambda_l2': 3.71585498765383, 'num_leaves': 5, 'feature_fraction': 0.8900772947494174, 'bagging_fraction': 0.7365893865497823, 'bagging_freq': 1, 'min_child_samples': 40}. Best is trial 45 with value: 0.8361433682756889.\u001b[0m\n"
     ]
    },
    {
     "name": "stderr",
     "output_type": "stream",
     "text": [
      "\u001b[32m[I 2021-12-20 20:57:07,718]\u001b[0m Trial 115 finished with value: 0.8282656455966355 and parameters: {'lambda_l1': 5.6467296226804035e-06, 'lambda_l2': 0.8517671418756679, 'num_leaves': 9, 'feature_fraction': 0.8352612023360108, 'bagging_fraction': 0.9872847612592144, 'bagging_freq': 2, 'min_child_samples': 35}. Best is trial 45 with value: 0.8361433682756889.\u001b[0m\n",
      "\u001b[32m[I 2021-12-20 20:57:07,988]\u001b[0m Trial 116 finished with value: 0.8316364321134895 and parameters: {'lambda_l1': 2.0053443400612985e-05, 'lambda_l2': 1.9535268873387677, 'num_leaves': 8, 'feature_fraction': 0.9629478122492122, 'bagging_fraction': 0.7462059428768427, 'bagging_freq': 2, 'min_child_samples': 34}. Best is trial 45 with value: 0.8361433682756889.\u001b[0m\n",
      "\u001b[32m[I 2021-12-20 20:57:08,185]\u001b[0m Trial 117 finished with value: 0.8137028435126483 and parameters: {'lambda_l1': 0.01870466476286103, 'lambda_l2': 7.218409383924657, 'num_leaves': 3, 'feature_fraction': 0.908353780938965, 'bagging_fraction': 0.975665764346415, 'bagging_freq': 1, 'min_child_samples': 47}. Best is trial 45 with value: 0.8361433682756889.\u001b[0m\n",
      "\u001b[32m[I 2021-12-20 20:57:08,424]\u001b[0m Trial 118 finished with value: 0.8159312033142928 and parameters: {'lambda_l1': 0.00021483870780879432, 'lambda_l2': 0.0021775065227868885, 'num_leaves': 16, 'feature_fraction': 0.8743014959249965, 'bagging_fraction': 0.7714586910140093, 'bagging_freq': 2, 'min_child_samples': 71}. Best is trial 45 with value: 0.8361433682756889.\u001b[0m\n",
      "\u001b[32m[I 2021-12-20 20:57:08,686]\u001b[0m Trial 119 finished with value: 0.8316427091833531 and parameters: {'lambda_l1': 0.0005967113672172029, 'lambda_l2': 2.3703111201727523, 'num_leaves': 23, 'feature_fraction': 0.9388064615692752, 'bagging_fraction': 0.8289251429004199, 'bagging_freq': 4, 'min_child_samples': 51}. Best is trial 45 with value: 0.8361433682756889.\u001b[0m\n",
      "\u001b[32m[I 2021-12-20 20:57:08,990]\u001b[0m Trial 120 finished with value: 0.8406126420187057 and parameters: {'lambda_l1': 1.083904032481251, 'lambda_l2': 0.4306807101486625, 'num_leaves': 21, 'feature_fraction': 0.9887771596354723, 'bagging_fraction': 0.791222958826244, 'bagging_freq': 1, 'min_child_samples': 26}. Best is trial 120 with value: 0.8406126420187057.\u001b[0m\n",
      "\u001b[32m[I 2021-12-20 20:57:09,266]\u001b[0m Trial 121 finished with value: 0.8372544096415793 and parameters: {'lambda_l1': 1.9874129002580496, 'lambda_l2': 1.1658634084660953, 'num_leaves': 18, 'feature_fraction': 0.9863497731606471, 'bagging_fraction': 0.7897048227738366, 'bagging_freq': 1, 'min_child_samples': 26}. Best is trial 120 with value: 0.8406126420187057.\u001b[0m\n",
      "\u001b[32m[I 2021-12-20 20:57:09,547]\u001b[0m Trial 122 finished with value: 0.8327600276191074 and parameters: {'lambda_l1': 1.612355641171475, 'lambda_l2': 1.2198973318416981, 'num_leaves': 18, 'feature_fraction': 0.983511719951708, 'bagging_fraction': 0.7867429858295, 'bagging_freq': 1, 'min_child_samples': 26}. Best is trial 120 with value: 0.8406126420187057.\u001b[0m\n",
      "\u001b[32m[I 2021-12-20 20:57:09,855]\u001b[0m Trial 123 finished with value: 0.836137091205825 and parameters: {'lambda_l1': 1.0135506977548003, 'lambda_l2': 0.39965530655123105, 'num_leaves': 20, 'feature_fraction': 0.9711924822891091, 'bagging_fraction': 0.792184262183216, 'bagging_freq': 1, 'min_child_samples': 26}. Best is trial 120 with value: 0.8406126420187057.\u001b[0m\n",
      "\u001b[32m[I 2021-12-20 20:57:10,177]\u001b[0m Trial 124 finished with value: 0.8338710689849979 and parameters: {'lambda_l1': 0.9876870665329803, 'lambda_l2': 0.48781142008097317, 'num_leaves': 20, 'feature_fraction': 0.9561582603536904, 'bagging_fraction': 0.7673554357147307, 'bagging_freq': 1, 'min_child_samples': 23}. Best is trial 120 with value: 0.8406126420187057.\u001b[0m\n",
      "\u001b[32m[I 2021-12-20 20:57:10,501]\u001b[0m Trial 125 finished with value: 0.828253091456908 and parameters: {'lambda_l1': 0.8213776859628986, 'lambda_l2': 0.1708977173101156, 'num_leaves': 20, 'feature_fraction': 0.9553151086184386, 'bagging_fraction': 0.7986798551955665, 'bagging_freq': 1, 'min_child_samples': 23}. Best is trial 120 with value: 0.8406126420187057.\u001b[0m\n",
      "\u001b[32m[I 2021-12-20 20:57:10,802]\u001b[0m Trial 126 finished with value: 0.8338710689849979 and parameters: {'lambda_l1': 0.5856469487310387, 'lambda_l2': 0.044235232849768095, 'num_leaves': 20, 'feature_fraction': 0.9670010148249876, 'bagging_fraction': 0.759761758806625, 'bagging_freq': 1, 'min_child_samples': 28}. Best is trial 120 with value: 0.8406126420187057.\u001b[0m\n"
     ]
    },
    {
     "ename": "KeyboardInterrupt",
     "evalue": "",
     "output_type": "error",
     "traceback": [
      "\u001b[1;31m---------------------------------------------------------------------------\u001b[0m",
      "\u001b[1;31mKeyboardInterrupt\u001b[0m                         Traceback (most recent call last)",
      "\u001b[1;32m<ipython-input-101-a6b7f4e955c9>\u001b[0m in \u001b[0;36m<module>\u001b[1;34m\u001b[0m\n\u001b[0;32m     36\u001b[0m \u001b[1;31m# 3. Create a study object and optimize the objective function.\u001b[0m\u001b[1;33m\u001b[0m\u001b[1;33m\u001b[0m\u001b[1;33m\u001b[0m\u001b[0m\n\u001b[0;32m     37\u001b[0m \u001b[0mstudy\u001b[0m \u001b[1;33m=\u001b[0m \u001b[0moptuna\u001b[0m\u001b[1;33m.\u001b[0m\u001b[0mcreate_study\u001b[0m\u001b[1;33m(\u001b[0m\u001b[0mdirection\u001b[0m\u001b[1;33m=\u001b[0m\u001b[1;34m'maximize'\u001b[0m\u001b[1;33m)\u001b[0m\u001b[1;33m\u001b[0m\u001b[1;33m\u001b[0m\u001b[0m\n\u001b[1;32m---> 38\u001b[1;33m \u001b[0mstudy\u001b[0m\u001b[1;33m.\u001b[0m\u001b[0moptimize\u001b[0m\u001b[1;33m(\u001b[0m\u001b[0mobjective\u001b[0m\u001b[1;33m,\u001b[0m \u001b[0mn_trials\u001b[0m\u001b[1;33m=\u001b[0m\u001b[1;36m1000\u001b[0m\u001b[1;33m)\u001b[0m\u001b[1;33m\u001b[0m\u001b[1;33m\u001b[0m\u001b[0m\n\u001b[0m",
      "\u001b[1;32mF:\\Python\\Python37\\lib\\site-packages\\optuna\\study\\study.py\u001b[0m in \u001b[0;36moptimize\u001b[1;34m(self, func, n_trials, timeout, n_jobs, catch, callbacks, gc_after_trial, show_progress_bar)\u001b[0m\n\u001b[0;32m    407\u001b[0m             \u001b[0mcallbacks\u001b[0m\u001b[1;33m=\u001b[0m\u001b[0mcallbacks\u001b[0m\u001b[1;33m,\u001b[0m\u001b[1;33m\u001b[0m\u001b[1;33m\u001b[0m\u001b[0m\n\u001b[0;32m    408\u001b[0m             \u001b[0mgc_after_trial\u001b[0m\u001b[1;33m=\u001b[0m\u001b[0mgc_after_trial\u001b[0m\u001b[1;33m,\u001b[0m\u001b[1;33m\u001b[0m\u001b[1;33m\u001b[0m\u001b[0m\n\u001b[1;32m--> 409\u001b[1;33m             \u001b[0mshow_progress_bar\u001b[0m\u001b[1;33m=\u001b[0m\u001b[0mshow_progress_bar\u001b[0m\u001b[1;33m,\u001b[0m\u001b[1;33m\u001b[0m\u001b[1;33m\u001b[0m\u001b[0m\n\u001b[0m\u001b[0;32m    410\u001b[0m         )\n\u001b[0;32m    411\u001b[0m \u001b[1;33m\u001b[0m\u001b[0m\n",
      "\u001b[1;32mF:\\Python\\Python37\\lib\\site-packages\\optuna\\study\\_optimize.py\u001b[0m in \u001b[0;36m_optimize\u001b[1;34m(study, func, n_trials, timeout, n_jobs, catch, callbacks, gc_after_trial, show_progress_bar)\u001b[0m\n\u001b[0;32m     74\u001b[0m                 \u001b[0mreseed_sampler_rng\u001b[0m\u001b[1;33m=\u001b[0m\u001b[1;32mFalse\u001b[0m\u001b[1;33m,\u001b[0m\u001b[1;33m\u001b[0m\u001b[1;33m\u001b[0m\u001b[0m\n\u001b[0;32m     75\u001b[0m                 \u001b[0mtime_start\u001b[0m\u001b[1;33m=\u001b[0m\u001b[1;32mNone\u001b[0m\u001b[1;33m,\u001b[0m\u001b[1;33m\u001b[0m\u001b[1;33m\u001b[0m\u001b[0m\n\u001b[1;32m---> 76\u001b[1;33m                 \u001b[0mprogress_bar\u001b[0m\u001b[1;33m=\u001b[0m\u001b[0mprogress_bar\u001b[0m\u001b[1;33m,\u001b[0m\u001b[1;33m\u001b[0m\u001b[1;33m\u001b[0m\u001b[0m\n\u001b[0m\u001b[0;32m     77\u001b[0m             )\n\u001b[0;32m     78\u001b[0m         \u001b[1;32melse\u001b[0m\u001b[1;33m:\u001b[0m\u001b[1;33m\u001b[0m\u001b[1;33m\u001b[0m\u001b[0m\n",
      "\u001b[1;32mF:\\Python\\Python37\\lib\\site-packages\\optuna\\study\\_optimize.py\u001b[0m in \u001b[0;36m_optimize_sequential\u001b[1;34m(study, func, n_trials, timeout, catch, callbacks, gc_after_trial, reseed_sampler_rng, time_start, progress_bar)\u001b[0m\n\u001b[0;32m    161\u001b[0m \u001b[1;33m\u001b[0m\u001b[0m\n\u001b[0;32m    162\u001b[0m         \u001b[1;32mtry\u001b[0m\u001b[1;33m:\u001b[0m\u001b[1;33m\u001b[0m\u001b[1;33m\u001b[0m\u001b[0m\n\u001b[1;32m--> 163\u001b[1;33m             \u001b[0mtrial\u001b[0m \u001b[1;33m=\u001b[0m \u001b[0m_run_trial\u001b[0m\u001b[1;33m(\u001b[0m\u001b[0mstudy\u001b[0m\u001b[1;33m,\u001b[0m \u001b[0mfunc\u001b[0m\u001b[1;33m,\u001b[0m \u001b[0mcatch\u001b[0m\u001b[1;33m)\u001b[0m\u001b[1;33m\u001b[0m\u001b[1;33m\u001b[0m\u001b[0m\n\u001b[0m\u001b[0;32m    164\u001b[0m         \u001b[1;32mexcept\u001b[0m \u001b[0mException\u001b[0m\u001b[1;33m:\u001b[0m\u001b[1;33m\u001b[0m\u001b[1;33m\u001b[0m\u001b[0m\n\u001b[0;32m    165\u001b[0m             \u001b[1;32mraise\u001b[0m\u001b[1;33m\u001b[0m\u001b[1;33m\u001b[0m\u001b[0m\n",
      "\u001b[1;32mF:\\Python\\Python37\\lib\\site-packages\\optuna\\study\\_optimize.py\u001b[0m in \u001b[0;36m_run_trial\u001b[1;34m(study, func, catch)\u001b[0m\n\u001b[0;32m    211\u001b[0m \u001b[1;33m\u001b[0m\u001b[0m\n\u001b[0;32m    212\u001b[0m     \u001b[1;32mtry\u001b[0m\u001b[1;33m:\u001b[0m\u001b[1;33m\u001b[0m\u001b[1;33m\u001b[0m\u001b[0m\n\u001b[1;32m--> 213\u001b[1;33m         \u001b[0mvalue_or_values\u001b[0m \u001b[1;33m=\u001b[0m \u001b[0mfunc\u001b[0m\u001b[1;33m(\u001b[0m\u001b[0mtrial\u001b[0m\u001b[1;33m)\u001b[0m\u001b[1;33m\u001b[0m\u001b[1;33m\u001b[0m\u001b[0m\n\u001b[0m\u001b[0;32m    214\u001b[0m     \u001b[1;32mexcept\u001b[0m \u001b[0mexceptions\u001b[0m\u001b[1;33m.\u001b[0m\u001b[0mTrialPruned\u001b[0m \u001b[1;32mas\u001b[0m \u001b[0me\u001b[0m\u001b[1;33m:\u001b[0m\u001b[1;33m\u001b[0m\u001b[1;33m\u001b[0m\u001b[0m\n\u001b[0;32m    215\u001b[0m         \u001b[1;31m# TODO(mamu): Handle multi-objective cases.\u001b[0m\u001b[1;33m\u001b[0m\u001b[1;33m\u001b[0m\u001b[1;33m\u001b[0m\u001b[0m\n",
      "\u001b[1;32m<ipython-input-101-a6b7f4e955c9>\u001b[0m in \u001b[0;36mobjective\u001b[1;34m(trial)\u001b[0m\n\u001b[0;32m     26\u001b[0m         \u001b[0mdtrain\u001b[0m \u001b[1;33m=\u001b[0m \u001b[0mlgb\u001b[0m\u001b[1;33m.\u001b[0m\u001b[0mDataset\u001b[0m\u001b[1;33m(\u001b[0m\u001b[0mtrain\u001b[0m\u001b[1;33m[\u001b[0m\u001b[0mfeatures\u001b[0m\u001b[1;33m]\u001b[0m\u001b[1;33m.\u001b[0m\u001b[0miloc\u001b[0m\u001b[1;33m[\u001b[0m\u001b[0mtrain_ix\u001b[0m\u001b[1;33m,\u001b[0m\u001b[1;33m:\u001b[0m\u001b[1;33m]\u001b[0m\u001b[1;33m,\u001b[0m \u001b[0mlabel\u001b[0m \u001b[1;33m=\u001b[0m \u001b[0mtrain\u001b[0m\u001b[1;33m[\u001b[0m\u001b[1;34m'Survived'\u001b[0m\u001b[1;33m]\u001b[0m\u001b[1;33m.\u001b[0m\u001b[0miloc\u001b[0m\u001b[1;33m[\u001b[0m\u001b[0mtrain_ix\u001b[0m\u001b[1;33m]\u001b[0m\u001b[1;33m)\u001b[0m\u001b[1;33m\u001b[0m\u001b[1;33m\u001b[0m\u001b[0m\n\u001b[0;32m     27\u001b[0m \u001b[1;33m\u001b[0m\u001b[0m\n\u001b[1;32m---> 28\u001b[1;33m         \u001b[0mgbm\u001b[0m \u001b[1;33m=\u001b[0m \u001b[0mlgb\u001b[0m\u001b[1;33m.\u001b[0m\u001b[0mtrain\u001b[0m\u001b[1;33m(\u001b[0m\u001b[0mparam\u001b[0m\u001b[1;33m,\u001b[0m \u001b[0mdtrain\u001b[0m\u001b[1;33m)\u001b[0m\u001b[1;33m\u001b[0m\u001b[1;33m\u001b[0m\u001b[0m\n\u001b[0m\u001b[0;32m     29\u001b[0m         \u001b[0mpreds\u001b[0m \u001b[1;33m=\u001b[0m \u001b[0mnp\u001b[0m\u001b[1;33m.\u001b[0m\u001b[0mrint\u001b[0m\u001b[1;33m(\u001b[0m\u001b[0mgbm\u001b[0m\u001b[1;33m.\u001b[0m\u001b[0mpredict\u001b[0m\u001b[1;33m(\u001b[0m\u001b[0mtrain\u001b[0m\u001b[1;33m[\u001b[0m\u001b[0mfeatures\u001b[0m\u001b[1;33m]\u001b[0m\u001b[1;33m.\u001b[0m\u001b[0miloc\u001b[0m\u001b[1;33m[\u001b[0m\u001b[0mtest_ix\u001b[0m\u001b[1;33m]\u001b[0m\u001b[1;33m)\u001b[0m\u001b[1;33m)\u001b[0m\u001b[1;33m\u001b[0m\u001b[1;33m\u001b[0m\u001b[0m\n\u001b[0;32m     30\u001b[0m \u001b[1;33m\u001b[0m\u001b[0m\n",
      "\u001b[1;32mF:\\Python\\Python37\\lib\\site-packages\\lightgbm\\engine.py\u001b[0m in \u001b[0;36mtrain\u001b[1;34m(params, train_set, num_boost_round, valid_sets, valid_names, fobj, feval, init_model, feature_name, categorical_feature, early_stopping_rounds, evals_result, verbose_eval, learning_rates, keep_training_booster, callbacks)\u001b[0m\n\u001b[0;32m    270\u001b[0m     \u001b[1;31m# construct booster\u001b[0m\u001b[1;33m\u001b[0m\u001b[1;33m\u001b[0m\u001b[1;33m\u001b[0m\u001b[0m\n\u001b[0;32m    271\u001b[0m     \u001b[1;32mtry\u001b[0m\u001b[1;33m:\u001b[0m\u001b[1;33m\u001b[0m\u001b[1;33m\u001b[0m\u001b[0m\n\u001b[1;32m--> 272\u001b[1;33m         \u001b[0mbooster\u001b[0m \u001b[1;33m=\u001b[0m \u001b[0mBooster\u001b[0m\u001b[1;33m(\u001b[0m\u001b[0mparams\u001b[0m\u001b[1;33m=\u001b[0m\u001b[0mparams\u001b[0m\u001b[1;33m,\u001b[0m \u001b[0mtrain_set\u001b[0m\u001b[1;33m=\u001b[0m\u001b[0mtrain_set\u001b[0m\u001b[1;33m)\u001b[0m\u001b[1;33m\u001b[0m\u001b[1;33m\u001b[0m\u001b[0m\n\u001b[0m\u001b[0;32m    273\u001b[0m         \u001b[1;32mif\u001b[0m \u001b[0mis_valid_contain_train\u001b[0m\u001b[1;33m:\u001b[0m\u001b[1;33m\u001b[0m\u001b[1;33m\u001b[0m\u001b[0m\n\u001b[0;32m    274\u001b[0m             \u001b[0mbooster\u001b[0m\u001b[1;33m.\u001b[0m\u001b[0mset_train_data_name\u001b[0m\u001b[1;33m(\u001b[0m\u001b[0mtrain_data_name\u001b[0m\u001b[1;33m)\u001b[0m\u001b[1;33m\u001b[0m\u001b[1;33m\u001b[0m\u001b[0m\n",
      "\u001b[1;32mF:\\Python\\Python37\\lib\\site-packages\\lightgbm\\basic.py\u001b[0m in \u001b[0;36m__init__\u001b[1;34m(self, params, train_set, model_file, model_str, silent)\u001b[0m\n\u001b[0;32m   2603\u001b[0m                 )\n\u001b[0;32m   2604\u001b[0m             \u001b[1;31m# construct booster object\u001b[0m\u001b[1;33m\u001b[0m\u001b[1;33m\u001b[0m\u001b[1;33m\u001b[0m\u001b[0m\n\u001b[1;32m-> 2605\u001b[1;33m             \u001b[0mtrain_set\u001b[0m\u001b[1;33m.\u001b[0m\u001b[0mconstruct\u001b[0m\u001b[1;33m(\u001b[0m\u001b[1;33m)\u001b[0m\u001b[1;33m\u001b[0m\u001b[1;33m\u001b[0m\u001b[0m\n\u001b[0m\u001b[0;32m   2606\u001b[0m             \u001b[1;31m# copy the parameters from train_set\u001b[0m\u001b[1;33m\u001b[0m\u001b[1;33m\u001b[0m\u001b[1;33m\u001b[0m\u001b[0m\n\u001b[0;32m   2607\u001b[0m             \u001b[0mparams\u001b[0m\u001b[1;33m.\u001b[0m\u001b[0mupdate\u001b[0m\u001b[1;33m(\u001b[0m\u001b[0mtrain_set\u001b[0m\u001b[1;33m.\u001b[0m\u001b[0mget_params\u001b[0m\u001b[1;33m(\u001b[0m\u001b[1;33m)\u001b[0m\u001b[1;33m)\u001b[0m\u001b[1;33m\u001b[0m\u001b[1;33m\u001b[0m\u001b[0m\n",
      "\u001b[1;32mF:\\Python\\Python37\\lib\\site-packages\\lightgbm\\basic.py\u001b[0m in \u001b[0;36mconstruct\u001b[1;34m(self)\u001b[0m\n\u001b[0;32m   1817\u001b[0m                                 \u001b[0minit_score\u001b[0m\u001b[1;33m=\u001b[0m\u001b[0mself\u001b[0m\u001b[1;33m.\u001b[0m\u001b[0minit_score\u001b[0m\u001b[1;33m,\u001b[0m \u001b[0mpredictor\u001b[0m\u001b[1;33m=\u001b[0m\u001b[0mself\u001b[0m\u001b[1;33m.\u001b[0m\u001b[0m_predictor\u001b[0m\u001b[1;33m,\u001b[0m\u001b[1;33m\u001b[0m\u001b[1;33m\u001b[0m\u001b[0m\n\u001b[0;32m   1818\u001b[0m                                 \u001b[0msilent\u001b[0m\u001b[1;33m=\u001b[0m\u001b[0mself\u001b[0m\u001b[1;33m.\u001b[0m\u001b[0msilent\u001b[0m\u001b[1;33m,\u001b[0m \u001b[0mfeature_name\u001b[0m\u001b[1;33m=\u001b[0m\u001b[0mself\u001b[0m\u001b[1;33m.\u001b[0m\u001b[0mfeature_name\u001b[0m\u001b[1;33m,\u001b[0m\u001b[1;33m\u001b[0m\u001b[1;33m\u001b[0m\u001b[0m\n\u001b[1;32m-> 1819\u001b[1;33m                                 categorical_feature=self.categorical_feature, params=self.params)\n\u001b[0m\u001b[0;32m   1820\u001b[0m             \u001b[1;32mif\u001b[0m \u001b[0mself\u001b[0m\u001b[1;33m.\u001b[0m\u001b[0mfree_raw_data\u001b[0m\u001b[1;33m:\u001b[0m\u001b[1;33m\u001b[0m\u001b[1;33m\u001b[0m\u001b[0m\n\u001b[0;32m   1821\u001b[0m                 \u001b[0mself\u001b[0m\u001b[1;33m.\u001b[0m\u001b[0mdata\u001b[0m \u001b[1;33m=\u001b[0m \u001b[1;32mNone\u001b[0m\u001b[1;33m\u001b[0m\u001b[1;33m\u001b[0m\u001b[0m\n",
      "\u001b[1;32mF:\\Python\\Python37\\lib\\site-packages\\lightgbm\\basic.py\u001b[0m in \u001b[0;36m_lazy_init\u001b[1;34m(self, data, label, reference, weight, group, init_score, predictor, silent, feature_name, categorical_feature, params)\u001b[0m\n\u001b[0;32m   1475\u001b[0m                                                                                              \u001b[0mfeature_name\u001b[0m\u001b[1;33m,\u001b[0m\u001b[1;33m\u001b[0m\u001b[1;33m\u001b[0m\u001b[0m\n\u001b[0;32m   1476\u001b[0m                                                                                              \u001b[0mcategorical_feature\u001b[0m\u001b[1;33m,\u001b[0m\u001b[1;33m\u001b[0m\u001b[1;33m\u001b[0m\u001b[0m\n\u001b[1;32m-> 1477\u001b[1;33m                                                                                              self.pandas_categorical)\n\u001b[0m\u001b[0;32m   1478\u001b[0m         \u001b[0mlabel\u001b[0m \u001b[1;33m=\u001b[0m \u001b[0m_label_from_pandas\u001b[0m\u001b[1;33m(\u001b[0m\u001b[0mlabel\u001b[0m\u001b[1;33m)\u001b[0m\u001b[1;33m\u001b[0m\u001b[1;33m\u001b[0m\u001b[0m\n\u001b[0;32m   1479\u001b[0m \u001b[1;33m\u001b[0m\u001b[0m\n",
      "\u001b[1;32mF:\\Python\\Python37\\lib\\site-packages\\lightgbm\\basic.py\u001b[0m in \u001b[0;36m_data_from_pandas\u001b[1;34m(data, feature_name, categorical_feature, pandas_categorical)\u001b[0m\n\u001b[0;32m    566\u001b[0m             \u001b[1;32mraise\u001b[0m \u001b[0mValueError\u001b[0m\u001b[1;33m(\u001b[0m\u001b[1;34m'Input data must be 2 dimensional and non empty.'\u001b[0m\u001b[1;33m)\u001b[0m\u001b[1;33m\u001b[0m\u001b[1;33m\u001b[0m\u001b[0m\n\u001b[0;32m    567\u001b[0m         \u001b[1;32mif\u001b[0m \u001b[0mfeature_name\u001b[0m \u001b[1;33m==\u001b[0m \u001b[1;34m'auto'\u001b[0m \u001b[1;32mor\u001b[0m \u001b[0mfeature_name\u001b[0m \u001b[1;32mis\u001b[0m \u001b[1;32mNone\u001b[0m\u001b[1;33m:\u001b[0m\u001b[1;33m\u001b[0m\u001b[1;33m\u001b[0m\u001b[0m\n\u001b[1;32m--> 568\u001b[1;33m             \u001b[0mdata\u001b[0m \u001b[1;33m=\u001b[0m \u001b[0mdata\u001b[0m\u001b[1;33m.\u001b[0m\u001b[0mrename\u001b[0m\u001b[1;33m(\u001b[0m\u001b[0mcolumns\u001b[0m\u001b[1;33m=\u001b[0m\u001b[0mstr\u001b[0m\u001b[1;33m)\u001b[0m\u001b[1;33m\u001b[0m\u001b[1;33m\u001b[0m\u001b[0m\n\u001b[0m\u001b[0;32m    569\u001b[0m         \u001b[0mcat_cols\u001b[0m \u001b[1;33m=\u001b[0m \u001b[0mlist\u001b[0m\u001b[1;33m(\u001b[0m\u001b[0mdata\u001b[0m\u001b[1;33m.\u001b[0m\u001b[0mselect_dtypes\u001b[0m\u001b[1;33m(\u001b[0m\u001b[0minclude\u001b[0m\u001b[1;33m=\u001b[0m\u001b[1;33m[\u001b[0m\u001b[1;34m'category'\u001b[0m\u001b[1;33m]\u001b[0m\u001b[1;33m)\u001b[0m\u001b[1;33m.\u001b[0m\u001b[0mcolumns\u001b[0m\u001b[1;33m)\u001b[0m\u001b[1;33m\u001b[0m\u001b[1;33m\u001b[0m\u001b[0m\n\u001b[0;32m    570\u001b[0m         \u001b[0mcat_cols_not_ordered\u001b[0m \u001b[1;33m=\u001b[0m \u001b[1;33m[\u001b[0m\u001b[0mcol\u001b[0m \u001b[1;32mfor\u001b[0m \u001b[0mcol\u001b[0m \u001b[1;32min\u001b[0m \u001b[0mcat_cols\u001b[0m \u001b[1;32mif\u001b[0m \u001b[1;32mnot\u001b[0m \u001b[0mdata\u001b[0m\u001b[1;33m[\u001b[0m\u001b[0mcol\u001b[0m\u001b[1;33m]\u001b[0m\u001b[1;33m.\u001b[0m\u001b[0mcat\u001b[0m\u001b[1;33m.\u001b[0m\u001b[0mordered\u001b[0m\u001b[1;33m]\u001b[0m\u001b[1;33m\u001b[0m\u001b[1;33m\u001b[0m\u001b[0m\n",
      "\u001b[1;32mF:\\Python\\Python37\\lib\\site-packages\\pandas\\util\\_decorators.py\u001b[0m in \u001b[0;36mwrapper\u001b[1;34m(*args, **kwargs)\u001b[0m\n\u001b[0;32m    310\u001b[0m         \u001b[1;33m@\u001b[0m\u001b[0mwraps\u001b[0m\u001b[1;33m(\u001b[0m\u001b[0mfunc\u001b[0m\u001b[1;33m)\u001b[0m\u001b[1;33m\u001b[0m\u001b[1;33m\u001b[0m\u001b[0m\n\u001b[0;32m    311\u001b[0m         \u001b[1;32mdef\u001b[0m \u001b[0mwrapper\u001b[0m\u001b[1;33m(\u001b[0m\u001b[1;33m*\u001b[0m\u001b[0margs\u001b[0m\u001b[1;33m,\u001b[0m \u001b[1;33m**\u001b[0m\u001b[0mkwargs\u001b[0m\u001b[1;33m)\u001b[0m \u001b[1;33m->\u001b[0m \u001b[0mCallable\u001b[0m\u001b[1;33m[\u001b[0m\u001b[1;33m...\u001b[0m\u001b[1;33m,\u001b[0m \u001b[0mAny\u001b[0m\u001b[1;33m]\u001b[0m\u001b[1;33m:\u001b[0m\u001b[1;33m\u001b[0m\u001b[1;33m\u001b[0m\u001b[0m\n\u001b[1;32m--> 312\u001b[1;33m             \u001b[1;32mreturn\u001b[0m \u001b[0mfunc\u001b[0m\u001b[1;33m(\u001b[0m\u001b[1;33m*\u001b[0m\u001b[0margs\u001b[0m\u001b[1;33m,\u001b[0m \u001b[1;33m**\u001b[0m\u001b[0mkwargs\u001b[0m\u001b[1;33m)\u001b[0m\u001b[1;33m\u001b[0m\u001b[1;33m\u001b[0m\u001b[0m\n\u001b[0m\u001b[0;32m    313\u001b[0m \u001b[1;33m\u001b[0m\u001b[0m\n\u001b[0;32m    314\u001b[0m         \u001b[0mkind\u001b[0m \u001b[1;33m=\u001b[0m \u001b[0minspect\u001b[0m\u001b[1;33m.\u001b[0m\u001b[0mParameter\u001b[0m\u001b[1;33m.\u001b[0m\u001b[0mPOSITIONAL_OR_KEYWORD\u001b[0m\u001b[1;33m\u001b[0m\u001b[1;33m\u001b[0m\u001b[0m\n",
      "\u001b[1;32mF:\\Python\\Python37\\lib\\site-packages\\pandas\\core\\frame.py\u001b[0m in \u001b[0;36mrename\u001b[1;34m(self, mapper, index, columns, axis, copy, inplace, level, errors)\u001b[0m\n\u001b[0;32m   4447\u001b[0m             \u001b[0minplace\u001b[0m\u001b[1;33m=\u001b[0m\u001b[0minplace\u001b[0m\u001b[1;33m,\u001b[0m\u001b[1;33m\u001b[0m\u001b[1;33m\u001b[0m\u001b[0m\n\u001b[0;32m   4448\u001b[0m             \u001b[0mlevel\u001b[0m\u001b[1;33m=\u001b[0m\u001b[0mlevel\u001b[0m\u001b[1;33m,\u001b[0m\u001b[1;33m\u001b[0m\u001b[1;33m\u001b[0m\u001b[0m\n\u001b[1;32m-> 4449\u001b[1;33m             \u001b[0merrors\u001b[0m\u001b[1;33m=\u001b[0m\u001b[0merrors\u001b[0m\u001b[1;33m,\u001b[0m\u001b[1;33m\u001b[0m\u001b[1;33m\u001b[0m\u001b[0m\n\u001b[0m\u001b[0;32m   4450\u001b[0m         )\n\u001b[0;32m   4451\u001b[0m \u001b[1;33m\u001b[0m\u001b[0m\n",
      "\u001b[1;32mF:\\Python\\Python37\\lib\\site-packages\\pandas\\core\\generic.py\u001b[0m in \u001b[0;36mrename\u001b[1;34m(self, mapper, index, columns, axis, copy, inplace, level, errors)\u001b[0m\n\u001b[0;32m   1032\u001b[0m \u001b[1;33m\u001b[0m\u001b[0m\n\u001b[0;32m   1033\u001b[0m         \u001b[0mself\u001b[0m\u001b[1;33m.\u001b[0m\u001b[0m_check_inplace_and_allows_duplicate_labels\u001b[0m\u001b[1;33m(\u001b[0m\u001b[0minplace\u001b[0m\u001b[1;33m)\u001b[0m\u001b[1;33m\u001b[0m\u001b[1;33m\u001b[0m\u001b[0m\n\u001b[1;32m-> 1034\u001b[1;33m         \u001b[0mresult\u001b[0m \u001b[1;33m=\u001b[0m \u001b[0mself\u001b[0m \u001b[1;32mif\u001b[0m \u001b[0minplace\u001b[0m \u001b[1;32melse\u001b[0m \u001b[0mself\u001b[0m\u001b[1;33m.\u001b[0m\u001b[0mcopy\u001b[0m\u001b[1;33m(\u001b[0m\u001b[0mdeep\u001b[0m\u001b[1;33m=\u001b[0m\u001b[0mcopy\u001b[0m\u001b[1;33m)\u001b[0m\u001b[1;33m\u001b[0m\u001b[1;33m\u001b[0m\u001b[0m\n\u001b[0m\u001b[0;32m   1035\u001b[0m \u001b[1;33m\u001b[0m\u001b[0m\n\u001b[0;32m   1036\u001b[0m         \u001b[1;32mfor\u001b[0m \u001b[0maxis_no\u001b[0m\u001b[1;33m,\u001b[0m \u001b[0mreplacements\u001b[0m \u001b[1;32min\u001b[0m \u001b[0menumerate\u001b[0m\u001b[1;33m(\u001b[0m\u001b[1;33m(\u001b[0m\u001b[0mindex\u001b[0m\u001b[1;33m,\u001b[0m \u001b[0mcolumns\u001b[0m\u001b[1;33m)\u001b[0m\u001b[1;33m)\u001b[0m\u001b[1;33m:\u001b[0m\u001b[1;33m\u001b[0m\u001b[1;33m\u001b[0m\u001b[0m\n",
      "\u001b[1;32mF:\\Python\\Python37\\lib\\site-packages\\pandas\\core\\generic.py\u001b[0m in \u001b[0;36mcopy\u001b[1;34m(self, deep)\u001b[0m\n\u001b[0;32m   5993\u001b[0m         \u001b[0mdtype\u001b[0m\u001b[1;33m:\u001b[0m \u001b[0mobject\u001b[0m\u001b[1;33m\u001b[0m\u001b[1;33m\u001b[0m\u001b[0m\n\u001b[0;32m   5994\u001b[0m         \"\"\"\n\u001b[1;32m-> 5995\u001b[1;33m         \u001b[0mdata\u001b[0m \u001b[1;33m=\u001b[0m \u001b[0mself\u001b[0m\u001b[1;33m.\u001b[0m\u001b[0m_mgr\u001b[0m\u001b[1;33m.\u001b[0m\u001b[0mcopy\u001b[0m\u001b[1;33m(\u001b[0m\u001b[0mdeep\u001b[0m\u001b[1;33m=\u001b[0m\u001b[0mdeep\u001b[0m\u001b[1;33m)\u001b[0m\u001b[1;33m\u001b[0m\u001b[1;33m\u001b[0m\u001b[0m\n\u001b[0m\u001b[0;32m   5996\u001b[0m         \u001b[0mself\u001b[0m\u001b[1;33m.\u001b[0m\u001b[0m_clear_item_cache\u001b[0m\u001b[1;33m(\u001b[0m\u001b[1;33m)\u001b[0m\u001b[1;33m\u001b[0m\u001b[1;33m\u001b[0m\u001b[0m\n\u001b[0;32m   5997\u001b[0m         \u001b[1;32mreturn\u001b[0m \u001b[0mself\u001b[0m\u001b[1;33m.\u001b[0m\u001b[0m_constructor\u001b[0m\u001b[1;33m(\u001b[0m\u001b[0mdata\u001b[0m\u001b[1;33m)\u001b[0m\u001b[1;33m.\u001b[0m\u001b[0m__finalize__\u001b[0m\u001b[1;33m(\u001b[0m\u001b[0mself\u001b[0m\u001b[1;33m,\u001b[0m \u001b[0mmethod\u001b[0m\u001b[1;33m=\u001b[0m\u001b[1;34m\"copy\"\u001b[0m\u001b[1;33m)\u001b[0m\u001b[1;33m\u001b[0m\u001b[1;33m\u001b[0m\u001b[0m\n",
      "\u001b[1;32mF:\\Python\\Python37\\lib\\site-packages\\pandas\\core\\internals\\managers.py\u001b[0m in \u001b[0;36mcopy\u001b[1;34m(self, deep)\u001b[0m\n\u001b[0;32m    819\u001b[0m             \u001b[0mnew_axes\u001b[0m \u001b[1;33m=\u001b[0m \u001b[0mlist\u001b[0m\u001b[1;33m(\u001b[0m\u001b[0mself\u001b[0m\u001b[1;33m.\u001b[0m\u001b[0maxes\u001b[0m\u001b[1;33m)\u001b[0m\u001b[1;33m\u001b[0m\u001b[1;33m\u001b[0m\u001b[0m\n\u001b[0;32m    820\u001b[0m \u001b[1;33m\u001b[0m\u001b[0m\n\u001b[1;32m--> 821\u001b[1;33m         \u001b[0mres\u001b[0m \u001b[1;33m=\u001b[0m \u001b[0mself\u001b[0m\u001b[1;33m.\u001b[0m\u001b[0mapply\u001b[0m\u001b[1;33m(\u001b[0m\u001b[1;34m\"copy\"\u001b[0m\u001b[1;33m,\u001b[0m \u001b[0mdeep\u001b[0m\u001b[1;33m=\u001b[0m\u001b[0mdeep\u001b[0m\u001b[1;33m)\u001b[0m\u001b[1;33m\u001b[0m\u001b[1;33m\u001b[0m\u001b[0m\n\u001b[0m\u001b[0;32m    822\u001b[0m         \u001b[0mres\u001b[0m\u001b[1;33m.\u001b[0m\u001b[0maxes\u001b[0m \u001b[1;33m=\u001b[0m \u001b[0mnew_axes\u001b[0m\u001b[1;33m\u001b[0m\u001b[1;33m\u001b[0m\u001b[0m\n\u001b[0;32m    823\u001b[0m         \u001b[1;32mreturn\u001b[0m \u001b[0mres\u001b[0m\u001b[1;33m\u001b[0m\u001b[1;33m\u001b[0m\u001b[0m\n",
      "\u001b[1;32mF:\\Python\\Python37\\lib\\site-packages\\pandas\\core\\internals\\managers.py\u001b[0m in \u001b[0;36mapply\u001b[1;34m(self, f, align_keys, ignore_failures, **kwargs)\u001b[0m\n\u001b[0;32m    425\u001b[0m                     \u001b[0mapplied\u001b[0m \u001b[1;33m=\u001b[0m \u001b[0mb\u001b[0m\u001b[1;33m.\u001b[0m\u001b[0mapply\u001b[0m\u001b[1;33m(\u001b[0m\u001b[0mf\u001b[0m\u001b[1;33m,\u001b[0m \u001b[1;33m**\u001b[0m\u001b[0mkwargs\u001b[0m\u001b[1;33m)\u001b[0m\u001b[1;33m\u001b[0m\u001b[1;33m\u001b[0m\u001b[0m\n\u001b[0;32m    426\u001b[0m                 \u001b[1;32melse\u001b[0m\u001b[1;33m:\u001b[0m\u001b[1;33m\u001b[0m\u001b[1;33m\u001b[0m\u001b[0m\n\u001b[1;32m--> 427\u001b[1;33m                     \u001b[0mapplied\u001b[0m \u001b[1;33m=\u001b[0m \u001b[0mgetattr\u001b[0m\u001b[1;33m(\u001b[0m\u001b[0mb\u001b[0m\u001b[1;33m,\u001b[0m \u001b[0mf\u001b[0m\u001b[1;33m)\u001b[0m\u001b[1;33m(\u001b[0m\u001b[1;33m**\u001b[0m\u001b[0mkwargs\u001b[0m\u001b[1;33m)\u001b[0m\u001b[1;33m\u001b[0m\u001b[1;33m\u001b[0m\u001b[0m\n\u001b[0m\u001b[0;32m    428\u001b[0m             \u001b[1;32mexcept\u001b[0m \u001b[1;33m(\u001b[0m\u001b[0mTypeError\u001b[0m\u001b[1;33m,\u001b[0m \u001b[0mNotImplementedError\u001b[0m\u001b[1;33m)\u001b[0m\u001b[1;33m:\u001b[0m\u001b[1;33m\u001b[0m\u001b[1;33m\u001b[0m\u001b[0m\n\u001b[0;32m    429\u001b[0m                 \u001b[1;32mif\u001b[0m \u001b[1;32mnot\u001b[0m \u001b[0mignore_failures\u001b[0m\u001b[1;33m:\u001b[0m\u001b[1;33m\u001b[0m\u001b[1;33m\u001b[0m\u001b[0m\n",
      "\u001b[1;32mF:\\Python\\Python37\\lib\\site-packages\\pandas\\core\\internals\\blocks.py\u001b[0m in \u001b[0;36mcopy\u001b[1;34m(self, deep)\u001b[0m\n\u001b[0;32m    754\u001b[0m         \u001b[0mvalues\u001b[0m \u001b[1;33m=\u001b[0m \u001b[0mself\u001b[0m\u001b[1;33m.\u001b[0m\u001b[0mvalues\u001b[0m\u001b[1;33m\u001b[0m\u001b[1;33m\u001b[0m\u001b[0m\n\u001b[0;32m    755\u001b[0m         \u001b[1;32mif\u001b[0m \u001b[0mdeep\u001b[0m\u001b[1;33m:\u001b[0m\u001b[1;33m\u001b[0m\u001b[1;33m\u001b[0m\u001b[0m\n\u001b[1;32m--> 756\u001b[1;33m             \u001b[0mvalues\u001b[0m \u001b[1;33m=\u001b[0m \u001b[0mvalues\u001b[0m\u001b[1;33m.\u001b[0m\u001b[0mcopy\u001b[0m\u001b[1;33m(\u001b[0m\u001b[1;33m)\u001b[0m\u001b[1;33m\u001b[0m\u001b[1;33m\u001b[0m\u001b[0m\n\u001b[0m\u001b[0;32m    757\u001b[0m         \u001b[1;32mreturn\u001b[0m \u001b[0mself\u001b[0m\u001b[1;33m.\u001b[0m\u001b[0mmake_block_same_class\u001b[0m\u001b[1;33m(\u001b[0m\u001b[0mvalues\u001b[0m\u001b[1;33m,\u001b[0m \u001b[0mndim\u001b[0m\u001b[1;33m=\u001b[0m\u001b[0mself\u001b[0m\u001b[1;33m.\u001b[0m\u001b[0mndim\u001b[0m\u001b[1;33m)\u001b[0m\u001b[1;33m\u001b[0m\u001b[1;33m\u001b[0m\u001b[0m\n\u001b[0;32m    758\u001b[0m \u001b[1;33m\u001b[0m\u001b[0m\n",
      "\u001b[1;31mKeyboardInterrupt\u001b[0m: "
     ]
    }
   ],
   "source": [
    "import lightgbm as lgb\n",
    "import optuna\n",
    "\n",
    "def objective(trial):\n",
    "    \n",
    "    param = {\n",
    "        'objective': 'binary',\n",
    "        'metric': 'binary_logloss',\n",
    "        'verbosity': -1,\n",
    "        'boosting_type': 'gbdt',\n",
    "        'lambda_l1': trial.suggest_float('lambda_l1', 1e-8, 10.0, log=True),\n",
    "        'lambda_l2': trial.suggest_float('lambda_l2', 1e-8, 10.0, log=True),\n",
    "        'num_leaves': trial.suggest_int('num_leaves', 2, 32),\n",
    "        'feature_fraction': trial.suggest_float('feature_fraction', 0.4, 1.0),\n",
    "        'bagging_fraction': trial.suggest_float('bagging_fraction', 0.4, 1.0),\n",
    "        'bagging_freq': trial.suggest_int('bagging_freq', 1, 7),\n",
    "        'min_child_samples': trial.suggest_int('min_child_samples', 5, 100),\n",
    "    }\n",
    "    \n",
    "    kf = KFold(5, shuffle = True, random_state = 0)\n",
    "    kf.split(train)\n",
    "    \n",
    "    accuracy_scores = []\n",
    "    \n",
    "    for train_ix, test_ix in kf.split(train):\n",
    "        dtrain = lgb.Dataset(train[features].iloc[train_ix,:], label = train['Survived'].iloc[train_ix])\n",
    "        \n",
    "        gbm = lgb.train(param, dtrain)\n",
    "        preds = np.rint(gbm.predict(train[features].iloc[test_ix]))\n",
    "        \n",
    "        accuracy_scores.append(metrics.accuracy_score(train['Survived'].iloc[test_ix], preds))\n",
    "        \n",
    "    return np.mean(accuracy_scores)\n",
    "    \n",
    "\n",
    "# 3. Create a study object and optimize the objective function.\n",
    "study = optuna.create_study(direction='maximize')\n",
    "study.optimize(objective, n_trials=1000)"
   ]
  },
  {
   "cell_type": "code",
   "execution_count": 94,
   "metadata": {},
   "outputs": [
    {
     "data": {
      "text/plain": [
       "\"\\n{'lambda_l1': 5.5693205859882666e-08,\\n 'lambda_l2': 0.0029379573632802307,\\n 'num_leaves': 218,\\n 'feature_fraction': 0.4449630393801182,\\n 'bagging_fraction': 0.6190711470746258,\\n 'bagging_freq': 1,\\n 'min_child_samples': 24}\\n\""
      ]
     },
     "execution_count": 94,
     "metadata": {},
     "output_type": "execute_result"
    }
   ],
   "source": [
    "study.best_params\n",
    "'''\n",
    "{'lambda_l1': 5.5693205859882666e-08,\n",
    " 'lambda_l2': 0.0029379573632802307,\n",
    " 'num_leaves': 218,\n",
    " 'feature_fraction': 0.4449630393801182,\n",
    " 'bagging_fraction': 0.6190711470746258,\n",
    " 'bagging_freq': 1,\n",
    " 'min_child_samples': 24}\n",
    "'''"
   ]
  },
  {
   "cell_type": "code",
   "execution_count": 95,
   "metadata": {},
   "outputs": [
    {
     "name": "stdout",
     "output_type": "stream",
     "text": [
      "[LightGBM] [Warning] Auto-choosing row-wise multi-threading, the overhead of testing was 0.000472 seconds.\n",
      "You can set `force_row_wise=true` to remove the overhead.\n",
      "And if memory is not enough, you can set `force_col_wise=true`.\n",
      "[LightGBM] [Info] Total Bins 251\n",
      "[LightGBM] [Info] Number of data points in the train set: 891, number of used features: 21\n",
      "[LightGBM] [Info] Start training from score 0.383838\n",
      "[LightGBM] [Warning] No further splits with positive gain, best gain: -inf\n",
      "[LightGBM] [Warning] No further splits with positive gain, best gain: -inf\n",
      "[LightGBM] [Warning] No further splits with positive gain, best gain: -inf\n",
      "[LightGBM] [Warning] No further splits with positive gain, best gain: -inf\n",
      "[LightGBM] [Warning] No further splits with positive gain, best gain: -inf\n",
      "[LightGBM] [Warning] No further splits with positive gain, best gain: -inf\n",
      "[LightGBM] [Warning] No further splits with positive gain, best gain: -inf\n",
      "[LightGBM] [Warning] No further splits with positive gain, best gain: -inf\n",
      "[LightGBM] [Warning] No further splits with positive gain, best gain: -inf\n",
      "[LightGBM] [Warning] No further splits with positive gain, best gain: -inf\n",
      "[LightGBM] [Warning] No further splits with positive gain, best gain: -inf\n",
      "[LightGBM] [Warning] No further splits with positive gain, best gain: -inf\n",
      "[LightGBM] [Warning] No further splits with positive gain, best gain: -inf\n",
      "[LightGBM] [Warning] No further splits with positive gain, best gain: -inf\n",
      "[LightGBM] [Warning] No further splits with positive gain, best gain: -inf\n",
      "[LightGBM] [Warning] No further splits with positive gain, best gain: -inf\n",
      "[LightGBM] [Warning] No further splits with positive gain, best gain: -inf\n",
      "[LightGBM] [Warning] No further splits with positive gain, best gain: -inf\n",
      "[LightGBM] [Warning] No further splits with positive gain, best gain: -inf\n",
      "[LightGBM] [Warning] No further splits with positive gain, best gain: -inf\n",
      "[LightGBM] [Warning] No further splits with positive gain, best gain: -inf\n",
      "[LightGBM] [Warning] No further splits with positive gain, best gain: -inf\n",
      "[LightGBM] [Warning] No further splits with positive gain, best gain: -inf\n",
      "[LightGBM] [Warning] No further splits with positive gain, best gain: -inf\n",
      "[LightGBM] [Warning] No further splits with positive gain, best gain: -inf\n",
      "[LightGBM] [Warning] No further splits with positive gain, best gain: -inf\n",
      "[LightGBM] [Warning] No further splits with positive gain, best gain: -inf\n",
      "[LightGBM] [Warning] No further splits with positive gain, best gain: -inf\n",
      "[LightGBM] [Warning] No further splits with positive gain, best gain: -inf\n",
      "[LightGBM] [Warning] No further splits with positive gain, best gain: -inf\n",
      "[LightGBM] [Warning] No further splits with positive gain, best gain: -inf\n",
      "[LightGBM] [Warning] No further splits with positive gain, best gain: -inf\n",
      "[LightGBM] [Warning] No further splits with positive gain, best gain: -inf\n",
      "[LightGBM] [Warning] No further splits with positive gain, best gain: -inf\n",
      "[LightGBM] [Warning] No further splits with positive gain, best gain: -inf\n",
      "[LightGBM] [Warning] No further splits with positive gain, best gain: -inf\n",
      "[LightGBM] [Warning] No further splits with positive gain, best gain: -inf\n",
      "[LightGBM] [Warning] No further splits with positive gain, best gain: -inf\n",
      "[LightGBM] [Warning] No further splits with positive gain, best gain: -inf\n",
      "[LightGBM] [Warning] No further splits with positive gain, best gain: -inf\n",
      "[LightGBM] [Warning] No further splits with positive gain, best gain: -inf\n",
      "[LightGBM] [Warning] No further splits with positive gain, best gain: -inf\n",
      "[LightGBM] [Warning] No further splits with positive gain, best gain: -inf\n",
      "[LightGBM] [Warning] No further splits with positive gain, best gain: -inf\n",
      "[LightGBM] [Warning] No further splits with positive gain, best gain: -inf\n",
      "[LightGBM] [Warning] No further splits with positive gain, best gain: -inf\n",
      "[LightGBM] [Warning] No further splits with positive gain, best gain: -inf\n",
      "[LightGBM] [Warning] No further splits with positive gain, best gain: -inf\n",
      "[LightGBM] [Warning] No further splits with positive gain, best gain: -inf\n",
      "[LightGBM] [Warning] No further splits with positive gain, best gain: -inf\n",
      "[LightGBM] [Warning] No further splits with positive gain, best gain: -inf\n",
      "[LightGBM] [Warning] No further splits with positive gain, best gain: -inf\n",
      "[LightGBM] [Warning] No further splits with positive gain, best gain: -inf\n",
      "[LightGBM] [Warning] No further splits with positive gain, best gain: -inf\n",
      "[LightGBM] [Warning] No further splits with positive gain, best gain: -inf\n",
      "[LightGBM] [Warning] No further splits with positive gain, best gain: -inf\n",
      "[LightGBM] [Warning] No further splits with positive gain, best gain: -inf\n",
      "[LightGBM] [Warning] No further splits with positive gain, best gain: -inf\n",
      "[LightGBM] [Warning] No further splits with positive gain, best gain: -inf\n",
      "[LightGBM] [Warning] No further splits with positive gain, best gain: -inf\n",
      "[LightGBM] [Warning] No further splits with positive gain, best gain: -inf\n",
      "[LightGBM] [Warning] No further splits with positive gain, best gain: -inf\n",
      "[LightGBM] [Warning] No further splits with positive gain, best gain: -inf\n",
      "[LightGBM] [Warning] No further splits with positive gain, best gain: -inf\n",
      "[LightGBM] [Warning] No further splits with positive gain, best gain: -inf\n",
      "[LightGBM] [Warning] No further splits with positive gain, best gain: -inf\n",
      "[LightGBM] [Warning] No further splits with positive gain, best gain: -inf\n",
      "[LightGBM] [Warning] No further splits with positive gain, best gain: -inf\n",
      "[LightGBM] [Warning] No further splits with positive gain, best gain: -inf\n",
      "[LightGBM] [Warning] No further splits with positive gain, best gain: -inf\n",
      "[LightGBM] [Warning] No further splits with positive gain, best gain: -inf\n",
      "[LightGBM] [Warning] No further splits with positive gain, best gain: -inf\n",
      "[LightGBM] [Warning] No further splits with positive gain, best gain: -inf\n",
      "[LightGBM] [Warning] No further splits with positive gain, best gain: -inf\n",
      "[LightGBM] [Warning] No further splits with positive gain, best gain: -inf\n",
      "[LightGBM] [Warning] No further splits with positive gain, best gain: -inf\n",
      "[LightGBM] [Warning] No further splits with positive gain, best gain: -inf\n",
      "[LightGBM] [Warning] No further splits with positive gain, best gain: -inf\n",
      "[LightGBM] [Warning] No further splits with positive gain, best gain: -inf\n",
      "[LightGBM] [Warning] No further splits with positive gain, best gain: -inf\n",
      "[LightGBM] [Warning] No further splits with positive gain, best gain: -inf\n",
      "[LightGBM] [Warning] No further splits with positive gain, best gain: -inf\n",
      "[LightGBM] [Warning] No further splits with positive gain, best gain: -inf\n",
      "[LightGBM] [Warning] No further splits with positive gain, best gain: -inf\n",
      "[LightGBM] [Warning] No further splits with positive gain, best gain: -inf\n",
      "[LightGBM] [Warning] No further splits with positive gain, best gain: -inf\n",
      "[LightGBM] [Warning] No further splits with positive gain, best gain: -inf\n",
      "[LightGBM] [Warning] No further splits with positive gain, best gain: -inf\n",
      "[LightGBM] [Warning] No further splits with positive gain, best gain: -inf\n",
      "[LightGBM] [Warning] No further splits with positive gain, best gain: -inf\n",
      "[LightGBM] [Warning] No further splits with positive gain, best gain: -inf\n",
      "[LightGBM] [Warning] No further splits with positive gain, best gain: -inf\n",
      "[LightGBM] [Warning] No further splits with positive gain, best gain: -inf\n",
      "[LightGBM] [Warning] No further splits with positive gain, best gain: -inf\n",
      "[LightGBM] [Warning] No further splits with positive gain, best gain: -inf\n",
      "[LightGBM] [Warning] No further splits with positive gain, best gain: -inf\n",
      "[LightGBM] [Warning] No further splits with positive gain, best gain: -inf\n",
      "[LightGBM] [Warning] No further splits with positive gain, best gain: -inf\n",
      "[LightGBM] [Warning] No further splits with positive gain, best gain: -inf\n",
      "[LightGBM] [Warning] No further splits with positive gain, best gain: -inf\n"
     ]
    }
   ],
   "source": [
    "gbm = lgb.train(study.best_params, lgb.Dataset(train[features], label=train['Survived']))\n",
    "preds = gbm.predict(test[features])"
   ]
  },
  {
   "cell_type": "code",
   "execution_count": 96,
   "metadata": {},
   "outputs": [],
   "source": [
    "submission = pd.read_csv('data/submission.csv')"
   ]
  },
  {
   "cell_type": "code",
   "execution_count": 97,
   "metadata": {},
   "outputs": [],
   "source": [
    "submission['Survived'] = np.abs(np.rint(preds))"
   ]
  },
  {
   "cell_type": "code",
   "execution_count": 98,
   "metadata": {},
   "outputs": [],
   "source": [
    "submission.to_csv(\"data/submission.csv\", index = False)"
   ]
  }
 ],
 "metadata": {
  "kernelspec": {
   "display_name": "ml",
   "language": "python",
   "name": "ml"
  },
  "language_info": {
   "codemirror_mode": {
    "name": "ipython",
    "version": 3
   },
   "file_extension": ".py",
   "mimetype": "text/x-python",
   "name": "python",
   "nbconvert_exporter": "python",
   "pygments_lexer": "ipython3",
   "version": "3.7.9"
  }
 },
 "nbformat": 4,
 "nbformat_minor": 4
}

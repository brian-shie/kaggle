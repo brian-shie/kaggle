{
 "cells": [
  {
   "cell_type": "markdown",
   "metadata": {},
   "source": [
    "# Introduction\n",
    "\n",
    "### Competition: [Titanic Kaggle](https://www.kaggle.com/c/titanic/overview)\n",
    "\n",
    "This is notebook contains a simple data science project framework, for learning and portfolio construction purposes."
   ]
  },
  {
   "cell_type": "markdown",
   "metadata": {},
   "source": [
    "# Libs"
   ]
  },
  {
   "cell_type": "code",
   "execution_count": 28,
   "metadata": {},
   "outputs": [],
   "source": [
    "import numpy as np # linear algebra\n",
    "import pandas as pd # data processing, CSV file I/O (e.g. pd.read_csv)\n",
    "import os\n",
    "from sklearn.pipeline import Pipeline\n",
    "\n",
    "import tensorflow as tf\n",
    "\n",
    "from tensorflow.keras import layers\n",
    "from tensorflow.keras.layers import Input, Dense, BatchNormalization, Dropout, Embedding,  Flatten\n",
    "from tensorflow.keras.models import Model, Sequential\n",
    "from tensorflow.keras.callbacks import ReduceLROnPlateau, EarlyStopping\n",
    "from tensorflow.keras.optimizers import RMSprop\n",
    "\n",
    "from tensorflow.data import Dataset\n",
    "from sklearn.model_selection import train_test_split, KFold\n",
    "from sklearn.preprocessing import QuantileTransformer,  KBinsDiscretizer, StandardScaler\n",
    "from tensorflow import keras\n",
    "from sklearn import metrics\n",
    "from sklearn.impute import SimpleImputer\n",
    "\n",
    "from sklearn.model_selection import GridSearchCV, cross_val_score\n",
    "\n",
    "import optuna"
   ]
  },
  {
   "cell_type": "markdown",
   "metadata": {},
   "source": [
    "# Load Dataset\n",
    "\n",
    "This step we simply get our data to our working environment. Because we are not dealing with live data, a simple pandas usage is enough."
   ]
  },
  {
   "cell_type": "code",
   "execution_count": 2,
   "metadata": {},
   "outputs": [
    {
     "name": "stdout",
     "output_type": "stream",
     "text": [
      "Wall time: 137 ms\n"
     ]
    }
   ],
   "source": [
    "%%time\n",
    "\n",
    "train = pd.read_csv(\"data/train.csv\")\n",
    "test = pd.read_csv(\"data/test.csv\")"
   ]
  },
  {
   "cell_type": "markdown",
   "metadata": {},
   "source": [
    "# Preprocessing"
   ]
  },
  {
   "cell_type": "code",
   "execution_count": 3,
   "metadata": {},
   "outputs": [
    {
     "name": "stdout",
     "output_type": "stream",
     "text": [
      "Wall time: 85.8 ms\n"
     ]
    }
   ],
   "source": [
    "%%time\n",
    "\n",
    "train['Survived'] = train['Survived'].astype(str)\n",
    "\n",
    "train['n_missing'] = train.isna().sum(axis=1)\n",
    "test['n_missing'] = test.isna().sum(axis=1)\n",
    "\n",
    "test['Pclass']= test['Pclass'].astype(str)\n",
    "test['Pclass']= test['Pclass'].astype(str)\n",
    "\n",
    "features = [col for col in train.columns if col not in ['Survived', 'PassengerId']]"
   ]
  },
  {
   "cell_type": "markdown",
   "metadata": {},
   "source": [
    "### *Name* Column "
   ]
  },
  {
   "cell_type": "code",
   "execution_count": 4,
   "metadata": {},
   "outputs": [
    {
     "name": "stdout",
     "output_type": "stream",
     "text": [
      "891\n",
      "['Braund, Mr. Owen Harris'\n",
      " 'Cumings, Mrs. John Bradley (Florence Briggs Thayer)'\n",
      " 'Heikkinen, Miss. Laina' 'Futrelle, Mrs. Jacques Heath (Lily May Peel)'\n",
      " 'Allen, Mr. William Henry']\n"
     ]
    }
   ],
   "source": [
    "print(len(train['Name'].unique()))\n",
    "print(train['Name'].unique()[0:5])"
   ]
  },
  {
   "cell_type": "markdown",
   "metadata": {},
   "source": [
    "**With the *Name* column the way it is, we can't use it in our models.** The reason is because as every person has a unique name, then the name has no information about our variable of interest (*Survived*).\n",
    "\n",
    "One thing we can see in this column is the presence of titles. **We can probably assume different survival rates when considering different titles.**"
   ]
  },
  {
   "cell_type": "code",
   "execution_count": 5,
   "metadata": {},
   "outputs": [
    {
     "name": "stdout",
     "output_type": "stream",
     "text": [
      "891\n"
     ]
    }
   ],
   "source": [
    "name_and_title = [name.split(\", \")[1] for name in train['Name']]\n",
    "title = [name.split(\".\")[0] for name in name_and_title]\n",
    "print(len(title))"
   ]
  },
  {
   "cell_type": "code",
   "execution_count": 6,
   "metadata": {
    "scrolled": true
   },
   "outputs": [
    {
     "name": "stdout",
     "output_type": "stream",
     "text": [
      "17\n"
     ]
    },
    {
     "data": {
      "text/plain": [
       "array(['Capt', 'Col', 'Don', 'Dr', 'Jonkheer', 'Lady', 'Major', 'Master',\n",
       "       'Miss', 'Mlle', 'Mme', 'Mr', 'Mrs', 'Ms', 'Rev', 'Sir',\n",
       "       'the Countess'], dtype='<U12')"
      ]
     },
     "execution_count": 6,
     "metadata": {},
     "output_type": "execute_result"
    }
   ],
   "source": [
    "print(len(np.unique(title)))\n",
    "np.unique(title)"
   ]
  },
  {
   "cell_type": "code",
   "execution_count": 7,
   "metadata": {},
   "outputs": [],
   "source": [
    "train['Name'] = title\n",
    "test['Name'] = [name.split(\".\")[0] for name in [name.split(\", \")[1] for name in test['Name']]] "
   ]
  },
  {
   "cell_type": "code",
   "execution_count": 8,
   "metadata": {},
   "outputs": [],
   "source": [
    "train = pd.concat([train, pd.get_dummies(train['Name']).filter(['Miss', 'Mr', 'Mrs', 'Ms'])], axis = 1)\n",
    "train.drop('Name', axis = 1, inplace = True)\n",
    "\n",
    "test = pd.concat([test, pd.get_dummies(test['Name']).filter(['Miss', 'Mr', 'Mrs', 'Ms'])], axis = 1)\n",
    "test.drop('Name', axis = 1, inplace = True)"
   ]
  },
  {
   "cell_type": "markdown",
   "metadata": {},
   "source": [
    "### Dealing with the Ticket feature"
   ]
  },
  {
   "cell_type": "code",
   "execution_count": 9,
   "metadata": {},
   "outputs": [
    {
     "data": {
      "text/plain": [
       "0           A/5 21171\n",
       "1            PC 17599\n",
       "2    STON/O2. 3101282\n",
       "3              113803\n",
       "4              373450\n",
       "Name: Ticket, dtype: object"
      ]
     },
     "execution_count": 9,
     "metadata": {},
     "output_type": "execute_result"
    }
   ],
   "source": [
    "train['Ticket'][0:5]"
   ]
  },
  {
   "cell_type": "markdown",
   "metadata": {},
   "source": [
    "**One hypothesis we can make** is that the numbers don't contain any relevant information and the prefix may contain relevant information."
   ]
  },
  {
   "cell_type": "code",
   "execution_count": 10,
   "metadata": {},
   "outputs": [
    {
     "data": {
      "text/plain": [
       "['A/5', 'PC', 'STON/O2.', '113803', '373450']"
      ]
     },
     "execution_count": 10,
     "metadata": {},
     "output_type": "execute_result"
    }
   ],
   "source": [
    "ticket_prefixes = [ticket.split()[0] for ticket in train['Ticket']]\n",
    "ticket_prefixes[0:5]"
   ]
  },
  {
   "cell_type": "code",
   "execution_count": 11,
   "metadata": {},
   "outputs": [],
   "source": [
    "for i in range(len(ticket_prefixes)):\n",
    "    try: \n",
    "        int(ticket_prefixes[i])\n",
    "        ticket_prefixes[i] = \"number_only\"\n",
    "    \n",
    "    except Exception:\n",
    "        pass"
   ]
  },
  {
   "cell_type": "code",
   "execution_count": 12,
   "metadata": {},
   "outputs": [
    {
     "data": {
      "text/plain": [
       "['A/5', 'PC', 'STON/O2.', 'number_only', 'number_only']"
      ]
     },
     "execution_count": 12,
     "metadata": {},
     "output_type": "execute_result"
    }
   ],
   "source": [
    "ticket_prefixes[0:5]"
   ]
  },
  {
   "cell_type": "code",
   "execution_count": 13,
   "metadata": {
    "scrolled": true
   },
   "outputs": [
    {
     "name": "stdout",
     "output_type": "stream",
     "text": [
      "44\n"
     ]
    },
    {
     "data": {
      "text/plain": [
       "array(['A./5.', 'A.5.', 'A/4', 'A/4.', 'A/5', 'A/5.', 'A/S', 'A4.', 'C',\n",
       "       'C.A.', 'C.A./SOTON', 'CA', 'CA.', 'F.C.', 'F.C.C.', 'Fa', 'LINE',\n",
       "       'P/PP', 'PC', 'PP', 'S.C./A.4.', 'S.C./PARIS', 'S.O./P.P.',\n",
       "       'S.O.C.', 'S.O.P.', 'S.P.', 'S.W./PP', 'SC', 'SC/AH', 'SC/PARIS',\n",
       "       'SC/Paris', 'SCO/W', 'SO/C', 'SOTON/O.Q.', 'SOTON/O2', 'SOTON/OQ',\n",
       "       'STON/O', 'STON/O2.', 'SW/PP', 'W./C.', 'W.E.P.', 'W/C', 'WE/P',\n",
       "       'number_only'], dtype='<U11')"
      ]
     },
     "execution_count": 13,
     "metadata": {},
     "output_type": "execute_result"
    }
   ],
   "source": [
    "print(len(np.unique(ticket_prefixes)))\n",
    "np.unique(ticket_prefixes)"
   ]
  },
  {
   "cell_type": "code",
   "execution_count": 14,
   "metadata": {},
   "outputs": [],
   "source": [
    "ticket_prefixes = [s.replace(\".\", \"\") for s in ticket_prefixes]\n",
    "ticket_prefixes = [s.replace(\",\", \"\") for s in ticket_prefixes]\n",
    "ticket_prefixes = [s.upper() for s in ticket_prefixes]"
   ]
  },
  {
   "cell_type": "code",
   "execution_count": 15,
   "metadata": {
    "scrolled": false
   },
   "outputs": [
    {
     "name": "stdout",
     "output_type": "stream",
     "text": [
      "34\n"
     ]
    },
    {
     "data": {
      "text/plain": [
       "array(['A/4', 'A/5', 'A/S', 'A4', 'A5', 'C', 'CA', 'CA/SOTON', 'FA', 'FC',\n",
       "       'FCC', 'LINE', 'NUMBER_ONLY', 'P/PP', 'PC', 'PP', 'SC', 'SC/A4',\n",
       "       'SC/AH', 'SC/PARIS', 'SCO/W', 'SO/C', 'SO/PP', 'SOC', 'SOP',\n",
       "       'SOTON/O2', 'SOTON/OQ', 'SP', 'STON/O', 'STON/O2', 'SW/PP', 'W/C',\n",
       "       'WE/P', 'WEP'], dtype='<U11')"
      ]
     },
     "execution_count": 15,
     "metadata": {},
     "output_type": "execute_result"
    }
   ],
   "source": [
    "print(len(np.unique(ticket_prefixes)))\n",
    "np.unique(ticket_prefixes)"
   ]
  },
  {
   "cell_type": "code",
   "execution_count": 16,
   "metadata": {},
   "outputs": [],
   "source": [
    "test_ticket_prefixes = [ticket.split()[0] for ticket in test['Ticket']]\n",
    "for i in range(len(test_ticket_prefixes)):\n",
    "    try: \n",
    "        int(test_ticket_prefixes[i])\n",
    "        test_ticket_prefixes[i] = \"number_only\"\n",
    "    \n",
    "    except Exception:\n",
    "        pass\n",
    "\n",
    "test_ticket_prefixes = [s.replace(\".\", \"\") for s in test_ticket_prefixes]\n",
    "test_ticket_prefixes = [s.replace(\",\", \"\") for s in test_ticket_prefixes]\n",
    "test_ticket_prefixes = [s.upper() for s in test_ticket_prefixes]"
   ]
  },
  {
   "cell_type": "code",
   "execution_count": 17,
   "metadata": {},
   "outputs": [],
   "source": [
    "train['Ticket'] = ticket_prefixes\n",
    "test['Ticket'] = test_ticket_prefixes"
   ]
  },
  {
   "cell_type": "code",
   "execution_count": 18,
   "metadata": {},
   "outputs": [],
   "source": [
    "train = pd.concat([train, pd.get_dummies(train['Ticket']).filter(['PC', 'CA', 'NUMBER_ONLY'])], axis = 1)\n",
    "train.drop('Ticket', axis = 1, inplace = True)\n",
    "\n",
    "test = pd.concat([test, pd.get_dummies(test['Ticket']).filter(['PC', 'CA', 'NUMBER_ONLY'])], axis = 1)\n",
    "test.drop('Ticket', axis = 1, inplace = True)"
   ]
  },
  {
   "cell_type": "markdown",
   "metadata": {},
   "source": [
    "### Dealing with the Cabin feature"
   ]
  },
  {
   "cell_type": "markdown",
   "metadata": {},
   "source": [
    "Same as the *Ticket* feature. I will assume that the number doesn't have relevant information."
   ]
  },
  {
   "cell_type": "code",
   "execution_count": 19,
   "metadata": {},
   "outputs": [
    {
     "data": {
      "text/plain": [
       "array([nan, 'C85', 'C123', 'E46', 'G6', 'C103', 'D56', 'A6',\n",
       "       'C23 C25 C27', 'B78', 'D33', 'B30', 'C52', 'B28', 'C83', 'F33',\n",
       "       'F G73', 'E31', 'A5', 'D10 D12', 'D26', 'C110', 'B58 B60', 'E101',\n",
       "       'F E69', 'D47', 'B86', 'F2', 'C2', 'E33', 'B19', 'A7', 'C49', 'F4',\n",
       "       'A32', 'B4', 'B80', 'A31', 'D36', 'D15', 'C93', 'C78', 'D35',\n",
       "       'C87', 'B77', 'E67', 'B94', 'C125', 'C99', 'C118', 'D7', 'A19',\n",
       "       'B49', 'D', 'C22 C26', 'C106', 'C65', 'E36', 'C54',\n",
       "       'B57 B59 B63 B66', 'C7', 'E34', 'C32', 'B18', 'C124', 'C91', 'E40',\n",
       "       'T', 'C128', 'D37', 'B35', 'E50', 'C82', 'B96 B98', 'E10', 'E44',\n",
       "       'A34', 'C104', 'C111', 'C92', 'E38', 'D21', 'E12', 'E63', 'A14',\n",
       "       'B37', 'C30', 'D20', 'B79', 'E25', 'D46', 'B73', 'C95', 'B38',\n",
       "       'B39', 'B22', 'C86', 'C70', 'A16', 'C101', 'C68', 'A10', 'E68',\n",
       "       'B41', 'A20', 'D19', 'D50', 'D9', 'A23', 'B50', 'A26', 'D48',\n",
       "       'E58', 'C126', 'B71', 'B51 B53 B55', 'D49', 'B5', 'B20', 'F G63',\n",
       "       'C62 C64', 'E24', 'C90', 'C45', 'E8', 'B101', 'D45', 'C46', 'D30',\n",
       "       'E121', 'D11', 'E77', 'F38', 'B3', 'D6', 'B82 B84', 'D17', 'A36',\n",
       "       'B102', 'B69', 'E49', 'C47', 'D28', 'E17', 'A24', 'C50', 'B42',\n",
       "       'C148'], dtype=object)"
      ]
     },
     "execution_count": 19,
     "metadata": {},
     "output_type": "execute_result"
    }
   ],
   "source": [
    "train['Cabin'].unique()"
   ]
  },
  {
   "cell_type": "code",
   "execution_count": 20,
   "metadata": {},
   "outputs": [],
   "source": [
    "cabin_prefix = []\n",
    "for i in range(len(train['Cabin'])):\n",
    "    try:\n",
    "        cabin_prefix.append(train['Cabin'][i][0: 1: 1])\n",
    "    \n",
    "    except:\n",
    "        cabin_prefix.append(train['Cabin'][i])        "
   ]
  },
  {
   "cell_type": "code",
   "execution_count": 21,
   "metadata": {},
   "outputs": [
    {
     "data": {
      "text/plain": [
       "array(['A', 'B', 'C', 'D', 'E', 'F', 'G', 'T', 'nan'], dtype='<U32')"
      ]
     },
     "execution_count": 21,
     "metadata": {},
     "output_type": "execute_result"
    }
   ],
   "source": [
    "np.unique(cabin_prefix)"
   ]
  },
  {
   "cell_type": "code",
   "execution_count": 22,
   "metadata": {},
   "outputs": [],
   "source": [
    "cabin_test_prefix = []\n",
    "for i in range(len(test['Cabin'])):\n",
    "    try:\n",
    "        cabin_test_prefix.append(test['Cabin'][i][0: 1: 1])\n",
    "    \n",
    "    except:\n",
    "        cabin_test_prefix.append(test['Cabin'][i])"
   ]
  },
  {
   "cell_type": "code",
   "execution_count": 23,
   "metadata": {},
   "outputs": [],
   "source": [
    "train['Cabin'] = cabin_prefix\n",
    "test['Cabin'] = cabin_test_prefix"
   ]
  },
  {
   "cell_type": "code",
   "execution_count": 24,
   "metadata": {},
   "outputs": [],
   "source": [
    "train = pd.concat([train, pd.get_dummies(train['Cabin']).filter(['NaN', 'B', 'C'])], axis = 1)\n",
    "train.drop('Cabin', axis = 1, inplace = True)\n",
    "\n",
    "test = pd.concat([test, pd.get_dummies(test['Cabin']).filter(['NaN', 'B', 'C'])], axis = 1)\n",
    "test.drop('Cabin', axis = 1, inplace = True)"
   ]
  },
  {
   "cell_type": "markdown",
   "metadata": {},
   "source": [
    "## Pclass, Sex and Embarked variables"
   ]
  },
  {
   "cell_type": "code",
   "execution_count": 25,
   "metadata": {},
   "outputs": [],
   "source": [
    "train = pd.get_dummies(train, columns = ['Pclass', 'Sex', 'Embarked'])\n",
    "test = pd.get_dummies(test, columns = ['Pclass', 'Sex', 'Embarked'])"
   ]
  },
  {
   "cell_type": "markdown",
   "metadata": {},
   "source": [
    "## Imputer and Scaler"
   ]
  },
  {
   "cell_type": "code",
   "execution_count": 26,
   "metadata": {},
   "outputs": [
    {
     "name": "stdout",
     "output_type": "stream",
     "text": [
      "Wall time: 13 ms\n"
     ]
    }
   ],
   "source": [
    "%%time\n",
    "\n",
    "features = [col for col in train.columns if col not in ['Survived', 'PassengerId']]\n",
    "numerical_features = [col for col in features if col in ['Age', 'SibSp', 'Parch', 'Fare', 'n_missing']]\n",
    "\n",
    "pipe = Pipeline([\n",
    "        ('imputer', SimpleImputer(strategy='mean',missing_values=np.nan)),\n",
    "        (\"scaler\", StandardScaler())\n",
    "        ])\n",
    "\n",
    "train[numerical_features] = pipe.fit_transform(train[numerical_features])\n",
    "test[numerical_features] = pipe.transform(test[numerical_features])"
   ]
  },
  {
   "cell_type": "markdown",
   "metadata": {},
   "source": [
    "# Base Models"
   ]
  },
  {
   "cell_type": "markdown",
   "metadata": {},
   "source": [
    "## Light GBM"
   ]
  },
  {
   "cell_type": "code",
   "execution_count": 27,
   "metadata": {
    "collapsed": true
   },
   "outputs": [
    {
     "name": "stderr",
     "output_type": "stream",
     "text": [
      "\u001b[32m[I 2021-12-21 18:22:15,338]\u001b[0m A new study created in memory with name: no-name-f821181d-7759-4b23-b414-c30db2bc2008\u001b[0m\n",
      "\u001b[33m[W 2021-12-21 18:22:15,528]\u001b[0m Trial 0 failed because of the following error: ValueError('Series.dtypes must be int, float or bool')\u001b[0m\n",
      "Traceback (most recent call last):\n",
      "  File \"F:\\Python\\Python37\\lib\\site-packages\\optuna\\study\\_optimize.py\", line 213, in _run_trial\n",
      "    value_or_values = func(trial)\n",
      "  File \"<ipython-input-27-a6b7f4e955c9>\", line 28, in objective\n",
      "    gbm = lgb.train(param, dtrain)\n",
      "  File \"F:\\Python\\Python37\\lib\\site-packages\\lightgbm\\engine.py\", line 272, in train\n",
      "    booster = Booster(params=params, train_set=train_set)\n",
      "  File \"F:\\Python\\Python37\\lib\\site-packages\\lightgbm\\basic.py\", line 2605, in __init__\n",
      "    train_set.construct()\n",
      "  File \"F:\\Python\\Python37\\lib\\site-packages\\lightgbm\\basic.py\", line 1819, in construct\n",
      "    categorical_feature=self.categorical_feature, params=self.params)\n",
      "  File \"F:\\Python\\Python37\\lib\\site-packages\\lightgbm\\basic.py\", line 1557, in _lazy_init\n",
      "    self.set_label(label)\n",
      "  File \"F:\\Python\\Python37\\lib\\site-packages\\lightgbm\\basic.py\", line 2163, in set_label\n",
      "    label = list_to_1d_numpy(_label_from_pandas(label), name='label')\n",
      "  File \"F:\\Python\\Python37\\lib\\site-packages\\lightgbm\\basic.py\", line 186, in list_to_1d_numpy\n",
      "    raise ValueError('Series.dtypes must be int, float or bool')\n",
      "ValueError: Series.dtypes must be int, float or bool\n",
      "ERROR:root:Internal Python error in the inspect module.\n",
      "Below is the traceback from this internal error.\n",
      "\n"
     ]
    },
    {
     "name": "stdout",
     "output_type": "stream",
     "text": [
      "Traceback (most recent call last):\n",
      "  File \"F:\\Python\\Python37\\lib\\site-packages\\IPython\\core\\interactiveshell.py\", line 3417, in run_code\n",
      "    exec(code_obj, self.user_global_ns, self.user_ns)\n",
      "  File \"<ipython-input-27-a6b7f4e955c9>\", line 38, in <module>\n",
      "    study.optimize(objective, n_trials=1000)\n",
      "  File \"F:\\Python\\Python37\\lib\\site-packages\\optuna\\study\\study.py\", line 409, in optimize\n",
      "    show_progress_bar=show_progress_bar,\n",
      "  File \"F:\\Python\\Python37\\lib\\site-packages\\optuna\\study\\_optimize.py\", line 76, in _optimize\n",
      "    progress_bar=progress_bar,\n",
      "  File \"F:\\Python\\Python37\\lib\\site-packages\\optuna\\study\\_optimize.py\", line 163, in _optimize_sequential\n",
      "    trial = _run_trial(study, func, catch)\n",
      "  File \"F:\\Python\\Python37\\lib\\site-packages\\optuna\\study\\_optimize.py\", line 264, in _run_trial\n",
      "    raise func_err\n",
      "  File \"F:\\Python\\Python37\\lib\\site-packages\\optuna\\study\\_optimize.py\", line 213, in _run_trial\n",
      "    value_or_values = func(trial)\n",
      "  File \"<ipython-input-27-a6b7f4e955c9>\", line 28, in objective\n",
      "    gbm = lgb.train(param, dtrain)\n",
      "  File \"F:\\Python\\Python37\\lib\\site-packages\\lightgbm\\engine.py\", line 272, in train\n",
      "    booster = Booster(params=params, train_set=train_set)\n",
      "  File \"F:\\Python\\Python37\\lib\\site-packages\\lightgbm\\basic.py\", line 2605, in __init__\n",
      "    train_set.construct()\n",
      "  File \"F:\\Python\\Python37\\lib\\site-packages\\lightgbm\\basic.py\", line 1819, in construct\n",
      "    categorical_feature=self.categorical_feature, params=self.params)\n",
      "  File \"F:\\Python\\Python37\\lib\\site-packages\\lightgbm\\basic.py\", line 1557, in _lazy_init\n",
      "    self.set_label(label)\n",
      "  File \"F:\\Python\\Python37\\lib\\site-packages\\lightgbm\\basic.py\", line 2163, in set_label\n",
      "    label = list_to_1d_numpy(_label_from_pandas(label), name='label')\n",
      "  File \"F:\\Python\\Python37\\lib\\site-packages\\lightgbm\\basic.py\", line 186, in list_to_1d_numpy\n",
      "    raise ValueError('Series.dtypes must be int, float or bool')\n",
      "ValueError: Series.dtypes must be int, float or bool\n",
      "\n",
      "During handling of the above exception, another exception occurred:\n",
      "\n",
      "Traceback (most recent call last):\n",
      "  File \"F:\\Python\\Python37\\lib\\site-packages\\IPython\\core\\interactiveshell.py\", line 2044, in showtraceback\n",
      "    stb = value._render_traceback_()\n",
      "AttributeError: 'ValueError' object has no attribute '_render_traceback_'\n",
      "\n",
      "During handling of the above exception, another exception occurred:\n",
      "\n",
      "Traceback (most recent call last):\n",
      "  File \"F:\\Python\\Python37\\lib\\genericpath.py\", line 19, in exists\n",
      "    os.stat(path)\n",
      "OSError: [WinError 123] The filename, directory name, or volume label syntax is incorrect: '<ipython-input-27-a6b7f4e955c9>'\n",
      "\n",
      "During handling of the above exception, another exception occurred:\n",
      "\n",
      "Traceback (most recent call last):\n",
      "  File \"F:\\Python\\Python37\\lib\\site-packages\\IPython\\core\\ultratb.py\", line 1169, in get_records\n",
      "    return _fixed_getinnerframes(etb, number_of_lines_of_context, tb_offset)\n",
      "  File \"F:\\Python\\Python37\\lib\\site-packages\\IPython\\core\\ultratb.py\", line 316, in wrapped\n",
      "    return f(*args, **kwargs)\n",
      "  File \"F:\\Python\\Python37\\lib\\site-packages\\IPython\\core\\ultratb.py\", line 350, in _fixed_getinnerframes\n",
      "    records = fix_frame_records_filenames(inspect.getinnerframes(etb, context))\n",
      "  File \"F:\\Python\\Python37\\lib\\inspect.py\", line 1502, in getinnerframes\n",
      "    frameinfo = (tb.tb_frame,) + getframeinfo(tb, context)\n",
      "  File \"F:\\Python\\Python37\\lib\\inspect.py\", line 1464, in getframeinfo\n",
      "    lines, lnum = findsource(frame)\n",
      "  File \"F:\\Python\\Python37\\lib\\site-packages\\IPython\\core\\ultratb.py\", line 170, in findsource\n",
      "    file = getsourcefile(object) or getfile(object)\n",
      "  File \"F:\\Python\\Python37\\lib\\inspect.py\", line 693, in getsourcefile\n",
      "    if os.path.exists(filename):\n",
      "  File \"F:\\Python\\Python37\\lib\\genericpath.py\", line 19, in exists\n",
      "    os.stat(path)\n",
      "KeyboardInterrupt\n"
     ]
    },
    {
     "ename": "TypeError",
     "evalue": "object of type 'NoneType' has no len()",
     "output_type": "error",
     "traceback": [
      "\u001b[1;31m---------------------------------------------------------------------------\u001b[0m",
      "\u001b[1;31mValueError\u001b[0m                                Traceback (most recent call last)",
      "    \u001b[1;31m[... skipping hidden 1 frame]\u001b[0m\n",
      "\u001b[1;32m<ipython-input-27-a6b7f4e955c9>\u001b[0m in \u001b[0;36m<module>\u001b[1;34m\u001b[0m\n\u001b[0;32m     37\u001b[0m \u001b[0mstudy\u001b[0m \u001b[1;33m=\u001b[0m \u001b[0moptuna\u001b[0m\u001b[1;33m.\u001b[0m\u001b[0mcreate_study\u001b[0m\u001b[1;33m(\u001b[0m\u001b[0mdirection\u001b[0m\u001b[1;33m=\u001b[0m\u001b[1;34m'maximize'\u001b[0m\u001b[1;33m)\u001b[0m\u001b[1;33m\u001b[0m\u001b[1;33m\u001b[0m\u001b[0m\n\u001b[1;32m---> 38\u001b[1;33m \u001b[0mstudy\u001b[0m\u001b[1;33m.\u001b[0m\u001b[0moptimize\u001b[0m\u001b[1;33m(\u001b[0m\u001b[0mobjective\u001b[0m\u001b[1;33m,\u001b[0m \u001b[0mn_trials\u001b[0m\u001b[1;33m=\u001b[0m\u001b[1;36m1000\u001b[0m\u001b[1;33m)\u001b[0m\u001b[1;33m\u001b[0m\u001b[1;33m\u001b[0m\u001b[0m\n\u001b[0m",
      "\u001b[1;32mF:\\Python\\Python37\\lib\\site-packages\\optuna\\study\\study.py\u001b[0m in \u001b[0;36moptimize\u001b[1;34m(self, func, n_trials, timeout, n_jobs, catch, callbacks, gc_after_trial, show_progress_bar)\u001b[0m\n\u001b[0;32m    408\u001b[0m             \u001b[0mgc_after_trial\u001b[0m\u001b[1;33m=\u001b[0m\u001b[0mgc_after_trial\u001b[0m\u001b[1;33m,\u001b[0m\u001b[1;33m\u001b[0m\u001b[1;33m\u001b[0m\u001b[0m\n\u001b[1;32m--> 409\u001b[1;33m             \u001b[0mshow_progress_bar\u001b[0m\u001b[1;33m=\u001b[0m\u001b[0mshow_progress_bar\u001b[0m\u001b[1;33m,\u001b[0m\u001b[1;33m\u001b[0m\u001b[1;33m\u001b[0m\u001b[0m\n\u001b[0m\u001b[0;32m    410\u001b[0m         )\n",
      "\u001b[1;32mF:\\Python\\Python37\\lib\\site-packages\\optuna\\study\\_optimize.py\u001b[0m in \u001b[0;36m_optimize\u001b[1;34m(study, func, n_trials, timeout, n_jobs, catch, callbacks, gc_after_trial, show_progress_bar)\u001b[0m\n\u001b[0;32m     75\u001b[0m                 \u001b[0mtime_start\u001b[0m\u001b[1;33m=\u001b[0m\u001b[1;32mNone\u001b[0m\u001b[1;33m,\u001b[0m\u001b[1;33m\u001b[0m\u001b[1;33m\u001b[0m\u001b[0m\n\u001b[1;32m---> 76\u001b[1;33m                 \u001b[0mprogress_bar\u001b[0m\u001b[1;33m=\u001b[0m\u001b[0mprogress_bar\u001b[0m\u001b[1;33m,\u001b[0m\u001b[1;33m\u001b[0m\u001b[1;33m\u001b[0m\u001b[0m\n\u001b[0m\u001b[0;32m     77\u001b[0m             )\n",
      "\u001b[1;32mF:\\Python\\Python37\\lib\\site-packages\\optuna\\study\\_optimize.py\u001b[0m in \u001b[0;36m_optimize_sequential\u001b[1;34m(study, func, n_trials, timeout, catch, callbacks, gc_after_trial, reseed_sampler_rng, time_start, progress_bar)\u001b[0m\n\u001b[0;32m    162\u001b[0m         \u001b[1;32mtry\u001b[0m\u001b[1;33m:\u001b[0m\u001b[1;33m\u001b[0m\u001b[1;33m\u001b[0m\u001b[0m\n\u001b[1;32m--> 163\u001b[1;33m             \u001b[0mtrial\u001b[0m \u001b[1;33m=\u001b[0m \u001b[0m_run_trial\u001b[0m\u001b[1;33m(\u001b[0m\u001b[0mstudy\u001b[0m\u001b[1;33m,\u001b[0m \u001b[0mfunc\u001b[0m\u001b[1;33m,\u001b[0m \u001b[0mcatch\u001b[0m\u001b[1;33m)\u001b[0m\u001b[1;33m\u001b[0m\u001b[1;33m\u001b[0m\u001b[0m\n\u001b[0m\u001b[0;32m    164\u001b[0m         \u001b[1;32mexcept\u001b[0m \u001b[0mException\u001b[0m\u001b[1;33m:\u001b[0m\u001b[1;33m\u001b[0m\u001b[1;33m\u001b[0m\u001b[0m\n",
      "\u001b[1;32mF:\\Python\\Python37\\lib\\site-packages\\optuna\\study\\_optimize.py\u001b[0m in \u001b[0;36m_run_trial\u001b[1;34m(study, func, catch)\u001b[0m\n\u001b[0;32m    263\u001b[0m     \u001b[1;32mif\u001b[0m \u001b[0mstate\u001b[0m \u001b[1;33m==\u001b[0m \u001b[0mTrialState\u001b[0m\u001b[1;33m.\u001b[0m\u001b[0mFAIL\u001b[0m \u001b[1;32mand\u001b[0m \u001b[0mfunc_err\u001b[0m \u001b[1;32mis\u001b[0m \u001b[1;32mnot\u001b[0m \u001b[1;32mNone\u001b[0m \u001b[1;32mand\u001b[0m \u001b[1;32mnot\u001b[0m \u001b[0misinstance\u001b[0m\u001b[1;33m(\u001b[0m\u001b[0mfunc_err\u001b[0m\u001b[1;33m,\u001b[0m \u001b[0mcatch\u001b[0m\u001b[1;33m)\u001b[0m\u001b[1;33m:\u001b[0m\u001b[1;33m\u001b[0m\u001b[1;33m\u001b[0m\u001b[0m\n\u001b[1;32m--> 264\u001b[1;33m         \u001b[1;32mraise\u001b[0m \u001b[0mfunc_err\u001b[0m\u001b[1;33m\u001b[0m\u001b[1;33m\u001b[0m\u001b[0m\n\u001b[0m\u001b[0;32m    265\u001b[0m     \u001b[1;32mreturn\u001b[0m \u001b[0mtrial\u001b[0m\u001b[1;33m\u001b[0m\u001b[1;33m\u001b[0m\u001b[0m\n",
      "\u001b[1;32mF:\\Python\\Python37\\lib\\site-packages\\optuna\\study\\_optimize.py\u001b[0m in \u001b[0;36m_run_trial\u001b[1;34m(study, func, catch)\u001b[0m\n\u001b[0;32m    212\u001b[0m     \u001b[1;32mtry\u001b[0m\u001b[1;33m:\u001b[0m\u001b[1;33m\u001b[0m\u001b[1;33m\u001b[0m\u001b[0m\n\u001b[1;32m--> 213\u001b[1;33m         \u001b[0mvalue_or_values\u001b[0m \u001b[1;33m=\u001b[0m \u001b[0mfunc\u001b[0m\u001b[1;33m(\u001b[0m\u001b[0mtrial\u001b[0m\u001b[1;33m)\u001b[0m\u001b[1;33m\u001b[0m\u001b[1;33m\u001b[0m\u001b[0m\n\u001b[0m\u001b[0;32m    214\u001b[0m     \u001b[1;32mexcept\u001b[0m \u001b[0mexceptions\u001b[0m\u001b[1;33m.\u001b[0m\u001b[0mTrialPruned\u001b[0m \u001b[1;32mas\u001b[0m \u001b[0me\u001b[0m\u001b[1;33m:\u001b[0m\u001b[1;33m\u001b[0m\u001b[1;33m\u001b[0m\u001b[0m\n",
      "\u001b[1;32m<ipython-input-27-a6b7f4e955c9>\u001b[0m in \u001b[0;36mobjective\u001b[1;34m(trial)\u001b[0m\n\u001b[0;32m     27\u001b[0m \u001b[1;33m\u001b[0m\u001b[0m\n\u001b[1;32m---> 28\u001b[1;33m         \u001b[0mgbm\u001b[0m \u001b[1;33m=\u001b[0m \u001b[0mlgb\u001b[0m\u001b[1;33m.\u001b[0m\u001b[0mtrain\u001b[0m\u001b[1;33m(\u001b[0m\u001b[0mparam\u001b[0m\u001b[1;33m,\u001b[0m \u001b[0mdtrain\u001b[0m\u001b[1;33m)\u001b[0m\u001b[1;33m\u001b[0m\u001b[1;33m\u001b[0m\u001b[0m\n\u001b[0m\u001b[0;32m     29\u001b[0m         \u001b[0mpreds\u001b[0m \u001b[1;33m=\u001b[0m \u001b[0mnp\u001b[0m\u001b[1;33m.\u001b[0m\u001b[0mrint\u001b[0m\u001b[1;33m(\u001b[0m\u001b[0mgbm\u001b[0m\u001b[1;33m.\u001b[0m\u001b[0mpredict\u001b[0m\u001b[1;33m(\u001b[0m\u001b[0mtrain\u001b[0m\u001b[1;33m[\u001b[0m\u001b[0mfeatures\u001b[0m\u001b[1;33m]\u001b[0m\u001b[1;33m.\u001b[0m\u001b[0miloc\u001b[0m\u001b[1;33m[\u001b[0m\u001b[0mtest_ix\u001b[0m\u001b[1;33m]\u001b[0m\u001b[1;33m)\u001b[0m\u001b[1;33m)\u001b[0m\u001b[1;33m\u001b[0m\u001b[1;33m\u001b[0m\u001b[0m\n",
      "\u001b[1;32mF:\\Python\\Python37\\lib\\site-packages\\lightgbm\\engine.py\u001b[0m in \u001b[0;36mtrain\u001b[1;34m(params, train_set, num_boost_round, valid_sets, valid_names, fobj, feval, init_model, feature_name, categorical_feature, early_stopping_rounds, evals_result, verbose_eval, learning_rates, keep_training_booster, callbacks)\u001b[0m\n\u001b[0;32m    271\u001b[0m     \u001b[1;32mtry\u001b[0m\u001b[1;33m:\u001b[0m\u001b[1;33m\u001b[0m\u001b[1;33m\u001b[0m\u001b[0m\n\u001b[1;32m--> 272\u001b[1;33m         \u001b[0mbooster\u001b[0m \u001b[1;33m=\u001b[0m \u001b[0mBooster\u001b[0m\u001b[1;33m(\u001b[0m\u001b[0mparams\u001b[0m\u001b[1;33m=\u001b[0m\u001b[0mparams\u001b[0m\u001b[1;33m,\u001b[0m \u001b[0mtrain_set\u001b[0m\u001b[1;33m=\u001b[0m\u001b[0mtrain_set\u001b[0m\u001b[1;33m)\u001b[0m\u001b[1;33m\u001b[0m\u001b[1;33m\u001b[0m\u001b[0m\n\u001b[0m\u001b[0;32m    273\u001b[0m         \u001b[1;32mif\u001b[0m \u001b[0mis_valid_contain_train\u001b[0m\u001b[1;33m:\u001b[0m\u001b[1;33m\u001b[0m\u001b[1;33m\u001b[0m\u001b[0m\n",
      "\u001b[1;32mF:\\Python\\Python37\\lib\\site-packages\\lightgbm\\basic.py\u001b[0m in \u001b[0;36m__init__\u001b[1;34m(self, params, train_set, model_file, model_str, silent)\u001b[0m\n\u001b[0;32m   2604\u001b[0m             \u001b[1;31m# construct booster object\u001b[0m\u001b[1;33m\u001b[0m\u001b[1;33m\u001b[0m\u001b[1;33m\u001b[0m\u001b[0m\n\u001b[1;32m-> 2605\u001b[1;33m             \u001b[0mtrain_set\u001b[0m\u001b[1;33m.\u001b[0m\u001b[0mconstruct\u001b[0m\u001b[1;33m(\u001b[0m\u001b[1;33m)\u001b[0m\u001b[1;33m\u001b[0m\u001b[1;33m\u001b[0m\u001b[0m\n\u001b[0m\u001b[0;32m   2606\u001b[0m             \u001b[1;31m# copy the parameters from train_set\u001b[0m\u001b[1;33m\u001b[0m\u001b[1;33m\u001b[0m\u001b[1;33m\u001b[0m\u001b[0m\n",
      "\u001b[1;32mF:\\Python\\Python37\\lib\\site-packages\\lightgbm\\basic.py\u001b[0m in \u001b[0;36mconstruct\u001b[1;34m(self)\u001b[0m\n\u001b[0;32m   1818\u001b[0m                                 \u001b[0msilent\u001b[0m\u001b[1;33m=\u001b[0m\u001b[0mself\u001b[0m\u001b[1;33m.\u001b[0m\u001b[0msilent\u001b[0m\u001b[1;33m,\u001b[0m \u001b[0mfeature_name\u001b[0m\u001b[1;33m=\u001b[0m\u001b[0mself\u001b[0m\u001b[1;33m.\u001b[0m\u001b[0mfeature_name\u001b[0m\u001b[1;33m,\u001b[0m\u001b[1;33m\u001b[0m\u001b[1;33m\u001b[0m\u001b[0m\n\u001b[1;32m-> 1819\u001b[1;33m                                 categorical_feature=self.categorical_feature, params=self.params)\n\u001b[0m\u001b[0;32m   1820\u001b[0m             \u001b[1;32mif\u001b[0m \u001b[0mself\u001b[0m\u001b[1;33m.\u001b[0m\u001b[0mfree_raw_data\u001b[0m\u001b[1;33m:\u001b[0m\u001b[1;33m\u001b[0m\u001b[1;33m\u001b[0m\u001b[0m\n",
      "\u001b[1;32mF:\\Python\\Python37\\lib\\site-packages\\lightgbm\\basic.py\u001b[0m in \u001b[0;36m_lazy_init\u001b[1;34m(self, data, label, reference, weight, group, init_score, predictor, silent, feature_name, categorical_feature, params)\u001b[0m\n\u001b[0;32m   1556\u001b[0m         \u001b[1;32mif\u001b[0m \u001b[0mlabel\u001b[0m \u001b[1;32mis\u001b[0m \u001b[1;32mnot\u001b[0m \u001b[1;32mNone\u001b[0m\u001b[1;33m:\u001b[0m\u001b[1;33m\u001b[0m\u001b[1;33m\u001b[0m\u001b[0m\n\u001b[1;32m-> 1557\u001b[1;33m             \u001b[0mself\u001b[0m\u001b[1;33m.\u001b[0m\u001b[0mset_label\u001b[0m\u001b[1;33m(\u001b[0m\u001b[0mlabel\u001b[0m\u001b[1;33m)\u001b[0m\u001b[1;33m\u001b[0m\u001b[1;33m\u001b[0m\u001b[0m\n\u001b[0m\u001b[0;32m   1558\u001b[0m         \u001b[1;32mif\u001b[0m \u001b[0mself\u001b[0m\u001b[1;33m.\u001b[0m\u001b[0mget_label\u001b[0m\u001b[1;33m(\u001b[0m\u001b[1;33m)\u001b[0m \u001b[1;32mis\u001b[0m \u001b[1;32mNone\u001b[0m\u001b[1;33m:\u001b[0m\u001b[1;33m\u001b[0m\u001b[1;33m\u001b[0m\u001b[0m\n",
      "\u001b[1;32mF:\\Python\\Python37\\lib\\site-packages\\lightgbm\\basic.py\u001b[0m in \u001b[0;36mset_label\u001b[1;34m(self, label)\u001b[0m\n\u001b[0;32m   2162\u001b[0m         \u001b[1;32mif\u001b[0m \u001b[0mself\u001b[0m\u001b[1;33m.\u001b[0m\u001b[0mhandle\u001b[0m \u001b[1;32mis\u001b[0m \u001b[1;32mnot\u001b[0m \u001b[1;32mNone\u001b[0m\u001b[1;33m:\u001b[0m\u001b[1;33m\u001b[0m\u001b[1;33m\u001b[0m\u001b[0m\n\u001b[1;32m-> 2163\u001b[1;33m             \u001b[0mlabel\u001b[0m \u001b[1;33m=\u001b[0m \u001b[0mlist_to_1d_numpy\u001b[0m\u001b[1;33m(\u001b[0m\u001b[0m_label_from_pandas\u001b[0m\u001b[1;33m(\u001b[0m\u001b[0mlabel\u001b[0m\u001b[1;33m)\u001b[0m\u001b[1;33m,\u001b[0m \u001b[0mname\u001b[0m\u001b[1;33m=\u001b[0m\u001b[1;34m'label'\u001b[0m\u001b[1;33m)\u001b[0m\u001b[1;33m\u001b[0m\u001b[1;33m\u001b[0m\u001b[0m\n\u001b[0m\u001b[0;32m   2164\u001b[0m             \u001b[0mself\u001b[0m\u001b[1;33m.\u001b[0m\u001b[0mset_field\u001b[0m\u001b[1;33m(\u001b[0m\u001b[1;34m'label'\u001b[0m\u001b[1;33m,\u001b[0m \u001b[0mlabel\u001b[0m\u001b[1;33m)\u001b[0m\u001b[1;33m\u001b[0m\u001b[1;33m\u001b[0m\u001b[0m\n",
      "\u001b[1;32mF:\\Python\\Python37\\lib\\site-packages\\lightgbm\\basic.py\u001b[0m in \u001b[0;36mlist_to_1d_numpy\u001b[1;34m(data, dtype, name)\u001b[0m\n\u001b[0;32m    185\u001b[0m         \u001b[1;32mif\u001b[0m \u001b[0m_get_bad_pandas_dtypes\u001b[0m\u001b[1;33m(\u001b[0m\u001b[1;33m[\u001b[0m\u001b[0mdata\u001b[0m\u001b[1;33m.\u001b[0m\u001b[0mdtypes\u001b[0m\u001b[1;33m]\u001b[0m\u001b[1;33m)\u001b[0m\u001b[1;33m:\u001b[0m\u001b[1;33m\u001b[0m\u001b[1;33m\u001b[0m\u001b[0m\n\u001b[1;32m--> 186\u001b[1;33m             \u001b[1;32mraise\u001b[0m \u001b[0mValueError\u001b[0m\u001b[1;33m(\u001b[0m\u001b[1;34m'Series.dtypes must be int, float or bool'\u001b[0m\u001b[1;33m)\u001b[0m\u001b[1;33m\u001b[0m\u001b[1;33m\u001b[0m\u001b[0m\n\u001b[0m\u001b[0;32m    187\u001b[0m         \u001b[1;32mreturn\u001b[0m \u001b[0mnp\u001b[0m\u001b[1;33m.\u001b[0m\u001b[0marray\u001b[0m\u001b[1;33m(\u001b[0m\u001b[0mdata\u001b[0m\u001b[1;33m,\u001b[0m \u001b[0mdtype\u001b[0m\u001b[1;33m=\u001b[0m\u001b[0mdtype\u001b[0m\u001b[1;33m,\u001b[0m \u001b[0mcopy\u001b[0m\u001b[1;33m=\u001b[0m\u001b[1;32mFalse\u001b[0m\u001b[1;33m)\u001b[0m  \u001b[1;31m# SparseArray should be supported as well\u001b[0m\u001b[1;33m\u001b[0m\u001b[1;33m\u001b[0m\u001b[0m\n",
      "\u001b[1;31mValueError\u001b[0m: Series.dtypes must be int, float or bool",
      "\nDuring handling of the above exception, another exception occurred:\n",
      "\u001b[1;31mAttributeError\u001b[0m                            Traceback (most recent call last)",
      "\u001b[1;32mF:\\Python\\Python37\\lib\\site-packages\\IPython\\core\\interactiveshell.py\u001b[0m in \u001b[0;36mshowtraceback\u001b[1;34m(self, exc_tuple, filename, tb_offset, exception_only, running_compiled_code)\u001b[0m\n\u001b[0;32m   2043\u001b[0m                         \u001b[1;31m# in the engines. This should return a list of strings.\u001b[0m\u001b[1;33m\u001b[0m\u001b[1;33m\u001b[0m\u001b[1;33m\u001b[0m\u001b[0m\n\u001b[1;32m-> 2044\u001b[1;33m                         \u001b[0mstb\u001b[0m \u001b[1;33m=\u001b[0m \u001b[0mvalue\u001b[0m\u001b[1;33m.\u001b[0m\u001b[0m_render_traceback_\u001b[0m\u001b[1;33m(\u001b[0m\u001b[1;33m)\u001b[0m\u001b[1;33m\u001b[0m\u001b[1;33m\u001b[0m\u001b[0m\n\u001b[0m\u001b[0;32m   2045\u001b[0m                     \u001b[1;32mexcept\u001b[0m \u001b[0mException\u001b[0m\u001b[1;33m:\u001b[0m\u001b[1;33m\u001b[0m\u001b[1;33m\u001b[0m\u001b[0m\n",
      "\u001b[1;31mAttributeError\u001b[0m: 'ValueError' object has no attribute '_render_traceback_'",
      "\nDuring handling of the above exception, another exception occurred:\n",
      "\u001b[1;31mTypeError\u001b[0m                                 Traceback (most recent call last)",
      "    \u001b[1;31m[... skipping hidden 1 frame]\u001b[0m\n",
      "\u001b[1;32mF:\\Python\\Python37\\lib\\site-packages\\IPython\\core\\interactiveshell.py\u001b[0m in \u001b[0;36mshowtraceback\u001b[1;34m(self, exc_tuple, filename, tb_offset, exception_only, running_compiled_code)\u001b[0m\n\u001b[0;32m   2045\u001b[0m                     \u001b[1;32mexcept\u001b[0m \u001b[0mException\u001b[0m\u001b[1;33m:\u001b[0m\u001b[1;33m\u001b[0m\u001b[1;33m\u001b[0m\u001b[0m\n\u001b[0;32m   2046\u001b[0m                         stb = self.InteractiveTB.structured_traceback(etype,\n\u001b[1;32m-> 2047\u001b[1;33m                                             value, tb, tb_offset=tb_offset)\n\u001b[0m\u001b[0;32m   2048\u001b[0m \u001b[1;33m\u001b[0m\u001b[0m\n\u001b[0;32m   2049\u001b[0m                     \u001b[0mself\u001b[0m\u001b[1;33m.\u001b[0m\u001b[0m_showtraceback\u001b[0m\u001b[1;33m(\u001b[0m\u001b[0metype\u001b[0m\u001b[1;33m,\u001b[0m \u001b[0mvalue\u001b[0m\u001b[1;33m,\u001b[0m \u001b[0mstb\u001b[0m\u001b[1;33m)\u001b[0m\u001b[1;33m\u001b[0m\u001b[1;33m\u001b[0m\u001b[0m\n",
      "\u001b[1;32mF:\\Python\\Python37\\lib\\site-packages\\IPython\\core\\ultratb.py\u001b[0m in \u001b[0;36mstructured_traceback\u001b[1;34m(self, etype, value, tb, tb_offset, number_of_lines_of_context)\u001b[0m\n\u001b[0;32m   1434\u001b[0m             \u001b[0mself\u001b[0m\u001b[1;33m.\u001b[0m\u001b[0mtb\u001b[0m \u001b[1;33m=\u001b[0m \u001b[0mtb\u001b[0m\u001b[1;33m\u001b[0m\u001b[1;33m\u001b[0m\u001b[0m\n\u001b[0;32m   1435\u001b[0m         return FormattedTB.structured_traceback(\n\u001b[1;32m-> 1436\u001b[1;33m             self, etype, value, tb, tb_offset, number_of_lines_of_context)\n\u001b[0m\u001b[0;32m   1437\u001b[0m \u001b[1;33m\u001b[0m\u001b[0m\n\u001b[0;32m   1438\u001b[0m \u001b[1;33m\u001b[0m\u001b[0m\n",
      "\u001b[1;32mF:\\Python\\Python37\\lib\\site-packages\\IPython\\core\\ultratb.py\u001b[0m in \u001b[0;36mstructured_traceback\u001b[1;34m(self, etype, value, tb, tb_offset, number_of_lines_of_context)\u001b[0m\n\u001b[0;32m   1334\u001b[0m             \u001b[1;31m# Verbose modes need a full traceback\u001b[0m\u001b[1;33m\u001b[0m\u001b[1;33m\u001b[0m\u001b[1;33m\u001b[0m\u001b[0m\n\u001b[0;32m   1335\u001b[0m             return VerboseTB.structured_traceback(\n\u001b[1;32m-> 1336\u001b[1;33m                 \u001b[0mself\u001b[0m\u001b[1;33m,\u001b[0m \u001b[0metype\u001b[0m\u001b[1;33m,\u001b[0m \u001b[0mvalue\u001b[0m\u001b[1;33m,\u001b[0m \u001b[0mtb\u001b[0m\u001b[1;33m,\u001b[0m \u001b[0mtb_offset\u001b[0m\u001b[1;33m,\u001b[0m \u001b[0mnumber_of_lines_of_context\u001b[0m\u001b[1;33m\u001b[0m\u001b[1;33m\u001b[0m\u001b[0m\n\u001b[0m\u001b[0;32m   1337\u001b[0m             )\n\u001b[0;32m   1338\u001b[0m         \u001b[1;32melif\u001b[0m \u001b[0mmode\u001b[0m \u001b[1;33m==\u001b[0m \u001b[1;34m'Minimal'\u001b[0m\u001b[1;33m:\u001b[0m\u001b[1;33m\u001b[0m\u001b[1;33m\u001b[0m\u001b[0m\n",
      "\u001b[1;32mF:\\Python\\Python37\\lib\\site-packages\\IPython\\core\\ultratb.py\u001b[0m in \u001b[0;36mstructured_traceback\u001b[1;34m(self, etype, evalue, etb, tb_offset, number_of_lines_of_context)\u001b[0m\n\u001b[0;32m   1191\u001b[0m \u001b[1;33m\u001b[0m\u001b[0m\n\u001b[0;32m   1192\u001b[0m         formatted_exception = self.format_exception_as_a_whole(etype, evalue, etb, number_of_lines_of_context,\n\u001b[1;32m-> 1193\u001b[1;33m                                                                tb_offset)\n\u001b[0m\u001b[0;32m   1194\u001b[0m \u001b[1;33m\u001b[0m\u001b[0m\n\u001b[0;32m   1195\u001b[0m         \u001b[0mcolors\u001b[0m \u001b[1;33m=\u001b[0m \u001b[0mself\u001b[0m\u001b[1;33m.\u001b[0m\u001b[0mColors\u001b[0m  \u001b[1;31m# just a shorthand + quicker name lookup\u001b[0m\u001b[1;33m\u001b[0m\u001b[1;33m\u001b[0m\u001b[0m\n",
      "\u001b[1;32mF:\\Python\\Python37\\lib\\site-packages\\IPython\\core\\ultratb.py\u001b[0m in \u001b[0;36mformat_exception_as_a_whole\u001b[1;34m(self, etype, evalue, etb, number_of_lines_of_context, tb_offset)\u001b[0m\n\u001b[0;32m   1148\u001b[0m \u001b[1;33m\u001b[0m\u001b[0m\n\u001b[0;32m   1149\u001b[0m \u001b[1;33m\u001b[0m\u001b[0m\n\u001b[1;32m-> 1150\u001b[1;33m         \u001b[0mlast_unique\u001b[0m\u001b[1;33m,\u001b[0m \u001b[0mrecursion_repeat\u001b[0m \u001b[1;33m=\u001b[0m \u001b[0mfind_recursion\u001b[0m\u001b[1;33m(\u001b[0m\u001b[0morig_etype\u001b[0m\u001b[1;33m,\u001b[0m \u001b[0mevalue\u001b[0m\u001b[1;33m,\u001b[0m \u001b[0mrecords\u001b[0m\u001b[1;33m)\u001b[0m\u001b[1;33m\u001b[0m\u001b[1;33m\u001b[0m\u001b[0m\n\u001b[0m\u001b[0;32m   1151\u001b[0m \u001b[1;33m\u001b[0m\u001b[0m\n\u001b[0;32m   1152\u001b[0m         \u001b[0mframes\u001b[0m \u001b[1;33m=\u001b[0m \u001b[0mself\u001b[0m\u001b[1;33m.\u001b[0m\u001b[0mformat_records\u001b[0m\u001b[1;33m(\u001b[0m\u001b[0mrecords\u001b[0m\u001b[1;33m,\u001b[0m \u001b[0mlast_unique\u001b[0m\u001b[1;33m,\u001b[0m \u001b[0mrecursion_repeat\u001b[0m\u001b[1;33m)\u001b[0m\u001b[1;33m\u001b[0m\u001b[1;33m\u001b[0m\u001b[0m\n",
      "\u001b[1;32mF:\\Python\\Python37\\lib\\site-packages\\IPython\\core\\ultratb.py\u001b[0m in \u001b[0;36mfind_recursion\u001b[1;34m(etype, value, records)\u001b[0m\n\u001b[0;32m    449\u001b[0m     \u001b[1;31m# first frame (from in to out) that looks different.\u001b[0m\u001b[1;33m\u001b[0m\u001b[1;33m\u001b[0m\u001b[1;33m\u001b[0m\u001b[0m\n\u001b[0;32m    450\u001b[0m     \u001b[1;32mif\u001b[0m \u001b[1;32mnot\u001b[0m \u001b[0mis_recursion_error\u001b[0m\u001b[1;33m(\u001b[0m\u001b[0metype\u001b[0m\u001b[1;33m,\u001b[0m \u001b[0mvalue\u001b[0m\u001b[1;33m,\u001b[0m \u001b[0mrecords\u001b[0m\u001b[1;33m)\u001b[0m\u001b[1;33m:\u001b[0m\u001b[1;33m\u001b[0m\u001b[1;33m\u001b[0m\u001b[0m\n\u001b[1;32m--> 451\u001b[1;33m         \u001b[1;32mreturn\u001b[0m \u001b[0mlen\u001b[0m\u001b[1;33m(\u001b[0m\u001b[0mrecords\u001b[0m\u001b[1;33m)\u001b[0m\u001b[1;33m,\u001b[0m \u001b[1;36m0\u001b[0m\u001b[1;33m\u001b[0m\u001b[1;33m\u001b[0m\u001b[0m\n\u001b[0m\u001b[0;32m    452\u001b[0m \u001b[1;33m\u001b[0m\u001b[0m\n\u001b[0;32m    453\u001b[0m     \u001b[1;31m# Select filename, lineno, func_name to track frames with\u001b[0m\u001b[1;33m\u001b[0m\u001b[1;33m\u001b[0m\u001b[1;33m\u001b[0m\u001b[0m\n",
      "\u001b[1;31mTypeError\u001b[0m: object of type 'NoneType' has no len()"
     ]
    }
   ],
   "source": [
    "import lightgbm as lgb\n",
    "\n",
    "def objective(trial):\n",
    "    \n",
    "    param = {\n",
    "        'objective': 'binary',\n",
    "        'metric': 'binary_logloss',\n",
    "        'verbosity': -1,\n",
    "        'boosting_type': 'gbdt',\n",
    "        'lambda_l1': trial.suggest_float('lambda_l1', 1e-8, 10.0, log=True),\n",
    "        'lambda_l2': trial.suggest_float('lambda_l2', 1e-8, 10.0, log=True),\n",
    "        'num_leaves': trial.suggest_int('num_leaves', 2, 32),\n",
    "        'feature_fraction': trial.suggest_float('feature_fraction', 0.4, 1.0),\n",
    "        'bagging_fraction': trial.suggest_float('bagging_fraction', 0.4, 1.0),\n",
    "        'bagging_freq': trial.suggest_int('bagging_freq', 1, 7),\n",
    "        'min_child_samples': trial.suggest_int('min_child_samples', 5, 100),\n",
    "    }\n",
    "    \n",
    "    kf = KFold(5, shuffle = True, random_state = 0)\n",
    "    kf.split(train)\n",
    "    \n",
    "    accuracy_scores = []\n",
    "    \n",
    "    for train_ix, test_ix in kf.split(train):\n",
    "        dtrain = lgb.Dataset(train[features].iloc[train_ix,:], label = train['Survived'].iloc[train_ix])\n",
    "        \n",
    "        gbm = lgb.train(param, dtrain)\n",
    "        preds = np.rint(gbm.predict(train[features].iloc[test_ix]))\n",
    "        \n",
    "        accuracy_scores.append(metrics.accuracy_score(train['Survived'].iloc[test_ix], preds))\n",
    "        \n",
    "    return np.mean(accuracy_scores)\n",
    "    \n",
    "\n",
    "# 3. Create a study object and optimize the objective function.\n",
    "study = optuna.create_study(direction='maximize')\n",
    "study.optimize(objective, n_trials=1000)"
   ]
  },
  {
   "cell_type": "code",
   "execution_count": 94,
   "metadata": {},
   "outputs": [
    {
     "data": {
      "text/plain": [
       "\"\\n{'lambda_l1': 5.5693205859882666e-08,\\n 'lambda_l2': 0.0029379573632802307,\\n 'num_leaves': 218,\\n 'feature_fraction': 0.4449630393801182,\\n 'bagging_fraction': 0.6190711470746258,\\n 'bagging_freq': 1,\\n 'min_child_samples': 24}\\n\""
      ]
     },
     "execution_count": 94,
     "metadata": {},
     "output_type": "execute_result"
    }
   ],
   "source": [
    "'''\n",
    "{'lambda_l1': 5.5693205859882666e-08,\n",
    " 'lambda_l2': 0.0029379573632802307,\n",
    " 'num_leaves': 218,\n",
    " 'feature_fraction': 0.4449630393801182,\n",
    " 'bagging_fraction': 0.6190711470746258,\n",
    " 'bagging_freq': 1,\n",
    " 'min_child_samples': 24}\n",
    "'''"
   ]
  },
  {
   "cell_type": "code",
   "execution_count": 53,
   "metadata": {},
   "outputs": [
    {
     "name": "stdout",
     "output_type": "stream",
     "text": [
      "[LightGBM] [Warning] Auto-choosing row-wise multi-threading, the overhead of testing was 0.000228 seconds.\n",
      "You can set `force_row_wise=true` to remove the overhead.\n",
      "And if memory is not enough, you can set `force_col_wise=true`.\n",
      "[LightGBM] [Info] Total Bins 225\n",
      "[LightGBM] [Info] Number of data points in the train set: 668, number of used features: 21\n",
      "[LightGBM] [Info] Start training from score 0.386228\n",
      "[LightGBM] [Warning] No further splits with positive gain, best gain: -inf\n",
      "[LightGBM] [Warning] No further splits with positive gain, best gain: -inf\n",
      "[LightGBM] [Warning] No further splits with positive gain, best gain: -inf\n",
      "[LightGBM] [Warning] No further splits with positive gain, best gain: -inf\n",
      "[LightGBM] [Warning] No further splits with positive gain, best gain: -inf\n",
      "[LightGBM] [Warning] No further splits with positive gain, best gain: -inf\n",
      "[LightGBM] [Warning] No further splits with positive gain, best gain: -inf\n",
      "[LightGBM] [Warning] No further splits with positive gain, best gain: -inf\n",
      "[LightGBM] [Warning] No further splits with positive gain, best gain: -inf\n",
      "[LightGBM] [Warning] No further splits with positive gain, best gain: -inf\n",
      "[LightGBM] [Warning] No further splits with positive gain, best gain: -inf\n",
      "[LightGBM] [Warning] No further splits with positive gain, best gain: -inf\n",
      "[LightGBM] [Warning] No further splits with positive gain, best gain: -inf\n",
      "[LightGBM] [Warning] No further splits with positive gain, best gain: -inf\n",
      "[LightGBM] [Warning] No further splits with positive gain, best gain: -inf\n",
      "[LightGBM] [Warning] No further splits with positive gain, best gain: -inf\n",
      "[LightGBM] [Warning] No further splits with positive gain, best gain: -inf\n",
      "[LightGBM] [Warning] No further splits with positive gain, best gain: -inf\n",
      "[LightGBM] [Warning] No further splits with positive gain, best gain: -inf\n",
      "[LightGBM] [Warning] No further splits with positive gain, best gain: -inf\n",
      "[LightGBM] [Warning] No further splits with positive gain, best gain: -inf\n",
      "[LightGBM] [Warning] No further splits with positive gain, best gain: -inf\n",
      "[LightGBM] [Warning] No further splits with positive gain, best gain: -inf\n",
      "[LightGBM] [Warning] No further splits with positive gain, best gain: -inf\n",
      "[LightGBM] [Warning] No further splits with positive gain, best gain: -inf\n",
      "[LightGBM] [Warning] No further splits with positive gain, best gain: -inf\n",
      "[LightGBM] [Warning] No further splits with positive gain, best gain: -inf\n",
      "[LightGBM] [Warning] No further splits with positive gain, best gain: -inf\n",
      "[LightGBM] [Warning] No further splits with positive gain, best gain: -inf\n",
      "[LightGBM] [Warning] No further splits with positive gain, best gain: -inf\n",
      "[LightGBM] [Warning] No further splits with positive gain, best gain: -inf\n",
      "[LightGBM] [Warning] No further splits with positive gain, best gain: -inf\n",
      "[LightGBM] [Warning] No further splits with positive gain, best gain: -inf\n",
      "[LightGBM] [Warning] No further splits with positive gain, best gain: -inf\n",
      "[LightGBM] [Warning] No further splits with positive gain, best gain: -inf\n",
      "[LightGBM] [Warning] No further splits with positive gain, best gain: -inf\n",
      "[LightGBM] [Warning] No further splits with positive gain, best gain: -inf\n",
      "[LightGBM] [Warning] No further splits with positive gain, best gain: -inf\n",
      "[LightGBM] [Warning] No further splits with positive gain, best gain: -inf\n",
      "[LightGBM] [Warning] No further splits with positive gain, best gain: -inf\n",
      "[LightGBM] [Warning] No further splits with positive gain, best gain: -inf\n",
      "[LightGBM] [Warning] No further splits with positive gain, best gain: -inf\n",
      "[LightGBM] [Warning] No further splits with positive gain, best gain: -inf\n",
      "[LightGBM] [Warning] No further splits with positive gain, best gain: -inf\n",
      "[LightGBM] [Warning] No further splits with positive gain, best gain: -inf\n",
      "[LightGBM] [Warning] No further splits with positive gain, best gain: -inf\n",
      "[LightGBM] [Warning] No further splits with positive gain, best gain: -inf\n",
      "[LightGBM] [Warning] No further splits with positive gain, best gain: -inf\n",
      "[LightGBM] [Warning] No further splits with positive gain, best gain: -inf\n",
      "[LightGBM] [Warning] No further splits with positive gain, best gain: -inf\n",
      "[LightGBM] [Warning] No further splits with positive gain, best gain: -inf\n",
      "[LightGBM] [Warning] No further splits with positive gain, best gain: -inf\n",
      "[LightGBM] [Warning] No further splits with positive gain, best gain: -inf\n",
      "[LightGBM] [Warning] No further splits with positive gain, best gain: -inf\n",
      "[LightGBM] [Warning] No further splits with positive gain, best gain: -inf\n",
      "[LightGBM] [Warning] No further splits with positive gain, best gain: -inf\n",
      "[LightGBM] [Warning] No further splits with positive gain, best gain: -inf\n",
      "[LightGBM] [Warning] No further splits with positive gain, best gain: -inf\n",
      "[LightGBM] [Warning] No further splits with positive gain, best gain: -inf\n",
      "[LightGBM] [Warning] No further splits with positive gain, best gain: -inf\n",
      "[LightGBM] [Warning] No further splits with positive gain, best gain: -inf\n",
      "[LightGBM] [Warning] No further splits with positive gain, best gain: -inf\n",
      "[LightGBM] [Warning] No further splits with positive gain, best gain: -inf\n",
      "[LightGBM] [Warning] No further splits with positive gain, best gain: -inf\n",
      "[LightGBM] [Warning] No further splits with positive gain, best gain: -inf\n",
      "[LightGBM] [Warning] No further splits with positive gain, best gain: -inf\n",
      "[LightGBM] [Warning] No further splits with positive gain, best gain: -inf\n",
      "[LightGBM] [Warning] No further splits with positive gain, best gain: -inf\n",
      "[LightGBM] [Warning] No further splits with positive gain, best gain: -inf\n",
      "[LightGBM] [Warning] No further splits with positive gain, best gain: -inf\n",
      "[LightGBM] [Warning] No further splits with positive gain, best gain: -inf\n",
      "[LightGBM] [Warning] No further splits with positive gain, best gain: -inf\n",
      "[LightGBM] [Warning] No further splits with positive gain, best gain: -inf\n",
      "[LightGBM] [Warning] No further splits with positive gain, best gain: -inf\n",
      "[LightGBM] [Warning] No further splits with positive gain, best gain: -inf\n",
      "[LightGBM] [Warning] No further splits with positive gain, best gain: -inf\n",
      "[LightGBM] [Warning] No further splits with positive gain, best gain: -inf\n",
      "[LightGBM] [Warning] No further splits with positive gain, best gain: -inf\n",
      "[LightGBM] [Warning] No further splits with positive gain, best gain: -inf\n",
      "[LightGBM] [Warning] No further splits with positive gain, best gain: -inf\n",
      "[LightGBM] [Warning] No further splits with positive gain, best gain: -inf\n",
      "[LightGBM] [Warning] No further splits with positive gain, best gain: -inf\n",
      "[LightGBM] [Warning] No further splits with positive gain, best gain: -inf\n",
      "[LightGBM] [Warning] No further splits with positive gain, best gain: -inf\n",
      "[LightGBM] [Warning] No further splits with positive gain, best gain: -inf\n",
      "[LightGBM] [Warning] No further splits with positive gain, best gain: -inf\n",
      "[LightGBM] [Warning] No further splits with positive gain, best gain: -inf\n",
      "[LightGBM] [Warning] No further splits with positive gain, best gain: -inf\n",
      "[LightGBM] [Warning] No further splits with positive gain, best gain: -inf\n",
      "[LightGBM] [Warning] No further splits with positive gain, best gain: -inf\n",
      "[LightGBM] [Warning] No further splits with positive gain, best gain: -inf\n",
      "[LightGBM] [Warning] No further splits with positive gain, best gain: -inf\n",
      "[LightGBM] [Warning] No further splits with positive gain, best gain: -inf\n",
      "[LightGBM] [Warning] No further splits with positive gain, best gain: -inf\n",
      "[LightGBM] [Warning] No further splits with positive gain, best gain: -inf\n",
      "[LightGBM] [Warning] No further splits with positive gain, best gain: -inf\n",
      "[LightGBM] [Warning] No further splits with positive gain, best gain: -inf\n",
      "[LightGBM] [Warning] No further splits with positive gain, best gain: -inf\n",
      "[LightGBM] [Warning] No further splits with positive gain, best gain: -inf\n",
      "[LightGBM] [Warning] No further splits with positive gain, best gain: -inf\n",
      "[LightGBM] [Warning] Auto-choosing row-wise multi-threading, the overhead of testing was 0.000182 seconds.\n",
      "You can set `force_row_wise=true` to remove the overhead.\n",
      "And if memory is not enough, you can set `force_col_wise=true`.\n",
      "[LightGBM] [Info] Total Bins 225\n",
      "[LightGBM] [Info] Number of data points in the train set: 668, number of used features: 21\n",
      "[LightGBM] [Info] Start training from score 0.393713\n",
      "[LightGBM] [Warning] No further splits with positive gain, best gain: -inf\n",
      "[LightGBM] [Warning] No further splits with positive gain, best gain: -inf\n",
      "[LightGBM] [Warning] No further splits with positive gain, best gain: -inf\n",
      "[LightGBM] [Warning] No further splits with positive gain, best gain: -inf\n",
      "[LightGBM] [Warning] No further splits with positive gain, best gain: -inf\n",
      "[LightGBM] [Warning] No further splits with positive gain, best gain: -inf\n",
      "[LightGBM] [Warning] No further splits with positive gain, best gain: -inf\n",
      "[LightGBM] [Warning] No further splits with positive gain, best gain: -inf\n",
      "[LightGBM] [Warning] No further splits with positive gain, best gain: -inf\n",
      "[LightGBM] [Warning] No further splits with positive gain, best gain: -inf\n",
      "[LightGBM] [Warning] No further splits with positive gain, best gain: -inf\n",
      "[LightGBM] [Warning] No further splits with positive gain, best gain: -inf\n",
      "[LightGBM] [Warning] No further splits with positive gain, best gain: -inf\n",
      "[LightGBM] [Warning] No further splits with positive gain, best gain: -inf\n",
      "[LightGBM] [Warning] No further splits with positive gain, best gain: -inf\n",
      "[LightGBM] [Warning] No further splits with positive gain, best gain: -inf\n",
      "[LightGBM] [Warning] No further splits with positive gain, best gain: -inf\n",
      "[LightGBM] [Warning] No further splits with positive gain, best gain: -inf\n",
      "[LightGBM] [Warning] No further splits with positive gain, best gain: -inf\n",
      "[LightGBM] [Warning] No further splits with positive gain, best gain: -inf\n",
      "[LightGBM] [Warning] No further splits with positive gain, best gain: -inf\n",
      "[LightGBM] [Warning] No further splits with positive gain, best gain: -inf\n",
      "[LightGBM] [Warning] No further splits with positive gain, best gain: -inf\n",
      "[LightGBM] [Warning] No further splits with positive gain, best gain: -inf\n",
      "[LightGBM] [Warning] No further splits with positive gain, best gain: -inf\n",
      "[LightGBM] [Warning] No further splits with positive gain, best gain: -inf\n",
      "[LightGBM] [Warning] No further splits with positive gain, best gain: -inf\n",
      "[LightGBM] [Warning] No further splits with positive gain, best gain: -inf\n",
      "[LightGBM] [Warning] No further splits with positive gain, best gain: -inf\n",
      "[LightGBM] [Warning] No further splits with positive gain, best gain: -inf\n",
      "[LightGBM] [Warning] No further splits with positive gain, best gain: -inf\n",
      "[LightGBM] [Warning] No further splits with positive gain, best gain: -inf\n",
      "[LightGBM] [Warning] No further splits with positive gain, best gain: -inf\n",
      "[LightGBM] [Warning] No further splits with positive gain, best gain: -inf\n",
      "[LightGBM] [Warning] No further splits with positive gain, best gain: -inf\n",
      "[LightGBM] [Warning] No further splits with positive gain, best gain: -inf\n",
      "[LightGBM] [Warning] No further splits with positive gain, best gain: -inf\n",
      "[LightGBM] [Warning] No further splits with positive gain, best gain: -inf\n",
      "[LightGBM] [Warning] No further splits with positive gain, best gain: -inf\n",
      "[LightGBM] [Warning] No further splits with positive gain, best gain: -inf\n",
      "[LightGBM] [Warning] No further splits with positive gain, best gain: -inf\n",
      "[LightGBM] [Warning] No further splits with positive gain, best gain: -inf\n",
      "[LightGBM] [Warning] No further splits with positive gain, best gain: -inf\n",
      "[LightGBM] [Warning] No further splits with positive gain, best gain: -inf\n",
      "[LightGBM] [Warning] No further splits with positive gain, best gain: -inf\n",
      "[LightGBM] [Warning] No further splits with positive gain, best gain: -inf\n",
      "[LightGBM] [Warning] No further splits with positive gain, best gain: -inf\n",
      "[LightGBM] [Warning] No further splits with positive gain, best gain: -inf\n",
      "[LightGBM] [Warning] No further splits with positive gain, best gain: -inf\n",
      "[LightGBM] [Warning] No further splits with positive gain, best gain: -inf\n",
      "[LightGBM] [Warning] No further splits with positive gain, best gain: -inf\n",
      "[LightGBM] [Warning] No further splits with positive gain, best gain: -inf\n",
      "[LightGBM] [Warning] No further splits with positive gain, best gain: -inf\n",
      "[LightGBM] [Warning] No further splits with positive gain, best gain: -inf\n",
      "[LightGBM] [Warning] No further splits with positive gain, best gain: -inf\n",
      "[LightGBM] [Warning] No further splits with positive gain, best gain: -inf\n",
      "[LightGBM] [Warning] No further splits with positive gain, best gain: -inf\n",
      "[LightGBM] [Warning] No further splits with positive gain, best gain: -inf\n",
      "[LightGBM] [Warning] No further splits with positive gain, best gain: -inf\n",
      "[LightGBM] [Warning] No further splits with positive gain, best gain: -inf\n",
      "[LightGBM] [Warning] No further splits with positive gain, best gain: -inf\n",
      "[LightGBM] [Warning] No further splits with positive gain, best gain: -inf\n",
      "[LightGBM] [Warning] No further splits with positive gain, best gain: -inf\n",
      "[LightGBM] [Warning] No further splits with positive gain, best gain: -inf\n",
      "[LightGBM] [Warning] No further splits with positive gain, best gain: -inf\n",
      "[LightGBM] [Warning] No further splits with positive gain, best gain: -inf\n",
      "[LightGBM] [Warning] No further splits with positive gain, best gain: -inf\n",
      "[LightGBM] [Warning] No further splits with positive gain, best gain: -inf\n",
      "[LightGBM] [Warning] No further splits with positive gain, best gain: -inf\n",
      "[LightGBM] [Warning] No further splits with positive gain, best gain: -inf\n",
      "[LightGBM] [Warning] No further splits with positive gain, best gain: -inf\n",
      "[LightGBM] [Warning] No further splits with positive gain, best gain: -inf\n",
      "[LightGBM] [Warning] No further splits with positive gain, best gain: -inf\n",
      "[LightGBM] [Warning] No further splits with positive gain, best gain: -inf\n",
      "[LightGBM] [Warning] No further splits with positive gain, best gain: -inf\n",
      "[LightGBM] [Warning] No further splits with positive gain, best gain: -inf\n",
      "[LightGBM] [Warning] No further splits with positive gain, best gain: -inf\n",
      "[LightGBM] [Warning] No further splits with positive gain, best gain: -inf\n",
      "[LightGBM] [Warning] No further splits with positive gain, best gain: -inf\n",
      "[LightGBM] [Warning] No further splits with positive gain, best gain: -inf\n",
      "[LightGBM] [Warning] No further splits with positive gain, best gain: -inf\n",
      "[LightGBM] [Warning] No further splits with positive gain, best gain: -inf\n",
      "[LightGBM] [Warning] No further splits with positive gain, best gain: -inf\n",
      "[LightGBM] [Warning] No further splits with positive gain, best gain: -inf\n",
      "[LightGBM] [Warning] No further splits with positive gain, best gain: -inf\n",
      "[LightGBM] [Warning] No further splits with positive gain, best gain: -inf\n",
      "[LightGBM] [Warning] No further splits with positive gain, best gain: -inf\n",
      "[LightGBM] [Warning] No further splits with positive gain, best gain: -inf\n",
      "[LightGBM] [Warning] No further splits with positive gain, best gain: -inf\n",
      "[LightGBM] [Warning] No further splits with positive gain, best gain: -inf\n",
      "[LightGBM] [Warning] No further splits with positive gain, best gain: -inf\n",
      "[LightGBM] [Warning] No further splits with positive gain, best gain: -inf\n",
      "[LightGBM] [Warning] No further splits with positive gain, best gain: -inf\n",
      "[LightGBM] [Warning] No further splits with positive gain, best gain: -inf\n",
      "[LightGBM] [Warning] No further splits with positive gain, best gain: -inf\n",
      "[LightGBM] [Warning] No further splits with positive gain, best gain: -inf\n",
      "[LightGBM] [Warning] No further splits with positive gain, best gain: -inf\n",
      "[LightGBM] [Warning] No further splits with positive gain, best gain: -inf\n",
      "[LightGBM] [Warning] No further splits with positive gain, best gain: -inf\n",
      "[LightGBM] [Warning] No further splits with positive gain, best gain: -inf\n",
      "[LightGBM] [Warning] Auto-choosing row-wise multi-threading, the overhead of testing was 0.000169 seconds.\n",
      "You can set `force_row_wise=true` to remove the overhead.\n",
      "And if memory is not enough, you can set `force_col_wise=true`.\n",
      "[LightGBM] [Info] Total Bins 225\n",
      "[LightGBM] [Info] Number of data points in the train set: 668, number of used features: 21\n",
      "[LightGBM] [Info] Start training from score 0.383234\n",
      "[LightGBM] [Warning] No further splits with positive gain, best gain: -inf\n",
      "[LightGBM] [Warning] No further splits with positive gain, best gain: -inf\n",
      "[LightGBM] [Warning] No further splits with positive gain, best gain: -inf\n",
      "[LightGBM] [Warning] No further splits with positive gain, best gain: -inf\n",
      "[LightGBM] [Warning] No further splits with positive gain, best gain: -inf\n",
      "[LightGBM] [Warning] No further splits with positive gain, best gain: -inf\n",
      "[LightGBM] [Warning] No further splits with positive gain, best gain: -inf\n",
      "[LightGBM] [Warning] No further splits with positive gain, best gain: -inf\n",
      "[LightGBM] [Warning] No further splits with positive gain, best gain: -inf\n",
      "[LightGBM] [Warning] No further splits with positive gain, best gain: -inf\n",
      "[LightGBM] [Warning] No further splits with positive gain, best gain: -inf\n",
      "[LightGBM] [Warning] No further splits with positive gain, best gain: -inf\n",
      "[LightGBM] [Warning] No further splits with positive gain, best gain: -inf\n",
      "[LightGBM] [Warning] No further splits with positive gain, best gain: -inf\n",
      "[LightGBM] [Warning] No further splits with positive gain, best gain: -inf\n",
      "[LightGBM] [Warning] No further splits with positive gain, best gain: -inf\n"
     ]
    },
    {
     "name": "stdout",
     "output_type": "stream",
     "text": [
      "[LightGBM] [Warning] No further splits with positive gain, best gain: -inf\n",
      "[LightGBM] [Warning] No further splits with positive gain, best gain: -inf\n",
      "[LightGBM] [Warning] No further splits with positive gain, best gain: -inf\n",
      "[LightGBM] [Warning] No further splits with positive gain, best gain: -inf\n",
      "[LightGBM] [Warning] No further splits with positive gain, best gain: -inf\n",
      "[LightGBM] [Warning] No further splits with positive gain, best gain: -inf\n",
      "[LightGBM] [Warning] No further splits with positive gain, best gain: -inf\n",
      "[LightGBM] [Warning] No further splits with positive gain, best gain: -inf\n",
      "[LightGBM] [Warning] No further splits with positive gain, best gain: -inf\n",
      "[LightGBM] [Warning] No further splits with positive gain, best gain: -inf\n",
      "[LightGBM] [Warning] No further splits with positive gain, best gain: -inf\n",
      "[LightGBM] [Warning] No further splits with positive gain, best gain: -inf\n",
      "[LightGBM] [Warning] No further splits with positive gain, best gain: -inf\n",
      "[LightGBM] [Warning] No further splits with positive gain, best gain: -inf\n",
      "[LightGBM] [Warning] No further splits with positive gain, best gain: -inf\n",
      "[LightGBM] [Warning] No further splits with positive gain, best gain: -inf\n",
      "[LightGBM] [Warning] No further splits with positive gain, best gain: -inf\n",
      "[LightGBM] [Warning] No further splits with positive gain, best gain: -inf\n",
      "[LightGBM] [Warning] No further splits with positive gain, best gain: -inf\n",
      "[LightGBM] [Warning] No further splits with positive gain, best gain: -inf\n",
      "[LightGBM] [Warning] No further splits with positive gain, best gain: -inf\n",
      "[LightGBM] [Warning] No further splits with positive gain, best gain: -inf\n",
      "[LightGBM] [Warning] No further splits with positive gain, best gain: -inf\n",
      "[LightGBM] [Warning] No further splits with positive gain, best gain: -inf\n",
      "[LightGBM] [Warning] No further splits with positive gain, best gain: -inf\n",
      "[LightGBM] [Warning] No further splits with positive gain, best gain: -inf\n",
      "[LightGBM] [Warning] No further splits with positive gain, best gain: -inf\n",
      "[LightGBM] [Warning] No further splits with positive gain, best gain: -inf\n",
      "[LightGBM] [Warning] No further splits with positive gain, best gain: -inf\n",
      "[LightGBM] [Warning] No further splits with positive gain, best gain: -inf\n",
      "[LightGBM] [Warning] No further splits with positive gain, best gain: -inf\n",
      "[LightGBM] [Warning] No further splits with positive gain, best gain: -inf\n",
      "[LightGBM] [Warning] No further splits with positive gain, best gain: -inf\n",
      "[LightGBM] [Warning] No further splits with positive gain, best gain: -inf\n",
      "[LightGBM] [Warning] No further splits with positive gain, best gain: -inf\n",
      "[LightGBM] [Warning] No further splits with positive gain, best gain: -inf\n",
      "[LightGBM] [Warning] No further splits with positive gain, best gain: -inf\n",
      "[LightGBM] [Warning] No further splits with positive gain, best gain: -inf\n",
      "[LightGBM] [Warning] No further splits with positive gain, best gain: -inf\n",
      "[LightGBM] [Warning] No further splits with positive gain, best gain: -inf\n",
      "[LightGBM] [Warning] No further splits with positive gain, best gain: -inf\n",
      "[LightGBM] [Warning] No further splits with positive gain, best gain: -inf\n",
      "[LightGBM] [Warning] No further splits with positive gain, best gain: -inf\n",
      "[LightGBM] [Warning] No further splits with positive gain, best gain: -inf\n",
      "[LightGBM] [Warning] No further splits with positive gain, best gain: -inf\n",
      "[LightGBM] [Warning] No further splits with positive gain, best gain: -inf\n",
      "[LightGBM] [Warning] No further splits with positive gain, best gain: -inf\n",
      "[LightGBM] [Warning] No further splits with positive gain, best gain: -inf\n",
      "[LightGBM] [Warning] No further splits with positive gain, best gain: -inf\n",
      "[LightGBM] [Warning] No further splits with positive gain, best gain: -inf\n",
      "[LightGBM] [Warning] No further splits with positive gain, best gain: -inf\n",
      "[LightGBM] [Warning] No further splits with positive gain, best gain: -inf\n",
      "[LightGBM] [Warning] No further splits with positive gain, best gain: -inf\n",
      "[LightGBM] [Warning] No further splits with positive gain, best gain: -inf\n",
      "[LightGBM] [Warning] No further splits with positive gain, best gain: -inf\n",
      "[LightGBM] [Warning] No further splits with positive gain, best gain: -inf\n",
      "[LightGBM] [Warning] No further splits with positive gain, best gain: -inf\n",
      "[LightGBM] [Warning] No further splits with positive gain, best gain: -inf\n",
      "[LightGBM] [Warning] No further splits with positive gain, best gain: -inf\n",
      "[LightGBM] [Warning] No further splits with positive gain, best gain: -inf\n",
      "[LightGBM] [Warning] No further splits with positive gain, best gain: -inf\n",
      "[LightGBM] [Warning] No further splits with positive gain, best gain: -inf\n",
      "[LightGBM] [Warning] No further splits with positive gain, best gain: -inf\n",
      "[LightGBM] [Warning] No further splits with positive gain, best gain: -inf\n",
      "[LightGBM] [Warning] No further splits with positive gain, best gain: -inf\n",
      "[LightGBM] [Warning] No further splits with positive gain, best gain: -inf\n",
      "[LightGBM] [Warning] No further splits with positive gain, best gain: -inf\n",
      "[LightGBM] [Warning] No further splits with positive gain, best gain: -inf\n",
      "[LightGBM] [Warning] No further splits with positive gain, best gain: -inf\n",
      "[LightGBM] [Warning] No further splits with positive gain, best gain: -inf\n",
      "[LightGBM] [Warning] No further splits with positive gain, best gain: -inf\n",
      "[LightGBM] [Warning] No further splits with positive gain, best gain: -inf\n",
      "[LightGBM] [Warning] No further splits with positive gain, best gain: -inf\n",
      "[LightGBM] [Warning] No further splits with positive gain, best gain: -inf\n",
      "[LightGBM] [Warning] No further splits with positive gain, best gain: -inf\n",
      "[LightGBM] [Warning] No further splits with positive gain, best gain: -inf\n",
      "[LightGBM] [Warning] No further splits with positive gain, best gain: -inf\n",
      "[LightGBM] [Warning] No further splits with positive gain, best gain: -inf\n",
      "[LightGBM] [Warning] No further splits with positive gain, best gain: -inf\n",
      "[LightGBM] [Warning] No further splits with positive gain, best gain: -inf\n",
      "[LightGBM] [Warning] No further splits with positive gain, best gain: -inf\n",
      "[LightGBM] [Warning] No further splits with positive gain, best gain: -inf\n",
      "[LightGBM] [Warning] No further splits with positive gain, best gain: -inf\n",
      "[LightGBM] [Warning] No further splits with positive gain, best gain: -inf\n",
      "[LightGBM] [Warning] Auto-choosing row-wise multi-threading, the overhead of testing was 0.000183 seconds.\n",
      "You can set `force_row_wise=true` to remove the overhead.\n",
      "And if memory is not enough, you can set `force_col_wise=true`.\n",
      "[LightGBM] [Info] Total Bins 224\n",
      "[LightGBM] [Info] Number of data points in the train set: 669, number of used features: 21\n",
      "[LightGBM] [Info] Start training from score 0.372197\n",
      "[LightGBM] [Warning] No further splits with positive gain, best gain: -inf\n",
      "[LightGBM] [Warning] No further splits with positive gain, best gain: -inf\n",
      "[LightGBM] [Warning] No further splits with positive gain, best gain: -inf\n",
      "[LightGBM] [Warning] No further splits with positive gain, best gain: -inf\n",
      "[LightGBM] [Warning] No further splits with positive gain, best gain: -inf\n",
      "[LightGBM] [Warning] No further splits with positive gain, best gain: -inf\n",
      "[LightGBM] [Warning] No further splits with positive gain, best gain: -inf\n",
      "[LightGBM] [Warning] No further splits with positive gain, best gain: -inf\n",
      "[LightGBM] [Warning] No further splits with positive gain, best gain: -inf\n",
      "[LightGBM] [Warning] No further splits with positive gain, best gain: -inf\n",
      "[LightGBM] [Warning] No further splits with positive gain, best gain: -inf\n",
      "[LightGBM] [Warning] No further splits with positive gain, best gain: -inf\n",
      "[LightGBM] [Warning] No further splits with positive gain, best gain: -inf\n",
      "[LightGBM] [Warning] No further splits with positive gain, best gain: -inf\n",
      "[LightGBM] [Warning] No further splits with positive gain, best gain: -inf\n",
      "[LightGBM] [Warning] No further splits with positive gain, best gain: -inf\n",
      "[LightGBM] [Warning] No further splits with positive gain, best gain: -inf\n",
      "[LightGBM] [Warning] No further splits with positive gain, best gain: -inf\n",
      "[LightGBM] [Warning] No further splits with positive gain, best gain: -inf\n",
      "[LightGBM] [Warning] No further splits with positive gain, best gain: -inf\n",
      "[LightGBM] [Warning] No further splits with positive gain, best gain: -inf\n",
      "[LightGBM] [Warning] No further splits with positive gain, best gain: -inf\n",
      "[LightGBM] [Warning] No further splits with positive gain, best gain: -inf\n",
      "[LightGBM] [Warning] No further splits with positive gain, best gain: -inf\n",
      "[LightGBM] [Warning] No further splits with positive gain, best gain: -inf\n",
      "[LightGBM] [Warning] No further splits with positive gain, best gain: -inf\n",
      "[LightGBM] [Warning] No further splits with positive gain, best gain: -inf\n",
      "[LightGBM] [Warning] No further splits with positive gain, best gain: -inf\n",
      "[LightGBM] [Warning] No further splits with positive gain, best gain: -inf\n",
      "[LightGBM] [Warning] No further splits with positive gain, best gain: -inf\n",
      "[LightGBM] [Warning] No further splits with positive gain, best gain: -inf\n",
      "[LightGBM] [Warning] No further splits with positive gain, best gain: -inf\n",
      "[LightGBM] [Warning] No further splits with positive gain, best gain: -inf\n",
      "[LightGBM] [Warning] No further splits with positive gain, best gain: -inf\n",
      "[LightGBM] [Warning] No further splits with positive gain, best gain: -inf\n",
      "[LightGBM] [Warning] No further splits with positive gain, best gain: -inf\n",
      "[LightGBM] [Warning] No further splits with positive gain, best gain: -inf\n",
      "[LightGBM] [Warning] No further splits with positive gain, best gain: -inf\n",
      "[LightGBM] [Warning] No further splits with positive gain, best gain: -inf\n",
      "[LightGBM] [Warning] No further splits with positive gain, best gain: -inf\n",
      "[LightGBM] [Warning] No further splits with positive gain, best gain: -inf\n",
      "[LightGBM] [Warning] No further splits with positive gain, best gain: -inf\n",
      "[LightGBM] [Warning] No further splits with positive gain, best gain: -inf\n",
      "[LightGBM] [Warning] No further splits with positive gain, best gain: -inf\n",
      "[LightGBM] [Warning] No further splits with positive gain, best gain: -inf\n",
      "[LightGBM] [Warning] No further splits with positive gain, best gain: -inf\n",
      "[LightGBM] [Warning] No further splits with positive gain, best gain: -inf\n",
      "[LightGBM] [Warning] No further splits with positive gain, best gain: -inf\n",
      "[LightGBM] [Warning] No further splits with positive gain, best gain: -inf\n",
      "[LightGBM] [Warning] No further splits with positive gain, best gain: -inf\n",
      "[LightGBM] [Warning] No further splits with positive gain, best gain: -inf\n",
      "[LightGBM] [Warning] No further splits with positive gain, best gain: -inf\n",
      "[LightGBM] [Warning] No further splits with positive gain, best gain: -inf\n",
      "[LightGBM] [Warning] No further splits with positive gain, best gain: -inf\n",
      "[LightGBM] [Warning] No further splits with positive gain, best gain: -inf\n",
      "[LightGBM] [Warning] No further splits with positive gain, best gain: -inf\n",
      "[LightGBM] [Warning] No further splits with positive gain, best gain: -inf\n",
      "[LightGBM] [Warning] No further splits with positive gain, best gain: -inf\n",
      "[LightGBM] [Warning] No further splits with positive gain, best gain: -inf\n",
      "[LightGBM] [Warning] No further splits with positive gain, best gain: -inf\n",
      "[LightGBM] [Warning] No further splits with positive gain, best gain: -inf\n",
      "[LightGBM] [Warning] No further splits with positive gain, best gain: -inf\n",
      "[LightGBM] [Warning] No further splits with positive gain, best gain: -inf\n",
      "[LightGBM] [Warning] No further splits with positive gain, best gain: -inf\n",
      "[LightGBM] [Warning] No further splits with positive gain, best gain: -inf\n",
      "[LightGBM] [Warning] No further splits with positive gain, best gain: -inf\n",
      "[LightGBM] [Warning] No further splits with positive gain, best gain: -inf\n",
      "[LightGBM] [Warning] No further splits with positive gain, best gain: -inf\n",
      "[LightGBM] [Warning] No further splits with positive gain, best gain: -inf\n",
      "[LightGBM] [Warning] No further splits with positive gain, best gain: -inf\n",
      "[LightGBM] [Warning] No further splits with positive gain, best gain: -inf\n",
      "[LightGBM] [Warning] No further splits with positive gain, best gain: -inf\n",
      "[LightGBM] [Warning] No further splits with positive gain, best gain: -inf\n",
      "[LightGBM] [Warning] No further splits with positive gain, best gain: -inf\n",
      "[LightGBM] [Warning] No further splits with positive gain, best gain: -inf\n",
      "[LightGBM] [Warning] No further splits with positive gain, best gain: -inf\n",
      "[LightGBM] [Warning] No further splits with positive gain, best gain: -inf\n",
      "[LightGBM] [Warning] No further splits with positive gain, best gain: -inf\n",
      "[LightGBM] [Warning] No further splits with positive gain, best gain: -inf\n",
      "[LightGBM] [Warning] No further splits with positive gain, best gain: -inf\n",
      "[LightGBM] [Warning] No further splits with positive gain, best gain: -inf\n",
      "[LightGBM] [Warning] No further splits with positive gain, best gain: -inf\n",
      "[LightGBM] [Warning] No further splits with positive gain, best gain: -inf\n",
      "[LightGBM] [Warning] No further splits with positive gain, best gain: -inf\n",
      "[LightGBM] [Warning] No further splits with positive gain, best gain: -inf\n",
      "[LightGBM] [Warning] No further splits with positive gain, best gain: -inf\n",
      "[LightGBM] [Warning] No further splits with positive gain, best gain: -inf\n",
      "[LightGBM] [Warning] No further splits with positive gain, best gain: -inf\n",
      "[LightGBM] [Warning] No further splits with positive gain, best gain: -inf\n",
      "[LightGBM] [Warning] No further splits with positive gain, best gain: -inf\n",
      "[LightGBM] [Warning] No further splits with positive gain, best gain: -inf\n",
      "[LightGBM] [Warning] No further splits with positive gain, best gain: -inf\n",
      "[LightGBM] [Warning] No further splits with positive gain, best gain: -inf\n",
      "[LightGBM] [Warning] No further splits with positive gain, best gain: -inf\n",
      "[LightGBM] [Warning] No further splits with positive gain, best gain: -inf\n",
      "[LightGBM] [Warning] No further splits with positive gain, best gain: -inf\n",
      "[LightGBM] [Warning] No further splits with positive gain, best gain: -inf\n",
      "[LightGBM] [Warning] No further splits with positive gain, best gain: -inf\n",
      "[LightGBM] [Warning] No further splits with positive gain, best gain: -inf\n",
      "[LightGBM] [Warning] No further splits with positive gain, best gain: -inf\n"
     ]
    }
   ],
   "source": [
    "kf_stacking = KFold(4, shuffle = True, random_state = 0)\n",
    "kf_stacking.split(train)\n",
    "\n",
    "lv1_lgbm_preds = train['PassengerId']\n",
    "\n",
    "for train_ix, test_ix in kf_stacking.split(train):\n",
    "    lgbm = lgb.train(\n",
    "        {'lambda_l1': 5.5693205859882666e-08,\n",
    "         'lambda_l2': 0.0029379573632802307,\n",
    "         'num_leaves': 218,\n",
    "         'feature_fraction': 0.4449630393801182,\n",
    "         'bagging_fraction': 0.6190711470746258,\n",
    "         'bagging_freq': 1,\n",
    "         'min_child_samples': 24}, \n",
    "        lgb.Dataset(train[features].iloc[train_ix,:], label = train['Survived'].iloc[train_ix]))\n",
    "    \n",
    "    lv1_lgbm_preds.iloc[test_ix] = lgbm.predict(train[features].iloc[test_ix])"
   ]
  },
  {
   "cell_type": "markdown",
   "metadata": {},
   "source": [
    "## Grandient Boosting Machine"
   ]
  },
  {
   "cell_type": "code",
   "execution_count": 31,
   "metadata": {},
   "outputs": [],
   "source": [
    "train['Survived'] = train['Survived'].astype(int)"
   ]
  },
  {
   "cell_type": "code",
   "execution_count": 40,
   "metadata": {},
   "outputs": [
    {
     "name": "stderr",
     "output_type": "stream",
     "text": [
      "\u001b[32m[I 2021-12-21 20:50:09,281]\u001b[0m A new study created in memory with name: no-name-a3391b4b-7ab1-4ef8-8a9f-7cde2f1c035e\u001b[0m\n",
      "\u001b[32m[I 2021-12-21 20:50:10,362]\u001b[0m Trial 0 finished with value: 0.7844830832967171 and parameters: {'learning_rate': 0.0016267243045861315, 'n_estimators': 184, 'subsample': 0.9516362903057367, 'min_samples_split': 7, 'min_samples_leaf': 12, 'max_depth': 5, 'min_impurity_decrease': 0.7822172257788828, 'max_features': 17}. Best is trial 0 with value: 0.7844830832967171.\u001b[0m\n",
      "\u001b[32m[I 2021-12-21 20:50:10,497]\u001b[0m Trial 1 finished with value: 0.6161634548992531 and parameters: {'learning_rate': 0.0029507164515593194, 'n_estimators': 26, 'subsample': 0.8081284642369604, 'min_samples_split': 17, 'min_samples_leaf': 6, 'max_depth': 4, 'min_impurity_decrease': 0.9862176711089738, 'max_features': 6}. Best is trial 0 with value: 0.7844830832967171.\u001b[0m\n",
      "\u001b[32m[I 2021-12-21 20:50:11,239]\u001b[0m Trial 2 finished with value: 0.8080848659845584 and parameters: {'learning_rate': 0.006605249266088079, 'n_estimators': 149, 'subsample': 0.9510601775377634, 'min_samples_split': 12, 'min_samples_leaf': 2, 'max_depth': 4, 'min_impurity_decrease': 0.8369529564619169, 'max_features': 12}. Best is trial 2 with value: 0.8080848659845584.\u001b[0m\n",
      "\u001b[32m[I 2021-12-21 20:50:11,796]\u001b[0m Trial 3 finished with value: 0.7991212102190698 and parameters: {'learning_rate': 0.008924771839066236, 'n_estimators': 112, 'subsample': 0.8944314792096029, 'min_samples_split': 15, 'min_samples_leaf': 17, 'max_depth': 3, 'min_impurity_decrease': 0.7963028722954224, 'max_features': 19}. Best is trial 2 with value: 0.8080848659845584.\u001b[0m\n",
      "\u001b[32m[I 2021-12-21 20:50:12,377]\u001b[0m Trial 4 finished with value: 0.7946268281965978 and parameters: {'learning_rate': 0.008554796394831579, 'n_estimators': 117, 'subsample': 0.8981811342683104, 'min_samples_split': 12, 'min_samples_leaf': 17, 'max_depth': 3, 'min_impurity_decrease': 0.9844490695374052, 'max_features': 19}. Best is trial 2 with value: 0.8080848659845584.\u001b[0m\n",
      "\u001b[32m[I 2021-12-21 20:50:13,257]\u001b[0m Trial 5 finished with value: 0.8081099742640137 and parameters: {'learning_rate': 0.007665728329013761, 'n_estimators': 189, 'subsample': 0.8771444738662917, 'min_samples_split': 20, 'min_samples_leaf': 18, 'max_depth': 3, 'min_impurity_decrease': 0.8317417282459826, 'max_features': 18}. Best is trial 5 with value: 0.8081099742640137.\u001b[0m\n",
      "\u001b[32m[I 2021-12-21 20:50:13,975]\u001b[0m Trial 6 finished with value: 0.7800012554139728 and parameters: {'learning_rate': 0.0036054869965791714, 'n_estimators': 155, 'subsample': 0.8142562166084553, 'min_samples_split': 6, 'min_samples_leaf': 10, 'max_depth': 3, 'min_impurity_decrease': 0.998421110617437, 'max_features': 16}. Best is trial 5 with value: 0.8081099742640137.\u001b[0m\n",
      "\u001b[32m[I 2021-12-21 20:50:14,468]\u001b[0m Trial 7 finished with value: 0.7766430230368464 and parameters: {'learning_rate': 0.005611588887673895, 'n_estimators': 97, 'subsample': 0.9472424068573351, 'min_samples_split': 3, 'min_samples_leaf': 15, 'max_depth': 3, 'min_impurity_decrease': 0.9405758005087622, 'max_features': 18}. Best is trial 5 with value: 0.8081099742640137.\u001b[0m\n",
      "\u001b[32m[I 2021-12-21 20:50:15,628]\u001b[0m Trial 8 finished with value: 0.7328667378067918 and parameters: {'learning_rate': 0.0012611692765261123, 'n_estimators': 190, 'subsample': 0.7789584836345019, 'min_samples_split': 18, 'min_samples_leaf': 4, 'max_depth': 6, 'min_impurity_decrease': 0.7877162816883357, 'max_features': 18}. Best is trial 5 with value: 0.8081099742640137.\u001b[0m\n",
      "\u001b[32m[I 2021-12-21 20:50:16,034]\u001b[0m Trial 9 finished with value: 0.7957190383528969 and parameters: {'learning_rate': 0.004943849288414163, 'n_estimators': 57, 'subsample': 0.7579300709747894, 'min_samples_split': 12, 'min_samples_leaf': 2, 'max_depth': 6, 'min_impurity_decrease': 0.7641818857978069, 'max_features': 20}. Best is trial 5 with value: 0.8081099742640137.\u001b[0m\n",
      "\u001b[32m[I 2021-12-21 20:50:16,939]\u001b[0m Trial 10 finished with value: 0.8114807607808675 and parameters: {'learning_rate': 0.007393842472323705, 'n_estimators': 200, 'subsample': 0.850881673002687, 'min_samples_split': 19, 'min_samples_leaf': 20, 'max_depth': 7, 'min_impurity_decrease': 0.8859268243806437, 'max_features': 13}. Best is trial 10 with value: 0.8114807607808675.\u001b[0m\n",
      "\u001b[32m[I 2021-12-21 20:50:17,849]\u001b[0m Trial 11 finished with value: 0.8103508882053857 and parameters: {'learning_rate': 0.007411733440050142, 'n_estimators': 199, 'subsample': 0.8545805205707514, 'min_samples_split': 20, 'min_samples_leaf': 20, 'max_depth': 7, 'min_impurity_decrease': 0.8893917631010949, 'max_features': 13}. Best is trial 10 with value: 0.8114807607808675.\u001b[0m\n",
      "\u001b[32m[I 2021-12-21 20:50:18,549]\u001b[0m Trial 12 finished with value: 0.8081162513338773 and parameters: {'learning_rate': 0.009876511267232326, 'n_estimators': 155, 'subsample': 0.8400944026377283, 'min_samples_split': 20, 'min_samples_leaf': 20, 'max_depth': 7, 'min_impurity_decrease': 0.9052270828130845, 'max_features': 12}. Best is trial 10 with value: 0.8114807607808675.\u001b[0m\n",
      "\u001b[32m[I 2021-12-21 20:50:19,359]\u001b[0m Trial 13 finished with value: 0.8092021844203126 and parameters: {'learning_rate': 0.007540156881815286, 'n_estimators': 196, 'subsample': 0.8468897687927952, 'min_samples_split': 15, 'min_samples_leaf': 20, 'max_depth': 7, 'min_impurity_decrease': 0.8849659881122539, 'max_features': 9}. Best is trial 10 with value: 0.8114807607808675.\u001b[0m\n",
      "\u001b[32m[I 2021-12-21 20:50:20,205]\u001b[0m Trial 14 finished with value: 0.8024919967359236 and parameters: {'learning_rate': 0.005799086230481312, 'n_estimators': 166, 'subsample': 0.915599710256896, 'min_samples_split': 16, 'min_samples_leaf': 14, 'max_depth': 6, 'min_impurity_decrease': 0.9238180146415956, 'max_features': 14}. Best is trial 10 with value: 0.8114807607808675.\u001b[0m\n",
      "\u001b[32m[I 2021-12-21 20:50:20,850]\u001b[0m Trial 15 finished with value: 0.8136714581633294 and parameters: {'learning_rate': 0.0071404521880268105, 'n_estimators': 138, 'subsample': 0.8515035886400694, 'min_samples_split': 20, 'min_samples_leaf': 9, 'max_depth': 7, 'min_impurity_decrease': 0.853096174294409, 'max_features': 9}. Best is trial 15 with value: 0.8136714581633294.\u001b[0m\n",
      "\u001b[32m[I 2021-12-21 20:50:21,308]\u001b[0m Trial 16 finished with value: 0.7833657648609629 and parameters: {'learning_rate': 0.004729242844405088, 'n_estimators': 92, 'subsample': 0.8073440951173476, 'min_samples_split': 8, 'min_samples_leaf': 9, 'max_depth': 6, 'min_impurity_decrease': 0.8499049691946834, 'max_features': 8}. Best is trial 15 with value: 0.8136714581633294.\u001b[0m\n",
      "\u001b[32m[I 2021-12-21 20:50:21,834]\u001b[0m Trial 17 finished with value: 0.7979473981545414 and parameters: {'learning_rate': 0.006551245490376699, 'n_estimators': 132, 'subsample': 0.9889155156100609, 'min_samples_split': 18, 'min_samples_leaf': 7, 'max_depth': 7, 'min_impurity_decrease': 0.8667762928631462, 'max_features': 3}. Best is trial 15 with value: 0.8136714581633294.\u001b[0m\n",
      "\u001b[32m[I 2021-12-21 20:50:22,184]\u001b[0m Trial 18 finished with value: 0.7979411210846777 and parameters: {'learning_rate': 0.009028169188383192, 'n_estimators': 64, 'subsample': 0.8635303644102509, 'min_samples_split': 14, 'min_samples_leaf': 12, 'max_depth': 5, 'min_impurity_decrease': 0.8182402196911808, 'max_features': 10}. Best is trial 15 with value: 0.8136714581633294.\u001b[0m\n",
      "\u001b[32m[I 2021-12-21 20:50:22,810]\u001b[0m Trial 19 finished with value: 0.6161634548992531 and parameters: {'learning_rate': 7.802213964400954e-05, 'n_estimators': 138, 'subsample': 0.8266693651929818, 'min_samples_split': 18, 'min_samples_leaf': 8, 'max_depth': 5, 'min_impurity_decrease': 0.9439757269114597, 'max_features': 6}. Best is trial 15 with value: 0.8136714581633294.\u001b[0m\n",
      "\u001b[32m[I 2021-12-21 20:50:23,681]\u001b[0m Trial 20 finished with value: 0.7923545289059067 and parameters: {'learning_rate': 0.003962643507814941, 'n_estimators': 171, 'subsample': 0.7907904481121897, 'min_samples_split': 10, 'min_samples_leaf': 15, 'max_depth': 7, 'min_impurity_decrease': 0.8700980626288395, 'max_features': 15}. Best is trial 15 with value: 0.8136714581633294.\u001b[0m\n",
      "\u001b[32m[I 2021-12-21 20:50:24,490]\u001b[0m Trial 21 finished with value: 0.8103508882053857 and parameters: {'learning_rate': 0.007536488840972277, 'n_estimators': 175, 'subsample': 0.8631538913495802, 'min_samples_split': 20, 'min_samples_leaf': 19, 'max_depth': 7, 'min_impurity_decrease': 0.8981232149122117, 'max_features': 13}. Best is trial 15 with value: 0.8136714581633294.\u001b[0m\n"
     ]
    },
    {
     "name": "stderr",
     "output_type": "stream",
     "text": [
      "\u001b[32m[I 2021-12-21 20:50:25,352]\u001b[0m Trial 22 finished with value: 0.8103383340656581 and parameters: {'learning_rate': 0.006976392350428734, 'n_estimators': 197, 'subsample': 0.8450461189042513, 'min_samples_split': 20, 'min_samples_leaf': 14, 'max_depth': 6, 'min_impurity_decrease': 0.8577797063005945, 'max_features': 10}. Best is trial 15 with value: 0.8136714581633294.\u001b[0m\n",
      "\u001b[32m[I 2021-12-21 20:50:26,027]\u001b[0m Trial 23 finished with value: 0.8125729709371665 and parameters: {'learning_rate': 0.008399819167141961, 'n_estimators': 130, 'subsample': 0.8840706807989264, 'min_samples_split': 18, 'min_samples_leaf': 11, 'max_depth': 7, 'min_impurity_decrease': 0.8922791938404232, 'max_features': 14}. Best is trial 15 with value: 0.8136714581633294.\u001b[0m\n",
      "\u001b[32m[I 2021-12-21 20:50:26,578]\u001b[0m Trial 24 finished with value: 0.8091707990709935 and parameters: {'learning_rate': 0.008352234417092546, 'n_estimators': 126, 'subsample': 0.8848295874587235, 'min_samples_split': 17, 'min_samples_leaf': 11, 'max_depth': 7, 'min_impurity_decrease': 0.9148698109644682, 'max_features': 7}. Best is trial 15 with value: 0.8136714581633294.\u001b[0m\n",
      "\u001b[32m[I 2021-12-21 20:50:27,086]\u001b[0m Trial 25 finished with value: 0.8148013307388112 and parameters: {'learning_rate': 0.009934573668985563, 'n_estimators': 93, 'subsample': 0.9233850217354524, 'min_samples_split': 14, 'min_samples_leaf': 6, 'max_depth': 6, 'min_impurity_decrease': 0.8134482443069679, 'max_features': 11}. Best is trial 25 with value: 0.8148013307388112.\u001b[0m\n",
      "\u001b[32m[I 2021-12-21 20:50:27,583]\u001b[0m Trial 26 finished with value: 0.8192706044818279 and parameters: {'learning_rate': 0.009935427966859109, 'n_estimators': 93, 'subsample': 0.9165439423154254, 'min_samples_split': 14, 'min_samples_leaf': 6, 'max_depth': 6, 'min_impurity_decrease': 0.8228837629813351, 'max_features': 10}. Best is trial 26 with value: 0.8192706044818279.\u001b[0m\n",
      "\u001b[32m[I 2021-12-21 20:50:28,045]\u001b[0m Trial 27 finished with value: 0.8091707990709937 and parameters: {'learning_rate': 0.009895672485595837, 'n_estimators': 83, 'subsample': 0.9209410105971514, 'min_samples_split': 10, 'min_samples_leaf': 5, 'max_depth': 6, 'min_impurity_decrease': 0.8133332126287726, 'max_features': 10}. Best is trial 26 with value: 0.8192706044818279.\u001b[0m\n",
      "\u001b[32m[I 2021-12-21 20:50:28,407]\u001b[0m Trial 28 finished with value: 0.7990772707300232 and parameters: {'learning_rate': 0.009233857371980679, 'n_estimators': 74, 'subsample': 0.981900711555434, 'min_samples_split': 13, 'min_samples_leaf': 4, 'max_depth': 6, 'min_impurity_decrease': 0.755204012486603, 'max_features': 4}. Best is trial 26 with value: 0.8192706044818279.\u001b[0m\n",
      "\u001b[32m[I 2021-12-21 20:50:28,940]\u001b[0m Trial 29 finished with value: 0.8103257799259305 and parameters: {'learning_rate': 0.009985431125384931, 'n_estimators': 101, 'subsample': 0.9264262429737373, 'min_samples_split': 8, 'min_samples_leaf': 8, 'max_depth': 5, 'min_impurity_decrease': 0.806850087389317, 'max_features': 11}. Best is trial 26 with value: 0.8192706044818279.\u001b[0m\n",
      "\u001b[32m[I 2021-12-21 20:50:29,198]\u001b[0m Trial 30 finished with value: 0.7867365513778168 and parameters: {'learning_rate': 0.009325025179841656, 'n_estimators': 45, 'subsample': 0.9696438176334709, 'min_samples_split': 5, 'min_samples_leaf': 6, 'max_depth': 4, 'min_impurity_decrease': 0.7712432129606422, 'max_features': 8}. Best is trial 26 with value: 0.8192706044818279.\u001b[0m\n",
      "\u001b[32m[I 2021-12-21 20:50:29,785]\u001b[0m Trial 31 finished with value: 0.8080660347749671 and parameters: {'learning_rate': 0.008194904830242395, 'n_estimators': 115, 'subsample': 0.9033331677334544, 'min_samples_split': 15, 'min_samples_leaf': 10, 'max_depth': 6, 'min_impurity_decrease': 0.838007394416135, 'max_features': 11}. Best is trial 26 with value: 0.8192706044818279.\u001b[0m\n",
      "\u001b[32m[I 2021-12-21 20:50:30,575]\u001b[0m Trial 32 finished with value: 0.8159312033142928 and parameters: {'learning_rate': 0.008410367389984106, 'n_estimators': 142, 'subsample': 0.9413764678174642, 'min_samples_split': 16, 'min_samples_leaf': 7, 'max_depth': 7, 'min_impurity_decrease': 0.8232495907269448, 'max_features': 15}. Best is trial 26 with value: 0.8192706044818279.\u001b[0m\n",
      "\u001b[32m[I 2021-12-21 20:50:31,020]\u001b[0m Trial 33 finished with value: 0.8080472035653756 and parameters: {'learning_rate': 0.009232246511502729, 'n_estimators': 83, 'subsample': 0.9374535155073299, 'min_samples_split': 14, 'min_samples_leaf': 6, 'max_depth': 6, 'min_impurity_decrease': 0.8262031658462208, 'max_features': 9}. Best is trial 26 with value: 0.8192706044818279.\u001b[0m\n",
      "\u001b[32m[I 2021-12-21 20:50:31,946]\u001b[0m Trial 34 finished with value: 0.8159374803841567 and parameters: {'learning_rate': 0.006130937744051726, 'n_estimators': 144, 'subsample': 0.96080675153611, 'min_samples_split': 16, 'min_samples_leaf': 8, 'max_depth': 7, 'min_impurity_decrease': 0.7974954693324265, 'max_features': 16}. Best is trial 26 with value: 0.8192706044818279.\u001b[0m\n",
      "\u001b[32m[I 2021-12-21 20:50:32,152]\u001b[0m Trial 35 finished with value: 0.6161634548992531 and parameters: {'learning_rate': 0.006395976788245148, 'n_estimators': 21, 'subsample': 0.9727114733363029, 'min_samples_split': 16, 'min_samples_leaf': 4, 'max_depth': 4, 'min_impurity_decrease': 0.7955984609136229, 'max_features': 16}. Best is trial 26 with value: 0.8192706044818279.\u001b[0m\n",
      "\u001b[32m[I 2021-12-21 20:50:32,840]\u001b[0m Trial 36 finished with value: 0.8080723118448307 and parameters: {'learning_rate': 0.008006902159074895, 'n_estimators': 105, 'subsample': 0.9612096507745086, 'min_samples_split': 13, 'min_samples_leaf': 7, 'max_depth': 5, 'min_impurity_decrease': 0.7771012695595114, 'max_features': 16}. Best is trial 26 with value: 0.8192706044818279.\u001b[0m\n",
      "\u001b[32m[I 2021-12-21 20:50:33,675]\u001b[0m Trial 37 finished with value: 0.8136902893729208 and parameters: {'learning_rate': 0.008758938287983811, 'n_estimators': 144, 'subsample': 0.9365133595982564, 'min_samples_split': 16, 'min_samples_leaf': 3, 'max_depth': 6, 'min_impurity_decrease': 0.8040463276944207, 'max_features': 14}. Best is trial 26 with value: 0.8192706044818279.\u001b[0m\n",
      "\u001b[32m[I 2021-12-21 20:50:34,437]\u001b[0m Trial 38 finished with value: 0.8148138848785387 and parameters: {'learning_rate': 0.00951711565999291, 'n_estimators': 121, 'subsample': 0.908708142805081, 'min_samples_split': 11, 'min_samples_leaf': 5, 'max_depth': 7, 'min_impurity_decrease': 0.7854705399014548, 'max_features': 17}. Best is trial 26 with value: 0.8192706044818279.\u001b[0m\n",
      "\u001b[32m[I 2021-12-21 20:50:35,297]\u001b[0m Trial 39 finished with value: 0.772136086874647 and parameters: {'learning_rate': 0.002195501293725504, 'n_estimators': 117, 'subsample': 0.906986563457568, 'min_samples_split': 11, 'min_samples_leaf': 5, 'max_depth': 7, 'min_impurity_decrease': 0.7888624352437612, 'max_features': 17}. Best is trial 26 with value: 0.8192706044818279.\u001b[0m\n",
      "\u001b[32m[I 2021-12-21 20:50:36,277]\u001b[0m Trial 40 finished with value: 0.8159500345238844 and parameters: {'learning_rate': 0.005927526241379884, 'n_estimators': 156, 'subsample': 0.9527000367888944, 'min_samples_split': 11, 'min_samples_leaf': 8, 'max_depth': 7, 'min_impurity_decrease': 0.8395690898393556, 'max_features': 20}. Best is trial 26 with value: 0.8192706044818279.\u001b[0m\n",
      "\u001b[32m[I 2021-12-21 20:50:37,233]\u001b[0m Trial 41 finished with value: 0.8069487163392128 and parameters: {'learning_rate': 0.005408714088812258, 'n_estimators': 149, 'subsample': 0.9532731345586416, 'min_samples_split': 11, 'min_samples_leaf': 8, 'max_depth': 7, 'min_impurity_decrease': 0.838211962725564, 'max_features': 20}. Best is trial 26 with value: 0.8192706044818279.\u001b[0m\n",
      "\u001b[32m[I 2021-12-21 20:50:38,278]\u001b[0m Trial 42 finished with value: 0.8069424392693489 and parameters: {'learning_rate': 0.0041723828627119935, 'n_estimators': 160, 'subsample': 0.9468418772239108, 'min_samples_split': 9, 'min_samples_leaf': 7, 'max_depth': 7, 'min_impurity_decrease': 0.823428626041789, 'max_features': 19}. Best is trial 26 with value: 0.8192706044818279.\u001b[0m\n",
      "\u001b[32m[I 2021-12-21 20:50:39,072]\u001b[0m Trial 43 finished with value: 0.8046952482581131 and parameters: {'learning_rate': 0.006126826005678314, 'n_estimators': 122, 'subsample': 0.9374850907935801, 'min_samples_split': 12, 'min_samples_leaf': 5, 'max_depth': 7, 'min_impurity_decrease': 0.7995420385465335, 'max_features': 17}. Best is trial 26 with value: 0.8192706044818279.\u001b[0m\n"
     ]
    },
    {
     "name": "stderr",
     "output_type": "stream",
     "text": [
      "\u001b[32m[I 2021-12-21 20:50:40,323]\u001b[0m Trial 44 finished with value: 0.8080597577051032 and parameters: {'learning_rate': 0.0029962924290753814, 'n_estimators': 181, 'subsample': 0.9995665224491982, 'min_samples_split': 10, 'min_samples_leaf': 3, 'max_depth': 7, 'min_impurity_decrease': 0.7514945267596694, 'max_features': 17}. Best is trial 26 with value: 0.8192706044818279.\u001b[0m\n",
      "\u001b[32m[I 2021-12-21 20:50:41,180]\u001b[0m Trial 45 finished with value: 0.8182035026049841 and parameters: {'learning_rate': 0.009430402633075033, 'n_estimators': 145, 'subsample': 0.9625621911558581, 'min_samples_split': 13, 'min_samples_leaf': 9, 'max_depth': 7, 'min_impurity_decrease': 0.7842794564062001, 'max_features': 19}. Best is trial 26 with value: 0.8192706044818279.\u001b[0m\n",
      "\u001b[32m[I 2021-12-21 20:50:42,080]\u001b[0m Trial 46 finished with value: 0.8181972255351202 and parameters: {'learning_rate': 0.007922175066003838, 'n_estimators': 152, 'subsample': 0.9597870717376773, 'min_samples_split': 13, 'min_samples_leaf': 9, 'max_depth': 7, 'min_impurity_decrease': 0.8362408808711196, 'max_features': 19}. Best is trial 26 with value: 0.8192706044818279.\u001b[0m\n",
      "\u001b[32m[I 2021-12-21 20:50:43,045]\u001b[0m Trial 47 finished with value: 0.8148264390182662 and parameters: {'learning_rate': 0.006850728113256106, 'n_estimators': 159, 'subsample': 0.9626368341387577, 'min_samples_split': 13, 'min_samples_leaf': 10, 'max_depth': 6, 'min_impurity_decrease': 0.7658422104303549, 'max_features': 19}. Best is trial 26 with value: 0.8192706044818279.\u001b[0m\n",
      "\u001b[32m[I 2021-12-21 20:50:44,022]\u001b[0m Trial 48 finished with value: 0.8103320569957944 and parameters: {'learning_rate': 0.007921783229554833, 'n_estimators': 167, 'subsample': 0.980656489212295, 'min_samples_split': 13, 'min_samples_leaf': 12, 'max_depth': 7, 'min_impurity_decrease': 0.8354573508995576, 'max_features': 20}. Best is trial 26 with value: 0.8192706044818279.\u001b[0m\n",
      "\u001b[32m[I 2021-12-21 20:50:44,972]\u001b[0m Trial 49 finished with value: 0.8035842068922227 and parameters: {'learning_rate': 0.004652348822894084, 'n_estimators': 153, 'subsample': 0.953966684517172, 'min_samples_split': 12, 'min_samples_leaf': 9, 'max_depth': 7, 'min_impurity_decrease': 0.8509912769375418, 'max_features': 18}. Best is trial 26 with value: 0.8192706044818279.\u001b[0m\n",
      "\u001b[32m[I 2021-12-21 20:50:46,067]\u001b[0m Trial 50 finished with value: 0.8069612704789403 and parameters: {'learning_rate': 0.005365966850220414, 'n_estimators': 182, 'subsample': 0.9975389927949703, 'min_samples_split': 14, 'min_samples_leaf': 10, 'max_depth': 6, 'min_impurity_decrease': 0.8457546681163988, 'max_features': 19}. Best is trial 26 with value: 0.8192706044818279.\u001b[0m\n",
      "\u001b[32m[I 2021-12-21 20:50:46,930]\u001b[0m Trial 51 finished with value: 0.8148515472977215 and parameters: {'learning_rate': 0.008641292545809372, 'n_estimators': 142, 'subsample': 0.9693870081622458, 'min_samples_split': 15, 'min_samples_leaf': 8, 'max_depth': 7, 'min_impurity_decrease': 0.8299493040670276, 'max_features': 20}. Best is trial 26 with value: 0.8192706044818279.\u001b[0m\n",
      "\u001b[32m[I 2021-12-21 20:50:47,813]\u001b[0m Trial 52 finished with value: 0.8125792480070304 and parameters: {'learning_rate': 0.006130126825145106, 'n_estimators': 146, 'subsample': 0.943991721182665, 'min_samples_split': 16, 'min_samples_leaf': 9, 'max_depth': 7, 'min_impurity_decrease': 0.8626063466372677, 'max_features': 18}. Best is trial 26 with value: 0.8192706044818279.\u001b[0m\n",
      "\u001b[32m[I 2021-12-21 20:50:48,573]\u001b[0m Trial 53 finished with value: 0.8159374803841567 and parameters: {'learning_rate': 0.009528890492234389, 'n_estimators': 134, 'subsample': 0.9298776912302815, 'min_samples_split': 17, 'min_samples_leaf': 7, 'max_depth': 7, 'min_impurity_decrease': 0.8115109518310321, 'max_features': 15}. Best is trial 26 with value: 0.8192706044818279.\u001b[0m\n",
      "\u001b[32m[I 2021-12-21 20:50:49,239]\u001b[0m Trial 54 finished with value: 0.8103320569957944 and parameters: {'learning_rate': 0.009570699932984986, 'n_estimators': 107, 'subsample': 0.9302097035746305, 'min_samples_split': 15, 'min_samples_leaf': 11, 'max_depth': 7, 'min_impurity_decrease': 0.7782786884136312, 'max_features': 19}. Best is trial 26 with value: 0.8192706044818279.\u001b[0m\n",
      "\u001b[32m[I 2021-12-21 20:50:50,013]\u001b[0m Trial 55 finished with value: 0.8170610758897746 and parameters: {'learning_rate': 0.008799271541710637, 'n_estimators': 137, 'subsample': 0.9602766790216676, 'min_samples_split': 14, 'min_samples_leaf': 8, 'max_depth': 7, 'min_impurity_decrease': 0.793581759010236, 'max_features': 15}. Best is trial 26 with value: 0.8192706044818279.\u001b[0m\n",
      "\u001b[32m[I 2021-12-21 20:50:50,749]\u001b[0m Trial 56 finished with value: 0.8170547988199107 and parameters: {'learning_rate': 0.008912101455502116, 'n_estimators': 133, 'subsample': 0.8947777261697517, 'min_samples_split': 12, 'min_samples_leaf': 7, 'max_depth': 7, 'min_impurity_decrease': 0.8082606778744484, 'max_features': 15}. Best is trial 26 with value: 0.8192706044818279.\u001b[0m\n",
      "\u001b[32m[I 2021-12-21 20:50:51,571]\u001b[0m Trial 57 finished with value: 0.8148013307388112 and parameters: {'learning_rate': 0.007842149914702537, 'n_estimators': 164, 'subsample': 0.8948774663231209, 'min_samples_split': 12, 'min_samples_leaf': 9, 'max_depth': 6, 'min_impurity_decrease': 0.7885660532049846, 'max_features': 12}. Best is trial 26 with value: 0.8192706044818279.\u001b[0m\n",
      "\u001b[32m[I 2021-12-21 20:50:52,383]\u001b[0m Trial 58 finished with value: 0.8125980792166217 and parameters: {'learning_rate': 0.009099386285729257, 'n_estimators': 133, 'subsample': 0.9819403205746853, 'min_samples_split': 13, 'min_samples_leaf': 6, 'max_depth': 7, 'min_impurity_decrease': 0.8737637789757315, 'max_features': 20}. Best is trial 26 with value: 0.8192706044818279.\u001b[0m\n",
      "\u001b[32m[I 2021-12-21 20:50:53,165]\u001b[0m Trial 59 finished with value: 0.8148327160881299 and parameters: {'learning_rate': 0.008720381197527239, 'n_estimators': 154, 'subsample': 0.9149004346596501, 'min_samples_split': 10, 'min_samples_leaf': 8, 'max_depth': 7, 'min_impurity_decrease': 0.8440404366543915, 'max_features': 13}. Best is trial 26 with value: 0.8192706044818279.\u001b[0m\n",
      "\u001b[32m[I 2021-12-21 20:50:53,860]\u001b[0m Trial 60 finished with value: 0.8058376749733226 and parameters: {'learning_rate': 0.007248506170033989, 'n_estimators': 126, 'subsample': 0.8732307966145951, 'min_samples_split': 9, 'min_samples_leaf': 13, 'max_depth': 6, 'min_impurity_decrease': 0.9759875898595113, 'max_features': 18}. Best is trial 26 with value: 0.8192706044818279.\u001b[0m\n",
      "\u001b[32m[I 2021-12-21 20:50:54,691]\u001b[0m Trial 61 finished with value: 0.8159625886636119 and parameters: {'learning_rate': 0.009053352433202332, 'n_estimators': 149, 'subsample': 0.9592626508233302, 'min_samples_split': 14, 'min_samples_leaf': 9, 'max_depth': 7, 'min_impurity_decrease': 0.7969285532506261, 'max_features': 16}. Best is trial 26 with value: 0.8192706044818279.\u001b[0m\n",
      "\u001b[32m[I 2021-12-21 20:50:55,595]\u001b[0m Trial 62 finished with value: 0.8114807607808675 and parameters: {'learning_rate': 0.00896907673491685, 'n_estimators': 173, 'subsample': 0.9536499900660302, 'min_samples_split': 14, 'min_samples_leaf': 10, 'max_depth': 7, 'min_impurity_decrease': 0.8174755538849477, 'max_features': 15}. Best is trial 26 with value: 0.8192706044818279.\u001b[0m\n",
      "\u001b[32m[I 2021-12-21 20:50:56,411]\u001b[0m Trial 63 finished with value: 0.8148264390182662 and parameters: {'learning_rate': 0.009614810544290099, 'n_estimators': 138, 'subsample': 0.9747825213180689, 'min_samples_split': 12, 'min_samples_leaf': 11, 'max_depth': 7, 'min_impurity_decrease': 0.80425118091559, 'max_features': 19}. Best is trial 26 with value: 0.8192706044818279.\u001b[0m\n",
      "\u001b[32m[I 2021-12-21 20:50:57,333]\u001b[0m Trial 64 finished with value: 0.8148515472977215 and parameters: {'learning_rate': 0.008837425568077522, 'n_estimators': 160, 'subsample': 0.9871540578694251, 'min_samples_split': 14, 'min_samples_leaf': 9, 'max_depth': 7, 'min_impurity_decrease': 0.7939991607231409, 'max_features': 18}. Best is trial 26 with value: 0.8192706044818279.\u001b[0m\n",
      "\u001b[32m[I 2021-12-21 20:50:58,168]\u001b[0m Trial 65 finished with value: 0.8148076078086749 and parameters: {'learning_rate': 0.008325171954037881, 'n_estimators': 151, 'subsample': 0.9648750423457777, 'min_samples_split': 2, 'min_samples_leaf': 7, 'max_depth': 7, 'min_impurity_decrease': 0.7718022129363584, 'max_features': 14}. Best is trial 26 with value: 0.8192706044818279.\u001b[0m\n"
     ]
    },
    {
     "name": "stderr",
     "output_type": "stream",
     "text": [
      "\u001b[32m[I 2021-12-21 20:50:58,783]\u001b[0m Trial 66 finished with value: 0.8069298851296214 and parameters: {'learning_rate': 0.007573187697919891, 'n_estimators': 112, 'subsample': 0.9493154666155414, 'min_samples_split': 13, 'min_samples_leaf': 9, 'max_depth': 7, 'min_impurity_decrease': 0.8204027900224531, 'max_features': 12}. Best is trial 26 with value: 0.8192706044818279.\u001b[0m\n",
      "\u001b[32m[I 2021-12-21 20:50:59,581]\u001b[0m Trial 67 finished with value: 0.8136965664427844 and parameters: {'learning_rate': 0.00975755512889231, 'n_estimators': 138, 'subsample': 0.9188059428105653, 'min_samples_split': 11, 'min_samples_leaf': 6, 'max_depth': 6, 'min_impurity_decrease': 0.7601806415784129, 'max_features': 17}. Best is trial 26 with value: 0.8192706044818279.\u001b[0m\n",
      "\u001b[32m[I 2021-12-21 20:51:00,424]\u001b[0m Trial 68 finished with value: 0.8125980792166217 and parameters: {'learning_rate': 0.009325152114399242, 'n_estimators': 157, 'subsample': 0.889997894501716, 'min_samples_split': 13, 'min_samples_leaf': 8, 'max_depth': 7, 'min_impurity_decrease': 0.8094917288770578, 'max_features': 16}. Best is trial 26 with value: 0.8192706044818279.\u001b[0m\n",
      "\u001b[32m[I 2021-12-21 20:51:01,283]\u001b[0m Trial 69 finished with value: 0.8114744837110036 and parameters: {'learning_rate': 0.008961040791568396, 'n_estimators': 167, 'subsample': 0.9925862253831237, 'min_samples_split': 15, 'min_samples_leaf': 7, 'max_depth': 7, 'min_impurity_decrease': 0.8294957876653706, 'max_features': 13}. Best is trial 26 with value: 0.8192706044818279.\u001b[0m\n",
      "\u001b[32m[I 2021-12-21 20:51:01,838]\u001b[0m Trial 70 finished with value: 0.8002259745150964 and parameters: {'learning_rate': 0.00857968932479919, 'n_estimators': 97, 'subsample': 0.7567695322326953, 'min_samples_split': 12, 'min_samples_leaf': 10, 'max_depth': 7, 'min_impurity_decrease': 0.8809470001613507, 'max_features': 18}. Best is trial 26 with value: 0.8192706044818279.\u001b[0m\n",
      "\u001b[32m[I 2021-12-21 20:51:02,727]\u001b[0m Trial 71 finished with value: 0.8148138848785388 and parameters: {'learning_rate': 0.005940817425400412, 'n_estimators': 147, 'subsample': 0.9609126029101122, 'min_samples_split': 14, 'min_samples_leaf': 8, 'max_depth': 7, 'min_impurity_decrease': 0.7944043911058797, 'max_features': 16}. Best is trial 26 with value: 0.8192706044818279.\u001b[0m\n",
      "\u001b[32m[I 2021-12-21 20:51:03,471]\u001b[0m Trial 72 finished with value: 0.8170485217500472 and parameters: {'learning_rate': 0.0068236810499179, 'n_estimators': 127, 'subsample': 0.9557876608507285, 'min_samples_split': 14, 'min_samples_leaf': 9, 'max_depth': 7, 'min_impurity_decrease': 0.7993723786397032, 'max_features': 15}. Best is trial 26 with value: 0.8192706044818279.\u001b[0m\n",
      "\u001b[32m[I 2021-12-21 20:51:04,221]\u001b[0m Trial 73 finished with value: 0.8159374803841567 and parameters: {'learning_rate': 0.008052505900912988, 'n_estimators': 128, 'subsample': 0.9775506327121081, 'min_samples_split': 15, 'min_samples_leaf': 9, 'max_depth': 7, 'min_impurity_decrease': 0.778311856048644, 'max_features': 15}. Best is trial 26 with value: 0.8192706044818279.\u001b[0m\n",
      "\u001b[32m[I 2021-12-21 20:51:04,923]\u001b[0m Trial 74 finished with value: 0.813684012303057 and parameters: {'learning_rate': 0.006907127080589062, 'n_estimators': 124, 'subsample': 0.9340809800923133, 'min_samples_split': 13, 'min_samples_leaf': 10, 'max_depth': 7, 'min_impurity_decrease': 0.8029794737727071, 'max_features': 14}. Best is trial 26 with value: 0.8192706044818279.\u001b[0m\n",
      "\u001b[32m[I 2021-12-21 20:51:05,821]\u001b[0m Trial 75 finished with value: 0.8069487163392128 and parameters: {'learning_rate': 0.006551161424065903, 'n_estimators': 134, 'subsample': 0.9676119027350738, 'min_samples_split': 14, 'min_samples_leaf': 6, 'max_depth': 7, 'min_impurity_decrease': 0.7827342798484465, 'max_features': 20}. Best is trial 26 with value: 0.8192706044818279.\u001b[0m\n",
      "\u001b[32m[I 2021-12-21 20:51:06,527]\u001b[0m Trial 76 finished with value: 0.815931203314293 and parameters: {'learning_rate': 0.007694012006088377, 'n_estimators': 119, 'subsample': 0.9557879359293342, 'min_samples_split': 11, 'min_samples_leaf': 7, 'max_depth': 6, 'min_impurity_decrease': 0.8166329890892758, 'max_features': 15}. Best is trial 26 with value: 0.8192706044818279.\u001b[0m\n",
      "\u001b[32m[I 2021-12-21 20:51:07,167]\u001b[0m Trial 77 finished with value: 0.8047140794677045 and parameters: {'learning_rate': 0.009251131480616561, 'n_estimators': 137, 'subsample': 0.9438808563575208, 'min_samples_split': 12, 'min_samples_leaf': 11, 'max_depth': 4, 'min_impurity_decrease': 0.810294182320398, 'max_features': 10}. Best is trial 26 with value: 0.8192706044818279.\u001b[0m\n",
      "\u001b[32m[I 2021-12-21 20:51:07,663]\u001b[0m Trial 78 finished with value: 0.8080534806352395 and parameters: {'learning_rate': 0.007244268094990223, 'n_estimators': 85, 'subsample': 0.8755483987492217, 'min_samples_split': 12, 'min_samples_leaf': 8, 'max_depth': 7, 'min_impurity_decrease': 0.8410750048492104, 'max_features': 13}. Best is trial 26 with value: 0.8192706044818279.\u001b[0m\n",
      "\u001b[32m[I 2021-12-21 20:51:08,415]\u001b[0m Trial 79 finished with value: 0.8069801016885318 and parameters: {'learning_rate': 0.009985108055475235, 'n_estimators': 130, 'subsample': 0.9145525051572733, 'min_samples_split': 15, 'min_samples_leaf': 12, 'max_depth': 5, 'min_impurity_decrease': 0.7902104331225498, 'max_features': 19}. Best is trial 26 with value: 0.8192706044818279.\u001b[0m\n",
      "\u001b[32m[I 2021-12-21 20:51:08,626]\u001b[0m Trial 80 finished with value: 0.785606678802335 and parameters: {'learning_rate': 0.009424841244347058, 'n_estimators': 39, 'subsample': 0.9572236844840502, 'min_samples_split': 9, 'min_samples_leaf': 9, 'max_depth': 3, 'min_impurity_decrease': 0.8307552300489701, 'max_features': 8}. Best is trial 26 with value: 0.8192706044818279.\u001b[0m\n",
      "\u001b[32m[I 2021-12-21 20:51:09,384]\u001b[0m Trial 81 finished with value: 0.8114682066411399 and parameters: {'learning_rate': 0.009713867690990929, 'n_estimators': 143, 'subsample': 0.9289338983024624, 'min_samples_split': 18, 'min_samples_leaf': 7, 'max_depth': 7, 'min_impurity_decrease': 0.8099686355034766, 'max_features': 14}. Best is trial 26 with value: 0.8192706044818279.\u001b[0m\n",
      "\u001b[32m[I 2021-12-21 20:51:10,157]\u001b[0m Trial 82 finished with value: 0.8148138848785387 and parameters: {'learning_rate': 0.00840539561656992, 'n_estimators': 149, 'subsample': 0.9008532080341928, 'min_samples_split': 17, 'min_samples_leaf': 17, 'max_depth': 7, 'min_impurity_decrease': 0.8014344332581854, 'max_features': 15}. Best is trial 26 with value: 0.8192706044818279.\u001b[0m\n",
      "\u001b[32m[I 2021-12-21 20:51:10,947]\u001b[0m Trial 83 finished with value: 0.8170673529596384 and parameters: {'learning_rate': 0.007952791882254244, 'n_estimators': 125, 'subsample': 0.9801387347400481, 'min_samples_split': 15, 'min_samples_leaf': 9, 'max_depth': 7, 'min_impurity_decrease': 0.7784383635506772, 'max_features': 17}. Best is trial 26 with value: 0.8192706044818279.\u001b[0m\n",
      "\u001b[32m[I 2021-12-21 20:51:11,678]\u001b[0m Trial 84 finished with value: 0.8148138848785388 and parameters: {'learning_rate': 0.009002811800734386, 'n_estimators': 114, 'subsample': 0.9867887829442412, 'min_samples_split': 14, 'min_samples_leaf': 8, 'max_depth': 7, 'min_impurity_decrease': 0.7736630588951269, 'max_features': 17}. Best is trial 26 with value: 0.8192706044818279.\u001b[0m\n",
      "\u001b[32m[I 2021-12-21 20:51:12,348]\u001b[0m Trial 85 finished with value: 0.8170485217500472 and parameters: {'learning_rate': 0.00816586113666469, 'n_estimators': 109, 'subsample': 0.9738357465424624, 'min_samples_split': 13, 'min_samples_leaf': 10, 'max_depth': 7, 'min_impurity_decrease': 0.7678509617014725, 'max_features': 16}. Best is trial 26 with value: 0.8192706044818279.\u001b[0m\n",
      "\u001b[32m[I 2021-12-21 20:51:12,983]\u001b[0m Trial 86 finished with value: 0.8136902893729208 and parameters: {'learning_rate': 0.00815386720295752, 'n_estimators': 102, 'subsample': 0.9695378848848282, 'min_samples_split': 13, 'min_samples_leaf': 10, 'max_depth': 7, 'min_impurity_decrease': 0.7581247481360548, 'max_features': 16}. Best is trial 26 with value: 0.8192706044818279.\u001b[0m\n",
      "\u001b[32m[I 2021-12-21 20:51:13,577]\u001b[0m Trial 87 finished with value: 0.8102943945766116 and parameters: {'learning_rate': 0.0078044157187776115, 'n_estimators': 90, 'subsample': 0.9762393042826112, 'min_samples_split': 14, 'min_samples_leaf': 9, 'max_depth': 7, 'min_impurity_decrease': 0.7670254218446491, 'max_features': 17}. Best is trial 26 with value: 0.8192706044818279.\u001b[0m\n"
     ]
    },
    {
     "name": "stderr",
     "output_type": "stream",
     "text": [
      "\u001b[32m[I 2021-12-21 20:51:14,286]\u001b[0m Trial 88 finished with value: 0.8092084614901764 and parameters: {'learning_rate': 0.008611869983474253, 'n_estimators': 119, 'subsample': 0.9838274502534743, 'min_samples_split': 13, 'min_samples_leaf': 11, 'max_depth': 7, 'min_impurity_decrease': 0.7818252089280183, 'max_features': 16}. Best is trial 26 with value: 0.8192706044818279.\u001b[0m\n",
      "\u001b[32m[I 2021-12-21 20:51:14,762]\u001b[0m Trial 89 finished with value: 0.8058000125541398 and parameters: {'learning_rate': 0.007423180976077583, 'n_estimators': 76, 'subsample': 0.9729756990944748, 'min_samples_split': 15, 'min_samples_leaf': 10, 'max_depth': 6, 'min_impurity_decrease': 0.7636204430875523, 'max_features': 14}. Best is trial 26 with value: 0.8192706044818279.\u001b[0m\n",
      "\u001b[32m[I 2021-12-21 20:51:15,508]\u001b[0m Trial 90 finished with value: 0.6161634548992531 and parameters: {'learning_rate': 0.0003162787778600582, 'n_estimators': 109, 'subsample': 0.9935946657408345, 'min_samples_split': 15, 'min_samples_leaf': 9, 'max_depth': 7, 'min_impurity_decrease': 0.7909538260235264, 'max_features': 17}. Best is trial 26 with value: 0.8192706044818279.\u001b[0m\n",
      "\u001b[32m[I 2021-12-21 20:51:16,361]\u001b[0m Trial 91 finished with value: 0.8170736300295023 and parameters: {'learning_rate': 0.008095551858102158, 'n_estimators': 141, 'subsample': 0.9480495358194267, 'min_samples_split': 14, 'min_samples_leaf': 8, 'max_depth': 7, 'min_impurity_decrease': 0.7836494546186642, 'max_features': 18}. Best is trial 26 with value: 0.8192706044818279.\u001b[0m\n",
      "\u001b[32m[I 2021-12-21 20:51:17,123]\u001b[0m Trial 92 finished with value: 0.8136902893729208 and parameters: {'learning_rate': 0.008214797346068394, 'n_estimators': 124, 'subsample': 0.9411066359238636, 'min_samples_split': 14, 'min_samples_leaf': 9, 'max_depth': 7, 'min_impurity_decrease': 0.7844236814077277, 'max_features': 18}. Best is trial 26 with value: 0.8192706044818279.\u001b[0m\n",
      "\u001b[32m[I 2021-12-21 20:51:17,894]\u001b[0m Trial 93 finished with value: 0.8148138848785387 and parameters: {'learning_rate': 0.009120280900753498, 'n_estimators': 133, 'subsample': 0.9582560637914843, 'min_samples_split': 13, 'min_samples_leaf': 7, 'max_depth': 7, 'min_impurity_decrease': 0.7965061462831159, 'max_features': 16}. Best is trial 26 with value: 0.8192706044818279.\u001b[0m\n",
      "\u001b[32m[I 2021-12-21 20:51:18,743]\u001b[0m Trial 94 finished with value: 0.8181972255351202 and parameters: {'learning_rate': 0.008464739611267447, 'n_estimators': 139, 'subsample': 0.965115019353386, 'min_samples_split': 16, 'min_samples_leaf': 8, 'max_depth': 7, 'min_impurity_decrease': 0.7706474584314493, 'max_features': 18}. Best is trial 26 with value: 0.8192706044818279.\u001b[0m\n",
      "\u001b[32m[I 2021-12-21 20:51:19,541]\u001b[0m Trial 95 finished with value: 0.8170673529596384 and parameters: {'learning_rate': 0.008479317292410818, 'n_estimators': 129, 'subsample': 0.9644811925770563, 'min_samples_split': 16, 'min_samples_leaf': 8, 'max_depth': 7, 'min_impurity_decrease': 0.7701915999705756, 'max_features': 18}. Best is trial 26 with value: 0.8192706044818279.\u001b[0m\n",
      "\u001b[32m[I 2021-12-21 20:51:20,405]\u001b[0m Trial 96 finished with value: 0.8215554579122465 and parameters: {'learning_rate': 0.008761634221768776, 'n_estimators': 140, 'subsample': 0.9492188089235514, 'min_samples_split': 17, 'min_samples_leaf': 5, 'max_depth': 7, 'min_impurity_decrease': 0.7737007545812672, 'max_features': 19}. Best is trial 96 with value: 0.8215554579122465.\u001b[0m\n",
      "\u001b[32m[I 2021-12-21 20:51:21,256]\u001b[0m Trial 97 finished with value: 0.8193082669010107 and parameters: {'learning_rate': 0.008732444575119772, 'n_estimators': 140, 'subsample': 0.9479957151276132, 'min_samples_split': 17, 'min_samples_leaf': 5, 'max_depth': 7, 'min_impurity_decrease': 0.7506444435317177, 'max_features': 18}. Best is trial 96 with value: 0.8215554579122465.\u001b[0m\n",
      "\u001b[32m[I 2021-12-21 20:51:22,145]\u001b[0m Trial 98 finished with value: 0.8215554579122466 and parameters: {'learning_rate': 0.008447933453170069, 'n_estimators': 143, 'subsample': 0.9479227366573506, 'min_samples_split': 17, 'min_samples_leaf': 5, 'max_depth': 7, 'min_impurity_decrease': 0.7504145924024248, 'max_features': 19}. Best is trial 98 with value: 0.8215554579122466.\u001b[0m\n",
      "\u001b[32m[I 2021-12-21 20:51:23,016]\u001b[0m Trial 99 finished with value: 0.8148138848785387 and parameters: {'learning_rate': 0.008519984900486348, 'n_estimators': 141, 'subsample': 0.9453027138709411, 'min_samples_split': 19, 'min_samples_leaf': 4, 'max_depth': 6, 'min_impurity_decrease': 0.7529517832783624, 'max_features': 19}. Best is trial 98 with value: 0.8215554579122466.\u001b[0m\n",
      "\u001b[32m[I 2021-12-21 20:51:23,886]\u001b[0m Trial 100 finished with value: 0.8170610758897746 and parameters: {'learning_rate': 0.007804862701663239, 'n_estimators': 141, 'subsample': 0.9498068611052247, 'min_samples_split': 17, 'min_samples_leaf': 5, 'max_depth': 7, 'min_impurity_decrease': 0.7610806532951798, 'max_features': 18}. Best is trial 98 with value: 0.8215554579122466.\u001b[0m\n",
      "\u001b[32m[I 2021-12-21 20:51:24,759]\u001b[0m Trial 101 finished with value: 0.8148138848785387 and parameters: {'learning_rate': 0.00785886339871329, 'n_estimators': 140, 'subsample': 0.947622503025043, 'min_samples_split': 17, 'min_samples_leaf': 4, 'max_depth': 7, 'min_impurity_decrease': 0.7511987938725048, 'max_features': 18}. Best is trial 98 with value: 0.8215554579122466.\u001b[0m\n",
      "\u001b[32m[I 2021-12-21 20:51:25,654]\u001b[0m Trial 102 finished with value: 0.8215554579122465 and parameters: {'learning_rate': 0.008410478333054944, 'n_estimators': 145, 'subsample': 0.9648820234147253, 'min_samples_split': 16, 'min_samples_leaf': 5, 'max_depth': 7, 'min_impurity_decrease': 0.7725930237767752, 'max_features': 19}. Best is trial 98 with value: 0.8215554579122466.\u001b[0m\n",
      "\u001b[32m[I 2021-12-21 20:51:26,552]\u001b[0m Trial 103 finished with value: 0.8204318624066286 and parameters: {'learning_rate': 0.00838816114355407, 'n_estimators': 145, 'subsample': 0.9655347428273494, 'min_samples_split': 16, 'min_samples_leaf': 6, 'max_depth': 7, 'min_impurity_decrease': 0.7570199284153223, 'max_features': 19}. Best is trial 98 with value: 0.8215554579122466.\u001b[0m\n",
      "\u001b[32m[I 2021-12-21 20:51:27,459]\u001b[0m Trial 104 finished with value: 0.8181846713953927 and parameters: {'learning_rate': 0.008330541856272642, 'n_estimators': 146, 'subsample': 0.9344152910710629, 'min_samples_split': 18, 'min_samples_leaf': 3, 'max_depth': 7, 'min_impurity_decrease': 0.7577989613627109, 'max_features': 19}. Best is trial 98 with value: 0.8215554579122466.\u001b[0m\n",
      "\u001b[32m[I 2021-12-21 20:51:28,443]\u001b[0m Trial 105 finished with value: 0.8181846713953927 and parameters: {'learning_rate': 0.008266085469872493, 'n_estimators': 163, 'subsample': 0.9336201792244617, 'min_samples_split': 19, 'min_samples_leaf': 3, 'max_depth': 7, 'min_impurity_decrease': 0.7559678770897872, 'max_features': 19}. Best is trial 98 with value: 0.8215554579122466.\u001b[0m\n",
      "\u001b[32m[I 2021-12-21 20:51:29,424]\u001b[0m Trial 106 finished with value: 0.8148327160881301 and parameters: {'learning_rate': 0.00875334889055375, 'n_estimators': 164, 'subsample': 0.9353635761284036, 'min_samples_split': 19, 'min_samples_leaf': 2, 'max_depth': 7, 'min_impurity_decrease': 0.7578831218550867, 'max_features': 19}. Best is trial 98 with value: 0.8215554579122466.\u001b[0m\n",
      "\u001b[32m[I 2021-12-21 20:51:30,487]\u001b[0m Trial 107 finished with value: 0.815956311593748 and parameters: {'learning_rate': 0.008310327806954414, 'n_estimators': 178, 'subsample': 0.9256389478669799, 'min_samples_split': 18, 'min_samples_leaf': 3, 'max_depth': 7, 'min_impurity_decrease': 0.7506480033313151, 'max_features': 20}. Best is trial 98 with value: 0.8215554579122466.\u001b[0m\n",
      "\u001b[32m[I 2021-12-21 20:51:31,399]\u001b[0m Trial 108 finished with value: 0.8125918021467579 and parameters: {'learning_rate': 0.009349022165813946, 'n_estimators': 152, 'subsample': 0.9414321492011465, 'min_samples_split': 18, 'min_samples_leaf': 3, 'max_depth': 5, 'min_impurity_decrease': 0.7628062261823095, 'max_features': 19}. Best is trial 98 with value: 0.8215554579122466.\u001b[0m\n",
      "\u001b[32m[I 2021-12-21 20:51:32,345]\u001b[0m Trial 109 finished with value: 0.8159374803841567 and parameters: {'learning_rate': 0.00866817878240849, 'n_estimators': 157, 'subsample': 0.9319105905324025, 'min_samples_split': 19, 'min_samples_leaf': 4, 'max_depth': 7, 'min_impurity_decrease': 0.7562905029578825, 'max_features': 19}. Best is trial 98 with value: 0.8215554579122466.\u001b[0m\n"
     ]
    },
    {
     "name": "stderr",
     "output_type": "stream",
     "text": [
      "\u001b[32m[I 2021-12-21 20:51:33,227]\u001b[0m Trial 110 finished with value: 0.8181846713953927 and parameters: {'learning_rate': 0.009786770231879014, 'n_estimators': 146, 'subsample': 0.9382612281930442, 'min_samples_split': 16, 'min_samples_leaf': 5, 'max_depth': 7, 'min_impurity_decrease': 0.77380462528675, 'max_features': 20}. Best is trial 98 with value: 0.8215554579122466.\u001b[0m\n",
      "\u001b[32m[I 2021-12-21 20:51:34,114]\u001b[0m Trial 111 finished with value: 0.8181846713953927 and parameters: {'learning_rate': 0.00970496133710955, 'n_estimators': 147, 'subsample': 0.9378095627733649, 'min_samples_split': 16, 'min_samples_leaf': 5, 'max_depth': 7, 'min_impurity_decrease': 0.7747916277227089, 'max_features': 20}. Best is trial 98 with value: 0.8215554579122466.\u001b[0m\n",
      "\u001b[32m[I 2021-12-21 20:51:35,075]\u001b[0m Trial 112 finished with value: 0.8170673529596384 and parameters: {'learning_rate': 0.009187595115672974, 'n_estimators': 162, 'subsample': 0.923437649832741, 'min_samples_split': 17, 'min_samples_leaf': 5, 'max_depth': 7, 'min_impurity_decrease': 0.7647532439748604, 'max_features': 20}. Best is trial 98 with value: 0.8215554579122466.\u001b[0m\n",
      "\u001b[32m[I 2021-12-21 20:51:35,991]\u001b[0m Trial 113 finished with value: 0.8193082669010107 and parameters: {'learning_rate': 0.009591315162647619, 'n_estimators': 153, 'subsample': 0.9403181927192947, 'min_samples_split': 16, 'min_samples_leaf': 5, 'max_depth': 7, 'min_impurity_decrease': 0.7725642675813778, 'max_features': 20}. Best is trial 98 with value: 0.8215554579122466.\u001b[0m\n",
      "\u001b[32m[I 2021-12-21 20:51:37,035]\u001b[0m Trial 114 finished with value: 0.8125855250768941 and parameters: {'learning_rate': 0.009853368692463858, 'n_estimators': 187, 'subsample': 0.9510403384498043, 'min_samples_split': 16, 'min_samples_leaf': 6, 'max_depth': 7, 'min_impurity_decrease': 0.7693864025376688, 'max_features': 20}. Best is trial 98 with value: 0.8215554579122466.\u001b[0m\n",
      "\u001b[32m[I 2021-12-21 20:51:37,935]\u001b[0m Trial 115 finished with value: 0.8170736300295023 and parameters: {'learning_rate': 0.009497258340714373, 'n_estimators': 153, 'subsample': 0.939375549384018, 'min_samples_split': 17, 'min_samples_leaf': 6, 'max_depth': 7, 'min_impurity_decrease': 0.7765860033430414, 'max_features': 19}. Best is trial 98 with value: 0.8215554579122466.\u001b[0m\n",
      "\u001b[32m[I 2021-12-21 20:51:38,823]\u001b[0m Trial 116 finished with value: 0.8193208210407381 and parameters: {'learning_rate': 0.00973165712524502, 'n_estimators': 146, 'subsample': 0.9671323079450654, 'min_samples_split': 16, 'min_samples_leaf': 5, 'max_depth': 7, 'min_impurity_decrease': 0.7749574537500753, 'max_features': 20}. Best is trial 98 with value: 0.8215554579122466.\u001b[0m\n",
      "\u001b[32m[I 2021-12-21 20:51:39,823]\u001b[0m Trial 117 finished with value: 0.8148389931579938 and parameters: {'learning_rate': 0.008845409065404207, 'n_estimators': 170, 'subsample': 0.9660361308961346, 'min_samples_split': 16, 'min_samples_leaf': 5, 'max_depth': 7, 'min_impurity_decrease': 0.7547049658285022, 'max_features': 19}. Best is trial 98 with value: 0.8215554579122466.\u001b[0m\n",
      "\u001b[32m[I 2021-12-21 20:51:40,728]\u001b[0m Trial 118 finished with value: 0.8170736300295023 and parameters: {'learning_rate': 0.009572221527522547, 'n_estimators': 150, 'subsample': 0.9650278199669693, 'min_samples_split': 17, 'min_samples_leaf': 5, 'max_depth': 7, 'min_impurity_decrease': 0.7744966447214223, 'max_features': 20}. Best is trial 98 with value: 0.8215554579122466.\u001b[0m\n",
      "\u001b[32m[I 2021-12-21 20:51:41,659]\u001b[0m Trial 119 finished with value: 0.8193082669010107 and parameters: {'learning_rate': 0.009994748006082885, 'n_estimators': 156, 'subsample': 0.9701283217066002, 'min_samples_split': 16, 'min_samples_leaf': 4, 'max_depth': 7, 'min_impurity_decrease': 0.7657905546591379, 'max_features': 20}. Best is trial 98 with value: 0.8215554579122466.\u001b[0m\n",
      "\u001b[32m[I 2021-12-21 20:51:42,594]\u001b[0m Trial 120 finished with value: 0.8193208210407382 and parameters: {'learning_rate': 0.009415381157572893, 'n_estimators': 156, 'subsample': 0.9689558970542166, 'min_samples_split': 17, 'min_samples_leaf': 6, 'max_depth': 7, 'min_impurity_decrease': 0.7643018777431532, 'max_features': 20}. Best is trial 98 with value: 0.8215554579122466.\u001b[0m\n",
      "\u001b[32m[I 2021-12-21 20:51:43,511]\u001b[0m Trial 121 finished with value: 0.8159500345238844 and parameters: {'learning_rate': 0.009996499624940668, 'n_estimators': 155, 'subsample': 0.9730408303963571, 'min_samples_split': 17, 'min_samples_leaf': 6, 'max_depth': 7, 'min_impurity_decrease': 0.7637339415860199, 'max_features': 20}. Best is trial 98 with value: 0.8215554579122466.\u001b[0m\n",
      "\u001b[32m[I 2021-12-21 20:51:44,457]\u001b[0m Trial 122 finished with value: 0.8159374803841567 and parameters: {'learning_rate': 0.009343852402915475, 'n_estimators': 157, 'subsample': 0.9673620617289516, 'min_samples_split': 16, 'min_samples_leaf': 4, 'max_depth': 7, 'min_impurity_decrease': 0.7681142664450803, 'max_features': 20}. Best is trial 98 with value: 0.8215554579122466.\u001b[0m\n",
      "\u001b[32m[I 2021-12-21 20:51:45,367]\u001b[0m Trial 123 finished with value: 0.8170736300295023 and parameters: {'learning_rate': 0.009168867617972276, 'n_estimators': 153, 'subsample': 0.9617092321742511, 'min_samples_split': 17, 'min_samples_leaf': 6, 'max_depth': 7, 'min_impurity_decrease': 0.7805782601661476, 'max_features': 19}. Best is trial 98 with value: 0.8215554579122466.\u001b[0m\n",
      "\u001b[32m[I 2021-12-21 20:51:46,212]\u001b[0m Trial 124 finished with value: 0.8181846713953925 and parameters: {'learning_rate': 0.009639660073472, 'n_estimators': 136, 'subsample': 0.9542006232790194, 'min_samples_split': 16, 'min_samples_leaf': 4, 'max_depth': 7, 'min_impurity_decrease': 0.7609409290014085, 'max_features': 19}. Best is trial 98 with value: 0.8215554579122466.\u001b[0m\n",
      "\u001b[32m[I 2021-12-21 20:51:47,118]\u001b[0m Trial 125 finished with value: 0.8193208210407382 and parameters: {'learning_rate': 0.008934735896269856, 'n_estimators': 144, 'subsample': 0.969801630745303, 'min_samples_split': 18, 'min_samples_leaf': 5, 'max_depth': 7, 'min_impurity_decrease': 0.7503273737347713, 'max_features': 20}. Best is trial 98 with value: 0.8215554579122466.\u001b[0m\n",
      "\u001b[32m[I 2021-12-21 20:51:48,012]\u001b[0m Trial 126 finished with value: 0.8170736300295023 and parameters: {'learning_rate': 0.009423257944304028, 'n_estimators': 145, 'subsample': 0.9771679900705607, 'min_samples_split': 18, 'min_samples_leaf': 5, 'max_depth': 7, 'min_impurity_decrease': 0.7605819050127981, 'max_features': 20}. Best is trial 98 with value: 0.8215554579122466.\u001b[0m\n",
      "\u001b[32m[I 2021-12-21 20:51:48,990]\u001b[0m Trial 127 finished with value: 0.8181846713953927 and parameters: {'learning_rate': 0.0089195873994523, 'n_estimators': 159, 'subsample': 0.9691968287208593, 'min_samples_split': 17, 'min_samples_leaf': 4, 'max_depth': 7, 'min_impurity_decrease': 0.7502258294071612, 'max_features': 20}. Best is trial 98 with value: 0.8215554579122466.\u001b[0m\n",
      "\u001b[32m[I 2021-12-21 20:51:49,720]\u001b[0m Trial 128 finished with value: 0.8181595631159375 and parameters: {'learning_rate': 0.009112714621250321, 'n_estimators': 150, 'subsample': 0.958700123125323, 'min_samples_split': 17, 'min_samples_leaf': 6, 'max_depth': 6, 'min_impurity_decrease': 0.7647596263072702, 'max_features': 9}. Best is trial 98 with value: 0.8215554579122466.\u001b[0m\n",
      "\u001b[32m[I 2021-12-21 20:51:50,600]\u001b[0m Trial 129 finished with value: 0.8148327160881299 and parameters: {'learning_rate': 0.009787037836666537, 'n_estimators': 144, 'subsample': 0.9855334772605123, 'min_samples_split': 18, 'min_samples_leaf': 5, 'max_depth': 7, 'min_impurity_decrease': 0.7718227967000681, 'max_features': 20}. Best is trial 98 with value: 0.8215554579122466.\u001b[0m\n",
      "\u001b[32m[I 2021-12-21 20:51:51,360]\u001b[0m Trial 130 finished with value: 0.8181846713953925 and parameters: {'learning_rate': 0.009996390560684966, 'n_estimators': 137, 'subsample': 0.7849877637172841, 'min_samples_split': 16, 'min_samples_leaf': 6, 'max_depth': 7, 'min_impurity_decrease': 0.7878829868132551, 'max_features': 18}. Best is trial 98 with value: 0.8215554579122466.\u001b[0m\n",
      "\u001b[32m[I 2021-12-21 20:51:52,263]\u001b[0m Trial 131 finished with value: 0.8148138848785387 and parameters: {'learning_rate': 0.009463904407358541, 'n_estimators': 147, 'subsample': 0.9708252971895663, 'min_samples_split': 15, 'min_samples_leaf': 4, 'max_depth': 7, 'min_impurity_decrease': 0.7682051935037504, 'max_features': 19}. Best is trial 98 with value: 0.8215554579122466.\u001b[0m\n"
     ]
    },
    {
     "name": "stderr",
     "output_type": "stream",
     "text": [
      "\u001b[32m[I 2021-12-21 20:51:53,201]\u001b[0m Trial 132 finished with value: 0.8193082669010107 and parameters: {'learning_rate': 0.008602703046680024, 'n_estimators': 153, 'subsample': 0.9632494020864221, 'min_samples_split': 16, 'min_samples_leaf': 5, 'max_depth': 7, 'min_impurity_decrease': 0.7556005661392138, 'max_features': 19}. Best is trial 98 with value: 0.8215554579122466.\u001b[0m\n",
      "\u001b[32m[I 2021-12-21 20:51:54,201]\u001b[0m Trial 133 finished with value: 0.8181972255351203 and parameters: {'learning_rate': 0.00861223946836814, 'n_estimators': 168, 'subsample': 0.9915775270808823, 'min_samples_split': 16, 'min_samples_leaf': 5, 'max_depth': 7, 'min_impurity_decrease': 0.7582639283123033, 'max_features': 19}. Best is trial 98 with value: 0.8215554579122466.\u001b[0m\n",
      "\u001b[32m[I 2021-12-21 20:51:55,222]\u001b[0m Trial 134 finished with value: 0.8170736300295023 and parameters: {'learning_rate': 0.008779460402590067, 'n_estimators': 170, 'subsample': 0.9789901039805987, 'min_samples_split': 16, 'min_samples_leaf': 5, 'max_depth': 7, 'min_impurity_decrease': 0.7562890665101534, 'max_features': 20}. Best is trial 98 with value: 0.8215554579122466.\u001b[0m\n",
      "\u001b[32m[I 2021-12-21 20:51:56,173]\u001b[0m Trial 135 finished with value: 0.8125855250768941 and parameters: {'learning_rate': 0.009209844736307779, 'n_estimators': 160, 'subsample': 0.9917747537116155, 'min_samples_split': 17, 'min_samples_leaf': 4, 'max_depth': 7, 'min_impurity_decrease': 0.758707068607391, 'max_features': 19}. Best is trial 98 with value: 0.8215554579122466.\u001b[0m\n",
      "\u001b[32m[I 2021-12-21 20:51:57,121]\u001b[0m Trial 136 finished with value: 0.8181909484652564 and parameters: {'learning_rate': 0.008955173693867112, 'n_estimators': 154, 'subsample': 0.9517106566265104, 'min_samples_split': 5, 'min_samples_leaf': 5, 'max_depth': 7, 'min_impurity_decrease': 0.7529836062173139, 'max_features': 20}. Best is trial 98 with value: 0.8215554579122466.\u001b[0m\n",
      "\u001b[32m[I 2021-12-21 20:51:58,140]\u001b[0m Trial 137 finished with value: 0.8126043562864854 and parameters: {'learning_rate': 0.009678236636048559, 'n_estimators': 177, 'subsample': 0.9999244996641464, 'min_samples_split': 18, 'min_samples_leaf': 6, 'max_depth': 7, 'min_impurity_decrease': 0.7647266904571153, 'max_features': 19}. Best is trial 98 with value: 0.8215554579122466.\u001b[0m\n",
      "\u001b[32m[I 2021-12-21 20:51:58,860]\u001b[0m Trial 138 finished with value: 0.8159249262444291 and parameters: {'learning_rate': 0.008646259931608353, 'n_estimators': 167, 'subsample': 0.9834401830846323, 'min_samples_split': 15, 'min_samples_leaf': 5, 'max_depth': 7, 'min_impurity_decrease': 0.7502973281142519, 'max_features': 5}. Best is trial 98 with value: 0.8215554579122466.\u001b[0m\n",
      "\u001b[32m[I 2021-12-21 20:51:59,648]\u001b[0m Trial 139 finished with value: 0.7945766116376876 and parameters: {'learning_rate': 0.003322251965177731, 'n_estimators': 143, 'subsample': 0.9450591570566289, 'min_samples_split': 17, 'min_samples_leaf': 4, 'max_depth': 7, 'min_impurity_decrease': 0.937902493278999, 'max_features': 11}. Best is trial 98 with value: 0.8215554579122466.\u001b[0m\n",
      "\u001b[32m[I 2021-12-21 20:52:00,561]\u001b[0m Trial 140 finished with value: 0.815956311593748 and parameters: {'learning_rate': 0.009362994179660111, 'n_estimators': 150, 'subsample': 0.9579126077867791, 'min_samples_split': 16, 'min_samples_leaf': 5, 'max_depth': 7, 'min_impurity_decrease': 0.7777914657017981, 'max_features': 20}. Best is trial 98 with value: 0.8215554579122466.\u001b[0m\n",
      "\u001b[32m[I 2021-12-21 20:52:01,482]\u001b[0m Trial 141 finished with value: 0.8137279517921036 and parameters: {'learning_rate': 0.008515975811051773, 'n_estimators': 158, 'subsample': 0.9632050073543572, 'min_samples_split': 15, 'min_samples_leaf': 6, 'max_depth': 7, 'min_impurity_decrease': 0.8595581366252573, 'max_features': 19}. Best is trial 98 with value: 0.8215554579122466.\u001b[0m\n",
      "\u001b[32m[I 2021-12-21 20:52:02,329]\u001b[0m Trial 142 finished with value: 0.8170610758897746 and parameters: {'learning_rate': 0.009037142774318498, 'n_estimators': 139, 'subsample': 0.9729173508860958, 'min_samples_split': 16, 'min_samples_leaf': 5, 'max_depth': 7, 'min_impurity_decrease': 0.7710701412618584, 'max_features': 18}. Best is trial 98 with value: 0.8215554579122466.\u001b[0m\n",
      "\u001b[32m[I 2021-12-21 20:52:03,200]\u001b[0m Trial 143 finished with value: 0.8193082669010107 and parameters: {'learning_rate': 0.008570046155005215, 'n_estimators': 143, 'subsample': 0.9538747128032862, 'min_samples_split': 17, 'min_samples_leaf': 6, 'max_depth': 7, 'min_impurity_decrease': 0.761001171816635, 'max_features': 18}. Best is trial 98 with value: 0.8215554579122466.\u001b[0m\n",
      "\u001b[32m[I 2021-12-21 20:52:04,097]\u001b[0m Trial 144 finished with value: 0.8215554579122465 and parameters: {'learning_rate': 0.008763574857674806, 'n_estimators': 147, 'subsample': 0.9539292183788837, 'min_samples_split': 18, 'min_samples_leaf': 6, 'max_depth': 7, 'min_impurity_decrease': 0.7604707912396861, 'max_features': 19}. Best is trial 98 with value: 0.8215554579122466.\u001b[0m\n",
      "\u001b[32m[I 2021-12-21 20:52:04,896]\u001b[0m Trial 145 finished with value: 0.8204318624066286 and parameters: {'learning_rate': 0.009542309443723168, 'n_estimators': 132, 'subsample': 0.953544805449199, 'min_samples_split': 18, 'min_samples_leaf': 6, 'max_depth': 7, 'min_impurity_decrease': 0.7622793608388488, 'max_features': 18}. Best is trial 98 with value: 0.8215554579122466.\u001b[0m\n",
      "\u001b[32m[I 2021-12-21 20:52:05,762]\u001b[0m Trial 146 finished with value: 0.8159500345238841 and parameters: {'learning_rate': 0.009599487396725219, 'n_estimators': 148, 'subsample': 0.9515942840317291, 'min_samples_split': 19, 'min_samples_leaf': 6, 'max_depth': 7, 'min_impurity_decrease': 0.7620167550783532, 'max_features': 18}. Best is trial 98 with value: 0.8215554579122466.\u001b[0m\n",
      "\u001b[32m[I 2021-12-21 20:52:06,613]\u001b[0m Trial 147 finished with value: 0.8170610758897746 and parameters: {'learning_rate': 0.00889326368339191, 'n_estimators': 134, 'subsample': 0.9552794429243855, 'min_samples_split': 18, 'min_samples_leaf': 6, 'max_depth': 7, 'min_impurity_decrease': 0.7542267382267219, 'max_features': 20}. Best is trial 98 with value: 0.8215554579122466.\u001b[0m\n",
      "\u001b[32m[I 2021-12-21 20:52:06,988]\u001b[0m Trial 148 finished with value: 0.7800075324838366 and parameters: {'learning_rate': 0.00980347952357114, 'n_estimators': 67, 'subsample': 0.821346124334458, 'min_samples_split': 18, 'min_samples_leaf': 7, 'max_depth': 3, 'min_impurity_decrease': 0.765960375989242, 'max_features': 18}. Best is trial 98 with value: 0.8215554579122466.\u001b[0m\n",
      "\u001b[32m[I 2021-12-21 20:52:07,863]\u001b[0m Trial 149 finished with value: 0.8226790534178645 and parameters: {'learning_rate': 0.009252824853957516, 'n_estimators': 143, 'subsample': 0.9464900482164433, 'min_samples_split': 17, 'min_samples_leaf': 6, 'max_depth': 7, 'min_impurity_decrease': 0.7608889295516594, 'max_features': 19}. Best is trial 149 with value: 0.8226790534178645.\u001b[0m\n",
      "\u001b[32m[I 2021-12-21 20:52:08,677]\u001b[0m Trial 150 finished with value: 0.8215554579122466 and parameters: {'learning_rate': 0.009278345822177576, 'n_estimators': 131, 'subsample': 0.9490633218027131, 'min_samples_split': 19, 'min_samples_leaf': 6, 'max_depth': 7, 'min_impurity_decrease': 0.7603604105100454, 'max_features': 19}. Best is trial 149 with value: 0.8226790534178645.\u001b[0m\n",
      "\u001b[32m[I 2021-12-21 20:52:09,494]\u001b[0m Trial 151 finished with value: 0.8193082669010107 and parameters: {'learning_rate': 0.009091890145999669, 'n_estimators': 131, 'subsample': 0.946986145964261, 'min_samples_split': 20, 'min_samples_leaf': 6, 'max_depth': 7, 'min_impurity_decrease': 0.7502659175870846, 'max_features': 19}. Best is trial 149 with value: 0.8226790534178645.\u001b[0m\n",
      "\u001b[32m[I 2021-12-21 20:52:10,345]\u001b[0m Trial 152 finished with value: 0.8204318624066286 and parameters: {'learning_rate': 0.009233250194653344, 'n_estimators': 137, 'subsample': 0.9475976412391404, 'min_samples_split': 19, 'min_samples_leaf': 6, 'max_depth': 7, 'min_impurity_decrease': 0.7507359530226088, 'max_features': 19}. Best is trial 149 with value: 0.8226790534178645.\u001b[0m\n",
      "\u001b[32m[I 2021-12-21 20:52:11,261]\u001b[0m Trial 153 finished with value: 0.7968363567886511 and parameters: {'learning_rate': 0.002250801787165989, 'n_estimators': 131, 'subsample': 0.9469876564378468, 'min_samples_split': 20, 'min_samples_leaf': 7, 'max_depth': 7, 'min_impurity_decrease': 0.750501683677282, 'max_features': 19}. Best is trial 149 with value: 0.8226790534178645.\u001b[0m\n"
     ]
    },
    {
     "name": "stderr",
     "output_type": "stream",
     "text": [
      "\u001b[32m[I 2021-12-21 20:52:12,110]\u001b[0m Trial 154 finished with value: 0.8193082669010104 and parameters: {'learning_rate': 0.009218488241503614, 'n_estimators': 142, 'subsample': 0.9413109415400751, 'min_samples_split': 19, 'min_samples_leaf': 6, 'max_depth': 7, 'min_impurity_decrease': 0.7630921832825459, 'max_features': 18}. Best is trial 149 with value: 0.8226790534178645.\u001b[0m\n",
      "\u001b[32m[I 2021-12-21 20:52:12,950]\u001b[0m Trial 155 finished with value: 0.8193082669010107 and parameters: {'learning_rate': 0.009060438858021198, 'n_estimators': 135, 'subsample': 0.9546753456352217, 'min_samples_split': 20, 'min_samples_leaf': 6, 'max_depth': 7, 'min_impurity_decrease': 0.7567968679632993, 'max_features': 19}. Best is trial 149 with value: 0.8226790534178645.\u001b[0m\n",
      "\u001b[32m[I 2021-12-21 20:52:13,725]\u001b[0m Trial 156 finished with value: 0.8170610758897746 and parameters: {'learning_rate': 0.008779405238227686, 'n_estimators': 137, 'subsample': 0.7650369449209494, 'min_samples_split': 19, 'min_samples_leaf': 6, 'max_depth': 7, 'min_impurity_decrease': 0.7549777278685186, 'max_features': 18}. Best is trial 149 with value: 0.8226790534178645.\u001b[0m\n",
      "\u001b[32m[I 2021-12-21 20:52:14,566]\u001b[0m Trial 157 finished with value: 0.8170673529596385 and parameters: {'learning_rate': 0.008448022775354403, 'n_estimators': 135, 'subsample': 0.9574015700728219, 'min_samples_split': 20, 'min_samples_leaf': 7, 'max_depth': 7, 'min_impurity_decrease': 0.7554117869540036, 'max_features': 19}. Best is trial 149 with value: 0.8226790534178645.\u001b[0m\n",
      "\u001b[32m[I 2021-12-21 20:52:15,371]\u001b[0m Trial 158 finished with value: 0.8204318624066286 and parameters: {'learning_rate': 0.009012383727915916, 'n_estimators': 129, 'subsample': 0.9531756804369698, 'min_samples_split': 20, 'min_samples_leaf': 6, 'max_depth': 7, 'min_impurity_decrease': 0.7592465085429576, 'max_features': 19}. Best is trial 149 with value: 0.8226790534178645.\u001b[0m\n",
      "\u001b[32m[I 2021-12-21 20:52:16,166]\u001b[0m Trial 159 finished with value: 0.8181909484652564 and parameters: {'learning_rate': 0.008720352854459556, 'n_estimators': 128, 'subsample': 0.950039717217219, 'min_samples_split': 18, 'min_samples_leaf': 7, 'max_depth': 7, 'min_impurity_decrease': 0.7603855120905515, 'max_features': 18}. Best is trial 149 with value: 0.8226790534178645.\u001b[0m\n",
      "\u001b[32m[I 2021-12-21 20:52:17,058]\u001b[0m Trial 160 finished with value: 0.8204318624066286 and parameters: {'learning_rate': 0.008092114052914986, 'n_estimators': 141, 'subsample': 0.9614722346591321, 'min_samples_split': 19, 'min_samples_leaf': 5, 'max_depth': 7, 'min_impurity_decrease': 0.7589660275476281, 'max_features': 19}. Best is trial 149 with value: 0.8226790534178645.\u001b[0m\n",
      "\u001b[32m[I 2021-12-21 20:52:17,830]\u001b[0m Trial 161 finished with value: 0.8181846713953925 and parameters: {'learning_rate': 0.009309966746783954, 'n_estimators': 122, 'subsample': 0.9612686454057607, 'min_samples_split': 20, 'min_samples_leaf': 5, 'max_depth': 7, 'min_impurity_decrease': 0.7690635890571835, 'max_features': 19}. Best is trial 149 with value: 0.8226790534178645.\u001b[0m\n",
      "\u001b[32m[I 2021-12-21 20:52:18,654]\u001b[0m Trial 162 finished with value: 0.8170610758897746 and parameters: {'learning_rate': 0.008926341063128233, 'n_estimators': 131, 'subsample': 0.946703444950574, 'min_samples_split': 19, 'min_samples_leaf': 6, 'max_depth': 7, 'min_impurity_decrease': 0.750320918219402, 'max_features': 19}. Best is trial 149 with value: 0.8226790534178645.\u001b[0m\n",
      "\u001b[32m[I 2021-12-21 20:52:19,535]\u001b[0m Trial 163 finished with value: 0.8170610758897746 and parameters: {'learning_rate': 0.00813428743404438, 'n_estimators': 143, 'subsample': 0.9640857736258831, 'min_samples_split': 18, 'min_samples_leaf': 5, 'max_depth': 7, 'min_impurity_decrease': 0.7602503676778192, 'max_features': 18}. Best is trial 149 with value: 0.8226790534178645.\u001b[0m\n",
      "\u001b[32m[I 2021-12-21 20:52:20,331]\u001b[0m Trial 164 finished with value: 0.8092335697696316 and parameters: {'learning_rate': 0.008382951750337521, 'n_estimators': 135, 'subsample': 0.9552378184632424, 'min_samples_split': 20, 'min_samples_leaf': 6, 'max_depth': 4, 'min_impurity_decrease': 0.759326780890127, 'max_features': 19}. Best is trial 149 with value: 0.8226790534178645.\u001b[0m\n",
      "\u001b[32m[I 2021-12-21 20:52:21,204]\u001b[0m Trial 165 finished with value: 0.8159374803841567 and parameters: {'learning_rate': 0.009444096544646962, 'n_estimators': 140, 'subsample': 0.9708789447980805, 'min_samples_split': 19, 'min_samples_leaf': 4, 'max_depth': 7, 'min_impurity_decrease': 0.7660273309830448, 'max_features': 20}. Best is trial 149 with value: 0.8226790534178645.\u001b[0m\n",
      "\u001b[32m[I 2021-12-21 20:52:22,116]\u001b[0m Trial 166 finished with value: 0.8170736300295023 and parameters: {'learning_rate': 0.009590674860888626, 'n_estimators': 151, 'subsample': 0.9686316890933644, 'min_samples_split': 19, 'min_samples_leaf': 5, 'max_depth': 7, 'min_impurity_decrease': 0.7734854670138224, 'max_features': 20}. Best is trial 149 with value: 0.8226790534178645.\u001b[0m\n",
      "\u001b[32m[I 2021-12-21 20:52:23,019]\u001b[0m Trial 167 finished with value: 0.8159437574540205 and parameters: {'learning_rate': 0.009259839393297756, 'n_estimators': 148, 'subsample': 0.9504004819481152, 'min_samples_split': 17, 'min_samples_leaf': 4, 'max_depth': 7, 'min_impurity_decrease': 0.7801835134810734, 'max_features': 20}. Best is trial 149 with value: 0.8226790534178645.\u001b[0m\n",
      "\u001b[32m[I 2021-12-21 20:52:23,924]\u001b[0m Trial 168 finished with value: 0.8170736300295021 and parameters: {'learning_rate': 0.008588451608639478, 'n_estimators': 146, 'subsample': 0.9769475725055105, 'min_samples_split': 18, 'min_samples_leaf': 7, 'max_depth': 7, 'min_impurity_decrease': 0.766636190674405, 'max_features': 20}. Best is trial 149 with value: 0.8226790534178645.\u001b[0m\n",
      "\u001b[32m[I 2021-12-21 20:52:24,733]\u001b[0m Trial 169 finished with value: 0.8204318624066286 and parameters: {'learning_rate': 0.009075892717697192, 'n_estimators': 129, 'subsample': 0.9613611257199048, 'min_samples_split': 19, 'min_samples_leaf': 6, 'max_depth': 7, 'min_impurity_decrease': 0.7563784706313669, 'max_features': 19}. Best is trial 149 with value: 0.8226790534178645.\u001b[0m\n",
      "\u001b[32m[I 2021-12-21 20:52:25,522]\u001b[0m Trial 170 finished with value: 0.8181846713953925 and parameters: {'learning_rate': 0.008959520510360298, 'n_estimators': 126, 'subsample': 0.9426617880336158, 'min_samples_split': 19, 'min_samples_leaf': 5, 'max_depth': 7, 'min_impurity_decrease': 0.7729611747033569, 'max_features': 19}. Best is trial 149 with value: 0.8226790534178645.\u001b[0m\n",
      "\u001b[32m[I 2021-12-21 20:52:26,467]\u001b[0m Trial 171 finished with value: 0.8170736300295023 and parameters: {'learning_rate': 0.009511329184770205, 'n_estimators': 154, 'subsample': 0.9633874508433731, 'min_samples_split': 18, 'min_samples_leaf': 5, 'max_depth': 7, 'min_impurity_decrease': 0.7645331002025502, 'max_features': 20}. Best is trial 149 with value: 0.8226790534178645.\u001b[0m\n",
      "\u001b[32m[I 2021-12-21 20:52:27,340]\u001b[0m Trial 172 finished with value: 0.8193082669010104 and parameters: {'learning_rate': 0.009156469699240038, 'n_estimators': 144, 'subsample': 0.9589703076759171, 'min_samples_split': 19, 'min_samples_leaf': 6, 'max_depth': 7, 'min_impurity_decrease': 0.7589231766199835, 'max_features': 19}. Best is trial 149 with value: 0.8226790534178645.\u001b[0m\n",
      "\u001b[32m[I 2021-12-21 20:52:28,162]\u001b[0m Trial 173 finished with value: 0.8193145439708743 and parameters: {'learning_rate': 0.009112105959493405, 'n_estimators': 131, 'subsample': 0.966234404885984, 'min_samples_split': 20, 'min_samples_leaf': 6, 'max_depth': 7, 'min_impurity_decrease': 0.7552339996043356, 'max_features': 19}. Best is trial 149 with value: 0.8226790534178645.\u001b[0m\n",
      "\u001b[32m[I 2021-12-21 20:52:29,018]\u001b[0m Trial 174 finished with value: 0.8159500345238841 and parameters: {'learning_rate': 0.008835013666080723, 'n_estimators': 139, 'subsample': 0.9531630365977779, 'min_samples_split': 20, 'min_samples_leaf': 7, 'max_depth': 7, 'min_impurity_decrease': 0.7556110318206756, 'max_features': 19}. Best is trial 149 with value: 0.8226790534178645.\u001b[0m\n",
      "\u001b[32m[I 2021-12-21 20:52:29,848]\u001b[0m Trial 175 finished with value: 0.8193082669010107 and parameters: {'learning_rate': 0.008568062846699868, 'n_estimators': 132, 'subsample': 0.9605533116802056, 'min_samples_split': 19, 'min_samples_leaf': 6, 'max_depth': 7, 'min_impurity_decrease': 0.7607900340853296, 'max_features': 19}. Best is trial 149 with value: 0.8226790534178645.\u001b[0m\n"
     ]
    },
    {
     "name": "stderr",
     "output_type": "stream",
     "text": [
      "\u001b[32m[I 2021-12-21 20:52:30,601]\u001b[0m Trial 176 finished with value: 0.8092335697696316 and parameters: {'learning_rate': 0.00915013840214796, 'n_estimators': 130, 'subsample': 0.9439667156360924, 'min_samples_split': 20, 'min_samples_leaf': 6, 'max_depth': 7, 'min_impurity_decrease': 0.9727670831718491, 'max_features': 19}. Best is trial 149 with value: 0.8226790534178645.\u001b[0m\n",
      "\u001b[32m[I 2021-12-21 20:52:31,419]\u001b[0m Trial 177 finished with value: 0.8204318624066286 and parameters: {'learning_rate': 0.009425785940142973, 'n_estimators': 128, 'subsample': 0.9672192022414277, 'min_samples_split': 20, 'min_samples_leaf': 6, 'max_depth': 7, 'min_impurity_decrease': 0.750607074629242, 'max_features': 20}. Best is trial 149 with value: 0.8226790534178645.\u001b[0m\n",
      "\u001b[32m[I 2021-12-21 20:52:32,215]\u001b[0m Trial 178 finished with value: 0.8193208210407381 and parameters: {'learning_rate': 0.009352894798186868, 'n_estimators': 128, 'subsample': 0.9673029641578667, 'min_samples_split': 20, 'min_samples_leaf': 7, 'max_depth': 7, 'min_impurity_decrease': 0.7542736477849469, 'max_features': 19}. Best is trial 149 with value: 0.8226790534178645.\u001b[0m\n",
      "\u001b[32m[I 2021-12-21 20:52:32,983]\u001b[0m Trial 179 finished with value: 0.8170610758897746 and parameters: {'learning_rate': 0.009289991011344808, 'n_estimators': 117, 'subsample': 0.966199326868378, 'min_samples_split': 20, 'min_samples_leaf': 6, 'max_depth': 7, 'min_impurity_decrease': 0.754920209138034, 'max_features': 20}. Best is trial 149 with value: 0.8226790534178645.\u001b[0m\n",
      "\u001b[32m[I 2021-12-21 20:52:33,791]\u001b[0m Trial 180 finished with value: 0.8181972255351202 and parameters: {'learning_rate': 0.009371972708075452, 'n_estimators': 127, 'subsample': 0.9770281211309042, 'min_samples_split': 20, 'min_samples_leaf': 7, 'max_depth': 7, 'min_impurity_decrease': 0.7549408916727357, 'max_features': 20}. Best is trial 149 with value: 0.8226790534178645.\u001b[0m\n",
      "\u001b[32m[I 2021-12-21 20:52:34,573]\u001b[0m Trial 181 finished with value: 0.8193082669010107 and parameters: {'learning_rate': 0.008987047797154885, 'n_estimators': 122, 'subsample': 0.9691115875927785, 'min_samples_split': 19, 'min_samples_leaf': 6, 'max_depth': 7, 'min_impurity_decrease': 0.7502806617785059, 'max_features': 19}. Best is trial 149 with value: 0.8226790534178645.\u001b[0m\n",
      "\u001b[32m[I 2021-12-21 20:52:35,433]\u001b[0m Trial 182 finished with value: 0.8193082669010104 and parameters: {'learning_rate': 0.008827887604366511, 'n_estimators': 139, 'subsample': 0.9588111493010794, 'min_samples_split': 20, 'min_samples_leaf': 5, 'max_depth': 7, 'min_impurity_decrease': 0.7612510273570715, 'max_features': 19}. Best is trial 149 with value: 0.8226790534178645.\u001b[0m\n",
      "\u001b[32m[I 2021-12-21 20:52:36,163]\u001b[0m Trial 183 finished with value: 0.8170610758897746 and parameters: {'learning_rate': 0.009081909027615702, 'n_estimators': 125, 'subsample': 0.8047632043528026, 'min_samples_split': 19, 'min_samples_leaf': 6, 'max_depth': 7, 'min_impurity_decrease': 0.763672806188279, 'max_features': 18}. Best is trial 149 with value: 0.8226790534178645.\u001b[0m\n",
      "\u001b[32m[I 2021-12-21 20:52:36,988]\u001b[0m Trial 184 finished with value: 0.8193208210407382 and parameters: {'learning_rate': 0.009785289609184305, 'n_estimators': 133, 'subsample': 0.9747579913977104, 'min_samples_split': 18, 'min_samples_leaf': 7, 'max_depth': 7, 'min_impurity_decrease': 0.7677319312254506, 'max_features': 20}. Best is trial 149 with value: 0.8226790534178645.\u001b[0m\n",
      "\u001b[32m[I 2021-12-21 20:52:37,797]\u001b[0m Trial 185 finished with value: 0.8181972255351203 and parameters: {'learning_rate': 0.009790013710471758, 'n_estimators': 129, 'subsample': 0.9724333291396524, 'min_samples_split': 18, 'min_samples_leaf': 7, 'max_depth': 7, 'min_impurity_decrease': 0.7689060913508121, 'max_features': 20}. Best is trial 149 with value: 0.8226790534178645.\u001b[0m\n",
      "\u001b[32m[I 2021-12-21 20:52:38,584]\u001b[0m Trial 186 finished with value: 0.8137279517921033 and parameters: {'learning_rate': 0.009452794929814557, 'n_estimators': 134, 'subsample': 0.9794456255163322, 'min_samples_split': 18, 'min_samples_leaf': 7, 'max_depth': 7, 'min_impurity_decrease': 0.9107957631362456, 'max_features': 19}. Best is trial 149 with value: 0.8226790534178645.\u001b[0m\n",
      "\u001b[32m[I 2021-12-21 20:52:39,364]\u001b[0m Trial 187 finished with value: 0.8193082669010104 and parameters: {'learning_rate': 0.009746448752625404, 'n_estimators': 122, 'subsample': 0.9674091514055446, 'min_samples_split': 19, 'min_samples_leaf': 6, 'max_depth': 7, 'min_impurity_decrease': 0.7571907060299328, 'max_features': 20}. Best is trial 149 with value: 0.8226790534178645.\u001b[0m\n",
      "\u001b[32m[I 2021-12-21 20:52:40,202]\u001b[0m Trial 188 finished with value: 0.8170610758897746 and parameters: {'learning_rate': 0.00935032613962303, 'n_estimators': 136, 'subsample': 0.9748209263261122, 'min_samples_split': 20, 'min_samples_leaf': 6, 'max_depth': 7, 'min_impurity_decrease': 0.7684185992293594, 'max_features': 19}. Best is trial 149 with value: 0.8226790534178645.\u001b[0m\n",
      "\u001b[32m[I 2021-12-21 20:52:41,030]\u001b[0m Trial 189 finished with value: 0.8204318624066287 and parameters: {'learning_rate': 0.009604185443460984, 'n_estimators': 131, 'subsample': 0.9650084689383396, 'min_samples_split': 19, 'min_samples_leaf': 5, 'max_depth': 7, 'min_impurity_decrease': 0.7546138464485429, 'max_features': 20}. Best is trial 149 with value: 0.8226790534178645.\u001b[0m\n",
      "\u001b[32m[I 2021-12-21 20:52:41,885]\u001b[0m Trial 190 finished with value: 0.815956311593748 and parameters: {'learning_rate': 0.009621710216261091, 'n_estimators': 138, 'subsample': 0.9819552293798072, 'min_samples_split': 18, 'min_samples_leaf': 5, 'max_depth': 7, 'min_impurity_decrease': 0.7769648261020361, 'max_features': 20}. Best is trial 149 with value: 0.8226790534178645.\u001b[0m\n",
      "\u001b[32m[I 2021-12-21 20:52:42,726]\u001b[0m Trial 191 finished with value: 0.8204318624066286 and parameters: {'learning_rate': 0.009233798939788986, 'n_estimators': 132, 'subsample': 0.964274451306055, 'min_samples_split': 19, 'min_samples_leaf': 5, 'max_depth': 7, 'min_impurity_decrease': 0.7546898841028669, 'max_features': 20}. Best is trial 149 with value: 0.8226790534178645.\u001b[0m\n",
      "\u001b[32m[I 2021-12-21 20:52:43,533]\u001b[0m Trial 192 finished with value: 0.8204318624066286 and parameters: {'learning_rate': 0.009513877154837284, 'n_estimators': 127, 'subsample': 0.9603019762105202, 'min_samples_split': 19, 'min_samples_leaf': 5, 'max_depth': 7, 'min_impurity_decrease': 0.7613760453082328, 'max_features': 20}. Best is trial 149 with value: 0.8226790534178645.\u001b[0m\n",
      "\u001b[32m[I 2021-12-21 20:52:44,354]\u001b[0m Trial 193 finished with value: 0.8181846713953925 and parameters: {'learning_rate': 0.009295376580016454, 'n_estimators': 128, 'subsample': 0.9586015497780807, 'min_samples_split': 19, 'min_samples_leaf': 5, 'max_depth': 7, 'min_impurity_decrease': 0.7503325969208321, 'max_features': 20}. Best is trial 149 with value: 0.8226790534178645.\u001b[0m\n",
      "\u001b[32m[I 2021-12-21 20:52:45,192]\u001b[0m Trial 194 finished with value: 0.8204318624066287 and parameters: {'learning_rate': 0.009791186162904376, 'n_estimators': 133, 'subsample': 0.9615470263753156, 'min_samples_split': 18, 'min_samples_leaf': 5, 'max_depth': 7, 'min_impurity_decrease': 0.7629459975042568, 'max_features': 20}. Best is trial 149 with value: 0.8226790534178645.\u001b[0m\n",
      "\u001b[32m[I 2021-12-21 20:52:45,960]\u001b[0m Trial 195 finished with value: 0.8193082669010107 and parameters: {'learning_rate': 0.00952173211787305, 'n_estimators': 119, 'subsample': 0.9536190043183583, 'min_samples_split': 18, 'min_samples_leaf': 5, 'max_depth': 7, 'min_impurity_decrease': 0.7622758552025141, 'max_features': 20}. Best is trial 149 with value: 0.8226790534178645.\u001b[0m\n",
      "\u001b[32m[I 2021-12-21 20:52:46,792]\u001b[0m Trial 196 finished with value: 0.8204318624066286 and parameters: {'learning_rate': 0.00985357009613587, 'n_estimators': 133, 'subsample': 0.9609582121045983, 'min_samples_split': 19, 'min_samples_leaf': 5, 'max_depth': 7, 'min_impurity_decrease': 0.7586268704046769, 'max_features': 20}. Best is trial 149 with value: 0.8226790534178645.\u001b[0m\n",
      "\u001b[32m[I 2021-12-21 20:52:47,623]\u001b[0m Trial 197 finished with value: 0.8204318624066286 and parameters: {'learning_rate': 0.009840721545889249, 'n_estimators': 133, 'subsample': 0.9612714172706084, 'min_samples_split': 19, 'min_samples_leaf': 5, 'max_depth': 7, 'min_impurity_decrease': 0.7666007462161929, 'max_features': 20}. Best is trial 149 with value: 0.8226790534178645.\u001b[0m\n"
     ]
    },
    {
     "name": "stderr",
     "output_type": "stream",
     "text": [
      "\u001b[32m[I 2021-12-21 20:52:48,452]\u001b[0m Trial 198 finished with value: 0.8159374803841566 and parameters: {'learning_rate': 0.009915017474361234, 'n_estimators': 132, 'subsample': 0.9606357544886812, 'min_samples_split': 19, 'min_samples_leaf': 4, 'max_depth': 7, 'min_impurity_decrease': 0.7678333835198141, 'max_features': 20}. Best is trial 149 with value: 0.8226790534178645.\u001b[0m\n",
      "\u001b[32m[I 2021-12-21 20:52:49,253]\u001b[0m Trial 199 finished with value: 0.8204318624066286 and parameters: {'learning_rate': 0.00954573827418227, 'n_estimators': 125, 'subsample': 0.9501448280928562, 'min_samples_split': 19, 'min_samples_leaf': 5, 'max_depth': 7, 'min_impurity_decrease': 0.7596487335441461, 'max_features': 20}. Best is trial 149 with value: 0.8226790534178645.\u001b[0m\n",
      "\u001b[32m[I 2021-12-21 20:52:50,044]\u001b[0m Trial 200 finished with value: 0.8181846713953927 and parameters: {'learning_rate': 0.009638091215613322, 'n_estimators': 123, 'subsample': 0.9512018488061647, 'min_samples_split': 19, 'min_samples_leaf': 4, 'max_depth': 7, 'min_impurity_decrease': 0.7598214589526764, 'max_features': 20}. Best is trial 149 with value: 0.8226790534178645.\u001b[0m\n",
      "\u001b[32m[I 2021-12-21 20:52:50,883]\u001b[0m Trial 201 finished with value: 0.8204318624066286 and parameters: {'learning_rate': 0.00975572433454187, 'n_estimators': 134, 'subsample': 0.9566402754134702, 'min_samples_split': 19, 'min_samples_leaf': 5, 'max_depth': 7, 'min_impurity_decrease': 0.7590356533604414, 'max_features': 20}. Best is trial 149 with value: 0.8226790534178645.\u001b[0m\n",
      "\u001b[32m[I 2021-12-21 20:52:51,695]\u001b[0m Trial 202 finished with value: 0.8204318624066286 and parameters: {'learning_rate': 0.009938720553812513, 'n_estimators': 126, 'subsample': 0.9580571410933626, 'min_samples_split': 19, 'min_samples_leaf': 5, 'max_depth': 7, 'min_impurity_decrease': 0.7584298159966317, 'max_features': 20}. Best is trial 149 with value: 0.8226790534178645.\u001b[0m\n",
      "\u001b[32m[I 2021-12-21 20:52:52,526]\u001b[0m Trial 203 finished with value: 0.8204318624066286 and parameters: {'learning_rate': 0.009998152654597718, 'n_estimators': 135, 'subsample': 0.9595924488576654, 'min_samples_split': 19, 'min_samples_leaf': 5, 'max_depth': 7, 'min_impurity_decrease': 0.756580002280758, 'max_features': 19}. Best is trial 149 with value: 0.8226790534178645.\u001b[0m\n",
      "\u001b[32m[I 2021-12-21 20:52:53,372]\u001b[0m Trial 204 finished with value: 0.8181846713953925 and parameters: {'learning_rate': 0.009881604068160766, 'n_estimators': 135, 'subsample': 0.9546957869347684, 'min_samples_split': 19, 'min_samples_leaf': 4, 'max_depth': 7, 'min_impurity_decrease': 0.7580353360013746, 'max_features': 20}. Best is trial 149 with value: 0.8226790534178645.\u001b[0m\n",
      "\u001b[32m[I 2021-12-21 20:52:54,187]\u001b[0m Trial 205 finished with value: 0.8215554579122465 and parameters: {'learning_rate': 0.009900358134327457, 'n_estimators': 129, 'subsample': 0.956096573202622, 'min_samples_split': 19, 'min_samples_leaf': 5, 'max_depth': 7, 'min_impurity_decrease': 0.755451866717347, 'max_features': 19}. Best is trial 149 with value: 0.8226790534178645.\u001b[0m\n",
      "\u001b[32m[I 2021-12-21 20:52:54,996]\u001b[0m Trial 206 finished with value: 0.8181846713953927 and parameters: {'learning_rate': 0.009662154809673487, 'n_estimators': 131, 'subsample': 0.9483348099435398, 'min_samples_split': 19, 'min_samples_leaf': 5, 'max_depth': 7, 'min_impurity_decrease': 0.7629509505748894, 'max_features': 19}. Best is trial 149 with value: 0.8226790534178645.\u001b[0m\n",
      "\u001b[32m[I 2021-12-21 20:52:55,739]\u001b[0m Trial 207 finished with value: 0.8080848659845584 and parameters: {'learning_rate': 0.009855684673281863, 'n_estimators': 126, 'subsample': 0.9621748200824918, 'min_samples_split': 19, 'min_samples_leaf': 15, 'max_depth': 7, 'min_impurity_decrease': 0.754030802589321, 'max_features': 19}. Best is trial 149 with value: 0.8226790534178645.\u001b[0m\n",
      "\u001b[32m[I 2021-12-21 20:52:56,556]\u001b[0m Trial 208 finished with value: 0.8080534806352395 and parameters: {'learning_rate': 0.00503247087890757, 'n_estimators': 119, 'subsample': 0.9505730789050356, 'min_samples_split': 18, 'min_samples_leaf': 5, 'max_depth': 7, 'min_impurity_decrease': 0.7641739528953861, 'max_features': 19}. Best is trial 149 with value: 0.8226790534178645.\u001b[0m\n",
      "\u001b[32m[I 2021-12-21 20:52:57,402]\u001b[0m Trial 209 finished with value: 0.8181909484652564 and parameters: {'learning_rate': 0.0098152279843291, 'n_estimators': 137, 'subsample': 0.9569245544915861, 'min_samples_split': 19, 'min_samples_leaf': 4, 'max_depth': 7, 'min_impurity_decrease': 0.7704327972702347, 'max_features': 20}. Best is trial 149 with value: 0.8226790534178645.\u001b[0m\n",
      "\u001b[32m[I 2021-12-21 20:52:58,054]\u001b[0m Trial 210 finished with value: 0.8148076078086749 and parameters: {'learning_rate': 0.009926704446882817, 'n_estimators': 141, 'subsample': 0.95873612633947, 'min_samples_split': 19, 'min_samples_leaf': 5, 'max_depth': 7, 'min_impurity_decrease': 0.7589355322047344, 'max_features': 7}. Best is trial 149 with value: 0.8226790534178645.\u001b[0m\n",
      "\u001b[32m[I 2021-12-21 20:52:58,876]\u001b[0m Trial 211 finished with value: 0.8204318624066287 and parameters: {'learning_rate': 0.00999176077543707, 'n_estimators': 135, 'subsample': 0.9464015032209163, 'min_samples_split': 19, 'min_samples_leaf': 5, 'max_depth': 7, 'min_impurity_decrease': 0.754650793642334, 'max_features': 19}. Best is trial 149 with value: 0.8226790534178645.\u001b[0m\n",
      "\u001b[32m[I 2021-12-21 20:52:59,671]\u001b[0m Trial 212 finished with value: 0.8170610758897746 and parameters: {'learning_rate': 0.009598508677130376, 'n_estimators': 125, 'subsample': 0.9441638121860492, 'min_samples_split': 20, 'min_samples_leaf': 5, 'max_depth': 7, 'min_impurity_decrease': 0.7528887938534415, 'max_features': 20}. Best is trial 149 with value: 0.8226790534178645.\u001b[0m\n",
      "\u001b[32m[I 2021-12-21 20:53:00,483]\u001b[0m Trial 213 finished with value: 0.8238026489234826 and parameters: {'learning_rate': 0.009530375597519633, 'n_estimators': 130, 'subsample': 0.9490097563021813, 'min_samples_split': 19, 'min_samples_leaf': 6, 'max_depth': 7, 'min_impurity_decrease': 0.7635220837632187, 'max_features': 19}. Best is trial 213 with value: 0.8238026489234826.\u001b[0m\n",
      "\u001b[32m[I 2021-12-21 20:53:01,329]\u001b[0m Trial 214 finished with value: 0.8215554579122465 and parameters: {'learning_rate': 0.00964918388924589, 'n_estimators': 139, 'subsample': 0.9448713699768893, 'min_samples_split': 18, 'min_samples_leaf': 6, 'max_depth': 7, 'min_impurity_decrease': 0.755124681363581, 'max_features': 19}. Best is trial 213 with value: 0.8238026489234826.\u001b[0m\n",
      "\u001b[32m[I 2021-12-21 20:53:02,116]\u001b[0m Trial 215 finished with value: 0.8181846713953927 and parameters: {'learning_rate': 0.009454457466684878, 'n_estimators': 129, 'subsample': 0.9394138097488371, 'min_samples_split': 18, 'min_samples_leaf': 6, 'max_depth': 7, 'min_impurity_decrease': 0.7608852189503997, 'max_features': 18}. Best is trial 213 with value: 0.8238026489234826.\u001b[0m\n",
      "\u001b[32m[I 2021-12-21 20:53:02,985]\u001b[0m Trial 216 finished with value: 0.8181846713953927 and parameters: {'learning_rate': 0.009201530611182153, 'n_estimators': 142, 'subsample': 0.9453022528885309, 'min_samples_split': 18, 'min_samples_leaf': 6, 'max_depth': 7, 'min_impurity_decrease': 0.7543108600551266, 'max_features': 19}. Best is trial 213 with value: 0.8238026489234826.\u001b[0m\n",
      "\u001b[32m[I 2021-12-21 20:53:03,762]\u001b[0m Trial 217 finished with value: 0.8193082669010107 and parameters: {'learning_rate': 0.00957045082194117, 'n_estimators': 124, 'subsample': 0.9496178285813731, 'min_samples_split': 19, 'min_samples_leaf': 5, 'max_depth': 7, 'min_impurity_decrease': 0.765931289998102, 'max_features': 19}. Best is trial 213 with value: 0.8238026489234826.\u001b[0m\n",
      "\u001b[32m[I 2021-12-21 20:53:04,279]\u001b[0m Trial 218 finished with value: 0.7990584395204318 and parameters: {'learning_rate': 0.009649948300300672, 'n_estimators': 140, 'subsample': 0.9529281239152709, 'min_samples_split': 18, 'min_samples_leaf': 19, 'max_depth': 7, 'min_impurity_decrease': 0.897746296063003, 'max_features': 3}. Best is trial 213 with value: 0.8238026489234826.\u001b[0m\n",
      "\u001b[32m[I 2021-12-21 20:53:05,010]\u001b[0m Trial 219 finished with value: 0.8170610758897746 and parameters: {'learning_rate': 0.009969345946137303, 'n_estimators': 114, 'subsample': 0.9557604552407172, 'min_samples_split': 18, 'min_samples_leaf': 5, 'max_depth': 7, 'min_impurity_decrease': 0.7578733575917664, 'max_features': 19}. Best is trial 213 with value: 0.8238026489234826.\u001b[0m\n"
     ]
    },
    {
     "name": "stderr",
     "output_type": "stream",
     "text": [
      "\u001b[32m[I 2021-12-21 20:53:05,817]\u001b[0m Trial 220 finished with value: 0.8170610758897746 and parameters: {'learning_rate': 0.009670508374217509, 'n_estimators': 129, 'subsample': 0.9440297623156109, 'min_samples_split': 20, 'min_samples_leaf': 4, 'max_depth': 7, 'min_impurity_decrease': 0.7606016111236046, 'max_features': 19}. Best is trial 213 with value: 0.8238026489234826.\u001b[0m\n",
      "\u001b[32m[I 2021-12-21 20:53:06,653]\u001b[0m Trial 221 finished with value: 0.8215554579122466 and parameters: {'learning_rate': 0.00997554305978691, 'n_estimators': 133, 'subsample': 0.9550422567379198, 'min_samples_split': 19, 'min_samples_leaf': 5, 'max_depth': 7, 'min_impurity_decrease': 0.7560798815672841, 'max_features': 20}. Best is trial 213 with value: 0.8238026489234826.\u001b[0m\n",
      "\u001b[32m[I 2021-12-21 20:53:07,499]\u001b[0m Trial 222 finished with value: 0.8193145439708743 and parameters: {'learning_rate': 0.009339379357258565, 'n_estimators': 137, 'subsample': 0.9646624657464875, 'min_samples_split': 19, 'min_samples_leaf': 6, 'max_depth': 7, 'min_impurity_decrease': 0.7503615261285449, 'max_features': 19}. Best is trial 213 with value: 0.8238026489234826.\u001b[0m\n",
      "\u001b[32m[I 2021-12-21 20:53:08,308]\u001b[0m Trial 223 finished with value: 0.8204318624066286 and parameters: {'learning_rate': 0.009676997074630997, 'n_estimators': 131, 'subsample': 0.951000149930417, 'min_samples_split': 20, 'min_samples_leaf': 5, 'max_depth': 7, 'min_impurity_decrease': 0.7643886365099483, 'max_features': 19}. Best is trial 213 with value: 0.8238026489234826.\u001b[0m\n",
      "\u001b[32m[I 2021-12-21 20:53:09,113]\u001b[0m Trial 224 finished with value: 0.8215554579122465 and parameters: {'learning_rate': 0.009733938127639502, 'n_estimators': 133, 'subsample': 0.9371183938668459, 'min_samples_split': 20, 'min_samples_leaf': 6, 'max_depth': 7, 'min_impurity_decrease': 0.7659222730562737, 'max_features': 18}. Best is trial 213 with value: 0.8238026489234826.\u001b[0m\n",
      "\u001b[32m[I 2021-12-21 20:53:09,907]\u001b[0m Trial 225 finished with value: 0.8226790534178645 and parameters: {'learning_rate': 0.00925473894974766, 'n_estimators': 130, 'subsample': 0.9368864024159564, 'min_samples_split': 20, 'min_samples_leaf': 6, 'max_depth': 7, 'min_impurity_decrease': 0.7540660847326709, 'max_features': 18}. Best is trial 213 with value: 0.8238026489234826.\u001b[0m\n",
      "\u001b[32m[I 2021-12-21 20:53:10,741]\u001b[0m Trial 226 finished with value: 0.8181846713953927 and parameters: {'learning_rate': 0.009148861211561105, 'n_estimators': 138, 'subsample': 0.9363113606011711, 'min_samples_split': 20, 'min_samples_leaf': 6, 'max_depth': 7, 'min_impurity_decrease': 0.7557450829701379, 'max_features': 18}. Best is trial 213 with value: 0.8238026489234826.\u001b[0m\n",
      "\u001b[32m[I 2021-12-21 20:53:11,529]\u001b[0m Trial 227 finished with value: 0.8170610758897746 and parameters: {'learning_rate': 0.00944968219049288, 'n_estimators': 133, 'subsample': 0.9344096221599639, 'min_samples_split': 19, 'min_samples_leaf': 6, 'max_depth': 7, 'min_impurity_decrease': 0.7708811320372405, 'max_features': 17}. Best is trial 213 with value: 0.8238026489234826.\u001b[0m\n",
      "\u001b[32m[I 2021-12-21 20:53:12,309]\u001b[0m Trial 228 finished with value: 0.8193082669010107 and parameters: {'learning_rate': 0.009294250284479014, 'n_estimators': 128, 'subsample': 0.9282163535109123, 'min_samples_split': 20, 'min_samples_leaf': 6, 'max_depth': 7, 'min_impurity_decrease': 0.7505480358177822, 'max_features': 18}. Best is trial 213 with value: 0.8238026489234826.\u001b[0m\n",
      "\u001b[32m[I 2021-12-21 20:53:13,130]\u001b[0m Trial 229 finished with value: 0.8114682066411399 and parameters: {'learning_rate': 0.009987400058953438, 'n_estimators': 135, 'subsample': 0.9425428580575466, 'min_samples_split': 19, 'min_samples_leaf': 5, 'max_depth': 5, 'min_impurity_decrease': 0.7661915066347837, 'max_features': 20}. Best is trial 213 with value: 0.8238026489234826.\u001b[0m\n",
      "\u001b[32m[I 2021-12-21 20:53:13,980]\u001b[0m Trial 230 finished with value: 0.8136902893729208 and parameters: {'learning_rate': 0.009777023170566342, 'n_estimators': 137, 'subsample': 0.9467896610087425, 'min_samples_split': 20, 'min_samples_leaf': 4, 'max_depth': 7, 'min_impurity_decrease': 0.7712084573128227, 'max_features': 20}. Best is trial 213 with value: 0.8238026489234826.\u001b[0m\n",
      "\u001b[32m[I 2021-12-21 20:53:14,728]\u001b[0m Trial 231 finished with value: 0.8103508882053857 and parameters: {'learning_rate': 0.009516429804547248, 'n_estimators': 127, 'subsample': 0.9383053363159839, 'min_samples_split': 20, 'min_samples_leaf': 5, 'max_depth': 4, 'min_impurity_decrease': 0.7622030783358746, 'max_features': 19}. Best is trial 213 with value: 0.8238026489234826.\u001b[0m\n",
      "\u001b[32m[I 2021-12-21 20:53:15,561]\u001b[0m Trial 232 finished with value: 0.8193082669010107 and parameters: {'learning_rate': 0.009777987796497063, 'n_estimators': 133, 'subsample': 0.9463875541712763, 'min_samples_split': 19, 'min_samples_leaf': 5, 'max_depth': 7, 'min_impurity_decrease': 0.7561410986408117, 'max_features': 20}. Best is trial 213 with value: 0.8238026489234826.\u001b[0m\n",
      "\u001b[32m[I 2021-12-21 20:53:16,373]\u001b[0m Trial 233 finished with value: 0.8170610758897746 and parameters: {'learning_rate': 0.009498472823716318, 'n_estimators': 132, 'subsample': 0.9530590799608997, 'min_samples_split': 19, 'min_samples_leaf': 6, 'max_depth': 7, 'min_impurity_decrease': 0.7651394676460543, 'max_features': 18}. Best is trial 213 with value: 0.8238026489234826.\u001b[0m\n",
      "\u001b[32m[I 2021-12-21 20:53:17,185]\u001b[0m Trial 234 finished with value: 0.8204318624066286 and parameters: {'learning_rate': 0.009764540614274503, 'n_estimators': 131, 'subsample': 0.9620320070201759, 'min_samples_split': 20, 'min_samples_leaf': 5, 'max_depth': 7, 'min_impurity_decrease': 0.7620084064248792, 'max_features': 19}. Best is trial 213 with value: 0.8238026489234826.\u001b[0m\n",
      "\u001b[32m[I 2021-12-21 20:53:18,022]\u001b[0m Trial 235 finished with value: 0.8181846713953927 and parameters: {'learning_rate': 0.009774725244891352, 'n_estimators': 141, 'subsample': 0.9411475324538807, 'min_samples_split': 18, 'min_samples_leaf': 5, 'max_depth': 7, 'min_impurity_decrease': 0.7624793817454268, 'max_features': 18}. Best is trial 213 with value: 0.8238026489234826.\u001b[0m\n",
      "\u001b[32m[I 2021-12-21 20:53:18,791]\u001b[0m Trial 236 finished with value: 0.8148138848785387 and parameters: {'learning_rate': 0.009993969371455485, 'n_estimators': 124, 'subsample': 0.8680855124322133, 'min_samples_split': 19, 'min_samples_leaf': 5, 'max_depth': 7, 'min_impurity_decrease': 0.7582960348886654, 'max_features': 20}. Best is trial 213 with value: 0.8238026489234826.\u001b[0m\n",
      "\u001b[32m[I 2021-12-21 20:53:19,660]\u001b[0m Trial 237 finished with value: 0.8159374803841567 and parameters: {'learning_rate': 0.00969889945789494, 'n_estimators': 144, 'subsample': 0.9627240679383943, 'min_samples_split': 20, 'min_samples_leaf': 4, 'max_depth': 7, 'min_impurity_decrease': 0.7707028791086873, 'max_features': 19}. Best is trial 213 with value: 0.8238026489234826.\u001b[0m\n",
      "\u001b[32m[I 2021-12-21 20:53:20,506]\u001b[0m Trial 238 finished with value: 0.8181846713953925 and parameters: {'learning_rate': 0.009821024941581793, 'n_estimators': 134, 'subsample': 0.9558270979989407, 'min_samples_split': 18, 'min_samples_leaf': 5, 'max_depth': 7, 'min_impurity_decrease': 0.7553407222348872, 'max_features': 20}. Best is trial 213 with value: 0.8238026489234826.\u001b[0m\n",
      "\u001b[32m[I 2021-12-21 20:53:21,301]\u001b[0m Trial 239 finished with value: 0.8181846713953927 and parameters: {'learning_rate': 0.009501266373308066, 'n_estimators': 126, 'subsample': 0.9493552303701361, 'min_samples_split': 19, 'min_samples_leaf': 6, 'max_depth': 7, 'min_impurity_decrease': 0.765278122704369, 'max_features': 20}. Best is trial 213 with value: 0.8238026489234826.\u001b[0m\n",
      "\u001b[32m[I 2021-12-21 20:53:22,168]\u001b[0m Trial 240 finished with value: 0.8204318624066287 and parameters: {'learning_rate': 0.008941818741298268, 'n_estimators': 138, 'subsample': 0.9493804614805988, 'min_samples_split': 19, 'min_samples_leaf': 5, 'max_depth': 7, 'min_impurity_decrease': 0.7555787352366949, 'max_features': 19}. Best is trial 213 with value: 0.8238026489234826.\u001b[0m\n",
      "\u001b[32m[I 2021-12-21 20:53:22,992]\u001b[0m Trial 241 finished with value: 0.8170610758897746 and parameters: {'learning_rate': 0.009970553558415248, 'n_estimators': 136, 'subsample': 0.9501025053417614, 'min_samples_split': 20, 'min_samples_leaf': 6, 'max_depth': 7, 'min_impurity_decrease': 0.7654824044838939, 'max_features': 19}. Best is trial 213 with value: 0.8238026489234826.\u001b[0m\n"
     ]
    },
    {
     "name": "stderr",
     "output_type": "stream",
     "text": [
      "\u001b[32m[I 2021-12-21 20:53:23,827]\u001b[0m Trial 242 finished with value: 0.8204318624066286 and parameters: {'learning_rate': 0.009963804938429906, 'n_estimators': 134, 'subsample': 0.9569174846059586, 'min_samples_split': 19, 'min_samples_leaf': 5, 'max_depth': 7, 'min_impurity_decrease': 0.7550042296893562, 'max_features': 20}. Best is trial 213 with value: 0.8238026489234826.\u001b[0m\n",
      "\u001b[32m[I 2021-12-21 20:53:24,723]\u001b[0m Trial 243 finished with value: 0.8170610758897746 and parameters: {'learning_rate': 0.008177467368662263, 'n_estimators': 141, 'subsample': 0.9432211809629968, 'min_samples_split': 19, 'min_samples_leaf': 5, 'max_depth': 7, 'min_impurity_decrease': 0.7580131552634749, 'max_features': 19}. Best is trial 213 with value: 0.8238026489234826.\u001b[0m\n",
      "\u001b[32m[I 2021-12-21 20:53:25,536]\u001b[0m Trial 244 finished with value: 0.8193082669010107 and parameters: {'learning_rate': 0.009680792685571265, 'n_estimators': 130, 'subsample': 0.9566402513025207, 'min_samples_split': 19, 'min_samples_leaf': 5, 'max_depth': 7, 'min_impurity_decrease': 0.7558339337422911, 'max_features': 19}. Best is trial 213 with value: 0.8238026489234826.\u001b[0m\n",
      "\u001b[32m[I 2021-12-21 20:53:26,379]\u001b[0m Trial 245 finished with value: 0.8181846713953925 and parameters: {'learning_rate': 0.008995276766285016, 'n_estimators': 139, 'subsample': 0.946727035993771, 'min_samples_split': 17, 'min_samples_leaf': 6, 'max_depth': 7, 'min_impurity_decrease': 0.7501957173356351, 'max_features': 18}. Best is trial 213 with value: 0.8238026489234826.\u001b[0m\n",
      "\u001b[32m[I 2021-12-21 20:53:27,184]\u001b[0m Trial 246 finished with value: 0.8204381394764925 and parameters: {'learning_rate': 0.009355522070390448, 'n_estimators': 123, 'subsample': 0.9575328256781414, 'min_samples_split': 7, 'min_samples_leaf': 5, 'max_depth': 7, 'min_impurity_decrease': 0.7591041859465864, 'max_features': 20}. Best is trial 213 with value: 0.8238026489234826.\u001b[0m\n",
      "\u001b[32m[I 2021-12-21 20:53:27,963]\u001b[0m Trial 247 finished with value: 0.8193082669010107 and parameters: {'learning_rate': 0.009714431351150956, 'n_estimators': 120, 'subsample': 0.9503993693316302, 'min_samples_split': 20, 'min_samples_leaf': 4, 'max_depth': 7, 'min_impurity_decrease': 0.7604607793381105, 'max_features': 20}. Best is trial 213 with value: 0.8238026489234826.\u001b[0m\n",
      "\u001b[32m[I 2021-12-21 20:53:28,822]\u001b[0m Trial 248 finished with value: 0.8181909484652564 and parameters: {'learning_rate': 0.009953977535564243, 'n_estimators': 137, 'subsample': 0.9382723213655758, 'min_samples_split': 7, 'min_samples_leaf': 5, 'max_depth': 7, 'min_impurity_decrease': 0.7542405029135584, 'max_features': 20}. Best is trial 213 with value: 0.8238026489234826.\u001b[0m\n",
      "\u001b[32m[I 2021-12-21 20:53:29,681]\u001b[0m Trial 249 finished with value: 0.8181909484652564 and parameters: {'learning_rate': 0.009839959669674287, 'n_estimators': 139, 'subsample': 0.9553387001757611, 'min_samples_split': 8, 'min_samples_leaf': 5, 'max_depth': 7, 'min_impurity_decrease': 0.7506119081866746, 'max_features': 19}. Best is trial 213 with value: 0.8238026489234826.\u001b[0m\n",
      "\u001b[32m[I 2021-12-21 20:53:30,476]\u001b[0m Trial 250 finished with value: 0.8170610758897746 and parameters: {'learning_rate': 0.009496256818426236, 'n_estimators': 123, 'subsample': 0.9537497773332078, 'min_samples_split': 18, 'min_samples_leaf': 4, 'max_depth': 7, 'min_impurity_decrease': 0.7679915169744886, 'max_features': 20}. Best is trial 213 with value: 0.8238026489234826.\u001b[0m\n",
      "\u001b[32m[I 2021-12-21 20:53:31,269]\u001b[0m Trial 251 finished with value: 0.8193082669010104 and parameters: {'learning_rate': 0.009339679509000491, 'n_estimators': 128, 'subsample': 0.9613613891724516, 'min_samples_split': 18, 'min_samples_leaf': 6, 'max_depth': 7, 'min_impurity_decrease': 0.7545798597167223, 'max_features': 18}. Best is trial 213 with value: 0.8238026489234826.\u001b[0m\n",
      "\u001b[32m[I 2021-12-21 20:53:32,104]\u001b[0m Trial 252 finished with value: 0.8204255853367648 and parameters: {'learning_rate': 0.008790217461501285, 'n_estimators': 131, 'subsample': 0.93239533938966, 'min_samples_split': 6, 'min_samples_leaf': 5, 'max_depth': 7, 'min_impurity_decrease': 0.7626740595948504, 'max_features': 19}. Best is trial 213 with value: 0.8238026489234826.\u001b[0m\n",
      "\u001b[32m[I 2021-12-21 20:53:32,962]\u001b[0m Trial 253 finished with value: 0.8092084614901764 and parameters: {'learning_rate': 0.009273841168518667, 'n_estimators': 146, 'subsample': 0.9458524730533817, 'min_samples_split': 2, 'min_samples_leaf': 13, 'max_depth': 7, 'min_impurity_decrease': 0.7757253526168322, 'max_features': 19}. Best is trial 213 with value: 0.8238026489234826.\u001b[0m\n",
      "\u001b[32m[I 2021-12-21 20:53:33,794]\u001b[0m Trial 254 finished with value: 0.8170610758897746 and parameters: {'learning_rate': 0.008992278138842317, 'n_estimators': 136, 'subsample': 0.952103901469738, 'min_samples_split': 17, 'min_samples_leaf': 6, 'max_depth': 7, 'min_impurity_decrease': 0.7576512512121439, 'max_features': 18}. Best is trial 213 with value: 0.8238026489234826.\u001b[0m\n",
      "\u001b[32m[I 2021-12-21 20:53:34,588]\u001b[0m Trial 255 finished with value: 0.8204318624066286 and parameters: {'learning_rate': 0.00999344662377971, 'n_estimators': 125, 'subsample': 0.9589372602814873, 'min_samples_split': 19, 'min_samples_leaf': 5, 'max_depth': 7, 'min_impurity_decrease': 0.7618703088503513, 'max_features': 20}. Best is trial 213 with value: 0.8238026489234826.\u001b[0m\n",
      "\u001b[32m[I 2021-12-21 20:53:35,323]\u001b[0m Trial 256 finished with value: 0.8114556525014123 and parameters: {'learning_rate': 0.009981701223164498, 'n_estimators': 122, 'subsample': 0.9559913343099578, 'min_samples_split': 4, 'min_samples_leaf': 16, 'max_depth': 7, 'min_impurity_decrease': 0.7682280592432125, 'max_features': 20}. Best is trial 213 with value: 0.8238026489234826.\u001b[0m\n",
      "\u001b[32m[I 2021-12-21 20:53:36,142]\u001b[0m Trial 257 finished with value: 0.8159374803841567 and parameters: {'learning_rate': 0.009675183453997923, 'n_estimators': 131, 'subsample': 0.9415851105962805, 'min_samples_split': 19, 'min_samples_leaf': 4, 'max_depth': 7, 'min_impurity_decrease': 0.7553938444290214, 'max_features': 19}. Best is trial 213 with value: 0.8238026489234826.\u001b[0m\n",
      "\u001b[32m[I 2021-12-21 20:53:36,973]\u001b[0m Trial 258 finished with value: 0.8193082669010107 and parameters: {'learning_rate': 0.009570956805976867, 'n_estimators': 134, 'subsample': 0.9493757202285578, 'min_samples_split': 19, 'min_samples_leaf': 5, 'max_depth': 7, 'min_impurity_decrease': 0.7642320829305215, 'max_features': 19}. Best is trial 213 with value: 0.8238026489234826.\u001b[0m\n",
      "\u001b[32m[I 2021-12-21 20:53:37,747]\u001b[0m Trial 259 finished with value: 0.8193082669010107 and parameters: {'learning_rate': 0.009173351536696479, 'n_estimators': 117, 'subsample': 0.9534021708527062, 'min_samples_split': 18, 'min_samples_leaf': 5, 'max_depth': 7, 'min_impurity_decrease': 0.760229044470307, 'max_features': 20}. Best is trial 213 with value: 0.8238026489234826.\u001b[0m\n",
      "\u001b[32m[I 2021-12-21 20:53:38,578]\u001b[0m Trial 260 finished with value: 0.8148138848785387 and parameters: {'learning_rate': 0.00966238178661061, 'n_estimators': 134, 'subsample': 0.9496581363548454, 'min_samples_split': 20, 'min_samples_leaf': 4, 'max_depth': 7, 'min_impurity_decrease': 0.771696408166562, 'max_features': 19}. Best is trial 213 with value: 0.8238026489234826.\u001b[0m\n",
      "\u001b[32m[I 2021-12-21 20:53:39,480]\u001b[0m Trial 261 finished with value: 0.8215554579122465 and parameters: {'learning_rate': 0.008353492891736036, 'n_estimators': 144, 'subsample': 0.9668260856997527, 'min_samples_split': 19, 'min_samples_leaf': 6, 'max_depth': 7, 'min_impurity_decrease': 0.7538867547210821, 'max_features': 19}. Best is trial 213 with value: 0.8238026489234826.\u001b[0m\n",
      "\u001b[32m[I 2021-12-21 20:53:40,347]\u001b[0m Trial 262 finished with value: 0.8193082669010107 and parameters: {'learning_rate': 0.008731651508915412, 'n_estimators': 143, 'subsample': 0.943034837170186, 'min_samples_split': 18, 'min_samples_leaf': 6, 'max_depth': 7, 'min_impurity_decrease': 0.7509320372200655, 'max_features': 18}. Best is trial 213 with value: 0.8238026489234826.\u001b[0m\n",
      "\u001b[32m[I 2021-12-21 20:53:41,210]\u001b[0m Trial 263 finished with value: 0.8148138848785387 and parameters: {'learning_rate': 0.00950289278634938, 'n_estimators': 148, 'subsample': 0.9464636439988464, 'min_samples_split': 19, 'min_samples_leaf': 6, 'max_depth': 7, 'min_impurity_decrease': 0.7592326075099928, 'max_features': 17}. Best is trial 213 with value: 0.8238026489234826.\u001b[0m\n"
     ]
    },
    {
     "name": "stderr",
     "output_type": "stream",
     "text": [
      "\u001b[32m[I 2021-12-21 20:53:41,981]\u001b[0m Trial 264 finished with value: 0.8159312033142928 and parameters: {'learning_rate': 0.009772991658978937, 'n_estimators': 129, 'subsample': 0.8425779265054473, 'min_samples_split': 19, 'min_samples_leaf': 5, 'max_depth': 7, 'min_impurity_decrease': 0.7689308182911284, 'max_features': 19}. Best is trial 213 with value: 0.8238026489234826.\u001b[0m\n",
      "\u001b[32m[I 2021-12-21 20:53:42,871]\u001b[0m Trial 265 finished with value: 0.8193208210407382 and parameters: {'learning_rate': 0.009461003725523632, 'n_estimators': 139, 'subsample': 0.9678616036730191, 'min_samples_split': 20, 'min_samples_leaf': 5, 'max_depth': 7, 'min_impurity_decrease': 0.7545206098855853, 'max_features': 20}. Best is trial 213 with value: 0.8238026489234826.\u001b[0m\n",
      "\u001b[32m[I 2021-12-21 20:53:43,753]\u001b[0m Trial 266 finished with value: 0.8181846713953925 and parameters: {'learning_rate': 0.008339357147604023, 'n_estimators': 140, 'subsample': 0.9610588685810056, 'min_samples_split': 19, 'min_samples_leaf': 6, 'max_depth': 7, 'min_impurity_decrease': 0.7537663396898582, 'max_features': 19}. Best is trial 213 with value: 0.8238026489234826.\u001b[0m\n",
      "\u001b[32m[I 2021-12-21 20:53:44,702]\u001b[0m Trial 267 finished with value: 0.8091707990709937 and parameters: {'learning_rate': 0.004478373721841712, 'n_estimators': 145, 'subsample': 0.9380608969064907, 'min_samples_split': 18, 'min_samples_leaf': 7, 'max_depth': 7, 'min_impurity_decrease': 0.7501002584540145, 'max_features': 18}. Best is trial 213 with value: 0.8238026489234826.\u001b[0m\n",
      "\u001b[32m[I 2021-12-21 20:53:45,552]\u001b[0m Trial 268 finished with value: 0.8181846713953927 and parameters: {'learning_rate': 0.009242530882224154, 'n_estimators': 136, 'subsample': 0.9462290656849003, 'min_samples_split': 20, 'min_samples_leaf': 5, 'max_depth': 7, 'min_impurity_decrease': 0.7637240701576872, 'max_features': 19}. Best is trial 213 with value: 0.8238026489234826.\u001b[0m\n",
      "\u001b[32m[I 2021-12-21 20:53:46,479]\u001b[0m Trial 269 finished with value: 0.6161634548992531 and parameters: {'learning_rate': 0.0009198598577557374, 'n_estimators': 125, 'subsample': 0.9647740054241322, 'min_samples_split': 19, 'min_samples_leaf': 6, 'max_depth': 7, 'min_impurity_decrease': 0.7573529198315534, 'max_features': 20}. Best is trial 213 with value: 0.8238026489234826.\u001b[0m\n",
      "\u001b[32m[I 2021-12-21 20:53:47,360]\u001b[0m Trial 270 finished with value: 0.8193082669010107 and parameters: {'learning_rate': 0.008920382287685262, 'n_estimators': 142, 'subsample': 0.9600137654498819, 'min_samples_split': 19, 'min_samples_leaf': 6, 'max_depth': 7, 'min_impurity_decrease': 0.7603631796714589, 'max_features': 19}. Best is trial 213 with value: 0.8238026489234826.\u001b[0m\n",
      "\u001b[32m[I 2021-12-21 20:53:48,178]\u001b[0m Trial 271 finished with value: 0.8193145439708743 and parameters: {'learning_rate': 0.00918062855990282, 'n_estimators': 131, 'subsample': 0.9305464011865311, 'min_samples_split': 20, 'min_samples_leaf': 7, 'max_depth': 7, 'min_impurity_decrease': 0.7506617399631088, 'max_features': 19}. Best is trial 213 with value: 0.8238026489234826.\u001b[0m\n",
      "\u001b[32m[I 2021-12-21 20:53:48,999]\u001b[0m Trial 272 finished with value: 0.8204318624066286 and parameters: {'learning_rate': 0.009368944817621313, 'n_estimators': 131, 'subsample': 0.9403935376842474, 'min_samples_split': 20, 'min_samples_leaf': 5, 'max_depth': 7, 'min_impurity_decrease': 0.7542168229481047, 'max_features': 19}. Best is trial 213 with value: 0.8238026489234826.\u001b[0m\n",
      "\u001b[32m[I 2021-12-21 20:53:49,944]\u001b[0m Trial 273 finished with value: 0.8170610758897746 and parameters: {'learning_rate': 0.008020558192616371, 'n_estimators': 148, 'subsample': 0.9637168389795584, 'min_samples_split': 19, 'min_samples_leaf': 4, 'max_depth': 7, 'min_impurity_decrease': 0.7750227295454523, 'max_features': 20}. Best is trial 213 with value: 0.8238026489234826.\u001b[0m\n",
      "\u001b[32m[I 2021-12-21 20:53:50,732]\u001b[0m Trial 274 finished with value: 0.812560416797439 and parameters: {'learning_rate': 0.008516426432621592, 'n_estimators': 127, 'subsample': 0.8574652269206672, 'min_samples_split': 17, 'min_samples_leaf': 6, 'max_depth': 7, 'min_impurity_decrease': 0.7550125197915973, 'max_features': 19}. Best is trial 213 with value: 0.8238026489234826.\u001b[0m\n",
      "\u001b[32m[I 2021-12-21 20:53:51,564]\u001b[0m Trial 275 finished with value: 0.8103571652752495 and parameters: {'learning_rate': 0.008283691450016912, 'n_estimators': 144, 'subsample': 0.9518847527203413, 'min_samples_split': 17, 'min_samples_leaf': 7, 'max_depth': 7, 'min_impurity_decrease': 0.9234656412864641, 'max_features': 18}. Best is trial 213 with value: 0.8238026489234826.\u001b[0m\n",
      "\u001b[32m[I 2021-12-21 20:53:52,438]\u001b[0m Trial 276 finished with value: 0.8193082669010107 and parameters: {'learning_rate': 0.008698443423868461, 'n_estimators': 142, 'subsample': 0.9725682907481633, 'min_samples_split': 17, 'min_samples_leaf': 6, 'max_depth': 7, 'min_impurity_decrease': 0.7506194032452933, 'max_features': 18}. Best is trial 213 with value: 0.8238026489234826.\u001b[0m\n",
      "\u001b[32m[I 2021-12-21 20:53:53,276]\u001b[0m Trial 277 finished with value: 0.817079907099366 and parameters: {'learning_rate': 0.00976750500334745, 'n_estimators': 135, 'subsample': 0.9585867672194502, 'min_samples_split': 20, 'min_samples_leaf': 5, 'max_depth': 7, 'min_impurity_decrease': 0.7652635225123462, 'max_features': 19}. Best is trial 213 with value: 0.8238026489234826.\u001b[0m\n",
      "\u001b[32m[I 2021-12-21 20:53:54,117]\u001b[0m Trial 278 finished with value: 0.8215554579122466 and parameters: {'learning_rate': 0.009618263467188142, 'n_estimators': 137, 'subsample': 0.9473599082243604, 'min_samples_split': 18, 'min_samples_leaf': 6, 'max_depth': 7, 'min_impurity_decrease': 0.7633826765668151, 'max_features': 19}. Best is trial 213 with value: 0.8238026489234826.\u001b[0m\n",
      "\u001b[32m[I 2021-12-21 20:53:54,385]\u001b[0m Trial 279 finished with value: 0.7923545289059069 and parameters: {'learning_rate': 0.00930115200064104, 'n_estimators': 31, 'subsample': 0.9359551637151272, 'min_samples_split': 18, 'min_samples_leaf': 6, 'max_depth': 7, 'min_impurity_decrease': 0.7503820221627543, 'max_features': 18}. Best is trial 213 with value: 0.8238026489234826.\u001b[0m\n",
      "\u001b[32m[I 2021-12-21 20:53:55,148]\u001b[0m Trial 280 finished with value: 0.813684012303057 and parameters: {'learning_rate': 0.009602310434489753, 'n_estimators': 124, 'subsample': 0.8849693176873725, 'min_samples_split': 20, 'min_samples_leaf': 6, 'max_depth': 7, 'min_impurity_decrease': 0.7648294426210532, 'max_features': 19}. Best is trial 213 with value: 0.8238026489234826.\u001b[0m\n",
      "\u001b[32m[I 2021-12-21 20:53:55,996]\u001b[0m Trial 281 finished with value: 0.8193082669010107 and parameters: {'learning_rate': 0.008999081306494475, 'n_estimators': 137, 'subsample': 0.9445400795846739, 'min_samples_split': 20, 'min_samples_leaf': 6, 'max_depth': 7, 'min_impurity_decrease': 0.7603201305911966, 'max_features': 19}. Best is trial 213 with value: 0.8238026489234826.\u001b[0m\n",
      "\u001b[32m[I 2021-12-21 20:53:56,809]\u001b[0m Trial 282 finished with value: 0.8193082669010107 and parameters: {'learning_rate': 0.009610300020030368, 'n_estimators': 134, 'subsample': 0.9498511002215568, 'min_samples_split': 18, 'min_samples_leaf': 5, 'max_depth': 7, 'min_impurity_decrease': 0.7716378322237802, 'max_features': 18}. Best is trial 213 with value: 0.8238026489234826.\u001b[0m\n",
      "\u001b[32m[I 2021-12-21 20:53:57,623]\u001b[0m Trial 283 finished with value: 0.8114807607808674 and parameters: {'learning_rate': 0.008915194488963869, 'n_estimators': 140, 'subsample': 0.9694898473112293, 'min_samples_split': 20, 'min_samples_leaf': 7, 'max_depth': 7, 'min_impurity_decrease': 0.9529238805605347, 'max_features': 19}. Best is trial 213 with value: 0.8238026489234826.\u001b[0m\n",
      "\u001b[32m[I 2021-12-21 20:53:58,545]\u001b[0m Trial 284 finished with value: 0.8170610758897746 and parameters: {'learning_rate': 0.009797753793532715, 'n_estimators': 149, 'subsample': 0.9671526986008802, 'min_samples_split': 17, 'min_samples_leaf': 4, 'max_depth': 7, 'min_impurity_decrease': 0.7673961489630834, 'max_features': 20}. Best is trial 213 with value: 0.8238026489234826.\u001b[0m\n",
      "\u001b[32m[I 2021-12-21 20:53:59,399]\u001b[0m Trial 285 finished with value: 0.8181846713953927 and parameters: {'learning_rate': 0.009388907276076634, 'n_estimators': 139, 'subsample': 0.9385208066997974, 'min_samples_split': 18, 'min_samples_leaf': 5, 'max_depth': 7, 'min_impurity_decrease': 0.776971618752458, 'max_features': 19}. Best is trial 213 with value: 0.8238026489234826.\u001b[0m\n"
     ]
    },
    {
     "name": "stderr",
     "output_type": "stream",
     "text": [
      "\u001b[32m[I 2021-12-21 20:54:00,167]\u001b[0m Trial 286 finished with value: 0.8215554579122465 and parameters: {'learning_rate': 0.009997163502107345, 'n_estimators': 121, 'subsample': 0.9556290684000991, 'min_samples_split': 18, 'min_samples_leaf': 2, 'max_depth': 7, 'min_impurity_decrease': 0.7610131207570648, 'max_features': 18}. Best is trial 213 with value: 0.8238026489234826.\u001b[0m\n",
      "\u001b[32m[I 2021-12-21 20:54:00,918]\u001b[0m Trial 287 finished with value: 0.8170610758897746 and parameters: {'learning_rate': 0.009158434276183403, 'n_estimators': 111, 'subsample': 0.9574961819836815, 'min_samples_split': 18, 'min_samples_leaf': 3, 'max_depth': 7, 'min_impurity_decrease': 0.760565388599001, 'max_features': 20}. Best is trial 213 with value: 0.8238026489234826.\u001b[0m\n",
      "\u001b[32m[I 2021-12-21 20:54:01,570]\u001b[0m Trial 288 finished with value: 0.7957504237022157 and parameters: {'learning_rate': 0.008440154962125291, 'n_estimators': 120, 'subsample': 0.952686821064846, 'min_samples_split': 18, 'min_samples_leaf': 4, 'max_depth': 3, 'min_impurity_decrease': 0.7814412837816751, 'max_features': 19}. Best is trial 213 with value: 0.8238026489234826.\u001b[0m\n",
      "\u001b[32m[I 2021-12-21 20:54:02,307]\u001b[0m Trial 289 finished with value: 0.8193082669010107 and parameters: {'learning_rate': 0.009845700670816339, 'n_estimators': 120, 'subsample': 0.954554087353789, 'min_samples_split': 18, 'min_samples_leaf': 5, 'max_depth': 7, 'min_impurity_decrease': 0.768218601959347, 'max_features': 17}. Best is trial 213 with value: 0.8238026489234826.\u001b[0m\n",
      "\u001b[32m[I 2021-12-21 20:54:03,112]\u001b[0m Trial 290 finished with value: 0.8204318624066287 and parameters: {'learning_rate': 0.009584453055996025, 'n_estimators': 127, 'subsample': 0.9470441730249757, 'min_samples_split': 19, 'min_samples_leaf': 5, 'max_depth': 7, 'min_impurity_decrease': 0.7732578046404345, 'max_features': 20}. Best is trial 213 with value: 0.8238026489234826.\u001b[0m\n",
      "\u001b[32m[I 2021-12-21 20:54:03,998]\u001b[0m Trial 291 finished with value: 0.8226790534178645 and parameters: {'learning_rate': 0.00987996860799984, 'n_estimators': 146, 'subsample': 0.9404863282233967, 'min_samples_split': 17, 'min_samples_leaf': 2, 'max_depth': 7, 'min_impurity_decrease': 0.7727670255148158, 'max_features': 19}. Best is trial 213 with value: 0.8238026489234826.\u001b[0m\n",
      "\u001b[32m[I 2021-12-21 20:54:04,883]\u001b[0m Trial 292 finished with value: 0.819327098110602 and parameters: {'learning_rate': 0.009953744757983647, 'n_estimators': 151, 'subsample': 0.9311008242496325, 'min_samples_split': 10, 'min_samples_leaf': 3, 'max_depth': 7, 'min_impurity_decrease': 0.7792752375844392, 'max_features': 18}. Best is trial 213 with value: 0.8238026489234826.\u001b[0m\n",
      "\u001b[32m[I 2021-12-21 20:54:05,729]\u001b[0m Trial 293 finished with value: 0.8103508882053857 and parameters: {'learning_rate': 0.009986927380451387, 'n_estimators': 145, 'subsample': 0.9448117374447795, 'min_samples_split': 17, 'min_samples_leaf': 2, 'max_depth': 7, 'min_impurity_decrease': 0.8793517597447461, 'max_features': 19}. Best is trial 213 with value: 0.8238026489234826.\u001b[0m\n",
      "\u001b[32m[I 2021-12-21 20:54:06,453]\u001b[0m Trial 294 finished with value: 0.8170610758897746 and parameters: {'learning_rate': 0.00951226270371432, 'n_estimators': 115, 'subsample': 0.9416777643618545, 'min_samples_split': 18, 'min_samples_leaf': 3, 'max_depth': 7, 'min_impurity_decrease': 0.7731346797259542, 'max_features': 17}. Best is trial 213 with value: 0.8238026489234826.\u001b[0m\n",
      "\u001b[32m[I 2021-12-21 20:54:07,340]\u001b[0m Trial 295 finished with value: 0.813709120582512 and parameters: {'learning_rate': 0.00962239297514488, 'n_estimators': 147, 'subsample': 0.9357477066583121, 'min_samples_split': 17, 'min_samples_leaf': 2, 'max_depth': 7, 'min_impurity_decrease': 0.7831496020617235, 'max_features': 18}. Best is trial 213 with value: 0.8238026489234826.\u001b[0m\n",
      "\u001b[32m[I 2021-12-21 20:54:08,271]\u001b[0m Trial 296 finished with value: 0.8035904839620865 and parameters: {'learning_rate': 0.0037363754133730182, 'n_estimators': 130, 'subsample': 0.9419988084951997, 'min_samples_split': 17, 'min_samples_leaf': 2, 'max_depth': 7, 'min_impurity_decrease': 0.7727665134274114, 'max_features': 19}. Best is trial 213 with value: 0.8238026489234826.\u001b[0m\n",
      "\u001b[32m[I 2021-12-21 20:54:09,115]\u001b[0m Trial 297 finished with value: 0.8181846713953925 and parameters: {'learning_rate': 0.00943856398505614, 'n_estimators': 143, 'subsample': 0.9458471398955914, 'min_samples_split': 18, 'min_samples_leaf': 6, 'max_depth': 7, 'min_impurity_decrease': 0.77545213298701, 'max_features': 18}. Best is trial 213 with value: 0.8238026489234826.\u001b[0m\n",
      "\u001b[32m[I 2021-12-21 20:54:09,930]\u001b[0m Trial 298 finished with value: 0.8181846713953925 and parameters: {'learning_rate': 0.009688479927925911, 'n_estimators': 128, 'subsample': 0.9219075712787914, 'min_samples_split': 17, 'min_samples_leaf': 2, 'max_depth': 7, 'min_impurity_decrease': 0.7628013185288987, 'max_features': 19}. Best is trial 213 with value: 0.8238026489234826.\u001b[0m\n",
      "\u001b[32m[I 2021-12-21 20:54:10,764]\u001b[0m Trial 299 finished with value: 0.8148264390182662 and parameters: {'learning_rate': 0.009792494568676296, 'n_estimators': 138, 'subsample': 0.8302553007372264, 'min_samples_split': 18, 'min_samples_leaf': 2, 'max_depth': 7, 'min_impurity_decrease': 0.7688596457332209, 'max_features': 20}. Best is trial 213 with value: 0.8238026489234826.\u001b[0m\n",
      "\u001b[32m[I 2021-12-21 20:54:11,597]\u001b[0m Trial 300 finished with value: 0.8204381394764925 and parameters: {'learning_rate': 0.00975313358705453, 'n_estimators': 132, 'subsample': 0.9499076795469086, 'min_samples_split': 19, 'min_samples_leaf': 2, 'max_depth': 7, 'min_impurity_decrease': 0.7639674104069224, 'max_features': 19}. Best is trial 213 with value: 0.8238026489234826.\u001b[0m\n",
      "\u001b[32m[I 2021-12-21 20:54:12,510]\u001b[0m Trial 301 finished with value: 0.7912183792605612 and parameters: {'learning_rate': 0.002199260069819242, 'n_estimators': 122, 'subsample': 0.9494927615977499, 'min_samples_split': 17, 'min_samples_leaf': 2, 'max_depth': 7, 'min_impurity_decrease': 0.765282810791757, 'max_features': 19}. Best is trial 213 with value: 0.8238026489234826.\u001b[0m\n",
      "\u001b[32m[I 2021-12-21 20:54:13,344]\u001b[0m Trial 302 finished with value: 0.8204318624066287 and parameters: {'learning_rate': 0.00991581494953085, 'n_estimators': 135, 'subsample': 0.939796610477628, 'min_samples_split': 19, 'min_samples_leaf': 2, 'max_depth': 7, 'min_impurity_decrease': 0.7866942422391754, 'max_features': 19}. Best is trial 213 with value: 0.8238026489234826.\u001b[0m\n",
      "\u001b[32m[I 2021-12-21 20:54:14,182]\u001b[0m Trial 303 finished with value: 0.8148327160881299 and parameters: {'learning_rate': 0.009999871483933486, 'n_estimators': 138, 'subsample': 0.9274006018007874, 'min_samples_split': 18, 'min_samples_leaf': 2, 'max_depth': 7, 'min_impurity_decrease': 0.7770048596436376, 'max_features': 18}. Best is trial 213 with value: 0.8238026489234826.\u001b[0m\n",
      "\u001b[32m[I 2021-12-21 20:54:14,764]\u001b[0m Trial 304 finished with value: 0.8103132257862029 and parameters: {'learning_rate': 0.009767611745883982, 'n_estimators': 141, 'subsample': 0.9357903619621303, 'min_samples_split': 19, 'min_samples_leaf': 2, 'max_depth': 7, 'min_impurity_decrease': 0.7875237692149185, 'max_features': 4}. Best is trial 213 with value: 0.8238026489234826.\u001b[0m\n",
      "\u001b[32m[I 2021-12-21 20:54:15,680]\u001b[0m Trial 305 finished with value: 0.8193082669010104 and parameters: {'learning_rate': 0.008185822433008794, 'n_estimators': 145, 'subsample': 0.9402932834637278, 'min_samples_split': 19, 'min_samples_leaf': 2, 'max_depth': 7, 'min_impurity_decrease': 0.7716082231626986, 'max_features': 19}. Best is trial 213 with value: 0.8238026489234826.\u001b[0m\n",
      "\u001b[32m[I 2021-12-21 20:54:16,115]\u001b[0m Trial 306 finished with value: 0.8013370158809867 and parameters: {'learning_rate': 0.008787051021191435, 'n_estimators': 58, 'subsample': 0.9335302913037768, 'min_samples_split': 18, 'min_samples_leaf': 3, 'max_depth': 5, 'min_impurity_decrease': 0.7808317288427614, 'max_features': 19}. Best is trial 213 with value: 0.8238026489234826.\u001b[0m\n",
      "\u001b[32m[I 2021-12-21 20:54:16,979]\u001b[0m Trial 307 finished with value: 0.8103195028560668 and parameters: {'learning_rate': 0.006331782986273843, 'n_estimators': 125, 'subsample': 0.94638956787158, 'min_samples_split': 19, 'min_samples_leaf': 2, 'max_depth': 7, 'min_impurity_decrease': 0.7697970785821551, 'max_features': 19}. Best is trial 213 with value: 0.8238026489234826.\u001b[0m\n"
     ]
    },
    {
     "name": "stderr",
     "output_type": "stream",
     "text": [
      "\u001b[32m[I 2021-12-21 20:54:17,889]\u001b[0m Trial 308 finished with value: 0.8159374803841567 and parameters: {'learning_rate': 0.009571598698116935, 'n_estimators': 150, 'subsample': 0.9389805262581936, 'min_samples_split': 19, 'min_samples_leaf': 3, 'max_depth': 7, 'min_impurity_decrease': 0.7639908153516786, 'max_features': 19}. Best is trial 213 with value: 0.8238026489234826.\u001b[0m\n",
      "\u001b[32m[I 2021-12-21 20:54:18,672]\u001b[0m Trial 309 finished with value: 0.8137153976523759 and parameters: {'learning_rate': 0.009807696709011849, 'n_estimators': 135, 'subsample': 0.9110629536779387, 'min_samples_split': 7, 'min_samples_leaf': 2, 'max_depth': 4, 'min_impurity_decrease': 0.7569758823976271, 'max_features': 18}. Best is trial 213 with value: 0.8238026489234826.\u001b[0m\n",
      "\u001b[32m[I 2021-12-21 20:54:19,389]\u001b[0m Trial 310 finished with value: 0.8136965664427844 and parameters: {'learning_rate': 0.008498100950521495, 'n_estimators': 142, 'subsample': 0.9470264915829858, 'min_samples_split': 18, 'min_samples_leaf': 3, 'max_depth': 7, 'min_impurity_decrease': 0.9977371893410907, 'max_features': 12}. Best is trial 213 with value: 0.8238026489234826.\u001b[0m\n",
      "\u001b[32m[I 2021-12-21 20:54:20,227]\u001b[0m Trial 311 finished with value: 0.8215554579122466 and parameters: {'learning_rate': 0.009078625543778758, 'n_estimators': 131, 'subsample': 0.9422019162753184, 'min_samples_split': 17, 'min_samples_leaf': 2, 'max_depth': 7, 'min_impurity_decrease': 0.7742578674989192, 'max_features': 19}. Best is trial 213 with value: 0.8238026489234826.\u001b[0m\n",
      "\u001b[32m[I 2021-12-21 20:54:21,070]\u001b[0m Trial 312 finished with value: 0.8170610758897746 and parameters: {'learning_rate': 0.009390122547803527, 'n_estimators': 137, 'subsample': 0.9417229766006382, 'min_samples_split': 17, 'min_samples_leaf': 2, 'max_depth': 7, 'min_impurity_decrease': 0.7845252563867389, 'max_features': 18}. Best is trial 213 with value: 0.8238026489234826.\u001b[0m\n",
      "\u001b[32m[I 2021-12-21 20:54:21,923]\u001b[0m Trial 313 finished with value: 0.8204318624066286 and parameters: {'learning_rate': 0.009112669212458253, 'n_estimators': 132, 'subsample': 0.932979051813923, 'min_samples_split': 4, 'min_samples_leaf': 2, 'max_depth': 7, 'min_impurity_decrease': 0.7689058974203979, 'max_features': 19}. Best is trial 213 with value: 0.8238026489234826.\u001b[0m\n",
      "\u001b[32m[I 2021-12-21 20:54:22,713]\u001b[0m Trial 314 finished with value: 0.8170610758897746 and parameters: {'learning_rate': 0.00933496792787581, 'n_estimators': 129, 'subsample': 0.9428873765201691, 'min_samples_split': 17, 'min_samples_leaf': 3, 'max_depth': 7, 'min_impurity_decrease': 0.8693276031982835, 'max_features': 19}. Best is trial 213 with value: 0.8238026489234826.\u001b[0m\n",
      "\u001b[32m[I 2021-12-21 20:54:23,554]\u001b[0m Trial 315 finished with value: 0.8159374803841567 and parameters: {'learning_rate': 0.009567336046112438, 'n_estimators': 136, 'subsample': 0.9468064965497102, 'min_samples_split': 17, 'min_samples_leaf': 2, 'max_depth': 7, 'min_impurity_decrease': 0.7749440287222602, 'max_features': 18}. Best is trial 213 with value: 0.8238026489234826.\u001b[0m\n",
      "\u001b[32m[I 2021-12-21 20:54:24,456]\u001b[0m Trial 316 finished with value: 0.815956311593748 and parameters: {'learning_rate': 0.009670693151691629, 'n_estimators': 147, 'subsample': 0.9502761551997113, 'min_samples_split': 17, 'min_samples_leaf': 2, 'max_depth': 7, 'min_impurity_decrease': 0.7778757014049267, 'max_features': 19}. Best is trial 213 with value: 0.8238026489234826.\u001b[0m\n",
      "\u001b[32m[I 2021-12-21 20:54:25,323]\u001b[0m Trial 317 finished with value: 0.8148264390182662 and parameters: {'learning_rate': 0.008830628911780472, 'n_estimators': 141, 'subsample': 0.9245634323812832, 'min_samples_split': 18, 'min_samples_leaf': 2, 'max_depth': 7, 'min_impurity_decrease': 0.7707333670778903, 'max_features': 18}. Best is trial 213 with value: 0.8238026489234826.\u001b[0m\n",
      "\u001b[32m[I 2021-12-21 20:54:26,164]\u001b[0m Trial 318 finished with value: 0.8181846713953927 and parameters: {'learning_rate': 0.009276624701121509, 'n_estimators': 133, 'subsample': 0.9378224454871812, 'min_samples_split': 18, 'min_samples_leaf': 3, 'max_depth': 7, 'min_impurity_decrease': 0.7655593764237001, 'max_features': 19}. Best is trial 213 with value: 0.8238026489234826.\u001b[0m\n",
      "\u001b[32m[I 2021-12-21 20:54:27,047]\u001b[0m Trial 319 finished with value: 0.8238026489234824 and parameters: {'learning_rate': 0.009045102721148482, 'n_estimators': 138, 'subsample': 0.9425663604069185, 'min_samples_split': 6, 'min_samples_leaf': 2, 'max_depth': 7, 'min_impurity_decrease': 0.7743450074792523, 'max_features': 19}. Best is trial 213 with value: 0.8238026489234826.\u001b[0m\n",
      "\u001b[32m[I 2021-12-21 20:54:27,936]\u001b[0m Trial 320 finished with value: 0.8181846713953925 and parameters: {'learning_rate': 0.008742419769881094, 'n_estimators': 138, 'subsample': 0.9411091833214027, 'min_samples_split': 6, 'min_samples_leaf': 2, 'max_depth': 7, 'min_impurity_decrease': 0.7802516180032597, 'max_features': 19}. Best is trial 213 with value: 0.8238026489234826.\u001b[0m\n",
      "\u001b[32m[I 2021-12-21 20:54:28,840]\u001b[0m Trial 321 finished with value: 0.8226790534178645 and parameters: {'learning_rate': 0.008985771854346021, 'n_estimators': 143, 'subsample': 0.9530440606377011, 'min_samples_split': 7, 'min_samples_leaf': 3, 'max_depth': 7, 'min_impurity_decrease': 0.7742734104163537, 'max_features': 19}. Best is trial 213 with value: 0.8238026489234826.\u001b[0m\n",
      "\u001b[32m[I 2021-12-21 20:54:29,833]\u001b[0m Trial 322 finished with value: 0.8136965664427844 and parameters: {'learning_rate': 0.005724695314743321, 'n_estimators': 146, 'subsample': 0.9311794923433532, 'min_samples_split': 7, 'min_samples_leaf': 2, 'max_depth': 7, 'min_impurity_decrease': 0.7858956963013016, 'max_features': 19}. Best is trial 213 with value: 0.8238026489234826.\u001b[0m\n",
      "\u001b[32m[I 2021-12-21 20:54:30,751]\u001b[0m Trial 323 finished with value: 0.8148327160881299 and parameters: {'learning_rate': 0.00905552954677519, 'n_estimators': 152, 'subsample': 0.9445564025465176, 'min_samples_split': 6, 'min_samples_leaf': 3, 'max_depth': 7, 'min_impurity_decrease': 0.7764945049705502, 'max_features': 18}. Best is trial 213 with value: 0.8238026489234826.\u001b[0m\n",
      "\u001b[32m[I 2021-12-21 20:54:31,693]\u001b[0m Trial 324 finished with value: 0.8193082669010107 and parameters: {'learning_rate': 0.00863184025053877, 'n_estimators': 149, 'subsample': 0.9372978686383827, 'min_samples_split': 8, 'min_samples_leaf': 2, 'max_depth': 7, 'min_impurity_decrease': 0.7742177259363408, 'max_features': 19}. Best is trial 213 with value: 0.8238026489234826.\u001b[0m\n",
      "\u001b[32m[I 2021-12-21 20:54:32,576]\u001b[0m Trial 325 finished with value: 0.8170799070993662 and parameters: {'learning_rate': 0.008943307140148625, 'n_estimators': 144, 'subsample': 0.9520466626014611, 'min_samples_split': 6, 'min_samples_leaf': 3, 'max_depth': 6, 'min_impurity_decrease': 0.7724069980659274, 'max_features': 18}. Best is trial 213 with value: 0.8238026489234826.\u001b[0m\n",
      "\u001b[32m[I 2021-12-21 20:54:33,468]\u001b[0m Trial 326 finished with value: 0.8215554579122466 and parameters: {'learning_rate': 0.009119347980883654, 'n_estimators': 141, 'subsample': 0.9549386923775929, 'min_samples_split': 8, 'min_samples_leaf': 3, 'max_depth': 7, 'min_impurity_decrease': 0.7616362139169095, 'max_features': 19}. Best is trial 213 with value: 0.8238026489234826.\u001b[0m\n",
      "\u001b[32m[I 2021-12-21 20:54:34,365]\u001b[0m Trial 327 finished with value: 0.8226790534178645 and parameters: {'learning_rate': 0.009147526071814118, 'n_estimators': 143, 'subsample': 0.9555192500665215, 'min_samples_split': 8, 'min_samples_leaf': 3, 'max_depth': 7, 'min_impurity_decrease': 0.7684003598791164, 'max_features': 19}. Best is trial 213 with value: 0.8238026489234826.\u001b[0m\n",
      "\u001b[32m[I 2021-12-21 20:54:35,246]\u001b[0m Trial 328 finished with value: 0.8193145439708743 and parameters: {'learning_rate': 0.009127776978977084, 'n_estimators': 143, 'subsample': 0.9559229997443616, 'min_samples_split': 8, 'min_samples_leaf': 3, 'max_depth': 7, 'min_impurity_decrease': 0.7689840334277475, 'max_features': 18}. Best is trial 213 with value: 0.8238026489234826.\u001b[0m\n",
      "\u001b[32m[I 2021-12-21 20:54:36,159]\u001b[0m Trial 329 finished with value: 0.819327098110602 and parameters: {'learning_rate': 0.009135785880291769, 'n_estimators': 148, 'subsample': 0.9521330445049824, 'min_samples_split': 9, 'min_samples_leaf': 3, 'max_depth': 7, 'min_impurity_decrease': 0.7799897362722246, 'max_features': 19}. Best is trial 213 with value: 0.8238026489234826.\u001b[0m\n"
     ]
    },
    {
     "name": "stderr",
     "output_type": "stream",
     "text": [
      "\u001b[32m[I 2021-12-21 20:54:37,064]\u001b[0m Trial 330 finished with value: 0.8215554579122466 and parameters: {'learning_rate': 0.008671635516935191, 'n_estimators': 141, 'subsample': 0.9428746569766878, 'min_samples_split': 8, 'min_samples_leaf': 2, 'max_depth': 7, 'min_impurity_decrease': 0.7671629186014461, 'max_features': 19}. Best is trial 213 with value: 0.8238026489234826.\u001b[0m\n",
      "\u001b[32m[I 2021-12-21 20:54:37,974]\u001b[0m Trial 331 finished with value: 0.8181846713953927 and parameters: {'learning_rate': 0.008728576273173628, 'n_estimators': 144, 'subsample': 0.9541568844941088, 'min_samples_split': 8, 'min_samples_leaf': 3, 'max_depth': 7, 'min_impurity_decrease': 0.767280413402491, 'max_features': 19}. Best is trial 213 with value: 0.8238026489234826.\u001b[0m\n",
      "\u001b[32m[I 2021-12-21 20:54:38,876]\u001b[0m Trial 332 finished with value: 0.8204318624066286 and parameters: {'learning_rate': 0.008647333932469593, 'n_estimators': 141, 'subsample': 0.9498780166447407, 'min_samples_split': 7, 'min_samples_leaf': 3, 'max_depth': 7, 'min_impurity_decrease': 0.7633603330961075, 'max_features': 19}. Best is trial 213 with value: 0.8238026489234826.\u001b[0m\n",
      "\u001b[32m[I 2021-12-21 20:54:39,779]\u001b[0m Trial 333 finished with value: 0.8238026489234824 and parameters: {'learning_rate': 0.008923454106198433, 'n_estimators': 146, 'subsample': 0.9552754760658032, 'min_samples_split': 9, 'min_samples_leaf': 2, 'max_depth': 7, 'min_impurity_decrease': 0.7680783192996594, 'max_features': 18}. Best is trial 213 with value: 0.8238026489234826.\u001b[0m\n",
      "\u001b[32m[I 2021-12-21 20:54:40,699]\u001b[0m Trial 334 finished with value: 0.8193145439708743 and parameters: {'learning_rate': 0.008890476767968346, 'n_estimators': 150, 'subsample': 0.9553191718933758, 'min_samples_split': 9, 'min_samples_leaf': 2, 'max_depth': 7, 'min_impurity_decrease': 0.7751354894230319, 'max_features': 18}. Best is trial 213 with value: 0.8238026489234826.\u001b[0m\n",
      "\u001b[32m[I 2021-12-21 20:54:41,611]\u001b[0m Trial 335 finished with value: 0.8215554579122466 and parameters: {'learning_rate': 0.00883630143142804, 'n_estimators': 147, 'subsample': 0.9553779448280159, 'min_samples_split': 7, 'min_samples_leaf': 2, 'max_depth': 7, 'min_impurity_decrease': 0.7691951417889323, 'max_features': 18}. Best is trial 213 with value: 0.8238026489234826.\u001b[0m\n",
      "\u001b[32m[I 2021-12-21 20:54:42,537]\u001b[0m Trial 336 finished with value: 0.8193145439708746 and parameters: {'learning_rate': 0.008359991125306705, 'n_estimators': 147, 'subsample': 0.9439769753165892, 'min_samples_split': 8, 'min_samples_leaf': 2, 'max_depth': 7, 'min_impurity_decrease': 0.7710653223486315, 'max_features': 17}. Best is trial 213 with value: 0.8238026489234826.\u001b[0m\n",
      "\u001b[32m[I 2021-12-21 20:54:43,459]\u001b[0m Trial 337 finished with value: 0.8193145439708746 and parameters: {'learning_rate': 0.008814505474193862, 'n_estimators': 150, 'subsample': 0.955957868222781, 'min_samples_split': 7, 'min_samples_leaf': 3, 'max_depth': 7, 'min_impurity_decrease': 0.7804671298701769, 'max_features': 17}. Best is trial 213 with value: 0.8238026489234826.\u001b[0m\n",
      "\u001b[32m[I 2021-12-21 20:54:44,400]\u001b[0m Trial 338 finished with value: 0.8226790534178645 and parameters: {'learning_rate': 0.008532676035035791, 'n_estimators': 153, 'subsample': 0.9499048827753237, 'min_samples_split': 9, 'min_samples_leaf': 2, 'max_depth': 7, 'min_impurity_decrease': 0.767931563445652, 'max_features': 18}. Best is trial 213 with value: 0.8238026489234826.\u001b[0m\n",
      "\u001b[32m[I 2021-12-21 20:54:45,342]\u001b[0m Trial 339 finished with value: 0.8215554579122466 and parameters: {'learning_rate': 0.00855785235076862, 'n_estimators': 154, 'subsample': 0.9436155990817588, 'min_samples_split': 9, 'min_samples_leaf': 2, 'max_depth': 7, 'min_impurity_decrease': 0.7704666402263736, 'max_features': 18}. Best is trial 213 with value: 0.8238026489234826.\u001b[0m\n",
      "\u001b[32m[I 2021-12-21 20:54:46,289]\u001b[0m Trial 340 finished with value: 0.8204318624066287 and parameters: {'learning_rate': 0.008548313524007919, 'n_estimators': 157, 'subsample': 0.9348349769234013, 'min_samples_split': 9, 'min_samples_leaf': 2, 'max_depth': 7, 'min_impurity_decrease': 0.7737580332367712, 'max_features': 17}. Best is trial 213 with value: 0.8238026489234826.\u001b[0m\n",
      "\u001b[32m[I 2021-12-21 20:54:47,227]\u001b[0m Trial 341 finished with value: 0.8226790534178645 and parameters: {'learning_rate': 0.008591680472245806, 'n_estimators': 152, 'subsample': 0.9431286833095368, 'min_samples_split': 10, 'min_samples_leaf': 2, 'max_depth': 7, 'min_impurity_decrease': 0.7691529827206292, 'max_features': 18}. Best is trial 213 with value: 0.8238026489234826.\u001b[0m\n",
      "\u001b[32m[I 2021-12-21 20:54:48,156]\u001b[0m Trial 342 finished with value: 0.8204318624066287 and parameters: {'learning_rate': 0.008682024542977155, 'n_estimators': 154, 'subsample': 0.9439953250666042, 'min_samples_split': 9, 'min_samples_leaf': 2, 'max_depth': 7, 'min_impurity_decrease': 0.7676015359495507, 'max_features': 17}. Best is trial 213 with value: 0.8238026489234826.\u001b[0m\n",
      "\u001b[32m[I 2021-12-21 20:54:49,101]\u001b[0m Trial 343 finished with value: 0.8204318624066286 and parameters: {'learning_rate': 0.008392100010069469, 'n_estimators': 153, 'subsample': 0.9384286935729442, 'min_samples_split': 10, 'min_samples_leaf': 2, 'max_depth': 7, 'min_impurity_decrease': 0.7774704965916622, 'max_features': 18}. Best is trial 213 with value: 0.8238026489234826.\u001b[0m\n",
      "\u001b[32m[I 2021-12-21 20:54:50,043]\u001b[0m Trial 344 finished with value: 0.8215554579122465 and parameters: {'learning_rate': 0.008568645764616172, 'n_estimators': 155, 'subsample': 0.9423597768138492, 'min_samples_split': 9, 'min_samples_leaf': 3, 'max_depth': 7, 'min_impurity_decrease': 0.7782910550700672, 'max_features': 18}. Best is trial 213 with value: 0.8238026489234826.\u001b[0m\n",
      "\u001b[32m[I 2021-12-21 20:54:51,011]\u001b[0m Trial 345 finished with value: 0.8204318624066287 and parameters: {'learning_rate': 0.008919017830491517, 'n_estimators': 162, 'subsample': 0.9335270024945908, 'min_samples_split': 10, 'min_samples_leaf': 2, 'max_depth': 7, 'min_impurity_decrease': 0.7671073462798617, 'max_features': 18}. Best is trial 213 with value: 0.8238026489234826.\u001b[0m\n",
      "\u001b[32m[I 2021-12-21 20:54:51,926]\u001b[0m Trial 346 finished with value: 0.8148389931579938 and parameters: {'learning_rate': 0.008982891734762277, 'n_estimators': 158, 'subsample': 0.9261898239964672, 'min_samples_split': 8, 'min_samples_leaf': 2, 'max_depth': 5, 'min_impurity_decrease': 0.8551667860562262, 'max_features': 18}. Best is trial 213 with value: 0.8238026489234826.\u001b[0m\n",
      "\u001b[32m[I 2021-12-21 20:54:52,850]\u001b[0m Trial 347 finished with value: 0.8170610758897746 and parameters: {'learning_rate': 0.00858561679698088, 'n_estimators': 154, 'subsample': 0.9407884092336124, 'min_samples_split': 9, 'min_samples_leaf': 3, 'max_depth': 7, 'min_impurity_decrease': 0.7778366934666748, 'max_features': 17}. Best is trial 213 with value: 0.8238026489234826.\u001b[0m\n",
      "\u001b[32m[I 2021-12-21 20:54:53,794]\u001b[0m Trial 348 finished with value: 0.8204318624066286 and parameters: {'learning_rate': 0.00855179951519339, 'n_estimators': 156, 'subsample': 0.9460212106715882, 'min_samples_split': 9, 'min_samples_leaf': 3, 'max_depth': 7, 'min_impurity_decrease': 0.7827289826913163, 'max_features': 18}. Best is trial 213 with value: 0.8238026489234826.\u001b[0m\n",
      "\u001b[32m[I 2021-12-21 20:54:54,728]\u001b[0m Trial 349 finished with value: 0.8226790534178645 and parameters: {'learning_rate': 0.008795321616844593, 'n_estimators': 151, 'subsample': 0.9510513828319275, 'min_samples_split': 8, 'min_samples_leaf': 2, 'max_depth': 7, 'min_impurity_decrease': 0.7712734244563437, 'max_features': 18}. Best is trial 213 with value: 0.8238026489234826.\u001b[0m\n",
      "\u001b[32m[I 2021-12-21 20:54:55,679]\u001b[0m Trial 350 finished with value: 0.8204381394764925 and parameters: {'learning_rate': 0.008822407476575254, 'n_estimators': 151, 'subsample': 0.9480633249072274, 'min_samples_split': 8, 'min_samples_leaf': 2, 'max_depth': 7, 'min_impurity_decrease': 0.7723869340335525, 'max_features': 18}. Best is trial 213 with value: 0.8238026489234826.\u001b[0m\n",
      "\u001b[32m[I 2021-12-21 20:54:56,600]\u001b[0m Trial 351 finished with value: 0.8204318624066286 and parameters: {'learning_rate': 0.00824031898040536, 'n_estimators': 148, 'subsample': 0.9370601103365777, 'min_samples_split': 8, 'min_samples_leaf': 2, 'max_depth': 7, 'min_impurity_decrease': 0.7928333859804021, 'max_features': 18}. Best is trial 213 with value: 0.8238026489234826.\u001b[0m\n"
     ]
    },
    {
     "name": "stderr",
     "output_type": "stream",
     "text": [
      "\u001b[32m[I 2021-12-21 20:54:57,507]\u001b[0m Trial 352 finished with value: 0.8193082669010107 and parameters: {'learning_rate': 0.009066693509234523, 'n_estimators': 150, 'subsample': 0.9491197624617616, 'min_samples_split': 7, 'min_samples_leaf': 2, 'max_depth': 7, 'min_impurity_decrease': 0.769597883330427, 'max_features': 17}. Best is trial 213 with value: 0.8238026489234826.\u001b[0m\n",
      "\u001b[32m[I 2021-12-21 20:54:58,439]\u001b[0m Trial 353 finished with value: 0.8204318624066286 and parameters: {'learning_rate': 0.0077132154523169875, 'n_estimators': 146, 'subsample': 0.9428720386800478, 'min_samples_split': 8, 'min_samples_leaf': 2, 'max_depth': 7, 'min_impurity_decrease': 0.7712286023793558, 'max_features': 18}. Best is trial 213 with value: 0.8238026489234826.\u001b[0m\n",
      "\u001b[32m[I 2021-12-21 20:54:59,377]\u001b[0m Trial 354 finished with value: 0.8193082669010107 and parameters: {'learning_rate': 0.00793831589073763, 'n_estimators': 151, 'subsample': 0.9292504708553073, 'min_samples_split': 5, 'min_samples_leaf': 3, 'max_depth': 7, 'min_impurity_decrease': 0.768438649400987, 'max_features': 18}. Best is trial 213 with value: 0.8238026489234826.\u001b[0m\n",
      "\u001b[32m[I 2021-12-21 20:55:00,284]\u001b[0m Trial 355 finished with value: 0.8204318624066286 and parameters: {'learning_rate': 0.008750697138156566, 'n_estimators': 147, 'subsample': 0.9493266113047876, 'min_samples_split': 11, 'min_samples_leaf': 2, 'max_depth': 7, 'min_impurity_decrease': 0.7770425408153637, 'max_features': 18}. Best is trial 213 with value: 0.8238026489234826.\u001b[0m\n",
      "\u001b[32m[I 2021-12-21 20:55:01,219]\u001b[0m Trial 356 finished with value: 0.8226790534178645 and parameters: {'learning_rate': 0.008537742650756134, 'n_estimators': 155, 'subsample': 0.9429994827457954, 'min_samples_split': 9, 'min_samples_leaf': 3, 'max_depth': 7, 'min_impurity_decrease': 0.7818066864507079, 'max_features': 18}. Best is trial 213 with value: 0.8238026489234826.\u001b[0m\n",
      "\u001b[32m[I 2021-12-21 20:55:02,152]\u001b[0m Trial 357 finished with value: 0.8193082669010107 and parameters: {'learning_rate': 0.008421120830188972, 'n_estimators': 153, 'subsample': 0.9531586349361297, 'min_samples_split': 9, 'min_samples_leaf': 3, 'max_depth': 7, 'min_impurity_decrease': 0.7830550503882583, 'max_features': 18}. Best is trial 213 with value: 0.8238026489234826.\u001b[0m\n",
      "\u001b[32m[I 2021-12-21 20:55:03,116]\u001b[0m Trial 358 finished with value: 0.8204318624066286 and parameters: {'learning_rate': 0.008174179802861005, 'n_estimators': 160, 'subsample': 0.9438280260838068, 'min_samples_split': 10, 'min_samples_leaf': 2, 'max_depth': 7, 'min_impurity_decrease': 0.7745684238109507, 'max_features': 17}. Best is trial 213 with value: 0.8238026489234826.\u001b[0m\n",
      "\u001b[32m[I 2021-12-21 20:55:04,068]\u001b[0m Trial 359 finished with value: 0.8181846713953927 and parameters: {'learning_rate': 0.008679757976838388, 'n_estimators': 157, 'subsample': 0.9514598100390734, 'min_samples_split': 8, 'min_samples_leaf': 3, 'max_depth': 7, 'min_impurity_decrease': 0.7715618991012881, 'max_features': 18}. Best is trial 213 with value: 0.8238026489234826.\u001b[0m\n",
      "\u001b[32m[I 2021-12-21 20:55:05,044]\u001b[0m Trial 360 finished with value: 0.8204318624066286 and parameters: {'learning_rate': 0.008819521246326295, 'n_estimators': 165, 'subsample': 0.93661205388534, 'min_samples_split': 9, 'min_samples_leaf': 3, 'max_depth': 7, 'min_impurity_decrease': 0.766658994163545, 'max_features': 18}. Best is trial 213 with value: 0.8238026489234826.\u001b[0m\n",
      "\u001b[32m[I 2021-12-21 20:55:05,910]\u001b[0m Trial 361 finished with value: 0.8148201619484026 and parameters: {'learning_rate': 0.008966232467735535, 'n_estimators': 152, 'subsample': 0.7972291692882555, 'min_samples_split': 7, 'min_samples_leaf': 2, 'max_depth': 7, 'min_impurity_decrease': 0.7872474365251468, 'max_features': 17}. Best is trial 213 with value: 0.8238026489234826.\u001b[0m\n",
      "\u001b[32m[I 2021-12-21 20:55:06,877]\u001b[0m Trial 362 finished with value: 0.8181846713953927 and parameters: {'learning_rate': 0.008484764256052019, 'n_estimators': 161, 'subsample': 0.9477190880359408, 'min_samples_split': 10, 'min_samples_leaf': 3, 'max_depth': 7, 'min_impurity_decrease': 0.7769177406682374, 'max_features': 18}. Best is trial 213 with value: 0.8238026489234826.\u001b[0m\n",
      "\u001b[32m[I 2021-12-21 20:55:07,769]\u001b[0m Trial 363 finished with value: 0.8226790534178645 and parameters: {'learning_rate': 0.008995890859490924, 'n_estimators': 144, 'subsample': 0.9439552845255128, 'min_samples_split': 8, 'min_samples_leaf': 2, 'max_depth': 7, 'min_impurity_decrease': 0.772685745951314, 'max_features': 18}. Best is trial 213 with value: 0.8238026489234826.\u001b[0m\n",
      "\u001b[32m[I 2021-12-21 20:55:08,673]\u001b[0m Trial 364 finished with value: 0.8204318624066286 and parameters: {'learning_rate': 0.008258435339655552, 'n_estimators': 144, 'subsample': 0.9402658859931586, 'min_samples_split': 8, 'min_samples_leaf': 2, 'max_depth': 7, 'min_impurity_decrease': 0.7811449468233773, 'max_features': 18}. Best is trial 213 with value: 0.8238026489234826.\u001b[0m\n",
      "\u001b[32m[I 2021-12-21 20:55:09,603]\u001b[0m Trial 365 finished with value: 0.8193082669010107 and parameters: {'learning_rate': 0.009039235047184806, 'n_estimators': 155, 'subsample': 0.9544895736878971, 'min_samples_split': 8, 'min_samples_leaf': 2, 'max_depth': 7, 'min_impurity_decrease': 0.7725832883089488, 'max_features': 17}. Best is trial 213 with value: 0.8238026489234826.\u001b[0m\n",
      "\u001b[32m[I 2021-12-21 20:55:10,517]\u001b[0m Trial 366 finished with value: 0.8204318624066286 and parameters: {'learning_rate': 0.00837873588411058, 'n_estimators': 146, 'subsample': 0.9582548103224978, 'min_samples_split': 9, 'min_samples_leaf': 2, 'max_depth': 7, 'min_impurity_decrease': 0.7740775466252945, 'max_features': 18}. Best is trial 213 with value: 0.8238026489234826.\u001b[0m\n",
      "\u001b[32m[I 2021-12-21 20:55:11,229]\u001b[0m Trial 367 finished with value: 0.8136902893729208 and parameters: {'learning_rate': 0.008791443293498579, 'n_estimators': 105, 'subsample': 0.9492972139954182, 'min_samples_split': 9, 'min_samples_leaf': 2, 'max_depth': 7, 'min_impurity_decrease': 0.7686584069142678, 'max_features': 17}. Best is trial 213 with value: 0.8238026489234826.\u001b[0m\n",
      "\u001b[32m[I 2021-12-21 20:55:12,321]\u001b[0m Trial 368 finished with value: 0.815956311593748 and parameters: {'learning_rate': 0.00908992263075741, 'n_estimators': 194, 'subsample': 0.9321547193135471, 'min_samples_split': 7, 'min_samples_leaf': 2, 'max_depth': 7, 'min_impurity_decrease': 0.7650816493085462, 'max_features': 18}. Best is trial 213 with value: 0.8238026489234826.\u001b[0m\n",
      "\u001b[32m[I 2021-12-21 20:55:13,268]\u001b[0m Trial 369 finished with value: 0.8204318624066286 and parameters: {'learning_rate': 0.008548917445026932, 'n_estimators': 157, 'subsample': 0.9407199848094012, 'min_samples_split': 9, 'min_samples_leaf': 3, 'max_depth': 7, 'min_impurity_decrease': 0.7836726927724449, 'max_features': 18}. Best is trial 213 with value: 0.8238026489234826.\u001b[0m\n",
      "\u001b[32m[I 2021-12-21 20:55:13,985]\u001b[0m Trial 370 finished with value: 0.8148076078086749 and parameters: {'learning_rate': 0.00917609195241084, 'n_estimators': 141, 'subsample': 0.9043283366856318, 'min_samples_split': 8, 'min_samples_leaf': 2, 'max_depth': 7, 'min_impurity_decrease': 0.7629951555813494, 'max_features': 9}. Best is trial 213 with value: 0.8238026489234826.\u001b[0m\n",
      "\u001b[32m[I 2021-12-21 20:55:14,916]\u001b[0m Trial 371 finished with value: 0.8204318624066287 and parameters: {'learning_rate': 0.008683125290123496, 'n_estimators': 150, 'subsample': 0.9522939392405576, 'min_samples_split': 8, 'min_samples_leaf': 2, 'max_depth': 7, 'min_impurity_decrease': 0.7708602062477166, 'max_features': 18}. Best is trial 213 with value: 0.8238026489234826.\u001b[0m\n",
      "\u001b[32m[I 2021-12-21 20:55:15,857]\u001b[0m Trial 372 finished with value: 0.8215554579122466 and parameters: {'learning_rate': 0.008540214194445138, 'n_estimators': 156, 'subsample': 0.9441438748921797, 'min_samples_split': 9, 'min_samples_leaf': 3, 'max_depth': 7, 'min_impurity_decrease': 0.7794902632980212, 'max_features': 18}. Best is trial 213 with value: 0.8238026489234826.\u001b[0m\n",
      "\u001b[32m[I 2021-12-21 20:55:16,832]\u001b[0m Trial 373 finished with value: 0.8204318624066286 and parameters: {'learning_rate': 0.008900965007247075, 'n_estimators': 161, 'subsample': 0.944842462575034, 'min_samples_split': 10, 'min_samples_leaf': 3, 'max_depth': 7, 'min_impurity_decrease': 0.7799210486000759, 'max_features': 17}. Best is trial 213 with value: 0.8238026489234826.\u001b[0m\n"
     ]
    },
    {
     "name": "stderr",
     "output_type": "stream",
     "text": [
      "\u001b[32m[I 2021-12-21 20:55:17,841]\u001b[0m Trial 374 finished with value: 0.8137028435126483 and parameters: {'learning_rate': 0.005402341364597142, 'n_estimators': 153, 'subsample': 0.93464866130703, 'min_samples_split': 8, 'min_samples_leaf': 3, 'max_depth': 7, 'min_impurity_decrease': 0.7767603747276643, 'max_features': 18}. Best is trial 213 with value: 0.8238026489234826.\u001b[0m\n",
      "\u001b[32m[I 2021-12-21 20:55:18,952]\u001b[0m Trial 375 finished with value: 0.7979411210846776 and parameters: {'learning_rate': 0.002471511947388039, 'n_estimators': 158, 'subsample': 0.9400663491285227, 'min_samples_split': 9, 'min_samples_leaf': 3, 'max_depth': 7, 'min_impurity_decrease': 0.7918549056466897, 'max_features': 18}. Best is trial 213 with value: 0.8238026489234826.\u001b[0m\n",
      "\u001b[32m[I 2021-12-21 20:55:19,896]\u001b[0m Trial 376 finished with value: 0.8170610758897746 and parameters: {'learning_rate': 0.007062797530982539, 'n_estimators': 148, 'subsample': 0.9445691846403544, 'min_samples_split': 6, 'min_samples_leaf': 3, 'max_depth': 7, 'min_impurity_decrease': 0.7807868561594568, 'max_features': 18}. Best is trial 213 with value: 0.8238026489234826.\u001b[0m\n",
      "\u001b[32m[I 2021-12-21 20:55:20,641]\u001b[0m Trial 377 finished with value: 0.8103320569957944 and parameters: {'learning_rate': 0.009197809736745471, 'n_estimators': 143, 'subsample': 0.9305180111512075, 'min_samples_split': 11, 'min_samples_leaf': 2, 'max_depth': 7, 'min_impurity_decrease': 0.7682765549610668, 'max_features': 10}. Best is trial 213 with value: 0.8238026489234826.\u001b[0m\n",
      "\u001b[32m[I 2021-12-21 20:55:21,557]\u001b[0m Trial 378 finished with value: 0.8204318624066286 and parameters: {'learning_rate': 0.008634545780778774, 'n_estimators': 151, 'subsample': 0.9480383855647212, 'min_samples_split': 5, 'min_samples_leaf': 3, 'max_depth': 7, 'min_impurity_decrease': 0.7891996041065162, 'max_features': 18}. Best is trial 213 with value: 0.8238026489234826.\u001b[0m\n",
      "\u001b[32m[I 2021-12-21 20:55:22,477]\u001b[0m Trial 379 finished with value: 0.8204318624066287 and parameters: {'learning_rate': 0.008920043153983526, 'n_estimators': 154, 'subsample': 0.946475156172872, 'min_samples_split': 9, 'min_samples_leaf': 2, 'max_depth': 7, 'min_impurity_decrease': 0.7754857042127623, 'max_features': 17}. Best is trial 213 with value: 0.8238026489234826.\u001b[0m\n",
      "\u001b[32m[I 2021-12-21 20:55:23,450]\u001b[0m Trial 380 finished with value: 0.8215554579122466 and parameters: {'learning_rate': 0.00905741152793502, 'n_estimators': 163, 'subsample': 0.9381006789866436, 'min_samples_split': 7, 'min_samples_leaf': 2, 'max_depth': 7, 'min_impurity_decrease': 0.766420436905293, 'max_features': 18}. Best is trial 213 with value: 0.8238026489234826.\u001b[0m\n",
      "\u001b[32m[I 2021-12-21 20:55:24,399]\u001b[0m Trial 381 finished with value: 0.8215617349821104 and parameters: {'learning_rate': 0.009013839069803041, 'n_estimators': 158, 'subsample': 0.9376229647757656, 'min_samples_split': 8, 'min_samples_leaf': 2, 'max_depth': 7, 'min_impurity_decrease': 0.7728706729507445, 'max_features': 18}. Best is trial 213 with value: 0.8238026489234826.\u001b[0m\n",
      "\u001b[32m[I 2021-12-21 20:55:25,360]\u001b[0m Trial 382 finished with value: 0.8215617349821104 and parameters: {'learning_rate': 0.009082680981594048, 'n_estimators': 162, 'subsample': 0.9362833224916456, 'min_samples_split': 7, 'min_samples_leaf': 2, 'max_depth': 7, 'min_impurity_decrease': 0.7853131355059213, 'max_features': 18}. Best is trial 213 with value: 0.8238026489234826.\u001b[0m\n",
      "\u001b[32m[I 2021-12-21 20:55:26,304]\u001b[0m Trial 383 finished with value: 0.8125918021467579 and parameters: {'learning_rate': 0.009048604699105657, 'n_estimators': 164, 'subsample': 0.9213338131470814, 'min_samples_split': 7, 'min_samples_leaf': 2, 'max_depth': 6, 'min_impurity_decrease': 0.7841990055139019, 'max_features': 17}. Best is trial 213 with value: 0.8238026489234826.\u001b[0m\n",
      "\u001b[32m[I 2021-12-21 20:55:27,315]\u001b[0m Trial 384 finished with value: 0.817079907099366 and parameters: {'learning_rate': 0.008892119333378655, 'n_estimators': 171, 'subsample': 0.9338096194424439, 'min_samples_split': 7, 'min_samples_leaf': 2, 'max_depth': 7, 'min_impurity_decrease': 0.7868669494873842, 'max_features': 18}. Best is trial 213 with value: 0.8238026489234826.\u001b[0m\n",
      "\u001b[32m[I 2021-12-21 20:55:28,044]\u001b[0m Trial 385 finished with value: 0.8159249262444291 and parameters: {'learning_rate': 0.009197122471066195, 'n_estimators': 161, 'subsample': 0.928213089034465, 'min_samples_split': 6, 'min_samples_leaf': 3, 'max_depth': 7, 'min_impurity_decrease': 0.7974217450845332, 'max_features': 7}. Best is trial 213 with value: 0.8238026489234826.\u001b[0m\n",
      "\u001b[32m[I 2021-12-21 20:55:29,005]\u001b[0m Trial 386 finished with value: 0.8181846713953925 and parameters: {'learning_rate': 0.009020746647144516, 'n_estimators': 164, 'subsample': 0.9387099811549054, 'min_samples_split': 8, 'min_samples_leaf': 2, 'max_depth': 7, 'min_impurity_decrease': 0.7765932273413858, 'max_features': 17}. Best is trial 213 with value: 0.8238026489234826.\u001b[0m\n",
      "\u001b[32m[I 2021-12-21 20:55:29,984]\u001b[0m Trial 387 finished with value: 0.8148327160881301 and parameters: {'learning_rate': 0.009187711397039468, 'n_estimators': 167, 'subsample': 0.9353503664494838, 'min_samples_split': 7, 'min_samples_leaf': 2, 'max_depth': 7, 'min_impurity_decrease': 0.7809311310403444, 'max_features': 18}. Best is trial 213 with value: 0.8238026489234826.\u001b[0m\n",
      "\u001b[32m[I 2021-12-21 20:55:30,947]\u001b[0m Trial 388 finished with value: 0.8215554579122466 and parameters: {'learning_rate': 0.008799846895211924, 'n_estimators': 158, 'subsample': 0.9425304529491207, 'min_samples_split': 10, 'min_samples_leaf': 3, 'max_depth': 7, 'min_impurity_decrease': 0.7750519602943313, 'max_features': 18}. Best is trial 213 with value: 0.8238026489234826.\u001b[0m\n",
      "\u001b[32m[I 2021-12-21 20:55:31,912]\u001b[0m Trial 389 finished with value: 0.8170799070993662 and parameters: {'learning_rate': 0.008886570205294302, 'n_estimators': 160, 'subsample': 0.9280164509683706, 'min_samples_split': 7, 'min_samples_leaf': 2, 'max_depth': 7, 'min_impurity_decrease': 0.7708482326141552, 'max_features': 18}. Best is trial 213 with value: 0.8238026489234826.\u001b[0m\n",
      "\u001b[32m[I 2021-12-21 20:55:32,853]\u001b[0m Trial 390 finished with value: 0.8170610758897746 and parameters: {'learning_rate': 0.008747718578530747, 'n_estimators': 159, 'subsample': 0.9376729533000236, 'min_samples_split': 8, 'min_samples_leaf': 3, 'max_depth': 7, 'min_impurity_decrease': 0.7820111690050086, 'max_features': 17}. Best is trial 213 with value: 0.8238026489234826.\u001b[0m\n",
      "\u001b[32m[I 2021-12-21 20:55:33,740]\u001b[0m Trial 391 finished with value: 0.8137153976523759 and parameters: {'learning_rate': 0.008804117686081239, 'n_estimators': 155, 'subsample': 0.9431422458263008, 'min_samples_split': 10, 'min_samples_leaf': 2, 'max_depth': 7, 'min_impurity_decrease': 0.849380850487427, 'max_features': 16}. Best is trial 213 with value: 0.8238026489234826.\u001b[0m\n",
      "\u001b[32m[I 2021-12-21 20:55:34,700]\u001b[0m Trial 392 finished with value: 0.8204506936162199 and parameters: {'learning_rate': 0.009114857295275699, 'n_estimators': 160, 'subsample': 0.9325026221613617, 'min_samples_split': 8, 'min_samples_leaf': 2, 'max_depth': 7, 'min_impurity_decrease': 0.7747042580196863, 'max_features': 18}. Best is trial 213 with value: 0.8238026489234826.\u001b[0m\n",
      "\u001b[32m[I 2021-12-21 20:55:35,504]\u001b[0m Trial 393 finished with value: 0.8013684012303056 and parameters: {'learning_rate': 0.008537032261198813, 'n_estimators': 156, 'subsample': 0.9437158303469776, 'min_samples_split': 10, 'min_samples_leaf': 3, 'max_depth': 3, 'min_impurity_decrease': 0.7794768685306201, 'max_features': 18}. Best is trial 213 with value: 0.8238026489234826.\u001b[0m\n",
      "\u001b[32m[I 2021-12-21 20:55:36,322]\u001b[0m Trial 394 finished with value: 0.811461929571276 and parameters: {'learning_rate': 0.008663110821529303, 'n_estimators': 152, 'subsample': 0.7664410633451214, 'min_samples_split': 9, 'min_samples_leaf': 3, 'max_depth': 4, 'min_impurity_decrease': 0.7912182553641671, 'max_features': 18}. Best is trial 213 with value: 0.8238026489234826.\u001b[0m\n",
      "\u001b[32m[I 2021-12-21 20:55:37,290]\u001b[0m Trial 395 finished with value: 0.8193082669010107 and parameters: {'learning_rate': 0.008902601520333462, 'n_estimators': 164, 'subsample': 0.9394390101757112, 'min_samples_split': 7, 'min_samples_leaf': 2, 'max_depth': 7, 'min_impurity_decrease': 0.7845606778564951, 'max_features': 17}. Best is trial 213 with value: 0.8238026489234826.\u001b[0m\n"
     ]
    },
    {
     "name": "stderr",
     "output_type": "stream",
     "text": [
      "\u001b[32m[I 2021-12-21 20:55:38,293]\u001b[0m Trial 396 finished with value: 0.817079907099366 and parameters: {'learning_rate': 0.009262756068036905, 'n_estimators': 173, 'subsample': 0.9348392297098376, 'min_samples_split': 6, 'min_samples_leaf': 2, 'max_depth': 7, 'min_impurity_decrease': 0.77153645839194, 'max_features': 18}. Best is trial 213 with value: 0.8238026489234826.\u001b[0m\n",
      "\u001b[32m[I 2021-12-21 20:55:39,287]\u001b[0m Trial 397 finished with value: 0.8193082669010107 and parameters: {'learning_rate': 0.008499567484484142, 'n_estimators': 164, 'subsample': 0.9391157089304174, 'min_samples_split': 8, 'min_samples_leaf': 2, 'max_depth': 7, 'min_impurity_decrease': 0.7681352479311384, 'max_features': 18}. Best is trial 213 with value: 0.8238026489234826.\u001b[0m\n",
      "\u001b[32m[I 2021-12-21 20:55:40,238]\u001b[0m Trial 398 finished with value: 0.817079907099366 and parameters: {'learning_rate': 0.009034809151900846, 'n_estimators': 158, 'subsample': 0.9499488117521464, 'min_samples_split': 8, 'min_samples_leaf': 3, 'max_depth': 7, 'min_impurity_decrease': 0.765125987178348, 'max_features': 18}. Best is trial 213 with value: 0.8238026489234826.\u001b[0m\n",
      "\u001b[32m[I 2021-12-21 20:55:41,253]\u001b[0m Trial 399 finished with value: 0.8137028435126483 and parameters: {'learning_rate': 0.005126196332489888, 'n_estimators': 149, 'subsample': 0.9416217895774027, 'min_samples_split': 7, 'min_samples_leaf': 2, 'max_depth': 7, 'min_impurity_decrease': 0.7744154629563408, 'max_features': 18}. Best is trial 213 with value: 0.8238026489234826.\u001b[0m\n",
      "\u001b[32m[I 2021-12-21 20:55:42,219]\u001b[0m Trial 400 finished with value: 0.8181909484652564 and parameters: {'learning_rate': 0.009031469971281675, 'n_estimators': 166, 'subsample': 0.9253611015181887, 'min_samples_split': 7, 'min_samples_leaf': 2, 'max_depth': 7, 'min_impurity_decrease': 0.7720403673950885, 'max_features': 17}. Best is trial 213 with value: 0.8238026489234826.\u001b[0m\n",
      "\u001b[32m[I 2021-12-21 20:55:43,149]\u001b[0m Trial 401 finished with value: 0.8204381394764925 and parameters: {'learning_rate': 0.009273399168466836, 'n_estimators': 157, 'subsample': 0.9451401203262436, 'min_samples_split': 9, 'min_samples_leaf': 3, 'max_depth': 7, 'min_impurity_decrease': 0.7791230544144483, 'max_features': 18}. Best is trial 213 with value: 0.8238026489234826.\u001b[0m\n",
      "\u001b[32m[I 2021-12-21 20:55:44,056]\u001b[0m Trial 402 finished with value: 0.8148327160881299 and parameters: {'learning_rate': 0.008133512576778868, 'n_estimators': 152, 'subsample': 0.9340333759754629, 'min_samples_split': 9, 'min_samples_leaf': 2, 'max_depth': 7, 'min_impurity_decrease': 0.8864041421702407, 'max_features': 18}. Best is trial 213 with value: 0.8238026489234826.\u001b[0m\n",
      "\u001b[32m[I 2021-12-21 20:55:45,068]\u001b[0m Trial 403 finished with value: 0.8182035026049841 and parameters: {'learning_rate': 0.009333238172941497, 'n_estimators': 169, 'subsample': 0.9520939009417758, 'min_samples_split': 8, 'min_samples_leaf': 3, 'max_depth': 7, 'min_impurity_decrease': 0.7641042218683135, 'max_features': 19}. Best is trial 213 with value: 0.8238026489234826.\u001b[0m\n",
      "\u001b[32m[I 2021-12-21 20:55:45,902]\u001b[0m Trial 404 finished with value: 0.8148389931579938 and parameters: {'learning_rate': 0.00876248765122987, 'n_estimators': 147, 'subsample': 0.9185022659540525, 'min_samples_split': 11, 'min_samples_leaf': 2, 'max_depth': 7, 'min_impurity_decrease': 0.9504496313131817, 'max_features': 17}. Best is trial 213 with value: 0.8238026489234826.\u001b[0m\n",
      "\u001b[32m[I 2021-12-21 20:55:46,652]\u001b[0m Trial 405 finished with value: 0.8170422446801833 and parameters: {'learning_rate': 0.006725931038454482, 'n_estimators': 144, 'subsample': 0.9472953813325163, 'min_samples_split': 9, 'min_samples_leaf': 2, 'max_depth': 7, 'min_impurity_decrease': 0.7686318290333424, 'max_features': 8}. Best is trial 213 with value: 0.8238026489234826.\u001b[0m\n",
      "\u001b[32m[I 2021-12-21 20:55:47,827]\u001b[0m Trial 406 finished with value: 0.617287050404871 and parameters: {'learning_rate': 0.00125703676942532, 'n_estimators': 161, 'subsample': 0.9522165195189146, 'min_samples_split': 7, 'min_samples_leaf': 3, 'max_depth': 7, 'min_impurity_decrease': 0.7870156895082989, 'max_features': 18}. Best is trial 213 with value: 0.8238026489234826.\u001b[0m\n",
      "\u001b[32m[I 2021-12-21 20:55:48,765]\u001b[0m Trial 407 finished with value: 0.8204318624066287 and parameters: {'learning_rate': 0.008870412030569966, 'n_estimators': 155, 'subsample': 0.9408277427922019, 'min_samples_split': 10, 'min_samples_leaf': 3, 'max_depth': 7, 'min_impurity_decrease': 0.7763891588248039, 'max_features': 18}. Best is trial 213 with value: 0.8238026489234826.\u001b[0m\n",
      "\u001b[32m[I 2021-12-21 20:55:49,635]\u001b[0m Trial 408 finished with value: 0.8092147385600402 and parameters: {'learning_rate': 0.008406369454163171, 'n_estimators': 156, 'subsample': 0.9291118985721767, 'min_samples_split': 9, 'min_samples_leaf': 3, 'max_depth': 7, 'min_impurity_decrease': 0.7768190934232256, 'max_features': 13}. Best is trial 213 with value: 0.8238026489234826.\u001b[0m\n",
      "\u001b[32m[I 2021-12-21 20:55:50,614]\u001b[0m Trial 409 finished with value: 0.8193145439708743 and parameters: {'learning_rate': 0.009150075675497204, 'n_estimators': 163, 'subsample': 0.9387982854183384, 'min_samples_split': 10, 'min_samples_leaf': 3, 'max_depth': 7, 'min_impurity_decrease': 0.7843365227859596, 'max_features': 19}. Best is trial 213 with value: 0.8238026489234826.\u001b[0m\n",
      "\u001b[32m[I 2021-12-21 20:55:51,571]\u001b[0m Trial 410 finished with value: 0.8193082669010107 and parameters: {'learning_rate': 0.008624343662033582, 'n_estimators': 160, 'subsample': 0.9427978995770231, 'min_samples_split': 6, 'min_samples_leaf': 2, 'max_depth': 7, 'min_impurity_decrease': 0.7725662578163108, 'max_features': 17}. Best is trial 213 with value: 0.8238026489234826.\u001b[0m\n",
      "\u001b[32m[I 2021-12-21 20:55:52,487]\u001b[0m Trial 411 finished with value: 0.82045069361622 and parameters: {'learning_rate': 0.0093114740216232, 'n_estimators': 149, 'subsample': 0.9485334156947673, 'min_samples_split': 8, 'min_samples_leaf': 2, 'max_depth': 7, 'min_impurity_decrease': 0.7628718830182972, 'max_features': 18}. Best is trial 213 with value: 0.8238026489234826.\u001b[0m\n",
      "\u001b[32m[I 2021-12-21 20:55:53,417]\u001b[0m Trial 412 finished with value: 0.8215554579122466 and parameters: {'learning_rate': 0.008942671596647765, 'n_estimators': 153, 'subsample': 0.933688606627521, 'min_samples_split': 9, 'min_samples_leaf': 2, 'max_depth': 7, 'min_impurity_decrease': 0.7696825550311461, 'max_features': 18}. Best is trial 213 with value: 0.8238026489234826.\u001b[0m\n",
      "\u001b[32m[I 2021-12-21 20:55:54,355]\u001b[0m Trial 413 finished with value: 0.8204318624066286 and parameters: {'learning_rate': 0.00898858797676331, 'n_estimators': 154, 'subsample': 0.9310067530221235, 'min_samples_split': 9, 'min_samples_leaf': 2, 'max_depth': 7, 'min_impurity_decrease': 0.7807970883062594, 'max_features': 18}. Best is trial 213 with value: 0.8238026489234826.\u001b[0m\n",
      "\u001b[32m[I 2021-12-21 20:55:55,303]\u001b[0m Trial 414 finished with value: 0.8215554579122465 and parameters: {'learning_rate': 0.008287445958753314, 'n_estimators': 146, 'subsample': 0.9462862088876131, 'min_samples_split': 8, 'min_samples_leaf': 2, 'max_depth': 7, 'min_impurity_decrease': 0.7694225458273314, 'max_features': 19}. Best is trial 213 with value: 0.8238026489234826.\u001b[0m\n",
      "\u001b[32m[I 2021-12-21 20:55:56,202]\u001b[0m Trial 415 finished with value: 0.8170610758897746 and parameters: {'learning_rate': 0.008600121734102073, 'n_estimators': 150, 'subsample': 0.8501331958973707, 'min_samples_split': 8, 'min_samples_leaf': 3, 'max_depth': 7, 'min_impurity_decrease': 0.7762743806513689, 'max_features': 18}. Best is trial 213 with value: 0.8238026489234826.\u001b[0m\n",
      "\u001b[32m[I 2021-12-21 20:55:57,120]\u001b[0m Trial 416 finished with value: 0.8181846713953927 and parameters: {'learning_rate': 0.009081400301467374, 'n_estimators': 152, 'subsample': 0.8959642208064865, 'min_samples_split': 8, 'min_samples_leaf': 2, 'max_depth': 7, 'min_impurity_decrease': 0.7676123694077578, 'max_features': 17}. Best is trial 213 with value: 0.8238026489234826.\u001b[0m\n",
      "\u001b[32m[I 2021-12-21 20:55:57,797]\u001b[0m Trial 417 finished with value: 0.8159374803841566 and parameters: {'learning_rate': 0.00927796100512416, 'n_estimators': 100, 'subsample': 0.9337859005731564, 'min_samples_split': 7, 'min_samples_leaf': 2, 'max_depth': 7, 'min_impurity_decrease': 0.8629944324373033, 'max_features': 19}. Best is trial 213 with value: 0.8238026489234826.\u001b[0m\n"
     ]
    },
    {
     "name": "stderr",
     "output_type": "stream",
     "text": [
      "\u001b[32m[I 2021-12-21 20:55:58,733]\u001b[0m Trial 418 finished with value: 0.8215554579122466 and parameters: {'learning_rate': 0.008783162061710419, 'n_estimators': 154, 'subsample': 0.9427255896576542, 'min_samples_split': 10, 'min_samples_leaf': 3, 'max_depth': 7, 'min_impurity_decrease': 0.7742649598933085, 'max_features': 18}. Best is trial 213 with value: 0.8238026489234826.\u001b[0m\n",
      "\u001b[32m[I 2021-12-21 20:55:59,617]\u001b[0m Trial 419 finished with value: 0.8170610758897746 and parameters: {'learning_rate': 0.008782473269896299, 'n_estimators': 143, 'subsample': 0.8363771790166957, 'min_samples_split': 9, 'min_samples_leaf': 2, 'max_depth': 7, 'min_impurity_decrease': 0.771332136760455, 'max_features': 19}. Best is trial 213 with value: 0.8238026489234826.\u001b[0m\n",
      "\u001b[32m[I 2021-12-21 20:56:00,536]\u001b[0m Trial 420 finished with value: 0.8193082669010107 and parameters: {'learning_rate': 0.008900799410851791, 'n_estimators': 148, 'subsample': 0.9366619173075736, 'min_samples_split': 6, 'min_samples_leaf': 2, 'max_depth': 7, 'min_impurity_decrease': 0.7661081843666564, 'max_features': 18}. Best is trial 213 with value: 0.8238026489234826.\u001b[0m\n",
      "\u001b[32m[I 2021-12-21 20:56:01,600]\u001b[0m Trial 421 finished with value: 0.8047015253279769 and parameters: {'learning_rate': 0.004170899677752564, 'n_estimators': 159, 'subsample': 0.9419675458976035, 'min_samples_split': 10, 'min_samples_leaf': 3, 'max_depth': 7, 'min_impurity_decrease': 0.7785726736684347, 'max_features': 17}. Best is trial 213 with value: 0.8238026489234826.\u001b[0m\n",
      "\u001b[32m[I 2021-12-21 20:56:02,508]\u001b[0m Trial 422 finished with value: 0.8181846713953927 and parameters: {'learning_rate': 0.009369779693112581, 'n_estimators': 143, 'subsample': 0.9568238307202933, 'min_samples_split': 8, 'min_samples_leaf': 2, 'max_depth': 7, 'min_impurity_decrease': 0.7610071881544453, 'max_features': 19}. Best is trial 213 with value: 0.8238026489234826.\u001b[0m\n",
      "\u001b[32m[I 2021-12-21 20:56:03,452]\u001b[0m Trial 423 finished with value: 0.8092084614901763 and parameters: {'learning_rate': 0.008638039788187925, 'n_estimators': 167, 'subsample': 0.9529442088602924, 'min_samples_split': 10, 'min_samples_leaf': 13, 'max_depth': 7, 'min_impurity_decrease': 0.7615580421549041, 'max_features': 18}. Best is trial 213 with value: 0.8238026489234826.\u001b[0m\n",
      "\u001b[32m[I 2021-12-21 20:56:04,304]\u001b[0m Trial 424 finished with value: 0.8114556525014123 and parameters: {'learning_rate': 0.008480096500786002, 'n_estimators': 151, 'subsample': 0.9488161008190847, 'min_samples_split': 9, 'min_samples_leaf': 18, 'max_depth': 7, 'min_impurity_decrease': 0.7849979295898257, 'max_features': 18}. Best is trial 213 with value: 0.8238026489234826.\u001b[0m\n",
      "\u001b[32m[I 2021-12-21 20:56:05,197]\u001b[0m Trial 425 finished with value: 0.817079907099366 and parameters: {'learning_rate': 0.009126315089527078, 'n_estimators': 140, 'subsample': 0.9241745160383261, 'min_samples_split': 11, 'min_samples_leaf': 2, 'max_depth': 7, 'min_impurity_decrease': 0.7660664569039227, 'max_features': 19}. Best is trial 213 with value: 0.8238026489234826.\u001b[0m\n",
      "\u001b[32m[I 2021-12-21 20:56:06,104]\u001b[0m Trial 426 finished with value: 0.8204318624066286 and parameters: {'learning_rate': 0.009231095686844153, 'n_estimators': 146, 'subsample': 0.9576375077509648, 'min_samples_split': 6, 'min_samples_leaf': 4, 'max_depth': 7, 'min_impurity_decrease': 0.7611110868133766, 'max_features': 19}. Best is trial 213 with value: 0.8238026489234826.\u001b[0m\n",
      "\u001b[32m[I 2021-12-21 20:56:07,053]\u001b[0m Trial 427 finished with value: 0.8125855250768941 and parameters: {'learning_rate': 0.009057174596200937, 'n_estimators': 163, 'subsample': 0.9388327575642762, 'min_samples_split': 10, 'min_samples_leaf': 3, 'max_depth': 7, 'min_impurity_decrease': 0.7735025971368888, 'max_features': 16}. Best is trial 213 with value: 0.8238026489234826.\u001b[0m\n",
      "\u001b[32m[I 2021-12-21 20:56:07,434]\u001b[0m Trial 428 finished with value: 0.7990647165902957 and parameters: {'learning_rate': 0.008998500905394965, 'n_estimators': 45, 'subsample': 0.9347856911334986, 'min_samples_split': 7, 'min_samples_leaf': 2, 'max_depth': 7, 'min_impurity_decrease': 0.7705175828691955, 'max_features': 18}. Best is trial 213 with value: 0.8238026489234826.\u001b[0m\n",
      "\u001b[32m[I 2021-12-21 20:56:08,365]\u001b[0m Trial 429 finished with value: 0.8181846713953927 and parameters: {'learning_rate': 0.008834787818519362, 'n_estimators': 154, 'subsample': 0.9468462315239892, 'min_samples_split': 11, 'min_samples_leaf': 3, 'max_depth': 7, 'min_impurity_decrease': 0.7744491274970324, 'max_features': 18}. Best is trial 213 with value: 0.8238026489234826.\u001b[0m\n",
      "\u001b[32m[I 2021-12-21 20:56:09,292]\u001b[0m Trial 430 finished with value: 0.8204318624066286 and parameters: {'learning_rate': 0.007997471313353223, 'n_estimators': 141, 'subsample': 0.9514302942436964, 'min_samples_split': 7, 'min_samples_leaf': 2, 'max_depth': 7, 'min_impurity_decrease': 0.7656132677763768, 'max_features': 19}. Best is trial 213 with value: 0.8238026489234826.\u001b[0m\n",
      "\u001b[32m[I 2021-12-21 20:56:10,165]\u001b[0m Trial 431 finished with value: 0.8125855250768941 and parameters: {'learning_rate': 0.008350182363983893, 'n_estimators': 150, 'subsample': 0.9319070147719356, 'min_samples_split': 9, 'min_samples_leaf': 2, 'max_depth': 7, 'min_impurity_decrease': 0.904073712462783, 'max_features': 17}. Best is trial 213 with value: 0.8238026489234826.\u001b[0m\n",
      "\u001b[32m[I 2021-12-21 20:56:11,110]\u001b[0m Trial 432 finished with value: 0.817079907099366 and parameters: {'learning_rate': 0.009343556202913663, 'n_estimators': 158, 'subsample': 0.9395049736391983, 'min_samples_split': 10, 'min_samples_leaf': 2, 'max_depth': 7, 'min_impurity_decrease': 0.7746616684957077, 'max_features': 18}. Best is trial 213 with value: 0.8238026489234826.\u001b[0m\n",
      "\u001b[32m[I 2021-12-21 20:56:12,027]\u001b[0m Trial 433 finished with value: 0.8170861841692298 and parameters: {'learning_rate': 0.008913466322863089, 'n_estimators': 146, 'subsample': 0.9279395852967037, 'min_samples_split': 8, 'min_samples_leaf': 2, 'max_depth': 6, 'min_impurity_decrease': 0.7694091274112337, 'max_features': 19}. Best is trial 213 with value: 0.8238026489234826.\u001b[0m\n",
      "\u001b[32m[I 2021-12-21 20:56:12,852]\u001b[0m Trial 434 finished with value: 0.8092084614901763 and parameters: {'learning_rate': 0.009381182517158148, 'n_estimators': 139, 'subsample': 0.954905490978568, 'min_samples_split': 8, 'min_samples_leaf': 14, 'max_depth': 7, 'min_impurity_decrease': 0.7600312940273553, 'max_features': 19}. Best is trial 213 with value: 0.8238026489234826.\u001b[0m\n",
      "\u001b[32m[I 2021-12-21 20:56:13,800]\u001b[0m Trial 435 finished with value: 0.8215554579122466 and parameters: {'learning_rate': 0.00862683635807167, 'n_estimators': 157, 'subsample': 0.9378741523153739, 'min_samples_split': 9, 'min_samples_leaf': 3, 'max_depth': 7, 'min_impurity_decrease': 0.7807558653215838, 'max_features': 18}. Best is trial 213 with value: 0.8238026489234826.\u001b[0m\n",
      "\u001b[32m[I 2021-12-21 20:56:14,672]\u001b[0m Trial 436 finished with value: 0.810344611135522 and parameters: {'learning_rate': 0.008670462448374341, 'n_estimators': 141, 'subsample': 0.9497624748019614, 'min_samples_split': 8, 'min_samples_leaf': 4, 'max_depth': 5, 'min_impurity_decrease': 0.7911572417212497, 'max_features': 19}. Best is trial 213 with value: 0.8238026489234826.\u001b[0m\n",
      "\u001b[32m[I 2021-12-21 20:56:15,628]\u001b[0m Trial 437 finished with value: 0.8069236080597577 and parameters: {'learning_rate': 0.0032354167570703514, 'n_estimators': 157, 'subsample': 0.9422607355768451, 'min_samples_split': 10, 'min_samples_leaf': 3, 'max_depth': 7, 'min_impurity_decrease': 0.7822336626040893, 'max_features': 12}. Best is trial 213 with value: 0.8238026489234826.\u001b[0m\n",
      "\u001b[32m[I 2021-12-21 20:56:16,532]\u001b[0m Trial 438 finished with value: 0.8137153976523758 and parameters: {'learning_rate': 0.008776241850560034, 'n_estimators': 162, 'subsample': 0.8896401456816428, 'min_samples_split': 7, 'min_samples_leaf': 3, 'max_depth': 7, 'min_impurity_decrease': 0.9710782315005512, 'max_features': 18}. Best is trial 213 with value: 0.8238026489234826.\u001b[0m\n",
      "\u001b[32m[I 2021-12-21 20:56:17,457]\u001b[0m Trial 439 finished with value: 0.8181846713953927 and parameters: {'learning_rate': 0.008351582620053213, 'n_estimators': 148, 'subsample': 0.9459215027060647, 'min_samples_split': 5, 'min_samples_leaf': 2, 'max_depth': 7, 'min_impurity_decrease': 0.7649656482333406, 'max_features': 17}. Best is trial 213 with value: 0.8238026489234826.\u001b[0m\n"
     ]
    },
    {
     "name": "stderr",
     "output_type": "stream",
     "text": [
      "\u001b[32m[I 2021-12-21 20:56:18,411]\u001b[0m Trial 440 finished with value: 0.8204318624066286 and parameters: {'learning_rate': 0.0085600851754, 'n_estimators': 158, 'subsample': 0.9371953076362594, 'min_samples_split': 9, 'min_samples_leaf': 3, 'max_depth': 7, 'min_impurity_decrease': 0.7895790866594372, 'max_features': 18}. Best is trial 213 with value: 0.8238026489234826.\u001b[0m\n",
      "\u001b[32m[I 2021-12-21 20:56:19,400]\u001b[0m Trial 441 finished with value: 0.8159563115937478 and parameters: {'learning_rate': 0.008752100942983601, 'n_estimators': 166, 'subsample': 0.9444274939140839, 'min_samples_split': 7, 'min_samples_leaf': 3, 'max_depth': 7, 'min_impurity_decrease': 0.7794474076523237, 'max_features': 18}. Best is trial 213 with value: 0.8238026489234826.\u001b[0m\n",
      "\u001b[32m[I 2021-12-21 20:56:20,247]\u001b[0m Trial 442 finished with value: 0.8181783943255289 and parameters: {'learning_rate': 0.008035593201624737, 'n_estimators': 145, 'subsample': 0.9539677609311942, 'min_samples_split': 8, 'min_samples_leaf': 4, 'max_depth': 7, 'min_impurity_decrease': 0.7657129690266277, 'max_features': 14}. Best is trial 213 with value: 0.8238026489234826.\u001b[0m\n",
      "\u001b[32m[I 2021-12-21 20:56:20,859]\u001b[0m Trial 443 finished with value: 0.8159437574540205 and parameters: {'learning_rate': 0.00890420878900458, 'n_estimators': 88, 'subsample': 0.8166606529538433, 'min_samples_split': 9, 'min_samples_leaf': 2, 'max_depth': 7, 'min_impurity_decrease': 0.7728722904997638, 'max_features': 19}. Best is trial 213 with value: 0.8238026489234826.\u001b[0m\n",
      "\u001b[32m[I 2021-12-21 20:56:21,709]\u001b[0m Trial 444 finished with value: 0.8114619295712762 and parameters: {'learning_rate': 0.009120278676871233, 'n_estimators': 149, 'subsample': 0.9430814047141716, 'min_samples_split': 7, 'min_samples_leaf': 12, 'max_depth': 7, 'min_impurity_decrease': 0.8242003493818824, 'max_features': 18}. Best is trial 213 with value: 0.8238026489234826.\u001b[0m\n",
      "\u001b[32m[I 2021-12-21 20:56:22,381]\u001b[0m Trial 445 finished with value: 0.8103132257862029 and parameters: {'learning_rate': 0.009084634130063187, 'n_estimators': 154, 'subsample': 0.9144150783278475, 'min_samples_split': 8, 'min_samples_leaf': 2, 'max_depth': 7, 'min_impurity_decrease': 0.7772729315041633, 'max_features': 5}. Best is trial 213 with value: 0.8238026489234826.\u001b[0m\n",
      "\u001b[32m[I 2021-12-21 20:56:23,338]\u001b[0m Trial 446 finished with value: 0.8170610758897748 and parameters: {'learning_rate': 0.007385973847713479, 'n_estimators': 153, 'subsample': 0.9600520258175395, 'min_samples_split': 10, 'min_samples_leaf': 3, 'max_depth': 7, 'min_impurity_decrease': 0.7711393023874601, 'max_features': 17}. Best is trial 213 with value: 0.8238026489234826.\u001b[0m\n",
      "\u001b[32m[I 2021-12-21 20:56:24,308]\u001b[0m Trial 447 finished with value: 0.815956311593748 and parameters: {'learning_rate': 0.009206492196935288, 'n_estimators': 161, 'subsample': 0.9438684365236731, 'min_samples_split': 10, 'min_samples_leaf': 3, 'max_depth': 7, 'min_impurity_decrease': 0.7758844853163297, 'max_features': 19}. Best is trial 213 with value: 0.8238026489234826.\u001b[0m\n",
      "\u001b[32m[I 2021-12-21 20:56:25,183]\u001b[0m Trial 448 finished with value: 0.8215554579122466 and parameters: {'learning_rate': 0.009289612347665477, 'n_estimators': 138, 'subsample': 0.9482403211272455, 'min_samples_split': 8, 'min_samples_leaf': 4, 'max_depth': 7, 'min_impurity_decrease': 0.7599046916030003, 'max_features': 19}. Best is trial 213 with value: 0.8238026489234826.\u001b[0m\n",
      "\u001b[32m[I 2021-12-21 20:56:26,011]\u001b[0m Trial 449 finished with value: 0.8114556525014123 and parameters: {'learning_rate': 0.009411132012799202, 'n_estimators': 138, 'subsample': 0.9579410036594822, 'min_samples_split': 8, 'min_samples_leaf': 16, 'max_depth': 7, 'min_impurity_decrease': 0.7610452068594158, 'max_features': 19}. Best is trial 213 with value: 0.8238026489234826.\u001b[0m\n",
      "\u001b[32m[I 2021-12-21 20:56:27,033]\u001b[0m Trial 450 finished with value: 0.812591802146758 and parameters: {'learning_rate': 0.009459973585910986, 'n_estimators': 175, 'subsample': 0.9304342766111029, 'min_samples_split': 9, 'min_samples_leaf': 4, 'max_depth': 7, 'min_impurity_decrease': 0.7582618423796659, 'max_features': 19}. Best is trial 213 with value: 0.8238026489234826.\u001b[0m\n",
      "\u001b[32m[I 2021-12-21 20:56:27,927]\u001b[0m Trial 451 finished with value: 0.8181846713953927 and parameters: {'learning_rate': 0.00826230904028677, 'n_estimators': 143, 'subsample': 0.9354626384776757, 'min_samples_split': 9, 'min_samples_leaf': 4, 'max_depth': 7, 'min_impurity_decrease': 0.8048754480384123, 'max_features': 19}. Best is trial 213 with value: 0.8238026489234826.\u001b[0m\n",
      "\u001b[32m[I 2021-12-21 20:56:28,773]\u001b[0m Trial 452 finished with value: 0.8148264390182662 and parameters: {'learning_rate': 0.00865565903459299, 'n_estimators': 168, 'subsample': 0.9380552871661456, 'min_samples_split': 7, 'min_samples_leaf': 3, 'max_depth': 7, 'min_impurity_decrease': 0.8347781707185861, 'max_features': 11}. Best is trial 213 with value: 0.8238026489234826.\u001b[0m\n",
      "\u001b[32m[I 2021-12-21 20:56:29,701]\u001b[0m Trial 453 finished with value: 0.8204318624066286 and parameters: {'learning_rate': 0.00896945877340509, 'n_estimators': 150, 'subsample': 0.9531867311158224, 'min_samples_split': 6, 'min_samples_leaf': 2, 'max_depth': 7, 'min_impurity_decrease': 0.7675006050804671, 'max_features': 18}. Best is trial 213 with value: 0.8238026489234826.\u001b[0m\n",
      "\u001b[32m[I 2021-12-21 20:56:30,568]\u001b[0m Trial 454 finished with value: 0.8181909484652564 and parameters: {'learning_rate': 0.009262233951667415, 'n_estimators': 138, 'subsample': 0.9311622936191805, 'min_samples_split': 8, 'min_samples_leaf': 3, 'max_depth': 7, 'min_impurity_decrease': 0.7963089738520397, 'max_features': 19}. Best is trial 213 with value: 0.8238026489234826.\u001b[0m\n",
      "\u001b[32m[I 2021-12-21 20:56:31,494]\u001b[0m Trial 455 finished with value: 0.8204318624066286 and parameters: {'learning_rate': 0.008479685152742975, 'n_estimators': 144, 'subsample': 0.9461761601004238, 'min_samples_split': 9, 'min_samples_leaf': 2, 'max_depth': 7, 'min_impurity_decrease': 0.7648397809416584, 'max_features': 19}. Best is trial 213 with value: 0.8238026489234826.\u001b[0m\n",
      "\u001b[32m[I 2021-12-21 20:56:32,443]\u001b[0m Trial 456 finished with value: 0.8193145439708743 and parameters: {'learning_rate': 0.009137072835314787, 'n_estimators': 159, 'subsample': 0.9497642044377735, 'min_samples_split': 8, 'min_samples_leaf': 4, 'max_depth': 7, 'min_impurity_decrease': 0.7593771679793724, 'max_features': 18}. Best is trial 213 with value: 0.8238026489234826.\u001b[0m\n",
      "\u001b[32m[I 2021-12-21 20:56:33,369]\u001b[0m Trial 457 finished with value: 0.8193082669010107 and parameters: {'learning_rate': 0.008790560783432542, 'n_estimators': 155, 'subsample': 0.9353531199735292, 'min_samples_split': 10, 'min_samples_leaf': 2, 'max_depth': 7, 'min_impurity_decrease': 0.7798445974976728, 'max_features': 17}. Best is trial 213 with value: 0.8238026489234826.\u001b[0m\n",
      "\u001b[32m[I 2021-12-21 20:56:34,292]\u001b[0m Trial 458 finished with value: 0.8204318624066286 and parameters: {'learning_rate': 0.008454785807491212, 'n_estimators': 146, 'subsample': 0.9422339887114067, 'min_samples_split': 7, 'min_samples_leaf': 2, 'max_depth': 7, 'min_impurity_decrease': 0.7854502371558746, 'max_features': 18}. Best is trial 213 with value: 0.8238026489234826.\u001b[0m\n",
      "\u001b[32m[I 2021-12-21 20:56:35,228]\u001b[0m Trial 459 finished with value: 0.8193208210407382 and parameters: {'learning_rate': 0.008900053675698422, 'n_estimators': 154, 'subsample': 0.9248540843707761, 'min_samples_split': 9, 'min_samples_leaf': 2, 'max_depth': 7, 'min_impurity_decrease': 0.7743593203023246, 'max_features': 18}. Best is trial 213 with value: 0.8238026489234826.\u001b[0m\n",
      "\u001b[32m[I 2021-12-21 20:56:36,158]\u001b[0m Trial 460 finished with value: 0.8204318624066287 and parameters: {'learning_rate': 0.008715665436301076, 'n_estimators': 152, 'subsample': 0.9594721954434099, 'min_samples_split': 10, 'min_samples_leaf': 3, 'max_depth': 7, 'min_impurity_decrease': 0.7695085471602219, 'max_features': 18}. Best is trial 213 with value: 0.8238026489234826.\u001b[0m\n",
      "\u001b[32m[I 2021-12-21 20:56:37,073]\u001b[0m Trial 461 finished with value: 0.8159374803841567 and parameters: {'learning_rate': 0.009271349664817567, 'n_estimators': 155, 'subsample': 0.9480774144157352, 'min_samples_split': 9, 'min_samples_leaf': 4, 'max_depth': 7, 'min_impurity_decrease': 0.7709447576900755, 'max_features': 17}. Best is trial 213 with value: 0.8238026489234826.\u001b[0m\n"
     ]
    },
    {
     "name": "stderr",
     "output_type": "stream",
     "text": [
      "\u001b[32m[I 2021-12-21 20:56:37,942]\u001b[0m Trial 462 finished with value: 0.8137028435126483 and parameters: {'learning_rate': 0.008973783716833642, 'n_estimators': 149, 'subsample': 0.9419098900622047, 'min_samples_split': 11, 'min_samples_leaf': 11, 'max_depth': 7, 'min_impurity_decrease': 0.7713508460272814, 'max_features': 18}. Best is trial 213 with value: 0.8238026489234826.\u001b[0m\n",
      "\u001b[32m[I 2021-12-21 20:56:38,886]\u001b[0m Trial 463 finished with value: 0.815956311593748 and parameters: {'learning_rate': 0.009418180862784026, 'n_estimators': 161, 'subsample': 0.9373151073532977, 'min_samples_split': 12, 'min_samples_leaf': 3, 'max_depth': 7, 'min_impurity_decrease': 0.7851168994643094, 'max_features': 18}. Best is trial 213 with value: 0.8238026489234826.\u001b[0m\n",
      "\u001b[32m[I 2021-12-21 20:56:39,822]\u001b[0m Trial 464 finished with value: 0.8204318624066287 and parameters: {'learning_rate': 0.008700571693538921, 'n_estimators': 157, 'subsample': 0.927834437821751, 'min_samples_split': 9, 'min_samples_leaf': 2, 'max_depth': 7, 'min_impurity_decrease': 0.7793387512181861, 'max_features': 17}. Best is trial 213 with value: 0.8238026489234826.\u001b[0m\n",
      "\u001b[32m[I 2021-12-21 20:56:40,676]\u001b[0m Trial 465 finished with value: 0.8148138848785387 and parameters: {'learning_rate': 0.008483330172417565, 'n_estimators': 142, 'subsample': 0.879198838239431, 'min_samples_split': 8, 'min_samples_leaf': 8, 'max_depth': 7, 'min_impurity_decrease': 0.7826541484071371, 'max_features': 19}. Best is trial 213 with value: 0.8238026489234826.\u001b[0m\n",
      "\u001b[32m[I 2021-12-21 20:56:41,606]\u001b[0m Trial 466 finished with value: 0.8204318624066286 and parameters: {'learning_rate': 0.008836436468877367, 'n_estimators': 152, 'subsample': 0.9418768225870128, 'min_samples_split': 10, 'min_samples_leaf': 2, 'max_depth': 7, 'min_impurity_decrease': 0.7769930602601596, 'max_features': 18}. Best is trial 213 with value: 0.8238026489234826.\u001b[0m\n",
      "\u001b[32m[I 2021-12-21 20:56:42,226]\u001b[0m Trial 467 finished with value: 0.8013119076015316 and parameters: {'learning_rate': 0.004725493925517255, 'n_estimators': 80, 'subsample': 0.9469868956569826, 'min_samples_split': 9, 'min_samples_leaf': 2, 'max_depth': 7, 'min_impurity_decrease': 0.76982537209263, 'max_features': 18}. Best is trial 213 with value: 0.8238026489234826.\u001b[0m\n",
      "\u001b[32m[I 2021-12-21 20:56:43,080]\u001b[0m Trial 468 finished with value: 0.8159500345238844 and parameters: {'learning_rate': 0.009423838918201241, 'n_estimators': 138, 'subsample': 0.9547248543796416, 'min_samples_split': 8, 'min_samples_leaf': 7, 'max_depth': 7, 'min_impurity_decrease': 0.7592404726162368, 'max_features': 19}. Best is trial 213 with value: 0.8238026489234826.\u001b[0m\n",
      "\u001b[32m[I 2021-12-21 20:56:44,065]\u001b[0m Trial 469 finished with value: 0.8103571652752496 and parameters: {'learning_rate': 0.00910555623336267, 'n_estimators': 170, 'subsample': 0.9468173382280265, 'min_samples_split': 11, 'min_samples_leaf': 3, 'max_depth': 7, 'min_impurity_decrease': 0.9366052985877433, 'max_features': 19}. Best is trial 213 with value: 0.8238026489234826.\u001b[0m\n",
      "\u001b[32m[I 2021-12-21 20:56:45,017]\u001b[0m Trial 470 finished with value: 0.8238026489234824 and parameters: {'learning_rate': 0.008958935943964795, 'n_estimators': 147, 'subsample': 0.9321230462210618, 'min_samples_split': 7, 'min_samples_leaf': 2, 'max_depth': 7, 'min_impurity_decrease': 0.7685691419829326, 'max_features': 18}. Best is trial 213 with value: 0.8238026489234826.\u001b[0m\n",
      "\u001b[32m[I 2021-12-21 20:56:45,924]\u001b[0m Trial 471 finished with value: 0.8193145439708746 and parameters: {'learning_rate': 0.00891813122442248, 'n_estimators': 149, 'subsample': 0.9313524678932485, 'min_samples_split': 7, 'min_samples_leaf': 2, 'max_depth': 7, 'min_impurity_decrease': 0.7748303900558574, 'max_features': 17}. Best is trial 213 with value: 0.8238026489234826.\u001b[0m\n",
      "\u001b[32m[I 2021-12-21 20:56:46,867]\u001b[0m Trial 472 finished with value: 0.8170610758897746 and parameters: {'learning_rate': 0.008197435691248072, 'n_estimators': 152, 'subsample': 0.9211877513363109, 'min_samples_split': 9, 'min_samples_leaf': 3, 'max_depth': 7, 'min_impurity_decrease': 0.7667621316360677, 'max_features': 18}. Best is trial 213 with value: 0.8238026489234826.\u001b[0m\n",
      "\u001b[32m[I 2021-12-21 20:56:47,837]\u001b[0m Trial 473 finished with value: 0.8159563115937478 and parameters: {'learning_rate': 0.009019763237897098, 'n_estimators': 164, 'subsample': 0.9345824893508875, 'min_samples_split': 6, 'min_samples_leaf': 3, 'max_depth': 6, 'min_impurity_decrease': 0.7661585320138636, 'max_features': 18}. Best is trial 213 with value: 0.8238026489234826.\u001b[0m\n",
      "\u001b[32m[I 2021-12-21 20:56:48,807]\u001b[0m Trial 474 finished with value: 0.8215554579122466 and parameters: {'learning_rate': 0.008535728769351958, 'n_estimators': 156, 'subsample': 0.9376299346180615, 'min_samples_split': 9, 'min_samples_leaf': 2, 'max_depth': 7, 'min_impurity_decrease': 0.7892318017472222, 'max_features': 18}. Best is trial 213 with value: 0.8238026489234826.\u001b[0m\n",
      "\u001b[32m[I 2021-12-21 20:56:49,777]\u001b[0m Trial 475 finished with value: 0.8204318624066286 and parameters: {'learning_rate': 0.008371727474870643, 'n_estimators': 159, 'subsample': 0.9388571901218956, 'min_samples_split': 6, 'min_samples_leaf': 3, 'max_depth': 7, 'min_impurity_decrease': 0.7820127995653795, 'max_features': 18}. Best is trial 213 with value: 0.8238026489234826.\u001b[0m\n",
      "\u001b[32m[I 2021-12-21 20:56:50,673]\u001b[0m Trial 476 finished with value: 0.8181846713953925 and parameters: {'learning_rate': 0.008672821237371682, 'n_estimators': 146, 'subsample': 0.9420676438021035, 'min_samples_split': 5, 'min_samples_leaf': 3, 'max_depth': 7, 'min_impurity_decrease': 0.7788036336897318, 'max_features': 17}. Best is trial 213 with value: 0.8238026489234826.\u001b[0m\n",
      "\u001b[32m[I 2021-12-21 20:56:51,589]\u001b[0m Trial 477 finished with value: 0.8204318624066286 and parameters: {'learning_rate': 0.009209604509969698, 'n_estimators': 143, 'subsample': 0.9348455943354154, 'min_samples_split': 8, 'min_samples_leaf': 2, 'max_depth': 7, 'min_impurity_decrease': 0.763630075140387, 'max_features': 19}. Best is trial 213 with value: 0.8238026489234826.\u001b[0m\n",
      "\u001b[32m[I 2021-12-21 20:56:52,508]\u001b[0m Trial 478 finished with value: 0.817079907099366 and parameters: {'learning_rate': 0.009102739446687866, 'n_estimators': 146, 'subsample': 0.9311342875336, 'min_samples_split': 16, 'min_samples_leaf': 2, 'max_depth': 7, 'min_impurity_decrease': 0.7620882358611553, 'max_features': 19}. Best is trial 213 with value: 0.8238026489234826.\u001b[0m\n",
      "\u001b[32m[I 2021-12-21 20:56:53,423]\u001b[0m Trial 479 finished with value: 0.8215554579122466 and parameters: {'learning_rate': 0.008659348185626706, 'n_estimators': 148, 'subsample': 0.9513928611651731, 'min_samples_split': 7, 'min_samples_leaf': 3, 'max_depth': 7, 'min_impurity_decrease': 0.7865981756385108, 'max_features': 18}. Best is trial 213 with value: 0.8238026489234826.\u001b[0m\n",
      "\u001b[32m[I 2021-12-21 20:56:54,329]\u001b[0m Trial 480 finished with value: 0.8215554579122465 and parameters: {'learning_rate': 0.00900050277725209, 'n_estimators': 141, 'subsample': 0.9262351523300133, 'min_samples_split': 7, 'min_samples_leaf': 2, 'max_depth': 7, 'min_impurity_decrease': 0.768204134787834, 'max_features': 19}. Best is trial 213 with value: 0.8238026489234826.\u001b[0m\n",
      "\u001b[32m[I 2021-12-21 20:56:55,254]\u001b[0m Trial 481 finished with value: 0.8159374803841567 and parameters: {'learning_rate': 0.007786773020333158, 'n_estimators': 148, 'subsample': 0.9504674225523554, 'min_samples_split': 7, 'min_samples_leaf': 4, 'max_depth': 7, 'min_impurity_decrease': 0.7859690563749638, 'max_features': 18}. Best is trial 213 with value: 0.8238026489234826.\u001b[0m\n",
      "\u001b[32m[I 2021-12-21 20:56:56,202]\u001b[0m Trial 482 finished with value: 0.8226790534178645 and parameters: {'learning_rate': 0.008308790904667799, 'n_estimators': 157, 'subsample': 0.9403024504595822, 'min_samples_split': 10, 'min_samples_leaf': 4, 'max_depth': 7, 'min_impurity_decrease': 0.780994873270502, 'max_features': 18}. Best is trial 213 with value: 0.8238026489234826.\u001b[0m\n",
      "\u001b[32m[I 2021-12-21 20:56:57,120]\u001b[0m Trial 483 finished with value: 0.8215554579122465 and parameters: {'learning_rate': 0.008131312729409215, 'n_estimators': 145, 'subsample': 0.9606435693468162, 'min_samples_split': 7, 'min_samples_leaf': 2, 'max_depth': 7, 'min_impurity_decrease': 0.785745641876936, 'max_features': 18}. Best is trial 213 with value: 0.8238026489234826.\u001b[0m\n"
     ]
    },
    {
     "name": "stderr",
     "output_type": "stream",
     "text": [
      "\u001b[32m[I 2021-12-21 20:56:58,066]\u001b[0m Trial 484 finished with value: 0.8137153976523759 and parameters: {'learning_rate': 0.00800370130588815, 'n_estimators': 157, 'subsample': 0.9234173985389661, 'min_samples_split': 9, 'min_samples_leaf': 2, 'max_depth': 5, 'min_impurity_decrease': 0.7929348396287961, 'max_features': 18}. Best is trial 213 with value: 0.8238026489234826.\u001b[0m\n",
      "\u001b[32m[I 2021-12-21 20:56:58,954]\u001b[0m Trial 485 finished with value: 0.8181846713953927 and parameters: {'learning_rate': 0.009189148492444706, 'n_estimators': 141, 'subsample': 0.9523573185721373, 'min_samples_split': 8, 'min_samples_leaf': 4, 'max_depth': 7, 'min_impurity_decrease': 0.7652349351246976, 'max_features': 19}. Best is trial 213 with value: 0.8238026489234826.\u001b[0m\n",
      "\u001b[32m[I 2021-12-21 20:56:59,938]\u001b[0m Trial 486 finished with value: 0.813709120582512 and parameters: {'learning_rate': 0.008767905403815964, 'n_estimators': 163, 'subsample': 0.9315712998874127, 'min_samples_split': 10, 'min_samples_leaf': 4, 'max_depth': 7, 'min_impurity_decrease': 0.7756775804924846, 'max_features': 17}. Best is trial 213 with value: 0.8238026489234826.\u001b[0m\n",
      "\u001b[32m[I 2021-12-21 20:57:00,137]\u001b[0m Trial 487 finished with value: 0.6161634548992531 and parameters: {'learning_rate': 0.008276023289912973, 'n_estimators': 21, 'subsample': 0.9386187618984939, 'min_samples_split': 8, 'min_samples_leaf': 2, 'max_depth': 4, 'min_impurity_decrease': 0.7729289617754422, 'max_features': 18}. Best is trial 213 with value: 0.8238026489234826.\u001b[0m\n",
      "\u001b[32m[I 2021-12-21 20:57:01,031]\u001b[0m Trial 488 finished with value: 0.8193082669010107 and parameters: {'learning_rate': 0.008445454210791325, 'n_estimators': 152, 'subsample': 0.8595150133946858, 'min_samples_split': 10, 'min_samples_leaf': 3, 'max_depth': 7, 'min_impurity_decrease': 0.7877369076447713, 'max_features': 17}. Best is trial 213 with value: 0.8238026489234826.\u001b[0m\n",
      "\u001b[32m[I 2021-12-21 20:57:01,874]\u001b[0m Trial 489 finished with value: 0.8114682066411399 and parameters: {'learning_rate': 0.008911019065504497, 'n_estimators': 151, 'subsample': 0.9555861291734998, 'min_samples_split': 8, 'min_samples_leaf': 20, 'max_depth': 7, 'min_impurity_decrease': 0.7708178826312786, 'max_features': 18}. Best is trial 213 with value: 0.8238026489234826.\u001b[0m\n",
      "\u001b[32m[I 2021-12-21 20:57:02,764]\u001b[0m Trial 490 finished with value: 0.8204318624066286 and parameters: {'learning_rate': 0.009314459150073963, 'n_estimators': 140, 'subsample': 0.9460269709050644, 'min_samples_split': 8, 'min_samples_leaf': 2, 'max_depth': 7, 'min_impurity_decrease': 0.7735933418832345, 'max_features': 19}. Best is trial 213 with value: 0.8238026489234826.\u001b[0m\n",
      "\u001b[32m[I 2021-12-21 20:57:03,716]\u001b[0m Trial 491 finished with value: 0.8226790534178645 and parameters: {'learning_rate': 0.008676782608188481, 'n_estimators': 158, 'subsample': 0.9424129288973053, 'min_samples_split': 10, 'min_samples_leaf': 3, 'max_depth': 7, 'min_impurity_decrease': 0.7810331650894881, 'max_features': 18}. Best is trial 213 with value: 0.8238026489234826.\u001b[0m\n",
      "\u001b[32m[I 2021-12-21 20:57:04,630]\u001b[0m Trial 492 finished with value: 0.8159500345238844 and parameters: {'learning_rate': 0.008514400678755859, 'n_estimators': 149, 'subsample': 0.9162354731665108, 'min_samples_split': 4, 'min_samples_leaf': 3, 'max_depth': 7, 'min_impurity_decrease': 0.7934238353504639, 'max_features': 18}. Best is trial 213 with value: 0.8238026489234826.\u001b[0m\n",
      "\u001b[32m[I 2021-12-21 20:57:05,554]\u001b[0m Trial 493 finished with value: 0.8148327160881299 and parameters: {'learning_rate': 0.008609867027000825, 'n_estimators': 156, 'subsample': 0.9352223743943429, 'min_samples_split': 10, 'min_samples_leaf': 3, 'max_depth': 7, 'min_impurity_decrease': 0.8001329547629217, 'max_features': 17}. Best is trial 213 with value: 0.8238026489234826.\u001b[0m\n",
      "\u001b[32m[I 2021-12-21 20:57:06,326]\u001b[0m Trial 494 finished with value: 0.8204130311970372 and parameters: {'learning_rate': 0.008930574397867826, 'n_estimators': 146, 'subsample': 0.9497663752162092, 'min_samples_split': 6, 'min_samples_leaf': 4, 'max_depth': 7, 'min_impurity_decrease': 0.7835565833414334, 'max_features': 11}. Best is trial 213 with value: 0.8238026489234826.\u001b[0m\n",
      "\u001b[32m[I 2021-12-21 20:57:07,144]\u001b[0m Trial 495 finished with value: 0.8002448057246877 and parameters: {'learning_rate': 0.008254456028244516, 'n_estimators': 158, 'subsample': 0.9465988371599305, 'min_samples_split': 10, 'min_samples_leaf': 4, 'max_depth': 3, 'min_impurity_decrease': 0.7792740105105218, 'max_features': 18}. Best is trial 213 with value: 0.8238026489234826.\u001b[0m\n",
      "\u001b[32m[I 2021-12-21 20:57:08,095]\u001b[0m Trial 496 finished with value: 0.8193082669010107 and parameters: {'learning_rate': 0.008487294837703092, 'n_estimators': 160, 'subsample': 0.9368521201644087, 'min_samples_split': 9, 'min_samples_leaf': 3, 'max_depth': 7, 'min_impurity_decrease': 0.7826505186920353, 'max_features': 17}. Best is trial 213 with value: 0.8238026489234826.\u001b[0m\n",
      "\u001b[32m[I 2021-12-21 20:57:08,996]\u001b[0m Trial 497 finished with value: 0.8148138848785387 and parameters: {'learning_rate': 0.008637569689635782, 'n_estimators': 150, 'subsample': 0.940366233266767, 'min_samples_split': 7, 'min_samples_leaf': 2, 'max_depth': 7, 'min_impurity_decrease': 0.7884803611227975, 'max_features': 16}. Best is trial 213 with value: 0.8238026489234826.\u001b[0m\n",
      "\u001b[32m[I 2021-12-21 20:57:09,936]\u001b[0m Trial 498 finished with value: 0.8170610758897746 and parameters: {'learning_rate': 0.0060633179270280614, 'n_estimators': 137, 'subsample': 0.9286443797807943, 'min_samples_split': 8, 'min_samples_leaf': 3, 'max_depth': 7, 'min_impurity_decrease': 0.7784158638702636, 'max_features': 19}. Best is trial 213 with value: 0.8238026489234826.\u001b[0m\n",
      "\u001b[32m[I 2021-12-21 20:57:10,920]\u001b[0m Trial 499 finished with value: 0.8170610758897746 and parameters: {'learning_rate': 0.009501291546124672, 'n_estimators': 166, 'subsample': 0.9383268960993835, 'min_samples_split': 12, 'min_samples_leaf': 4, 'max_depth': 7, 'min_impurity_decrease': 0.756931367276426, 'max_features': 19}. Best is trial 213 with value: 0.8238026489234826.\u001b[0m\n",
      "\u001b[32m[I 2021-12-21 20:57:11,773]\u001b[0m Trial 500 finished with value: 0.8170610758897746 and parameters: {'learning_rate': 0.009558772580234283, 'n_estimators': 136, 'subsample': 0.9473056158574263, 'min_samples_split': 17, 'min_samples_leaf': 4, 'max_depth': 7, 'min_impurity_decrease': 0.7564978206778594, 'max_features': 19}. Best is trial 213 with value: 0.8238026489234826.\u001b[0m\n",
      "\u001b[32m[I 2021-12-21 20:57:12,753]\u001b[0m Trial 501 finished with value: 0.8193082669010107 and parameters: {'learning_rate': 0.008781864522869515, 'n_estimators': 162, 'subsample': 0.9419850720588904, 'min_samples_split': 7, 'min_samples_leaf': 2, 'max_depth': 7, 'min_impurity_decrease': 0.7683292738730844, 'max_features': 18}. Best is trial 213 with value: 0.8238026489234826.\u001b[0m\n",
      "\u001b[32m[I 2021-12-21 20:57:13,670]\u001b[0m Trial 502 finished with value: 0.8181846713953925 and parameters: {'learning_rate': 0.009432811048889302, 'n_estimators': 153, 'subsample': 0.9628322743671591, 'min_samples_split': 11, 'min_samples_leaf': 3, 'max_depth': 7, 'min_impurity_decrease': 0.780668055839722, 'max_features': 18}. Best is trial 213 with value: 0.8238026489234826.\u001b[0m\n",
      "\u001b[32m[I 2021-12-21 20:57:14,575]\u001b[0m Trial 503 finished with value: 0.8148327160881301 and parameters: {'learning_rate': 0.009290118940072891, 'n_estimators': 159, 'subsample': 0.9402747377648657, 'min_samples_split': 11, 'min_samples_leaf': 3, 'max_depth': 7, 'min_impurity_decrease': 0.891964138454448, 'max_features': 18}. Best is trial 213 with value: 0.8238026489234826.\u001b[0m\n",
      "\u001b[32m[I 2021-12-21 20:57:15,536]\u001b[0m Trial 504 finished with value: 0.8170736300295023 and parameters: {'learning_rate': 0.009110930138537058, 'n_estimators': 164, 'subsample': 0.869135205691705, 'min_samples_split': 10, 'min_samples_leaf': 2, 'max_depth': 7, 'min_impurity_decrease': 0.7742499364124293, 'max_features': 18}. Best is trial 213 with value: 0.8238026489234826.\u001b[0m\n",
      "\u001b[32m[I 2021-12-21 20:57:16,450]\u001b[0m Trial 505 finished with value: 0.8226790534178645 and parameters: {'learning_rate': 0.008892350559967106, 'n_estimators': 147, 'subsample': 0.9514707562226231, 'min_samples_split': 7, 'min_samples_leaf': 3, 'max_depth': 7, 'min_impurity_decrease': 0.7916719185452528, 'max_features': 18}. Best is trial 213 with value: 0.8238026489234826.\u001b[0m\n"
     ]
    },
    {
     "name": "stderr",
     "output_type": "stream",
     "text": [
      "\u001b[32m[I 2021-12-21 20:57:17,386]\u001b[0m Trial 506 finished with value: 0.8170610758897746 and parameters: {'learning_rate': 0.008349521976298678, 'n_estimators': 155, 'subsample': 0.9429370945067207, 'min_samples_split': 9, 'min_samples_leaf': 2, 'max_depth': 7, 'min_impurity_decrease': 0.7952742872550995, 'max_features': 17}. Best is trial 213 with value: 0.8238026489234826.\u001b[0m\n",
      "\u001b[32m[I 2021-12-21 20:57:18,303]\u001b[0m Trial 507 finished with value: 0.8193082669010107 and parameters: {'learning_rate': 0.008689216032143196, 'n_estimators': 144, 'subsample': 0.9508118573241223, 'min_samples_split': 7, 'min_samples_leaf': 2, 'max_depth': 7, 'min_impurity_decrease': 0.799266961595352, 'max_features': 19}. Best is trial 213 with value: 0.8238026489234826.\u001b[0m\n",
      "\u001b[32m[I 2021-12-21 20:57:19,221]\u001b[0m Trial 508 finished with value: 0.8170610758897746 and parameters: {'learning_rate': 0.009013834641567785, 'n_estimators': 155, 'subsample': 0.9325403869118223, 'min_samples_split': 6, 'min_samples_leaf': 3, 'max_depth': 7, 'min_impurity_decrease': 0.7885715201165039, 'max_features': 17}. Best is trial 213 with value: 0.8238026489234826.\u001b[0m\n",
      "\u001b[32m[I 2021-12-21 20:57:20,123]\u001b[0m Trial 509 finished with value: 0.8181846713953925 and parameters: {'learning_rate': 0.009145235876809233, 'n_estimators': 145, 'subsample': 0.9525575034705956, 'min_samples_split': 8, 'min_samples_leaf': 4, 'max_depth': 7, 'min_impurity_decrease': 0.7753463817286386, 'max_features': 19}. Best is trial 213 with value: 0.8238026489234826.\u001b[0m\n",
      "\u001b[32m[I 2021-12-21 20:57:21,107]\u001b[0m Trial 510 finished with value: 0.8159563115937478 and parameters: {'learning_rate': 0.00933680086938656, 'n_estimators': 169, 'subsample': 0.944839475824443, 'min_samples_split': 6, 'min_samples_leaf': 3, 'max_depth': 6, 'min_impurity_decrease': 0.7833618086787895, 'max_features': 18}. Best is trial 213 with value: 0.8238026489234826.\u001b[0m\n",
      "\u001b[32m[I 2021-12-21 20:57:21,990]\u001b[0m Trial 511 finished with value: 0.8159500345238841 and parameters: {'learning_rate': 0.008860977741942251, 'n_estimators': 151, 'subsample': 0.943505346426893, 'min_samples_split': 10, 'min_samples_leaf': 4, 'max_depth': 7, 'min_impurity_decrease': 0.7763884279119145, 'max_features': 16}. Best is trial 213 with value: 0.8238026489234826.\u001b[0m\n",
      "\u001b[32m[I 2021-12-21 20:57:22,937]\u001b[0m Trial 512 finished with value: 0.8159374803841566 and parameters: {'learning_rate': 0.006473493674712599, 'n_estimators': 143, 'subsample': 0.9559635390837358, 'min_samples_split': 16, 'min_samples_leaf': 3, 'max_depth': 7, 'min_impurity_decrease': 0.7918631205036604, 'max_features': 19}. Best is trial 213 with value: 0.8238026489234826.\u001b[0m\n",
      "\u001b[32m[I 2021-12-21 20:57:23,888]\u001b[0m Trial 513 finished with value: 0.8193082669010107 and parameters: {'learning_rate': 0.008830292925836435, 'n_estimators': 159, 'subsample': 0.9356165385707735, 'min_samples_split': 9, 'min_samples_leaf': 3, 'max_depth': 7, 'min_impurity_decrease': 0.7891751363577364, 'max_features': 18}. Best is trial 213 with value: 0.8238026489234826.\u001b[0m\n",
      "\u001b[32m[I 2021-12-21 20:57:24,794]\u001b[0m Trial 514 finished with value: 0.8215554579122466 and parameters: {'learning_rate': 0.008618473476920067, 'n_estimators': 150, 'subsample': 0.9594674194047778, 'min_samples_split': 11, 'min_samples_leaf': 3, 'max_depth': 7, 'min_impurity_decrease': 0.7941552739074766, 'max_features': 17}. Best is trial 213 with value: 0.8238026489234826.\u001b[0m\n",
      "\u001b[32m[I 2021-12-21 20:57:25,865]\u001b[0m Trial 515 finished with value: 0.7979536752244052 and parameters: {'learning_rate': 0.002692252928021347, 'n_estimators': 154, 'subsample': 0.9279548610708624, 'min_samples_split': 9, 'min_samples_leaf': 2, 'max_depth': 7, 'min_impurity_decrease': 0.8429403237252454, 'max_features': 18}. Best is trial 213 with value: 0.8238026489234826.\u001b[0m\n",
      "\u001b[32m[I 2021-12-21 20:57:26,806]\u001b[0m Trial 516 finished with value: 0.8159625886636119 and parameters: {'learning_rate': 0.009129196145637444, 'n_estimators': 158, 'subsample': 0.949435506153023, 'min_samples_split': 9, 'min_samples_leaf': 3, 'max_depth': 7, 'min_impurity_decrease': 0.7932103580103402, 'max_features': 18}. Best is trial 213 with value: 0.8238026489234826.\u001b[0m\n",
      "\u001b[32m[I 2021-12-21 20:57:27,749]\u001b[0m Trial 517 finished with value: 0.8193082669010107 and parameters: {'learning_rate': 0.008450207074862263, 'n_estimators': 156, 'subsample': 0.9331511671490013, 'min_samples_split': 9, 'min_samples_leaf': 2, 'max_depth': 7, 'min_impurity_decrease': 0.7882785280296792, 'max_features': 17}. Best is trial 213 with value: 0.8238026489234826.\u001b[0m\n",
      "\u001b[32m[I 2021-12-21 20:57:28,724]\u001b[0m Trial 518 finished with value: 0.8193145439708743 and parameters: {'learning_rate': 0.008910006353162369, 'n_estimators': 162, 'subsample': 0.9432894471847649, 'min_samples_split': 10, 'min_samples_leaf': 2, 'max_depth': 7, 'min_impurity_decrease': 0.7814131081168134, 'max_features': 18}. Best is trial 213 with value: 0.8238026489234826.\u001b[0m\n",
      "\u001b[32m[I 2021-12-21 20:57:29,618]\u001b[0m Trial 519 finished with value: 0.8193082669010107 and parameters: {'learning_rate': 0.008959660313282608, 'n_estimators': 141, 'subsample': 0.9571455671225274, 'min_samples_split': 8, 'min_samples_leaf': 3, 'max_depth': 7, 'min_impurity_decrease': 0.7624126974605843, 'max_features': 18}. Best is trial 213 with value: 0.8238026489234826.\u001b[0m\n",
      "\u001b[32m[I 2021-12-21 20:57:30,683]\u001b[0m Trial 520 finished with value: 0.6161634548992531 and parameters: {'learning_rate': 7.4644300406752e-05, 'n_estimators': 146, 'subsample': 0.9630108475141029, 'min_samples_split': 8, 'min_samples_leaf': 3, 'max_depth': 7, 'min_impurity_decrease': 0.7579772454337944, 'max_features': 15}. Best is trial 213 with value: 0.8238026489234826.\u001b[0m\n",
      "\u001b[32m[I 2021-12-21 20:57:31,593]\u001b[0m Trial 521 finished with value: 0.8226790534178645 and parameters: {'learning_rate': 0.008731290139331693, 'n_estimators': 147, 'subsample': 0.9534812839501617, 'min_samples_split': 7, 'min_samples_leaf': 2, 'max_depth': 7, 'min_impurity_decrease': 0.8000599228195053, 'max_features': 18}. Best is trial 213 with value: 0.8238026489234826.\u001b[0m\n",
      "\u001b[32m[I 2021-12-21 20:57:32,518]\u001b[0m Trial 522 finished with value: 0.8215554579122466 and parameters: {'learning_rate': 0.008726490566234764, 'n_estimators': 150, 'subsample': 0.9500770439327464, 'min_samples_split': 6, 'min_samples_leaf': 2, 'max_depth': 7, 'min_impurity_decrease': 0.8004955667523923, 'max_features': 18}. Best is trial 213 with value: 0.8238026489234826.\u001b[0m\n",
      "\u001b[32m[I 2021-12-21 20:57:33,397]\u001b[0m Trial 523 finished with value: 0.8137216747222397 and parameters: {'learning_rate': 0.009480930848324125, 'n_estimators': 147, 'subsample': 0.9552308462024022, 'min_samples_split': 6, 'min_samples_leaf': 7, 'max_depth': 7, 'min_impurity_decrease': 0.8087771908273447, 'max_features': 19}. Best is trial 213 with value: 0.8238026489234826.\u001b[0m\n",
      "\u001b[32m[I 2021-12-21 20:57:34,488]\u001b[0m Trial 524 finished with value: 0.6161634548992531 and parameters: {'learning_rate': 0.0005149482161758692, 'n_estimators': 144, 'subsample': 0.9507640088669087, 'min_samples_split': 7, 'min_samples_leaf': 4, 'max_depth': 7, 'min_impurity_decrease': 0.7986443367290853, 'max_features': 19}. Best is trial 213 with value: 0.8238026489234826.\u001b[0m\n",
      "\u001b[32m[I 2021-12-21 20:57:35,410]\u001b[0m Trial 525 finished with value: 0.8193082669010107 and parameters: {'learning_rate': 0.008836411854252046, 'n_estimators': 152, 'subsample': 0.9370386612851151, 'min_samples_split': 7, 'min_samples_leaf': 2, 'max_depth': 7, 'min_impurity_decrease': 0.7820347513940702, 'max_features': 17}. Best is trial 213 with value: 0.8238026489234826.\u001b[0m\n",
      "\u001b[32m[I 2021-12-21 20:57:36,348]\u001b[0m Trial 526 finished with value: 0.8204318624066286 and parameters: {'learning_rate': 0.00809845746332957, 'n_estimators': 148, 'subsample': 0.9604583162399885, 'min_samples_split': 7, 'min_samples_leaf': 3, 'max_depth': 7, 'min_impurity_decrease': 0.7834524499879121, 'max_features': 18}. Best is trial 213 with value: 0.8238026489234826.\u001b[0m\n",
      "\u001b[32m[I 2021-12-21 20:57:37,009]\u001b[0m Trial 527 finished with value: 0.8159437574540205 and parameters: {'learning_rate': 0.009028285224055393, 'n_estimators': 95, 'subsample': 0.9372945965936674, 'min_samples_split': 7, 'min_samples_leaf': 2, 'max_depth': 7, 'min_impurity_decrease': 0.7966959100444361, 'max_features': 18}. Best is trial 213 with value: 0.8238026489234826.\u001b[0m\n"
     ]
    },
    {
     "name": "stderr",
     "output_type": "stream",
     "text": [
      "\u001b[32m[I 2021-12-21 20:57:37,868]\u001b[0m Trial 528 finished with value: 0.8125980792166217 and parameters: {'learning_rate': 0.00925740550734669, 'n_estimators': 138, 'subsample': 0.9526520739455435, 'min_samples_split': 7, 'min_samples_leaf': 7, 'max_depth': 7, 'min_impurity_decrease': 0.8160505898197337, 'max_features': 19}. Best is trial 213 with value: 0.8238026489234826.\u001b[0m\n",
      "\u001b[32m[I 2021-12-21 20:57:38,809]\u001b[0m Trial 529 finished with value: 0.8193082669010107 and parameters: {'learning_rate': 0.008440552718962435, 'n_estimators': 154, 'subsample': 0.9440386048119167, 'min_samples_split': 9, 'min_samples_leaf': 2, 'max_depth': 7, 'min_impurity_decrease': 0.8038346592565913, 'max_features': 18}. Best is trial 213 with value: 0.8238026489234826.\u001b[0m\n",
      "\u001b[32m[I 2021-12-21 20:57:39,714]\u001b[0m Trial 530 finished with value: 0.8204318624066286 and parameters: {'learning_rate': 0.008783869806656963, 'n_estimators': 149, 'subsample': 0.9307178932467258, 'min_samples_split': 6, 'min_samples_leaf': 2, 'max_depth': 7, 'min_impurity_decrease': 0.78902788348395, 'max_features': 17}. Best is trial 213 with value: 0.8238026489234826.\u001b[0m\n",
      "\u001b[32m[I 2021-12-21 20:57:40,819]\u001b[0m Trial 531 finished with value: 0.7957253154227606 and parameters: {'learning_rate': 0.0019972928027596716, 'n_estimators': 153, 'subsample': 0.9445396809270291, 'min_samples_split': 10, 'min_samples_leaf': 3, 'max_depth': 7, 'min_impurity_decrease': 0.7776660098821013, 'max_features': 18}. Best is trial 213 with value: 0.8238026489234826.\u001b[0m\n",
      "\u001b[32m[I 2021-12-21 20:57:41,730]\u001b[0m Trial 532 finished with value: 0.8193145439708746 and parameters: {'learning_rate': 0.009042953354283694, 'n_estimators': 146, 'subsample': 0.9571212258428032, 'min_samples_split': 7, 'min_samples_leaf': 2, 'max_depth': 7, 'min_impurity_decrease': 0.7684837122421455, 'max_features': 18}. Best is trial 213 with value: 0.8238026489234826.\u001b[0m\n",
      "\u001b[32m[I 2021-12-21 20:57:42,593]\u001b[0m Trial 533 finished with value: 0.8148389931579938 and parameters: {'learning_rate': 0.008271107317282788, 'n_estimators': 144, 'subsample': 0.9202737988894849, 'min_samples_split': 3, 'min_samples_leaf': 2, 'max_depth': 7, 'min_impurity_decrease': 0.9173698219730952, 'max_features': 18}. Best is trial 213 with value: 0.8238026489234826.\u001b[0m\n",
      "\u001b[32m[I 2021-12-21 20:57:43,579]\u001b[0m Trial 534 finished with value: 0.8215554579122466 and parameters: {'learning_rate': 0.008699086360647347, 'n_estimators': 165, 'subsample': 0.9375657617786438, 'min_samples_split': 7, 'min_samples_leaf': 3, 'max_depth': 7, 'min_impurity_decrease': 0.7800861882640445, 'max_features': 18}. Best is trial 213 with value: 0.8238026489234826.\u001b[0m\n",
      "\u001b[32m[I 2021-12-21 20:57:44,585]\u001b[0m Trial 535 finished with value: 0.8193082669010107 and parameters: {'learning_rate': 0.00857701813005023, 'n_estimators': 165, 'subsample': 0.9478055893140551, 'min_samples_split': 5, 'min_samples_leaf': 2, 'max_depth': 7, 'min_impurity_decrease': 0.7918893213711788, 'max_features': 18}. Best is trial 213 with value: 0.8238026489234826.\u001b[0m\n",
      "\u001b[32m[I 2021-12-21 20:57:45,489]\u001b[0m Trial 536 finished with value: 0.8204318624066287 and parameters: {'learning_rate': 0.00917537521756266, 'n_estimators': 142, 'subsample': 0.9645496255804618, 'min_samples_split': 8, 'min_samples_leaf': 2, 'max_depth': 7, 'min_impurity_decrease': 0.7891095316856669, 'max_features': 19}. Best is trial 213 with value: 0.8238026489234826.\u001b[0m\n",
      "\u001b[32m[I 2021-12-21 20:57:46,197]\u001b[0m Trial 537 finished with value: 0.8114493754315484 and parameters: {'learning_rate': 0.008830371250526232, 'n_estimators': 156, 'subsample': 0.9274314876275714, 'min_samples_split': 10, 'min_samples_leaf': 3, 'max_depth': 7, 'min_impurity_decrease': 0.7762953323004872, 'max_features': 6}. Best is trial 213 with value: 0.8238026489234826.\u001b[0m\n",
      "\u001b[32m[I 2021-12-21 20:57:47,166]\u001b[0m Trial 538 finished with value: 0.8170799070993662 and parameters: {'learning_rate': 0.009134432497465003, 'n_estimators': 161, 'subsample': 0.9529981418298901, 'min_samples_split': 7, 'min_samples_leaf': 2, 'max_depth': 7, 'min_impurity_decrease': 0.7849723591897964, 'max_features': 18}. Best is trial 213 with value: 0.8238026489234826.\u001b[0m\n",
      "\u001b[32m[I 2021-12-21 20:57:48,080]\u001b[0m Trial 539 finished with value: 0.8193145439708746 and parameters: {'learning_rate': 0.009489846397113956, 'n_estimators': 141, 'subsample': 0.95790511600252, 'min_samples_split': 8, 'min_samples_leaf': 2, 'max_depth': 7, 'min_impurity_decrease': 0.762639161039654, 'max_features': 20}. Best is trial 213 with value: 0.8238026489234826.\u001b[0m\n",
      "\u001b[32m[I 2021-12-21 20:57:48,991]\u001b[0m Trial 540 finished with value: 0.8204318624066286 and parameters: {'learning_rate': 0.008901077089861075, 'n_estimators': 148, 'subsample': 0.9524008222144477, 'min_samples_split': 7, 'min_samples_leaf': 2, 'max_depth': 7, 'min_impurity_decrease': 0.772097441194409, 'max_features': 17}. Best is trial 213 with value: 0.8238026489234826.\u001b[0m\n",
      "\u001b[32m[I 2021-12-21 20:57:49,805]\u001b[0m Trial 541 finished with value: 0.8092147385600402 and parameters: {'learning_rate': 0.008688414847551753, 'n_estimators': 151, 'subsample': 0.7787852850102175, 'min_samples_split': 15, 'min_samples_leaf': 3, 'max_depth': 4, 'min_impurity_decrease': 0.7781590113932243, 'max_features': 17}. Best is trial 213 with value: 0.8238026489234826.\u001b[0m\n",
      "\u001b[32m[I 2021-12-21 20:57:50,829]\u001b[0m Trial 542 finished with value: 0.817079907099366 and parameters: {'learning_rate': 0.008992242474599517, 'n_estimators': 171, 'subsample': 0.947192866563396, 'min_samples_split': 6, 'min_samples_leaf': 2, 'max_depth': 7, 'min_impurity_decrease': 0.7724119163773101, 'max_features': 18}. Best is trial 213 with value: 0.8238026489234826.\u001b[0m\n",
      "\u001b[32m[I 2021-12-21 20:57:51,797]\u001b[0m Trial 543 finished with value: 0.8204318624066286 and parameters: {'learning_rate': 0.007879968899166711, 'n_estimators': 156, 'subsample': 0.9323265155158099, 'min_samples_split': 9, 'min_samples_leaf': 3, 'max_depth': 7, 'min_impurity_decrease': 0.7910413885851924, 'max_features': 18}. Best is trial 213 with value: 0.8238026489234826.\u001b[0m\n",
      "\u001b[32m[I 2021-12-21 20:57:52,651]\u001b[0m Trial 544 finished with value: 0.8159374803841566 and parameters: {'learning_rate': 0.008845230485668498, 'n_estimators': 153, 'subsample': 0.7528733437747245, 'min_samples_split': 10, 'min_samples_leaf': 3, 'max_depth': 7, 'min_impurity_decrease': 0.7820113237948141, 'max_features': 17}. Best is trial 213 with value: 0.8238026489234826.\u001b[0m\n",
      "\u001b[32m[I 2021-12-21 20:57:53,615]\u001b[0m Trial 545 finished with value: 0.8148327160881299 and parameters: {'learning_rate': 0.00844986713665615, 'n_estimators': 160, 'subsample': 0.9387729931863019, 'min_samples_split': 7, 'min_samples_leaf': 2, 'max_depth': 5, 'min_impurity_decrease': 0.7859978929167102, 'max_features': 18}. Best is trial 213 with value: 0.8238026489234826.\u001b[0m\n",
      "\u001b[32m[I 2021-12-21 20:57:54,557]\u001b[0m Trial 546 finished with value: 0.8204318624066286 and parameters: {'learning_rate': 0.008614726284891586, 'n_estimators': 147, 'subsample': 0.963134715442366, 'min_samples_split': 8, 'min_samples_leaf': 3, 'max_depth': 7, 'min_impurity_decrease': 0.7683621431874571, 'max_features': 19}. Best is trial 213 with value: 0.8238026489234826.\u001b[0m\n",
      "\u001b[32m[I 2021-12-21 20:57:55,452]\u001b[0m Trial 547 finished with value: 0.8114556525014123 and parameters: {'learning_rate': 0.007516397439143313, 'n_estimators': 151, 'subsample': 0.9460015870764986, 'min_samples_split': 11, 'min_samples_leaf': 12, 'max_depth': 7, 'min_impurity_decrease': 0.7965611377253978, 'max_features': 18}. Best is trial 213 with value: 0.8238026489234826.\u001b[0m\n",
      "\u001b[32m[I 2021-12-21 20:57:56,492]\u001b[0m Trial 548 finished with value: 0.8182035026049841 and parameters: {'learning_rate': 0.008380873141403568, 'n_estimators': 179, 'subsample': 0.9596688434830388, 'min_samples_split': 11, 'min_samples_leaf': 2, 'max_depth': 7, 'min_impurity_decrease': 0.7948856090433121, 'max_features': 17}. Best is trial 213 with value: 0.8238026489234826.\u001b[0m\n",
      "\u001b[32m[I 2021-12-21 20:57:57,160]\u001b[0m Trial 549 finished with value: 0.8136902893729208 and parameters: {'learning_rate': 0.008714889453843007, 'n_estimators': 142, 'subsample': 0.9384002953896512, 'min_samples_split': 8, 'min_samples_leaf': 10, 'max_depth': 7, 'min_impurity_decrease': 0.7810641893134758, 'max_features': 7}. Best is trial 213 with value: 0.8238026489234826.\u001b[0m\n"
     ]
    },
    {
     "name": "stderr",
     "output_type": "stream",
     "text": [
      "\u001b[32m[I 2021-12-21 20:57:58,151]\u001b[0m Trial 550 finished with value: 0.8182035026049841 and parameters: {'learning_rate': 0.00895828582689948, 'n_estimators': 161, 'subsample': 0.9238190068011091, 'min_samples_split': 10, 'min_samples_leaf': 2, 'max_depth': 7, 'min_impurity_decrease': 0.7726818031565332, 'max_features': 18}. Best is trial 213 with value: 0.8238026489234826.\u001b[0m\n",
      "\u001b[32m[I 2021-12-21 20:57:59,102]\u001b[0m Trial 551 finished with value: 0.8215554579122466 and parameters: {'learning_rate': 0.008168062435125144, 'n_estimators': 149, 'subsample': 0.9500200785736045, 'min_samples_split': 7, 'min_samples_leaf': 2, 'max_depth': 7, 'min_impurity_decrease': 0.7881164833731865, 'max_features': 18}. Best is trial 213 with value: 0.8238026489234826.\u001b[0m\n",
      "\u001b[32m[I 2021-12-21 20:58:00,016]\u001b[0m Trial 552 finished with value: 0.8170861841692298 and parameters: {'learning_rate': 0.009160489985400502, 'n_estimators': 144, 'subsample': 0.9595806539088357, 'min_samples_split': 12, 'min_samples_leaf': 2, 'max_depth': 6, 'min_impurity_decrease': 0.7680406109739977, 'max_features': 19}. Best is trial 213 with value: 0.8238026489234826.\u001b[0m\n",
      "\u001b[32m[I 2021-12-21 20:58:00,931]\u001b[0m Trial 553 finished with value: 0.8182035026049841 and parameters: {'learning_rate': 0.009322366100000437, 'n_estimators': 147, 'subsample': 0.9529908712825731, 'min_samples_split': 7, 'min_samples_leaf': 2, 'max_depth': 7, 'min_impurity_decrease': 0.7617532024480121, 'max_features': 18}. Best is trial 213 with value: 0.8238026489234826.\u001b[0m\n",
      "\u001b[32m[I 2021-12-21 20:58:01,874]\u001b[0m Trial 554 finished with value: 0.8181846713953927 and parameters: {'learning_rate': 0.008571364992895207, 'n_estimators': 150, 'subsample': 0.9497601035315303, 'min_samples_split': 8, 'min_samples_leaf': 4, 'max_depth': 7, 'min_impurity_decrease': 0.7835837895115434, 'max_features': 18}. Best is trial 213 with value: 0.8238026489234826.\u001b[0m\n",
      "\u001b[32m[I 2021-12-21 20:58:02,780]\u001b[0m Trial 555 finished with value: 0.8182035026049841 and parameters: {'learning_rate': 0.009252207462058468, 'n_estimators': 147, 'subsample': 0.953139549197368, 'min_samples_split': 7, 'min_samples_leaf': 2, 'max_depth': 7, 'min_impurity_decrease': 0.7907064379103932, 'max_features': 18}. Best is trial 213 with value: 0.8238026489234826.\u001b[0m\n",
      "\u001b[32m[I 2021-12-21 20:58:03,688]\u001b[0m Trial 556 finished with value: 0.8159374803841567 and parameters: {'learning_rate': 0.008313309528275747, 'n_estimators': 145, 'subsample': 0.9403271219147104, 'min_samples_split': 6, 'min_samples_leaf': 3, 'max_depth': 7, 'min_impurity_decrease': 0.7881000296499723, 'max_features': 18}. Best is trial 213 with value: 0.8238026489234826.\u001b[0m\n",
      "\u001b[32m[I 2021-12-21 20:58:04,630]\u001b[0m Trial 557 finished with value: 0.8159374803841567 and parameters: {'learning_rate': 0.008490212653004866, 'n_estimators': 156, 'subsample': 0.9457416795366869, 'min_samples_split': 9, 'min_samples_leaf': 3, 'max_depth': 7, 'min_impurity_decrease': 0.7854708102936685, 'max_features': 17}. Best is trial 213 with value: 0.8238026489234826.\u001b[0m\n",
      "\u001b[32m[I 2021-12-21 20:58:05,583]\u001b[0m Trial 558 finished with value: 0.8170610758897746 and parameters: {'learning_rate': 0.009017049197633787, 'n_estimators': 162, 'subsample': 0.9410071044784921, 'min_samples_split': 10, 'min_samples_leaf': 3, 'max_depth': 7, 'min_impurity_decrease': 0.777569098404462, 'max_features': 17}. Best is trial 213 with value: 0.8238026489234826.\u001b[0m\n",
      "\u001b[32m[I 2021-12-21 20:58:06,510]\u001b[0m Trial 559 finished with value: 0.8193082669010107 and parameters: {'learning_rate': 0.008284271136842556, 'n_estimators': 148, 'subsample': 0.9343845041621424, 'min_samples_split': 6, 'min_samples_leaf': 3, 'max_depth': 7, 'min_impurity_decrease': 0.7793517886665391, 'max_features': 18}. Best is trial 213 with value: 0.8238026489234826.\u001b[0m\n",
      "\u001b[32m[I 2021-12-21 20:58:07,446]\u001b[0m Trial 560 finished with value: 0.8193082669010104 and parameters: {'learning_rate': 0.00879911109264115, 'n_estimators': 154, 'subsample': 0.9416457132301834, 'min_samples_split': 9, 'min_samples_leaf': 4, 'max_depth': 7, 'min_impurity_decrease': 0.7772258953465863, 'max_features': 18}. Best is trial 213 with value: 0.8238026489234826.\u001b[0m\n",
      "\u001b[32m[I 2021-12-21 20:58:08,339]\u001b[0m Trial 561 finished with value: 0.8193082669010107 and parameters: {'learning_rate': 0.009359741440167605, 'n_estimators': 137, 'subsample': 0.9486810287679476, 'min_samples_split': 5, 'min_samples_leaf': 2, 'max_depth': 7, 'min_impurity_decrease': 0.7618024588612972, 'max_features': 19}. Best is trial 213 with value: 0.8238026489234826.\u001b[0m\n",
      "\u001b[32m[I 2021-12-21 20:58:09,293]\u001b[0m Trial 562 finished with value: 0.8182035026049841 and parameters: {'learning_rate': 0.008735068953602758, 'n_estimators': 150, 'subsample': 0.9470300009519713, 'min_samples_split': 6, 'min_samples_leaf': 2, 'max_depth': 7, 'min_impurity_decrease': 0.8011874789717104, 'max_features': 19}. Best is trial 213 with value: 0.8238026489234826.\u001b[0m\n",
      "\u001b[32m[I 2021-12-21 20:58:10,077]\u001b[0m Trial 563 finished with value: 0.8125729709371665 and parameters: {'learning_rate': 0.009071402118781833, 'n_estimators': 157, 'subsample': 0.9377244110181816, 'min_samples_split': 10, 'min_samples_leaf': 8, 'max_depth': 7, 'min_impurity_decrease': 0.7748231170380916, 'max_features': 10}. Best is trial 213 with value: 0.8238026489234826.\u001b[0m\n",
      "\u001b[32m[I 2021-12-21 20:58:11,077]\u001b[0m Trial 564 finished with value: 0.8204318624066286 and parameters: {'learning_rate': 0.008457743497731427, 'n_estimators': 166, 'subsample': 0.9414298564515122, 'min_samples_split': 6, 'min_samples_leaf': 2, 'max_depth': 7, 'min_impurity_decrease': 0.8060076843164296, 'max_features': 18}. Best is trial 213 with value: 0.8238026489234826.\u001b[0m\n",
      "\u001b[32m[I 2021-12-21 20:58:12,054]\u001b[0m Trial 565 finished with value: 0.8181972255351203 and parameters: {'learning_rate': 0.008978078930024823, 'n_estimators': 160, 'subsample': 0.9287440647532401, 'min_samples_split': 8, 'min_samples_leaf': 2, 'max_depth': 7, 'min_impurity_decrease': 0.7665753701439205, 'max_features': 18}. Best is trial 213 with value: 0.8238026489234826.\u001b[0m\n",
      "\u001b[32m[I 2021-12-21 20:58:13,004]\u001b[0m Trial 566 finished with value: 0.8204318624066286 and parameters: {'learning_rate': 0.008583407665673356, 'n_estimators': 157, 'subsample': 0.9329017306626289, 'min_samples_split': 9, 'min_samples_leaf': 2, 'max_depth': 7, 'min_impurity_decrease': 0.7706509937323389, 'max_features': 17}. Best is trial 213 with value: 0.8238026489234826.\u001b[0m\n",
      "\u001b[32m[I 2021-12-21 20:58:13,936]\u001b[0m Trial 567 finished with value: 0.8215554579122466 and parameters: {'learning_rate': 0.008736021410188132, 'n_estimators': 151, 'subsample': 0.950257643768057, 'min_samples_split': 6, 'min_samples_leaf': 2, 'max_depth': 7, 'min_impurity_decrease': 0.8013484010587417, 'max_features': 18}. Best is trial 213 with value: 0.8238026489234826.\u001b[0m\n",
      "\u001b[32m[I 2021-12-21 20:58:14,857]\u001b[0m Trial 568 finished with value: 0.8170673529596385 and parameters: {'learning_rate': 0.008731613179087388, 'n_estimators': 141, 'subsample': 0.9559661013365862, 'min_samples_split': 5, 'min_samples_leaf': 2, 'max_depth': 7, 'min_impurity_decrease': 0.7664103455100594, 'max_features': 19}. Best is trial 213 with value: 0.8238026489234826.\u001b[0m\n",
      "\u001b[32m[I 2021-12-21 20:58:15,775]\u001b[0m Trial 569 finished with value: 0.8148327160881301 and parameters: {'learning_rate': 0.009404943472276363, 'n_estimators': 145, 'subsample': 0.9553225494351195, 'min_samples_split': 7, 'min_samples_leaf': 2, 'max_depth': 7, 'min_impurity_decrease': 0.771529119193932, 'max_features': 19}. Best is trial 213 with value: 0.8238026489234826.\u001b[0m\n",
      "\u001b[32m[I 2021-12-21 20:58:16,726]\u001b[0m Trial 570 finished with value: 0.8181846713953925 and parameters: {'learning_rate': 0.008270500852540831, 'n_estimators': 152, 'subsample': 0.9465127794975929, 'min_samples_split': 6, 'min_samples_leaf': 3, 'max_depth': 7, 'min_impurity_decrease': 0.7941363009339868, 'max_features': 18}. Best is trial 213 with value: 0.8238026489234826.\u001b[0m\n",
      "\u001b[32m[I 2021-12-21 20:58:17,649]\u001b[0m Trial 571 finished with value: 0.8193082669010104 and parameters: {'learning_rate': 0.008903385030409518, 'n_estimators': 154, 'subsample': 0.9348584020350923, 'min_samples_split': 11, 'min_samples_leaf': 3, 'max_depth': 7, 'min_impurity_decrease': 0.7750371934664032, 'max_features': 17}. Best is trial 213 with value: 0.8238026489234826.\u001b[0m\n"
     ]
    },
    {
     "name": "stderr",
     "output_type": "stream",
     "text": [
      "\u001b[32m[I 2021-12-21 20:58:18,603]\u001b[0m Trial 572 finished with value: 0.8193082669010107 and parameters: {'learning_rate': 0.008106184600177493, 'n_estimators': 145, 'subsample': 0.9454324384102369, 'min_samples_split': 9, 'min_samples_leaf': 2, 'max_depth': 7, 'min_impurity_decrease': 0.7535018740576255, 'max_features': 19}. Best is trial 213 with value: 0.8238026489234826.\u001b[0m\n",
      "\u001b[32m[I 2021-12-21 20:58:19,538]\u001b[0m Trial 573 finished with value: 0.8193082669010104 and parameters: {'learning_rate': 0.00859229317633687, 'n_estimators': 153, 'subsample': 0.9399360545560271, 'min_samples_split': 6, 'min_samples_leaf': 3, 'max_depth': 7, 'min_impurity_decrease': 0.7950254482738477, 'max_features': 18}. Best is trial 213 with value: 0.8238026489234826.\u001b[0m\n",
      "\u001b[32m[I 2021-12-21 20:58:20,394]\u001b[0m Trial 574 finished with value: 0.8170610758897746 and parameters: {'learning_rate': 0.009542822415767151, 'n_estimators': 136, 'subsample': 0.9501203754662213, 'min_samples_split': 8, 'min_samples_leaf': 7, 'max_depth': 7, 'min_impurity_decrease': 0.7594667077905207, 'max_features': 19}. Best is trial 213 with value: 0.8238026489234826.\u001b[0m\n",
      "\u001b[32m[I 2021-12-21 20:58:21,325]\u001b[0m Trial 575 finished with value: 0.8204318624066287 and parameters: {'learning_rate': 0.008519953914185214, 'n_estimators': 150, 'subsample': 0.9305771933599687, 'min_samples_split': 9, 'min_samples_leaf': 2, 'max_depth': 7, 'min_impurity_decrease': 0.8021707286912938, 'max_features': 18}. Best is trial 213 with value: 0.8238026489234826.\u001b[0m\n",
      "\u001b[32m[I 2021-12-21 20:58:22,231]\u001b[0m Trial 576 finished with value: 0.8193082669010107 and parameters: {'learning_rate': 0.008644538312563465, 'n_estimators': 151, 'subsample': 0.9662904281500843, 'min_samples_split': 12, 'min_samples_leaf': 4, 'max_depth': 7, 'min_impurity_decrease': 0.7946944464686405, 'max_features': 17}. Best is trial 213 with value: 0.8238026489234826.\u001b[0m\n",
      "\u001b[32m[I 2021-12-21 20:58:23,235]\u001b[0m Trial 577 finished with value: 0.8035842068922227 and parameters: {'learning_rate': 0.004452785303577431, 'n_estimators': 153, 'subsample': 0.9437395210012874, 'min_samples_split': 10, 'min_samples_leaf': 3, 'max_depth': 7, 'min_impurity_decrease': 0.880192513505559, 'max_features': 18}. Best is trial 213 with value: 0.8238026489234826.\u001b[0m\n",
      "\u001b[32m[I 2021-12-21 20:58:24,367]\u001b[0m Trial 578 finished with value: 0.8080723118448307 and parameters: {'learning_rate': 0.0037130172911208218, 'n_estimators': 142, 'subsample': 0.9618174151344844, 'min_samples_split': 11, 'min_samples_leaf': 2, 'max_depth': 7, 'min_impurity_decrease': 0.7706952819509809, 'max_features': 19}. Best is trial 213 with value: 0.8238026489234826.\u001b[0m\n",
      "\u001b[32m[I 2021-12-21 20:58:25,143]\u001b[0m Trial 579 finished with value: 0.810344611135522 and parameters: {'learning_rate': 0.009179448074686718, 'n_estimators': 148, 'subsample': 0.9510751708842479, 'min_samples_split': 7, 'min_samples_leaf': 14, 'max_depth': 7, 'min_impurity_decrease': 0.8123617502355716, 'max_features': 13}. Best is trial 213 with value: 0.8238026489234826.\u001b[0m\n",
      "\u001b[32m[I 2021-12-21 20:58:26,166]\u001b[0m Trial 580 finished with value: 0.8193145439708743 and parameters: {'learning_rate': 0.009154571542383147, 'n_estimators': 165, 'subsample': 0.9406550423737239, 'min_samples_split': 7, 'min_samples_leaf': 2, 'max_depth': 7, 'min_impurity_decrease': 0.7742283076849065, 'max_features': 19}. Best is trial 213 with value: 0.8238026489234826.\u001b[0m\n",
      "\u001b[32m[I 2021-12-21 20:58:26,540]\u001b[0m Trial 581 finished with value: 0.7957002071433055 and parameters: {'learning_rate': 0.00927565586673884, 'n_estimators': 42, 'subsample': 0.9471503240786142, 'min_samples_split': 8, 'min_samples_leaf': 4, 'max_depth': 7, 'min_impurity_decrease': 0.7823064885348147, 'max_features': 18}. Best is trial 213 with value: 0.8238026489234826.\u001b[0m\n",
      "\u001b[32m[I 2021-12-21 20:58:27,446]\u001b[0m Trial 582 finished with value: 0.8238026489234826 and parameters: {'learning_rate': 0.009373670488646369, 'n_estimators': 140, 'subsample': 0.9085001578785754, 'min_samples_split': 8, 'min_samples_leaf': 2, 'max_depth': 7, 'min_impurity_decrease': 0.7642567144115675, 'max_features': 19}. Best is trial 213 with value: 0.8238026489234826.\u001b[0m\n",
      "\u001b[32m[I 2021-12-21 20:58:28,421]\u001b[0m Trial 583 finished with value: 0.8226790534178645 and parameters: {'learning_rate': 0.008986993955608199, 'n_estimators': 161, 'subsample': 0.9281568739501371, 'min_samples_split': 9, 'min_samples_leaf': 3, 'max_depth': 7, 'min_impurity_decrease': 0.7654009857528916, 'max_features': 18}. Best is trial 213 with value: 0.8238026489234826.\u001b[0m\n",
      "\u001b[32m[I 2021-12-21 20:58:29,391]\u001b[0m Trial 584 finished with value: 0.8170799070993662 and parameters: {'learning_rate': 0.009610756468919837, 'n_estimators': 159, 'subsample': 0.9204808102246167, 'min_samples_split': 9, 'min_samples_leaf': 3, 'max_depth': 7, 'min_impurity_decrease': 0.7643610617068863, 'max_features': 19}. Best is trial 213 with value: 0.8238026489234826.\u001b[0m\n",
      "\u001b[32m[I 2021-12-21 20:58:30,408]\u001b[0m Trial 585 finished with value: 0.8182035026049839 and parameters: {'learning_rate': 0.009119125871770778, 'n_estimators': 172, 'subsample': 0.9140572852210371, 'min_samples_split': 8, 'min_samples_leaf': 2, 'max_depth': 7, 'min_impurity_decrease': 0.765521565340302, 'max_features': 18}. Best is trial 213 with value: 0.8238026489234826.\u001b[0m\n",
      "\u001b[32m[I 2021-12-21 20:58:31,312]\u001b[0m Trial 586 finished with value: 0.8204318624066287 and parameters: {'learning_rate': 0.008910708649711534, 'n_estimators': 144, 'subsample': 0.8991593457469207, 'min_samples_split': 8, 'min_samples_leaf': 2, 'max_depth': 7, 'min_impurity_decrease': 0.7561803023553478, 'max_features': 18}. Best is trial 213 with value: 0.8238026489234826.\u001b[0m\n",
      "\u001b[32m[I 2021-12-21 20:58:32,280]\u001b[0m Trial 587 finished with value: 0.8193082669010104 and parameters: {'learning_rate': 0.008869616902719516, 'n_estimators': 166, 'subsample': 0.9180841687200404, 'min_samples_split': 15, 'min_samples_leaf': 3, 'max_depth': 7, 'min_impurity_decrease': 0.7802666835398121, 'max_features': 17}. Best is trial 213 with value: 0.8238026489234826.\u001b[0m\n",
      "\u001b[32m[I 2021-12-21 20:58:32,849]\u001b[0m Trial 588 finished with value: 0.8069173309898939 and parameters: {'learning_rate': 0.009408179458676303, 'n_estimators': 139, 'subsample': 0.9066121181643266, 'min_samples_split': 9, 'min_samples_leaf': 2, 'max_depth': 7, 'min_impurity_decrease': 0.7696434837025287, 'max_features': 3}. Best is trial 213 with value: 0.8238026489234826.\u001b[0m\n",
      "\u001b[32m[I 2021-12-21 20:58:33,753]\u001b[0m Trial 589 finished with value: 0.8215554579122466 and parameters: {'learning_rate': 0.00910378130519765, 'n_estimators': 140, 'subsample': 0.9297300967500443, 'min_samples_split': 8, 'min_samples_leaf': 2, 'max_depth': 7, 'min_impurity_decrease': 0.7644532935568488, 'max_features': 19}. Best is trial 213 with value: 0.8238026489234826.\u001b[0m\n",
      "\u001b[32m[I 2021-12-21 20:58:34,760]\u001b[0m Trial 590 finished with value: 0.817079907099366 and parameters: {'learning_rate': 0.008009085245284608, 'n_estimators': 167, 'subsample': 0.9213629660061372, 'min_samples_split': 7, 'min_samples_leaf': 3, 'max_depth': 7, 'min_impurity_decrease': 0.7859857790470972, 'max_features': 18}. Best is trial 213 with value: 0.8238026489234826.\u001b[0m\n",
      "\u001b[32m[I 2021-12-21 20:58:35,734]\u001b[0m Trial 591 finished with value: 0.8170610758897746 and parameters: {'learning_rate': 0.009579972236344958, 'n_estimators': 161, 'subsample': 0.9242365445906678, 'min_samples_split': 10, 'min_samples_leaf': 4, 'max_depth': 7, 'min_impurity_decrease': 0.7766354087268805, 'max_features': 20}. Best is trial 213 with value: 0.8238026489234826.\u001b[0m\n",
      "\u001b[32m[I 2021-12-21 20:58:36,593]\u001b[0m Trial 592 finished with value: 0.8181846713953925 and parameters: {'learning_rate': 0.009663081787550997, 'n_estimators': 135, 'subsample': 0.953942153123686, 'min_samples_split': 8, 'min_samples_leaf': 6, 'max_depth': 7, 'min_impurity_decrease': 0.7601523686386328, 'max_features': 20}. Best is trial 213 with value: 0.8238026489234826.\u001b[0m\n",
      "\u001b[32m[I 2021-12-21 20:58:37,557]\u001b[0m Trial 593 finished with value: 0.8182035026049841 and parameters: {'learning_rate': 0.00924143724729366, 'n_estimators': 162, 'subsample': 0.9256275846399125, 'min_samples_split': 7, 'min_samples_leaf': 3, 'max_depth': 7, 'min_impurity_decrease': 0.7733225484502089, 'max_features': 18}. Best is trial 213 with value: 0.8238026489234826.\u001b[0m\n"
     ]
    },
    {
     "name": "stderr",
     "output_type": "stream",
     "text": [
      "\u001b[32m[I 2021-12-21 20:58:38,627]\u001b[0m Trial 594 finished with value: 0.8159625886636117 and parameters: {'learning_rate': 0.008468558383118824, 'n_estimators': 186, 'subsample': 0.8897094785547406, 'min_samples_split': 9, 'min_samples_leaf': 3, 'max_depth': 7, 'min_impurity_decrease': 0.7877310436589139, 'max_features': 18}. Best is trial 213 with value: 0.8238026489234826.\u001b[0m\n",
      "\u001b[32m[I 2021-12-21 20:58:39,510]\u001b[0m Trial 595 finished with value: 0.8170673529596384 and parameters: {'learning_rate': 0.008766249866385713, 'n_estimators': 149, 'subsample': 0.9105755543025648, 'min_samples_split': 13, 'min_samples_leaf': 3, 'max_depth': 7, 'min_impurity_decrease': 0.8153905654516264, 'max_features': 17}. Best is trial 213 with value: 0.8238026489234826.\u001b[0m\n",
      "\u001b[32m[I 2021-12-21 20:58:40,470]\u001b[0m Trial 596 finished with value: 0.8159625886636119 and parameters: {'learning_rate': 0.008953367260594683, 'n_estimators': 174, 'subsample': 0.9274439478490528, 'min_samples_split': 7, 'min_samples_leaf': 2, 'max_depth': 7, 'min_impurity_decrease': 0.961238930901236, 'max_features': 18}. Best is trial 213 with value: 0.8238026489234826.\u001b[0m\n",
      "\u001b[32m[I 2021-12-21 20:58:41,299]\u001b[0m Trial 597 finished with value: 0.8114682066411399 and parameters: {'learning_rate': 0.008846606837799463, 'n_estimators': 145, 'subsample': 0.904434469593048, 'min_samples_split': 6, 'min_samples_leaf': 19, 'max_depth': 7, 'min_impurity_decrease': 0.7546022968270244, 'max_features': 19}. Best is trial 213 with value: 0.8238026489234826.\u001b[0m\n",
      "\u001b[32m[I 2021-12-21 20:58:42,205]\u001b[0m Trial 598 finished with value: 0.8181909484652564 and parameters: {'learning_rate': 0.009050819874279388, 'n_estimators': 141, 'subsample': 0.9283519587686868, 'min_samples_split': 8, 'min_samples_leaf': 2, 'max_depth': 7, 'min_impurity_decrease': 0.7672544586319097, 'max_features': 19}. Best is trial 213 with value: 0.8238026489234826.\u001b[0m\n",
      "\u001b[32m[I 2021-12-21 20:58:43,099]\u001b[0m Trial 599 finished with value: 0.8193145439708743 and parameters: {'learning_rate': 0.008760401737605936, 'n_estimators': 150, 'subsample': 0.9621911779803671, 'min_samples_split': 9, 'min_samples_leaf': 3, 'max_depth': 7, 'min_impurity_decrease': 0.7952829588073287, 'max_features': 16}. Best is trial 213 with value: 0.8238026489234826.\u001b[0m\n",
      "\u001b[32m[I 2021-12-21 20:58:43,935]\u001b[0m Trial 600 finished with value: 0.8159312033142928 and parameters: {'learning_rate': 0.008212195640766386, 'n_estimators': 144, 'subsample': 0.9449034316001224, 'min_samples_split': 8, 'min_samples_leaf': 4, 'max_depth': 6, 'min_impurity_decrease': 0.7835553862060434, 'max_features': 14}. Best is trial 213 with value: 0.8238026489234826.\u001b[0m\n",
      "\u001b[32m[I 2021-12-21 20:58:44,833]\u001b[0m Trial 601 finished with value: 0.8170610758897746 and parameters: {'learning_rate': 0.008982553422116586, 'n_estimators': 147, 'subsample': 0.8803254802813887, 'min_samples_split': 5, 'min_samples_leaf': 2, 'max_depth': 7, 'min_impurity_decrease': 0.806822275510189, 'max_features': 17}. Best is trial 213 with value: 0.8238026489234826.\u001b[0m\n",
      "\u001b[32m[I 2021-12-21 20:58:45,786]\u001b[0m Trial 602 finished with value: 0.8148327160881301 and parameters: {'learning_rate': 0.009390942732371692, 'n_estimators': 154, 'subsample': 0.9323411110259915, 'min_samples_split': 10, 'min_samples_leaf': 3, 'max_depth': 7, 'min_impurity_decrease': 0.7637665049397591, 'max_features': 19}. Best is trial 213 with value: 0.8238026489234826.\u001b[0m\n",
      "\u001b[32m[I 2021-12-21 20:58:46,548]\u001b[0m Trial 603 finished with value: 0.8013684012303057 and parameters: {'learning_rate': 0.009278973838882298, 'n_estimators': 142, 'subsample': 0.9568468254130338, 'min_samples_split': 8, 'min_samples_leaf': 9, 'max_depth': 3, 'min_impurity_decrease': 0.7879446126583507, 'max_features': 19}. Best is trial 213 with value: 0.8238026489234826.\u001b[0m\n",
      "\u001b[32m[I 2021-12-21 20:58:47,484]\u001b[0m Trial 604 finished with value: 0.8148327160881299 and parameters: {'learning_rate': 0.009455851507921062, 'n_estimators': 160, 'subsample': 0.9356429489491986, 'min_samples_split': 10, 'min_samples_leaf': 3, 'max_depth': 5, 'min_impurity_decrease': 0.771592428040022, 'max_features': 18}. Best is trial 213 with value: 0.8238026489234826.\u001b[0m\n",
      "\u001b[32m[I 2021-12-21 20:58:48,281]\u001b[0m Trial 605 finished with value: 0.8114807607808675 and parameters: {'learning_rate': 0.009467388159122932, 'n_estimators': 134, 'subsample': 0.9372679803507321, 'min_samples_split': 17, 'min_samples_leaf': 2, 'max_depth': 7, 'min_impurity_decrease': 0.9834445596931513, 'max_features': 19}. Best is trial 213 with value: 0.8238026489234826.\u001b[0m\n",
      "\u001b[32m[I 2021-12-21 20:58:49,298]\u001b[0m Trial 606 finished with value: 0.8159625886636119 and parameters: {'learning_rate': 0.009150248082425452, 'n_estimators': 169, 'subsample': 0.9490235242644164, 'min_samples_split': 7, 'min_samples_leaf': 2, 'max_depth': 7, 'min_impurity_decrease': 0.7657392207455551, 'max_features': 18}. Best is trial 213 with value: 0.8238026489234826.\u001b[0m\n",
      "\u001b[32m[I 2021-12-21 20:58:50,221]\u001b[0m Trial 607 finished with value: 0.8204318624066287 and parameters: {'learning_rate': 0.009165036641924333, 'n_estimators': 148, 'subsample': 0.939788402270212, 'min_samples_split': 7, 'min_samples_leaf': 2, 'max_depth': 7, 'min_impurity_decrease': 0.7618242599313516, 'max_features': 18}. Best is trial 213 with value: 0.8238026489234826.\u001b[0m\n",
      "\u001b[32m[I 2021-12-21 20:58:51,135]\u001b[0m Trial 608 finished with value: 0.8238026489234824 and parameters: {'learning_rate': 0.009275908295515625, 'n_estimators': 144, 'subsample': 0.9560492885376096, 'min_samples_split': 8, 'min_samples_leaf': 3, 'max_depth': 7, 'min_impurity_decrease': 0.770870265595398, 'max_features': 19}. Best is trial 213 with value: 0.8238026489234826.\u001b[0m\n",
      "\u001b[32m[I 2021-12-21 20:58:52,024]\u001b[0m Trial 609 finished with value: 0.8204318624066286 and parameters: {'learning_rate': 0.009350148359091159, 'n_estimators': 138, 'subsample': 0.9578996694967912, 'min_samples_split': 8, 'min_samples_leaf': 4, 'max_depth': 7, 'min_impurity_decrease': 0.7583285526272568, 'max_features': 19}. Best is trial 213 with value: 0.8238026489234826.\u001b[0m\n",
      "\u001b[32m[I 2021-12-21 20:58:52,998]\u001b[0m Trial 610 finished with value: 0.8103195028560668 and parameters: {'learning_rate': 0.005536267326514055, 'n_estimators': 139, 'subsample': 0.9568167411589434, 'min_samples_split': 8, 'min_samples_leaf': 3, 'max_depth': 7, 'min_impurity_decrease': 0.7678806678234833, 'max_features': 19}. Best is trial 213 with value: 0.8238026489234826.\u001b[0m\n",
      "\u001b[32m[I 2021-12-21 20:58:53,911]\u001b[0m Trial 611 finished with value: 0.8215554579122466 and parameters: {'learning_rate': 0.008949985413030282, 'n_estimators': 144, 'subsample': 0.9658510095851291, 'min_samples_split': 8, 'min_samples_leaf': 2, 'max_depth': 7, 'min_impurity_decrease': 0.7707520463693954, 'max_features': 18}. Best is trial 213 with value: 0.8238026489234826.\u001b[0m\n",
      "\u001b[32m[I 2021-12-21 20:58:54,796]\u001b[0m Trial 612 finished with value: 0.8193082669010107 and parameters: {'learning_rate': 0.009308986007803157, 'n_estimators': 139, 'subsample': 0.9530996394562553, 'min_samples_split': 8, 'min_samples_leaf': 4, 'max_depth': 7, 'min_impurity_decrease': 0.7781471178806688, 'max_features': 19}. Best is trial 213 with value: 0.8238026489234826.\u001b[0m\n",
      "\u001b[32m[I 2021-12-21 20:58:55,697]\u001b[0m Trial 613 finished with value: 0.8193082669010104 and parameters: {'learning_rate': 0.00917874423243479, 'n_estimators': 143, 'subsample': 0.9427584766727138, 'min_samples_split': 14, 'min_samples_leaf': 3, 'max_depth': 7, 'min_impurity_decrease': 0.774094427938216, 'max_features': 19}. Best is trial 213 with value: 0.8238026489234826.\u001b[0m\n",
      "\u001b[32m[I 2021-12-21 20:58:56,619]\u001b[0m Trial 614 finished with value: 0.8193082669010107 and parameters: {'learning_rate': 0.009470987082878997, 'n_estimators': 146, 'subsample': 0.9690968122813175, 'min_samples_split': 8, 'min_samples_leaf': 3, 'max_depth': 7, 'min_impurity_decrease': 0.7641451296899082, 'max_features': 19}. Best is trial 213 with value: 0.8238026489234826.\u001b[0m\n",
      "\u001b[32m[I 2021-12-21 20:58:57,499]\u001b[0m Trial 615 finished with value: 0.8181846713953927 and parameters: {'learning_rate': 0.00961760384974912, 'n_estimators': 137, 'subsample': 0.9469533338465556, 'min_samples_split': 8, 'min_samples_leaf': 4, 'max_depth': 7, 'min_impurity_decrease': 0.7592368601618738, 'max_features': 20}. Best is trial 213 with value: 0.8238026489234826.\u001b[0m\n"
     ]
    },
    {
     "name": "stderr",
     "output_type": "stream",
     "text": [
      "\u001b[32m[I 2021-12-21 20:58:58,413]\u001b[0m Trial 616 finished with value: 0.8215617349821104 and parameters: {'learning_rate': 0.009797757606624557, 'n_estimators': 142, 'subsample': 0.962211666528173, 'min_samples_split': 6, 'min_samples_leaf': 2, 'max_depth': 7, 'min_impurity_decrease': 0.8005352134991581, 'max_features': 20}. Best is trial 213 with value: 0.8238026489234826.\u001b[0m\n",
      "\u001b[32m[I 2021-12-21 20:58:59,303]\u001b[0m Trial 617 finished with value: 0.8193208210407382 and parameters: {'learning_rate': 0.009632098974552116, 'n_estimators': 141, 'subsample': 0.969446745783037, 'min_samples_split': 8, 'min_samples_leaf': 3, 'max_depth': 7, 'min_impurity_decrease': 0.826468245018116, 'max_features': 20}. Best is trial 213 with value: 0.8238026489234826.\u001b[0m\n",
      "\u001b[32m[I 2021-12-21 20:58:59,835]\u001b[0m Trial 618 finished with value: 0.809189630280585 and parameters: {'learning_rate': 0.00950611391771956, 'n_estimators': 67, 'subsample': 0.958664063552098, 'min_samples_split': 6, 'min_samples_leaf': 2, 'max_depth': 7, 'min_impurity_decrease': 0.8063478136224, 'max_features': 20}. Best is trial 213 with value: 0.8238026489234826.\u001b[0m\n",
      "\u001b[32m[I 2021-12-21 20:59:00,764]\u001b[0m Trial 619 finished with value: 0.8193145439708746 and parameters: {'learning_rate': 0.009660043603634783, 'n_estimators': 144, 'subsample': 0.9644938571214051, 'min_samples_split': 8, 'min_samples_leaf': 2, 'max_depth': 7, 'min_impurity_decrease': 0.7709727108270013, 'max_features': 20}. Best is trial 213 with value: 0.8238026489234826.\u001b[0m\n",
      "\u001b[32m[I 2021-12-21 20:59:01,733]\u001b[0m Trial 620 finished with value: 0.8226790534178645 and parameters: {'learning_rate': 0.007900184924203137, 'n_estimators': 147, 'subsample': 0.9601232056015405, 'min_samples_split': 7, 'min_samples_leaf': 2, 'max_depth': 7, 'min_impurity_decrease': 0.8013663583063837, 'max_features': 20}. Best is trial 213 with value: 0.8238026489234826.\u001b[0m\n",
      "\u001b[32m[I 2021-12-21 20:59:02,678]\u001b[0m Trial 621 finished with value: 0.8181972255351203 and parameters: {'learning_rate': 0.009280211351777484, 'n_estimators': 147, 'subsample': 0.9634511383731156, 'min_samples_split': 7, 'min_samples_leaf': 2, 'max_depth': 7, 'min_impurity_decrease': 0.8095157621797768, 'max_features': 20}. Best is trial 213 with value: 0.8238026489234826.\u001b[0m\n",
      "\u001b[32m[I 2021-12-21 20:59:03,630]\u001b[0m Trial 622 finished with value: 0.8204318624066287 and parameters: {'learning_rate': 0.007835590077633825, 'n_estimators': 143, 'subsample': 0.9728980712445419, 'min_samples_split': 7, 'min_samples_leaf': 2, 'max_depth': 7, 'min_impurity_decrease': 0.8126482421206556, 'max_features': 20}. Best is trial 213 with value: 0.8238026489234826.\u001b[0m\n",
      "\u001b[32m[I 2021-12-21 20:59:04,578]\u001b[0m Trial 623 finished with value: 0.8170924612390935 and parameters: {'learning_rate': 0.009460002273402907, 'n_estimators': 147, 'subsample': 0.9730978512352968, 'min_samples_split': 6, 'min_samples_leaf': 2, 'max_depth': 7, 'min_impurity_decrease': 0.8062273481262979, 'max_features': 20}. Best is trial 213 with value: 0.8238026489234826.\u001b[0m\n",
      "\u001b[32m[I 2021-12-21 20:59:05,338]\u001b[0m Trial 624 finished with value: 0.8215554579122465 and parameters: {'learning_rate': 0.00977125523957642, 'n_estimators': 109, 'subsample': 0.9609610552322336, 'min_samples_split': 7, 'min_samples_leaf': 2, 'max_depth': 7, 'min_impurity_decrease': 0.7789069578360021, 'max_features': 20}. Best is trial 213 with value: 0.8238026489234826.\u001b[0m\n",
      "\u001b[32m[I 2021-12-21 20:59:06,262]\u001b[0m Trial 625 finished with value: 0.8215617349821104 and parameters: {'learning_rate': 0.009041242154722197, 'n_estimators': 141, 'subsample': 0.9659191272169829, 'min_samples_split': 7, 'min_samples_leaf': 2, 'max_depth': 7, 'min_impurity_decrease': 0.8022099215462327, 'max_features': 20}. Best is trial 213 with value: 0.8238026489234826.\u001b[0m\n",
      "\u001b[32m[I 2021-12-21 20:59:07,211]\u001b[0m Trial 626 finished with value: 0.8181909484652564 and parameters: {'learning_rate': 0.007243356500853512, 'n_estimators': 139, 'subsample': 0.9683248145414333, 'min_samples_split': 5, 'min_samples_leaf': 2, 'max_depth': 7, 'min_impurity_decrease': 0.8007152855166639, 'max_features': 20}. Best is trial 213 with value: 0.8238026489234826.\u001b[0m\n",
      "\u001b[32m[I 2021-12-21 20:59:08,154]\u001b[0m Trial 627 finished with value: 0.8215554579122466 and parameters: {'learning_rate': 0.00904428403969358, 'n_estimators': 146, 'subsample': 0.9673363678400716, 'min_samples_split': 7, 'min_samples_leaf': 3, 'max_depth': 7, 'min_impurity_decrease': 0.775948936075395, 'max_features': 20}. Best is trial 213 with value: 0.8238026489234826.\u001b[0m\n",
      "\u001b[32m[I 2021-12-21 20:59:08,823]\u001b[0m Trial 628 finished with value: 0.8125729709371665 and parameters: {'learning_rate': 0.009023380978263211, 'n_estimators': 150, 'subsample': 0.9766980906313161, 'min_samples_split': 7, 'min_samples_leaf': 3, 'max_depth': 7, 'min_impurity_decrease': 0.7986152773036604, 'max_features': 5}. Best is trial 213 with value: 0.8238026489234826.\u001b[0m\n",
      "\u001b[32m[I 2021-12-21 20:59:09,685]\u001b[0m Trial 629 finished with value: 0.8137216747222397 and parameters: {'learning_rate': 0.00923592440271011, 'n_estimators': 140, 'subsample': 0.9551884067694635, 'min_samples_split': 7, 'min_samples_leaf': 2, 'max_depth': 6, 'min_impurity_decrease': 0.9307628842417663, 'max_features': 20}. Best is trial 213 with value: 0.8238026489234826.\u001b[0m\n",
      "\u001b[32m[I 2021-12-21 20:59:10,593]\u001b[0m Trial 630 finished with value: 0.8181972255351202 and parameters: {'learning_rate': 0.008955508823576912, 'n_estimators': 144, 'subsample': 0.9592349166369992, 'min_samples_split': 7, 'min_samples_leaf': 8, 'max_depth': 7, 'min_impurity_decrease': 0.7691228460348679, 'max_features': 20}. Best is trial 213 with value: 0.8238026489234826.\u001b[0m\n",
      "\u001b[32m[I 2021-12-21 20:59:11,653]\u001b[0m Trial 631 finished with value: 0.8193145439708743 and parameters: {'learning_rate': 0.005824091748925559, 'n_estimators': 152, 'subsample': 0.96117725139538, 'min_samples_split': 6, 'min_samples_leaf': 2, 'max_depth': 7, 'min_impurity_decrease': 0.7926015648479544, 'max_features': 20}. Best is trial 213 with value: 0.8238026489234826.\u001b[0m\n",
      "\u001b[32m[I 2021-12-21 20:59:12,555]\u001b[0m Trial 632 finished with value: 0.8204381394764925 and parameters: {'learning_rate': 0.009443692348111056, 'n_estimators': 141, 'subsample': 0.9679161340612903, 'min_samples_split': 7, 'min_samples_leaf': 3, 'max_depth': 7, 'min_impurity_decrease': 0.8037900357011133, 'max_features': 20}. Best is trial 213 with value: 0.8238026489234826.\u001b[0m\n",
      "\u001b[32m[I 2021-12-21 20:59:13,401]\u001b[0m Trial 633 finished with value: 0.811461929571276 and parameters: {'learning_rate': 0.009764882483611766, 'n_estimators': 143, 'subsample': 0.9632682416072913, 'min_samples_split': 6, 'min_samples_leaf': 16, 'max_depth': 7, 'min_impurity_decrease': 0.8007881054186452, 'max_features': 20}. Best is trial 213 with value: 0.8238026489234826.\u001b[0m\n",
      "\u001b[32m[I 2021-12-21 20:59:14,337]\u001b[0m Trial 634 finished with value: 0.8204318624066286 and parameters: {'learning_rate': 0.009323796281509469, 'n_estimators': 148, 'subsample': 0.9530957550310293, 'min_samples_split': 8, 'min_samples_leaf': 2, 'max_depth': 7, 'min_impurity_decrease': 0.7728309354866284, 'max_features': 19}. Best is trial 213 with value: 0.8238026489234826.\u001b[0m\n",
      "\u001b[32m[I 2021-12-21 20:59:15,287]\u001b[0m Trial 635 finished with value: 0.815956311593748 and parameters: {'learning_rate': 0.009547950531318508, 'n_estimators': 151, 'subsample': 0.957381698288167, 'min_samples_split': 9, 'min_samples_leaf': 3, 'max_depth': 7, 'min_impurity_decrease': 0.766818213856393, 'max_features': 19}. Best is trial 213 with value: 0.8238026489234826.\u001b[0m\n",
      "\u001b[32m[I 2021-12-21 20:59:15,840]\u001b[0m Trial 636 finished with value: 0.8103195028560668 and parameters: {'learning_rate': 0.00890300161642446, 'n_estimators': 74, 'subsample': 0.9531603851081419, 'min_samples_split': 7, 'min_samples_leaf': 2, 'max_depth': 7, 'min_impurity_decrease': 0.873603742996175, 'max_features': 19}. Best is trial 213 with value: 0.8238026489234826.\u001b[0m\n",
      "\u001b[32m[I 2021-12-21 20:59:16,852]\u001b[0m Trial 637 finished with value: 0.8181846713953927 and parameters: {'learning_rate': 0.007726874847818727, 'n_estimators': 156, 'subsample': 0.9564637567926367, 'min_samples_split': 6, 'min_samples_leaf': 3, 'max_depth': 7, 'min_impurity_decrease': 0.7975282257894792, 'max_features': 19}. Best is trial 213 with value: 0.8238026489234826.\u001b[0m\n"
     ]
    },
    {
     "name": "stderr",
     "output_type": "stream",
     "text": [
      "\u001b[32m[I 2021-12-21 20:59:17,784]\u001b[0m Trial 638 finished with value: 0.8137153976523759 and parameters: {'learning_rate': 0.009208330211179177, 'n_estimators': 147, 'subsample': 0.9510449297731962, 'min_samples_split': 8, 'min_samples_leaf': 2, 'max_depth': 7, 'min_impurity_decrease': 0.8179274898713601, 'max_features': 19}. Best is trial 213 with value: 0.8238026489234826.\u001b[0m\n",
      "\u001b[32m[I 2021-12-21 20:59:18,603]\u001b[0m Trial 639 finished with value: 0.8103446111355218 and parameters: {'learning_rate': 0.008742093480458775, 'n_estimators': 145, 'subsample': 0.9601124381089619, 'min_samples_split': 9, 'min_samples_leaf': 2, 'max_depth': 4, 'min_impurity_decrease': 0.778410934909539, 'max_features': 15}. Best is trial 213 with value: 0.8238026489234826.\u001b[0m\n",
      "\u001b[32m[I 2021-12-21 20:59:19,478]\u001b[0m Trial 640 finished with value: 0.8226790534178645 and parameters: {'learning_rate': 0.009713231336526624, 'n_estimators': 135, 'subsample': 0.9674089936524229, 'min_samples_split': 6, 'min_samples_leaf': 3, 'max_depth': 7, 'min_impurity_decrease': 0.7991796999653843, 'max_features': 20}. Best is trial 213 with value: 0.8238026489234826.\u001b[0m\n",
      "\u001b[32m[I 2021-12-21 20:59:20,157]\u001b[0m Trial 641 finished with value: 0.8159249262444289 and parameters: {'learning_rate': 0.009771744685981978, 'n_estimators': 135, 'subsample': 0.981994312252557, 'min_samples_split': 5, 'min_samples_leaf': 3, 'max_depth': 7, 'min_impurity_decrease': 0.8020999281065919, 'max_features': 8}. Best is trial 213 with value: 0.8238026489234826.\u001b[0m\n",
      "\u001b[32m[I 2021-12-21 20:59:20,581]\u001b[0m Trial 642 finished with value: 0.8069424392693489 and parameters: {'learning_rate': 0.009799028077418224, 'n_estimators': 50, 'subsample': 0.9724538940917573, 'min_samples_split': 5, 'min_samples_leaf': 3, 'max_depth': 7, 'min_impurity_decrease': 0.80670323229952, 'max_features': 20}. Best is trial 213 with value: 0.8238026489234826.\u001b[0m\n",
      "\u001b[32m[I 2021-12-21 20:59:21,434]\u001b[0m Trial 643 finished with value: 0.8193019898311469 and parameters: {'learning_rate': 0.009304690208333136, 'n_estimators': 134, 'subsample': 0.8941813929741375, 'min_samples_split': 8, 'min_samples_leaf': 3, 'max_depth': 7, 'min_impurity_decrease': 0.7819544619223691, 'max_features': 19}. Best is trial 213 with value: 0.8238026489234826.\u001b[0m\n",
      "\u001b[32m[I 2021-12-21 20:59:22,313]\u001b[0m Trial 644 finished with value: 0.8204318624066287 and parameters: {'learning_rate': 0.009668769877657652, 'n_estimators': 137, 'subsample': 0.9730617591408575, 'min_samples_split': 6, 'min_samples_leaf': 3, 'max_depth': 7, 'min_impurity_decrease': 0.8116195073427368, 'max_features': 20}. Best is trial 213 with value: 0.8238026489234826.\u001b[0m\n",
      "\u001b[32m[I 2021-12-21 20:59:22,629]\u001b[0m Trial 645 finished with value: 0.7957253154227606 and parameters: {'learning_rate': 0.009597327757898871, 'n_estimators': 33, 'subsample': 0.9642537674065789, 'min_samples_split': 6, 'min_samples_leaf': 3, 'max_depth': 7, 'min_impurity_decrease': 0.7949153744805686, 'max_features': 20}. Best is trial 213 with value: 0.8238026489234826.\u001b[0m\n",
      "\u001b[32m[I 2021-12-21 20:59:23,700]\u001b[0m Trial 646 finished with value: 0.8181846713953925 and parameters: {'learning_rate': 0.005122637672616601, 'n_estimators': 154, 'subsample': 0.9337015890000367, 'min_samples_split': 8, 'min_samples_leaf': 3, 'max_depth': 7, 'min_impurity_decrease': 0.7635237756907515, 'max_features': 19}. Best is trial 213 with value: 0.8238026489234826.\u001b[0m\n",
      "\u001b[32m[I 2021-12-21 20:59:24,570]\u001b[0m Trial 647 finished with value: 0.8159625886636119 and parameters: {'learning_rate': 0.009805730082593153, 'n_estimators': 136, 'subsample': 0.9638957788630177, 'min_samples_split': 6, 'min_samples_leaf': 3, 'max_depth': 7, 'min_impurity_decrease': 0.8088896002817163, 'max_features': 20}. Best is trial 213 with value: 0.8238026489234826.\u001b[0m\n",
      "\u001b[32m[I 2021-12-21 20:59:25,291]\u001b[0m Trial 648 finished with value: 0.8181658401858012 and parameters: {'learning_rate': 0.009110459988142588, 'n_estimators': 140, 'subsample': 0.958774831181206, 'min_samples_split': 7, 'min_samples_leaf': 3, 'max_depth': 7, 'min_impurity_decrease': 0.8040796007014342, 'max_features': 9}. Best is trial 213 with value: 0.8238026489234826.\u001b[0m\n",
      "\u001b[32m[I 2021-12-21 20:59:26,267]\u001b[0m Trial 649 finished with value: 0.8204318624066286 and parameters: {'learning_rate': 0.008459595835069583, 'n_estimators': 158, 'subsample': 0.9465874596152107, 'min_samples_split': 9, 'min_samples_leaf': 2, 'max_depth': 7, 'min_impurity_decrease': 0.7715070022162667, 'max_features': 18}. Best is trial 213 with value: 0.8238026489234826.\u001b[0m\n",
      "\u001b[32m[I 2021-12-21 20:59:27,171]\u001b[0m Trial 650 finished with value: 0.8193145439708743 and parameters: {'learning_rate': 0.00948055324235372, 'n_estimators': 138, 'subsample': 0.9702051573335564, 'min_samples_split': 5, 'min_samples_leaf': 4, 'max_depth': 7, 'min_impurity_decrease': 0.7999171829831733, 'max_features': 20}. Best is trial 213 with value: 0.8238026489234826.\u001b[0m\n",
      "\u001b[32m[I 2021-12-21 20:59:28,064]\u001b[0m Trial 651 finished with value: 0.8215554579122466 and parameters: {'learning_rate': 0.008835556462851604, 'n_estimators': 134, 'subsample': 0.9680800262032389, 'min_samples_split': 8, 'min_samples_leaf': 3, 'max_depth': 7, 'min_impurity_decrease': 0.766119984711806, 'max_features': 20}. Best is trial 213 with value: 0.8238026489234826.\u001b[0m\n",
      "\u001b[32m[I 2021-12-21 20:59:29,005]\u001b[0m Trial 652 finished with value: 0.8204318624066286 and parameters: {'learning_rate': 0.00801102360213165, 'n_estimators': 152, 'subsample': 0.9104456614689703, 'min_samples_split': 9, 'min_samples_leaf': 2, 'max_depth': 7, 'min_impurity_decrease': 0.7759308801662245, 'max_features': 17}. Best is trial 213 with value: 0.8238026489234826.\u001b[0m\n",
      "\u001b[32m[I 2021-12-21 20:59:30,148]\u001b[0m Trial 653 finished with value: 0.6678488481576801 and parameters: {'learning_rate': 0.0015374604953819495, 'n_estimators': 144, 'subsample': 0.9617994623306345, 'min_samples_split': 6, 'min_samples_leaf': 2, 'max_depth': 7, 'min_impurity_decrease': 0.7915065364788453, 'max_features': 20}. Best is trial 213 with value: 0.8238026489234826.\u001b[0m\n",
      "\u001b[32m[I 2021-12-21 20:59:31,042]\u001b[0m Trial 654 finished with value: 0.8170799070993662 and parameters: {'learning_rate': 0.00971397999258807, 'n_estimators': 141, 'subsample': 0.9660394266310465, 'min_samples_split': 6, 'min_samples_leaf': 3, 'max_depth': 7, 'min_impurity_decrease': 0.8071458136529204, 'max_features': 20}. Best is trial 213 with value: 0.8238026489234826.\u001b[0m\n",
      "\u001b[32m[I 2021-12-21 20:59:31,970]\u001b[0m Trial 655 finished with value: 0.8215554579122466 and parameters: {'learning_rate': 0.008599045810150694, 'n_estimators': 148, 'subsample': 0.9420083210633, 'min_samples_split': 8, 'min_samples_leaf': 2, 'max_depth': 7, 'min_impurity_decrease': 0.7847668722285714, 'max_features': 18}. Best is trial 213 with value: 0.8238026489234826.\u001b[0m\n",
      "\u001b[32m[I 2021-12-21 20:59:32,865]\u001b[0m Trial 656 finished with value: 0.8170861841692298 and parameters: {'learning_rate': 0.009573805546055063, 'n_estimators': 138, 'subsample': 0.9762000442903795, 'min_samples_split': 6, 'min_samples_leaf': 2, 'max_depth': 7, 'min_impurity_decrease': 0.8064751044656738, 'max_features': 20}. Best is trial 213 with value: 0.8238026489234826.\u001b[0m\n",
      "\u001b[32m[I 2021-12-21 20:59:33,753]\u001b[0m Trial 657 finished with value: 0.8181846713953927 and parameters: {'learning_rate': 0.008349288423400152, 'n_estimators': 132, 'subsample': 0.9528119519139984, 'min_samples_split': 7, 'min_samples_leaf': 3, 'max_depth': 7, 'min_impurity_decrease': 0.7627683005633344, 'max_features': 19}. Best is trial 213 with value: 0.8238026489234826.\u001b[0m\n",
      "\u001b[32m[I 2021-12-21 20:59:34,666]\u001b[0m Trial 658 finished with value: 0.8204318624066286 and parameters: {'learning_rate': 0.009033709550796302, 'n_estimators': 143, 'subsample': 0.9518007152791121, 'min_samples_split': 9, 'min_samples_leaf': 3, 'max_depth': 7, 'min_impurity_decrease': 0.7694033135336963, 'max_features': 19}. Best is trial 213 with value: 0.8238026489234826.\u001b[0m\n",
      "\u001b[32m[I 2021-12-21 20:59:35,567]\u001b[0m Trial 659 finished with value: 0.8215617349821104 and parameters: {'learning_rate': 0.00998777731530949, 'n_estimators': 141, 'subsample': 0.9701112254352869, 'min_samples_split': 6, 'min_samples_leaf': 2, 'max_depth': 7, 'min_impurity_decrease': 0.7991311807556574, 'max_features': 20}. Best is trial 213 with value: 0.8238026489234826.\u001b[0m\n"
     ]
    },
    {
     "name": "stderr",
     "output_type": "stream",
     "text": [
      "\u001b[32m[I 2021-12-21 20:59:36,484]\u001b[0m Trial 660 finished with value: 0.8181846713953925 and parameters: {'learning_rate': 0.009291313984539395, 'n_estimators': 151, 'subsample': 0.9457177451225093, 'min_samples_split': 8, 'min_samples_leaf': 4, 'max_depth': 7, 'min_impurity_decrease': 0.7766420493866172, 'max_features': 18}. Best is trial 213 with value: 0.8238026489234826.\u001b[0m\n",
      "\u001b[32m[I 2021-12-21 20:59:37,482]\u001b[0m Trial 661 finished with value: 0.8159437574540205 and parameters: {'learning_rate': 0.006296442153074821, 'n_estimators': 146, 'subsample': 0.957822982401928, 'min_samples_split': 7, 'min_samples_leaf': 2, 'max_depth': 7, 'min_impurity_decrease': 0.7914282984144622, 'max_features': 19}. Best is trial 213 with value: 0.8238026489234826.\u001b[0m\n",
      "\u001b[32m[I 2021-12-21 20:59:38,371]\u001b[0m Trial 662 finished with value: 0.8181846713953927 and parameters: {'learning_rate': 0.009406910659646254, 'n_estimators': 139, 'subsample': 0.9752731324018185, 'min_samples_split': 15, 'min_samples_leaf': 3, 'max_depth': 7, 'min_impurity_decrease': 0.8020731460972212, 'max_features': 20}. Best is trial 213 with value: 0.8238026489234826.\u001b[0m\n",
      "\u001b[32m[I 2021-12-21 20:59:39,253]\u001b[0m Trial 663 finished with value: 0.8204381394764925 and parameters: {'learning_rate': 0.009814707034909118, 'n_estimators': 136, 'subsample': 0.979008792358229, 'min_samples_split': 6, 'min_samples_leaf': 2, 'max_depth': 7, 'min_impurity_decrease': 0.7972641752838466, 'max_features': 20}. Best is trial 213 with value: 0.8238026489234826.\u001b[0m\n",
      "\u001b[32m[I 2021-12-21 20:59:40,156]\u001b[0m Trial 664 finished with value: 0.8181909484652564 and parameters: {'learning_rate': 0.009516240134502989, 'n_estimators': 142, 'subsample': 0.9872534916864754, 'min_samples_split': 11, 'min_samples_leaf': 3, 'max_depth': 7, 'min_impurity_decrease': 0.811464334247249, 'max_features': 20}. Best is trial 213 with value: 0.8238026489234826.\u001b[0m\n",
      "\u001b[32m[I 2021-12-21 20:59:41,073]\u001b[0m Trial 665 finished with value: 0.8181783943255289 and parameters: {'learning_rate': 0.00819030214888595, 'n_estimators': 147, 'subsample': 0.8034127578078951, 'min_samples_split': 9, 'min_samples_leaf': 2, 'max_depth': 7, 'min_impurity_decrease': 0.759789455766337, 'max_features': 19}. Best is trial 213 with value: 0.8238026489234826.\u001b[0m\n",
      "\u001b[32m[I 2021-12-21 20:59:42,022]\u001b[0m Trial 666 finished with value: 0.8193082669010107 and parameters: {'learning_rate': 0.00865534502118267, 'n_estimators': 147, 'subsample': 0.956104401379358, 'min_samples_split': 9, 'min_samples_leaf': 2, 'max_depth': 7, 'min_impurity_decrease': 0.7692381226417631, 'max_features': 19}. Best is trial 213 with value: 0.8238026489234826.\u001b[0m\n",
      "\u001b[32m[I 2021-12-21 20:59:42,884]\u001b[0m Trial 667 finished with value: 0.8181846713953925 and parameters: {'learning_rate': 0.009847319798467464, 'n_estimators': 135, 'subsample': 0.9687156134658013, 'min_samples_split': 4, 'min_samples_leaf': 4, 'max_depth': 7, 'min_impurity_decrease': 0.8023898434272201, 'max_features': 20}. Best is trial 213 with value: 0.8238026489234826.\u001b[0m\n",
      "\u001b[32m[I 2021-12-21 20:59:43,728]\u001b[0m Trial 668 finished with value: 0.8114744837110036 and parameters: {'learning_rate': 0.009862033932553286, 'n_estimators': 143, 'subsample': 0.9718278233190235, 'min_samples_split': 5, 'min_samples_leaf': 18, 'max_depth': 7, 'min_impurity_decrease': 0.7973142414104822, 'max_features': 20}. Best is trial 213 with value: 0.8238026489234826.\u001b[0m\n",
      "\u001b[32m[I 2021-12-21 20:59:44,665]\u001b[0m Trial 669 finished with value: 0.819327098110602 and parameters: {'learning_rate': 0.009401547842279832, 'n_estimators': 150, 'subsample': 0.9503387410462862, 'min_samples_split': 7, 'min_samples_leaf': 3, 'max_depth': 7, 'min_impurity_decrease': 0.7846977405353954, 'max_features': 19}. Best is trial 213 with value: 0.8238026489234826.\u001b[0m\n",
      "\u001b[32m[I 2021-12-21 20:59:45,524]\u001b[0m Trial 670 finished with value: 0.8148452702278576 and parameters: {'learning_rate': 0.009614999432444982, 'n_estimators': 139, 'subsample': 0.962506984059355, 'min_samples_split': 7, 'min_samples_leaf': 8, 'max_depth': 7, 'min_impurity_decrease': 0.8195363872450195, 'max_features': 20}. Best is trial 213 with value: 0.8238026489234826.\u001b[0m\n",
      "\u001b[32m[I 2021-12-21 20:59:46,349]\u001b[0m Trial 671 finished with value: 0.8159688657334756 and parameters: {'learning_rate': 0.009961258519874923, 'n_estimators': 131, 'subsample': 0.948405938436174, 'min_samples_split': 6, 'min_samples_leaf': 2, 'max_depth': 7, 'min_impurity_decrease': 0.8503250095858659, 'max_features': 19}. Best is trial 213 with value: 0.8238026489234826.\u001b[0m\n",
      "\u001b[32m[I 2021-12-21 20:59:47,352]\u001b[0m Trial 672 finished with value: 0.8136965664427844 and parameters: {'learning_rate': 0.006720689690192021, 'n_estimators': 157, 'subsample': 0.916629788782817, 'min_samples_split': 8, 'min_samples_leaf': 3, 'max_depth': 7, 'min_impurity_decrease': 0.7799201583791192, 'max_features': 18}. Best is trial 213 with value: 0.8238026489234826.\u001b[0m\n",
      "\u001b[32m[I 2021-12-21 20:59:48,322]\u001b[0m Trial 673 finished with value: 0.815956311593748 and parameters: {'learning_rate': 0.008884272344002322, 'n_estimators': 150, 'subsample': 0.9560415750905158, 'min_samples_split': 7, 'min_samples_leaf': 2, 'max_depth': 7, 'min_impurity_decrease': 0.7644745764939692, 'max_features': 19}. Best is trial 213 with value: 0.8238026489234826.\u001b[0m\n",
      "\u001b[32m[I 2021-12-21 20:59:49,194]\u001b[0m Trial 674 finished with value: 0.8125792480070304 and parameters: {'learning_rate': 0.009198939292434481, 'n_estimators': 144, 'subsample': 0.9651645277205603, 'min_samples_split': 6, 'min_samples_leaf': 13, 'max_depth': 7, 'min_impurity_decrease': 0.798445173167916, 'max_features': 20}. Best is trial 213 with value: 0.8238026489234826.\u001b[0m\n",
      "\u001b[32m[I 2021-12-21 20:59:49,858]\u001b[0m Trial 675 finished with value: 0.8159249262444291 and parameters: {'learning_rate': 0.009968454468767245, 'n_estimators': 146, 'subsample': 0.9426217204974907, 'min_samples_split': 10, 'min_samples_leaf': 3, 'max_depth': 7, 'min_impurity_decrease': 0.7910480744674053, 'max_features': 6}. Best is trial 213 with value: 0.8238026489234826.\u001b[0m\n",
      "\u001b[32m[I 2021-12-21 20:59:50,661]\u001b[0m Trial 676 finished with value: 0.817048521750047 and parameters: {'learning_rate': 0.00846219521041134, 'n_estimators': 139, 'subsample': 0.9480679445698725, 'min_samples_split': 7, 'min_samples_leaf': 2, 'max_depth': 7, 'min_impurity_decrease': 0.7922484900362703, 'max_features': 12}. Best is trial 213 with value: 0.8238026489234826.\u001b[0m\n",
      "\u001b[32m[I 2021-12-21 20:59:51,452]\u001b[0m Trial 677 finished with value: 0.7991274872889335 and parameters: {'learning_rate': 0.008898745513198088, 'n_estimators': 154, 'subsample': 0.9364918937571429, 'min_samples_split': 8, 'min_samples_leaf': 4, 'max_depth': 3, 'min_impurity_decrease': 0.7731579318593781, 'max_features': 17}. Best is trial 213 with value: 0.8238026489234826.\u001b[0m\n",
      "\u001b[32m[I 2021-12-21 20:59:52,336]\u001b[0m Trial 678 finished with value: 0.8159500345238841 and parameters: {'learning_rate': 0.008670494303606184, 'n_estimators': 141, 'subsample': 0.9659922966976582, 'min_samples_split': 7, 'min_samples_leaf': 10, 'max_depth': 7, 'min_impurity_decrease': 0.7982802066860339, 'max_features': 20}. Best is trial 213 with value: 0.8238026489234826.\u001b[0m\n",
      "\u001b[32m[I 2021-12-21 20:59:53,201]\u001b[0m Trial 679 finished with value: 0.8215617349821104 and parameters: {'learning_rate': 0.009999382072710145, 'n_estimators': 134, 'subsample': 0.9688055661725178, 'min_samples_split': 5, 'min_samples_leaf': 2, 'max_depth': 7, 'min_impurity_decrease': 0.810368337612165, 'max_features': 20}. Best is trial 213 with value: 0.8238026489234826.\u001b[0m\n",
      "\u001b[32m[I 2021-12-21 20:59:54,128]\u001b[0m Trial 680 finished with value: 0.8170610758897746 and parameters: {'learning_rate': 0.00832695034785519, 'n_estimators': 148, 'subsample': 0.8730194388590835, 'min_samples_split': 9, 'min_samples_leaf': 3, 'max_depth': 7, 'min_impurity_decrease': 0.7680497645440053, 'max_features': 19}. Best is trial 213 with value: 0.8238026489234826.\u001b[0m\n",
      "\u001b[32m[I 2021-12-21 20:59:54,999]\u001b[0m Trial 681 finished with value: 0.8159688657334756 and parameters: {'learning_rate': 0.009277905647481707, 'n_estimators': 145, 'subsample': 0.9537999822197037, 'min_samples_split': 6, 'min_samples_leaf': 9, 'max_depth': 7, 'min_impurity_decrease': 0.78421894307108, 'max_features': 18}. Best is trial 213 with value: 0.8238026489234826.\u001b[0m\n"
     ]
    },
    {
     "name": "stderr",
     "output_type": "stream",
     "text": [
      "\u001b[32m[I 2021-12-21 20:59:55,824]\u001b[0m Trial 682 finished with value: 0.8137216747222397 and parameters: {'learning_rate': 0.00976659138874314, 'n_estimators': 131, 'subsample': 0.9805882724471342, 'min_samples_split': 4, 'min_samples_leaf': 3, 'max_depth': 7, 'min_impurity_decrease': 0.8987756387937926, 'max_features': 20}. Best is trial 213 with value: 0.8238026489234826.\u001b[0m\n",
      "\u001b[32m[I 2021-12-21 20:59:56,684]\u001b[0m Trial 683 finished with value: 0.8159688657334756 and parameters: {'learning_rate': 0.009084604159499056, 'n_estimators': 129, 'subsample': 0.9736457005548077, 'min_samples_split': 4, 'min_samples_leaf': 2, 'max_depth': 7, 'min_impurity_decrease': 0.8151307259335503, 'max_features': 20}. Best is trial 213 with value: 0.8238026489234826.\u001b[0m\n",
      "\u001b[32m[I 2021-12-21 20:59:57,784]\u001b[0m Trial 684 finished with value: 0.8092335697696316 and parameters: {'learning_rate': 0.008767421856574427, 'n_estimators': 199, 'subsample': 0.9722214250299555, 'min_samples_split': 10, 'min_samples_leaf': 17, 'max_depth': 7, 'min_impurity_decrease': 0.8035238115347931, 'max_features': 20}. Best is trial 213 with value: 0.8238026489234826.\u001b[0m\n",
      "\u001b[32m[I 2021-12-21 20:59:58,662]\u001b[0m Trial 685 finished with value: 0.8170610758897746 and parameters: {'learning_rate': 0.00860910194971899, 'n_estimators': 134, 'subsample': 0.9452251616991243, 'min_samples_split': 5, 'min_samples_leaf': 2, 'max_depth': 7, 'min_impurity_decrease': 0.8631615779331677, 'max_features': 19}. Best is trial 213 with value: 0.8238026489234826.\u001b[0m\n",
      "\u001b[32m[I 2021-12-21 20:59:59,573]\u001b[0m Trial 686 finished with value: 0.8215554579122466 and parameters: {'learning_rate': 0.009449661578561143, 'n_estimators': 141, 'subsample': 0.9601753589509721, 'min_samples_split': 7, 'min_samples_leaf': 2, 'max_depth': 7, 'min_impurity_decrease': 0.7613846204513924, 'max_features': 19}. Best is trial 213 with value: 0.8238026489234826.\u001b[0m\n",
      "\u001b[32m[I 2021-12-21 21:00:00,476]\u001b[0m Trial 687 finished with value: 0.8204318624066287 and parameters: {'learning_rate': 0.00960438099563575, 'n_estimators': 138, 'subsample': 0.958045997936095, 'min_samples_split': 7, 'min_samples_leaf': 3, 'max_depth': 7, 'min_impurity_decrease': 0.7554733892566685, 'max_features': 20}. Best is trial 213 with value: 0.8238026489234826.\u001b[0m\n",
      "\u001b[32m[I 2021-12-21 21:00:01,331]\u001b[0m Trial 688 finished with value: 0.8126043562864854 and parameters: {'learning_rate': 0.00985863125488013, 'n_estimators': 136, 'subsample': 0.9753973814845616, 'min_samples_split': 5, 'min_samples_leaf': 2, 'max_depth': 5, 'min_impurity_decrease': 0.8087637232807522, 'max_features': 19}. Best is trial 213 with value: 0.8238026489234826.\u001b[0m\n",
      "\u001b[32m[I 2021-12-21 21:00:02,256]\u001b[0m Trial 689 finished with value: 0.8204318624066287 and parameters: {'learning_rate': 0.009082459435799843, 'n_estimators': 150, 'subsample': 0.9515385983453273, 'min_samples_split': 7, 'min_samples_leaf': 3, 'max_depth': 7, 'min_impurity_decrease': 0.7796973041886348, 'max_features': 18}. Best is trial 213 with value: 0.8238026489234826.\u001b[0m\n",
      "\u001b[32m[I 2021-12-21 21:00:03,112]\u001b[0m Trial 690 finished with value: 0.8193082669010107 and parameters: {'learning_rate': 0.009966978104878656, 'n_estimators': 132, 'subsample': 0.9861397136059437, 'min_samples_split': 5, 'min_samples_leaf': 4, 'max_depth': 6, 'min_impurity_decrease': 0.7573645980332477, 'max_features': 20}. Best is trial 213 with value: 0.8238026489234826.\u001b[0m\n",
      "\u001b[32m[I 2021-12-21 21:00:03,899]\u001b[0m Trial 691 finished with value: 0.8136965664427844 and parameters: {'learning_rate': 0.008851951006825039, 'n_estimators': 128, 'subsample': 0.9008931398369953, 'min_samples_split': 4, 'min_samples_leaf': 11, 'max_depth': 7, 'min_impurity_decrease': 0.7720470176290747, 'max_features': 18}. Best is trial 213 with value: 0.8238026489234826.\u001b[0m\n",
      "\u001b[32m[I 2021-12-21 21:00:04,694]\u001b[0m Trial 692 finished with value: 0.7968426338585148 and parameters: {'learning_rate': 0.003256057609653455, 'n_estimators': 100, 'subsample': 0.9607749060610631, 'min_samples_split': 6, 'min_samples_leaf': 2, 'max_depth': 7, 'min_impurity_decrease': 0.797382218148534, 'max_features': 19}. Best is trial 213 with value: 0.8238026489234826.\u001b[0m\n",
      "\u001b[32m[I 2021-12-21 21:00:05,661]\u001b[0m Trial 693 finished with value: 0.8159437574540205 and parameters: {'learning_rate': 0.009076633659389835, 'n_estimators': 160, 'subsample': 0.9250089063048561, 'min_samples_split': 8, 'min_samples_leaf': 3, 'max_depth': 7, 'min_impurity_decrease': 0.7779312929462054, 'max_features': 17}. Best is trial 213 with value: 0.8238026489234826.\u001b[0m\n",
      "\u001b[32m[I 2021-12-21 21:00:06,285]\u001b[0m Trial 694 finished with value: 0.8148013307388112 and parameters: {'learning_rate': 0.008120570856585466, 'n_estimators': 142, 'subsample': 0.9550119879643649, 'min_samples_split': 10, 'min_samples_leaf': 2, 'max_depth': 7, 'min_impurity_decrease': 0.7640728624258628, 'max_features': 4}. Best is trial 213 with value: 0.8238026489234826.\u001b[0m\n",
      "\u001b[32m[I 2021-12-21 21:00:07,219]\u001b[0m Trial 695 finished with value: 0.8226790534178645 and parameters: {'learning_rate': 0.009348558444143451, 'n_estimators': 143, 'subsample': 0.9638104475533348, 'min_samples_split': 9, 'min_samples_leaf': 3, 'max_depth': 7, 'min_impurity_decrease': 0.7629986507067511, 'max_features': 20}. Best is trial 213 with value: 0.8238026489234826.\u001b[0m\n",
      "\u001b[32m[I 2021-12-21 21:00:08,097]\u001b[0m Trial 696 finished with value: 0.8215554579122466 and parameters: {'learning_rate': 0.009606244118931882, 'n_estimators': 137, 'subsample': 0.9642374656561161, 'min_samples_split': 9, 'min_samples_leaf': 4, 'max_depth': 7, 'min_impurity_decrease': 0.7584736813216034, 'max_features': 19}. Best is trial 213 with value: 0.8238026489234826.\u001b[0m\n",
      "\u001b[32m[I 2021-12-21 21:00:09,022]\u001b[0m Trial 697 finished with value: 0.8193082669010104 and parameters: {'learning_rate': 0.009220052822399852, 'n_estimators': 152, 'subsample': 0.9422947039216608, 'min_samples_split': 9, 'min_samples_leaf': 4, 'max_depth': 7, 'min_impurity_decrease': 0.7642399740215013, 'max_features': 18}. Best is trial 213 with value: 0.8238026489234826.\u001b[0m\n",
      "\u001b[32m[I 2021-12-21 21:00:09,960]\u001b[0m Trial 698 finished with value: 0.8182035026049841 and parameters: {'learning_rate': 0.009371476102958538, 'n_estimators': 153, 'subsample': 0.9493260632926792, 'min_samples_split': 9, 'min_samples_leaf': 3, 'max_depth': 7, 'min_impurity_decrease': 0.768264419210186, 'max_features': 18}. Best is trial 213 with value: 0.8238026489234826.\u001b[0m\n",
      "\u001b[32m[I 2021-12-21 21:00:10,817]\u001b[0m Trial 699 finished with value: 0.8137028435126483 and parameters: {'learning_rate': 0.009540559631450507, 'n_estimators': 145, 'subsample': 0.9611287775655825, 'min_samples_split': 9, 'min_samples_leaf': 15, 'max_depth': 7, 'min_impurity_decrease': 0.7589783822534913, 'max_features': 19}. Best is trial 213 with value: 0.8238026489234826.\u001b[0m\n",
      "\u001b[32m[I 2021-12-21 21:00:11,743]\u001b[0m Trial 700 finished with value: 0.8215554579122466 and parameters: {'learning_rate': 0.009289702775228465, 'n_estimators': 145, 'subsample': 0.9559279489673724, 'min_samples_split': 10, 'min_samples_leaf': 3, 'max_depth': 7, 'min_impurity_decrease': 0.7525931489061632, 'max_features': 19}. Best is trial 213 with value: 0.8238026489234826.\u001b[0m\n",
      "\u001b[32m[I 2021-12-21 21:00:12,701]\u001b[0m Trial 701 finished with value: 0.8193082669010107 and parameters: {'learning_rate': 0.008880663430890647, 'n_estimators': 155, 'subsample': 0.9459331746977161, 'min_samples_split': 9, 'min_samples_leaf': 3, 'max_depth': 7, 'min_impurity_decrease': 0.7721183013547821, 'max_features': 18}. Best is trial 213 with value: 0.8238026489234826.\u001b[0m\n",
      "\u001b[32m[I 2021-12-21 21:00:13,636]\u001b[0m Trial 702 finished with value: 0.8148138848785387 and parameters: {'learning_rate': 0.009385715413323828, 'n_estimators': 147, 'subsample': 0.9595297894982837, 'min_samples_split': 11, 'min_samples_leaf': 4, 'max_depth': 7, 'min_impurity_decrease': 0.7614057657631448, 'max_features': 20}. Best is trial 213 with value: 0.8238026489234826.\u001b[0m\n",
      "\u001b[32m[I 2021-12-21 21:00:14,550]\u001b[0m Trial 703 finished with value: 0.8181846713953925 and parameters: {'learning_rate': 0.009651034409161284, 'n_estimators': 143, 'subsample': 0.9528669609166609, 'min_samples_split': 14, 'min_samples_leaf': 3, 'max_depth': 7, 'min_impurity_decrease': 0.7675729424368587, 'max_features': 20}. Best is trial 213 with value: 0.8238026489234826.\u001b[0m\n"
     ]
    },
    {
     "name": "stderr",
     "output_type": "stream",
     "text": [
      "\u001b[32m[I 2021-12-21 21:00:15,460]\u001b[0m Trial 704 finished with value: 0.8204318624066286 and parameters: {'learning_rate': 0.009068224333171561, 'n_estimators': 139, 'subsample': 0.9635701219109555, 'min_samples_split': 9, 'min_samples_leaf': 3, 'max_depth': 7, 'min_impurity_decrease': 0.7632686540759455, 'max_features': 19}. Best is trial 213 with value: 0.8238026489234826.\u001b[0m\n",
      "\u001b[32m[I 2021-12-21 21:00:16,331]\u001b[0m Trial 705 finished with value: 0.8159249262444291 and parameters: {'learning_rate': 0.008395333346852081, 'n_estimators': 149, 'subsample': 0.9543210586996888, 'min_samples_split': 9, 'min_samples_leaf': 3, 'max_depth': 7, 'min_impurity_decrease': 0.7584889917748044, 'max_features': 13}. Best is trial 213 with value: 0.8238026489234826.\u001b[0m\n",
      "\u001b[32m[I 2021-12-21 21:00:17,241]\u001b[0m Trial 706 finished with value: 0.8170610758897746 and parameters: {'learning_rate': 0.009477300589617018, 'n_estimators': 143, 'subsample': 0.9696053784644663, 'min_samples_split': 10, 'min_samples_leaf': 4, 'max_depth': 7, 'min_impurity_decrease': 0.767491665987215, 'max_features': 19}. Best is trial 213 with value: 0.8238026489234826.\u001b[0m\n",
      "\u001b[32m[I 2021-12-21 21:00:18,230]\u001b[0m Trial 707 finished with value: 0.8204318624066286 and parameters: {'learning_rate': 0.007574459906554273, 'n_estimators': 149, 'subsample': 0.95885061682094, 'min_samples_split': 9, 'min_samples_leaf': 3, 'max_depth': 7, 'min_impurity_decrease': 0.7530754399432652, 'max_features': 19}. Best is trial 213 with value: 0.8238026489234826.\u001b[0m\n",
      "\u001b[32m[I 2021-12-21 21:00:19,199]\u001b[0m Trial 708 finished with value: 0.8193082669010107 and parameters: {'learning_rate': 0.008656997386752907, 'n_estimators': 157, 'subsample': 0.940862596110787, 'min_samples_split': 8, 'min_samples_leaf': 3, 'max_depth': 7, 'min_impurity_decrease': 0.7716519295912809, 'max_features': 18}. Best is trial 213 with value: 0.8238026489234826.\u001b[0m\n",
      "\u001b[32m[I 2021-12-21 21:00:19,986]\u001b[0m Trial 709 finished with value: 0.8204318624066286 and parameters: {'learning_rate': 0.009300030492631178, 'n_estimators': 113, 'subsample': 0.95009975836701, 'min_samples_split': 4, 'min_samples_leaf': 3, 'max_depth': 7, 'min_impurity_decrease': 0.7650822541570884, 'max_features': 19}. Best is trial 213 with value: 0.8238026489234826.\u001b[0m\n",
      "\u001b[32m[I 2021-12-21 21:00:20,940]\u001b[0m Trial 710 finished with value: 0.8170610758897746 and parameters: {'learning_rate': 0.006907588379759762, 'n_estimators': 140, 'subsample': 0.9655413170607872, 'min_samples_split': 10, 'min_samples_leaf': 4, 'max_depth': 7, 'min_impurity_decrease': 0.7751238404520744, 'max_features': 20}. Best is trial 213 with value: 0.8238026489234826.\u001b[0m\n",
      "\u001b[32m[I 2021-12-21 21:00:21,903]\u001b[0m Trial 711 finished with value: 0.8215554579122466 and parameters: {'learning_rate': 0.008968929646064385, 'n_estimators': 147, 'subsample': 0.9490943805503763, 'min_samples_split': 8, 'min_samples_leaf': 2, 'max_depth': 7, 'min_impurity_decrease': 0.7573929218288025, 'max_features': 20}. Best is trial 213 with value: 0.8238026489234826.\u001b[0m\n",
      "\u001b[32m[I 2021-12-21 21:00:22,842]\u001b[0m Trial 712 finished with value: 0.8215554579122466 and parameters: {'learning_rate': 0.008790330065648652, 'n_estimators': 144, 'subsample': 0.953487502146006, 'min_samples_split': 8, 'min_samples_leaf': 2, 'max_depth': 7, 'min_impurity_decrease': 0.7624336946355701, 'max_features': 19}. Best is trial 213 with value: 0.8238026489234826.\u001b[0m\n",
      "\u001b[32m[I 2021-12-21 21:00:23,783]\u001b[0m Trial 713 finished with value: 0.8181846713953927 and parameters: {'learning_rate': 0.008531089786347687, 'n_estimators': 154, 'subsample': 0.9336850055455036, 'min_samples_split': 9, 'min_samples_leaf': 3, 'max_depth': 7, 'min_impurity_decrease': 0.7754039638304074, 'max_features': 17}. Best is trial 213 with value: 0.8238026489234826.\u001b[0m\n",
      "\u001b[32m[I 2021-12-21 21:00:24,527]\u001b[0m Trial 714 finished with value: 0.8159312033142928 and parameters: {'learning_rate': 0.009733575132246184, 'n_estimators': 127, 'subsample': 0.8253387510391671, 'min_samples_split': 9, 'min_samples_leaf': 2, 'max_depth': 7, 'min_impurity_decrease': 0.829892298352641, 'max_features': 16}. Best is trial 213 with value: 0.8238026489234826.\u001b[0m\n",
      "\u001b[32m[I 2021-12-21 21:00:25,459]\u001b[0m Trial 715 finished with value: 0.8193145439708743 and parameters: {'learning_rate': 0.009182898604944874, 'n_estimators': 151, 'subsample': 0.9395569484489774, 'min_samples_split': 8, 'min_samples_leaf': 3, 'max_depth': 7, 'min_impurity_decrease': 0.7705504951371903, 'max_features': 18}. Best is trial 213 with value: 0.8238026489234826.\u001b[0m\n",
      "\u001b[32m[I 2021-12-21 21:00:26,425]\u001b[0m Trial 716 finished with value: 0.8215554579122466 and parameters: {'learning_rate': 0.008822911350791142, 'n_estimators': 155, 'subsample': 0.9445365391508239, 'min_samples_split': 8, 'min_samples_leaf': 2, 'max_depth': 7, 'min_impurity_decrease': 0.7677143592383603, 'max_features': 18}. Best is trial 213 with value: 0.8238026489234826.\u001b[0m\n",
      "\u001b[32m[I 2021-12-21 21:00:27,354]\u001b[0m Trial 717 finished with value: 0.8204318624066286 and parameters: {'learning_rate': 0.008344221141513565, 'n_estimators': 137, 'subsample': 0.9795443670647648, 'min_samples_split': 11, 'min_samples_leaf': 3, 'max_depth': 7, 'min_impurity_decrease': 0.7627356902980582, 'max_features': 20}. Best is trial 213 with value: 0.8238026489234826.\u001b[0m\n",
      "\u001b[32m[I 2021-12-21 21:00:28,286]\u001b[0m Trial 718 finished with value: 0.8193145439708743 and parameters: {'learning_rate': 0.008981245433581826, 'n_estimators': 152, 'subsample': 0.9402944244253623, 'min_samples_split': 8, 'min_samples_leaf': 4, 'max_depth': 7, 'min_impurity_decrease': 0.7738404139210933, 'max_features': 18}. Best is trial 213 with value: 0.8238026489234826.\u001b[0m\n",
      "\u001b[32m[I 2021-12-21 21:00:29,235]\u001b[0m Trial 719 finished with value: 0.8193082669010107 and parameters: {'learning_rate': 0.007882920846158025, 'n_estimators': 141, 'subsample': 0.9479895905540138, 'min_samples_split': 10, 'min_samples_leaf': 2, 'max_depth': 7, 'min_impurity_decrease': 0.7549957209151995, 'max_features': 19}. Best is trial 213 with value: 0.8238026489234826.\u001b[0m\n",
      "\u001b[32m[I 2021-12-21 21:00:30,226]\u001b[0m Trial 720 finished with value: 0.8024668884564685 and parameters: {'learning_rate': 0.004136415546598758, 'n_estimators': 133, 'subsample': 0.9575535228020493, 'min_samples_split': 9, 'min_samples_leaf': 2, 'max_depth': 7, 'min_impurity_decrease': 0.7652524072772663, 'max_features': 19}. Best is trial 213 with value: 0.8238026489234826.\u001b[0m\n",
      "\u001b[32m[I 2021-12-21 21:00:31,051]\u001b[0m Trial 721 finished with value: 0.7934781244115248 and parameters: {'learning_rate': 0.002847723291279627, 'n_estimators': 132, 'subsample': 0.9668679198479241, 'min_samples_split': 3, 'min_samples_leaf': 3, 'max_depth': 7, 'min_impurity_decrease': 0.769069982030772, 'max_features': 10}. Best is trial 213 with value: 0.8238026489234826.\u001b[0m\n",
      "\u001b[32m[I 2021-12-21 21:00:31,857]\u001b[0m Trial 722 finished with value: 0.8092335697696316 and parameters: {'learning_rate': 0.00954157579115383, 'n_estimators': 145, 'subsample': 0.9519611335141968, 'min_samples_split': 16, 'min_samples_leaf': 15, 'max_depth': 7, 'min_impurity_decrease': 0.9987190502195731, 'max_features': 19}. Best is trial 213 with value: 0.8238026489234826.\u001b[0m\n",
      "\u001b[32m[I 2021-12-21 21:00:32,779]\u001b[0m Trial 723 finished with value: 0.8148327160881299 and parameters: {'learning_rate': 0.009389190856257675, 'n_estimators': 149, 'subsample': 0.8835071332536484, 'min_samples_split': 9, 'min_samples_leaf': 4, 'max_depth': 7, 'min_impurity_decrease': 0.7797662624257272, 'max_features': 20}. Best is trial 213 with value: 0.8238026489234826.\u001b[0m\n",
      "\u001b[32m[I 2021-12-21 21:00:33,680]\u001b[0m Trial 724 finished with value: 0.8181846713953927 and parameters: {'learning_rate': 0.0086013598779766, 'n_estimators': 135, 'subsample': 0.9582267109295052, 'min_samples_split': 10, 'min_samples_leaf': 2, 'max_depth': 7, 'min_impurity_decrease': 0.7584541506144054, 'max_features': 19}. Best is trial 213 with value: 0.8238026489234826.\u001b[0m\n",
      "\u001b[32m[I 2021-12-21 21:00:34,597]\u001b[0m Trial 725 finished with value: 0.8215554579122466 and parameters: {'learning_rate': 0.009248506861089648, 'n_estimators': 144, 'subsample': 0.9613425337000218, 'min_samples_split': 6, 'min_samples_leaf': 3, 'max_depth': 7, 'min_impurity_decrease': 0.7746072156260085, 'max_features': 19}. Best is trial 213 with value: 0.8238026489234826.\u001b[0m\n"
     ]
    },
    {
     "name": "stderr",
     "output_type": "stream",
     "text": [
      "\u001b[32m[I 2021-12-21 21:00:35,512]\u001b[0m Trial 726 finished with value: 0.8181846713953925 and parameters: {'learning_rate': 0.009136086948701787, 'n_estimators': 148, 'subsample': 0.9317941654201393, 'min_samples_split': 7, 'min_samples_leaf': 2, 'max_depth': 7, 'min_impurity_decrease': 0.7857280553183565, 'max_features': 17}. Best is trial 213 with value: 0.8238026489234826.\u001b[0m\n",
      "\u001b[32m[I 2021-12-21 21:00:36,480]\u001b[0m Trial 727 finished with value: 0.8193082669010104 and parameters: {'learning_rate': 0.008791285618358784, 'n_estimators': 158, 'subsample': 0.9363487085418205, 'min_samples_split': 8, 'min_samples_leaf': 3, 'max_depth': 7, 'min_impurity_decrease': 0.7718326809457765, 'max_features': 18}. Best is trial 213 with value: 0.8238026489234826.\u001b[0m\n",
      "\u001b[32m[I 2021-12-21 21:00:37,357]\u001b[0m Trial 728 finished with value: 0.8125918021467579 and parameters: {'learning_rate': 0.008969073298352033, 'n_estimators': 152, 'subsample': 0.9439888910794679, 'min_samples_split': 8, 'min_samples_leaf': 2, 'max_depth': 4, 'min_impurity_decrease': 0.7753065208274225, 'max_features': 17}. Best is trial 213 with value: 0.8238026489234826.\u001b[0m\n",
      "\u001b[32m[I 2021-12-21 21:00:38,087]\u001b[0m Trial 729 finished with value: 0.8170610758897746 and parameters: {'learning_rate': 0.009682377070453475, 'n_estimators': 105, 'subsample': 0.95417466486517, 'min_samples_split': 20, 'min_samples_leaf': 3, 'max_depth': 7, 'min_impurity_decrease': 0.7659227678201099, 'max_features': 20}. Best is trial 213 with value: 0.8238026489234826.\u001b[0m\n",
      "\u001b[32m[I 2021-12-21 21:00:39,022]\u001b[0m Trial 730 finished with value: 0.8204318624066286 and parameters: {'learning_rate': 0.008330730728323158, 'n_estimators': 141, 'subsample': 0.9488973971927182, 'min_samples_split': 9, 'min_samples_leaf': 2, 'max_depth': 7, 'min_impurity_decrease': 0.7626360307452015, 'max_features': 19}. Best is trial 213 with value: 0.8238026489234826.\u001b[0m\n",
      "\u001b[32m[I 2021-12-21 21:00:39,924]\u001b[0m Trial 731 finished with value: 0.8181846713953927 and parameters: {'learning_rate': 0.008012360285903538, 'n_estimators': 135, 'subsample': 0.9467308645291537, 'min_samples_split': 5, 'min_samples_leaf': 2, 'max_depth': 7, 'min_impurity_decrease': 0.7683279290707249, 'max_features': 18}. Best is trial 213 with value: 0.8238026489234826.\u001b[0m\n",
      "\u001b[32m[I 2021-12-21 21:00:40,859]\u001b[0m Trial 732 finished with value: 0.8193082669010107 and parameters: {'learning_rate': 0.009448823125931148, 'n_estimators': 146, 'subsample': 0.9606807640916097, 'min_samples_split': 10, 'min_samples_leaf': 3, 'max_depth': 7, 'min_impurity_decrease': 0.7793642910196739, 'max_features': 20}. Best is trial 213 with value: 0.8238026489234826.\u001b[0m\n",
      "\u001b[32m[I 2021-12-21 21:00:41,692]\u001b[0m Trial 733 finished with value: 0.8193082669010104 and parameters: {'learning_rate': 0.00863807085678515, 'n_estimators': 131, 'subsample': 0.9521558735551112, 'min_samples_split': 9, 'min_samples_leaf': 4, 'max_depth': 7, 'min_impurity_decrease': 0.8388298643105346, 'max_features': 18}. Best is trial 213 with value: 0.8238026489234826.\u001b[0m\n",
      "\u001b[32m[I 2021-12-21 21:00:42,551]\u001b[0m Trial 734 finished with value: 0.8181783943255289 and parameters: {'learning_rate': 0.009210615801585586, 'n_estimators': 139, 'subsample': 0.7739546206127563, 'min_samples_split': 6, 'min_samples_leaf': 2, 'max_depth': 7, 'min_impurity_decrease': 0.7515609550164544, 'max_features': 19}. Best is trial 213 with value: 0.8238026489234826.\u001b[0m\n",
      "\u001b[32m[I 2021-12-21 21:00:43,375]\u001b[0m Trial 735 finished with value: 0.8181846713953925 and parameters: {'learning_rate': 0.009666680266360264, 'n_estimators': 125, 'subsample': 0.9454851157714002, 'min_samples_split': 10, 'min_samples_leaf': 3, 'max_depth': 7, 'min_impurity_decrease': 0.7601173140519364, 'max_features': 19}. Best is trial 213 with value: 0.8238026489234826.\u001b[0m\n",
      "\u001b[32m[I 2021-12-21 21:00:44,239]\u001b[0m Trial 736 finished with value: 0.8148389931579938 and parameters: {'learning_rate': 0.009088660529727293, 'n_estimators': 142, 'subsample': 0.9639960276583647, 'min_samples_split': 7, 'min_samples_leaf': 2, 'max_depth': 7, 'min_impurity_decrease': 0.9103086380319296, 'max_features': 18}. Best is trial 213 with value: 0.8238026489234826.\u001b[0m\n",
      "\u001b[32m[I 2021-12-21 21:00:45,223]\u001b[0m Trial 737 finished with value: 0.815956311593748 and parameters: {'learning_rate': 0.00882480844250866, 'n_estimators': 163, 'subsample': 0.9280368274531888, 'min_samples_split': 7, 'min_samples_leaf': 3, 'max_depth': 6, 'min_impurity_decrease': 0.7833449459851481, 'max_features': 18}. Best is trial 213 with value: 0.8238026489234826.\u001b[0m\n",
      "\u001b[32m[I 2021-12-21 21:00:46,107]\u001b[0m Trial 738 finished with value: 0.8159500345238841 and parameters: {'learning_rate': 0.00847409158710422, 'n_estimators': 134, 'subsample': 0.9714861483197105, 'min_samples_split': 9, 'min_samples_leaf': 7, 'max_depth': 7, 'min_impurity_decrease': 0.7702317802229746, 'max_features': 20}. Best is trial 213 with value: 0.8238026489234826.\u001b[0m\n",
      "\u001b[32m[I 2021-12-21 21:00:47,063]\u001b[0m Trial 739 finished with value: 0.8193082669010107 and parameters: {'learning_rate': 0.008947412620754948, 'n_estimators': 157, 'subsample': 0.9387667266424392, 'min_samples_split': 8, 'min_samples_leaf': 2, 'max_depth': 7, 'min_impurity_decrease': 0.7761381777975314, 'max_features': 17}. Best is trial 213 with value: 0.8238026489234826.\u001b[0m\n",
      "\u001b[32m[I 2021-12-21 21:00:48,008]\u001b[0m Trial 740 finished with value: 0.8170610758897746 and parameters: {'learning_rate': 0.009197601005585972, 'n_estimators': 148, 'subsample': 0.9555796139305294, 'min_samples_split': 15, 'min_samples_leaf': 2, 'max_depth': 7, 'min_impurity_decrease': 0.7558099017662889, 'max_features': 19}. Best is trial 213 with value: 0.8238026489234826.\u001b[0m\n",
      "\u001b[32m[I 2021-12-21 21:00:48,957]\u001b[0m Trial 741 finished with value: 0.8170610758897746 and parameters: {'learning_rate': 0.008739983898668195, 'n_estimators': 153, 'subsample': 0.9347124689275075, 'min_samples_split': 8, 'min_samples_leaf': 3, 'max_depth': 7, 'min_impurity_decrease': 0.7719561684062344, 'max_features': 18}. Best is trial 213 with value: 0.8238026489234826.\u001b[0m\n",
      "\u001b[32m[I 2021-12-21 21:00:49,883]\u001b[0m Trial 742 finished with value: 0.8181846713953925 and parameters: {'learning_rate': 0.009219886645435058, 'n_estimators': 152, 'subsample': 0.939847093728179, 'min_samples_split': 7, 'min_samples_leaf': 4, 'max_depth': 7, 'min_impurity_decrease': 0.7865780058693747, 'max_features': 18}. Best is trial 213 with value: 0.8238026489234826.\u001b[0m\n",
      "\u001b[32m[I 2021-12-21 21:00:50,801]\u001b[0m Trial 743 finished with value: 0.8226790534178645 and parameters: {'learning_rate': 0.00942378805416126, 'n_estimators': 139, 'subsample': 0.9490298072986114, 'min_samples_split': 11, 'min_samples_leaf': 2, 'max_depth': 7, 'min_impurity_decrease': 0.7628435758702277, 'max_features': 20}. Best is trial 213 with value: 0.8238026489234826.\u001b[0m\n",
      "\u001b[32m[I 2021-12-21 21:00:51,722]\u001b[0m Trial 744 finished with value: 0.8181846713953927 and parameters: {'learning_rate': 0.009390627952744283, 'n_estimators': 145, 'subsample': 0.9483256554258658, 'min_samples_split': 10, 'min_samples_leaf': 3, 'max_depth': 7, 'min_impurity_decrease': 0.7634843611300427, 'max_features': 19}. Best is trial 213 with value: 0.8238026489234826.\u001b[0m\n",
      "\u001b[32m[I 2021-12-21 21:00:52,624]\u001b[0m Trial 745 finished with value: 0.8170610758897746 and parameters: {'learning_rate': 0.009380595466041676, 'n_estimators': 138, 'subsample': 0.9433589811722193, 'min_samples_split': 11, 'min_samples_leaf': 2, 'max_depth': 7, 'min_impurity_decrease': 0.7610193829502875, 'max_features': 19}. Best is trial 213 with value: 0.8238026489234826.\u001b[0m\n",
      "\u001b[32m[I 2021-12-21 21:00:53,527]\u001b[0m Trial 746 finished with value: 0.811461929571276 and parameters: {'learning_rate': 0.008139003991526533, 'n_estimators': 148, 'subsample': 0.8636912584928871, 'min_samples_split': 11, 'min_samples_leaf': 3, 'max_depth': 5, 'min_impurity_decrease': 0.7562249663759216, 'max_features': 18}. Best is trial 213 with value: 0.8238026489234826.\u001b[0m\n",
      "\u001b[32m[I 2021-12-21 21:00:54,552]\u001b[0m Trial 747 finished with value: 0.8069549934090766 and parameters: {'learning_rate': 0.0035188531026501507, 'n_estimators': 138, 'subsample': 0.9520270872648132, 'min_samples_split': 12, 'min_samples_leaf': 2, 'max_depth': 7, 'min_impurity_decrease': 0.7655629770092659, 'max_features': 19}. Best is trial 213 with value: 0.8238026489234826.\u001b[0m\n"
     ]
    },
    {
     "name": "stderr",
     "output_type": "stream",
     "text": [
      "\u001b[32m[I 2021-12-21 21:00:55,485]\u001b[0m Trial 748 finished with value: 0.8159437574540205 and parameters: {'learning_rate': 0.009465539878191294, 'n_estimators': 143, 'subsample': 0.9461615378178644, 'min_samples_split': 14, 'min_samples_leaf': 2, 'max_depth': 7, 'min_impurity_decrease': 0.750535452651408, 'max_features': 20}. Best is trial 213 with value: 0.8238026489234826.\u001b[0m\n",
      "\u001b[32m[I 2021-12-21 21:00:56,421]\u001b[0m Trial 749 finished with value: 0.8148138848785387 and parameters: {'learning_rate': 0.008527872571944437, 'n_estimators': 149, 'subsample': 0.9505006082957305, 'min_samples_split': 20, 'min_samples_leaf': 3, 'max_depth': 7, 'min_impurity_decrease': 0.7597800487940518, 'max_features': 18}. Best is trial 213 with value: 0.8238026489234826.\u001b[0m\n",
      "\u001b[32m[I 2021-12-21 21:00:57,290]\u001b[0m Trial 750 finished with value: 0.8193082669010107 and parameters: {'learning_rate': 0.009245693491819008, 'n_estimators': 139, 'subsample': 0.9435265119875856, 'min_samples_split': 9, 'min_samples_leaf': 3, 'max_depth': 7, 'min_impurity_decrease': 0.7665642423197891, 'max_features': 17}. Best is trial 213 with value: 0.8238026489234826.\u001b[0m\n",
      "\u001b[32m[I 2021-12-21 21:00:58,275]\u001b[0m Trial 751 finished with value: 0.8226790534178645 and parameters: {'learning_rate': 0.008982359461584016, 'n_estimators': 145, 'subsample': 0.9548931441394843, 'min_samples_split': 10, 'min_samples_leaf': 4, 'max_depth': 7, 'min_impurity_decrease': 0.7687660530812958, 'max_features': 18}. Best is trial 213 with value: 0.8238026489234826.\u001b[0m\n",
      "\u001b[32m[I 2021-12-21 21:00:59,145]\u001b[0m Trial 752 finished with value: 0.8148201619484026 and parameters: {'learning_rate': 0.009121013985403423, 'n_estimators': 143, 'subsample': 0.7919996059356967, 'min_samples_split': 20, 'min_samples_leaf': 4, 'max_depth': 7, 'min_impurity_decrease': 0.7625427098436462, 'max_features': 20}. Best is trial 213 with value: 0.8238026489234826.\u001b[0m\n",
      "\u001b[32m[I 2021-12-21 21:01:00,047]\u001b[0m Trial 753 finished with value: 0.8204318624066286 and parameters: {'learning_rate': 0.00892126314463491, 'n_estimators': 147, 'subsample': 0.9535821468431829, 'min_samples_split': 12, 'min_samples_leaf': 4, 'max_depth': 7, 'min_impurity_decrease': 0.7676645709681927, 'max_features': 17}. Best is trial 213 with value: 0.8238026489234826.\u001b[0m\n",
      "\u001b[32m[I 2021-12-21 21:01:01,145]\u001b[0m Trial 754 finished with value: 0.8092147385600402 and parameters: {'learning_rate': 0.009020819443895734, 'n_estimators': 193, 'subsample': 0.9481174488744278, 'min_samples_split': 10, 'min_samples_leaf': 4, 'max_depth': 7, 'min_impurity_decrease': 0.7702094552769668, 'max_features': 18}. Best is trial 213 with value: 0.8238026489234826.\u001b[0m\n",
      "\u001b[32m[I 2021-12-21 21:01:02,025]\u001b[0m Trial 755 finished with value: 0.8181846713953925 and parameters: {'learning_rate': 0.0093360213044041, 'n_estimators': 136, 'subsample': 0.9561221074551384, 'min_samples_split': 12, 'min_samples_leaf': 4, 'max_depth': 7, 'min_impurity_decrease': 0.7555709956685198, 'max_features': 19}. Best is trial 213 with value: 0.8238026489234826.\u001b[0m\n",
      "\u001b[32m[I 2021-12-21 21:01:02,843]\u001b[0m Trial 756 finished with value: 0.8170610758897746 and parameters: {'learning_rate': 0.009490400787085332, 'n_estimators': 142, 'subsample': 0.9577162664226905, 'min_samples_split': 10, 'min_samples_leaf': 4, 'max_depth': 7, 'min_impurity_decrease': 0.7592666088054097, 'max_features': 14}. Best is trial 213 with value: 0.8238026489234826.\u001b[0m\n",
      "\u001b[32m[I 2021-12-21 21:01:03,767]\u001b[0m Trial 757 finished with value: 0.8193082669010107 and parameters: {'learning_rate': 0.008773395035842516, 'n_estimators': 150, 'subsample': 0.9566909734794586, 'min_samples_split': 10, 'min_samples_leaf': 3, 'max_depth': 7, 'min_impurity_decrease': 0.7734349801988197, 'max_features': 17}. Best is trial 213 with value: 0.8238026489234826.\u001b[0m\n",
      "\u001b[32m[I 2021-12-21 21:01:04,693]\u001b[0m Trial 758 finished with value: 0.8170610758897746 and parameters: {'learning_rate': 0.008613430991979329, 'n_estimators': 117, 'subsample': 0.9417814857959003, 'min_samples_split': 10, 'min_samples_leaf': 4, 'max_depth': 6, 'min_impurity_decrease': 0.7774826908406218, 'max_features': 18}. Best is trial 213 with value: 0.8238026489234826.\u001b[0m\n",
      "\u001b[32m[I 2021-12-21 21:01:06,531]\u001b[0m Trial 759 finished with value: 0.8148138848785387 and parameters: {'learning_rate': 0.00828649921746693, 'n_estimators': 139, 'subsample': 0.9453533296051737, 'min_samples_split': 9, 'min_samples_leaf': 2, 'max_depth': 7, 'min_impurity_decrease': 0.764158864081117, 'max_features': 19}. Best is trial 213 with value: 0.8238026489234826.\u001b[0m\n",
      "\u001b[32m[I 2021-12-21 21:01:08,297]\u001b[0m Trial 760 finished with value: 0.8215554579122466 and parameters: {'learning_rate': 0.009199347991084121, 'n_estimators': 144, 'subsample': 0.9522902831091566, 'min_samples_split': 11, 'min_samples_leaf': 2, 'max_depth': 7, 'min_impurity_decrease': 0.7656276822999767, 'max_features': 20}. Best is trial 213 with value: 0.8238026489234826.\u001b[0m\n",
      "\u001b[32m[I 2021-12-21 21:01:09,645]\u001b[0m Trial 761 finished with value: 0.817079907099366 and parameters: {'learning_rate': 0.008672562300046554, 'n_estimators': 150, 'subsample': 0.9499987083358434, 'min_samples_split': 11, 'min_samples_leaf': 8, 'max_depth': 7, 'min_impurity_decrease': 0.7810577833107999, 'max_features': 18}. Best is trial 213 with value: 0.8238026489234826.\u001b[0m\n",
      "\u001b[32m[I 2021-12-21 21:01:11,461]\u001b[0m Trial 762 finished with value: 0.8193082669010107 and parameters: {'learning_rate': 0.009038693211031141, 'n_estimators': 145, 'subsample': 0.9604933643630088, 'min_samples_split': 11, 'min_samples_leaf': 2, 'max_depth': 7, 'min_impurity_decrease': 0.7584600744576309, 'max_features': 19}. Best is trial 213 with value: 0.8238026489234826.\u001b[0m\n",
      "\u001b[32m[I 2021-12-21 21:01:12,991]\u001b[0m Trial 763 finished with value: 0.6161634548992531 and parameters: {'learning_rate': 0.0008150101664090364, 'n_estimators': 147, 'subsample': 0.9419901124772145, 'min_samples_split': 11, 'min_samples_leaf': 7, 'max_depth': 7, 'min_impurity_decrease': 0.7506243313267279, 'max_features': 9}. Best is trial 213 with value: 0.8238026489234826.\u001b[0m\n",
      "\u001b[32m[I 2021-12-21 21:01:14,417]\u001b[0m Trial 764 finished with value: 0.8204318624066286 and parameters: {'learning_rate': 0.009434277592747953, 'n_estimators': 136, 'subsample': 0.9376206145278295, 'min_samples_split': 13, 'min_samples_leaf': 3, 'max_depth': 7, 'min_impurity_decrease': 0.7696739802578507, 'max_features': 19}. Best is trial 213 with value: 0.8238026489234826.\u001b[0m\n",
      "\u001b[32m[I 2021-12-21 21:01:15,647]\u001b[0m Trial 765 finished with value: 0.8226790534178645 and parameters: {'learning_rate': 0.009318179262704977, 'n_estimators': 141, 'subsample': 0.9555596124391925, 'min_samples_split': 11, 'min_samples_leaf': 2, 'max_depth': 7, 'min_impurity_decrease': 0.7678081536296502, 'max_features': 20}. Best is trial 213 with value: 0.8238026489234826.\u001b[0m\n",
      "\u001b[32m[I 2021-12-21 21:01:16,746]\u001b[0m Trial 766 finished with value: 0.8193082669010107 and parameters: {'learning_rate': 0.009320074262187445, 'n_estimators': 140, 'subsample': 0.9586594421989374, 'min_samples_split': 12, 'min_samples_leaf': 2, 'max_depth': 7, 'min_impurity_decrease': 0.7689824797295122, 'max_features': 20}. Best is trial 213 with value: 0.8238026489234826.\u001b[0m\n",
      "\u001b[32m[I 2021-12-21 21:01:17,729]\u001b[0m Trial 767 finished with value: 0.8226790534178645 and parameters: {'learning_rate': 0.0096276912600063, 'n_estimators': 136, 'subsample': 0.9501987138851052, 'min_samples_split': 11, 'min_samples_leaf': 2, 'max_depth': 7, 'min_impurity_decrease': 0.7767278670149192, 'max_features': 20}. Best is trial 213 with value: 0.8238026489234826.\u001b[0m\n",
      "\u001b[32m[I 2021-12-21 21:01:18,851]\u001b[0m Trial 768 finished with value: 0.8226790534178645 and parameters: {'learning_rate': 0.009536414409245809, 'n_estimators': 129, 'subsample': 0.9491780043381237, 'min_samples_split': 12, 'min_samples_leaf': 2, 'max_depth': 7, 'min_impurity_decrease': 0.7753743691059216, 'max_features': 20}. Best is trial 213 with value: 0.8238026489234826.\u001b[0m\n",
      "\u001b[32m[I 2021-12-21 21:01:20,033]\u001b[0m Trial 769 finished with value: 0.8148138848785387 and parameters: {'learning_rate': 0.008433249296747571, 'n_estimators': 154, 'subsample': 0.8372987963114534, 'min_samples_split': 8, 'min_samples_leaf': 3, 'max_depth': 7, 'min_impurity_decrease': 0.7822527068380511, 'max_features': 19}. Best is trial 213 with value: 0.8238026489234826.\u001b[0m\n"
     ]
    },
    {
     "name": "stderr",
     "output_type": "stream",
     "text": [
      "\u001b[32m[I 2021-12-21 21:01:21,187]\u001b[0m Trial 770 finished with value: 0.8204381394764925 and parameters: {'learning_rate': 0.00965825398727561, 'n_estimators': 139, 'subsample': 0.9539554861839884, 'min_samples_split': 11, 'min_samples_leaf': 2, 'max_depth': 7, 'min_impurity_decrease': 0.7715592248647991, 'max_features': 20}. Best is trial 213 with value: 0.8238026489234826.\u001b[0m\n",
      "\u001b[32m[I 2021-12-21 21:01:20,322]\u001b[0m Trial 771 finished with value: 0.8238026489234824 and parameters: {'learning_rate': 0.009070389444516705, 'n_estimators': 133, 'subsample': 0.9451345684831808, 'min_samples_split': 10, 'min_samples_leaf': 2, 'max_depth': 7, 'min_impurity_decrease': 0.7667506084407588, 'max_features': 18}. Best is trial 213 with value: 0.8238026489234826.\u001b[0m\n",
      "\u001b[32m[I 2021-12-21 21:01:21,230]\u001b[0m Trial 772 finished with value: 0.8181783943255289 and parameters: {'learning_rate': 0.009142664228468454, 'n_estimators': 128, 'subsample': 0.8521802222378673, 'min_samples_split': 9, 'min_samples_leaf': 2, 'max_depth': 7, 'min_impurity_decrease': 0.7618334446952612, 'max_features': 19}. Best is trial 213 with value: 0.8238026489234826.\u001b[0m\n",
      "\u001b[32m[I 2021-12-21 21:01:22,226]\u001b[0m Trial 773 finished with value: 0.8002134203753688 and parameters: {'learning_rate': 0.004507298564346932, 'n_estimators': 131, 'subsample': 0.8937750634660798, 'min_samples_split': 10, 'min_samples_leaf': 3, 'max_depth': 7, 'min_impurity_decrease': 0.7583264014785078, 'max_features': 18}. Best is trial 213 with value: 0.8238026489234826.\u001b[0m\n",
      "\u001b[32m[I 2021-12-21 21:01:23,146]\u001b[0m Trial 774 finished with value: 0.8215554579122466 and parameters: {'learning_rate': 0.009581070100287751, 'n_estimators': 129, 'subsample': 0.9480107856517582, 'min_samples_split': 13, 'min_samples_leaf': 3, 'max_depth': 7, 'min_impurity_decrease': 0.7544863953396932, 'max_features': 20}. Best is trial 213 with value: 0.8238026489234826.\u001b[0m\n",
      "\u001b[32m[I 2021-12-21 21:01:23,992]\u001b[0m Trial 775 finished with value: 0.8103446111355218 and parameters: {'learning_rate': 0.009456534962040151, 'n_estimators': 132, 'subsample': 0.9425388786869702, 'min_samples_split': 11, 'min_samples_leaf': 2, 'max_depth': 4, 'min_impurity_decrease': 0.7767485903343903, 'max_features': 17}. Best is trial 213 with value: 0.8238026489234826.\u001b[0m\n",
      "\u001b[32m[I 2021-12-21 21:01:24,561]\u001b[0m Trial 776 finished with value: 0.8046952482581131 and parameters: {'learning_rate': 0.008940374168272931, 'n_estimators': 60, 'subsample': 0.9460655283458136, 'min_samples_split': 10, 'min_samples_leaf': 2, 'max_depth': 7, 'min_impurity_decrease': 0.7648519402238549, 'max_features': 18}. Best is trial 213 with value: 0.8238026489234826.\u001b[0m\n",
      "\u001b[32m[I 2021-12-21 21:01:25,444]\u001b[0m Trial 777 finished with value: 0.8181846713953927 and parameters: {'learning_rate': 0.008686500320621222, 'n_estimators': 122, 'subsample': 0.932777699364849, 'min_samples_split': 10, 'min_samples_leaf': 2, 'max_depth': 7, 'min_impurity_decrease': 0.7789328374975871, 'max_features': 17}. Best is trial 213 with value: 0.8238026489234826.\u001b[0m\n",
      "\u001b[32m[I 2021-12-21 21:01:26,408]\u001b[0m Trial 778 finished with value: 0.8226790534178645 and parameters: {'learning_rate': 0.00885913117221241, 'n_estimators': 143, 'subsample': 0.9545324342488218, 'min_samples_split': 11, 'min_samples_leaf': 2, 'max_depth': 7, 'min_impurity_decrease': 0.7732933153176236, 'max_features': 18}. Best is trial 213 with value: 0.8238026489234826.\u001b[0m\n",
      "\u001b[32m[I 2021-12-21 21:01:27,359]\u001b[0m Trial 779 finished with value: 0.8215554579122466 and parameters: {'learning_rate': 0.008831666114344395, 'n_estimators': 144, 'subsample': 0.9559082977464616, 'min_samples_split': 10, 'min_samples_leaf': 4, 'max_depth': 7, 'min_impurity_decrease': 0.76936479386887, 'max_features': 18}. Best is trial 213 with value: 0.8238026489234826.\u001b[0m\n",
      "\u001b[32m[I 2021-12-21 21:01:28,437]\u001b[0m Trial 780 finished with value: 0.8238026489234824 and parameters: {'learning_rate': 0.0089033423997434, 'n_estimators': 150, 'subsample': 0.9393334533152159, 'min_samples_split': 10, 'min_samples_leaf': 3, 'max_depth': 7, 'min_impurity_decrease': 0.7723562832723867, 'max_features': 18}. Best is trial 213 with value: 0.8238026489234826.\u001b[0m\n",
      "\u001b[32m[I 2021-12-21 21:01:29,642]\u001b[0m Trial 781 finished with value: 0.8215554579122466 and parameters: {'learning_rate': 0.008827331687897833, 'n_estimators': 149, 'subsample': 0.9371480988831119, 'min_samples_split': 11, 'min_samples_leaf': 2, 'max_depth': 7, 'min_impurity_decrease': 0.7730250414421381, 'max_features': 18}. Best is trial 213 with value: 0.8238026489234826.\u001b[0m\n",
      "\u001b[32m[I 2021-12-21 21:01:30,681]\u001b[0m Trial 782 finished with value: 0.8193082669010107 and parameters: {'learning_rate': 0.009135353533405995, 'n_estimators': 150, 'subsample': 0.9298568878034243, 'min_samples_split': 9, 'min_samples_leaf': 2, 'max_depth': 7, 'min_impurity_decrease': 0.7634229175938353, 'max_features': 18}. Best is trial 213 with value: 0.8238026489234826.\u001b[0m\n",
      "\u001b[32m[I 2021-12-21 21:01:31,745]\u001b[0m Trial 783 finished with value: 0.8215554579122466 and parameters: {'learning_rate': 0.008538389194955988, 'n_estimators': 151, 'subsample': 0.9422995984780236, 'min_samples_split': 10, 'min_samples_leaf': 2, 'max_depth': 7, 'min_impurity_decrease': 0.7726544489878393, 'max_features': 18}. Best is trial 213 with value: 0.8238026489234826.\u001b[0m\n",
      "\u001b[32m[I 2021-12-21 21:01:32,867]\u001b[0m Trial 784 finished with value: 0.8215554579122466 and parameters: {'learning_rate': 0.009602424445805342, 'n_estimators': 126, 'subsample': 0.9614221612842013, 'min_samples_split': 12, 'min_samples_leaf': 2, 'max_depth': 7, 'min_impurity_decrease': 0.7686813276899916, 'max_features': 20}. Best is trial 213 with value: 0.8238026489234826.\u001b[0m\n",
      "\u001b[32m[I 2021-12-21 21:01:33,971]\u001b[0m Trial 785 finished with value: 0.8181846713953927 and parameters: {'learning_rate': 0.008283391241241153, 'n_estimators': 155, 'subsample': 0.9433974947155186, 'min_samples_split': 2, 'min_samples_leaf': 2, 'max_depth': 7, 'min_impurity_decrease': 0.7803505530898694, 'max_features': 17}. Best is trial 213 with value: 0.8238026489234826.\u001b[0m\n",
      "\u001b[32m[I 2021-12-21 21:01:34,901]\u001b[0m Trial 786 finished with value: 0.8181846713953927 and parameters: {'learning_rate': 0.00980312621104763, 'n_estimators': 132, 'subsample': 0.9454093042247804, 'min_samples_split': 11, 'min_samples_leaf': 2, 'max_depth': 7, 'min_impurity_decrease': 0.7812192293394208, 'max_features': 17}. Best is trial 213 with value: 0.8238026489234826.\u001b[0m\n",
      "\u001b[32m[I 2021-12-21 21:01:35,823]\u001b[0m Trial 787 finished with value: 0.8204318624066287 and parameters: {'learning_rate': 0.009658627082588118, 'n_estimators': 133, 'subsample': 0.9508057839381183, 'min_samples_split': 12, 'min_samples_leaf': 2, 'max_depth': 7, 'min_impurity_decrease': 0.8242518391348798, 'max_features': 20}. Best is trial 213 with value: 0.8238026489234826.\u001b[0m\n",
      "\u001b[32m[I 2021-12-21 21:01:36,728]\u001b[0m Trial 788 finished with value: 0.8204318624066286 and parameters: {'learning_rate': 0.009541355456009976, 'n_estimators': 128, 'subsample': 0.9184455452052301, 'min_samples_split': 11, 'min_samples_leaf': 2, 'max_depth': 7, 'min_impurity_decrease': 0.764132616107587, 'max_features': 20}. Best is trial 213 with value: 0.8238026489234826.\u001b[0m\n",
      "\u001b[32m[I 2021-12-21 21:01:37,761]\u001b[0m Trial 789 finished with value: 0.8204318624066287 and parameters: {'learning_rate': 0.0090451107411195, 'n_estimators': 137, 'subsample': 0.9627931264624642, 'min_samples_split': 10, 'min_samples_leaf': 4, 'max_depth': 7, 'min_impurity_decrease': 0.7666737466732958, 'max_features': 18}. Best is trial 213 with value: 0.8238026489234826.\u001b[0m\n",
      "\u001b[32m[I 2021-12-21 21:01:38,892]\u001b[0m Trial 790 finished with value: 0.8182035026049841 and parameters: {'learning_rate': 0.008949570477175066, 'n_estimators': 155, 'subsample': 0.9246988171563845, 'min_samples_split': 10, 'min_samples_leaf': 4, 'max_depth': 7, 'min_impurity_decrease': 0.7601776051424095, 'max_features': 18}. Best is trial 213 with value: 0.8238026489234826.\u001b[0m\n",
      "\u001b[32m[I 2021-12-21 21:01:39,848]\u001b[0m Trial 791 finished with value: 0.8204318624066287 and parameters: {'learning_rate': 0.009169409200840058, 'n_estimators': 145, 'subsample': 0.9331086437687599, 'min_samples_split': 10, 'min_samples_leaf': 2, 'max_depth': 7, 'min_impurity_decrease': 0.7566095218796569, 'max_features': 18}. Best is trial 213 with value: 0.8238026489234826.\u001b[0m\n"
     ]
    },
    {
     "name": "stderr",
     "output_type": "stream",
     "text": [
      "\u001b[32m[I 2021-12-21 21:01:40,795]\u001b[0m Trial 792 finished with value: 0.8215554579122466 and parameters: {'learning_rate': 0.009394298565325466, 'n_estimators': 135, 'subsample': 0.9502126277129438, 'min_samples_split': 12, 'min_samples_leaf': 3, 'max_depth': 7, 'min_impurity_decrease': 0.7760354760189445, 'max_features': 20}. Best is trial 213 with value: 0.8238026489234826.\u001b[0m\n",
      "\u001b[32m[I 2021-12-21 21:01:41,839]\u001b[0m Trial 793 finished with value: 0.8215554579122466 and parameters: {'learning_rate': 0.009422859773380846, 'n_estimators': 139, 'subsample': 0.9600526043168139, 'min_samples_split': 11, 'min_samples_leaf': 3, 'max_depth': 7, 'min_impurity_decrease': 0.775122898718492, 'max_features': 20}. Best is trial 213 with value: 0.8238026489234826.\u001b[0m\n",
      "\u001b[32m[I 2021-12-21 21:01:42,753]\u001b[0m Trial 794 finished with value: 0.8193208210407382 and parameters: {'learning_rate': 0.009747441134141725, 'n_estimators': 132, 'subsample': 0.9112414006061482, 'min_samples_split': 11, 'min_samples_leaf': 3, 'max_depth': 7, 'min_impurity_decrease': 0.7663096119180336, 'max_features': 20}. Best is trial 213 with value: 0.8238026489234826.\u001b[0m\n",
      "\u001b[32m[I 2021-12-21 21:01:43,445]\u001b[0m Trial 795 finished with value: 0.8136902893729208 and parameters: {'learning_rate': 0.00850217503050497, 'n_estimators': 90, 'subsample': 0.9375018961917315, 'min_samples_split': 10, 'min_samples_leaf': 3, 'max_depth': 7, 'min_impurity_decrease': 0.7620229804689518, 'max_features': 16}. Best is trial 213 with value: 0.8238026489234826.\u001b[0m\n",
      "\u001b[32m[I 2021-12-21 21:01:44,268]\u001b[0m Trial 796 finished with value: 0.8103320569957942 and parameters: {'learning_rate': 0.00920775762476029, 'n_estimators': 140, 'subsample': 0.9278439230665722, 'min_samples_split': 10, 'min_samples_leaf': 3, 'max_depth': 7, 'min_impurity_decrease': 0.7896438094874555, 'max_features': 13}. Best is trial 213 with value: 0.8238026489234826.\u001b[0m\n",
      "\u001b[32m[I 2021-12-21 21:01:45,025]\u001b[0m Trial 797 finished with value: 0.8192894356914193 and parameters: {'learning_rate': 0.00971506596476997, 'n_estimators': 125, 'subsample': 0.9400215352595146, 'min_samples_split': 10, 'min_samples_leaf': 2, 'max_depth': 7, 'min_impurity_decrease': 0.7773887383964602, 'max_features': 11}. Best is trial 213 with value: 0.8238026489234826.\u001b[0m\n",
      "\u001b[32m[I 2021-12-21 21:01:45,961]\u001b[0m Trial 798 finished with value: 0.8226790534178645 and parameters: {'learning_rate': 0.009291979234433643, 'n_estimators': 135, 'subsample': 0.947710596347282, 'min_samples_split': 11, 'min_samples_leaf': 2, 'max_depth': 7, 'min_impurity_decrease': 0.7719386069981548, 'max_features': 20}. Best is trial 213 with value: 0.8238026489234826.\u001b[0m\n",
      "\u001b[32m[I 2021-12-21 21:01:46,914]\u001b[0m Trial 799 finished with value: 0.8215554579122466 and parameters: {'learning_rate': 0.00929496404528208, 'n_estimators': 136, 'subsample': 0.9473840583455171, 'min_samples_split': 11, 'min_samples_leaf': 2, 'max_depth': 7, 'min_impurity_decrease': 0.771860807637036, 'max_features': 20}. Best is trial 213 with value: 0.8238026489234826.\u001b[0m\n",
      "\u001b[32m[I 2021-12-21 21:01:47,776]\u001b[0m Trial 800 finished with value: 0.8170610758897746 and parameters: {'learning_rate': 0.008743879121403132, 'n_estimators': 129, 'subsample': 0.9530743892273487, 'min_samples_split': 11, 'min_samples_leaf': 2, 'max_depth': 7, 'min_impurity_decrease': 0.7784645627771916, 'max_features': 17}. Best is trial 213 with value: 0.8238026489234826.\u001b[0m\n",
      "\u001b[32m[I 2021-12-21 21:01:48,723]\u001b[0m Trial 801 finished with value: 0.8215554579122466 and parameters: {'learning_rate': 0.009584246074746545, 'n_estimators': 133, 'subsample': 0.945687987521387, 'min_samples_split': 11, 'min_samples_leaf': 2, 'max_depth': 7, 'min_impurity_decrease': 0.7747308122974073, 'max_features': 20}. Best is trial 213 with value: 0.8238026489234826.\u001b[0m\n",
      "\u001b[32m[I 2021-12-21 21:01:49,605]\u001b[0m Trial 802 finished with value: 0.8137028435126483 and parameters: {'learning_rate': 0.009344057631296166, 'n_estimators': 129, 'subsample': 0.9566237427226012, 'min_samples_split': 11, 'min_samples_leaf': 12, 'max_depth': 7, 'min_impurity_decrease': 0.7888601246555585, 'max_features': 20}. Best is trial 213 with value: 0.8238026489234826.\u001b[0m\n",
      "\u001b[32m[I 2021-12-21 21:01:50,543]\u001b[0m Trial 803 finished with value: 0.8193082669010107 and parameters: {'learning_rate': 0.009644532588943301, 'n_estimators': 130, 'subsample': 0.9525111008459004, 'min_samples_split': 12, 'min_samples_leaf': 3, 'max_depth': 7, 'min_impurity_decrease': 0.7758976402116952, 'max_features': 19}. Best is trial 213 with value: 0.8238026489234826.\u001b[0m\n",
      "\u001b[32m[I 2021-12-21 21:01:51,594]\u001b[0m Trial 804 finished with value: 0.8069424392693492 and parameters: {'learning_rate': 0.004924709307768628, 'n_estimators': 123, 'subsample': 0.938999729752418, 'min_samples_split': 10, 'min_samples_leaf': 3, 'max_depth': 7, 'min_impurity_decrease': 0.7677579965139177, 'max_features': 20}. Best is trial 213 with value: 0.8238026489234826.\u001b[0m\n",
      "\u001b[32m[I 2021-12-21 21:01:52,576]\u001b[0m Trial 805 finished with value: 0.8193082669010107 and parameters: {'learning_rate': 0.00941810097227229, 'n_estimators': 141, 'subsample': 0.9522172518990285, 'min_samples_split': 11, 'min_samples_leaf': 2, 'max_depth': 7, 'min_impurity_decrease': 0.7704426336307092, 'max_features': 20}. Best is trial 213 with value: 0.8238026489234826.\u001b[0m\n",
      "\u001b[32m[I 2021-12-21 21:01:53,521]\u001b[0m Trial 806 finished with value: 0.8226790534178645 and parameters: {'learning_rate': 0.009721204579270972, 'n_estimators': 126, 'subsample': 0.9338811669553333, 'min_samples_split': 12, 'min_samples_leaf': 2, 'max_depth': 7, 'min_impurity_decrease': 0.7695248721139015, 'max_features': 19}. Best is trial 213 with value: 0.8238026489234826.\u001b[0m\n",
      "\u001b[32m[I 2021-12-21 21:01:54,573]\u001b[0m Trial 807 finished with value: 0.8193082669010107 and parameters: {'learning_rate': 0.008035805047713052, 'n_estimators': 158, 'subsample': 0.9350581576333662, 'min_samples_split': 9, 'min_samples_leaf': 3, 'max_depth': 7, 'min_impurity_decrease': 0.7547333374693801, 'max_features': 18}. Best is trial 213 with value: 0.8238026489234826.\u001b[0m\n",
      "\u001b[32m[I 2021-12-21 21:01:55,485]\u001b[0m Trial 808 finished with value: 0.8204318624066286 and parameters: {'learning_rate': 0.009815080362862704, 'n_estimators': 122, 'subsample': 0.9489024235480917, 'min_samples_split': 12, 'min_samples_leaf': 2, 'max_depth': 7, 'min_impurity_decrease': 0.778726748576006, 'max_features': 19}. Best is trial 213 with value: 0.8238026489234826.\u001b[0m\n",
      "\u001b[32m[I 2021-12-21 21:01:56,421]\u001b[0m Trial 809 finished with value: 0.8204318624066286 and parameters: {'learning_rate': 0.00901440948973845, 'n_estimators': 136, 'subsample': 0.9560785812606905, 'min_samples_split': 11, 'min_samples_leaf': 3, 'max_depth': 7, 'min_impurity_decrease': 0.7808876922831139, 'max_features': 19}. Best is trial 213 with value: 0.8238026489234826.\u001b[0m\n",
      "\u001b[32m[I 2021-12-21 21:01:57,221]\u001b[0m Trial 810 finished with value: 0.8058627832527776 and parameters: {'learning_rate': 0.009326911789571771, 'n_estimators': 133, 'subsample': 0.956381426110739, 'min_samples_split': 11, 'min_samples_leaf': 2, 'max_depth': 3, 'min_impurity_decrease': 0.7654139623611654, 'max_features': 20}. Best is trial 213 with value: 0.8238026489234826.\u001b[0m\n",
      "\u001b[32m[I 2021-12-21 21:01:58,303]\u001b[0m Trial 811 finished with value: 0.8193082669010107 and parameters: {'learning_rate': 0.009871261666349815, 'n_estimators': 120, 'subsample': 0.918778927542034, 'min_samples_split': 10, 'min_samples_leaf': 2, 'max_depth': 7, 'min_impurity_decrease': 0.7628822414609555, 'max_features': 19}. Best is trial 213 with value: 0.8238026489234826.\u001b[0m\n",
      "\u001b[32m[I 2021-12-21 21:01:59,174]\u001b[0m Trial 812 finished with value: 0.8204318624066286 and parameters: {'learning_rate': 0.009832208038965229, 'n_estimators': 126, 'subsample': 0.9254357911993664, 'min_samples_split': 13, 'min_samples_leaf': 2, 'max_depth': 7, 'min_impurity_decrease': 0.7713802252377099, 'max_features': 19}. Best is trial 213 with value: 0.8238026489234826.\u001b[0m\n",
      "\u001b[32m[I 2021-12-21 21:02:00,160]\u001b[0m Trial 813 finished with value: 0.8215554579122465 and parameters: {'learning_rate': 0.009179936206757146, 'n_estimators': 137, 'subsample': 0.9437846204602657, 'min_samples_split': 10, 'min_samples_leaf': 2, 'max_depth': 7, 'min_impurity_decrease': 0.7685247177353517, 'max_features': 19}. Best is trial 213 with value: 0.8238026489234826.\u001b[0m\n"
     ]
    },
    {
     "name": "stderr",
     "output_type": "stream",
     "text": [
      "\u001b[32m[I 2021-12-21 21:02:01,184]\u001b[0m Trial 814 finished with value: 0.8204318624066287 and parameters: {'learning_rate': 0.009121686252234437, 'n_estimators': 136, 'subsample': 0.9434793890074566, 'min_samples_split': 10, 'min_samples_leaf': 2, 'max_depth': 7, 'min_impurity_decrease': 0.7601972596685124, 'max_features': 20}. Best is trial 213 with value: 0.8238026489234826.\u001b[0m\n",
      "\u001b[32m[I 2021-12-21 21:02:02,122]\u001b[0m Trial 815 finished with value: 0.8103571652752496 and parameters: {'learning_rate': 0.008614796906601432, 'n_estimators': 148, 'subsample': 0.9309324034087807, 'min_samples_split': 9, 'min_samples_leaf': 9, 'max_depth': 5, 'min_impurity_decrease': 0.7860097678341411, 'max_features': 18}. Best is trial 213 with value: 0.8238026489234826.\u001b[0m\n",
      "\u001b[32m[I 2021-12-21 21:02:03,279]\u001b[0m Trial 816 finished with value: 0.8193082669010107 and parameters: {'learning_rate': 0.009525974945427668, 'n_estimators': 131, 'subsample': 0.957385984056856, 'min_samples_split': 12, 'min_samples_leaf': 2, 'max_depth': 7, 'min_impurity_decrease': 0.7728595513362408, 'max_features': 19}. Best is trial 213 with value: 0.8238026489234826.\u001b[0m\n",
      "\u001b[32m[I 2021-12-21 21:02:04,249]\u001b[0m Trial 817 finished with value: 0.8193082669010107 and parameters: {'learning_rate': 0.008898333068772432, 'n_estimators': 144, 'subsample': 0.9401492825926719, 'min_samples_split': 10, 'min_samples_leaf': 3, 'max_depth': 7, 'min_impurity_decrease': 0.7828681238710938, 'max_features': 17}. Best is trial 213 with value: 0.8238026489234826.\u001b[0m\n",
      "\u001b[32m[I 2021-12-21 21:02:05,262]\u001b[0m Trial 818 finished with value: 0.8226790534178645 and parameters: {'learning_rate': 0.00954053171952003, 'n_estimators': 140, 'subsample': 0.9656141587324423, 'min_samples_split': 11, 'min_samples_leaf': 3, 'max_depth': 7, 'min_impurity_decrease': 0.7789633130701474, 'max_features': 20}. Best is trial 213 with value: 0.8238026489234826.\u001b[0m\n",
      "\u001b[32m[I 2021-12-21 21:02:06,247]\u001b[0m Trial 819 finished with value: 0.8204318624066287 and parameters: {'learning_rate': 0.009513797047965547, 'n_estimators': 141, 'subsample': 0.9635981201780314, 'min_samples_split': 11, 'min_samples_leaf': 3, 'max_depth': 7, 'min_impurity_decrease': 0.776950894285002, 'max_features': 20}. Best is trial 213 with value: 0.8238026489234826.\u001b[0m\n",
      "\u001b[32m[I 2021-12-21 21:02:07,146]\u001b[0m Trial 820 finished with value: 0.815956311593748 and parameters: {'learning_rate': 0.009310241046021175, 'n_estimators': 129, 'subsample': 0.9509825841620222, 'min_samples_split': 11, 'min_samples_leaf': 3, 'max_depth': 6, 'min_impurity_decrease': 0.7600018647827356, 'max_features': 20}. Best is trial 213 with value: 0.8238026489234826.\u001b[0m\n",
      "\u001b[32m[I 2021-12-21 21:02:08,162]\u001b[0m Trial 821 finished with value: 0.8215554579122466 and parameters: {'learning_rate': 0.009058565871660158, 'n_estimators': 137, 'subsample': 0.9550261323385669, 'min_samples_split': 11, 'min_samples_leaf': 2, 'max_depth': 7, 'min_impurity_decrease': 0.7725035025948562, 'max_features': 20}. Best is trial 213 with value: 0.8238026489234826.\u001b[0m\n",
      "\u001b[32m[I 2021-12-21 21:02:09,074]\u001b[0m Trial 822 finished with value: 0.8181909484652564 and parameters: {'learning_rate': 0.008860965602533433, 'n_estimators': 133, 'subsample': 0.9455582036081752, 'min_samples_split': 10, 'min_samples_leaf': 2, 'max_depth': 7, 'min_impurity_decrease': 0.7819915660623609, 'max_features': 17}. Best is trial 213 with value: 0.8238026489234826.\u001b[0m\n",
      "\u001b[32m[I 2021-12-21 21:02:10,067]\u001b[0m Trial 823 finished with value: 0.8148264390182662 and parameters: {'learning_rate': 0.00920360272226877, 'n_estimators': 139, 'subsample': 0.9626280656467374, 'min_samples_split': 11, 'min_samples_leaf': 4, 'max_depth': 7, 'min_impurity_decrease': 0.8556578803208132, 'max_features': 19}. Best is trial 213 with value: 0.8238026489234826.\u001b[0m\n",
      "\u001b[32m[I 2021-12-21 21:02:10,949]\u001b[0m Trial 824 finished with value: 0.8069612704789403 and parameters: {'learning_rate': 0.009041000023938081, 'n_estimators': 136, 'subsample': 0.9503105622418393, 'min_samples_split': 12, 'min_samples_leaf': 14, 'max_depth': 7, 'min_impurity_decrease': 0.773443305350537, 'max_features': 18}. Best is trial 213 with value: 0.8238026489234826.\u001b[0m\n",
      "\u001b[32m[I 2021-12-21 21:02:11,912]\u001b[0m Trial 825 finished with value: 0.8215554579122465 and parameters: {'learning_rate': 0.009745051624162707, 'n_estimators': 133, 'subsample': 0.9610767689590153, 'min_samples_split': 13, 'min_samples_leaf': 2, 'max_depth': 7, 'min_impurity_decrease': 0.7739030453331326, 'max_features': 20}. Best is trial 213 with value: 0.8238026489234826.\u001b[0m\n",
      "\u001b[32m[I 2021-12-21 21:02:13,047]\u001b[0m Trial 826 finished with value: 0.8181846713953925 and parameters: {'learning_rate': 0.007385334071249081, 'n_estimators': 156, 'subsample': 0.9227325390782886, 'min_samples_split': 10, 'min_samples_leaf': 2, 'max_depth': 7, 'min_impurity_decrease': 0.7670133453369723, 'max_features': 20}. Best is trial 213 with value: 0.8238026489234826.\u001b[0m\n",
      "\u001b[32m[I 2021-12-21 21:02:13,961]\u001b[0m Trial 827 finished with value: 0.821568012051974 and parameters: {'learning_rate': 0.009327326742783566, 'n_estimators': 135, 'subsample': 0.9493957654954224, 'min_samples_split': 12, 'min_samples_leaf': 7, 'max_depth': 7, 'min_impurity_decrease': 0.7568477847380779, 'max_features': 20}. Best is trial 213 with value: 0.8238026489234826.\u001b[0m\n",
      "\u001b[32m[I 2021-12-21 21:02:14,967]\u001b[0m Trial 828 finished with value: 0.8193082669010107 and parameters: {'learning_rate': 0.009343714548385283, 'n_estimators': 135, 'subsample': 0.9483895456464381, 'min_samples_split': 11, 'min_samples_leaf': 2, 'max_depth': 7, 'min_impurity_decrease': 0.7712161897860411, 'max_features': 20}. Best is trial 213 with value: 0.8238026489234826.\u001b[0m\n",
      "\u001b[32m[I 2021-12-21 21:02:15,777]\u001b[0m Trial 829 finished with value: 0.8170610758897746 and parameters: {'learning_rate': 0.008826957760701915, 'n_estimators': 116, 'subsample': 0.9508538602029808, 'min_samples_split': 11, 'min_samples_leaf': 2, 'max_depth': 7, 'min_impurity_decrease': 0.7821595413448948, 'max_features': 18}. Best is trial 213 with value: 0.8238026489234826.\u001b[0m\n",
      "\u001b[32m[I 2021-12-21 21:02:16,729]\u001b[0m Trial 830 finished with value: 0.8215554579122466 and parameters: {'learning_rate': 0.00952755580519695, 'n_estimators': 142, 'subsample': 0.9538158052498281, 'min_samples_split': 11, 'min_samples_leaf': 2, 'max_depth': 7, 'min_impurity_decrease': 0.7679138495642901, 'max_features': 20}. Best is trial 213 with value: 0.8238026489234826.\u001b[0m\n",
      "\u001b[32m[I 2021-12-21 21:02:17,618]\u001b[0m Trial 831 finished with value: 0.8159374803841566 and parameters: {'learning_rate': 0.007699509491473026, 'n_estimators': 124, 'subsample': 0.9374540827149123, 'min_samples_split': 20, 'min_samples_leaf': 2, 'max_depth': 7, 'min_impurity_decrease': 0.7742840491856856, 'max_features': 19}. Best is trial 213 with value: 0.8238026489234826.\u001b[0m\n",
      "\u001b[32m[I 2021-12-21 21:02:18,635]\u001b[0m Trial 832 finished with value: 0.8215554579122465 and parameters: {'learning_rate': 0.00894592343680179, 'n_estimators': 145, 'subsample': 0.9650277112003742, 'min_samples_split': 7, 'min_samples_leaf': 3, 'max_depth': 7, 'min_impurity_decrease': 0.7693810298554723, 'max_features': 19}. Best is trial 213 with value: 0.8238026489234826.\u001b[0m\n",
      "\u001b[32m[I 2021-12-21 21:02:19,611]\u001b[0m Trial 833 finished with value: 0.8181972255351202 and parameters: {'learning_rate': 0.009084449908433132, 'n_estimators': 141, 'subsample': 0.9556643839675746, 'min_samples_split': 11, 'min_samples_leaf': 8, 'max_depth': 7, 'min_impurity_decrease': 0.775655805057507, 'max_features': 18}. Best is trial 213 with value: 0.8238026489234826.\u001b[0m\n",
      "\u001b[32m[I 2021-12-21 21:02:20,546]\u001b[0m Trial 834 finished with value: 0.8204318624066287 and parameters: {'learning_rate': 0.009666857319028676, 'n_estimators': 139, 'subsample': 0.9429302093252451, 'min_samples_split': 10, 'min_samples_leaf': 2, 'max_depth': 7, 'min_impurity_decrease': 0.7648478166936203, 'max_features': 20}. Best is trial 213 with value: 0.8238026489234826.\u001b[0m\n",
      "\u001b[32m[I 2021-12-21 21:02:21,501]\u001b[0m Trial 835 finished with value: 0.8226790534178645 and parameters: {'learning_rate': 0.009248724263715213, 'n_estimators': 142, 'subsample': 0.9471273263313083, 'min_samples_split': 11, 'min_samples_leaf': 2, 'max_depth': 7, 'min_impurity_decrease': 0.7691602527564325, 'max_features': 20}. Best is trial 213 with value: 0.8238026489234826.\u001b[0m\n"
     ]
    },
    {
     "name": "stderr",
     "output_type": "stream",
     "text": [
      "\u001b[32m[I 2021-12-21 21:02:22,341]\u001b[0m Trial 836 finished with value: 0.8125792480070304 and parameters: {'learning_rate': 0.009975945165795704, 'n_estimators': 126, 'subsample': 0.9353955579809877, 'min_samples_split': 12, 'min_samples_leaf': 11, 'max_depth': 7, 'min_impurity_decrease': 0.7890797615531784, 'max_features': 20}. Best is trial 213 with value: 0.8238026489234826.\u001b[0m\n",
      "\u001b[32m[I 2021-12-21 21:02:23,285]\u001b[0m Trial 837 finished with value: 0.8215554579122466 and parameters: {'learning_rate': 0.008857757604200217, 'n_estimators': 146, 'subsample': 0.9053639574640918, 'min_samples_split': 11, 'min_samples_leaf': 2, 'max_depth': 7, 'min_impurity_decrease': 0.7667948112679991, 'max_features': 18}. Best is trial 213 with value: 0.8238026489234826.\u001b[0m\n",
      "\u001b[32m[I 2021-12-21 21:02:23,981]\u001b[0m Trial 838 finished with value: 0.8170422446801833 and parameters: {'learning_rate': 0.008438849336458791, 'n_estimators': 152, 'subsample': 0.9689410812143809, 'min_samples_split': 9, 'min_samples_leaf': 4, 'max_depth': 7, 'min_impurity_decrease': 0.8867867003323944, 'max_features': 5}. Best is trial 213 with value: 0.8238026489234826.\u001b[0m\n",
      "\u001b[32m[I 2021-12-21 21:02:24,991]\u001b[0m Trial 839 finished with value: 0.8193082669010107 and parameters: {'learning_rate': 0.00704448379788144, 'n_estimators': 144, 'subsample': 0.9569725196490435, 'min_samples_split': 11, 'min_samples_leaf': 2, 'max_depth': 7, 'min_impurity_decrease': 0.7740254585838545, 'max_features': 19}. Best is trial 213 with value: 0.8238026489234826.\u001b[0m\n",
      "\u001b[32m[I 2021-12-21 21:02:25,876]\u001b[0m Trial 840 finished with value: 0.8193082669010107 and parameters: {'learning_rate': 0.00899548121404431, 'n_estimators': 130, 'subsample': 0.9312007677613923, 'min_samples_split': 10, 'min_samples_leaf': 2, 'max_depth': 7, 'min_impurity_decrease': 0.7615866073373018, 'max_features': 18}. Best is trial 213 with value: 0.8238026489234826.\u001b[0m\n",
      "\u001b[32m[I 2021-12-21 21:02:26,835]\u001b[0m Trial 841 finished with value: 0.8193082669010107 and parameters: {'learning_rate': 0.008659022001305163, 'n_estimators': 145, 'subsample': 0.9531531848851003, 'min_samples_split': 15, 'min_samples_leaf': 2, 'max_depth': 7, 'min_impurity_decrease': 0.7777722755176115, 'max_features': 18}. Best is trial 213 with value: 0.8238026489234826.\u001b[0m\n",
      "\u001b[32m[I 2021-12-21 21:02:27,717]\u001b[0m Trial 842 finished with value: 0.8215554579122466 and parameters: {'learning_rate': 0.009554140567277903, 'n_estimators': 128, 'subsample': 0.9450489136481417, 'min_samples_split': 13, 'min_samples_leaf': 2, 'max_depth': 7, 'min_impurity_decrease': 0.7693949748751595, 'max_features': 19}. Best is trial 213 with value: 0.8238026489234826.\u001b[0m\n",
      "\u001b[32m[I 2021-12-21 21:02:28,742]\u001b[0m Trial 843 finished with value: 0.8193082669010107 and parameters: {'learning_rate': 0.008232505483848063, 'n_estimators': 153, 'subsample': 0.9305208518702169, 'min_samples_split': 9, 'min_samples_leaf': 3, 'max_depth': 7, 'min_impurity_decrease': 0.781634834871088, 'max_features': 18}. Best is trial 213 with value: 0.8238026489234826.\u001b[0m\n",
      "\u001b[32m[I 2021-12-21 21:02:29,667]\u001b[0m Trial 844 finished with value: 0.8159374803841567 and parameters: {'learning_rate': 0.00859960451714803, 'n_estimators': 150, 'subsample': 0.8865140055130838, 'min_samples_split': 10, 'min_samples_leaf': 4, 'max_depth': 7, 'min_impurity_decrease': 0.7830291609237016, 'max_features': 17}. Best is trial 213 with value: 0.8238026489234826.\u001b[0m\n",
      "\u001b[32m[I 2021-12-21 21:02:30,576]\u001b[0m Trial 845 finished with value: 0.8193082669010107 and parameters: {'learning_rate': 0.009390662010196846, 'n_estimators': 138, 'subsample': 0.9380328108889636, 'min_samples_split': 20, 'min_samples_leaf': 3, 'max_depth': 7, 'min_impurity_decrease': 0.7574876351596658, 'max_features': 19}. Best is trial 213 with value: 0.8238026489234826.\u001b[0m\n",
      "\u001b[32m[I 2021-12-21 21:02:31,542]\u001b[0m Trial 846 finished with value: 0.8215554579122466 and parameters: {'learning_rate': 0.009766904504981596, 'n_estimators': 135, 'subsample': 0.9488808561966771, 'min_samples_split': 12, 'min_samples_leaf': 2, 'max_depth': 7, 'min_impurity_decrease': 0.7695483425144908, 'max_features': 20}. Best is trial 213 with value: 0.8238026489234826.\u001b[0m\n",
      "\u001b[32m[I 2021-12-21 21:02:32,364]\u001b[0m Trial 847 finished with value: 0.8215554579122466 and parameters: {'learning_rate': 0.00971918225790188, 'n_estimators': 120, 'subsample': 0.9253087959798143, 'min_samples_split': 8, 'min_samples_leaf': 3, 'max_depth': 7, 'min_impurity_decrease': 0.7836540676512068, 'max_features': 19}. Best is trial 213 with value: 0.8238026489234826.\u001b[0m\n",
      "\u001b[32m[I 2021-12-21 21:02:33,230]\u001b[0m Trial 848 finished with value: 0.8125980792166217 and parameters: {'learning_rate': 0.009480461681344646, 'n_estimators': 133, 'subsample': 0.9705493008128138, 'min_samples_split': 11, 'min_samples_leaf': 3, 'max_depth': 7, 'min_impurity_decrease': 0.9430348447910053, 'max_features': 20}. Best is trial 213 with value: 0.8238026489234826.\u001b[0m\n",
      "\u001b[32m[I 2021-12-21 21:02:34,119]\u001b[0m Trial 849 finished with value: 0.8226790534178645 and parameters: {'learning_rate': 0.009781192138439759, 'n_estimators': 130, 'subsample': 0.9670069539136252, 'min_samples_split': 12, 'min_samples_leaf': 2, 'max_depth': 7, 'min_impurity_decrease': 0.7921054752120835, 'max_features': 20}. Best is trial 213 with value: 0.8238026489234826.\u001b[0m\n",
      "\u001b[32m[I 2021-12-21 21:02:35,019]\u001b[0m Trial 850 finished with value: 0.8226790534178645 and parameters: {'learning_rate': 0.00967599113606999, 'n_estimators': 130, 'subsample': 0.9750038000436765, 'min_samples_split': 12, 'min_samples_leaf': 2, 'max_depth': 7, 'min_impurity_decrease': 0.7792092385975643, 'max_features': 20}. Best is trial 213 with value: 0.8238026489234826.\u001b[0m\n",
      "\u001b[32m[I 2021-12-21 21:02:35,925]\u001b[0m Trial 851 finished with value: 0.8215554579122466 and parameters: {'learning_rate': 0.009125994528614654, 'n_estimators': 130, 'subsample': 0.9869813492245868, 'min_samples_split': 12, 'min_samples_leaf': 2, 'max_depth': 7, 'min_impurity_decrease': 0.7853470383496156, 'max_features': 18}. Best is trial 213 with value: 0.8238026489234826.\u001b[0m\n",
      "\u001b[32m[I 2021-12-21 21:02:36,790]\u001b[0m Trial 852 finished with value: 0.8125792480070302 and parameters: {'learning_rate': 0.00947652125747236, 'n_estimators': 125, 'subsample': 0.9789949837322465, 'min_samples_split': 12, 'min_samples_leaf': 10, 'max_depth': 7, 'min_impurity_decrease': 0.7525901296233708, 'max_features': 20}. Best is trial 213 with value: 0.8238026489234826.\u001b[0m\n",
      "\u001b[32m[I 2021-12-21 21:02:37,681]\u001b[0m Trial 853 finished with value: 0.8148389931579938 and parameters: {'learning_rate': 0.009154997883852194, 'n_estimators': 141, 'subsample': 0.9589972705193213, 'min_samples_split': 11, 'min_samples_leaf': 3, 'max_depth': 4, 'min_impurity_decrease': 0.7682659795094623, 'max_features': 19}. Best is trial 213 with value: 0.8238026489234826.\u001b[0m\n",
      "\u001b[32m[I 2021-12-21 21:02:38,534]\u001b[0m Trial 854 finished with value: 0.8181846713953925 and parameters: {'learning_rate': 0.009977337399584141, 'n_estimators': 127, 'subsample': 0.940131107052979, 'min_samples_split': 13, 'min_samples_leaf': 3, 'max_depth': 7, 'min_impurity_decrease': 0.7783032474669439, 'max_features': 19}. Best is trial 213 with value: 0.8238026489234826.\u001b[0m\n",
      "\u001b[32m[I 2021-12-21 21:02:39,410]\u001b[0m Trial 855 finished with value: 0.8193082669010107 and parameters: {'learning_rate': 0.009810799339063099, 'n_estimators': 118, 'subsample': 0.9753938666368075, 'min_samples_split': 14, 'min_samples_leaf': 2, 'max_depth': 7, 'min_impurity_decrease': 0.7890302175083029, 'max_features': 20}. Best is trial 213 with value: 0.8238026489234826.\u001b[0m\n",
      "\u001b[32m[I 2021-12-21 21:02:39,851]\u001b[0m Trial 856 finished with value: 0.8024606113866046 and parameters: {'learning_rate': 0.009210004622043235, 'n_estimators': 51, 'subsample': 0.9347873709280088, 'min_samples_split': 11, 'min_samples_leaf': 2, 'max_depth': 7, 'min_impurity_decrease': 0.8351296635317619, 'max_features': 19}. Best is trial 213 with value: 0.8238026489234826.\u001b[0m\n",
      "\u001b[32m[I 2021-12-21 21:02:40,761]\u001b[0m Trial 857 finished with value: 0.8215554579122466 and parameters: {'learning_rate': 0.009542149112653242, 'n_estimators': 133, 'subsample': 0.9651957092268437, 'min_samples_split': 12, 'min_samples_leaf': 3, 'max_depth': 7, 'min_impurity_decrease': 0.774579395417284, 'max_features': 20}. Best is trial 213 with value: 0.8238026489234826.\u001b[0m\n"
     ]
    },
    {
     "name": "stderr",
     "output_type": "stream",
     "text": [
      "\u001b[32m[I 2021-12-21 21:02:41,759]\u001b[0m Trial 858 finished with value: 0.8193082669010107 and parameters: {'learning_rate': 0.00840231085819277, 'n_estimators': 158, 'subsample': 0.9703909980823949, 'min_samples_split': 9, 'min_samples_leaf': 3, 'max_depth': 7, 'min_impurity_decrease': 0.7928592886435151, 'max_features': 17}. Best is trial 213 with value: 0.8238026489234826.\u001b[0m\n",
      "\u001b[32m[I 2021-12-21 21:02:42,745]\u001b[0m Trial 859 finished with value: 0.8170610758897746 and parameters: {'learning_rate': 0.008755757525525015, 'n_estimators': 151, 'subsample': 0.9426481932292541, 'min_samples_split': 16, 'min_samples_leaf': 2, 'max_depth': 7, 'min_impurity_decrease': 0.7728959585038317, 'max_features': 18}. Best is trial 213 with value: 0.8238026489234826.\u001b[0m\n",
      "\u001b[32m[I 2021-12-21 21:02:43,896]\u001b[0m Trial 860 finished with value: 0.7552758772205135 and parameters: {'learning_rate': 0.0018125318238350827, 'n_estimators': 137, 'subsample': 0.961442443497516, 'min_samples_split': 10, 'min_samples_leaf': 2, 'max_depth': 7, 'min_impurity_decrease': 0.7663035335808183, 'max_features': 19}. Best is trial 213 with value: 0.8238026489234826.\u001b[0m\n",
      "\u001b[32m[I 2021-12-21 21:02:44,789]\u001b[0m Trial 861 finished with value: 0.8204318624066286 and parameters: {'learning_rate': 0.008959442005062232, 'n_estimators': 128, 'subsample': 0.9815394387282173, 'min_samples_split': 13, 'min_samples_leaf': 2, 'max_depth': 7, 'min_impurity_decrease': 0.7904486983693618, 'max_features': 20}. Best is trial 213 with value: 0.8238026489234826.\u001b[0m\n",
      "\u001b[32m[I 2021-12-21 21:02:45,724]\u001b[0m Trial 862 finished with value: 0.8193082669010104 and parameters: {'learning_rate': 0.009252129522487568, 'n_estimators': 140, 'subsample': 0.9488098943431066, 'min_samples_split': 11, 'min_samples_leaf': 3, 'max_depth': 7, 'min_impurity_decrease': 0.7780536249465032, 'max_features': 19}. Best is trial 213 with value: 0.8238026489234826.\u001b[0m\n",
      "\u001b[32m[I 2021-12-21 21:02:46,661]\u001b[0m Trial 863 finished with value: 0.8193082669010107 and parameters: {'learning_rate': 0.008845216521725189, 'n_estimators': 148, 'subsample': 0.946063647800092, 'min_samples_split': 11, 'min_samples_leaf': 6, 'max_depth': 7, 'min_impurity_decrease': 0.7794637518694106, 'max_features': 18}. Best is trial 213 with value: 0.8238026489234826.\u001b[0m\n",
      "\u001b[32m[I 2021-12-21 21:02:47,491]\u001b[0m Trial 864 finished with value: 0.8204318624066286 and parameters: {'learning_rate': 0.00956225293107823, 'n_estimators': 126, 'subsample': 0.9317989937820493, 'min_samples_split': 12, 'min_samples_leaf': 2, 'max_depth': 6, 'min_impurity_decrease': 0.7828698019569943, 'max_features': 18}. Best is trial 213 with value: 0.8238026489234826.\u001b[0m\n",
      "\u001b[32m[I 2021-12-21 21:02:48,474]\u001b[0m Trial 865 finished with value: 0.8193082669010107 and parameters: {'learning_rate': 0.009110150337038611, 'n_estimators': 139, 'subsample': 0.9596240436967151, 'min_samples_split': 11, 'min_samples_leaf': 3, 'max_depth': 7, 'min_impurity_decrease': 0.7724015222405342, 'max_features': 19}. Best is trial 213 with value: 0.8238026489234826.\u001b[0m\n",
      "\u001b[32m[I 2021-12-21 21:02:49,381]\u001b[0m Trial 866 finished with value: 0.8137216747222397 and parameters: {'learning_rate': 0.009301238045416457, 'n_estimators': 136, 'subsample': 0.9456606425897802, 'min_samples_split': 12, 'min_samples_leaf': 2, 'max_depth': 5, 'min_impurity_decrease': 0.7655216863113277, 'max_features': 19}. Best is trial 213 with value: 0.8238026489234826.\u001b[0m\n",
      "\u001b[32m[I 2021-12-21 21:02:50,323]\u001b[0m Trial 867 finished with value: 0.8148138848785387 and parameters: {'learning_rate': 0.008732119151618712, 'n_estimators': 147, 'subsample': 0.9830907984019782, 'min_samples_split': 7, 'min_samples_leaf': 3, 'max_depth': 7, 'min_impurity_decrease': 0.7775877030717229, 'max_features': 16}. Best is trial 213 with value: 0.8238026489234826.\u001b[0m\n",
      "\u001b[32m[I 2021-12-21 21:02:51,215]\u001b[0m Trial 868 finished with value: 0.8181846713953927 and parameters: {'learning_rate': 0.009567222866438093, 'n_estimators': 132, 'subsample': 0.9394870011209444, 'min_samples_split': 10, 'min_samples_leaf': 4, 'max_depth': 7, 'min_impurity_decrease': 0.7612486833251241, 'max_features': 20}. Best is trial 213 with value: 0.8238026489234826.\u001b[0m\n",
      "\u001b[32m[I 2021-12-21 21:02:52,152]\u001b[0m Trial 869 finished with value: 0.8193082669010107 and parameters: {'learning_rate': 0.009307900493877138, 'n_estimators': 142, 'subsample': 0.9398347856476551, 'min_samples_split': 11, 'min_samples_leaf': 4, 'max_depth': 7, 'min_impurity_decrease': 0.7505490902109283, 'max_features': 19}. Best is trial 213 with value: 0.8238026489234826.\u001b[0m\n",
      "\u001b[32m[I 2021-12-21 21:02:53,007]\u001b[0m Trial 870 finished with value: 0.8181972255351202 and parameters: {'learning_rate': 0.009416056056359798, 'n_estimators': 121, 'subsample': 0.9774544109875561, 'min_samples_split': 12, 'min_samples_leaf': 7, 'max_depth': 7, 'min_impurity_decrease': 0.7558752695736394, 'max_features': 20}. Best is trial 213 with value: 0.8238026489234826.\u001b[0m\n",
      "\u001b[32m[I 2021-12-21 21:02:53,814]\u001b[0m Trial 871 finished with value: 0.8136965664427844 and parameters: {'learning_rate': 0.009709138445319428, 'n_estimators': 125, 'subsample': 0.922733692613149, 'min_samples_split': 3, 'min_samples_leaf': 2, 'max_depth': 7, 'min_impurity_decrease': 0.7614498841260962, 'max_features': 15}. Best is trial 213 with value: 0.8238026489234826.\u001b[0m\n",
      "\u001b[32m[I 2021-12-21 21:02:54,665]\u001b[0m Trial 872 finished with value: 0.8148138848785387 and parameters: {'learning_rate': 0.008828666280589753, 'n_estimators': 110, 'subsample': 0.9415413421858886, 'min_samples_split': 10, 'min_samples_leaf': 2, 'max_depth': 7, 'min_impurity_decrease': 0.775869907924645, 'max_features': 17}. Best is trial 213 with value: 0.8238026489234826.\u001b[0m\n",
      "\u001b[32m[I 2021-12-21 21:02:55,524]\u001b[0m Trial 873 finished with value: 0.8148389931579938 and parameters: {'learning_rate': 0.009821611299755284, 'n_estimators': 134, 'subsample': 0.9338446221679525, 'min_samples_split': 7, 'min_samples_leaf': 2, 'max_depth': 7, 'min_impurity_decrease': 0.9244098613584947, 'max_features': 20}. Best is trial 213 with value: 0.8238026489234826.\u001b[0m\n",
      "\u001b[32m[I 2021-12-21 21:02:56,392]\u001b[0m Trial 874 finished with value: 0.8204318624066286 and parameters: {'learning_rate': 0.009892086902056419, 'n_estimators': 128, 'subsample': 0.9752352603203637, 'min_samples_split': 13, 'min_samples_leaf': 2, 'max_depth': 7, 'min_impurity_decrease': 0.7685890139748363, 'max_features': 19}. Best is trial 213 with value: 0.8238026489234826.\u001b[0m\n",
      "\u001b[32m[I 2021-12-21 21:02:57,277]\u001b[0m Trial 875 finished with value: 0.8103571652752495 and parameters: {'learning_rate': 0.009975631884260608, 'n_estimators': 147, 'subsample': 0.9810093706916786, 'min_samples_split': 16, 'min_samples_leaf': 18, 'max_depth': 7, 'min_impurity_decrease': 0.7633950491165798, 'max_features': 19}. Best is trial 213 with value: 0.8238026489234826.\u001b[0m\n",
      "\u001b[32m[I 2021-12-21 21:02:58,206]\u001b[0m Trial 876 finished with value: 0.8226790534178645 and parameters: {'learning_rate': 0.009624246257581435, 'n_estimators': 137, 'subsample': 0.9693479928322126, 'min_samples_split': 12, 'min_samples_leaf': 2, 'max_depth': 7, 'min_impurity_decrease': 0.7938200129860241, 'max_features': 20}. Best is trial 213 with value: 0.8238026489234826.\u001b[0m\n",
      "\u001b[32m[I 2021-12-21 21:02:59,146]\u001b[0m Trial 877 finished with value: 0.8215554579122466 and parameters: {'learning_rate': 0.009137466168842083, 'n_estimators': 142, 'subsample': 0.9508355006528442, 'min_samples_split': 11, 'min_samples_leaf': 3, 'max_depth': 7, 'min_impurity_decrease': 0.7863538045691819, 'max_features': 19}. Best is trial 213 with value: 0.8238026489234826.\u001b[0m\n",
      "\u001b[32m[I 2021-12-21 21:03:00,086]\u001b[0m Trial 878 finished with value: 0.8204318624066287 and parameters: {'learning_rate': 0.0090342766952855, 'n_estimators': 142, 'subsample': 0.9751201719049378, 'min_samples_split': 12, 'min_samples_leaf': 3, 'max_depth': 7, 'min_impurity_decrease': 0.7885386603435928, 'max_features': 18}. Best is trial 213 with value: 0.8238026489234826.\u001b[0m\n",
      "\u001b[32m[I 2021-12-21 21:03:01,085]\u001b[0m Trial 879 finished with value: 0.8181972255351203 and parameters: {'learning_rate': 0.00931437113148992, 'n_estimators': 139, 'subsample': 0.9579138209949745, 'min_samples_split': 11, 'min_samples_leaf': 3, 'max_depth': 7, 'min_impurity_decrease': 0.7758688450952304, 'max_features': 20}. Best is trial 213 with value: 0.8238026489234826.\u001b[0m\n"
     ]
    },
    {
     "name": "stderr",
     "output_type": "stream",
     "text": [
      "\u001b[32m[I 2021-12-21 21:03:01,999]\u001b[0m Trial 880 finished with value: 0.8193082669010107 and parameters: {'learning_rate': 0.009068152950058991, 'n_estimators': 137, 'subsample': 0.9525627344674001, 'min_samples_split': 11, 'min_samples_leaf': 2, 'max_depth': 7, 'min_impurity_decrease': 0.7723265632665813, 'max_features': 18}. Best is trial 213 with value: 0.8238026489234826.\u001b[0m\n",
      "\u001b[32m[I 2021-12-21 21:03:02,935]\u001b[0m Trial 881 finished with value: 0.8193145439708743 and parameters: {'learning_rate': 0.009504828176727058, 'n_estimators': 139, 'subsample': 0.9634821768426818, 'min_samples_split': 11, 'min_samples_leaf': 2, 'max_depth': 7, 'min_impurity_decrease': 0.784731438415291, 'max_features': 20}. Best is trial 213 with value: 0.8238026489234826.\u001b[0m\n",
      "\u001b[32m[I 2021-12-21 21:03:03,976]\u001b[0m Trial 882 finished with value: 0.8148389931579938 and parameters: {'learning_rate': 0.00830014181723378, 'n_estimators': 154, 'subsample': 0.9483081519276383, 'min_samples_split': 10, 'min_samples_leaf': 2, 'max_depth': 7, 'min_impurity_decrease': 0.8472015244832908, 'max_features': 20}. Best is trial 213 with value: 0.8238026489234826.\u001b[0m\n",
      "\u001b[32m[I 2021-12-21 21:03:04,896]\u001b[0m Trial 883 finished with value: 0.8170673529596385 and parameters: {'learning_rate': 0.00940673227727201, 'n_estimators': 135, 'subsample': 0.8111407225497652, 'min_samples_split': 11, 'min_samples_leaf': 2, 'max_depth': 7, 'min_impurity_decrease': 0.7553577565149054, 'max_features': 20}. Best is trial 213 with value: 0.8238026489234826.\u001b[0m\n",
      "\u001b[32m[I 2021-12-21 21:03:05,823]\u001b[0m Trial 884 finished with value: 0.8238026489234824 and parameters: {'learning_rate': 0.009369050267738087, 'n_estimators': 132, 'subsample': 0.9662351234115015, 'min_samples_split': 12, 'min_samples_leaf': 2, 'max_depth': 7, 'min_impurity_decrease': 0.7597928514682772, 'max_features': 20}. Best is trial 213 with value: 0.8238026489234826.\u001b[0m\n",
      "\u001b[32m[I 2021-12-21 21:03:06,754]\u001b[0m Trial 885 finished with value: 0.8204318624066287 and parameters: {'learning_rate': 0.009359920007850348, 'n_estimators': 133, 'subsample': 0.9551557167536064, 'min_samples_split': 12, 'min_samples_leaf': 2, 'max_depth': 7, 'min_impurity_decrease': 0.7670873570188305, 'max_features': 20}. Best is trial 213 with value: 0.8238026489234826.\u001b[0m\n",
      "\u001b[32m[I 2021-12-21 21:03:07,694]\u001b[0m Trial 886 finished with value: 0.8204318624066286 and parameters: {'learning_rate': 0.009734459865781937, 'n_estimators': 131, 'subsample': 0.9676795784200724, 'min_samples_split': 13, 'min_samples_leaf': 3, 'max_depth': 7, 'min_impurity_decrease': 0.7630040788165786, 'max_features': 20}. Best is trial 213 with value: 0.8238026489234826.\u001b[0m\n",
      "\u001b[32m[I 2021-12-21 21:03:08,610]\u001b[0m Trial 887 finished with value: 0.8238026489234826 and parameters: {'learning_rate': 0.009644950671453446, 'n_estimators': 131, 'subsample': 0.9718389400542156, 'min_samples_split': 12, 'min_samples_leaf': 2, 'max_depth': 7, 'min_impurity_decrease': 0.779714992765753, 'max_features': 20}. Best is trial 213 with value: 0.8238026489234826.\u001b[0m\n",
      "\u001b[32m[I 2021-12-21 21:03:09,500]\u001b[0m Trial 888 finished with value: 0.8215617349821104 and parameters: {'learning_rate': 0.009531088666595583, 'n_estimators': 126, 'subsample': 0.9142508148422179, 'min_samples_split': 12, 'min_samples_leaf': 2, 'max_depth': 7, 'min_impurity_decrease': 0.776677593999293, 'max_features': 20}. Best is trial 213 with value: 0.8238026489234826.\u001b[0m\n",
      "\u001b[32m[I 2021-12-21 21:03:10,388]\u001b[0m Trial 889 finished with value: 0.8238026489234824 and parameters: {'learning_rate': 0.00971742944997404, 'n_estimators': 129, 'subsample': 0.9714445981495234, 'min_samples_split': 12, 'min_samples_leaf': 2, 'max_depth': 7, 'min_impurity_decrease': 0.7936820147808711, 'max_features': 20}. Best is trial 213 with value: 0.8238026489234826.\u001b[0m\n",
      "\u001b[32m[I 2021-12-21 21:03:11,207]\u001b[0m Trial 890 finished with value: 0.8103320569957944 and parameters: {'learning_rate': 0.009802757373940913, 'n_estimators': 124, 'subsample': 0.973667562204866, 'min_samples_split': 13, 'min_samples_leaf': 13, 'max_depth': 7, 'min_impurity_decrease': 0.7904618103826413, 'max_features': 20}. Best is trial 213 with value: 0.8238026489234826.\u001b[0m\n",
      "\u001b[32m[I 2021-12-21 21:03:12,113]\u001b[0m Trial 891 finished with value: 0.8204318624066286 and parameters: {'learning_rate': 0.00966388472528224, 'n_estimators': 130, 'subsample': 0.9679721713290148, 'min_samples_split': 13, 'min_samples_leaf': 2, 'max_depth': 7, 'min_impurity_decrease': 0.7741799777443712, 'max_features': 20}. Best is trial 213 with value: 0.8238026489234826.\u001b[0m\n",
      "\u001b[32m[I 2021-12-21 21:03:12,979]\u001b[0m Trial 892 finished with value: 0.8204318624066286 and parameters: {'learning_rate': 0.009942996963876547, 'n_estimators': 123, 'subsample': 0.9769056729535591, 'min_samples_split': 13, 'min_samples_leaf': 2, 'max_depth': 7, 'min_impurity_decrease': 0.7938653104210034, 'max_features': 20}. Best is trial 213 with value: 0.8238026489234826.\u001b[0m\n",
      "\u001b[32m[I 2021-12-21 21:03:13,941]\u001b[0m Trial 893 finished with value: 0.8204318624066287 and parameters: {'learning_rate': 0.00974459718961172, 'n_estimators': 129, 'subsample': 0.9886156344348555, 'min_samples_split': 12, 'min_samples_leaf': 2, 'max_depth': 7, 'min_impurity_decrease': 0.7959856343753142, 'max_features': 20}. Best is trial 213 with value: 0.8238026489234826.\u001b[0m\n",
      "\u001b[32m[I 2021-12-21 21:03:14,888]\u001b[0m Trial 894 finished with value: 0.8215554579122466 and parameters: {'learning_rate': 0.00946349165496056, 'n_estimators': 134, 'subsample': 0.9705979690556668, 'min_samples_split': 12, 'min_samples_leaf': 2, 'max_depth': 7, 'min_impurity_decrease': 0.7858110710778657, 'max_features': 20}. Best is trial 213 with value: 0.8238026489234826.\u001b[0m\n",
      "\u001b[32m[I 2021-12-21 21:03:15,823]\u001b[0m Trial 895 finished with value: 0.8193082669010107 and parameters: {'learning_rate': 0.008984902058290245, 'n_estimators': 131, 'subsample': 0.9916564623683214, 'min_samples_split': 12, 'min_samples_leaf': 2, 'max_depth': 7, 'min_impurity_decrease': 0.7886510606085315, 'max_features': 20}. Best is trial 213 with value: 0.8238026489234826.\u001b[0m\n",
      "\u001b[32m[I 2021-12-21 21:03:16,696]\u001b[0m Trial 896 finished with value: 0.8193082669010107 and parameters: {'learning_rate': 0.009693750483242497, 'n_estimators': 124, 'subsample': 0.9948764512863736, 'min_samples_split': 12, 'min_samples_leaf': 2, 'max_depth': 7, 'min_impurity_decrease': 0.7692532731608145, 'max_features': 19}. Best is trial 213 with value: 0.8238026489234826.\u001b[0m\n",
      "\u001b[32m[I 2021-12-21 21:03:17,557]\u001b[0m Trial 897 finished with value: 0.8226790534178645 and parameters: {'learning_rate': 0.009540254081540675, 'n_estimators': 121, 'subsample': 0.9721120559972067, 'min_samples_split': 12, 'min_samples_leaf': 2, 'max_depth': 7, 'min_impurity_decrease': 0.7793638336337054, 'max_features': 20}. Best is trial 213 with value: 0.8238026489234826.\u001b[0m\n",
      "\u001b[32m[I 2021-12-21 21:03:18,419]\u001b[0m Trial 898 finished with value: 0.8114807607808675 and parameters: {'learning_rate': 0.009325226613393417, 'n_estimators': 131, 'subsample': 0.9703524389816236, 'min_samples_split': 13, 'min_samples_leaf': 3, 'max_depth': 7, 'min_impurity_decrease': 0.9568978990131349, 'max_features': 20}. Best is trial 213 with value: 0.8238026489234826.\u001b[0m\n",
      "\u001b[32m[I 2021-12-21 21:03:19,304]\u001b[0m Trial 899 finished with value: 0.8170610758897746 and parameters: {'learning_rate': 0.009581187537934653, 'n_estimators': 135, 'subsample': 0.844846412747066, 'min_samples_split': 12, 'min_samples_leaf': 3, 'max_depth': 7, 'min_impurity_decrease': 0.7813921778364568, 'max_features': 20}. Best is trial 213 with value: 0.8238026489234826.\u001b[0m\n",
      "\u001b[32m[I 2021-12-21 21:03:20,167]\u001b[0m Trial 900 finished with value: 0.8193208210407381 and parameters: {'learning_rate': 0.009873144401602078, 'n_estimators': 130, 'subsample': 0.9758894250423257, 'min_samples_split': 13, 'min_samples_leaf': 9, 'max_depth': 7, 'min_impurity_decrease': 0.756857221792131, 'max_features': 20}. Best is trial 213 with value: 0.8238026489234826.\u001b[0m\n",
      "\u001b[32m[I 2021-12-21 21:03:21,071]\u001b[0m Trial 901 finished with value: 0.8181846713953925 and parameters: {'learning_rate': 0.009313929196060932, 'n_estimators': 134, 'subsample': 0.9800755063473479, 'min_samples_split': 12, 'min_samples_leaf': 6, 'max_depth': 7, 'min_impurity_decrease': 0.757802772204509, 'max_features': 19}. Best is trial 213 with value: 0.8238026489234826.\u001b[0m\n"
     ]
    },
    {
     "name": "stderr",
     "output_type": "stream",
     "text": [
      "\u001b[32m[I 2021-12-21 21:03:21,971]\u001b[0m Trial 902 finished with value: 0.8193082669010107 and parameters: {'learning_rate': 0.009542700268857552, 'n_estimators': 133, 'subsample': 0.9647064292004305, 'min_samples_split': 10, 'min_samples_leaf': 3, 'max_depth': 7, 'min_impurity_decrease': 0.7813017302985632, 'max_features': 20}. Best is trial 213 with value: 0.8238026489234826.\u001b[0m\n",
      "\u001b[32m[I 2021-12-21 21:03:22,873]\u001b[0m Trial 903 finished with value: 0.8204318624066287 and parameters: {'learning_rate': 0.009672165487628507, 'n_estimators': 129, 'subsample': 0.9742250583828858, 'min_samples_split': 12, 'min_samples_leaf': 2, 'max_depth': 7, 'min_impurity_decrease': 0.783130259908266, 'max_features': 20}. Best is trial 213 with value: 0.8238026489234826.\u001b[0m\n",
      "\u001b[32m[I 2021-12-21 21:03:23,779]\u001b[0m Trial 904 finished with value: 0.8226790534178645 and parameters: {'learning_rate': 0.009323823374016896, 'n_estimators': 127, 'subsample': 0.9687490942281991, 'min_samples_split': 12, 'min_samples_leaf': 2, 'max_depth': 7, 'min_impurity_decrease': 0.7650550129881026, 'max_features': 20}. Best is trial 213 with value: 0.8238026489234826.\u001b[0m\n",
      "\u001b[32m[I 2021-12-21 21:03:24,769]\u001b[0m Trial 905 finished with value: 0.8204318624066287 and parameters: {'learning_rate': 0.0091750529915385, 'n_estimators': 124, 'subsample': 0.9763573375363462, 'min_samples_split': 12, 'min_samples_leaf': 2, 'max_depth': 7, 'min_impurity_decrease': 0.7915840543764614, 'max_features': 20}. Best is trial 213 with value: 0.8238026489234826.\u001b[0m\n",
      "\u001b[32m[I 2021-12-21 21:03:25,645]\u001b[0m Trial 906 finished with value: 0.8204318624066286 and parameters: {'learning_rate': 0.00859125302266615, 'n_estimators': 118, 'subsample': 0.960373337050307, 'min_samples_split': 13, 'min_samples_leaf': 2, 'max_depth': 7, 'min_impurity_decrease': 0.7876176506923473, 'max_features': 19}. Best is trial 213 with value: 0.8238026489234826.\u001b[0m\n",
      "\u001b[32m[I 2021-12-21 21:03:26,529]\u001b[0m Trial 907 finished with value: 0.8204318624066286 and parameters: {'learning_rate': 0.009437760160644256, 'n_estimators': 121, 'subsample': 0.9454999214193378, 'min_samples_split': 14, 'min_samples_leaf': 2, 'max_depth': 7, 'min_impurity_decrease': 0.7629965271303578, 'max_features': 20}. Best is trial 213 with value: 0.8238026489234826.\u001b[0m\n",
      "\u001b[32m[I 2021-12-21 21:03:27,337]\u001b[0m Trial 908 finished with value: 0.8103571652752496 and parameters: {'learning_rate': 0.009532757410228406, 'n_estimators': 125, 'subsample': 0.96290278858242, 'min_samples_split': 12, 'min_samples_leaf': 2, 'max_depth': 7, 'min_impurity_decrease': 0.9929997598485697, 'max_features': 20}. Best is trial 213 with value: 0.8238026489234826.\u001b[0m\n",
      "\u001b[32m[I 2021-12-21 21:03:28,288]\u001b[0m Trial 909 finished with value: 0.8170861841692298 and parameters: {'learning_rate': 0.009938363833587163, 'n_estimators': 146, 'subsample': 0.9801324273703278, 'min_samples_split': 12, 'min_samples_leaf': 2, 'max_depth': 6, 'min_impurity_decrease': 0.7986870052659589, 'max_features': 20}. Best is trial 213 with value: 0.8238026489234826.\u001b[0m\n",
      "\u001b[32m[I 2021-12-21 21:03:29,245]\u001b[0m Trial 910 finished with value: 0.8182035026049841 and parameters: {'learning_rate': 0.009957927132969049, 'n_estimators': 144, 'subsample': 0.9842954099609228, 'min_samples_split': 12, 'min_samples_leaf': 2, 'max_depth': 7, 'min_impurity_decrease': 0.7985431487559993, 'max_features': 20}. Best is trial 213 with value: 0.8238026489234826.\u001b[0m\n",
      "\u001b[32m[I 2021-12-21 21:03:30,056]\u001b[0m Trial 911 finished with value: 0.8193082669010107 and parameters: {'learning_rate': 0.009997751644637455, 'n_estimators': 114, 'subsample': 0.9756691262144203, 'min_samples_split': 13, 'min_samples_leaf': 2, 'max_depth': 7, 'min_impurity_decrease': 0.785921935208708, 'max_features': 19}. Best is trial 213 with value: 0.8238026489234826.\u001b[0m\n",
      "\u001b[32m[I 2021-12-21 21:03:30,954]\u001b[0m Trial 912 finished with value: 0.8148389931579938 and parameters: {'learning_rate': 0.009315148821337615, 'n_estimators': 128, 'subsample': 0.972524904805142, 'min_samples_split': 12, 'min_samples_leaf': 2, 'max_depth': 7, 'min_impurity_decrease': 0.8727545738900533, 'max_features': 20}. Best is trial 213 with value: 0.8238026489234826.\u001b[0m\n",
      "\u001b[32m[I 2021-12-21 21:03:31,831]\u001b[0m Trial 913 finished with value: 0.8226790534178645 and parameters: {'learning_rate': 0.009728024094327664, 'n_estimators': 128, 'subsample': 0.9722856938437058, 'min_samples_split': 12, 'min_samples_leaf': 2, 'max_depth': 7, 'min_impurity_decrease': 0.7797161474946167, 'max_features': 20}. Best is trial 213 with value: 0.8238026489234826.\u001b[0m\n",
      "\u001b[32m[I 2021-12-21 21:03:32,700]\u001b[0m Trial 914 finished with value: 0.8193208210407382 and parameters: {'learning_rate': 0.009624228367035883, 'n_estimators': 133, 'subsample': 0.9669217287853178, 'min_samples_split': 11, 'min_samples_leaf': 10, 'max_depth': 7, 'min_impurity_decrease': 0.7964986327389839, 'max_features': 20}. Best is trial 213 with value: 0.8238026489234826.\u001b[0m\n",
      "\u001b[32m[I 2021-12-21 21:03:33,586]\u001b[0m Trial 915 finished with value: 0.8215554579122466 and parameters: {'learning_rate': 0.00973803980717697, 'n_estimators': 128, 'subsample': 0.9822583718162686, 'min_samples_split': 12, 'min_samples_leaf': 2, 'max_depth': 7, 'min_impurity_decrease': 0.7735267502175445, 'max_features': 20}. Best is trial 213 with value: 0.8238026489234826.\u001b[0m\n",
      "\u001b[32m[I 2021-12-21 21:03:34,446]\u001b[0m Trial 916 finished with value: 0.8181846713953925 and parameters: {'learning_rate': 0.009749648705861858, 'n_estimators': 123, 'subsample': 0.9697410139939697, 'min_samples_split': 13, 'min_samples_leaf': 3, 'max_depth': 7, 'min_impurity_decrease': 0.8024335424671165, 'max_features': 20}. Best is trial 213 with value: 0.8238026489234826.\u001b[0m\n",
      "\u001b[32m[I 2021-12-21 21:03:35,398]\u001b[0m Trial 917 finished with value: 0.8204318624066286 and parameters: {'learning_rate': 0.009215263887968212, 'n_estimators': 138, 'subsample': 0.9804743938813357, 'min_samples_split': 12, 'min_samples_leaf': 2, 'max_depth': 7, 'min_impurity_decrease': 0.7676278537734639, 'max_features': 19}. Best is trial 213 with value: 0.8238026489234826.\u001b[0m\n",
      "\u001b[32m[I 2021-12-21 21:03:36,219]\u001b[0m Trial 918 finished with value: 0.8114493754315486 and parameters: {'learning_rate': 0.009471546215303434, 'n_estimators': 129, 'subsample': 0.9651647488378317, 'min_samples_split': 12, 'min_samples_leaf': 19, 'max_depth': 7, 'min_impurity_decrease': 0.7606890410904488, 'max_features': 20}. Best is trial 213 with value: 0.8238026489234826.\u001b[0m\n",
      "\u001b[32m[I 2021-12-21 21:03:37,174]\u001b[0m Trial 919 finished with value: 0.8181972255351203 and parameters: {'learning_rate': 0.009382639866085774, 'n_estimators': 140, 'subsample': 0.9661006748675645, 'min_samples_split': 20, 'min_samples_leaf': 7, 'max_depth': 7, 'min_impurity_decrease': 0.7501011953049984, 'max_features': 20}. Best is trial 213 with value: 0.8238026489234826.\u001b[0m\n",
      "\u001b[32m[I 2021-12-21 21:03:38,292]\u001b[0m Trial 920 finished with value: 0.6161634548992531 and parameters: {'learning_rate': 0.0002948465111352787, 'n_estimators': 135, 'subsample': 0.9723324299966685, 'min_samples_split': 6, 'min_samples_leaf': 4, 'max_depth': 7, 'min_impurity_decrease': 0.7912159218851296, 'max_features': 20}. Best is trial 213 with value: 0.8238026489234826.\u001b[0m\n",
      "\u001b[32m[I 2021-12-21 21:03:39,191]\u001b[0m Trial 921 finished with value: 0.8092021844203126 and parameters: {'learning_rate': 0.006060509741103193, 'n_estimators': 119, 'subsample': 0.9299968127491387, 'min_samples_split': 9, 'min_samples_leaf': 3, 'max_depth': 7, 'min_impurity_decrease': 0.7588011833855989, 'max_features': 18}. Best is trial 213 with value: 0.8238026489234826.\u001b[0m\n",
      "\u001b[32m[I 2021-12-21 21:03:39,890]\u001b[0m Trial 922 finished with value: 0.8159123721047015 and parameters: {'learning_rate': 0.009803735420108116, 'n_estimators': 119, 'subsample': 0.9771256947756668, 'min_samples_split': 12, 'min_samples_leaf': 2, 'max_depth': 7, 'min_impurity_decrease': 0.7940017145268715, 'max_features': 8}. Best is trial 213 with value: 0.8238026489234826.\u001b[0m\n",
      "\u001b[32m[I 2021-12-21 21:03:40,925]\u001b[0m Trial 923 finished with value: 0.817079907099366 and parameters: {'learning_rate': 0.008658559687733325, 'n_estimators': 154, 'subsample': 0.9869535175012261, 'min_samples_split': 8, 'min_samples_leaf': 3, 'max_depth': 7, 'min_impurity_decrease': 0.7849141995072252, 'max_features': 17}. Best is trial 213 with value: 0.8238026489234826.\u001b[0m\n"
     ]
    },
    {
     "name": "stderr",
     "output_type": "stream",
     "text": [
      "\u001b[32m[I 2021-12-21 21:03:41,861]\u001b[0m Trial 924 finished with value: 0.8249262444291006 and parameters: {'learning_rate': 0.009620110160365543, 'n_estimators': 135, 'subsample': 0.9699332268604093, 'min_samples_split': 12, 'min_samples_leaf': 2, 'max_depth': 7, 'min_impurity_decrease': 0.7763728807219239, 'max_features': 20}. Best is trial 924 with value: 0.8249262444291006.\u001b[0m\n",
      "\u001b[32m[I 2021-12-21 21:03:42,712]\u001b[0m Trial 925 finished with value: 0.8024919967359236 and parameters: {'learning_rate': 0.009668740774527543, 'n_estimators': 130, 'subsample': 0.9756570244684117, 'min_samples_split': 13, 'min_samples_leaf': 2, 'max_depth': 3, 'min_impurity_decrease': 0.803228896761399, 'max_features': 20}. Best is trial 924 with value: 0.8249262444291006.\u001b[0m\n",
      "\u001b[32m[I 2021-12-21 21:03:43,653]\u001b[0m Trial 926 finished with value: 0.8204318624066287 and parameters: {'learning_rate': 0.00930509373941025, 'n_estimators': 137, 'subsample': 0.9640136845665945, 'min_samples_split': 11, 'min_samples_leaf': 3, 'max_depth': 7, 'min_impurity_decrease': 0.7703854837535988, 'max_features': 19}. Best is trial 924 with value: 0.8249262444291006.\u001b[0m\n",
      "\u001b[32m[I 2021-12-21 21:03:44,554]\u001b[0m Trial 927 finished with value: 0.8193082669010107 and parameters: {'learning_rate': 0.009674370651052524, 'n_estimators': 131, 'subsample': 0.9829056805570915, 'min_samples_split': 13, 'min_samples_leaf': 2, 'max_depth': 7, 'min_impurity_decrease': 0.7824200758713488, 'max_features': 20}. Best is trial 924 with value: 0.8249262444291006.\u001b[0m\n",
      "\u001b[32m[I 2021-12-21 21:03:45,456]\u001b[0m Trial 928 finished with value: 0.8215554579122466 and parameters: {'learning_rate': 0.009571216645381277, 'n_estimators': 132, 'subsample': 0.9709636051914877, 'min_samples_split': 12, 'min_samples_leaf': 3, 'max_depth': 7, 'min_impurity_decrease': 0.7906498586680083, 'max_features': 20}. Best is trial 924 with value: 0.8249262444291006.\u001b[0m\n",
      "\u001b[32m[I 2021-12-21 21:03:46,394]\u001b[0m Trial 929 finished with value: 0.8215554579122466 and parameters: {'learning_rate': 0.009829193806055687, 'n_estimators': 134, 'subsample': 0.9657642348856285, 'min_samples_split': 12, 'min_samples_leaf': 2, 'max_depth': 7, 'min_impurity_decrease': 0.7766884681511814, 'max_features': 20}. Best is trial 924 with value: 0.8249262444291006.\u001b[0m\n",
      "\u001b[32m[I 2021-12-21 21:03:47,313]\u001b[0m Trial 930 finished with value: 0.8215554579122466 and parameters: {'learning_rate': 0.009543448311214772, 'n_estimators': 135, 'subsample': 0.9673919542469374, 'min_samples_split': 11, 'min_samples_leaf': 3, 'max_depth': 7, 'min_impurity_decrease': 0.779550166103404, 'max_features': 20}. Best is trial 924 with value: 0.8249262444291006.\u001b[0m\n",
      "\u001b[32m[I 2021-12-21 21:03:48,205]\u001b[0m Trial 931 finished with value: 0.8215554579122465 and parameters: {'learning_rate': 0.00980716264502465, 'n_estimators': 126, 'subsample': 0.9724688949459743, 'min_samples_split': 13, 'min_samples_leaf': 2, 'max_depth': 7, 'min_impurity_decrease': 0.7850595207988402, 'max_features': 19}. Best is trial 924 with value: 0.8249262444291006.\u001b[0m\n",
      "\u001b[32m[I 2021-12-21 21:03:49,145]\u001b[0m Trial 932 finished with value: 0.8226790534178645 and parameters: {'learning_rate': 0.009628721541381707, 'n_estimators': 130, 'subsample': 0.9782916609233792, 'min_samples_split': 12, 'min_samples_leaf': 2, 'max_depth': 7, 'min_impurity_decrease': 0.7670663397189109, 'max_features': 20}. Best is trial 924 with value: 0.8249262444291006.\u001b[0m\n",
      "\u001b[32m[I 2021-12-21 21:03:50,037]\u001b[0m Trial 933 finished with value: 0.8215554579122466 and parameters: {'learning_rate': 0.009997923788840988, 'n_estimators': 127, 'subsample': 0.9790132616607022, 'min_samples_split': 12, 'min_samples_leaf': 2, 'max_depth': 7, 'min_impurity_decrease': 0.7869046012117826, 'max_features': 20}. Best is trial 924 with value: 0.8249262444291006.\u001b[0m\n",
      "\u001b[32m[I 2021-12-21 21:03:50,931]\u001b[0m Trial 934 finished with value: 0.8181846713953925 and parameters: {'learning_rate': 0.00984960185257596, 'n_estimators': 124, 'subsample': 0.9919985842354291, 'min_samples_split': 12, 'min_samples_leaf': 2, 'max_depth': 7, 'min_impurity_decrease': 0.760624820809768, 'max_features': 20}. Best is trial 924 with value: 0.8249262444291006.\u001b[0m\n",
      "\u001b[32m[I 2021-12-21 21:03:51,731]\u001b[0m Trial 935 finished with value: 0.8125918021467579 and parameters: {'learning_rate': 0.009297139193152275, 'n_estimators': 114, 'subsample': 0.983068110591496, 'min_samples_split': 12, 'min_samples_leaf': 2, 'max_depth': 5, 'min_impurity_decrease': 0.7638597140697067, 'max_features': 19}. Best is trial 924 with value: 0.8249262444291006.\u001b[0m\n",
      "\u001b[32m[I 2021-12-21 21:03:52,620]\u001b[0m Trial 936 finished with value: 0.8193082669010107 and parameters: {'learning_rate': 0.009200514126479382, 'n_estimators': 131, 'subsample': 0.9735498194170435, 'min_samples_split': 10, 'min_samples_leaf': 2, 'max_depth': 7, 'min_impurity_decrease': 0.7809636068047984, 'max_features': 17}. Best is trial 924 with value: 0.8249262444291006.\u001b[0m\n",
      "\u001b[32m[I 2021-12-21 21:03:53,427]\u001b[0m Trial 937 finished with value: 0.8181658401858012 and parameters: {'learning_rate': 0.009515262149246799, 'n_estimators': 139, 'subsample': 0.9590567559048091, 'min_samples_split': 11, 'min_samples_leaf': 3, 'max_depth': 7, 'min_impurity_decrease': 0.7771933410386086, 'max_features': 12}. Best is trial 924 with value: 0.8249262444291006.\u001b[0m\n",
      "\u001b[32m[I 2021-12-21 21:03:54,296]\u001b[0m Trial 938 finished with value: 0.8193082669010107 and parameters: {'learning_rate': 0.0097395380431517, 'n_estimators': 124, 'subsample': 0.9723444906203969, 'min_samples_split': 13, 'min_samples_leaf': 6, 'max_depth': 6, 'min_impurity_decrease': 0.755166705432747, 'max_features': 20}. Best is trial 924 with value: 0.8249262444291006.\u001b[0m\n",
      "\u001b[32m[I 2021-12-21 21:03:55,114]\u001b[0m Trial 939 finished with value: 0.8148389931579938 and parameters: {'learning_rate': 0.00941329764878321, 'n_estimators': 123, 'subsample': 0.9700924054080078, 'min_samples_split': 12, 'min_samples_leaf': 2, 'max_depth': 4, 'min_impurity_decrease': 0.7636376740351962, 'max_features': 20}. Best is trial 924 with value: 0.8249262444291006.\u001b[0m\n",
      "\u001b[32m[I 2021-12-21 21:03:55,746]\u001b[0m Trial 940 finished with value: 0.811436821291821 and parameters: {'learning_rate': 0.0079936590543492, 'n_estimators': 133, 'subsample': 0.9675434642126305, 'min_samples_split': 12, 'min_samples_leaf': 2, 'max_depth': 7, 'min_impurity_decrease': 0.772200989958046, 'max_features': 4}. Best is trial 924 with value: 0.8249262444291006.\u001b[0m\n",
      "\u001b[32m[I 2021-12-21 21:03:56,669]\u001b[0m Trial 941 finished with value: 0.8215554579122466 and parameters: {'learning_rate': 0.009996578555101297, 'n_estimators': 138, 'subsample': 0.9709890257270223, 'min_samples_split': 6, 'min_samples_leaf': 3, 'max_depth': 7, 'min_impurity_decrease': 0.7945804177687799, 'max_features': 20}. Best is trial 924 with value: 0.8249262444291006.\u001b[0m\n",
      "\u001b[32m[I 2021-12-21 21:03:57,654]\u001b[0m Trial 942 finished with value: 0.8215554579122466 and parameters: {'learning_rate': 0.009491793268048462, 'n_estimators': 136, 'subsample': 0.9626367540237253, 'min_samples_split': 10, 'min_samples_leaf': 2, 'max_depth': 7, 'min_impurity_decrease': 0.7521119813015998, 'max_features': 20}. Best is trial 924 with value: 0.8249262444291006.\u001b[0m\n",
      "\u001b[32m[I 2021-12-21 21:03:58,562]\u001b[0m Trial 943 finished with value: 0.8204318624066286 and parameters: {'learning_rate': 0.00969940363054969, 'n_estimators': 131, 'subsample': 0.9672005660508408, 'min_samples_split': 13, 'min_samples_leaf': 2, 'max_depth': 7, 'min_impurity_decrease': 0.7969950162691508, 'max_features': 20}. Best is trial 924 with value: 0.8249262444291006.\u001b[0m\n",
      "\u001b[32m[I 2021-12-21 21:03:59,490]\u001b[0m Trial 944 finished with value: 0.8204318624066287 and parameters: {'learning_rate': 0.009385842043395062, 'n_estimators': 133, 'subsample': 0.9785942266981608, 'min_samples_split': 12, 'min_samples_leaf': 2, 'max_depth': 7, 'min_impurity_decrease': 0.7612462201252428, 'max_features': 20}. Best is trial 924 with value: 0.8249262444291006.\u001b[0m\n",
      "\u001b[32m[I 2021-12-21 21:04:00,419]\u001b[0m Trial 945 finished with value: 0.8215554579122466 and parameters: {'learning_rate': 0.00958741745472123, 'n_estimators': 137, 'subsample': 0.9704967414726644, 'min_samples_split': 12, 'min_samples_leaf': 2, 'max_depth': 7, 'min_impurity_decrease': 0.7951585993090683, 'max_features': 20}. Best is trial 924 with value: 0.8249262444291006.\u001b[0m\n"
     ]
    },
    {
     "name": "stderr",
     "output_type": "stream",
     "text": [
      "\u001b[32m[I 2021-12-21 21:04:01,371]\u001b[0m Trial 946 finished with value: 0.8024543343167411 and parameters: {'learning_rate': 0.0039172893223174765, 'n_estimators': 122, 'subsample': 0.9742780393020316, 'min_samples_split': 13, 'min_samples_leaf': 3, 'max_depth': 7, 'min_impurity_decrease': 0.7914854941543356, 'max_features': 20}. Best is trial 924 with value: 0.8249262444291006.\u001b[0m\n",
      "\u001b[32m[I 2021-12-21 21:04:02,255]\u001b[0m Trial 947 finished with value: 0.8226790534178645 and parameters: {'learning_rate': 0.009248429682993721, 'n_estimators': 127, 'subsample': 0.9677939638153237, 'min_samples_split': 12, 'min_samples_leaf': 3, 'max_depth': 7, 'min_impurity_decrease': 0.7718577272503505, 'max_features': 20}. Best is trial 924 with value: 0.8249262444291006.\u001b[0m\n",
      "\u001b[32m[I 2021-12-21 21:04:03,198]\u001b[0m Trial 948 finished with value: 0.8215554579122465 and parameters: {'learning_rate': 0.009053812042918358, 'n_estimators': 139, 'subsample': 0.9549511686842808, 'min_samples_split': 11, 'min_samples_leaf': 2, 'max_depth': 7, 'min_impurity_decrease': 0.771002435055672, 'max_features': 19}. Best is trial 924 with value: 0.8249262444291006.\u001b[0m\n",
      "\u001b[32m[I 2021-12-21 21:04:04,142]\u001b[0m Trial 949 finished with value: 0.8193082669010107 and parameters: {'learning_rate': 0.009138471658866817, 'n_estimators': 136, 'subsample': 0.9610200151739131, 'min_samples_split': 11, 'min_samples_leaf': 4, 'max_depth': 7, 'min_impurity_decrease': 0.7758029470725605, 'max_features': 20}. Best is trial 924 with value: 0.8249262444291006.\u001b[0m\n",
      "\u001b[32m[I 2021-12-21 21:04:05,043]\u001b[0m Trial 950 finished with value: 0.8215554579122466 and parameters: {'learning_rate': 0.009615182829640512, 'n_estimators': 131, 'subsample': 0.9777628872029851, 'min_samples_split': 12, 'min_samples_leaf': 2, 'max_depth': 7, 'min_impurity_decrease': 0.7754908135720463, 'max_features': 20}. Best is trial 924 with value: 0.8249262444291006.\u001b[0m\n",
      "\u001b[32m[I 2021-12-21 21:04:05,931]\u001b[0m Trial 951 finished with value: 0.8204318624066286 and parameters: {'learning_rate': 0.009916900650975643, 'n_estimators': 126, 'subsample': 0.9666735693649074, 'min_samples_split': 13, 'min_samples_leaf': 3, 'max_depth': 7, 'min_impurity_decrease': 0.8026735718291351, 'max_features': 20}. Best is trial 924 with value: 0.8249262444291006.\u001b[0m\n",
      "\u001b[32m[I 2021-12-21 21:04:06,997]\u001b[0m Trial 952 finished with value: 0.8091959073504487 and parameters: {'learning_rate': 0.005302910302817524, 'n_estimators': 136, 'subsample': 0.9650832728503839, 'min_samples_split': 12, 'min_samples_leaf': 2, 'max_depth': 7, 'min_impurity_decrease': 0.7646232116477131, 'max_features': 20}. Best is trial 924 with value: 0.8249262444291006.\u001b[0m\n",
      "\u001b[32m[I 2021-12-21 21:04:07,948]\u001b[0m Trial 953 finished with value: 0.8159437574540205 and parameters: {'learning_rate': 0.009001862003557263, 'n_estimators': 149, 'subsample': 0.9424052291113774, 'min_samples_split': 10, 'min_samples_leaf': 6, 'max_depth': 7, 'min_impurity_decrease': 0.7607437263799672, 'max_features': 18}. Best is trial 924 with value: 0.8249262444291006.\u001b[0m\n",
      "\u001b[32m[I 2021-12-21 21:04:08,731]\u001b[0m Trial 954 finished with value: 0.8103320569957944 and parameters: {'learning_rate': 0.009650060768767758, 'n_estimators': 120, 'subsample': 0.9714868224566588, 'min_samples_split': 12, 'min_samples_leaf': 17, 'max_depth': 7, 'min_impurity_decrease': 0.7722187687193215, 'max_features': 19}. Best is trial 924 with value: 0.8249262444291006.\u001b[0m\n",
      "\u001b[32m[I 2021-12-21 21:04:09,678]\u001b[0m Trial 955 finished with value: 0.8170610758897746 and parameters: {'learning_rate': 0.009424104227072622, 'n_estimators': 134, 'subsample': 0.9564020867562519, 'min_samples_split': 20, 'min_samples_leaf': 2, 'max_depth': 7, 'min_impurity_decrease': 0.7688329622408225, 'max_features': 19}. Best is trial 924 with value: 0.8249262444291006.\u001b[0m\n",
      "\u001b[32m[I 2021-12-21 21:04:10,571]\u001b[0m Trial 956 finished with value: 0.8226790534178645 and parameters: {'learning_rate': 0.009995614748269434, 'n_estimators': 128, 'subsample': 0.97409774127034, 'min_samples_split': 12, 'min_samples_leaf': 2, 'max_depth': 7, 'min_impurity_decrease': 0.795345795132302, 'max_features': 20}. Best is trial 924 with value: 0.8249262444291006.\u001b[0m\n",
      "\u001b[32m[I 2021-12-21 21:04:11,490]\u001b[0m Trial 957 finished with value: 0.8181846713953925 and parameters: {'learning_rate': 0.008937117356240275, 'n_estimators': 128, 'subsample': 0.9767774044582536, 'min_samples_split': 9, 'min_samples_leaf': 2, 'max_depth': 7, 'min_impurity_decrease': 0.7546430995659714, 'max_features': 19}. Best is trial 924 with value: 0.8249262444291006.\u001b[0m\n",
      "\u001b[32m[I 2021-12-21 21:04:12,325]\u001b[0m Trial 958 finished with value: 0.8193082669010107 and parameters: {'learning_rate': 0.009822949030058266, 'n_estimators': 108, 'subsample': 0.9851183681398525, 'min_samples_split': 12, 'min_samples_leaf': 2, 'max_depth': 7, 'min_impurity_decrease': 0.78864750817784, 'max_features': 20}. Best is trial 924 with value: 0.8249262444291006.\u001b[0m\n",
      "\u001b[32m[I 2021-12-21 21:04:13,179]\u001b[0m Trial 959 finished with value: 0.8193082669010107 and parameters: {'learning_rate': 0.009743506209008402, 'n_estimators': 115, 'subsample': 0.9723727532647775, 'min_samples_split': 13, 'min_samples_leaf': 2, 'max_depth': 7, 'min_impurity_decrease': 0.7663391771070385, 'max_features': 19}. Best is trial 924 with value: 0.8249262444291006.\u001b[0m\n",
      "\u001b[32m[I 2021-12-21 21:04:14,060]\u001b[0m Trial 960 finished with value: 0.8193019898311468 and parameters: {'learning_rate': 0.009381547790520845, 'n_estimators': 143, 'subsample': 0.7625529712350685, 'min_samples_split': 15, 'min_samples_leaf': 2, 'max_depth': 7, 'min_impurity_decrease': 0.7643910493414857, 'max_features': 19}. Best is trial 924 with value: 0.8249262444291006.\u001b[0m\n",
      "\u001b[32m[I 2021-12-21 21:04:15,047]\u001b[0m Trial 961 finished with value: 0.8181846713953927 and parameters: {'learning_rate': 0.009123239851434716, 'n_estimators': 131, 'subsample': 0.9847671577923505, 'min_samples_split': 12, 'min_samples_leaf': 2, 'max_depth': 7, 'min_impurity_decrease': 0.7823088652209484, 'max_features': 19}. Best is trial 924 with value: 0.8249262444291006.\u001b[0m\n",
      "\u001b[32m[I 2021-12-21 21:04:15,853]\u001b[0m Trial 962 finished with value: 0.812591802146758 and parameters: {'learning_rate': 0.009738916033030065, 'n_estimators': 121, 'subsample': 0.9693716244008609, 'min_samples_split': 12, 'min_samples_leaf': 2, 'max_depth': 7, 'min_impurity_decrease': 0.9677033072404415, 'max_features': 20}. Best is trial 924 with value: 0.8249262444291006.\u001b[0m\n",
      "\u001b[32m[I 2021-12-21 21:04:16,954]\u001b[0m Trial 963 finished with value: 0.8159625886636119 and parameters: {'learning_rate': 0.009219311238972275, 'n_estimators': 183, 'subsample': 0.9808458775787549, 'min_samples_split': 14, 'min_samples_leaf': 5, 'max_depth': 7, 'min_impurity_decrease': 0.7501096691199884, 'max_features': 18}. Best is trial 924 with value: 0.8249262444291006.\u001b[0m\n",
      "\u001b[32m[I 2021-12-21 21:04:17,811]\u001b[0m Trial 964 finished with value: 0.8215554579122466 and parameters: {'learning_rate': 0.009518344424314939, 'n_estimators': 118, 'subsample': 0.9786599071163885, 'min_samples_split': 12, 'min_samples_leaf': 2, 'max_depth': 7, 'min_impurity_decrease': 0.7813711844218236, 'max_features': 20}. Best is trial 924 with value: 0.8249262444291006.\u001b[0m\n",
      "\u001b[32m[I 2021-12-21 21:04:18,830]\u001b[0m Trial 965 finished with value: 0.8170736300295023 and parameters: {'learning_rate': 0.009196989833872923, 'n_estimators': 141, 'subsample': 0.9593223682744537, 'min_samples_split': 11, 'min_samples_leaf': 3, 'max_depth': 7, 'min_impurity_decrease': 0.804859888480355, 'max_features': 20}. Best is trial 924 with value: 0.8249262444291006.\u001b[0m\n",
      "\u001b[32m[I 2021-12-21 21:04:19,692]\u001b[0m Trial 966 finished with value: 0.8170736300295023 and parameters: {'learning_rate': 0.009516811923698845, 'n_estimators': 126, 'subsample': 0.9726666915067529, 'min_samples_split': 13, 'min_samples_leaf': 8, 'max_depth': 7, 'min_impurity_decrease': 0.765782597436134, 'max_features': 20}. Best is trial 924 with value: 0.8249262444291006.\u001b[0m\n",
      "\u001b[32m[I 2021-12-21 21:04:20,587]\u001b[0m Trial 967 finished with value: 0.8215554579122466 and parameters: {'learning_rate': 0.009497014037376864, 'n_estimators': 127, 'subsample': 0.9711140939002607, 'min_samples_split': 11, 'min_samples_leaf': 2, 'max_depth': 7, 'min_impurity_decrease': 0.7770588098290511, 'max_features': 20}. Best is trial 924 with value: 0.8249262444291006.\u001b[0m\n"
     ]
    },
    {
     "name": "stderr",
     "output_type": "stream",
     "text": [
      "\u001b[32m[I 2021-12-21 21:04:21,524]\u001b[0m Trial 968 finished with value: 0.8204318624066286 and parameters: {'learning_rate': 0.009033628135985634, 'n_estimators': 141, 'subsample': 0.9530008962063653, 'min_samples_split': 11, 'min_samples_leaf': 3, 'max_depth': 7, 'min_impurity_decrease': 0.7770863376452538, 'max_features': 19}. Best is trial 924 with value: 0.8249262444291006.\u001b[0m\n",
      "\u001b[32m[I 2021-12-21 21:04:22,407]\u001b[0m Trial 969 finished with value: 0.8215554579122466 and parameters: {'learning_rate': 0.009778356520872888, 'n_estimators': 125, 'subsample': 0.9814299346234919, 'min_samples_split': 12, 'min_samples_leaf': 2, 'max_depth': 7, 'min_impurity_decrease': 0.782759070463546, 'max_features': 20}. Best is trial 924 with value: 0.8249262444291006.\u001b[0m\n",
      "\u001b[32m[I 2021-12-21 21:04:23,274]\u001b[0m Trial 970 finished with value: 0.8170610758897746 and parameters: {'learning_rate': 0.009264197852050913, 'n_estimators': 130, 'subsample': 0.9341472623616297, 'min_samples_split': 12, 'min_samples_leaf': 6, 'max_depth': 7, 'min_impurity_decrease': 0.7576915598202609, 'max_features': 19}. Best is trial 924 with value: 0.8249262444291006.\u001b[0m\n",
      "\u001b[32m[I 2021-12-21 21:04:24,113]\u001b[0m Trial 971 finished with value: 0.8148389931579938 and parameters: {'learning_rate': 0.009200845104342516, 'n_estimators': 121, 'subsample': 0.9623043748752154, 'min_samples_split': 8, 'min_samples_leaf': 2, 'max_depth': 7, 'min_impurity_decrease': 0.8989825741035067, 'max_features': 19}. Best is trial 924 with value: 0.8249262444291006.\u001b[0m\n",
      "\u001b[32m[I 2021-12-21 21:04:25,042]\u001b[0m Trial 972 finished with value: 0.8170924612390935 and parameters: {'learning_rate': 0.009998221520645922, 'n_estimators': 132, 'subsample': 0.9970312585455663, 'min_samples_split': 11, 'min_samples_leaf': 2, 'max_depth': 7, 'min_impurity_decrease': 0.769032625917091, 'max_features': 20}. Best is trial 924 with value: 0.8249262444291006.\u001b[0m\n",
      "\u001b[32m[I 2021-12-21 21:04:25,956]\u001b[0m Trial 973 finished with value: 0.8181846713953927 and parameters: {'learning_rate': 0.00959439463115657, 'n_estimators': 127, 'subsample': 0.9898056279018095, 'min_samples_split': 13, 'min_samples_leaf': 2, 'max_depth': 7, 'min_impurity_decrease': 0.7665866783719881, 'max_features': 20}. Best is trial 924 with value: 0.8249262444291006.\u001b[0m\n",
      "\u001b[32m[I 2021-12-21 21:04:26,873]\u001b[0m Trial 974 finished with value: 0.8204318624066286 and parameters: {'learning_rate': 0.00934418758479264, 'n_estimators': 127, 'subsample': 0.9771363539646533, 'min_samples_split': 12, 'min_samples_leaf': 3, 'max_depth': 7, 'min_impurity_decrease': 0.7792821183571438, 'max_features': 19}. Best is trial 924 with value: 0.8249262444291006.\u001b[0m\n",
      "\u001b[32m[I 2021-12-21 21:04:27,857]\u001b[0m Trial 975 finished with value: 0.8159625886636119 and parameters: {'learning_rate': 0.009983442220708523, 'n_estimators': 149, 'subsample': 0.9682404813220079, 'min_samples_split': 9, 'min_samples_leaf': 2, 'max_depth': 7, 'min_impurity_decrease': 0.796452926759517, 'max_features': 20}. Best is trial 924 with value: 0.8249262444291006.\u001b[0m\n",
      "\u001b[32m[I 2021-12-21 21:04:28,758]\u001b[0m Trial 976 finished with value: 0.8215554579122466 and parameters: {'learning_rate': 0.009618600165081028, 'n_estimators': 131, 'subsample': 0.9084189800527822, 'min_samples_split': 12, 'min_samples_leaf': 2, 'max_depth': 7, 'min_impurity_decrease': 0.7580151649688046, 'max_features': 20}. Best is trial 924 with value: 0.8249262444291006.\u001b[0m\n",
      "\u001b[32m[I 2021-12-21 21:04:29,662]\u001b[0m Trial 977 finished with value: 0.8193082669010107 and parameters: {'learning_rate': 0.009422241767994473, 'n_estimators': 123, 'subsample': 0.973594970685852, 'min_samples_split': 13, 'min_samples_leaf': 2, 'max_depth': 7, 'min_impurity_decrease': 0.787223417985286, 'max_features': 20}. Best is trial 924 with value: 0.8249262444291006.\u001b[0m\n",
      "\u001b[32m[I 2021-12-21 21:04:30,053]\u001b[0m Trial 978 finished with value: 0.7968489109283787 and parameters: {'learning_rate': 0.00888285299213919, 'n_estimators': 35, 'subsample': 0.9666918106430449, 'min_samples_split': 14, 'min_samples_leaf': 2, 'max_depth': 7, 'min_impurity_decrease': 0.7719461270761092, 'max_features': 19}. Best is trial 924 with value: 0.8249262444291006.\u001b[0m\n",
      "\u001b[32m[I 2021-12-21 21:04:30,939]\u001b[0m Trial 979 finished with value: 0.8215491808423827 and parameters: {'learning_rate': 0.009763276555240678, 'n_estimators': 129, 'subsample': 0.8694491647369451, 'min_samples_split': 12, 'min_samples_leaf': 3, 'max_depth': 7, 'min_impurity_decrease': 0.7846896030874748, 'max_features': 19}. Best is trial 924 with value: 0.8249262444291006.\u001b[0m\n",
      "\u001b[32m[I 2021-12-21 21:04:31,876]\u001b[0m Trial 980 finished with value: 0.8215554579122465 and parameters: {'learning_rate': 0.009464870672255642, 'n_estimators': 144, 'subsample': 0.8997668750839783, 'min_samples_split': 6, 'min_samples_leaf': 3, 'max_depth': 7, 'min_impurity_decrease': 0.8051678427423901, 'max_features': 20}. Best is trial 924 with value: 0.8249262444291006.\u001b[0m\n",
      "\u001b[32m[I 2021-12-21 21:04:32,726]\u001b[0m Trial 981 finished with value: 0.8159374803841567 and parameters: {'learning_rate': 0.009730353094152659, 'n_estimators': 134, 'subsample': 0.9658054082046867, 'min_samples_split': 12, 'min_samples_leaf': 20, 'max_depth': 7, 'min_impurity_decrease': 0.7597347387969101, 'max_features': 20}. Best is trial 924 with value: 0.8249262444291006.\u001b[0m\n",
      "\u001b[32m[I 2021-12-21 21:04:33,273]\u001b[0m Trial 982 finished with value: 0.7968238026489235 and parameters: {'learning_rate': 0.008434378629600562, 'n_estimators': 118, 'subsample': 0.9231351423514829, 'min_samples_split': 10, 'min_samples_leaf': 2, 'max_depth': 7, 'min_impurity_decrease': 0.7688754700572206, 'max_features': 3}. Best is trial 924 with value: 0.8249262444291006.\u001b[0m\n",
      "\u001b[32m[I 2021-12-21 21:04:34,174]\u001b[0m Trial 983 finished with value: 0.815956311593748 and parameters: {'learning_rate': 0.00902856777485744, 'n_estimators': 140, 'subsample': 0.9600688330236048, 'min_samples_split': 2, 'min_samples_leaf': 3, 'max_depth': 7, 'min_impurity_decrease': 0.8086183530825244, 'max_features': 15}. Best is trial 924 with value: 0.8249262444291006.\u001b[0m\n",
      "\u001b[32m[I 2021-12-21 21:04:35,089]\u001b[0m Trial 984 finished with value: 0.8159374803841566 and parameters: {'learning_rate': 0.00934288901035765, 'n_estimators': 129, 'subsample': 0.9626926138013713, 'min_samples_split': 12, 'min_samples_leaf': 4, 'max_depth': 7, 'min_impurity_decrease': 0.7621056171735564, 'max_features': 20}. Best is trial 924 with value: 0.8249262444291006.\u001b[0m\n",
      "\u001b[32m[I 2021-12-21 21:04:35,943]\u001b[0m Trial 985 finished with value: 0.8103571652752495 and parameters: {'learning_rate': 0.009465404602094826, 'n_estimators': 137, 'subsample': 0.9527302165146933, 'min_samples_split': 11, 'min_samples_leaf': 2, 'max_depth': 7, 'min_impurity_decrease': 0.979491588516413, 'max_features': 19}. Best is trial 924 with value: 0.8249262444291006.\u001b[0m\n",
      "\u001b[32m[I 2021-12-21 21:04:36,833]\u001b[0m Trial 986 finished with value: 0.7878475927437073 and parameters: {'learning_rate': 0.0023570116589304454, 'n_estimators': 142, 'subsample': 0.9666664262865649, 'min_samples_split': 9, 'min_samples_leaf': 9, 'max_depth': 7, 'min_impurity_decrease': 0.7547361902507109, 'max_features': 9}. Best is trial 924 with value: 0.8249262444291006.\u001b[0m\n",
      "\u001b[32m[I 2021-12-21 21:04:37,877]\u001b[0m Trial 987 finished with value: 0.8193145439708743 and parameters: {'learning_rate': 0.009170933193170512, 'n_estimators': 164, 'subsample': 0.972913248635137, 'min_samples_split': 9, 'min_samples_leaf': 3, 'max_depth': 7, 'min_impurity_decrease': 0.7790494061351592, 'max_features': 19}. Best is trial 924 with value: 0.8249262444291006.\u001b[0m\n",
      "\u001b[32m[I 2021-12-21 21:04:38,779]\u001b[0m Trial 988 finished with value: 0.8215554579122465 and parameters: {'learning_rate': 0.008880978683144433, 'n_estimators': 133, 'subsample': 0.9600992418041738, 'min_samples_split': 8, 'min_samples_leaf': 2, 'max_depth': 7, 'min_impurity_decrease': 0.7696595257703993, 'max_features': 18}. Best is trial 924 with value: 0.8249262444291006.\u001b[0m\n",
      "\u001b[32m[I 2021-12-21 21:04:39,072]\u001b[0m Trial 989 finished with value: 0.6161634548992531 and parameters: {'learning_rate': 0.006587870808684418, 'n_estimators': 27, 'subsample': 0.9621997664742113, 'min_samples_split': 11, 'min_samples_leaf': 2, 'max_depth': 5, 'min_impurity_decrease': 0.7763580780547582, 'max_features': 20}. Best is trial 924 with value: 0.8249262444291006.\u001b[0m\n"
     ]
    },
    {
     "name": "stderr",
     "output_type": "stream",
     "text": [
      "\u001b[32m[I 2021-12-21 21:04:39,963]\u001b[0m Trial 990 finished with value: 0.8148389931579938 and parameters: {'learning_rate': 0.009743591365172312, 'n_estimators': 136, 'subsample': 0.9665818463404542, 'min_samples_split': 13, 'min_samples_leaf': 3, 'max_depth': 7, 'min_impurity_decrease': 0.8650366400987024, 'max_features': 19}. Best is trial 924 with value: 0.8249262444291006.\u001b[0m\n",
      "\u001b[32m[I 2021-12-21 21:04:40,866]\u001b[0m Trial 991 finished with value: 0.8215554579122465 and parameters: {'learning_rate': 0.0094436062437568, 'n_estimators': 122, 'subsample': 0.9705801382560607, 'min_samples_split': 11, 'min_samples_leaf': 3, 'max_depth': 6, 'min_impurity_decrease': 0.7750278590621598, 'max_features': 20}. Best is trial 924 with value: 0.8249262444291006.\u001b[0m\n",
      "\u001b[32m[I 2021-12-21 21:04:41,780]\u001b[0m Trial 992 finished with value: 0.8215554579122465 and parameters: {'learning_rate': 0.009997650461490336, 'n_estimators': 139, 'subsample': 0.8777270194616824, 'min_samples_split': 11, 'min_samples_leaf': 2, 'max_depth': 7, 'min_impurity_decrease': 0.7871788360868461, 'max_features': 19}. Best is trial 924 with value: 0.8249262444291006.\u001b[0m\n",
      "\u001b[32m[I 2021-12-21 21:04:42,440]\u001b[0m Trial 993 finished with value: 0.809189630280585 and parameters: {'learning_rate': 0.009628648186690203, 'n_estimators': 133, 'subsample': 0.9673775378844258, 'min_samples_split': 7, 'min_samples_leaf': 3, 'max_depth': 4, 'min_impurity_decrease': 0.7926346856432535, 'max_features': 7}. Best is trial 924 with value: 0.8249262444291006.\u001b[0m\n",
      "\u001b[32m[I 2021-12-21 21:04:43,393]\u001b[0m Trial 994 finished with value: 0.8215617349821104 and parameters: {'learning_rate': 0.009729337472965697, 'n_estimators': 135, 'subsample': 0.986704378995328, 'min_samples_split': 6, 'min_samples_leaf': 2, 'max_depth': 7, 'min_impurity_decrease': 0.7734316201036505, 'max_features': 20}. Best is trial 924 with value: 0.8249262444291006.\u001b[0m\n",
      "\u001b[32m[I 2021-12-21 21:04:44,453]\u001b[0m Trial 995 finished with value: 0.6161634548992531 and parameters: {'learning_rate': 0.0012142440312681016, 'n_estimators': 124, 'subsample': 0.9761006350523559, 'min_samples_split': 15, 'min_samples_leaf': 2, 'max_depth': 7, 'min_impurity_decrease': 0.7587369471209058, 'max_features': 19}. Best is trial 924 with value: 0.8249262444291006.\u001b[0m\n",
      "\u001b[32m[I 2021-12-21 21:04:45,347]\u001b[0m Trial 996 finished with value: 0.8148076078086749 and parameters: {'learning_rate': 0.009105630990157034, 'n_estimators': 146, 'subsample': 0.938302649538536, 'min_samples_split': 9, 'min_samples_leaf': 3, 'max_depth': 7, 'min_impurity_decrease': 0.7830246178764446, 'max_features': 14}. Best is trial 924 with value: 0.8249262444291006.\u001b[0m\n",
      "\u001b[32m[I 2021-12-21 21:04:46,255]\u001b[0m Trial 997 finished with value: 0.8238026489234826 and parameters: {'learning_rate': 0.009833338262717149, 'n_estimators': 130, 'subsample': 0.97614654885502, 'min_samples_split': 12, 'min_samples_leaf': 2, 'max_depth': 7, 'min_impurity_decrease': 0.7770952736853476, 'max_features': 20}. Best is trial 924 with value: 0.8249262444291006.\u001b[0m\n",
      "\u001b[32m[I 2021-12-21 21:04:47,178]\u001b[0m Trial 998 finished with value: 0.8215554579122466 and parameters: {'learning_rate': 0.00963304743416405, 'n_estimators': 134, 'subsample': 0.9851971632363555, 'min_samples_split': 11, 'min_samples_leaf': 3, 'max_depth': 7, 'min_impurity_decrease': 0.7783005644183973, 'max_features': 20}. Best is trial 924 with value: 0.8249262444291006.\u001b[0m\n",
      "\u001b[32m[I 2021-12-21 21:04:48,066]\u001b[0m Trial 999 finished with value: 0.8215554579122466 and parameters: {'learning_rate': 0.008959743221294596, 'n_estimators': 131, 'subsample': 0.9278462586209513, 'min_samples_split': 9, 'min_samples_leaf': 2, 'max_depth': 7, 'min_impurity_decrease': 0.7638855885884307, 'max_features': 18}. Best is trial 924 with value: 0.8249262444291006.\u001b[0m\n"
     ]
    }
   ],
   "source": [
    "from sklearn.ensemble import GradientBoostingClassifier \n",
    "\n",
    "def objective(trial):\n",
    "    \n",
    "    learning_rate = trial.suggest_float('learning_rate', 1e-6, 1e-2)\n",
    "    n_estimators = trial.suggest_int('n_estimators', 20, 200)\n",
    "    subsample = trial.suggest_float('subsample', 0.75, 1)\n",
    "    min_samples_split = trial.suggest_int('min_samples_split', 2, 20)\n",
    "    min_samples_leaf = trial.suggest_int('min_samples_leaf', 2, 20)\n",
    "    max_depth = trial.suggest_int('max_depth', 3, 7)\n",
    "    min_impurity_decrease = trial.suggest_float('min_impurity_decrease', 0.75, 1)\n",
    "    max_features = trial.suggest_int('max_features', 3, 20)\n",
    "    \n",
    "    gbm = GradientBoostingClassifier(learning_rate = learning_rate,\n",
    "                                     n_estimators = n_estimators,\n",
    "                                     subsample = subsample,\n",
    "                                     min_samples_split = min_samples_split,\n",
    "                                     min_samples_leaf = min_samples_leaf,\n",
    "                                     max_depth = max_depth,\n",
    "                                     min_impurity_decrease = min_impurity_decrease,\n",
    "                                     random_state = 42,\n",
    "                                     max_features = max_features)\n",
    "    \n",
    "    kf = KFold(5, shuffle = True, random_state = 0)\n",
    "    kf.split(train)\n",
    "    \n",
    "    accuracy_scores = []\n",
    "    \n",
    "    for train_ix, test_ix in kf.split(train):\n",
    "        gbm.fit(train[features].iloc[train_ix,:], train['Survived'].iloc[train_ix])\n",
    "        preds = np.rint(gbm.predict(train[features].iloc[test_ix]))\n",
    "        \n",
    "        accuracy_scores.append(metrics.accuracy_score(train['Survived'].iloc[test_ix], preds))\n",
    "        \n",
    "    return np.mean(accuracy_scores)\n",
    "    \n",
    "\n",
    "# 3. Create a study object and optimize the objective function.\n",
    "study = optuna.create_study(direction='maximize')\n",
    "study.optimize(objective, n_trials=1000)"
   ]
  },
  {
   "cell_type": "code",
   "execution_count": null,
   "metadata": {},
   "outputs": [],
   "source": [
    "gbm = lgb.train(study.best_params, lgb.Dataset(train[features], label=train['Survived']))\n",
    "preds = gbm.predict(test[features])"
   ]
  },
  {
   "cell_type": "code",
   "execution_count": 96,
   "metadata": {},
   "outputs": [],
   "source": [
    "submission = pd.read_csv('data/submission.csv')"
   ]
  },
  {
   "cell_type": "code",
   "execution_count": 97,
   "metadata": {},
   "outputs": [],
   "source": [
    "submission['Survived'] = np.abs(np.rint(preds))"
   ]
  },
  {
   "cell_type": "code",
   "execution_count": 98,
   "metadata": {},
   "outputs": [],
   "source": [
    "submission.to_csv(\"data/submission.csv\", index = False)"
   ]
  }
 ],
 "metadata": {
  "kernelspec": {
   "display_name": "ml",
   "language": "python",
   "name": "ml"
  },
  "language_info": {
   "codemirror_mode": {
    "name": "ipython",
    "version": 3
   },
   "file_extension": ".py",
   "mimetype": "text/x-python",
   "name": "python",
   "nbconvert_exporter": "python",
   "pygments_lexer": "ipython3",
   "version": "3.7.9"
  }
 },
 "nbformat": 4,
 "nbformat_minor": 4
}
